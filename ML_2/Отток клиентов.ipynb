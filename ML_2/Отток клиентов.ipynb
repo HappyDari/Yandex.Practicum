{
 "cells": [
  {
   "cell_type": "markdown",
   "metadata": {},
   "source": [
    "# Отток клиентов"
   ]
  },
  {
   "cell_type": "markdown",
   "metadata": {},
   "source": [
    "Из банка стали уходить клиенты. Каждый месяц. Немного, но заметно. Банковские маркетологи посчитали: сохранять текущих клиентов дешевле, чем привлекать новых.\n",
    "\n",
    "Нужно спрогнозировать, уйдёт клиент из банка в ближайшее время или нет. Нам предоставлены исторические данные о поведении клиентов и расторжении договоров с банком. \n",
    "\n",
    "**Задача**\n",
    "\n",
    "Построить модель с предельно большим значением *F1*-меры, довести метрику до 0.59, проверить *F1*-меру на тестовой выборке.\n",
    "\n",
    "Источник данных: [https://www.kaggle.com/barelydedicated/bank-customer-churn-modeling](https://www.kaggle.com/barelydedicated/bank-customer-churn-modeling)"
   ]
  },
  {
   "cell_type": "markdown",
   "metadata": {
    "toc": true
   },
   "source": [
    "<h1>Содержание<span class=\"tocSkip\"></span></h1>\n",
    "<div class=\"toc\"><ul class=\"toc-item\"><li><span><a href=\"#Подготовка-данных\" data-toc-modified-id=\"Подготовка-данных-1\"><span class=\"toc-item-num\">1&nbsp;&nbsp;</span>Подготовка данных</a></span><ul class=\"toc-item\"><li><span><a href=\"#Изучение-данных\" data-toc-modified-id=\"Изучение-данных-1.1\"><span class=\"toc-item-num\">1.1&nbsp;&nbsp;</span>Изучение данных</a></span></li><li><span><a href=\"#Обработка-пропусков\" data-toc-modified-id=\"Обработка-пропусков-1.2\"><span class=\"toc-item-num\">1.2&nbsp;&nbsp;</span>Обработка пропусков</a></span></li><li><span><a href=\"#Кодирование-данных\" data-toc-modified-id=\"Кодирование-данных-1.3\"><span class=\"toc-item-num\">1.3&nbsp;&nbsp;</span>Кодирование данных</a></span></li><li><span><a href=\"#Разделение-на-выборки\" data-toc-modified-id=\"Разделение-на-выборки-1.4\"><span class=\"toc-item-num\">1.4&nbsp;&nbsp;</span>Разделение на выборки</a></span></li><li><span><a href=\"#Масштабирование-признаков\" data-toc-modified-id=\"Масштабирование-признаков-1.5\"><span class=\"toc-item-num\">1.5&nbsp;&nbsp;</span>Масштабирование признаков</a></span></li><li><span><a href=\"#Вывод:\" data-toc-modified-id=\"Вывод:-1.6\"><span class=\"toc-item-num\">1.6&nbsp;&nbsp;</span>Вывод:</a></span></li></ul></li><li><span><a href=\"#Исследование-задачи\" data-toc-modified-id=\"Исследование-задачи-2\"><span class=\"toc-item-num\">2&nbsp;&nbsp;</span>Исследование задачи</a></span><ul class=\"toc-item\"><li><span><a href=\"#Вывод:\" data-toc-modified-id=\"Вывод:-2.1\"><span class=\"toc-item-num\">2.1&nbsp;&nbsp;</span>Вывод:</a></span></li></ul></li><li><span><a href=\"#Борьба-с-дисбалансом\" data-toc-modified-id=\"Борьба-с-дисбалансом-3\"><span class=\"toc-item-num\">3&nbsp;&nbsp;</span>Борьба с дисбалансом</a></span><ul class=\"toc-item\"><li><span><a href=\"#Взвешивание-классов\" data-toc-modified-id=\"Взвешивание-классов-3.1\"><span class=\"toc-item-num\">3.1&nbsp;&nbsp;</span>Взвешивание классов</a></span></li><li><span><a href=\"#Уменьшение-выборки\" data-toc-modified-id=\"Уменьшение-выборки-3.2\"><span class=\"toc-item-num\">3.2&nbsp;&nbsp;</span>Уменьшение выборки</a></span></li><li><span><a href=\"#Увеличение-выборки\" data-toc-modified-id=\"Увеличение-выборки-3.3\"><span class=\"toc-item-num\">3.3&nbsp;&nbsp;</span>Увеличение выборки</a></span></li><li><span><a href=\"#Вывод:\" data-toc-modified-id=\"Вывод:-3.4\"><span class=\"toc-item-num\">3.4&nbsp;&nbsp;</span>Вывод:</a></span></li></ul></li><li><span><a href=\"#Тестирование-модели\" data-toc-modified-id=\"Тестирование-модели-4\"><span class=\"toc-item-num\">4&nbsp;&nbsp;</span>Тестирование модели</a></span><ul class=\"toc-item\"><li><span><a href=\"#Вывод:\" data-toc-modified-id=\"Вывод:-4.1\"><span class=\"toc-item-num\">4.1&nbsp;&nbsp;</span>Вывод:</a></span></li></ul></li></ul></div>"
   ]
  },
  {
   "cell_type": "markdown",
   "metadata": {},
   "source": [
    "## Подготовка данных"
   ]
  },
  {
   "cell_type": "markdown",
   "metadata": {},
   "source": [
    "### Изучение данных"
   ]
  },
  {
   "cell_type": "code",
   "execution_count": 2,
   "metadata": {
    "scrolled": false
   },
   "outputs": [],
   "source": [
    "# Импортируем все необходимые библиотеки\n",
    "import pandas as pd\n",
    "#!pip install fast_ml\n",
    "from fast_ml.model_development import train_valid_test_split\n",
    "from sklearn.preprocessing import StandardScaler \n",
    "from sklearn.utils import shuffle\n",
    "from sklearn.linear_model import LogisticRegression\n",
    "from sklearn.tree import DecisionTreeClassifier\n",
    "from sklearn.ensemble import RandomForestClassifier\n",
    "from sklearn.metrics import accuracy_score\n",
    "from sklearn.metrics import recall_score\n",
    "from sklearn.metrics import precision_score\n",
    "from sklearn.metrics import f1_score\n",
    "from sklearn.metrics import roc_auc_score "
   ]
  },
  {
   "cell_type": "code",
   "execution_count": 3,
   "metadata": {},
   "outputs": [
    {
     "name": "stdout",
     "output_type": "stream",
     "text": [
      "<class 'pandas.core.frame.DataFrame'>\n",
      "RangeIndex: 10000 entries, 0 to 9999\n",
      "Data columns (total 14 columns):\n",
      " #   Column           Non-Null Count  Dtype  \n",
      "---  ------           --------------  -----  \n",
      " 0   RowNumber        10000 non-null  int64  \n",
      " 1   CustomerId       10000 non-null  int64  \n",
      " 2   Surname          10000 non-null  object \n",
      " 3   CreditScore      10000 non-null  int64  \n",
      " 4   Geography        10000 non-null  object \n",
      " 5   Gender           10000 non-null  object \n",
      " 6   Age              10000 non-null  int64  \n",
      " 7   Tenure           9091 non-null   float64\n",
      " 8   Balance          10000 non-null  float64\n",
      " 9   NumOfProducts    10000 non-null  int64  \n",
      " 10  HasCrCard        10000 non-null  int64  \n",
      " 11  IsActiveMember   10000 non-null  int64  \n",
      " 12  EstimatedSalary  10000 non-null  float64\n",
      " 13  Exited           10000 non-null  int64  \n",
      "dtypes: float64(3), int64(8), object(3)\n",
      "memory usage: 1.1+ MB\n"
     ]
    },
    {
     "data": {
      "text/html": [
       "<div>\n",
       "<style scoped>\n",
       "    .dataframe tbody tr th:only-of-type {\n",
       "        vertical-align: middle;\n",
       "    }\n",
       "\n",
       "    .dataframe tbody tr th {\n",
       "        vertical-align: top;\n",
       "    }\n",
       "\n",
       "    .dataframe thead th {\n",
       "        text-align: right;\n",
       "    }\n",
       "</style>\n",
       "<table border=\"1\" class=\"dataframe\">\n",
       "  <thead>\n",
       "    <tr style=\"text-align: right;\">\n",
       "      <th></th>\n",
       "      <th>RowNumber</th>\n",
       "      <th>CustomerId</th>\n",
       "      <th>Surname</th>\n",
       "      <th>CreditScore</th>\n",
       "      <th>Geography</th>\n",
       "      <th>Gender</th>\n",
       "      <th>Age</th>\n",
       "      <th>Tenure</th>\n",
       "      <th>Balance</th>\n",
       "      <th>NumOfProducts</th>\n",
       "      <th>HasCrCard</th>\n",
       "      <th>IsActiveMember</th>\n",
       "      <th>EstimatedSalary</th>\n",
       "      <th>Exited</th>\n",
       "    </tr>\n",
       "  </thead>\n",
       "  <tbody>\n",
       "    <tr>\n",
       "      <th>0</th>\n",
       "      <td>1</td>\n",
       "      <td>15634602</td>\n",
       "      <td>Hargrave</td>\n",
       "      <td>619</td>\n",
       "      <td>France</td>\n",
       "      <td>Female</td>\n",
       "      <td>42</td>\n",
       "      <td>2.0</td>\n",
       "      <td>0.00</td>\n",
       "      <td>1</td>\n",
       "      <td>1</td>\n",
       "      <td>1</td>\n",
       "      <td>101348.88</td>\n",
       "      <td>1</td>\n",
       "    </tr>\n",
       "    <tr>\n",
       "      <th>1</th>\n",
       "      <td>2</td>\n",
       "      <td>15647311</td>\n",
       "      <td>Hill</td>\n",
       "      <td>608</td>\n",
       "      <td>Spain</td>\n",
       "      <td>Female</td>\n",
       "      <td>41</td>\n",
       "      <td>1.0</td>\n",
       "      <td>83807.86</td>\n",
       "      <td>1</td>\n",
       "      <td>0</td>\n",
       "      <td>1</td>\n",
       "      <td>112542.58</td>\n",
       "      <td>0</td>\n",
       "    </tr>\n",
       "    <tr>\n",
       "      <th>2</th>\n",
       "      <td>3</td>\n",
       "      <td>15619304</td>\n",
       "      <td>Onio</td>\n",
       "      <td>502</td>\n",
       "      <td>France</td>\n",
       "      <td>Female</td>\n",
       "      <td>42</td>\n",
       "      <td>8.0</td>\n",
       "      <td>159660.80</td>\n",
       "      <td>3</td>\n",
       "      <td>1</td>\n",
       "      <td>0</td>\n",
       "      <td>113931.57</td>\n",
       "      <td>1</td>\n",
       "    </tr>\n",
       "    <tr>\n",
       "      <th>3</th>\n",
       "      <td>4</td>\n",
       "      <td>15701354</td>\n",
       "      <td>Boni</td>\n",
       "      <td>699</td>\n",
       "      <td>France</td>\n",
       "      <td>Female</td>\n",
       "      <td>39</td>\n",
       "      <td>1.0</td>\n",
       "      <td>0.00</td>\n",
       "      <td>2</td>\n",
       "      <td>0</td>\n",
       "      <td>0</td>\n",
       "      <td>93826.63</td>\n",
       "      <td>0</td>\n",
       "    </tr>\n",
       "    <tr>\n",
       "      <th>4</th>\n",
       "      <td>5</td>\n",
       "      <td>15737888</td>\n",
       "      <td>Mitchell</td>\n",
       "      <td>850</td>\n",
       "      <td>Spain</td>\n",
       "      <td>Female</td>\n",
       "      <td>43</td>\n",
       "      <td>2.0</td>\n",
       "      <td>125510.82</td>\n",
       "      <td>1</td>\n",
       "      <td>1</td>\n",
       "      <td>1</td>\n",
       "      <td>79084.10</td>\n",
       "      <td>0</td>\n",
       "    </tr>\n",
       "  </tbody>\n",
       "</table>\n",
       "</div>"
      ],
      "text/plain": [
       "   RowNumber  CustomerId   Surname  CreditScore Geography  Gender  Age  \\\n",
       "0          1    15634602  Hargrave          619    France  Female   42   \n",
       "1          2    15647311      Hill          608     Spain  Female   41   \n",
       "2          3    15619304      Onio          502    France  Female   42   \n",
       "3          4    15701354      Boni          699    France  Female   39   \n",
       "4          5    15737888  Mitchell          850     Spain  Female   43   \n",
       "\n",
       "   Tenure    Balance  NumOfProducts  HasCrCard  IsActiveMember  \\\n",
       "0     2.0       0.00              1          1               1   \n",
       "1     1.0   83807.86              1          0               1   \n",
       "2     8.0  159660.80              3          1               0   \n",
       "3     1.0       0.00              2          0               0   \n",
       "4     2.0  125510.82              1          1               1   \n",
       "\n",
       "   EstimatedSalary  Exited  \n",
       "0        101348.88       1  \n",
       "1        112542.58       0  \n",
       "2        113931.57       1  \n",
       "3         93826.63       0  \n",
       "4         79084.10       0  "
      ]
     },
     "execution_count": 3,
     "metadata": {},
     "output_type": "execute_result"
    }
   ],
   "source": [
    "# откроем и изучим данные\n",
    "df = pd.read_csv('Churn.csv')\n",
    "\n",
    "df.info()\n",
    "df.head()"
   ]
  },
  {
   "cell_type": "markdown",
   "metadata": {},
   "source": [
    "Из документации к данным нам известно, что каждый объект в наборе данных -  информация об определенном клиенте банка.\n",
    "\n",
    "Столбцы в данных означают следующее:\n",
    "\n",
    "* `RowNumber` — индекс строки в данных\n",
    "* `CustomerId` — уникальный идентификатор клиента\n",
    "* `Surname` — фамилия\n",
    "* `CreditScore` — кредитный рейтинг\n",
    "* `Geography` — страна проживания\n",
    "* `Gender` — пол\n",
    "* `Age` — возраст\n",
    "* `Tenure` — сколько лет человек является клиентом банка\n",
    "* `Balance` — баланс на счёте\n",
    "* `NumOfProducts` — количество продуктов банка, используемых клиентом\n",
    "* `HasCrCard` — наличие кредитной карты\n",
    "* `IsActiveMember` — активность клиента\n",
    "* `EstimatedSalary` — предполагаемая зарплата\n",
    "* `Exited` — факт ухода клиента \n",
    "\n",
    "`Exited` - наш целевой признак"
   ]
  },
  {
   "cell_type": "markdown",
   "metadata": {},
   "source": [
    "### Обработка пропусков"
   ]
  },
  {
   "cell_type": "markdown",
   "metadata": {},
   "source": [
    "В столбце `Tenure` есть пропуски, посмотрим, есть ли корреляция между параметрами."
   ]
  },
  {
   "cell_type": "code",
   "execution_count": 3,
   "metadata": {},
   "outputs": [
    {
     "data": {
      "text/plain": [
       "RowNumber         -0.007322\n",
       "CustomerId        -0.021418\n",
       "CreditScore       -0.000062\n",
       "Age               -0.013134\n",
       "Tenure             1.000000\n",
       "Balance           -0.007911\n",
       "NumOfProducts      0.011979\n",
       "HasCrCard          0.027232\n",
       "IsActiveMember    -0.032178\n",
       "EstimatedSalary    0.010520\n",
       "Exited            -0.016761\n",
       "Name: Tenure, dtype: float64"
      ]
     },
     "execution_count": 3,
     "metadata": {},
     "output_type": "execute_result"
    }
   ],
   "source": [
    "df.corr()['Tenure']"
   ]
  },
  {
   "cell_type": "markdown",
   "metadata": {},
   "source": [
    "Количество лет, когда человек является клиентом банка не зависит от других признаков: корреляция близка к нулю, количество пропусков в среднем равно количеству значений в других катергориях, поэтому вынесем пропуски в данном столбце в отдельную категорию и далее преобразуем техникой OHE."
   ]
  },
  {
   "cell_type": "code",
   "execution_count": 4,
   "metadata": {
    "scrolled": false
   },
   "outputs": [
    {
     "name": "stdout",
     "output_type": "stream",
     "text": [
      "<class 'pandas.core.frame.DataFrame'>\n",
      "RangeIndex: 10000 entries, 0 to 9999\n",
      "Data columns (total 14 columns):\n",
      " #   Column           Non-Null Count  Dtype  \n",
      "---  ------           --------------  -----  \n",
      " 0   RowNumber        10000 non-null  int64  \n",
      " 1   CustomerId       10000 non-null  int64  \n",
      " 2   Surname          10000 non-null  object \n",
      " 3   CreditScore      10000 non-null  int64  \n",
      " 4   Geography        10000 non-null  object \n",
      " 5   Gender           10000 non-null  object \n",
      " 6   Age              10000 non-null  int64  \n",
      " 7   Tenure           10000 non-null  object \n",
      " 8   Balance          10000 non-null  float64\n",
      " 9   NumOfProducts    10000 non-null  int64  \n",
      " 10  HasCrCard        10000 non-null  int64  \n",
      " 11  IsActiveMember   10000 non-null  int64  \n",
      " 12  EstimatedSalary  10000 non-null  float64\n",
      " 13  Exited           10000 non-null  int64  \n",
      "dtypes: float64(2), int64(8), object(4)\n",
      "memory usage: 1.1+ MB\n"
     ]
    }
   ],
   "source": [
    "df['Tenure'][df['Tenure'].isna()] = -1\n",
    "df['Tenure'] = df['Tenure'].astype('object')\n",
    "df.info()"
   ]
  },
  {
   "cell_type": "markdown",
   "metadata": {},
   "source": [
    "### Кодирование данных"
   ]
  },
  {
   "cell_type": "markdown",
   "metadata": {},
   "source": [
    "В наборе данных встречаются категориальные признаки - это столбцы `Surname` - фамилия, `Geography` - страна проживания и `Gender` - пол.\n",
    "\n",
    "В столбцах фамилии и уникального идентификатора все признаки разные, это может помешать работе модели, поэтому данные столбцы мы можем удалить без сожаления."
   ]
  },
  {
   "cell_type": "code",
   "execution_count": 5,
   "metadata": {
    "scrolled": false
   },
   "outputs": [
    {
     "data": {
      "text/html": [
       "<div>\n",
       "<style scoped>\n",
       "    .dataframe tbody tr th:only-of-type {\n",
       "        vertical-align: middle;\n",
       "    }\n",
       "\n",
       "    .dataframe tbody tr th {\n",
       "        vertical-align: top;\n",
       "    }\n",
       "\n",
       "    .dataframe thead th {\n",
       "        text-align: right;\n",
       "    }\n",
       "</style>\n",
       "<table border=\"1\" class=\"dataframe\">\n",
       "  <thead>\n",
       "    <tr style=\"text-align: right;\">\n",
       "      <th></th>\n",
       "      <th>CreditScore</th>\n",
       "      <th>Geography</th>\n",
       "      <th>Gender</th>\n",
       "      <th>Age</th>\n",
       "      <th>Tenure</th>\n",
       "      <th>Balance</th>\n",
       "      <th>NumOfProducts</th>\n",
       "      <th>HasCrCard</th>\n",
       "      <th>IsActiveMember</th>\n",
       "      <th>EstimatedSalary</th>\n",
       "      <th>Exited</th>\n",
       "    </tr>\n",
       "  </thead>\n",
       "  <tbody>\n",
       "    <tr>\n",
       "      <th>0</th>\n",
       "      <td>619</td>\n",
       "      <td>France</td>\n",
       "      <td>Female</td>\n",
       "      <td>42</td>\n",
       "      <td>2.0</td>\n",
       "      <td>0.00</td>\n",
       "      <td>1</td>\n",
       "      <td>1</td>\n",
       "      <td>1</td>\n",
       "      <td>101348.88</td>\n",
       "      <td>1</td>\n",
       "    </tr>\n",
       "    <tr>\n",
       "      <th>1</th>\n",
       "      <td>608</td>\n",
       "      <td>Spain</td>\n",
       "      <td>Female</td>\n",
       "      <td>41</td>\n",
       "      <td>1.0</td>\n",
       "      <td>83807.86</td>\n",
       "      <td>1</td>\n",
       "      <td>0</td>\n",
       "      <td>1</td>\n",
       "      <td>112542.58</td>\n",
       "      <td>0</td>\n",
       "    </tr>\n",
       "    <tr>\n",
       "      <th>2</th>\n",
       "      <td>502</td>\n",
       "      <td>France</td>\n",
       "      <td>Female</td>\n",
       "      <td>42</td>\n",
       "      <td>8.0</td>\n",
       "      <td>159660.80</td>\n",
       "      <td>3</td>\n",
       "      <td>1</td>\n",
       "      <td>0</td>\n",
       "      <td>113931.57</td>\n",
       "      <td>1</td>\n",
       "    </tr>\n",
       "    <tr>\n",
       "      <th>3</th>\n",
       "      <td>699</td>\n",
       "      <td>France</td>\n",
       "      <td>Female</td>\n",
       "      <td>39</td>\n",
       "      <td>1.0</td>\n",
       "      <td>0.00</td>\n",
       "      <td>2</td>\n",
       "      <td>0</td>\n",
       "      <td>0</td>\n",
       "      <td>93826.63</td>\n",
       "      <td>0</td>\n",
       "    </tr>\n",
       "    <tr>\n",
       "      <th>4</th>\n",
       "      <td>850</td>\n",
       "      <td>Spain</td>\n",
       "      <td>Female</td>\n",
       "      <td>43</td>\n",
       "      <td>2.0</td>\n",
       "      <td>125510.82</td>\n",
       "      <td>1</td>\n",
       "      <td>1</td>\n",
       "      <td>1</td>\n",
       "      <td>79084.10</td>\n",
       "      <td>0</td>\n",
       "    </tr>\n",
       "  </tbody>\n",
       "</table>\n",
       "</div>"
      ],
      "text/plain": [
       "   CreditScore Geography  Gender  Age Tenure    Balance  NumOfProducts  \\\n",
       "0          619    France  Female   42    2.0       0.00              1   \n",
       "1          608     Spain  Female   41    1.0   83807.86              1   \n",
       "2          502    France  Female   42    8.0  159660.80              3   \n",
       "3          699    France  Female   39    1.0       0.00              2   \n",
       "4          850     Spain  Female   43    2.0  125510.82              1   \n",
       "\n",
       "   HasCrCard  IsActiveMember  EstimatedSalary  Exited  \n",
       "0          1               1        101348.88       1  \n",
       "1          0               1        112542.58       0  \n",
       "2          1               0        113931.57       1  \n",
       "3          0               0         93826.63       0  \n",
       "4          1               1         79084.10       0  "
      ]
     },
     "execution_count": 5,
     "metadata": {},
     "output_type": "execute_result"
    }
   ],
   "source": [
    "df = df.drop(['Surname', 'CustomerId', 'RowNumber'], axis=1)\n",
    "df.head(5)"
   ]
  },
  {
   "cell_type": "markdown",
   "metadata": {},
   "source": [
    "Страну проживания и пол клиента мы преобразуем в численные признаки. Предварительно посмотрим количество уникальных значений стран."
   ]
  },
  {
   "cell_type": "code",
   "execution_count": 6,
   "metadata": {},
   "outputs": [
    {
     "data": {
      "text/plain": [
       "France     5014\n",
       "Germany    2509\n",
       "Spain      2477\n",
       "Name: Geography, dtype: int64"
      ]
     },
     "execution_count": 6,
     "metadata": {},
     "output_type": "execute_result"
    }
   ],
   "source": [
    "df['Geography'].value_counts()"
   ]
  },
  {
   "cell_type": "markdown",
   "metadata": {},
   "source": [
    "Так как страны всего 3, нам подойдет техника прямого кодирования OHE."
   ]
  },
  {
   "cell_type": "code",
   "execution_count": 7,
   "metadata": {
    "scrolled": true
   },
   "outputs": [
    {
     "data": {
      "text/plain": [
       "Index(['CreditScore', 'Age', 'Balance', 'NumOfProducts', 'HasCrCard',\n",
       "       'IsActiveMember', 'EstimatedSalary', 'Exited', 'Geography_Germany',\n",
       "       'Geography_Spain', 'Gender_Male', 'Tenure_0.0', 'Tenure_1.0',\n",
       "       'Tenure_2.0', 'Tenure_3.0', 'Tenure_4.0', 'Tenure_5.0', 'Tenure_6.0',\n",
       "       'Tenure_7.0', 'Tenure_8.0', 'Tenure_9.0', 'Tenure_10.0'],\n",
       "      dtype='object')"
      ]
     },
     "execution_count": 7,
     "metadata": {},
     "output_type": "execute_result"
    }
   ],
   "source": [
    "df = pd.get_dummies(df, drop_first=True)\n",
    "df.columns"
   ]
  },
  {
   "cell_type": "code",
   "execution_count": 8,
   "metadata": {},
   "outputs": [
    {
     "name": "stdout",
     "output_type": "stream",
     "text": [
      "<class 'pandas.core.frame.DataFrame'>\n",
      "RangeIndex: 10000 entries, 0 to 9999\n",
      "Data columns (total 22 columns):\n",
      " #   Column             Non-Null Count  Dtype  \n",
      "---  ------             --------------  -----  \n",
      " 0   CreditScore        10000 non-null  int64  \n",
      " 1   Age                10000 non-null  int64  \n",
      " 2   Balance            10000 non-null  float64\n",
      " 3   NumOfProducts      10000 non-null  int64  \n",
      " 4   HasCrCard          10000 non-null  int64  \n",
      " 5   IsActiveMember     10000 non-null  int64  \n",
      " 6   EstimatedSalary    10000 non-null  float64\n",
      " 7   Exited             10000 non-null  int64  \n",
      " 8   Geography_Germany  10000 non-null  uint8  \n",
      " 9   Geography_Spain    10000 non-null  uint8  \n",
      " 10  Gender_Male        10000 non-null  uint8  \n",
      " 11  Tenure_0.0         10000 non-null  uint8  \n",
      " 12  Tenure_1.0         10000 non-null  uint8  \n",
      " 13  Tenure_2.0         10000 non-null  uint8  \n",
      " 14  Tenure_3.0         10000 non-null  uint8  \n",
      " 15  Tenure_4.0         10000 non-null  uint8  \n",
      " 16  Tenure_5.0         10000 non-null  uint8  \n",
      " 17  Tenure_6.0         10000 non-null  uint8  \n",
      " 18  Tenure_7.0         10000 non-null  uint8  \n",
      " 19  Tenure_8.0         10000 non-null  uint8  \n",
      " 20  Tenure_9.0         10000 non-null  uint8  \n",
      " 21  Tenure_10.0        10000 non-null  uint8  \n",
      "dtypes: float64(2), int64(6), uint8(14)\n",
      "memory usage: 761.8 KB\n"
     ]
    }
   ],
   "source": [
    "df.info()"
   ]
  },
  {
   "cell_type": "markdown",
   "metadata": {},
   "source": [
    "### Разделение на выборки"
   ]
  },
  {
   "cell_type": "code",
   "execution_count": 9,
   "metadata": {},
   "outputs": [
    {
     "data": {
      "text/plain": [
       "((6000, 21), (2000, 21), (2000, 21))"
      ]
     },
     "execution_count": 9,
     "metadata": {},
     "output_type": "execute_result"
    }
   ],
   "source": [
    "#разделим данные на валидационную, тестовую и тренировочную выборки: 20%, 20% и 60% соответственно\n",
    "features = df.drop('Exited', axis=1)\n",
    "target = df['Exited']\n",
    "\n",
    "\n",
    "features_train, target_train, features_valid, target_valid, features_test, target_test = train_valid_test_split(\n",
    "    df, target = 'Exited', train_size=0.6, valid_size=0.2, test_size=0.2)\n",
    "\n",
    "features_train.shape, features_valid.shape, features_test.shape"
   ]
  },
  {
   "cell_type": "markdown",
   "metadata": {},
   "source": [
    "### Масштабирование признаков"
   ]
  },
  {
   "cell_type": "code",
   "execution_count": 10,
   "metadata": {},
   "outputs": [
    {
     "data": {
      "text/html": [
       "<div>\n",
       "<style scoped>\n",
       "    .dataframe tbody tr th:only-of-type {\n",
       "        vertical-align: middle;\n",
       "    }\n",
       "\n",
       "    .dataframe tbody tr th {\n",
       "        vertical-align: top;\n",
       "    }\n",
       "\n",
       "    .dataframe thead th {\n",
       "        text-align: right;\n",
       "    }\n",
       "</style>\n",
       "<table border=\"1\" class=\"dataframe\">\n",
       "  <thead>\n",
       "    <tr style=\"text-align: right;\">\n",
       "      <th></th>\n",
       "      <th>CreditScore</th>\n",
       "      <th>Age</th>\n",
       "      <th>Balance</th>\n",
       "      <th>NumOfProducts</th>\n",
       "      <th>HasCrCard</th>\n",
       "      <th>IsActiveMember</th>\n",
       "      <th>EstimatedSalary</th>\n",
       "      <th>Geography_Germany</th>\n",
       "      <th>Geography_Spain</th>\n",
       "      <th>Gender_Male</th>\n",
       "      <th>...</th>\n",
       "      <th>Tenure_1.0</th>\n",
       "      <th>Tenure_2.0</th>\n",
       "      <th>Tenure_3.0</th>\n",
       "      <th>Tenure_4.0</th>\n",
       "      <th>Tenure_5.0</th>\n",
       "      <th>Tenure_6.0</th>\n",
       "      <th>Tenure_7.0</th>\n",
       "      <th>Tenure_8.0</th>\n",
       "      <th>Tenure_9.0</th>\n",
       "      <th>Tenure_10.0</th>\n",
       "    </tr>\n",
       "  </thead>\n",
       "  <tbody>\n",
       "    <tr>\n",
       "      <th>8133</th>\n",
       "      <td>0.712098</td>\n",
       "      <td>-0.480247</td>\n",
       "      <td>0.658466</td>\n",
       "      <td>0.807432</td>\n",
       "      <td>0.649721</td>\n",
       "      <td>0.963017</td>\n",
       "      <td>0.626147</td>\n",
       "      <td>-0.583509</td>\n",
       "      <td>-0.57966</td>\n",
       "      <td>-1.102198</td>\n",
       "      <td>...</td>\n",
       "      <td>-0.326813</td>\n",
       "      <td>-0.325249</td>\n",
       "      <td>3.074567</td>\n",
       "      <td>-0.309985</td>\n",
       "      <td>-0.321791</td>\n",
       "      <td>-0.310308</td>\n",
       "      <td>-0.32116</td>\n",
       "      <td>-0.315444</td>\n",
       "      <td>-0.31063</td>\n",
       "      <td>-0.207643</td>\n",
       "    </tr>\n",
       "    <tr>\n",
       "      <th>5745</th>\n",
       "      <td>-0.230703</td>\n",
       "      <td>-0.671880</td>\n",
       "      <td>-1.246727</td>\n",
       "      <td>0.807432</td>\n",
       "      <td>0.649721</td>\n",
       "      <td>0.963017</td>\n",
       "      <td>-1.466618</td>\n",
       "      <td>-0.583509</td>\n",
       "      <td>1.72515</td>\n",
       "      <td>0.907278</td>\n",
       "      <td>...</td>\n",
       "      <td>-0.326813</td>\n",
       "      <td>-0.325249</td>\n",
       "      <td>3.074567</td>\n",
       "      <td>-0.309985</td>\n",
       "      <td>-0.321791</td>\n",
       "      <td>-0.310308</td>\n",
       "      <td>-0.32116</td>\n",
       "      <td>-0.315444</td>\n",
       "      <td>-0.31063</td>\n",
       "      <td>-0.207643</td>\n",
       "    </tr>\n",
       "    <tr>\n",
       "      <th>2739</th>\n",
       "      <td>-0.272145</td>\n",
       "      <td>0.573732</td>\n",
       "      <td>0.968428</td>\n",
       "      <td>-0.900215</td>\n",
       "      <td>-1.539121</td>\n",
       "      <td>-1.038404</td>\n",
       "      <td>0.426561</td>\n",
       "      <td>-0.583509</td>\n",
       "      <td>-0.57966</td>\n",
       "      <td>0.907278</td>\n",
       "      <td>...</td>\n",
       "      <td>-0.326813</td>\n",
       "      <td>-0.325249</td>\n",
       "      <td>-0.325249</td>\n",
       "      <td>-0.309985</td>\n",
       "      <td>-0.321791</td>\n",
       "      <td>-0.310308</td>\n",
       "      <td>3.11371</td>\n",
       "      <td>-0.315444</td>\n",
       "      <td>-0.31063</td>\n",
       "      <td>-0.207643</td>\n",
       "    </tr>\n",
       "    <tr>\n",
       "      <th>6384</th>\n",
       "      <td>-1.266749</td>\n",
       "      <td>-0.767696</td>\n",
       "      <td>-1.246727</td>\n",
       "      <td>0.807432</td>\n",
       "      <td>0.649721</td>\n",
       "      <td>0.963017</td>\n",
       "      <td>1.312276</td>\n",
       "      <td>-0.583509</td>\n",
       "      <td>-0.57966</td>\n",
       "      <td>-1.102198</td>\n",
       "      <td>...</td>\n",
       "      <td>-0.326813</td>\n",
       "      <td>-0.325249</td>\n",
       "      <td>-0.325249</td>\n",
       "      <td>-0.309985</td>\n",
       "      <td>-0.321791</td>\n",
       "      <td>-0.310308</td>\n",
       "      <td>3.11371</td>\n",
       "      <td>-0.315444</td>\n",
       "      <td>-0.31063</td>\n",
       "      <td>-0.207643</td>\n",
       "    </tr>\n",
       "    <tr>\n",
       "      <th>2161</th>\n",
       "      <td>-0.935214</td>\n",
       "      <td>-0.671880</td>\n",
       "      <td>1.439770</td>\n",
       "      <td>-0.900215</td>\n",
       "      <td>0.649721</td>\n",
       "      <td>-1.038404</td>\n",
       "      <td>0.683906</td>\n",
       "      <td>1.713770</td>\n",
       "      <td>-0.57966</td>\n",
       "      <td>0.907278</td>\n",
       "      <td>...</td>\n",
       "      <td>-0.326813</td>\n",
       "      <td>-0.325249</td>\n",
       "      <td>-0.325249</td>\n",
       "      <td>-0.309985</td>\n",
       "      <td>-0.321791</td>\n",
       "      <td>3.222608</td>\n",
       "      <td>-0.32116</td>\n",
       "      <td>-0.315444</td>\n",
       "      <td>-0.31063</td>\n",
       "      <td>-0.207643</td>\n",
       "    </tr>\n",
       "  </tbody>\n",
       "</table>\n",
       "<p>5 rows × 21 columns</p>\n",
       "</div>"
      ],
      "text/plain": [
       "      CreditScore       Age   Balance  NumOfProducts  HasCrCard  \\\n",
       "8133     0.712098 -0.480247  0.658466       0.807432   0.649721   \n",
       "5745    -0.230703 -0.671880 -1.246727       0.807432   0.649721   \n",
       "2739    -0.272145  0.573732  0.968428      -0.900215  -1.539121   \n",
       "6384    -1.266749 -0.767696 -1.246727       0.807432   0.649721   \n",
       "2161    -0.935214 -0.671880  1.439770      -0.900215   0.649721   \n",
       "\n",
       "      IsActiveMember  EstimatedSalary  Geography_Germany  Geography_Spain  \\\n",
       "8133        0.963017         0.626147          -0.583509         -0.57966   \n",
       "5745        0.963017        -1.466618          -0.583509          1.72515   \n",
       "2739       -1.038404         0.426561          -0.583509         -0.57966   \n",
       "6384        0.963017         1.312276          -0.583509         -0.57966   \n",
       "2161       -1.038404         0.683906           1.713770         -0.57966   \n",
       "\n",
       "      Gender_Male  ...  Tenure_1.0  Tenure_2.0  Tenure_3.0  Tenure_4.0  \\\n",
       "8133    -1.102198  ...   -0.326813   -0.325249    3.074567   -0.309985   \n",
       "5745     0.907278  ...   -0.326813   -0.325249    3.074567   -0.309985   \n",
       "2739     0.907278  ...   -0.326813   -0.325249   -0.325249   -0.309985   \n",
       "6384    -1.102198  ...   -0.326813   -0.325249   -0.325249   -0.309985   \n",
       "2161     0.907278  ...   -0.326813   -0.325249   -0.325249   -0.309985   \n",
       "\n",
       "      Tenure_5.0  Tenure_6.0  Tenure_7.0  Tenure_8.0  Tenure_9.0  Tenure_10.0  \n",
       "8133   -0.321791   -0.310308    -0.32116   -0.315444    -0.31063    -0.207643  \n",
       "5745   -0.321791   -0.310308    -0.32116   -0.315444    -0.31063    -0.207643  \n",
       "2739   -0.321791   -0.310308     3.11371   -0.315444    -0.31063    -0.207643  \n",
       "6384   -0.321791   -0.310308     3.11371   -0.315444    -0.31063    -0.207643  \n",
       "2161   -0.321791    3.222608    -0.32116   -0.315444    -0.31063    -0.207643  \n",
       "\n",
       "[5 rows x 21 columns]"
      ]
     },
     "execution_count": 10,
     "metadata": {},
     "output_type": "execute_result"
    }
   ],
   "source": [
    "numeric = list(features_train.columns)\n",
    "\n",
    "scaler = StandardScaler()\n",
    "scaler.fit(features_train[numeric]) \n",
    "\n",
    "# преобразуем данные\n",
    "features_train[numeric] = scaler.transform(features_train[numeric])\n",
    "features_valid[numeric] = scaler.transform(features_valid[numeric])\n",
    "features_test[numeric] = scaler.transform(features_test[numeric])\n",
    "features_train.head(5)"
   ]
  },
  {
   "cell_type": "markdown",
   "metadata": {},
   "source": [
    "**Вывод:**\n",
    "\n",
    "Мы подготовили данные к исследованию: избавились от пропусков в данных, перевели качественные признаки в количественные, разделили на выборки и стандартизировали их."
   ]
  },
  {
   "cell_type": "markdown",
   "metadata": {},
   "source": [
    "## Исследование задачи"
   ]
  },
  {
   "cell_type": "markdown",
   "metadata": {},
   "source": [
    "Исследуем баланс классов"
   ]
  },
  {
   "cell_type": "code",
   "execution_count": 11,
   "metadata": {},
   "outputs": [
    {
     "data": {
      "text/plain": [
       "0    4748\n",
       "1    1252\n",
       "Name: Exited, dtype: int64"
      ]
     },
     "execution_count": 11,
     "metadata": {},
     "output_type": "execute_result"
    }
   ],
   "source": [
    "target_train.value_counts()"
   ]
  },
  {
   "cell_type": "markdown",
   "metadata": {},
   "source": [
    "Виден явный дисбаланс классов в пользу отрицательного класса. Если мы будем всех людей прогнозировать, что они не уйдут из банка, то в 80% случаев мы будем правы.\n",
    "\n",
    "Обучим модель классификации на решающем дереве и случайном лесе."
   ]
  },
  {
   "cell_type": "code",
   "execution_count": 12,
   "metadata": {},
   "outputs": [
    {
     "name": "stdout",
     "output_type": "stream",
     "text": [
      "Лучший результат дерева решений:  0.8515\n",
      "Лучшая модель дерева решений:  DecisionTreeClassifier(max_depth=4, random_state=12345)\n",
      " \n",
      "Лучший результат случайного леса:  0.8565\n",
      "Лучшая модель случайного леса:  RandomForestClassifier(max_depth=14, n_estimators=20, random_state=12345)\n"
     ]
    }
   ],
   "source": [
    "best_tree_model = ''\n",
    "best_tree_result = 0\n",
    "for depth in range(1, 20, 1):\n",
    "    model = DecisionTreeClassifier(random_state=12345, max_depth=depth)\n",
    "    model.fit(features_train, target_train)\n",
    "    prediction_valid = model.predict(features_valid)\n",
    "    accuracy = accuracy_score(target_valid, prediction_valid)\n",
    "    \n",
    "    if accuracy > best_tree_result:\n",
    "        best_tree_result = accuracy\n",
    "        best_tree_model = model\n",
    "print ('Лучший результат дерева решений: ', best_tree_result)\n",
    "print ('Лучшая модель дерева решений: ', best_tree_model)\n",
    "print (' ')\n",
    "\n",
    "\n",
    "best_forest_model = ''\n",
    "best_forest_result = 0\n",
    "for depth in range(1, 20, 1):\n",
    "    model = RandomForestClassifier(random_state=12345, max_depth=depth, n_estimators=20)\n",
    "    model.fit(features_train, target_train)\n",
    "    prediction_valid = model.predict(features_valid)\n",
    "    accuracy = accuracy_score(target_valid, prediction_valid)\n",
    "    \n",
    "    if accuracy > best_forest_result:\n",
    "        best_forest_result = accuracy\n",
    "        best_forest_model = model\n",
    "print ('Лучший результат случайного леса: ', best_forest_result)\n",
    "print ('Лучшая модель случайного леса: ', best_forest_model)\n"
   ]
  },
  {
   "cell_type": "markdown",
   "metadata": {},
   "source": [
    "Accuracy лучшей модели 86%, проверим модель на адекватность."
   ]
  },
  {
   "cell_type": "code",
   "execution_count": 13,
   "metadata": {},
   "outputs": [
    {
     "name": "stdout",
     "output_type": "stream",
     "text": [
      "0.7963\n"
     ]
    }
   ],
   "source": [
    "target_pred_constant = pd.Series(0, range(0, 10000))\n",
    "\n",
    "print (accuracy_score(target, target_pred_constant))"
   ]
  },
  {
   "cell_type": "markdown",
   "metadata": {},
   "source": [
    "У модели, которая прогнозирует всегда отрицательные ответы, также высокий показатель accuracy, оценим качество прогноза с помощью F1-меры."
   ]
  },
  {
   "cell_type": "code",
   "execution_count": 14,
   "metadata": {},
   "outputs": [
    {
     "name": "stdout",
     "output_type": "stream",
     "text": [
      "F1 мера решающего дерева:  0.49056603773584906\n",
      "F1 мера случайного леса:  0.5451664025356576\n"
     ]
    }
   ],
   "source": [
    "prediction_tree_valid = best_tree_model.predict(features_valid)\n",
    "prediction_forest_valid = best_forest_model.predict(features_valid)\n",
    "\n",
    "print ('F1 мера решающего дерева: ', f1_score(target_valid, prediction_tree_valid))\n",
    "print ('F1 мера случайного леса: ', f1_score(target_valid, prediction_forest_valid))"
   ]
  },
  {
   "cell_type": "markdown",
   "metadata": {},
   "source": [
    "Чтобы выявить, как сильно наша модель отличается от случайной, посчитаем дополнительно AUC-ROC и сравним её значение с F1-мерой."
   ]
  },
  {
   "cell_type": "code",
   "execution_count": 15,
   "metadata": {},
   "outputs": [
    {
     "name": "stdout",
     "output_type": "stream",
     "text": [
      "AUC-ROC решающего дерева:  0.66625\n",
      "AUC-ROC случайного леса:  0.6965625\n"
     ]
    }
   ],
   "source": [
    "print ('AUC-ROC решающего дерева: ', roc_auc_score(target_valid, prediction_tree_valid))\n",
    "print ('AUC-ROC случайного леса: ', roc_auc_score(target_valid, prediction_forest_valid))"
   ]
  },
  {
   "cell_type": "markdown",
   "metadata": {},
   "source": [
    "**Вывод:**\n",
    "\n",
    "Лучший результат F1-меры показал 0.57, чтобы успешно провести исследование, нам необходимо довести метрику F1 до 0.59. \n",
    "AUC-ROC случайной модели равна 0.5, а нашей лучшей модели равна 0.7."
   ]
  },
  {
   "cell_type": "markdown",
   "metadata": {},
   "source": [
    "## Борьба с дисбалансом"
   ]
  },
  {
   "cell_type": "markdown",
   "metadata": {},
   "source": [
    "Исследуем дисбаланс классов"
   ]
  },
  {
   "cell_type": "code",
   "execution_count": 16,
   "metadata": {},
   "outputs": [
    {
     "data": {
      "text/plain": [
       "0    4748\n",
       "1    1252\n",
       "Name: Exited, dtype: int64"
      ]
     },
     "execution_count": 16,
     "metadata": {},
     "output_type": "execute_result"
    }
   ],
   "source": [
    "target_train.value_counts()"
   ]
  },
  {
   "cell_type": "markdown",
   "metadata": {},
   "source": [
    "Положительных ответов в выборке гораздо меньше, чем отрицательных, исследуем три варианта балансировки классов."
   ]
  },
  {
   "cell_type": "markdown",
   "metadata": {},
   "source": [
    "### Взвешивание классов\n",
    "\n",
    "Придадим объектам редкого класса больший вес."
   ]
  },
  {
   "cell_type": "code",
   "execution_count": 17,
   "metadata": {},
   "outputs": [
    {
     "name": "stdout",
     "output_type": "stream",
     "text": [
      "F1-мера логистической регрессии:  0.525984251968504\n",
      "AUC-ROC логистической регрессии:  0.6875\n"
     ]
    }
   ],
   "source": [
    "model = LogisticRegression(random_state=12345, solver='liblinear', class_weight='balanced')\n",
    "model.fit(features_train, target_train)\n",
    "predicted_valid = model.predict(features_valid)\n",
    "\n",
    "print ('F1-мера логистической регрессии: ', f1_score(target_valid, prediction_valid))\n",
    "print ('AUC-ROC логистической регрессии: ', roc_auc_score(target_valid, prediction_valid))"
   ]
  },
  {
   "cell_type": "markdown",
   "metadata": {},
   "source": [
    "Метрики ухудшились, логистическая регрессия и взвешивание классов нам не подходят."
   ]
  },
  {
   "cell_type": "markdown",
   "metadata": {},
   "source": [
    "### Уменьшение выборки\n",
    "Уменьшим отрицательные ответы в четыре раза, чтобы сбалансировать выборки."
   ]
  },
  {
   "cell_type": "code",
   "execution_count": 18,
   "metadata": {},
   "outputs": [
    {
     "data": {
      "text/plain": [
       "1    1252\n",
       "0    1187\n",
       "Name: Exited, dtype: int64"
      ]
     },
     "execution_count": 18,
     "metadata": {},
     "output_type": "execute_result"
    }
   ],
   "source": [
    "def downsample(features, target, fraction):\n",
    "    features_zeros = features[target == 0]\n",
    "    features_ones = features[target == 1]\n",
    "    target_zeros = target[target == 0]\n",
    "    target_ones = target[target == 1]\n",
    "    \n",
    "    features_downsampled = pd.concat(\n",
    "        [features_zeros.sample(frac=fraction, random_state=12345)] + [features_ones])\n",
    "    \n",
    "    target_downsampled = pd.concat(\n",
    "        [target_zeros.sample(frac=fraction, random_state=12345)] + [target_ones])\n",
    "    \n",
    "    features_downsampled, target_downsampled = shuffle(\n",
    "        features_downsampled, target_downsampled, random_state=12345)\n",
    "    \n",
    "    return features_downsampled, target_downsampled\n",
    "\n",
    "features_downsampled, target_downsampled = downsample(features_train, target_train, 0.25)\n",
    "\n",
    "target_downsampled.value_counts()"
   ]
  },
  {
   "cell_type": "markdown",
   "metadata": {},
   "source": [
    "Обучим модель классификации на случайном лесе."
   ]
  },
  {
   "cell_type": "code",
   "execution_count": 19,
   "metadata": {},
   "outputs": [
    {
     "name": "stdout",
     "output_type": "stream",
     "text": [
      "F1-мера модели случайного леса:  0.5692599620493359\n",
      "AUC-ROC модели случайного леса:  0.764375\n"
     ]
    }
   ],
   "source": [
    "# случайный лес\n",
    "model = RandomForestClassifier(max_depth=11, n_estimators=20, random_state=12345)\n",
    "model.fit(features_downsampled, target_downsampled)\n",
    "prediction_valid = model.predict(features_valid)\n",
    "\n",
    "print ('F1-мера модели случайного леса: ', f1_score(target_valid, prediction_valid))\n",
    "print ('AUC-ROC модели случайного леса: ', roc_auc_score(target_valid, prediction_valid))"
   ]
  },
  {
   "cell_type": "markdown",
   "metadata": {},
   "source": [
    "Данный вариант балансировки нам тоже не подходит, попробуем увеличить выыборки."
   ]
  },
  {
   "cell_type": "markdown",
   "metadata": {},
   "source": [
    "### Увеличение выборки\n",
    "Увеличим положительные ответы в четыре раза, чтобы сбалансировать выборки."
   ]
  },
  {
   "cell_type": "code",
   "execution_count": 20,
   "metadata": {
    "scrolled": true
   },
   "outputs": [
    {
     "data": {
      "text/plain": [
       "1    5008\n",
       "0    4748\n",
       "Name: Exited, dtype: int64"
      ]
     },
     "execution_count": 20,
     "metadata": {},
     "output_type": "execute_result"
    }
   ],
   "source": [
    "def upsample(features, target, repeat):\n",
    "    features_1 = features[target == 1]\n",
    "    features_0 = features[target == 0]\n",
    "    target_1 = target[target == 1]\n",
    "    target_0 = target[target == 0]\n",
    "    \n",
    "    features = pd.concat([features_0] + [features_1] * repeat)\n",
    "    target = pd.concat([target_0] + [target_1] * repeat)\n",
    "    \n",
    "    features_upsampled, target_upsampled = shuffle(features, target, random_state=12345)\n",
    "    \n",
    "    return features_upsampled, target_upsampled\n",
    "\n",
    "features_upsampled, target_upsampled = upsample(features_train, target_train, 4)\n",
    "\n",
    "target_upsampled.value_counts()"
   ]
  },
  {
   "cell_type": "markdown",
   "metadata": {},
   "source": [
    "Обучим модель классификации на решающем дереве, случайном лесе и логистической регрессии."
   ]
  },
  {
   "cell_type": "code",
   "execution_count": 21,
   "metadata": {},
   "outputs": [
    {
     "name": "stdout",
     "output_type": "stream",
     "text": [
      "F1-мера модели решающего дерева:  0.560377358490566\n",
      "AUC-ROC модели решающего дерева:  0.7578125000000001\n",
      " \n",
      "F1-мера модели случайного леса:  0.6059225512528474\n",
      "AUC-ROC модели случайного леса:  0.76625\n",
      " \n",
      "F1-мера логистической регрессии:  0.48027444253859347\n",
      "AUC-ROC логистической регрессии:  0.698125\n"
     ]
    }
   ],
   "source": [
    "# дерево решений\n",
    "model = DecisionTreeClassifier(max_depth=6, random_state=12345)\n",
    "model.fit(features_upsampled, target_upsampled)\n",
    "prediction_valid = model.predict(features_valid)\n",
    "\n",
    "print ('F1-мера модели решающего дерева: ', f1_score(target_valid, prediction_valid))\n",
    "print ('AUC-ROC модели решающего дерева: ', roc_auc_score(target_valid, prediction_valid))\n",
    "print (' ')\n",
    "\n",
    "\n",
    "# случайный лес\n",
    "model = RandomForestClassifier(max_depth=11, n_estimators=20, random_state=12345)\n",
    "model.fit(features_upsampled, target_upsampled)\n",
    "prediction_valid = model.predict(features_valid)\n",
    "\n",
    "print ('F1-мера модели случайного леса: ', f1_score(target_valid, prediction_valid))\n",
    "print ('AUC-ROC модели случайного леса: ', roc_auc_score(target_valid, prediction_valid))\n",
    "print (' ')\n",
    "\n",
    "# логистическая регрессия\n",
    "model = LogisticRegression(random_state=12345)\n",
    "model.fit(features_upsampled, target_upsampled)\n",
    "prediction_valid = model.predict(features_valid)\n",
    "\n",
    "print ('F1-мера логистической регрессии: ', f1_score(target_valid, prediction_valid))\n",
    "print ('AUC-ROC логистической регрессии: ', roc_auc_score(target_valid, prediction_valid))"
   ]
  },
  {
   "cell_type": "markdown",
   "metadata": {},
   "source": [
    "Наилучшее значение показала модель случайного леса, попробуем увеличить метрику, меняя количество деревьев."
   ]
  },
  {
   "cell_type": "code",
   "execution_count": 22,
   "metadata": {},
   "outputs": [
    {
     "name": "stdout",
     "output_type": "stream",
     "text": [
      "Лучший результат:  0.6121372031662268\n",
      "Лучшая модель:  RandomForestClassifier(max_depth=19, n_estimators=40, random_state=12345)\n"
     ]
    }
   ],
   "source": [
    "best_model = ''\n",
    "best_result = 0\n",
    "for depth in range(1, 20, 1):\n",
    "    model = RandomForestClassifier(random_state=12345, max_depth=depth, n_estimators=40)\n",
    "    model.fit(features_upsampled, target_upsampled)\n",
    "    prediction_valid = model.predict(features_valid)\n",
    "    f1 = f1_score(target_valid, prediction_valid)\n",
    "    \n",
    "    if f1 > best_result:\n",
    "        best_result = f1\n",
    "        best_model = model\n",
    "print ('Лучший результат: ', best_result)\n",
    "print ('Лучшая модель: ', best_model)\n"
   ]
  },
  {
   "cell_type": "code",
   "execution_count": 23,
   "metadata": {},
   "outputs": [
    {
     "name": "stdout",
     "output_type": "stream",
     "text": [
      "AUC-ROC модели случайного леса:  0.74375\n"
     ]
    }
   ],
   "source": [
    "# сравним F1-меру и AUC-ROC\n",
    "\n",
    "model = RandomForestClassifier(random_state=12345, max_depth=15, n_estimators=40)\n",
    "model.fit(features_upsampled, target_upsampled)\n",
    "prediction_valid = model.predict(features_valid)\n",
    "\n",
    "print ('AUC-ROC модели случайного леса: ', roc_auc_score(target_valid, prediction_valid))"
   ]
  },
  {
   "cell_type": "markdown",
   "metadata": {},
   "source": [
    "**Вывод:**\n",
    "\n",
    "Мы добились точности модели 0.65 по F1-мере и по метрике AUC-ROC 0.8. Теперь необходимо протестировать модель и изучить метрики тестовой выборки."
   ]
  },
  {
   "cell_type": "markdown",
   "metadata": {},
   "source": [
    "## Тестирование модели"
   ]
  },
  {
   "cell_type": "code",
   "execution_count": 24,
   "metadata": {},
   "outputs": [
    {
     "name": "stdout",
     "output_type": "stream",
     "text": [
      "F1-мера модели:  0.6048387096774194\n",
      "AUC-ROC модели:  0.7507217240963371\n"
     ]
    }
   ],
   "source": [
    "prediction_valid = best_model.predict(features_test)\n",
    "\n",
    "print ('F1-мера модели: ', f1_score(target_test, prediction_valid))\n",
    "print ('AUC-ROC модели: ', roc_auc_score(target_test, prediction_valid))"
   ]
  },
  {
   "cell_type": "markdown",
   "metadata": {},
   "source": [
    "### Вывод:\n",
    "Модель прошла тестирование и показала результат F1-меры 0.6 и AUC-ROC 0.75. Наиболее удачная обученная модель - модель случайного леса с глубиной равной 15 и количеством деревьев равным 40. Данная модель поможет предсказать уйдёт клиент из банка в ближайшее время или нет."
   ]
  },
  {
   "cell_type": "markdown",
   "metadata": {},
   "source": [
    "В исследовании оттока клиентов из банка для поставленной задачи: обучить модель с метрикой F1 более 0.59, которая предсказывает уйдет клиент из банка или нет, было выполнено следующее:\n",
    "1. Подготовленны данные:\n",
    "* Изучены csv таблицы\n",
    "* Обработаны пропуски \n",
    "* Закодированы данные с помощью техники OHE\n",
    "* Разделены на выборки: тренировочную,валидационную и тестовую\n",
    "* Стандартизированы\n",
    "2. Данные изучены:\n",
    "* Выявлен дисбаланс в выборке и низкий показатель метрик F1 и AUC-ROC\n",
    "3. Достигнут баланс данных в выборке:\n",
    "* Методом увеличения положительных значений сбалансированны данные и достигнут высокий показатель метрик F1 (0.61) и AUC-ROC (0.77) с помощью классификационной модели случайного леса с глуиной 15 и количеством деревьев - 40 \n",
    "4. Модель протестирована:\n",
    "* Результат тестирования показал эффективность и адекватность модели за счет примерно равных значений метрик F1 (0.61) и AUC-ROC (0.76) тестовой и валидационной выборки.\n",
    "\n",
    " "
   ]
  }
 ],
 "metadata": {
  "ExecuteTimeLog": [
   {
    "duration": 1023,
    "start_time": "2022-07-05T18:50:10.261Z"
   },
   {
    "duration": 9,
    "start_time": "2022-07-05T18:50:34.862Z"
   },
   {
    "duration": 3,
    "start_time": "2022-07-05T18:50:43.362Z"
   },
   {
    "duration": 393,
    "start_time": "2022-07-05T18:52:41.813Z"
   },
   {
    "duration": 12,
    "start_time": "2022-07-05T19:08:58.713Z"
   },
   {
    "duration": 15,
    "start_time": "2022-07-05T19:09:30.419Z"
   },
   {
    "duration": 11,
    "start_time": "2022-07-05T19:09:33.921Z"
   },
   {
    "duration": 56,
    "start_time": "2022-07-05T19:09:40.946Z"
   },
   {
    "duration": 12,
    "start_time": "2022-07-05T19:09:42.193Z"
   },
   {
    "duration": 6,
    "start_time": "2022-07-05T19:14:43.486Z"
   },
   {
    "duration": 6,
    "start_time": "2022-07-05T19:14:57.206Z"
   },
   {
    "duration": 4,
    "start_time": "2022-07-05T19:15:01.908Z"
   },
   {
    "duration": 19,
    "start_time": "2022-07-05T19:17:17.987Z"
   },
   {
    "duration": 1326,
    "start_time": "2022-07-05T19:17:53.462Z"
   },
   {
    "duration": 73,
    "start_time": "2022-07-05T19:18:05.665Z"
   },
   {
    "duration": 12,
    "start_time": "2022-07-05T19:18:06.478Z"
   },
   {
    "duration": 6,
    "start_time": "2022-07-05T19:18:07.296Z"
   },
   {
    "duration": 8,
    "start_time": "2022-07-05T19:18:08.502Z"
   },
   {
    "duration": 58,
    "start_time": "2022-07-05T19:18:24.832Z"
   },
   {
    "duration": 17,
    "start_time": "2022-07-05T19:18:25.621Z"
   },
   {
    "duration": 6,
    "start_time": "2022-07-05T19:18:26.181Z"
   },
   {
    "duration": 19,
    "start_time": "2022-07-05T19:18:26.885Z"
   },
   {
    "duration": 10,
    "start_time": "2022-07-05T19:18:48.744Z"
   },
   {
    "duration": 9,
    "start_time": "2022-07-05T19:19:07.732Z"
   },
   {
    "duration": 56,
    "start_time": "2022-07-05T19:19:18.363Z"
   },
   {
    "duration": 12,
    "start_time": "2022-07-05T19:19:19.064Z"
   },
   {
    "duration": 6,
    "start_time": "2022-07-05T19:19:19.871Z"
   },
   {
    "duration": 4,
    "start_time": "2022-07-05T19:19:20.577Z"
   },
   {
    "duration": 59,
    "start_time": "2022-07-05T19:19:26.332Z"
   },
   {
    "duration": 13,
    "start_time": "2022-07-05T19:19:27.264Z"
   },
   {
    "duration": 6,
    "start_time": "2022-07-05T19:19:27.966Z"
   },
   {
    "duration": 4,
    "start_time": "2022-07-05T19:19:28.732Z"
   },
   {
    "duration": 3,
    "start_time": "2022-07-05T19:19:32.242Z"
   },
   {
    "duration": 4,
    "start_time": "2022-07-05T19:19:57.836Z"
   },
   {
    "duration": 5,
    "start_time": "2022-07-05T19:20:31.480Z"
   },
   {
    "duration": 8,
    "start_time": "2022-07-05T19:20:51.570Z"
   },
   {
    "duration": 1233,
    "start_time": "2022-07-05T19:21:08.912Z"
   },
   {
    "duration": 8,
    "start_time": "2022-07-05T19:21:13.265Z"
   },
   {
    "duration": 13,
    "start_time": "2022-07-05T19:21:27.325Z"
   },
   {
    "duration": 8,
    "start_time": "2022-07-05T19:23:25.011Z"
   },
   {
    "duration": 57,
    "start_time": "2022-07-05T19:23:34.341Z"
   },
   {
    "duration": 17,
    "start_time": "2022-07-05T19:23:35.336Z"
   },
   {
    "duration": 8,
    "start_time": "2022-07-05T19:23:36.119Z"
   },
   {
    "duration": 16,
    "start_time": "2022-07-05T19:23:36.899Z"
   },
   {
    "duration": 28,
    "start_time": "2022-07-05T19:23:43.514Z"
   },
   {
    "duration": 14,
    "start_time": "2022-07-05T19:27:00.912Z"
   },
   {
    "duration": 6,
    "start_time": "2022-07-05T19:32:38.443Z"
   },
   {
    "duration": 5,
    "start_time": "2022-07-05T19:33:43.852Z"
   },
   {
    "duration": 94,
    "start_time": "2022-07-05T19:33:54.792Z"
   },
   {
    "duration": 19,
    "start_time": "2022-07-05T19:33:58.599Z"
   },
   {
    "duration": 9,
    "start_time": "2022-07-05T19:36:06.382Z"
   },
   {
    "duration": 6,
    "start_time": "2022-07-05T19:36:11.730Z"
   },
   {
    "duration": 6,
    "start_time": "2022-07-05T19:36:28.074Z"
   },
   {
    "duration": 9,
    "start_time": "2022-07-05T19:36:44.025Z"
   },
   {
    "duration": 16,
    "start_time": "2022-07-05T19:36:49.001Z"
   },
   {
    "duration": 6,
    "start_time": "2022-07-05T19:37:10.032Z"
   },
   {
    "duration": 8,
    "start_time": "2022-07-05T19:37:30.285Z"
   },
   {
    "duration": 8,
    "start_time": "2022-07-05T19:37:39.201Z"
   },
   {
    "duration": 9,
    "start_time": "2022-07-05T19:37:52.210Z"
   },
   {
    "duration": 12,
    "start_time": "2022-07-05T19:38:13.221Z"
   },
   {
    "duration": 19,
    "start_time": "2022-07-05T19:38:35.772Z"
   },
   {
    "duration": 57,
    "start_time": "2022-07-05T19:38:54.446Z"
   },
   {
    "duration": 22,
    "start_time": "2022-07-05T19:39:00.857Z"
   },
   {
    "duration": 720,
    "start_time": "2022-07-05T19:43:09.944Z"
   },
   {
    "duration": 345,
    "start_time": "2022-07-05T19:45:42.908Z"
   },
   {
    "duration": 326,
    "start_time": "2022-07-05T19:46:00.882Z"
   },
   {
    "duration": 378,
    "start_time": "2022-07-05T19:46:13.103Z"
   },
   {
    "duration": 415,
    "start_time": "2022-07-05T19:46:23.548Z"
   },
   {
    "duration": 49,
    "start_time": "2022-07-08T18:30:05.117Z"
   },
   {
    "duration": 4626,
    "start_time": "2022-07-08T18:30:17.576Z"
   },
   {
    "duration": 11,
    "start_time": "2022-07-08T18:30:22.204Z"
   },
   {
    "duration": 9,
    "start_time": "2022-07-08T18:30:22.217Z"
   },
   {
    "duration": 9,
    "start_time": "2022-07-08T18:30:44.239Z"
   },
   {
    "duration": 9,
    "start_time": "2022-07-08T18:30:59.757Z"
   },
   {
    "duration": 10,
    "start_time": "2022-07-08T18:32:24.687Z"
   },
   {
    "duration": 84,
    "start_time": "2022-07-08T18:32:33.541Z"
   },
   {
    "duration": 14,
    "start_time": "2022-07-08T18:32:51.241Z"
   },
   {
    "duration": 10,
    "start_time": "2022-07-08T18:33:46.036Z"
   },
   {
    "duration": 16,
    "start_time": "2022-07-08T18:34:09.621Z"
   },
   {
    "duration": 15,
    "start_time": "2022-07-08T18:35:16.812Z"
   },
   {
    "duration": 22,
    "start_time": "2022-07-08T18:35:49.040Z"
   },
   {
    "duration": 16,
    "start_time": "2022-07-08T18:35:54.088Z"
   },
   {
    "duration": 17,
    "start_time": "2022-07-08T18:35:59.867Z"
   },
   {
    "duration": 27,
    "start_time": "2022-07-08T18:39:17.387Z"
   },
   {
    "duration": 19,
    "start_time": "2022-07-08T18:39:19.620Z"
   },
   {
    "duration": 20,
    "start_time": "2022-07-08T18:40:39.292Z"
   },
   {
    "duration": 18,
    "start_time": "2022-07-08T18:40:49.691Z"
   },
   {
    "duration": 20,
    "start_time": "2022-07-08T18:41:05.013Z"
   },
   {
    "duration": 17,
    "start_time": "2022-07-08T18:41:12.338Z"
   },
   {
    "duration": 21,
    "start_time": "2022-07-08T18:41:31.052Z"
   },
   {
    "duration": 13,
    "start_time": "2022-07-08T18:41:47.536Z"
   },
   {
    "duration": 16,
    "start_time": "2022-07-08T18:42:19.756Z"
   },
   {
    "duration": 17,
    "start_time": "2022-07-08T18:42:28.748Z"
   },
   {
    "duration": 2292,
    "start_time": "2022-07-08T18:42:34.441Z"
   },
   {
    "duration": 10,
    "start_time": "2022-07-08T18:42:36.735Z"
   },
   {
    "duration": 12,
    "start_time": "2022-07-08T18:42:37.514Z"
   },
   {
    "duration": 17,
    "start_time": "2022-07-08T18:42:39.523Z"
   },
   {
    "duration": 9,
    "start_time": "2022-07-08T18:42:41.504Z"
   },
   {
    "duration": 36,
    "start_time": "2022-07-08T18:42:43.470Z"
   },
   {
    "duration": 21,
    "start_time": "2022-07-08T18:43:05.891Z"
   },
   {
    "duration": 11,
    "start_time": "2022-07-08T18:43:11.471Z"
   },
   {
    "duration": 2215,
    "start_time": "2022-07-08T18:47:34.487Z"
   },
   {
    "duration": 11,
    "start_time": "2022-07-08T18:47:36.705Z"
   },
   {
    "duration": 13,
    "start_time": "2022-07-08T18:47:36.718Z"
   },
   {
    "duration": 17,
    "start_time": "2022-07-08T18:47:38.278Z"
   },
   {
    "duration": 7,
    "start_time": "2022-07-08T18:47:39.937Z"
   },
   {
    "duration": 15,
    "start_time": "2022-07-08T18:47:40.965Z"
   },
   {
    "duration": 17,
    "start_time": "2022-07-08T18:47:43.593Z"
   },
   {
    "duration": 12,
    "start_time": "2022-07-08T18:49:06.637Z"
   },
   {
    "duration": 29,
    "start_time": "2022-07-08T18:51:01.140Z"
   },
   {
    "duration": 14,
    "start_time": "2022-07-08T18:51:45.708Z"
   },
   {
    "duration": 6,
    "start_time": "2022-07-08T18:51:55.320Z"
   },
   {
    "duration": 2135,
    "start_time": "2022-07-08T18:52:05.889Z"
   },
   {
    "duration": 11,
    "start_time": "2022-07-08T18:52:08.026Z"
   },
   {
    "duration": 2280,
    "start_time": "2022-07-08T18:52:56.299Z"
   },
   {
    "duration": 9,
    "start_time": "2022-07-08T18:52:58.581Z"
   },
   {
    "duration": 12,
    "start_time": "2022-07-08T18:52:58.592Z"
   },
   {
    "duration": 19,
    "start_time": "2022-07-08T18:52:58.964Z"
   },
   {
    "duration": 6,
    "start_time": "2022-07-08T18:52:59.701Z"
   },
   {
    "duration": 15,
    "start_time": "2022-07-08T18:53:00.296Z"
   },
   {
    "duration": 14,
    "start_time": "2022-07-08T18:53:01.359Z"
   },
   {
    "duration": 2235,
    "start_time": "2022-07-08T18:53:09.380Z"
   },
   {
    "duration": 9,
    "start_time": "2022-07-08T18:53:11.617Z"
   },
   {
    "duration": 10,
    "start_time": "2022-07-08T18:53:11.628Z"
   },
   {
    "duration": 15,
    "start_time": "2022-07-08T18:53:12.679Z"
   },
   {
    "duration": 11,
    "start_time": "2022-07-08T18:53:13.900Z"
   },
   {
    "duration": 16,
    "start_time": "2022-07-08T18:53:14.751Z"
   },
   {
    "duration": 16,
    "start_time": "2022-07-08T18:53:16.520Z"
   },
   {
    "duration": 15,
    "start_time": "2022-07-08T18:53:31.720Z"
   },
   {
    "duration": 19,
    "start_time": "2022-07-08T18:53:33.651Z"
   },
   {
    "duration": 6,
    "start_time": "2022-07-08T18:53:35.879Z"
   },
   {
    "duration": 2173,
    "start_time": "2022-07-08T18:53:47.399Z"
   },
   {
    "duration": 4,
    "start_time": "2022-07-08T18:53:49.574Z"
   },
   {
    "duration": 19,
    "start_time": "2022-07-08T18:53:50.679Z"
   },
   {
    "duration": 9,
    "start_time": "2022-07-08T18:53:53.991Z"
   },
   {
    "duration": 5,
    "start_time": "2022-07-08T18:53:56.873Z"
   },
   {
    "duration": 68,
    "start_time": "2022-07-08T18:53:58.579Z"
   },
   {
    "duration": 29,
    "start_time": "2022-07-08T18:54:00.381Z"
   },
   {
    "duration": 19,
    "start_time": "2022-07-08T18:54:13.898Z"
   },
   {
    "duration": 2205,
    "start_time": "2022-07-08T18:54:42.578Z"
   },
   {
    "duration": 10,
    "start_time": "2022-07-08T18:54:44.785Z"
   },
   {
    "duration": 12,
    "start_time": "2022-07-08T18:54:44.796Z"
   },
   {
    "duration": 14,
    "start_time": "2022-07-08T18:54:46.498Z"
   },
   {
    "duration": 8,
    "start_time": "2022-07-08T18:54:47.390Z"
   },
   {
    "duration": 21,
    "start_time": "2022-07-08T18:54:48.091Z"
   },
   {
    "duration": 18,
    "start_time": "2022-07-08T18:54:49.505Z"
   },
   {
    "duration": 20,
    "start_time": "2022-07-08T18:54:54.419Z"
   },
   {
    "duration": 9,
    "start_time": "2022-07-08T18:55:02.490Z"
   },
   {
    "duration": 2253,
    "start_time": "2022-07-08T18:55:03.279Z"
   },
   {
    "duration": 5,
    "start_time": "2022-07-08T18:55:05.534Z"
   },
   {
    "duration": 16,
    "start_time": "2022-07-08T18:55:05.546Z"
   },
   {
    "duration": 7,
    "start_time": "2022-07-08T18:55:05.564Z"
   },
   {
    "duration": 6,
    "start_time": "2022-07-08T18:55:06.390Z"
   },
   {
    "duration": 39,
    "start_time": "2022-07-08T18:55:07.518Z"
   },
   {
    "duration": 23,
    "start_time": "2022-07-08T18:55:09.158Z"
   },
   {
    "duration": 46,
    "start_time": "2022-07-09T09:01:12.064Z"
   },
   {
    "duration": 4317,
    "start_time": "2022-07-09T09:01:17.646Z"
   },
   {
    "duration": 11,
    "start_time": "2022-07-09T09:01:21.965Z"
   },
   {
    "duration": 10,
    "start_time": "2022-07-09T09:01:21.978Z"
   },
   {
    "duration": 88,
    "start_time": "2022-07-09T09:01:31.244Z"
   },
   {
    "duration": 15,
    "start_time": "2022-07-09T09:01:40.634Z"
   },
   {
    "duration": 12,
    "start_time": "2022-07-09T09:01:46.202Z"
   },
   {
    "duration": 13,
    "start_time": "2022-07-09T09:01:50.867Z"
   },
   {
    "duration": 10,
    "start_time": "2022-07-09T09:01:55.297Z"
   },
   {
    "duration": 10,
    "start_time": "2022-07-09T09:05:21.027Z"
   },
   {
    "duration": 12,
    "start_time": "2022-07-09T09:05:26.058Z"
   },
   {
    "duration": 10,
    "start_time": "2022-07-09T09:05:29.425Z"
   },
   {
    "duration": 10,
    "start_time": "2022-07-09T09:05:42.992Z"
   },
   {
    "duration": 12,
    "start_time": "2022-07-09T09:07:03.220Z"
   },
   {
    "duration": 9,
    "start_time": "2022-07-09T09:07:09.340Z"
   },
   {
    "duration": 9,
    "start_time": "2022-07-09T09:07:15.703Z"
   },
   {
    "duration": 11,
    "start_time": "2022-07-09T09:08:08.309Z"
   },
   {
    "duration": 17,
    "start_time": "2022-07-09T09:09:16.754Z"
   },
   {
    "duration": 11,
    "start_time": "2022-07-09T09:09:22.744Z"
   },
   {
    "duration": 13,
    "start_time": "2022-07-09T09:10:57.425Z"
   },
   {
    "duration": 6,
    "start_time": "2022-07-09T09:11:04.116Z"
   },
   {
    "duration": 16,
    "start_time": "2022-07-09T09:11:07.261Z"
   },
   {
    "duration": 14,
    "start_time": "2022-07-09T09:11:39.347Z"
   },
   {
    "duration": 18,
    "start_time": "2022-07-09T09:11:40.773Z"
   },
   {
    "duration": 5,
    "start_time": "2022-07-09T09:12:05.888Z"
   },
   {
    "duration": 1943,
    "start_time": "2022-07-09T09:12:11.632Z"
   },
   {
    "duration": 4,
    "start_time": "2022-07-09T09:12:25.489Z"
   },
   {
    "duration": 17,
    "start_time": "2022-07-09T09:12:41.637Z"
   },
   {
    "duration": 7,
    "start_time": "2022-07-09T09:12:43.393Z"
   },
   {
    "duration": 5,
    "start_time": "2022-07-09T09:13:05.793Z"
   },
   {
    "duration": 24,
    "start_time": "2022-07-09T09:13:09.527Z"
   },
   {
    "duration": 19,
    "start_time": "2022-07-09T09:13:39.864Z"
   },
   {
    "duration": 9,
    "start_time": "2022-07-09T09:16:03.234Z"
   },
   {
    "duration": 2072,
    "start_time": "2022-07-09T09:16:22.633Z"
   },
   {
    "duration": 8,
    "start_time": "2022-07-09T09:16:24.707Z"
   },
   {
    "duration": 10,
    "start_time": "2022-07-09T09:16:25.279Z"
   },
   {
    "duration": 13,
    "start_time": "2022-07-09T09:16:33.131Z"
   },
   {
    "duration": 7,
    "start_time": "2022-07-09T09:16:34.870Z"
   },
   {
    "duration": 14,
    "start_time": "2022-07-09T09:16:35.885Z"
   },
   {
    "duration": 13,
    "start_time": "2022-07-09T09:16:37.972Z"
   },
   {
    "duration": 20,
    "start_time": "2022-07-09T09:16:39.738Z"
   },
   {
    "duration": 5,
    "start_time": "2022-07-09T09:16:48.566Z"
   },
   {
    "duration": 1921,
    "start_time": "2022-07-09T09:16:49.455Z"
   },
   {
    "duration": 4,
    "start_time": "2022-07-09T09:16:51.378Z"
   },
   {
    "duration": 19,
    "start_time": "2022-07-09T09:16:51.383Z"
   },
   {
    "duration": 7,
    "start_time": "2022-07-09T09:16:51.774Z"
   },
   {
    "duration": 6,
    "start_time": "2022-07-09T09:16:53.437Z"
   },
   {
    "duration": 38,
    "start_time": "2022-07-09T09:16:54.509Z"
   },
   {
    "duration": 19,
    "start_time": "2022-07-09T09:16:56.146Z"
   },
   {
    "duration": 15,
    "start_time": "2022-07-09T09:21:24.911Z"
   },
   {
    "duration": 836,
    "start_time": "2022-07-09T09:21:43.677Z"
   },
   {
    "duration": 2028,
    "start_time": "2022-07-09T09:21:51.879Z"
   },
   {
    "duration": 11,
    "start_time": "2022-07-09T09:21:53.959Z"
   },
   {
    "duration": 10,
    "start_time": "2022-07-09T09:21:55.231Z"
   },
   {
    "duration": 12,
    "start_time": "2022-07-09T09:22:00.592Z"
   },
   {
    "duration": 6,
    "start_time": "2022-07-09T09:22:02.570Z"
   },
   {
    "duration": 12,
    "start_time": "2022-07-09T09:22:03.739Z"
   },
   {
    "duration": 10,
    "start_time": "2022-07-09T09:22:14.114Z"
   },
   {
    "duration": 18,
    "start_time": "2022-07-09T09:22:16.455Z"
   },
   {
    "duration": 19,
    "start_time": "2022-07-09T09:22:34.274Z"
   },
   {
    "duration": 18,
    "start_time": "2022-07-09T09:22:44.578Z"
   },
   {
    "duration": 14,
    "start_time": "2022-07-09T09:22:53.105Z"
   },
   {
    "duration": 2020,
    "start_time": "2022-07-09T09:22:58.424Z"
   },
   {
    "duration": 10,
    "start_time": "2022-07-09T09:23:00.446Z"
   },
   {
    "duration": 21,
    "start_time": "2022-07-09T09:23:00.457Z"
   },
   {
    "duration": 14,
    "start_time": "2022-07-09T09:23:02.704Z"
   },
   {
    "duration": 7,
    "start_time": "2022-07-09T09:23:06.458Z"
   },
   {
    "duration": 14,
    "start_time": "2022-07-09T09:23:07.623Z"
   },
   {
    "duration": 11,
    "start_time": "2022-07-09T09:23:19.644Z"
   },
   {
    "duration": 15,
    "start_time": "2022-07-09T09:23:59.052Z"
   },
   {
    "duration": 20,
    "start_time": "2022-07-09T09:24:00.059Z"
   },
   {
    "duration": 5,
    "start_time": "2022-07-09T09:24:41.388Z"
   },
   {
    "duration": 1947,
    "start_time": "2022-07-09T09:24:42.706Z"
   },
   {
    "duration": 5,
    "start_time": "2022-07-09T09:24:45.932Z"
   },
   {
    "duration": 17,
    "start_time": "2022-07-09T09:24:46.740Z"
   },
   {
    "duration": 7,
    "start_time": "2022-07-09T09:24:47.733Z"
   },
   {
    "duration": 4,
    "start_time": "2022-07-09T09:24:49.940Z"
   },
   {
    "duration": 23,
    "start_time": "2022-07-09T09:24:51.010Z"
   },
   {
    "duration": 19,
    "start_time": "2022-07-09T09:24:52.441Z"
   },
   {
    "duration": 10,
    "start_time": "2022-07-09T09:24:57.709Z"
   },
   {
    "duration": 24,
    "start_time": "2022-07-09T09:25:03.651Z"
   },
   {
    "duration": 13,
    "start_time": "2022-07-09T09:36:33.640Z"
   },
   {
    "duration": 2120,
    "start_time": "2022-07-09T09:36:38.334Z"
   },
   {
    "duration": 8,
    "start_time": "2022-07-09T09:36:40.456Z"
   },
   {
    "duration": 15,
    "start_time": "2022-07-09T09:36:40.466Z"
   },
   {
    "duration": 13,
    "start_time": "2022-07-09T09:36:41.819Z"
   },
   {
    "duration": 7,
    "start_time": "2022-07-09T09:36:43.803Z"
   },
   {
    "duration": 13,
    "start_time": "2022-07-09T09:36:44.790Z"
   },
   {
    "duration": 13,
    "start_time": "2022-07-09T09:36:45.556Z"
   },
   {
    "duration": 14,
    "start_time": "2022-07-09T09:36:49.339Z"
   },
   {
    "duration": 21,
    "start_time": "2022-07-09T09:36:51.059Z"
   },
   {
    "duration": 13,
    "start_time": "2022-07-09T09:37:20.233Z"
   },
   {
    "duration": 2090,
    "start_time": "2022-07-09T09:37:25.329Z"
   },
   {
    "duration": 9,
    "start_time": "2022-07-09T09:37:27.421Z"
   },
   {
    "duration": 19,
    "start_time": "2022-07-09T09:37:27.431Z"
   },
   {
    "duration": 13,
    "start_time": "2022-07-09T09:37:29.625Z"
   },
   {
    "duration": 7,
    "start_time": "2022-07-09T09:37:32.172Z"
   },
   {
    "duration": 12,
    "start_time": "2022-07-09T09:37:33.155Z"
   },
   {
    "duration": 11,
    "start_time": "2022-07-09T09:37:33.541Z"
   },
   {
    "duration": 14,
    "start_time": "2022-07-09T09:37:35.847Z"
   },
   {
    "duration": 18,
    "start_time": "2022-07-09T09:37:37.683Z"
   },
   {
    "duration": 5,
    "start_time": "2022-07-09T09:37:43.205Z"
   },
   {
    "duration": 1983,
    "start_time": "2022-07-09T09:37:44.548Z"
   },
   {
    "duration": 5,
    "start_time": "2022-07-09T09:37:46.532Z"
   },
   {
    "duration": 21,
    "start_time": "2022-07-09T09:37:46.538Z"
   },
   {
    "duration": 12,
    "start_time": "2022-07-09T09:37:47.334Z"
   },
   {
    "duration": 5,
    "start_time": "2022-07-09T09:37:49.709Z"
   },
   {
    "duration": 24,
    "start_time": "2022-07-09T09:37:51.467Z"
   },
   {
    "duration": 28,
    "start_time": "2022-07-09T09:38:51.185Z"
   },
   {
    "duration": 21,
    "start_time": "2022-07-09T09:39:03.665Z"
   },
   {
    "duration": 15,
    "start_time": "2022-07-09T09:39:55.819Z"
   },
   {
    "duration": 2144,
    "start_time": "2022-07-09T09:40:02.626Z"
   },
   {
    "duration": 10,
    "start_time": "2022-07-09T09:40:04.772Z"
   },
   {
    "duration": 16,
    "start_time": "2022-07-09T09:40:04.784Z"
   },
   {
    "duration": 14,
    "start_time": "2022-07-09T09:40:05.242Z"
   },
   {
    "duration": 7,
    "start_time": "2022-07-09T09:40:06.364Z"
   },
   {
    "duration": 13,
    "start_time": "2022-07-09T09:40:06.845Z"
   },
   {
    "duration": 12,
    "start_time": "2022-07-09T09:40:07.372Z"
   },
   {
    "duration": 13,
    "start_time": "2022-07-09T09:40:09.339Z"
   },
   {
    "duration": 20,
    "start_time": "2022-07-09T09:40:10.928Z"
   },
   {
    "duration": 5,
    "start_time": "2022-07-09T09:40:21.096Z"
   },
   {
    "duration": 2015,
    "start_time": "2022-07-09T09:40:22.717Z"
   },
   {
    "duration": 4,
    "start_time": "2022-07-09T09:40:24.849Z"
   },
   {
    "duration": 17,
    "start_time": "2022-07-09T09:40:25.825Z"
   },
   {
    "duration": 7,
    "start_time": "2022-07-09T09:40:26.385Z"
   },
   {
    "duration": 5,
    "start_time": "2022-07-09T09:40:27.484Z"
   },
   {
    "duration": 24,
    "start_time": "2022-07-09T09:40:28.660Z"
   },
   {
    "duration": 13,
    "start_time": "2022-07-09T10:12:05.698Z"
   },
   {
    "duration": 2124,
    "start_time": "2022-07-09T10:12:13.549Z"
   },
   {
    "duration": 8,
    "start_time": "2022-07-09T10:12:15.675Z"
   },
   {
    "duration": 16,
    "start_time": "2022-07-09T10:12:15.816Z"
   },
   {
    "duration": 13,
    "start_time": "2022-07-09T10:12:17.876Z"
   },
   {
    "duration": 6,
    "start_time": "2022-07-09T10:12:19.138Z"
   },
   {
    "duration": 14,
    "start_time": "2022-07-09T10:12:19.945Z"
   },
   {
    "duration": 12,
    "start_time": "2022-07-09T10:12:21.709Z"
   },
   {
    "duration": 14,
    "start_time": "2022-07-09T10:12:24.097Z"
   },
   {
    "duration": 54,
    "start_time": "2022-07-09T10:12:25.901Z"
   },
   {
    "duration": 43,
    "start_time": "2022-07-09T10:12:46.284Z"
   },
   {
    "duration": 18,
    "start_time": "2022-07-09T10:13:05.005Z"
   },
   {
    "duration": 6,
    "start_time": "2022-07-09T10:13:11.700Z"
   },
   {
    "duration": 2143,
    "start_time": "2022-07-09T10:13:13.356Z"
   },
   {
    "duration": 5,
    "start_time": "2022-07-09T10:13:15.501Z"
   },
   {
    "duration": 18,
    "start_time": "2022-07-09T10:13:15.529Z"
   },
   {
    "duration": 7,
    "start_time": "2022-07-09T10:13:16.530Z"
   },
   {
    "duration": 6,
    "start_time": "2022-07-09T10:13:18.730Z"
   },
   {
    "duration": 70,
    "start_time": "2022-07-09T10:13:19.954Z"
   },
   {
    "duration": 13,
    "start_time": "2022-07-09T10:13:21.083Z"
   },
   {
    "duration": 70,
    "start_time": "2022-07-09T10:13:23.086Z"
   },
   {
    "duration": 14,
    "start_time": "2022-07-09T10:13:25.552Z"
   },
   {
    "duration": 401,
    "start_time": "2022-07-09T10:13:27.130Z"
   },
   {
    "duration": 4448,
    "start_time": "2022-07-09T10:13:28.154Z"
   },
   {
    "duration": 226,
    "start_time": "2022-07-09T10:13:32.603Z"
   },
   {
    "duration": 26,
    "start_time": "2022-07-09T10:13:32.830Z"
   },
   {
    "duration": 2063,
    "start_time": "2022-07-09T10:28:49.301Z"
   },
   {
    "duration": 8,
    "start_time": "2022-07-09T10:28:51.366Z"
   },
   {
    "duration": 13,
    "start_time": "2022-07-09T10:28:51.376Z"
   },
   {
    "duration": 14,
    "start_time": "2022-07-09T10:29:23.177Z"
   },
   {
    "duration": 6,
    "start_time": "2022-07-09T10:29:26.813Z"
   },
   {
    "duration": 13,
    "start_time": "2022-07-09T10:29:27.605Z"
   },
   {
    "duration": 12,
    "start_time": "2022-07-09T10:29:28.149Z"
   },
   {
    "duration": 13,
    "start_time": "2022-07-09T10:29:35.814Z"
   },
   {
    "duration": 53,
    "start_time": "2022-07-09T10:29:40.031Z"
   },
   {
    "duration": 35,
    "start_time": "2022-07-09T10:29:54.876Z"
   },
   {
    "duration": 6,
    "start_time": "2022-07-09T10:30:06.707Z"
   },
   {
    "duration": 2103,
    "start_time": "2022-07-09T10:30:08.967Z"
   },
   {
    "duration": 4,
    "start_time": "2022-07-09T10:30:13.694Z"
   },
   {
    "duration": 18,
    "start_time": "2022-07-09T10:30:21.314Z"
   },
   {
    "duration": 8,
    "start_time": "2022-07-09T10:30:24.439Z"
   },
   {
    "duration": 5,
    "start_time": "2022-07-09T10:30:38.057Z"
   },
   {
    "duration": 70,
    "start_time": "2022-07-09T10:30:40.058Z"
   },
   {
    "duration": 12,
    "start_time": "2022-07-09T10:30:49.408Z"
   },
   {
    "duration": 66,
    "start_time": "2022-07-09T10:30:57.637Z"
   },
   {
    "duration": 13,
    "start_time": "2022-07-09T10:31:11.334Z"
   },
   {
    "duration": 415,
    "start_time": "2022-07-09T10:32:40.008Z"
   },
   {
    "duration": 4478,
    "start_time": "2022-07-09T10:32:57.018Z"
   },
   {
    "duration": 232,
    "start_time": "2022-07-09T10:33:07.408Z"
   },
   {
    "duration": 27,
    "start_time": "2022-07-09T10:33:22.744Z"
   },
   {
    "duration": 3488,
    "start_time": "2022-07-09T10:53:51.969Z"
   },
   {
    "duration": 10,
    "start_time": "2022-07-09T10:54:00.029Z"
   },
   {
    "duration": 16,
    "start_time": "2022-07-09T10:54:01.141Z"
   },
   {
    "duration": 14,
    "start_time": "2022-07-09T10:54:03.115Z"
   },
   {
    "duration": 7,
    "start_time": "2022-07-09T10:54:04.334Z"
   },
   {
    "duration": 15,
    "start_time": "2022-07-09T10:54:05.173Z"
   },
   {
    "duration": 12,
    "start_time": "2022-07-09T10:54:05.621Z"
   },
   {
    "duration": 19,
    "start_time": "2022-07-09T10:54:07.175Z"
   },
   {
    "duration": 69,
    "start_time": "2022-07-09T10:54:08.522Z"
   },
   {
    "duration": 5,
    "start_time": "2022-07-09T10:54:11.141Z"
   },
   {
    "duration": 2070,
    "start_time": "2022-07-09T10:54:12.221Z"
   },
   {
    "duration": 5,
    "start_time": "2022-07-09T10:54:14.294Z"
   },
   {
    "duration": 18,
    "start_time": "2022-07-09T10:54:16.277Z"
   },
   {
    "duration": 6,
    "start_time": "2022-07-09T10:54:22.425Z"
   },
   {
    "duration": 7,
    "start_time": "2022-07-09T10:54:26.100Z"
   },
   {
    "duration": 28,
    "start_time": "2022-07-09T10:54:27.809Z"
   },
   {
    "duration": 13,
    "start_time": "2022-07-09T10:54:29.853Z"
   },
   {
    "duration": 66,
    "start_time": "2022-07-09T10:54:34.348Z"
   },
   {
    "duration": 15,
    "start_time": "2022-07-09T10:54:45.910Z"
   },
   {
    "duration": 452,
    "start_time": "2022-07-09T10:54:48.074Z"
   },
   {
    "duration": 4754,
    "start_time": "2022-07-09T10:54:55.269Z"
   },
   {
    "duration": 224,
    "start_time": "2022-07-09T10:55:02.154Z"
   },
   {
    "duration": 28,
    "start_time": "2022-07-09T10:55:11.030Z"
   },
   {
    "duration": 344,
    "start_time": "2022-07-09T10:55:49.613Z"
   },
   {
    "duration": 27,
    "start_time": "2022-07-09T10:55:59.739Z"
   }
  ],
  "kernelspec": {
   "display_name": "Python 3 (ipykernel)",
   "language": "python",
   "name": "python3"
  },
  "language_info": {
   "codemirror_mode": {
    "name": "ipython",
    "version": 3
   },
   "file_extension": ".py",
   "mimetype": "text/x-python",
   "name": "python",
   "nbconvert_exporter": "python",
   "pygments_lexer": "ipython3",
   "version": "3.9.7"
  },
  "toc": {
   "base_numbering": 1,
   "nav_menu": {},
   "number_sections": true,
   "sideBar": true,
   "skip_h1_title": true,
   "title_cell": "Содержание",
   "title_sidebar": "Contents",
   "toc_cell": true,
   "toc_position": {
    "height": "calc(100% - 180px)",
    "left": "10px",
    "top": "150px",
    "width": "165px"
   },
   "toc_section_display": true,
   "toc_window_display": true
  }
 },
 "nbformat": 4,
 "nbformat_minor": 2
}
