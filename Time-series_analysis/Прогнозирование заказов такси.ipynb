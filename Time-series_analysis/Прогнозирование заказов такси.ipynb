{
 "cells": [
  {
   "cell_type": "markdown",
   "metadata": {},
   "source": [
    "#  Прогнозирование заказов такси"
   ]
  },
  {
   "cell_type": "markdown",
   "metadata": {},
   "source": [
    "**Описание**\n",
    "\n",
    "Компания собрала исторические данные о заказах такси в аэропортах. Чтобы привлекать больше водителей в период пиковой нагрузки, нужно спрогнозировать количество заказов такси на следующий час.\n",
    "\n",
    "**Задача:** \n",
    "\n",
    "Спрогнозировать количество заказов такси на следующий час, построить модель для такого предсказания.\n",
    "\n",
    "Значение метрики *RMSE* на тестовой выборке должно быть не больше 48.\n",
    "\n",
    "**План проведения исследования:**\n",
    "\n",
    "1. Загрузка данных и их ресемплирование по одному часу.\n",
    "2. Анализ данных.\n",
    "3. Обучение моделей с различными гиперпараметрами (тестовая выборка размером 10% от исходных данных).\n",
    "4. Проверка данных на тестовой выборке.\n",
    "\n"
   ]
  },
  {
   "cell_type": "markdown",
   "metadata": {
    "toc": true
   },
   "source": [
    "<h1>Содержание<span class=\"tocSkip\"></span></h1>\n",
    "<div class=\"toc\"><ul class=\"toc-item\"><li><span><a href=\"#Подготовка\" data-toc-modified-id=\"Подготовка-1\"><span class=\"toc-item-num\">1&nbsp;&nbsp;</span>Подготовка</a></span></li><li><span><a href=\"#Анализ\" data-toc-modified-id=\"Анализ-2\"><span class=\"toc-item-num\">2&nbsp;&nbsp;</span>Анализ</a></span></li><li><span><a href=\"#Обучение\" data-toc-modified-id=\"Обучение-3\"><span class=\"toc-item-num\">3&nbsp;&nbsp;</span>Обучение</a></span></li><li><span><a href=\"#Тестирование\" data-toc-modified-id=\"Тестирование-4\"><span class=\"toc-item-num\">4&nbsp;&nbsp;</span>Тестирование</a></span></li></ul></div>"
   ]
  },
  {
   "cell_type": "markdown",
   "metadata": {},
   "source": [
    "## Подготовка"
   ]
  },
  {
   "cell_type": "markdown",
   "metadata": {},
   "source": [
    "**Импорт библиотек**"
   ]
  },
  {
   "cell_type": "code",
   "execution_count": 1,
   "metadata": {
    "scrolled": true
   },
   "outputs": [
    {
     "name": "stdout",
     "output_type": "stream",
     "text": [
      "Requirement already satisfied: fast_ml in c:\\users\\user\\documents\\anaconda\\lib\\site-packages (3.68)\n"
     ]
    }
   ],
   "source": [
    "import pandas as pd\n",
    "import numpy as np\n",
    "import matplotlib.pyplot as plt\n",
    "from statsmodels.tsa.seasonal import seasonal_decompose\n",
    "\n",
    "!pip install fast_ml\n",
    "from sklearn.model_selection import train_test_split\n",
    "from fast_ml.model_development import train_valid_test_split\n",
    "from sklearn.metrics import mean_squared_error, mean_absolute_error\n",
    "\n",
    "from sklearn.linear_model import LinearRegression\n",
    "from sklearn.ensemble import RandomForestRegressor\n",
    "from sklearn.dummy import DummyRegressor\n",
    "from lightgbm import LGBMRegressor"
   ]
  },
  {
   "cell_type": "markdown",
   "metadata": {},
   "source": [
    "**Импорт данных**"
   ]
  },
  {
   "cell_type": "code",
   "execution_count": 2,
   "metadata": {},
   "outputs": [
    {
     "data": {
      "text/html": [
       "<div>\n",
       "<style scoped>\n",
       "    .dataframe tbody tr th:only-of-type {\n",
       "        vertical-align: middle;\n",
       "    }\n",
       "\n",
       "    .dataframe tbody tr th {\n",
       "        vertical-align: top;\n",
       "    }\n",
       "\n",
       "    .dataframe thead th {\n",
       "        text-align: right;\n",
       "    }\n",
       "</style>\n",
       "<table border=\"1\" class=\"dataframe\">\n",
       "  <thead>\n",
       "    <tr style=\"text-align: right;\">\n",
       "      <th></th>\n",
       "      <th>num_orders</th>\n",
       "    </tr>\n",
       "    <tr>\n",
       "      <th>datetime</th>\n",
       "      <th></th>\n",
       "    </tr>\n",
       "  </thead>\n",
       "  <tbody>\n",
       "    <tr>\n",
       "      <th>2018-03-01 00:00:00</th>\n",
       "      <td>9</td>\n",
       "    </tr>\n",
       "    <tr>\n",
       "      <th>2018-03-01 00:10:00</th>\n",
       "      <td>14</td>\n",
       "    </tr>\n",
       "    <tr>\n",
       "      <th>2018-03-01 00:20:00</th>\n",
       "      <td>28</td>\n",
       "    </tr>\n",
       "    <tr>\n",
       "      <th>2018-03-01 00:30:00</th>\n",
       "      <td>20</td>\n",
       "    </tr>\n",
       "    <tr>\n",
       "      <th>2018-03-01 00:40:00</th>\n",
       "      <td>32</td>\n",
       "    </tr>\n",
       "    <tr>\n",
       "      <th>...</th>\n",
       "      <td>...</td>\n",
       "    </tr>\n",
       "    <tr>\n",
       "      <th>2018-08-31 23:10:00</th>\n",
       "      <td>32</td>\n",
       "    </tr>\n",
       "    <tr>\n",
       "      <th>2018-08-31 23:20:00</th>\n",
       "      <td>24</td>\n",
       "    </tr>\n",
       "    <tr>\n",
       "      <th>2018-08-31 23:30:00</th>\n",
       "      <td>27</td>\n",
       "    </tr>\n",
       "    <tr>\n",
       "      <th>2018-08-31 23:40:00</th>\n",
       "      <td>39</td>\n",
       "    </tr>\n",
       "    <tr>\n",
       "      <th>2018-08-31 23:50:00</th>\n",
       "      <td>53</td>\n",
       "    </tr>\n",
       "  </tbody>\n",
       "</table>\n",
       "<p>26496 rows × 1 columns</p>\n",
       "</div>"
      ],
      "text/plain": [
       "                     num_orders\n",
       "datetime                       \n",
       "2018-03-01 00:00:00           9\n",
       "2018-03-01 00:10:00          14\n",
       "2018-03-01 00:20:00          28\n",
       "2018-03-01 00:30:00          20\n",
       "2018-03-01 00:40:00          32\n",
       "...                         ...\n",
       "2018-08-31 23:10:00          32\n",
       "2018-08-31 23:20:00          24\n",
       "2018-08-31 23:30:00          27\n",
       "2018-08-31 23:40:00          39\n",
       "2018-08-31 23:50:00          53\n",
       "\n",
       "[26496 rows x 1 columns]"
      ]
     },
     "metadata": {},
     "output_type": "display_data"
    }
   ],
   "source": [
    "data = pd.read_csv('taxi.csv', index_col=[0], parse_dates=[0])\n",
    "display (data)"
   ]
  },
  {
   "cell_type": "markdown",
   "metadata": {},
   "source": [
    "Количество заказов находится в столбце 'num_orders' (от англ. number of orders, «число заказов»). изучим данные."
   ]
  },
  {
   "cell_type": "code",
   "execution_count": 6,
   "metadata": {},
   "outputs": [
    {
     "data": {
      "text/plain": [
       "Timestamp('2018-03-01 00:00:00')"
      ]
     },
     "metadata": {},
     "output_type": "display_data"
    },
    {
     "data": {
      "text/plain": [
       "Timestamp('2018-08-31 23:50:00')"
      ]
     },
     "metadata": {},
     "output_type": "display_data"
    },
    {
     "data": {
      "image/png": "[encoded data removed]",
      "text/plain": [
       "<Figure size 720x360 with 1 Axes>"
      ]
     },
     "metadata": {
      "needs_background": "light"
     },
     "output_type": "display_data"
    }
   ],
   "source": [
    "data.sort_index(inplace=True)\n",
    "display (data.index.min(), data.index.max())\n",
    "\n",
    "data.plot(figsize=(10, 5))\n",
    "plt.title('Количество заказов такси за несколько лет')\n",
    "plt.show()"
   ]
  },
  {
   "cell_type": "markdown",
   "metadata": {},
   "source": [
    "У нас есть данные за 6 месяцев с марта по август с разницей во времени - 10 минут."
   ]
  },
  {
   "cell_type": "markdown",
   "metadata": {},
   "source": [
    "**Ресемплирование данных**"
   ]
  },
  {
   "cell_type": "code",
   "execution_count": 7,
   "metadata": {},
   "outputs": [
    {
     "data": {
      "text/html": [
       "<div>\n",
       "<style scoped>\n",
       "    .dataframe tbody tr th:only-of-type {\n",
       "        vertical-align: middle;\n",
       "    }\n",
       "\n",
       "    .dataframe tbody tr th {\n",
       "        vertical-align: top;\n",
       "    }\n",
       "\n",
       "    .dataframe thead th {\n",
       "        text-align: right;\n",
       "    }\n",
       "</style>\n",
       "<table border=\"1\" class=\"dataframe\">\n",
       "  <thead>\n",
       "    <tr style=\"text-align: right;\">\n",
       "      <th></th>\n",
       "      <th>num_orders</th>\n",
       "    </tr>\n",
       "    <tr>\n",
       "      <th>datetime</th>\n",
       "      <th></th>\n",
       "    </tr>\n",
       "  </thead>\n",
       "  <tbody>\n",
       "    <tr>\n",
       "      <th>2018-03-01 00:00:00</th>\n",
       "      <td>124</td>\n",
       "    </tr>\n",
       "    <tr>\n",
       "      <th>2018-03-01 01:00:00</th>\n",
       "      <td>85</td>\n",
       "    </tr>\n",
       "    <tr>\n",
       "      <th>2018-03-01 02:00:00</th>\n",
       "      <td>71</td>\n",
       "    </tr>\n",
       "    <tr>\n",
       "      <th>2018-03-01 03:00:00</th>\n",
       "      <td>66</td>\n",
       "    </tr>\n",
       "    <tr>\n",
       "      <th>2018-03-01 04:00:00</th>\n",
       "      <td>43</td>\n",
       "    </tr>\n",
       "  </tbody>\n",
       "</table>\n",
       "</div>"
      ],
      "text/plain": [
       "                     num_orders\n",
       "datetime                       \n",
       "2018-03-01 00:00:00         124\n",
       "2018-03-01 01:00:00          85\n",
       "2018-03-01 02:00:00          71\n",
       "2018-03-01 03:00:00          66\n",
       "2018-03-01 04:00:00          43"
      ]
     },
     "execution_count": 7,
     "metadata": {},
     "output_type": "execute_result"
    }
   ],
   "source": [
    "data = data.resample('1H').sum()\n",
    "data.head()"
   ]
  },
  {
   "cell_type": "markdown",
   "metadata": {},
   "source": [
    "## Анализ"
   ]
  },
  {
   "cell_type": "markdown",
   "metadata": {},
   "source": [
    "**Скользящее среднее**"
   ]
  },
  {
   "cell_type": "markdown",
   "metadata": {},
   "source": [
    "Проанализируем изменения количества заказов в течении 6 месяцев, недели и 2 дней."
   ]
  },
  {
   "cell_type": "code",
   "execution_count": 8,
   "metadata": {},
   "outputs": [
    {
     "data": {
      "image/png": "[encoded data removed]",
      "text/plain": [
       "<Figure size 720x360 with 1 Axes>"
      ]
     },
     "metadata": {
      "needs_background": "light"
     },
     "output_type": "display_data"
    }
   ],
   "source": [
    "data_2 = data.resample('1D').sum()\n",
    "data_2['rolling_mean'] = data_2.rolling(10).mean()\n",
    "data_2.plot(figsize=(10, 5), linewidth = 3, color = 'red')\n",
    "\n",
    "plt.title('Изменения количества заказов в течении 6 месяцев')\n",
    "plt.xlabel('Дата заказа')\n",
    "plt.ylabel('Количество заказов такси')\n",
    "plt.legend(['Количество заказов', 'Скользящее среднее'])\n",
    "plt.show()"
   ]
  },
  {
   "cell_type": "code",
   "execution_count": 9,
   "metadata": {},
   "outputs": [
    {
     "data": {
      "image/png": "[encoded data removed]",
      "text/plain": [
       "<Figure size 720x360 with 1 Axes>"
      ]
     },
     "metadata": {
      "needs_background": "light"
     },
     "output_type": "display_data"
    }
   ],
   "source": [
    "data_2 = data['2018-03-01':'2018-03-7'].resample('1H').sum()\n",
    "data_2['rolling_mean'] = data_2.rolling(5).mean()\n",
    "data_2.plot(figsize=(10, 5))\n",
    "\n",
    "plt.title('Изменения количества заказов в течении недели')\n",
    "plt.xlabel('Дата заказа')\n",
    "plt.ylabel('Количество заказов такси')\n",
    "plt.legend(['Количество заказов', 'Скользящее среднее'])\n",
    "plt.show()"
   ]
  },
  {
   "cell_type": "code",
   "execution_count": 10,
   "metadata": {
    "scrolled": false
   },
   "outputs": [
    {
     "data": {
      "image/png": "[encoded data removed]",
      "text/plain": [
       "<Figure size 720x360 with 1 Axes>"
      ]
     },
     "metadata": {
      "needs_background": "light"
     },
     "output_type": "display_data"
    }
   ],
   "source": [
    "data_2 = data['2018-07-01':'2018-07-3'].resample('1H').sum()\n",
    "data_2['rolling_mean'] = data_2.rolling(5).mean()\n",
    "data_2.plot(figsize=(10, 5))\n",
    "\n",
    "plt.title('Изменения количества заказов в течении двух дней')\n",
    "plt.xlabel('Дата заказа')\n",
    "plt.ylabel('Количество заказов такси')\n",
    "plt.legend(['Количество заказов', 'Скользящее среднее'])\n",
    "plt.show()"
   ]
  },
  {
   "cell_type": "markdown",
   "metadata": {},
   "source": [
    "**Тренды и сезонность**"
   ]
  },
  {
   "cell_type": "code",
   "execution_count": 11,
   "metadata": {
    "scrolled": true
   },
   "outputs": [
    {
     "data": {
      "image/png": "[encoded data removed]",
      "text/plain": [
       "<Figure size 576x288 with 1 Axes>"
      ]
     },
     "metadata": {
      "needs_background": "light"
     },
     "output_type": "display_data"
    }
   ],
   "source": [
    "decomposed = seasonal_decompose(data)\n",
    "\n",
    "plt.figure(figsize=(8, 4))\n",
    "decomposed.trend.plot(ax=plt.gca())\n",
    "\n",
    "\n",
    "plt.title('Trend')\n",
    "plt.xlabel('Дата заказа')\n",
    "plt.ylabel('Количество заказов такси')\n",
    "plt.show()"
   ]
  },
  {
   "cell_type": "markdown",
   "metadata": {},
   "source": [
    "Как мы можем видеть, на графике прослеживается следующий тренд - количество заказов такси постепенно растет к августу."
   ]
  },
  {
   "cell_type": "code",
   "execution_count": 12,
   "metadata": {},
   "outputs": [
    {
     "data": {
      "image/png": "[encoded data removed]",
      "text/plain": [
       "<Figure size 720x288 with 1 Axes>"
      ]
     },
     "metadata": {
      "needs_background": "light"
     },
     "output_type": "display_data"
    }
   ],
   "source": [
    "\n",
    "plt.figure(figsize=(10, 4))\n",
    "ax = decomposed.seasonal['2018-03-01' : '2018-03-03'].plot(ax=plt.gca())\n",
    "\n",
    "plt.title('Seasonality')\n",
    "plt.xlabel('Дата заказа')\n",
    "plt.ylabel('Количество заказов такси')\n",
    "\n",
    "plt.show()"
   ]
  },
  {
   "cell_type": "markdown",
   "metadata": {},
   "source": [
    "На графике мы можем видеть суточную сезонность: пик нагрузки приходится на 12 часов ночи, что логично - ночью общественный транспорт не ходит, приходится заказывать такси. Спад количества заказов - 6 утра, что тоже можно объяснить: общественный транспорт уже работает и до начала рабочего дня - 2-3 часа, можно доехать без пробок и успеть на работу."
   ]
  },
  {
   "cell_type": "code",
   "execution_count": 13,
   "metadata": {},
   "outputs": [
    {
     "data": {
      "image/png": "[encoded data removed]",
      "text/plain": [
       "<Figure size 576x288 with 1 Axes>"
      ]
     },
     "metadata": {
      "needs_background": "light"
     },
     "output_type": "display_data"
    }
   ],
   "source": [
    "plt.figure(figsize=(8, 4))\n",
    "decomposed.resid.plot(ax=plt.gca())\n",
    "plt.title('Residuals')\n",
    "plt.xlabel('Дата заказа')\n",
    "plt.ylabel('Количество заказов такси')\n",
    "plt.show()"
   ]
  },
  {
   "cell_type": "markdown",
   "metadata": {},
   "source": [
    "## Обучение"
   ]
  },
  {
   "cell_type": "markdown",
   "metadata": {},
   "source": [
    "**Создание признаков**"
   ]
  },
  {
   "cell_type": "code",
   "execution_count": 14,
   "metadata": {},
   "outputs": [],
   "source": [
    "def make_features(data, max_lag, rolling_mean_size):\n",
    "    data['hour'] = data.index.hour\n",
    "    data['day'] = data.index.day\n",
    "    data['dayofweek'] = data.index.dayofweek\n",
    "    \n",
    "    for lag in range(1, max_lag + 1):\n",
    "        data['lag_{}'.format(lag)] = data['num_orders'].shift(lag)\n",
    "\n",
    "    data['rolling_mean'] = data['num_orders'].rolling(rolling_mean_size).mean()\n",
    "    data['rolling_mean'] = data['rolling_mean'].shift()\n",
    "    \n",
    "    return data\n"
   ]
  },
  {
   "cell_type": "code",
   "execution_count": 15,
   "metadata": {},
   "outputs": [],
   "source": [
    "data = make_features(data, 24, 5)"
   ]
  },
  {
   "cell_type": "code",
   "execution_count": 16,
   "metadata": {
    "scrolled": false
   },
   "outputs": [],
   "source": [
    "# удалим пропуски\n",
    "data = data.dropna()"
   ]
  },
  {
   "cell_type": "code",
   "execution_count": 17,
   "metadata": {},
   "outputs": [],
   "source": [
    "# подберем лучшие параметры для признаков\n",
    "\n",
    "train, test = train_test_split(data, shuffle=False, test_size=0.1)\n",
    "\n",
    "features_train = train.drop('num_orders', axis=1)\n",
    "target_train = train['num_orders']\n",
    "features_test = test.drop('num_orders', axis=1)\n",
    "target_test = test['num_orders']"
   ]
  },
  {
   "cell_type": "code",
   "execution_count": 18,
   "metadata": {},
   "outputs": [
    {
     "name": "stdout",
     "output_type": "stream",
     "text": [
      "MAE тестовой выборки: 45.21464012141321\n"
     ]
    }
   ],
   "source": [
    "model = LinearRegression()\n",
    "\n",
    "model.fit(features_train, target_train)\n",
    "prediction = model.predict(features_test)\n",
    "\n",
    "print(\"MAE тестовой выборки:\", mean_squared_error(target_test, prediction) ** 0.5)"
   ]
  },
  {
   "cell_type": "code",
   "execution_count": 19,
   "metadata": {
    "scrolled": true
   },
   "outputs": [
    {
     "data": {
      "text/plain": [
       "(4392, 29)"
      ]
     },
     "execution_count": 19,
     "metadata": {},
     "output_type": "execute_result"
    }
   ],
   "source": [
    "data.shape"
   ]
  },
  {
   "cell_type": "markdown",
   "metadata": {},
   "source": [
    "**Разделение на выборки**"
   ]
  },
  {
   "cell_type": "code",
   "execution_count": 20,
   "metadata": {},
   "outputs": [],
   "source": [
    "# отделим тестовую выборку - 10%, валидационную - 20% и обучающую - 70%\n",
    "features_train, target_train, features_valid, target_valid, features_test, target_test = train_valid_test_split(\n",
    "    data, target = 'num_orders', train_size=0.7, valid_size=0.2, test_size=0.1, \n",
    "    method='sorted', sort_by_col='datetime')"
   ]
  },
  {
   "cell_type": "code",
   "execution_count": 21,
   "metadata": {},
   "outputs": [
    {
     "data": {
      "text/plain": [
       "(440, 28)"
      ]
     },
     "execution_count": 21,
     "metadata": {},
     "output_type": "execute_result"
    }
   ],
   "source": [
    "features_test.shape"
   ]
  },
  {
   "cell_type": "markdown",
   "metadata": {},
   "source": [
    "**Обучение моделей**"
   ]
  },
  {
   "cell_type": "markdown",
   "metadata": {},
   "source": [
    "Линейная регрессия"
   ]
  },
  {
   "cell_type": "code",
   "execution_count": 22,
   "metadata": {},
   "outputs": [
    {
     "name": "stdout",
     "output_type": "stream",
     "text": [
      "RMSE валидационной выборки: 32.83230987765022\n"
     ]
    }
   ],
   "source": [
    "# features_train, features_valid, target_train, target_valid\n",
    "linear_model = LinearRegression()\n",
    "\n",
    "linear_model.fit(features_train, target_train)\n",
    "prediction = linear_model.predict(features_valid)\n",
    "\n",
    "print(\"RMSE валидационной выборки:\", mean_squared_error(target_valid, prediction) ** 0.5)\n",
    "\n"
   ]
  },
  {
   "cell_type": "markdown",
   "metadata": {},
   "source": [
    "Случайный лес"
   ]
  },
  {
   "cell_type": "code",
   "execution_count": 23,
   "metadata": {},
   "outputs": [
    {
     "name": "stdout",
     "output_type": "stream",
     "text": [
      "Лучший результат случайного леса:  33\n",
      "Лучшая модель случайного леса:  RandomForestRegressor(max_depth=13, n_estimators=30, random_state=12345)\n",
      "Wall time: 18.4 s\n"
     ]
    }
   ],
   "source": [
    "%%time\n",
    "\n",
    "best_forest_model = ''\n",
    "best_forest_result = 1000\n",
    "for depth in range(1, 20, 2):\n",
    "    for est in range(10, 40, 10):\n",
    "        forest_model = RandomForestRegressor(random_state=12345, max_depth=depth, n_estimators=est)\n",
    "        forest_model.fit(features_train, target_train)\n",
    "        prediction = forest_model.predict(features_valid)\n",
    "        \n",
    "        rmse = mean_squared_error(target_valid, prediction) ** 0.5\n",
    "        \n",
    "        if rmse < best_forest_result:\n",
    "            best_forest_result = rmse\n",
    "            best_forest_model = forest_model\n",
    "            \n",
    "print ('Лучший результат случайного леса: ', round(best_forest_result))\n",
    "print ('Лучшая модель случайного леса: ', best_forest_model)\n"
   ]
  },
  {
   "cell_type": "markdown",
   "metadata": {},
   "source": [
    "Градиентный бустинг"
   ]
  },
  {
   "cell_type": "code",
   "execution_count": 24,
   "metadata": {
    "scrolled": true
   },
   "outputs": [
    {
     "name": "stdout",
     "output_type": "stream",
     "text": [
      "Лучший RMSE градиентного бустинга:  32\n",
      "Лучшая модель градиентного бустинга:  LGBMRegressor(max_depth=8, num_leaves=200)\n",
      "Wall time: 2.99 s\n"
     ]
    }
   ],
   "source": [
    "%%time\n",
    "\n",
    "trees = [10, 100, 1000]\n",
    "best_gbm_model = ''\n",
    "best_gbm_result = 1000\n",
    "\n",
    "for tree in trees:\n",
    "    gbm_model= LGBMRegressor(n_estimators=tree, max_depth=8, num_leaves=200)\n",
    "    gbm_model.fit(features_train, target_train)\n",
    "        \n",
    "    prediction = gbm_model.predict(features_valid)\n",
    "    rmse = mean_squared_error(target_valid, prediction) ** 0.5\n",
    "        \n",
    "    if rmse < best_gbm_result:\n",
    "        best_gbm_result = rmse\n",
    "        best_gbm_model = gbm_model\n",
    "\n",
    "print('Лучший RMSE градиентного бустинга: ', round(best_gbm_result))\n",
    "print ('Лучшая модель градиентного бустинга: ', best_gbm_model)"
   ]
  },
  {
   "cell_type": "markdown",
   "metadata": {},
   "source": [
    "## Тестирование"
   ]
  },
  {
   "cell_type": "code",
   "execution_count": 25,
   "metadata": {},
   "outputs": [
    {
     "name": "stdout",
     "output_type": "stream",
     "text": [
      "RMSE тестовой выборки: 46.623859812792084\n"
     ]
    }
   ],
   "source": [
    "linear_prediction = linear_model.predict(features_test)\n",
    "\n",
    "print(\"RMSE тестовой выборки:\", mean_squared_error(target_test, linear_prediction) ** 0.5)"
   ]
  },
  {
   "cell_type": "code",
   "execution_count": 26,
   "metadata": {},
   "outputs": [
    {
     "name": "stdout",
     "output_type": "stream",
     "text": [
      "RMSE тестовой выборки:  56.01165494588525\n"
     ]
    }
   ],
   "source": [
    "forest_prediction = best_forest_model.predict(features_test)\n",
    "print('RMSE тестовой выборки: ', mean_squared_error(target_test, forest_prediction) ** 0.5)"
   ]
  },
  {
   "cell_type": "code",
   "execution_count": 27,
   "metadata": {
    "scrolled": true
   },
   "outputs": [
    {
     "name": "stdout",
     "output_type": "stream",
     "text": [
      "RMSE тестовой выборки: 45.21464012141321\n"
     ]
    }
   ],
   "source": [
    "gbm_prediction = best_gbm_model.predictprediction = model.predict(features_test)\n",
    "\n",
    "print(\"RMSE тестовой выборки:\", mean_squared_error(target_test, gbm_prediction) ** 0.5)"
   ]
  },
  {
   "cell_type": "markdown",
   "metadata": {},
   "source": [
    "**Визуализация**"
   ]
  },
  {
   "cell_type": "code",
   "execution_count": 28,
   "metadata": {},
   "outputs": [],
   "source": [
    "pred = pd.Series(linear_prediction, index=target_test.index)\n"
   ]
  },
  {
   "cell_type": "code",
   "execution_count": 29,
   "metadata": {
    "scrolled": true
   },
   "outputs": [
    {
     "data": {
      "image/png": "[encoded data removed]",
      "text/plain": [
       "<Figure size 1080x360 with 1 Axes>"
      ]
     },
     "metadata": {
      "needs_background": "light"
     },
     "output_type": "display_data"
    }
   ],
   "source": [
    "fig, ax = plt.subplots(figsize=(15, 5))\n",
    "\n",
    "ax.plot(pred)\n",
    "ax.plot(target_test)\n",
    "\n",
    "plt.title('Сравнение реальных значений и предсказаний модели')\n",
    "plt.xlabel('Дата заказа')\n",
    "plt.ylabel('Количество заказов такси')\n",
    "plt.show()"
   ]
  },
  {
   "cell_type": "markdown",
   "metadata": {},
   "source": [
    "На графике мы можем видеть, что предсказания моделируют реальное количество заказов такси, лишь некоторые аномальные значения модель не предсказывает в точности."
   ]
  },
  {
   "cell_type": "code",
   "execution_count": 30,
   "metadata": {
    "scrolled": true
   },
   "outputs": [
    {
     "data": {
      "image/png": "[encoded data removed]",
      "text/plain": [
       "<Figure size 1080x360 with 1 Axes>"
      ]
     },
     "metadata": {
      "needs_background": "light"
     },
     "output_type": "display_data"
    }
   ],
   "source": [
    "fig, ax = plt.subplots(figsize=(15, 5))\n",
    "\n",
    "ax.plot(target_test['2018-08-13' : '2018-08-16'])\n",
    "ax.plot(pred['2018-08-13' : '2018-08-16'])\n",
    "\n",
    "plt.title('Сравнение реальных значений и предсказаний модели')\n",
    "plt.xlabel('Дата заказа')\n",
    "plt.ylabel('Количество заказов такси')\n",
    "plt.show()"
   ]
  },
  {
   "cell_type": "markdown",
   "metadata": {},
   "source": [
    "Модель учитывает суточные колебания значений и предсказывает, как будет меняться количество заказов в течении дня."
   ]
  },
  {
   "cell_type": "markdown",
   "metadata": {},
   "source": [
    "**Вывод**"
   ]
  },
  {
   "cell_type": "markdown",
   "metadata": {},
   "source": [
    "Задача проека - спрогнозировать количество заказов такси на следующий час, построить модель для такого предсказания со значением метрики RMSE не больше 48 - выполнена.\n",
    "\n",
    "Модель линейной регрессии - наиболее точная, лучший результат - 46.\n",
    "\n",
    "В исследовании были выполнены следующие шаги:\n",
    "\n",
    "- иморт, ресемплирование данных\n",
    "- анализ скользящего среднего, сезонности и трендов\n",
    "- созданы признаки и разделены на выборки\n",
    "- обучено несколько моделей"
   ]
  },
  {
   "cell_type": "code",
   "execution_count": null,
   "metadata": {},
   "outputs": [],
   "source": []
  }
 ],
 "metadata": {
  "ExecuteTimeLog": [
   {
    "duration": 1673,
    "start_time": "2022-09-16T11:35:39.878Z"
   },
   {
    "duration": 3428,
    "start_time": "2022-09-16T11:35:59.169Z"
   },
   {
    "duration": 128,
    "start_time": "2022-09-16T13:32:59.722Z"
   },
   {
    "duration": 50,
    "start_time": "2022-09-16T13:35:51.622Z"
   },
   {
    "duration": 5,
    "start_time": "2022-09-16T13:36:37.558Z"
   },
   {
    "duration": 9,
    "start_time": "2022-09-16T13:36:48.213Z"
   },
   {
    "duration": 602,
    "start_time": "2022-09-16T13:39:14.689Z"
   },
   {
    "duration": 13,
    "start_time": "2022-09-16T13:42:27.733Z"
   },
   {
    "duration": 232,
    "start_time": "2022-09-16T13:43:13.491Z"
   },
   {
    "duration": 13,
    "start_time": "2022-09-16T13:43:20.023Z"
   },
   {
    "duration": 5,
    "start_time": "2022-09-16T13:43:24.064Z"
   },
   {
    "duration": 259,
    "start_time": "2022-09-16T13:45:02.673Z"
   },
   {
    "duration": 347,
    "start_time": "2022-09-16T13:46:59.677Z"
   },
   {
    "duration": 277,
    "start_time": "2022-09-16T13:47:06.187Z"
   },
   {
    "duration": 305,
    "start_time": "2022-09-16T13:47:14.498Z"
   },
   {
    "duration": 423,
    "start_time": "2022-09-16T13:49:34.000Z"
   },
   {
    "duration": 413,
    "start_time": "2022-09-16T13:50:10.231Z"
   },
   {
    "duration": 604,
    "start_time": "2022-09-16T13:50:28.940Z"
   },
   {
    "duration": 736,
    "start_time": "2022-09-16T13:52:03.936Z"
   },
   {
    "duration": 595,
    "start_time": "2022-09-16T13:52:11.636Z"
   },
   {
    "duration": 360,
    "start_time": "2022-09-16T13:52:20.022Z"
   },
   {
    "duration": 387,
    "start_time": "2022-09-16T13:52:28.061Z"
   },
   {
    "duration": 212,
    "start_time": "2022-09-16T13:52:45.832Z"
   },
   {
    "duration": 215,
    "start_time": "2022-09-16T13:53:36.085Z"
   },
   {
    "duration": 208,
    "start_time": "2022-09-16T13:56:50.931Z"
   },
   {
    "duration": 211,
    "start_time": "2022-09-16T13:56:52.780Z"
   },
   {
    "duration": 241,
    "start_time": "2022-09-16T13:57:10.216Z"
   },
   {
    "duration": 225,
    "start_time": "2022-09-16T13:57:20.440Z"
   },
   {
    "duration": 355,
    "start_time": "2022-09-16T13:57:33.405Z"
   },
   {
    "duration": 216,
    "start_time": "2022-09-16T13:57:48.834Z"
   },
   {
    "duration": 220,
    "start_time": "2022-09-16T13:57:56.199Z"
   },
   {
    "duration": 210,
    "start_time": "2022-09-16T13:58:05.450Z"
   },
   {
    "duration": 230,
    "start_time": "2022-09-16T13:58:23.851Z"
   },
   {
    "duration": 208,
    "start_time": "2022-09-16T13:58:34.306Z"
   },
   {
    "duration": 204,
    "start_time": "2022-09-16T13:58:51.256Z"
   },
   {
    "duration": 236,
    "start_time": "2022-09-16T13:59:19.887Z"
   },
   {
    "duration": 236,
    "start_time": "2022-09-16T13:59:27.824Z"
   },
   {
    "duration": 239,
    "start_time": "2022-09-16T13:59:35.191Z"
   },
   {
    "duration": 257,
    "start_time": "2022-09-16T13:59:56.745Z"
   },
   {
    "duration": 238,
    "start_time": "2022-09-16T14:00:12.655Z"
   },
   {
    "duration": 173,
    "start_time": "2022-09-16T14:00:29.655Z"
   },
   {
    "duration": 187,
    "start_time": "2022-09-16T14:00:32.871Z"
   },
   {
    "duration": 237,
    "start_time": "2022-09-16T14:32:43.785Z"
   },
   {
    "duration": 247,
    "start_time": "2022-09-16T14:33:04.002Z"
   },
   {
    "duration": 198,
    "start_time": "2022-09-16T14:33:13.287Z"
   },
   {
    "duration": 369,
    "start_time": "2022-09-16T14:33:32.411Z"
   },
   {
    "duration": 200,
    "start_time": "2022-09-16T14:34:08.018Z"
   },
   {
    "duration": 169,
    "start_time": "2022-09-16T14:34:29.198Z"
   },
   {
    "duration": 162,
    "start_time": "2022-09-16T14:34:37.834Z"
   },
   {
    "duration": 154,
    "start_time": "2022-09-16T14:34:45.702Z"
   },
   {
    "duration": 179,
    "start_time": "2022-09-16T14:45:58.493Z"
   },
   {
    "duration": 165,
    "start_time": "2022-09-16T14:46:12.929Z"
   },
   {
    "duration": 180,
    "start_time": "2022-09-16T14:46:53.692Z"
   },
   {
    "duration": 168,
    "start_time": "2022-09-16T14:46:55.972Z"
   },
   {
    "duration": 233,
    "start_time": "2022-09-16T14:48:41.370Z"
   },
   {
    "duration": 228,
    "start_time": "2022-09-16T14:48:52.295Z"
   },
   {
    "duration": 213,
    "start_time": "2022-09-16T14:48:59.010Z"
   },
   {
    "duration": 252,
    "start_time": "2022-09-16T14:49:36.621Z"
   },
   {
    "duration": 212,
    "start_time": "2022-09-16T14:49:40.086Z"
   },
   {
    "duration": 232,
    "start_time": "2022-09-16T14:49:49.284Z"
   },
   {
    "duration": 182,
    "start_time": "2022-09-16T14:49:54.355Z"
   },
   {
    "duration": 2592,
    "start_time": "2022-09-16T14:51:35.375Z"
   },
   {
    "duration": 37,
    "start_time": "2022-09-16T14:52:59.720Z"
   },
   {
    "duration": 12,
    "start_time": "2022-09-16T14:53:41.069Z"
   },
   {
    "duration": 2006,
    "start_time": "2022-09-16T14:53:59.427Z"
   },
   {
    "duration": 57,
    "start_time": "2022-09-16T14:54:01.436Z"
   },
   {
    "duration": 525,
    "start_time": "2022-09-16T14:54:01.494Z"
   },
   {
    "duration": 7,
    "start_time": "2022-09-16T14:54:02.025Z"
   },
   {
    "duration": 361,
    "start_time": "2022-09-16T14:54:13.250Z"
   },
   {
    "duration": 169,
    "start_time": "2022-09-16T14:54:14.402Z"
   },
   {
    "duration": 165,
    "start_time": "2022-09-16T14:54:15.132Z"
   },
   {
    "duration": 10,
    "start_time": "2022-09-16T14:54:23.803Z"
   },
   {
    "duration": 701,
    "start_time": "2022-09-16T14:54:28.451Z"
   },
   {
    "duration": 608,
    "start_time": "2022-09-16T14:57:03.913Z"
   },
   {
    "duration": 694,
    "start_time": "2022-09-16T14:57:22.433Z"
   },
   {
    "duration": 613,
    "start_time": "2022-09-16T14:58:18.597Z"
   },
   {
    "duration": 617,
    "start_time": "2022-09-16T14:58:23.569Z"
   },
   {
    "duration": 726,
    "start_time": "2022-09-16T16:55:22.038Z"
   },
   {
    "duration": 10,
    "start_time": "2022-09-16T16:55:34.891Z"
   },
   {
    "duration": 9,
    "start_time": "2022-09-16T16:55:48.140Z"
   },
   {
    "duration": 4944,
    "start_time": "2022-09-19T09:25:08.429Z"
   },
   {
    "duration": 134,
    "start_time": "2022-09-19T09:25:13.375Z"
   },
   {
    "duration": 798,
    "start_time": "2022-09-19T09:25:13.510Z"
   },
   {
    "duration": 15,
    "start_time": "2022-09-19T09:25:14.310Z"
   },
   {
    "duration": 252,
    "start_time": "2022-09-19T09:25:14.327Z"
   },
   {
    "duration": 222,
    "start_time": "2022-09-19T09:25:14.581Z"
   },
   {
    "duration": 193,
    "start_time": "2022-09-19T09:25:15.016Z"
   },
   {
    "duration": 767,
    "start_time": "2022-09-19T09:25:16.205Z"
   },
   {
    "duration": 12,
    "start_time": "2022-09-19T09:25:18.326Z"
   },
   {
    "duration": 125,
    "start_time": "2022-09-19T09:25:29.331Z"
   },
   {
    "duration": 2,
    "start_time": "2022-09-19T09:25:44.126Z"
   },
   {
    "duration": 2005,
    "start_time": "2022-09-19T09:25:50.260Z"
   },
   {
    "duration": 59,
    "start_time": "2022-09-19T09:25:52.267Z"
   },
   {
    "duration": 796,
    "start_time": "2022-09-19T09:25:52.328Z"
   },
   {
    "duration": 7,
    "start_time": "2022-09-19T09:25:53.125Z"
   },
   {
    "duration": 238,
    "start_time": "2022-09-19T09:25:53.667Z"
   },
   {
    "duration": 193,
    "start_time": "2022-09-19T09:25:54.032Z"
   },
   {
    "duration": 197,
    "start_time": "2022-09-19T09:25:54.547Z"
   },
   {
    "duration": 735,
    "start_time": "2022-09-19T09:25:55.452Z"
   },
   {
    "duration": 10,
    "start_time": "2022-09-19T09:25:57.164Z"
   },
   {
    "duration": 13,
    "start_time": "2022-09-19T09:26:00.664Z"
   },
   {
    "duration": 2,
    "start_time": "2022-09-19T09:26:07.602Z"
   },
   {
    "duration": 2033,
    "start_time": "2022-09-19T09:26:23.809Z"
   },
   {
    "duration": 58,
    "start_time": "2022-09-19T09:26:25.844Z"
   },
   {
    "duration": 667,
    "start_time": "2022-09-19T09:26:25.904Z"
   },
   {
    "duration": 7,
    "start_time": "2022-09-19T09:26:26.573Z"
   },
   {
    "duration": 393,
    "start_time": "2022-09-19T09:26:26.582Z"
   },
   {
    "duration": 207,
    "start_time": "2022-09-19T09:26:26.977Z"
   },
   {
    "duration": 205,
    "start_time": "2022-09-19T09:26:27.185Z"
   },
   {
    "duration": 774,
    "start_time": "2022-09-19T09:26:27.393Z"
   },
   {
    "duration": 9,
    "start_time": "2022-09-19T09:26:28.169Z"
   },
   {
    "duration": 38,
    "start_time": "2022-09-19T09:26:29.013Z"
   },
   {
    "duration": 9,
    "start_time": "2022-09-19T09:26:43.218Z"
   },
   {
    "duration": 21,
    "start_time": "2022-09-19T09:26:47.210Z"
   },
   {
    "duration": 2,
    "start_time": "2022-09-19T09:28:24.661Z"
   },
   {
    "duration": 22,
    "start_time": "2022-09-19T09:28:48.738Z"
   },
   {
    "duration": 19,
    "start_time": "2022-09-19T09:28:58.621Z"
   },
   {
    "duration": 2060,
    "start_time": "2022-09-19T09:29:03.164Z"
   },
   {
    "duration": 69,
    "start_time": "2022-09-19T09:29:05.227Z"
   },
   {
    "duration": 667,
    "start_time": "2022-09-19T09:29:05.298Z"
   },
   {
    "duration": 7,
    "start_time": "2022-09-19T09:29:05.968Z"
   },
   {
    "duration": 299,
    "start_time": "2022-09-19T09:29:05.977Z"
   },
   {
    "duration": 219,
    "start_time": "2022-09-19T09:29:06.278Z"
   },
   {
    "duration": 354,
    "start_time": "2022-09-19T09:29:06.498Z"
   },
   {
    "duration": 745,
    "start_time": "2022-09-19T09:29:06.853Z"
   },
   {
    "duration": 20,
    "start_time": "2022-09-19T09:29:07.600Z"
   },
   {
    "duration": 21,
    "start_time": "2022-09-19T09:29:08.045Z"
   },
   {
    "duration": 34,
    "start_time": "2022-09-19T09:29:19.114Z"
   },
   {
    "duration": 6,
    "start_time": "2022-09-19T09:29:27.218Z"
   },
   {
    "duration": 13,
    "start_time": "2022-09-19T09:30:44.139Z"
   },
   {
    "duration": 18,
    "start_time": "2022-09-19T09:33:55.058Z"
   },
   {
    "duration": 7,
    "start_time": "2022-09-19T09:34:25.786Z"
   },
   {
    "duration": 216,
    "start_time": "2022-09-19T09:35:17.711Z"
   },
   {
    "duration": 2057,
    "start_time": "2022-09-19T09:35:39.514Z"
   },
   {
    "duration": 64,
    "start_time": "2022-09-19T09:35:45.458Z"
   },
   {
    "duration": 7,
    "start_time": "2022-09-19T09:36:18.341Z"
   },
   {
    "duration": 21,
    "start_time": "2022-09-19T09:36:19.036Z"
   },
   {
    "duration": 9,
    "start_time": "2022-09-19T09:36:31.322Z"
   },
   {
    "duration": 6,
    "start_time": "2022-09-19T09:36:32.067Z"
   },
   {
    "duration": 7,
    "start_time": "2022-09-19T09:36:33.410Z"
   },
   {
    "duration": 16,
    "start_time": "2022-09-19T09:36:33.840Z"
   },
   {
    "duration": 2091,
    "start_time": "2022-09-19T09:36:41.293Z"
   },
   {
    "duration": 58,
    "start_time": "2022-09-19T09:36:43.387Z"
   },
   {
    "duration": 689,
    "start_time": "2022-09-19T09:36:43.447Z"
   },
   {
    "duration": 7,
    "start_time": "2022-09-19T09:36:44.138Z"
   },
   {
    "duration": 277,
    "start_time": "2022-09-19T09:36:44.147Z"
   },
   {
    "duration": 210,
    "start_time": "2022-09-19T09:36:44.426Z"
   },
   {
    "duration": 214,
    "start_time": "2022-09-19T09:36:44.638Z"
   },
   {
    "duration": 718,
    "start_time": "2022-09-19T09:36:44.855Z"
   },
   {
    "duration": 12,
    "start_time": "2022-09-19T09:36:46.414Z"
   },
   {
    "duration": 8,
    "start_time": "2022-09-19T09:36:47.146Z"
   },
   {
    "duration": 7,
    "start_time": "2022-09-19T09:36:48.350Z"
   },
   {
    "duration": 221,
    "start_time": "2022-09-19T09:36:48.902Z"
   },
   {
    "duration": 11,
    "start_time": "2022-09-19T09:36:57.022Z"
   },
   {
    "duration": 7,
    "start_time": "2022-09-19T09:36:57.368Z"
   },
   {
    "duration": 7,
    "start_time": "2022-09-19T09:36:59.510Z"
   },
   {
    "duration": 102,
    "start_time": "2022-09-19T09:37:00.022Z"
   },
   {
    "duration": 20,
    "start_time": "2022-09-19T09:40:38.810Z"
   },
   {
    "duration": 13,
    "start_time": "2022-09-19T09:40:44.842Z"
   },
   {
    "duration": 14873,
    "start_time": "2022-09-19T09:44:10.336Z"
   },
   {
    "duration": 34730,
    "start_time": "2022-09-19T09:45:05.002Z"
   },
   {
    "duration": 54871,
    "start_time": "2022-09-19T09:45:59.750Z"
   },
   {
    "duration": 17,
    "start_time": "2022-09-19T09:48:13.802Z"
   },
   {
    "duration": 8,
    "start_time": "2022-09-19T09:48:14.733Z"
   },
   {
    "duration": 7,
    "start_time": "2022-09-19T09:48:16.211Z"
   },
   {
    "duration": 19,
    "start_time": "2022-09-19T09:48:18.033Z"
   },
   {
    "duration": 16925,
    "start_time": "2022-09-19T09:48:20.040Z"
   },
   {
    "duration": 69166,
    "start_time": "2022-09-19T09:48:36.968Z"
   },
   {
    "duration": 13,
    "start_time": "2022-09-19T09:50:12.703Z"
   },
   {
    "duration": 7,
    "start_time": "2022-09-19T09:50:14.311Z"
   },
   {
    "duration": 7,
    "start_time": "2022-09-19T09:50:16.915Z"
   },
   {
    "duration": 186,
    "start_time": "2022-09-19T09:50:23.436Z"
   },
   {
    "duration": 16,
    "start_time": "2022-09-19T09:50:33.915Z"
   },
   {
    "duration": 7,
    "start_time": "2022-09-19T09:50:35.699Z"
   },
   {
    "duration": 8,
    "start_time": "2022-09-19T09:50:36.702Z"
   },
   {
    "duration": 66,
    "start_time": "2022-09-19T09:50:38.255Z"
   },
   {
    "duration": 36,
    "start_time": "2022-09-19T09:51:15.538Z"
   },
   {
    "duration": 5,
    "start_time": "2022-09-19T09:52:09.114Z"
   },
   {
    "duration": 35,
    "start_time": "2022-09-19T09:52:27.518Z"
   },
   {
    "duration": 34,
    "start_time": "2022-09-19T09:52:41.362Z"
   },
   {
    "duration": 36,
    "start_time": "2022-09-19T09:53:00.003Z"
   },
   {
    "duration": 36,
    "start_time": "2022-09-19T09:53:18.607Z"
   },
   {
    "duration": 5,
    "start_time": "2022-09-19T09:53:49.811Z"
   },
   {
    "duration": 12,
    "start_time": "2022-09-19T09:56:34.988Z"
   },
   {
    "duration": 6,
    "start_time": "2022-09-19T09:56:39.864Z"
   },
   {
    "duration": 5,
    "start_time": "2022-09-19T09:56:40.355Z"
   },
   {
    "duration": 6,
    "start_time": "2022-09-19T09:57:56.015Z"
   },
   {
    "duration": 38,
    "start_time": "2022-09-19T09:58:01.763Z"
   },
   {
    "duration": 7,
    "start_time": "2022-09-19T09:58:14.623Z"
   },
   {
    "duration": 11,
    "start_time": "2022-09-19T09:58:36.957Z"
   },
   {
    "duration": 4,
    "start_time": "2022-09-19T09:58:49.772Z"
   },
   {
    "duration": 4,
    "start_time": "2022-09-19T09:59:17.803Z"
   },
   {
    "duration": 4,
    "start_time": "2022-09-19T09:59:29.231Z"
   },
   {
    "duration": 9,
    "start_time": "2022-09-19T09:59:51.515Z"
   },
   {
    "duration": 8,
    "start_time": "2022-09-19T10:00:33.322Z"
   },
   {
    "duration": 8,
    "start_time": "2022-09-19T10:00:46.803Z"
   },
   {
    "duration": 104,
    "start_time": "2022-09-19T10:01:44.923Z"
   },
   {
    "duration": 18954,
    "start_time": "2022-09-19T10:01:54.152Z"
   },
   {
    "duration": 18690,
    "start_time": "2022-09-19T10:03:23.039Z"
   },
   {
    "duration": 17,
    "start_time": "2022-09-19T10:07:50.722Z"
   },
   {
    "duration": 17,
    "start_time": "2022-09-19T10:07:56.310Z"
   },
   {
    "duration": 7,
    "start_time": "2022-09-19T10:07:56.707Z"
   },
   {
    "duration": 16,
    "start_time": "2022-09-19T10:07:56.974Z"
   },
   {
    "duration": 14,
    "start_time": "2022-09-19T10:08:01.060Z"
   },
   {
    "duration": 7,
    "start_time": "2022-09-19T10:08:01.389Z"
   },
   {
    "duration": 16,
    "start_time": "2022-09-19T10:08:01.639Z"
   },
   {
    "duration": 12,
    "start_time": "2022-09-19T10:08:05.528Z"
   },
   {
    "duration": 6,
    "start_time": "2022-09-19T10:08:05.901Z"
   },
   {
    "duration": 15,
    "start_time": "2022-09-19T10:08:06.151Z"
   },
   {
    "duration": 12,
    "start_time": "2022-09-19T10:08:09.405Z"
   },
   {
    "duration": 7,
    "start_time": "2022-09-19T10:08:09.703Z"
   },
   {
    "duration": 17,
    "start_time": "2022-09-19T10:08:10.003Z"
   },
   {
    "duration": 12,
    "start_time": "2022-09-19T10:08:14.859Z"
   },
   {
    "duration": 6,
    "start_time": "2022-09-19T10:08:15.228Z"
   },
   {
    "duration": 19,
    "start_time": "2022-09-19T10:08:15.560Z"
   },
   {
    "duration": 10,
    "start_time": "2022-09-19T10:08:20.352Z"
   },
   {
    "duration": 6,
    "start_time": "2022-09-19T10:08:20.710Z"
   },
   {
    "duration": 15,
    "start_time": "2022-09-19T10:08:21.023Z"
   },
   {
    "duration": 11,
    "start_time": "2022-09-19T10:08:24.548Z"
   },
   {
    "duration": 7,
    "start_time": "2022-09-19T10:08:24.810Z"
   },
   {
    "duration": 16,
    "start_time": "2022-09-19T10:08:25.111Z"
   },
   {
    "duration": 17,
    "start_time": "2022-09-19T10:08:29.595Z"
   },
   {
    "duration": 9,
    "start_time": "2022-09-19T10:08:29.850Z"
   },
   {
    "duration": 24,
    "start_time": "2022-09-19T10:08:30.139Z"
   },
   {
    "duration": 14,
    "start_time": "2022-09-19T10:08:33.195Z"
   },
   {
    "duration": 6,
    "start_time": "2022-09-19T10:08:33.475Z"
   },
   {
    "duration": 26,
    "start_time": "2022-09-19T10:08:33.807Z"
   },
   {
    "duration": 33,
    "start_time": "2022-09-19T10:08:38.508Z"
   },
   {
    "duration": 9,
    "start_time": "2022-09-19T10:08:38.803Z"
   },
   {
    "duration": 120,
    "start_time": "2022-09-19T10:08:39.108Z"
   },
   {
    "duration": 9,
    "start_time": "2022-09-19T10:08:43.239Z"
   },
   {
    "duration": 6,
    "start_time": "2022-09-19T10:08:43.570Z"
   },
   {
    "duration": 21,
    "start_time": "2022-09-19T10:08:43.863Z"
   },
   {
    "duration": 11,
    "start_time": "2022-09-19T10:08:48.904Z"
   },
   {
    "duration": 8,
    "start_time": "2022-09-19T10:08:49.219Z"
   },
   {
    "duration": 24,
    "start_time": "2022-09-19T10:08:49.509Z"
   },
   {
    "duration": 13,
    "start_time": "2022-09-19T10:08:52.845Z"
   },
   {
    "duration": 7,
    "start_time": "2022-09-19T10:08:53.141Z"
   },
   {
    "duration": 19,
    "start_time": "2022-09-19T10:08:53.475Z"
   },
   {
    "duration": 11,
    "start_time": "2022-09-19T10:09:46.838Z"
   },
   {
    "duration": 7,
    "start_time": "2022-09-19T10:09:47.172Z"
   },
   {
    "duration": 24,
    "start_time": "2022-09-19T10:09:47.506Z"
   },
   {
    "duration": 9,
    "start_time": "2022-09-19T10:09:52.611Z"
   },
   {
    "duration": 5,
    "start_time": "2022-09-19T10:09:52.903Z"
   },
   {
    "duration": 54,
    "start_time": "2022-09-19T10:09:53.270Z"
   },
   {
    "duration": 15,
    "start_time": "2022-09-19T10:09:58.855Z"
   },
   {
    "duration": 7,
    "start_time": "2022-09-19T10:09:59.163Z"
   },
   {
    "duration": 148,
    "start_time": "2022-09-19T10:09:59.474Z"
   },
   {
    "duration": 10,
    "start_time": "2022-09-19T10:10:04.738Z"
   },
   {
    "duration": 7,
    "start_time": "2022-09-19T10:10:05.073Z"
   },
   {
    "duration": 86,
    "start_time": "2022-09-19T10:10:05.441Z"
   },
   {
    "duration": 12,
    "start_time": "2022-09-19T10:10:14.401Z"
   },
   {
    "duration": 6,
    "start_time": "2022-09-19T10:10:14.713Z"
   },
   {
    "duration": 203,
    "start_time": "2022-09-19T10:10:15.018Z"
   },
   {
    "duration": 14,
    "start_time": "2022-09-19T10:10:17.877Z"
   },
   {
    "duration": 6,
    "start_time": "2022-09-19T10:10:18.209Z"
   },
   {
    "duration": 209,
    "start_time": "2022-09-19T10:10:18.614Z"
   },
   {
    "duration": 13,
    "start_time": "2022-09-19T10:10:23.805Z"
   },
   {
    "duration": 6,
    "start_time": "2022-09-19T10:10:24.474Z"
   },
   {
    "duration": 61,
    "start_time": "2022-09-19T10:10:26.167Z"
   },
   {
    "duration": 4,
    "start_time": "2022-09-19T10:11:21.160Z"
   },
   {
    "duration": 4,
    "start_time": "2022-09-19T10:11:21.648Z"
   },
   {
    "duration": 4,
    "start_time": "2022-09-19T10:11:22.801Z"
   },
   {
    "duration": 8,
    "start_time": "2022-09-19T10:11:23.224Z"
   },
   {
    "duration": 128,
    "start_time": "2022-09-19T10:11:26.093Z"
   },
   {
    "duration": 186,
    "start_time": "2022-09-19T10:11:35.736Z"
   },
   {
    "duration": 21625,
    "start_time": "2022-09-19T10:11:36.800Z"
   },
   {
    "duration": 188813,
    "start_time": "2022-09-19T10:11:58.427Z"
   },
   {
    "duration": 88,
    "start_time": "2022-09-19T10:15:07.242Z"
   },
   {
    "duration": 11,
    "start_time": "2022-09-19T10:15:37.920Z"
   },
   {
    "duration": 16,
    "start_time": "2022-09-19T10:16:28.206Z"
   },
   {
    "duration": 7,
    "start_time": "2022-09-19T10:16:28.640Z"
   },
   {
    "duration": 135,
    "start_time": "2022-09-19T10:16:29.086Z"
   },
   {
    "duration": 15,
    "start_time": "2022-09-19T10:16:35.233Z"
   },
   {
    "duration": 7,
    "start_time": "2022-09-19T10:16:35.679Z"
   },
   {
    "duration": 74,
    "start_time": "2022-09-19T10:16:36.051Z"
   },
   {
    "duration": 16,
    "start_time": "2022-09-19T10:16:40.628Z"
   },
   {
    "duration": 7,
    "start_time": "2022-09-19T10:16:40.999Z"
   },
   {
    "duration": 21,
    "start_time": "2022-09-19T10:16:41.333Z"
   },
   {
    "duration": 13,
    "start_time": "2022-09-19T10:16:47.629Z"
   },
   {
    "duration": 7,
    "start_time": "2022-09-19T10:16:48.031Z"
   },
   {
    "duration": 19,
    "start_time": "2022-09-19T10:16:48.405Z"
   },
   {
    "duration": 4,
    "start_time": "2022-09-19T10:16:51.556Z"
   },
   {
    "duration": 4,
    "start_time": "2022-09-19T10:16:51.993Z"
   },
   {
    "duration": 4,
    "start_time": "2022-09-19T10:16:52.361Z"
   },
   {
    "duration": 8,
    "start_time": "2022-09-19T10:16:53.369Z"
   },
   {
    "duration": 71,
    "start_time": "2022-09-19T10:16:54.552Z"
   },
   {
    "duration": 27,
    "start_time": "2022-09-19T10:16:58.149Z"
   },
   {
    "duration": 30283,
    "start_time": "2022-09-19T10:17:11.432Z"
   },
   {
    "duration": 82802,
    "start_time": "2022-09-19T10:17:41.720Z"
   },
   {
    "duration": 12,
    "start_time": "2022-09-19T10:19:04.524Z"
   },
   {
    "duration": 10,
    "start_time": "2022-09-19T10:19:04.538Z"
   },
   {
    "duration": 13,
    "start_time": "2022-09-19T10:19:41.848Z"
   },
   {
    "duration": 33,
    "start_time": "2022-09-19T10:19:45.854Z"
   },
   {
    "duration": 7,
    "start_time": "2022-09-19T10:19:54.176Z"
   },
   {
    "duration": 33,
    "start_time": "2022-09-19T10:19:54.563Z"
   },
   {
    "duration": 11,
    "start_time": "2022-09-19T10:23:04.711Z"
   },
   {
    "duration": 21,
    "start_time": "2022-09-19T10:27:47.303Z"
   },
   {
    "duration": 8,
    "start_time": "2022-09-19T10:28:40.980Z"
   },
   {
    "duration": 6,
    "start_time": "2022-09-19T10:29:13.838Z"
   },
   {
    "duration": 8,
    "start_time": "2022-09-19T10:30:29.942Z"
   },
   {
    "duration": 14,
    "start_time": "2022-09-19T10:30:48.776Z"
   },
   {
    "duration": 6,
    "start_time": "2022-09-19T10:30:49.179Z"
   },
   {
    "duration": 103,
    "start_time": "2022-09-19T10:30:49.621Z"
   },
   {
    "duration": 8,
    "start_time": "2022-09-19T10:30:52.327Z"
   },
   {
    "duration": 107,
    "start_time": "2022-09-19T10:30:54.024Z"
   },
   {
    "duration": 162,
    "start_time": "2022-09-19T10:31:45.665Z"
   },
   {
    "duration": 146,
    "start_time": "2022-09-19T10:33:39.675Z"
   },
   {
    "duration": 17401,
    "start_time": "2022-09-19T10:33:41.339Z"
   },
   {
    "duration": 14788,
    "start_time": "2022-09-19T10:33:58.741Z"
   },
   {
    "duration": 11,
    "start_time": "2022-09-19T10:34:13.531Z"
   },
   {
    "duration": 33,
    "start_time": "2022-09-19T10:34:13.544Z"
   },
   {
    "duration": 51,
    "start_time": "2022-09-19T10:34:13.579Z"
   },
   {
    "duration": 19,
    "start_time": "2022-09-19T10:47:52.575Z"
   },
   {
    "duration": 6,
    "start_time": "2022-09-19T10:47:53.018Z"
   },
   {
    "duration": 68,
    "start_time": "2022-09-19T10:47:53.559Z"
   },
   {
    "duration": 11,
    "start_time": "2022-09-19T10:47:57.224Z"
   },
   {
    "duration": 97,
    "start_time": "2022-09-19T10:48:04.225Z"
   },
   {
    "duration": 10,
    "start_time": "2022-09-19T10:48:09.781Z"
   },
   {
    "duration": 17095,
    "start_time": "2022-09-19T10:48:19.916Z"
   },
   {
    "duration": 11,
    "start_time": "2022-09-19T10:48:58.050Z"
   },
   {
    "duration": 15205,
    "start_time": "2022-09-19T10:49:06.525Z"
   },
   {
    "duration": 13,
    "start_time": "2022-09-19T10:49:33.221Z"
   },
   {
    "duration": 15,
    "start_time": "2022-09-19T10:50:06.510Z"
   },
   {
    "duration": 6,
    "start_time": "2022-09-19T10:50:07.044Z"
   },
   {
    "duration": 34,
    "start_time": "2022-09-19T10:50:12.657Z"
   },
   {
    "duration": 108,
    "start_time": "2022-09-19T10:50:19.318Z"
   },
   {
    "duration": 15,
    "start_time": "2022-09-19T10:50:50.714Z"
   },
   {
    "duration": 6,
    "start_time": "2022-09-19T10:50:51.321Z"
   },
   {
    "duration": 32,
    "start_time": "2022-09-19T10:50:51.714Z"
   },
   {
    "duration": 54,
    "start_time": "2022-09-19T10:50:53.269Z"
   },
   {
    "duration": 161,
    "start_time": "2022-09-19T10:50:59.760Z"
   },
   {
    "duration": 9,
    "start_time": "2022-09-19T10:51:00.825Z"
   },
   {
    "duration": 144,
    "start_time": "2022-09-19T10:51:02.077Z"
   },
   {
    "duration": 16,
    "start_time": "2022-09-19T10:51:13.810Z"
   },
   {
    "duration": 16,
    "start_time": "2022-09-19T10:51:24.623Z"
   },
   {
    "duration": 6,
    "start_time": "2022-09-19T10:51:24.980Z"
   },
   {
    "duration": 33,
    "start_time": "2022-09-19T10:51:25.452Z"
   },
   {
    "duration": 17,
    "start_time": "2022-09-19T10:51:55.808Z"
   },
   {
    "duration": 6,
    "start_time": "2022-09-19T10:51:56.665Z"
   },
   {
    "duration": 37,
    "start_time": "2022-09-19T10:51:57.313Z"
   },
   {
    "duration": 2046,
    "start_time": "2022-09-19T10:52:02.568Z"
   },
   {
    "duration": 56,
    "start_time": "2022-09-19T10:52:04.617Z"
   },
   {
    "duration": 663,
    "start_time": "2022-09-19T10:52:04.674Z"
   },
   {
    "duration": 8,
    "start_time": "2022-09-19T10:52:05.340Z"
   },
   {
    "duration": 255,
    "start_time": "2022-09-19T10:52:05.350Z"
   },
   {
    "duration": 220,
    "start_time": "2022-09-19T10:52:05.607Z"
   },
   {
    "duration": 217,
    "start_time": "2022-09-19T10:52:05.829Z"
   },
   {
    "duration": 737,
    "start_time": "2022-09-19T10:52:06.049Z"
   },
   {
    "duration": 26,
    "start_time": "2022-09-19T10:52:07.115Z"
   },
   {
    "duration": 10,
    "start_time": "2022-09-19T10:52:07.718Z"
   },
   {
    "duration": 40,
    "start_time": "2022-09-19T10:52:08.681Z"
   },
   {
    "duration": 24,
    "start_time": "2022-09-19T10:52:47.177Z"
   },
   {
    "duration": 16,
    "start_time": "2022-09-19T10:52:53.064Z"
   },
   {
    "duration": 7,
    "start_time": "2022-09-19T10:52:55.318Z"
   },
   {
    "duration": 36,
    "start_time": "2022-09-19T10:52:55.645Z"
   },
   {
    "duration": 37,
    "start_time": "2022-09-19T10:53:12.019Z"
   },
   {
    "duration": 22,
    "start_time": "2022-09-19T10:53:14.837Z"
   },
   {
    "duration": 9,
    "start_time": "2022-09-19T10:53:17.047Z"
   },
   {
    "duration": 14,
    "start_time": "2022-09-19T10:53:18.605Z"
   },
   {
    "duration": 7,
    "start_time": "2022-09-19T10:53:19.451Z"
   },
   {
    "duration": 17,
    "start_time": "2022-09-19T10:53:38.704Z"
   },
   {
    "duration": 8,
    "start_time": "2022-09-19T10:53:39.271Z"
   },
   {
    "duration": 38,
    "start_time": "2022-09-19T10:53:39.902Z"
   },
   {
    "duration": 101,
    "start_time": "2022-09-19T10:53:45.128Z"
   },
   {
    "duration": 9,
    "start_time": "2022-09-19T10:53:47.070Z"
   },
   {
    "duration": 18,
    "start_time": "2022-09-19T10:53:48.733Z"
   },
   {
    "duration": 8,
    "start_time": "2022-09-19T10:53:49.249Z"
   },
   {
    "duration": 15,
    "start_time": "2022-09-19T10:53:55.807Z"
   },
   {
    "duration": 7,
    "start_time": "2022-09-19T10:53:56.050Z"
   },
   {
    "duration": 27,
    "start_time": "2022-09-19T10:54:00.405Z"
   },
   {
    "duration": 9,
    "start_time": "2022-09-19T10:54:01.634Z"
   },
   {
    "duration": 60,
    "start_time": "2022-09-19T10:54:02.669Z"
   },
   {
    "duration": 11,
    "start_time": "2022-09-19T10:54:03.812Z"
   },
   {
    "duration": 2149,
    "start_time": "2022-09-19T10:54:17.265Z"
   },
   {
    "duration": 56,
    "start_time": "2022-09-19T10:54:19.416Z"
   },
   {
    "duration": 653,
    "start_time": "2022-09-19T10:54:19.474Z"
   },
   {
    "duration": 7,
    "start_time": "2022-09-19T10:54:20.129Z"
   },
   {
    "duration": 414,
    "start_time": "2022-09-19T10:54:20.138Z"
   },
   {
    "duration": 205,
    "start_time": "2022-09-19T10:54:20.554Z"
   },
   {
    "duration": 199,
    "start_time": "2022-09-19T10:54:20.761Z"
   },
   {
    "duration": 721,
    "start_time": "2022-09-19T10:54:20.961Z"
   },
   {
    "duration": 22,
    "start_time": "2022-09-19T10:54:21.685Z"
   },
   {
    "duration": 18,
    "start_time": "2022-09-19T10:54:21.709Z"
   },
   {
    "duration": 101,
    "start_time": "2022-09-19T10:54:21.729Z"
   },
   {
    "duration": 18,
    "start_time": "2022-09-19T10:54:29.443Z"
   },
   {
    "duration": 5,
    "start_time": "2022-09-19T10:54:42.181Z"
   },
   {
    "duration": 13,
    "start_time": "2022-09-19T10:54:43.479Z"
   },
   {
    "duration": 5,
    "start_time": "2022-09-19T10:54:52.785Z"
   },
   {
    "duration": 13,
    "start_time": "2022-09-19T10:54:57.320Z"
   },
   {
    "duration": 4,
    "start_time": "2022-09-19T10:54:57.707Z"
   },
   {
    "duration": 12,
    "start_time": "2022-09-19T10:55:01.877Z"
   },
   {
    "duration": 4,
    "start_time": "2022-09-19T10:55:02.206Z"
   },
   {
    "duration": 2094,
    "start_time": "2022-09-19T10:55:23.141Z"
   },
   {
    "duration": 57,
    "start_time": "2022-09-19T10:55:25.237Z"
   },
   {
    "duration": 657,
    "start_time": "2022-09-19T10:55:25.296Z"
   },
   {
    "duration": 7,
    "start_time": "2022-09-19T10:55:25.955Z"
   },
   {
    "duration": 261,
    "start_time": "2022-09-19T10:55:25.963Z"
   },
   {
    "duration": 213,
    "start_time": "2022-09-19T10:55:26.226Z"
   },
   {
    "duration": 214,
    "start_time": "2022-09-19T10:55:26.440Z"
   },
   {
    "duration": 778,
    "start_time": "2022-09-19T10:55:26.656Z"
   },
   {
    "duration": 5,
    "start_time": "2022-09-19T10:55:27.436Z"
   },
   {
    "duration": 24,
    "start_time": "2022-09-19T10:55:27.783Z"
   },
   {
    "duration": 5,
    "start_time": "2022-09-19T10:55:29.048Z"
   },
   {
    "duration": 11,
    "start_time": "2022-09-19T10:55:33.910Z"
   },
   {
    "duration": 4,
    "start_time": "2022-09-19T10:55:34.264Z"
   },
   {
    "duration": 35,
    "start_time": "2022-09-19T10:55:48.207Z"
   },
   {
    "duration": 5,
    "start_time": "2022-09-19T10:55:59.002Z"
   },
   {
    "duration": 12,
    "start_time": "2022-09-19T10:56:00.142Z"
   },
   {
    "duration": 5,
    "start_time": "2022-09-19T10:56:00.877Z"
   },
   {
    "duration": 35,
    "start_time": "2022-09-19T10:56:02.381Z"
   },
   {
    "duration": 8,
    "start_time": "2022-09-19T10:56:08.402Z"
   },
   {
    "duration": 4,
    "start_time": "2022-09-19T10:56:08.727Z"
   },
   {
    "duration": 33,
    "start_time": "2022-09-19T10:56:09.172Z"
   },
   {
    "duration": 2070,
    "start_time": "2022-09-19T10:57:38.924Z"
   },
   {
    "duration": 58,
    "start_time": "2022-09-19T10:57:40.997Z"
   },
   {
    "duration": 886,
    "start_time": "2022-09-19T10:57:41.057Z"
   },
   {
    "duration": 7,
    "start_time": "2022-09-19T10:57:41.945Z"
   },
   {
    "duration": 284,
    "start_time": "2022-09-19T10:57:41.954Z"
   },
   {
    "duration": 216,
    "start_time": "2022-09-19T10:57:42.239Z"
   },
   {
    "duration": 220,
    "start_time": "2022-09-19T10:57:42.457Z"
   },
   {
    "duration": 775,
    "start_time": "2022-09-19T10:57:42.679Z"
   },
   {
    "duration": 5,
    "start_time": "2022-09-19T10:57:43.456Z"
   },
   {
    "duration": 21,
    "start_time": "2022-09-19T10:57:43.463Z"
   },
   {
    "duration": 9,
    "start_time": "2022-09-19T10:57:43.486Z"
   },
   {
    "duration": 28,
    "start_time": "2022-09-19T10:57:43.496Z"
   },
   {
    "duration": 18,
    "start_time": "2022-09-19T10:57:54.491Z"
   },
   {
    "duration": 4,
    "start_time": "2022-09-19T10:57:55.236Z"
   },
   {
    "duration": 37,
    "start_time": "2022-09-19T10:57:56.869Z"
   },
   {
    "duration": 9,
    "start_time": "2022-09-19T10:58:00.706Z"
   },
   {
    "duration": 3,
    "start_time": "2022-09-19T10:58:01.323Z"
   },
   {
    "duration": 10,
    "start_time": "2022-09-19T10:58:25.038Z"
   },
   {
    "duration": 4,
    "start_time": "2022-09-19T10:58:25.412Z"
   },
   {
    "duration": 38,
    "start_time": "2022-09-19T10:58:26.133Z"
   },
   {
    "duration": 5,
    "start_time": "2022-09-19T10:58:54.934Z"
   },
   {
    "duration": 39,
    "start_time": "2022-09-19T10:58:55.339Z"
   },
   {
    "duration": 2058,
    "start_time": "2022-09-19T10:59:13.811Z"
   },
   {
    "duration": 58,
    "start_time": "2022-09-19T10:59:15.872Z"
   },
   {
    "duration": 660,
    "start_time": "2022-09-19T10:59:15.932Z"
   },
   {
    "duration": 7,
    "start_time": "2022-09-19T10:59:16.594Z"
   },
   {
    "duration": 269,
    "start_time": "2022-09-19T10:59:16.602Z"
   },
   {
    "duration": 211,
    "start_time": "2022-09-19T10:59:16.872Z"
   },
   {
    "duration": 211,
    "start_time": "2022-09-19T10:59:17.085Z"
   },
   {
    "duration": 769,
    "start_time": "2022-09-19T10:59:17.298Z"
   },
   {
    "duration": 4,
    "start_time": "2022-09-19T10:59:18.611Z"
   },
   {
    "duration": 45,
    "start_time": "2022-09-19T10:59:19.008Z"
   },
   {
    "duration": 32,
    "start_time": "2022-09-19T10:59:24.697Z"
   },
   {
    "duration": 50,
    "start_time": "2022-09-19T10:59:52.214Z"
   },
   {
    "duration": 4,
    "start_time": "2022-09-19T10:59:56.025Z"
   },
   {
    "duration": 12,
    "start_time": "2022-09-19T10:59:59.016Z"
   },
   {
    "duration": 118,
    "start_time": "2022-09-19T10:59:59.807Z"
   },
   {
    "duration": 10,
    "start_time": "2022-09-19T11:00:01.921Z"
   },
   {
    "duration": 83,
    "start_time": "2022-09-19T11:00:04.138Z"
   },
   {
    "duration": 7,
    "start_time": "2022-09-19T11:00:04.977Z"
   },
   {
    "duration": 16148,
    "start_time": "2022-09-19T11:00:09.398Z"
   },
   {
    "duration": 16185,
    "start_time": "2022-09-19T11:00:25.548Z"
   },
   {
    "duration": 14,
    "start_time": "2022-09-19T11:00:41.737Z"
   },
   {
    "duration": 72,
    "start_time": "2022-09-19T11:00:41.754Z"
   },
   {
    "duration": 3831,
    "start_time": "2022-09-19T11:02:05.016Z"
   },
   {
    "duration": 73,
    "start_time": "2022-09-19T11:02:08.850Z"
   },
   {
    "duration": 845,
    "start_time": "2022-09-19T11:02:08.925Z"
   },
   {
    "duration": 8,
    "start_time": "2022-09-19T11:02:09.772Z"
   },
   {
    "duration": 268,
    "start_time": "2022-09-19T11:02:09.783Z"
   },
   {
    "duration": 242,
    "start_time": "2022-09-19T11:02:10.053Z"
   },
   {
    "duration": 187,
    "start_time": "2022-09-19T11:02:10.297Z"
   },
   {
    "duration": 733,
    "start_time": "2022-09-19T11:02:10.486Z"
   },
   {
    "duration": 5,
    "start_time": "2022-09-19T11:02:11.221Z"
   },
   {
    "duration": 60,
    "start_time": "2022-09-19T11:02:11.227Z"
   },
   {
    "duration": 4,
    "start_time": "2022-09-19T11:02:11.289Z"
   },
   {
    "duration": 27,
    "start_time": "2022-09-19T11:02:11.294Z"
   },
   {
    "duration": 105,
    "start_time": "2022-09-19T11:02:11.322Z"
   },
   {
    "duration": 197,
    "start_time": "2022-09-19T11:02:11.430Z"
   },
   {
    "duration": 93,
    "start_time": "2022-09-19T11:02:11.629Z"
   },
   {
    "duration": 15696,
    "start_time": "2022-09-19T11:02:11.726Z"
   },
   {
    "duration": 17806,
    "start_time": "2022-09-19T11:02:27.423Z"
   },
   {
    "duration": 13,
    "start_time": "2022-09-19T11:02:45.231Z"
   },
   {
    "duration": 18,
    "start_time": "2022-09-19T11:02:45.245Z"
   },
   {
    "duration": 13,
    "start_time": "2022-09-19T11:02:45.265Z"
   },
   {
    "duration": 43,
    "start_time": "2022-09-19T11:03:28.447Z"
   },
   {
    "duration": 4,
    "start_time": "2022-09-19T11:03:30.481Z"
   },
   {
    "duration": 6,
    "start_time": "2022-09-19T11:03:31.348Z"
   },
   {
    "duration": 25,
    "start_time": "2022-09-19T11:03:31.808Z"
   },
   {
    "duration": 3769,
    "start_time": "2022-09-19T11:03:36.656Z"
   },
   {
    "duration": 61,
    "start_time": "2022-09-19T11:03:40.427Z"
   },
   {
    "duration": 762,
    "start_time": "2022-09-19T11:03:40.489Z"
   },
   {
    "duration": 9,
    "start_time": "2022-09-19T11:03:41.253Z"
   },
   {
    "duration": 279,
    "start_time": "2022-09-19T11:03:41.264Z"
   },
   {
    "duration": 258,
    "start_time": "2022-09-19T11:03:41.545Z"
   },
   {
    "duration": 206,
    "start_time": "2022-09-19T11:03:41.805Z"
   },
   {
    "duration": 767,
    "start_time": "2022-09-19T11:03:42.013Z"
   },
   {
    "duration": 5,
    "start_time": "2022-09-19T11:03:42.782Z"
   },
   {
    "duration": 65,
    "start_time": "2022-09-19T11:03:42.790Z"
   },
   {
    "duration": 4,
    "start_time": "2022-09-19T11:03:42.857Z"
   },
   {
    "duration": 13,
    "start_time": "2022-09-19T11:03:42.863Z"
   },
   {
    "duration": 45,
    "start_time": "2022-09-19T11:03:42.878Z"
   },
   {
    "duration": 105,
    "start_time": "2022-09-19T11:03:42.925Z"
   },
   {
    "duration": 195,
    "start_time": "2022-09-19T11:03:43.032Z"
   },
   {
    "duration": 16270,
    "start_time": "2022-09-19T11:03:43.229Z"
   },
   {
    "duration": 14528,
    "start_time": "2022-09-19T11:03:59.501Z"
   },
   {
    "duration": 11,
    "start_time": "2022-09-19T11:04:14.031Z"
   },
   {
    "duration": 11,
    "start_time": "2022-09-19T11:04:14.044Z"
   },
   {
    "duration": 77,
    "start_time": "2022-09-19T11:04:14.056Z"
   },
   {
    "duration": 3728,
    "start_time": "2022-09-19T11:04:29.980Z"
   },
   {
    "duration": 61,
    "start_time": "2022-09-19T11:04:33.710Z"
   },
   {
    "duration": 778,
    "start_time": "2022-09-19T11:04:33.772Z"
   },
   {
    "duration": 9,
    "start_time": "2022-09-19T11:04:34.554Z"
   },
   {
    "duration": 263,
    "start_time": "2022-09-19T11:04:34.565Z"
   },
   {
    "duration": 232,
    "start_time": "2022-09-19T11:04:34.831Z"
   },
   {
    "duration": 194,
    "start_time": "2022-09-19T11:04:35.065Z"
   },
   {
    "duration": 718,
    "start_time": "2022-09-19T11:04:35.261Z"
   },
   {
    "duration": 4,
    "start_time": "2022-09-19T11:04:35.981Z"
   },
   {
    "duration": 89,
    "start_time": "2022-09-19T11:04:35.987Z"
   },
   {
    "duration": 4,
    "start_time": "2022-09-19T11:04:36.077Z"
   },
   {
    "duration": 37,
    "start_time": "2022-09-19T11:04:36.083Z"
   },
   {
    "duration": 201,
    "start_time": "2022-09-19T11:04:36.122Z"
   },
   {
    "duration": 9,
    "start_time": "2022-09-19T11:04:36.325Z"
   },
   {
    "duration": 192,
    "start_time": "2022-09-19T11:04:36.336Z"
   },
   {
    "duration": 15948,
    "start_time": "2022-09-19T11:04:36.621Z"
   },
   {
    "duration": 14566,
    "start_time": "2022-09-19T11:04:52.571Z"
   },
   {
    "duration": 95,
    "start_time": "2022-09-19T11:05:07.139Z"
   },
   {
    "duration": 43,
    "start_time": "2022-09-19T11:05:07.236Z"
   },
   {
    "duration": 29,
    "start_time": "2022-09-19T11:05:07.281Z"
   },
   {
    "duration": 4,
    "start_time": "2022-09-19T11:05:41.251Z"
   },
   {
    "duration": 43,
    "start_time": "2022-09-19T11:05:42.147Z"
   },
   {
    "duration": 40,
    "start_time": "2022-09-19T11:05:53.409Z"
   },
   {
    "duration": 2353,
    "start_time": "2022-09-19T11:06:17.378Z"
   },
   {
    "duration": 77,
    "start_time": "2022-09-19T11:06:19.734Z"
   },
   {
    "duration": 760,
    "start_time": "2022-09-19T11:06:19.814Z"
   },
   {
    "duration": 7,
    "start_time": "2022-09-19T11:06:20.576Z"
   },
   {
    "duration": 253,
    "start_time": "2022-09-19T11:06:20.585Z"
   },
   {
    "duration": 205,
    "start_time": "2022-09-19T11:06:20.841Z"
   },
   {
    "duration": 212,
    "start_time": "2022-09-19T11:06:21.048Z"
   },
   {
    "duration": 716,
    "start_time": "2022-09-19T11:06:21.262Z"
   },
   {
    "duration": 4,
    "start_time": "2022-09-19T11:06:21.982Z"
   },
   {
    "duration": 36,
    "start_time": "2022-09-19T11:06:21.987Z"
   },
   {
    "duration": 3,
    "start_time": "2022-09-19T11:06:24.642Z"
   },
   {
    "duration": 9,
    "start_time": "2022-09-19T11:06:27.241Z"
   },
   {
    "duration": 79,
    "start_time": "2022-09-19T11:06:27.945Z"
   },
   {
    "duration": 11,
    "start_time": "2022-09-19T11:06:29.128Z"
   },
   {
    "duration": 94,
    "start_time": "2022-09-19T11:06:30.432Z"
   },
   {
    "duration": 8,
    "start_time": "2022-09-19T11:06:36.408Z"
   },
   {
    "duration": 15507,
    "start_time": "2022-09-19T11:06:40.302Z"
   },
   {
    "duration": 12119,
    "start_time": "2022-09-19T11:06:55.811Z"
   },
   {
    "duration": 13,
    "start_time": "2022-09-19T11:07:07.931Z"
   },
   {
    "duration": 15,
    "start_time": "2022-09-19T11:07:07.946Z"
   },
   {
    "duration": 67,
    "start_time": "2022-09-19T11:07:07.963Z"
   },
   {
    "duration": 2117,
    "start_time": "2022-09-19T11:07:43.737Z"
   },
   {
    "duration": 55,
    "start_time": "2022-09-19T11:07:45.857Z"
   },
   {
    "duration": 778,
    "start_time": "2022-09-19T11:07:45.914Z"
   },
   {
    "duration": 8,
    "start_time": "2022-09-19T11:07:46.695Z"
   },
   {
    "duration": 267,
    "start_time": "2022-09-19T11:07:46.704Z"
   },
   {
    "duration": 210,
    "start_time": "2022-09-19T11:07:46.973Z"
   },
   {
    "duration": 218,
    "start_time": "2022-09-19T11:07:47.186Z"
   },
   {
    "duration": 769,
    "start_time": "2022-09-19T11:07:47.406Z"
   },
   {
    "duration": 4,
    "start_time": "2022-09-19T11:07:48.178Z"
   },
   {
    "duration": 23,
    "start_time": "2022-09-19T11:07:48.520Z"
   },
   {
    "duration": 4,
    "start_time": "2022-09-19T11:07:49.745Z"
   },
   {
    "duration": 9,
    "start_time": "2022-09-19T11:07:54.761Z"
   },
   {
    "duration": 4,
    "start_time": "2022-09-19T11:07:55.210Z"
   },
   {
    "duration": 161,
    "start_time": "2022-09-19T11:08:02.062Z"
   },
   {
    "duration": 4,
    "start_time": "2022-09-19T11:08:04.634Z"
   },
   {
    "duration": 9,
    "start_time": "2022-09-19T11:08:08.321Z"
   },
   {
    "duration": 5,
    "start_time": "2022-09-19T11:08:19.581Z"
   },
   {
    "duration": 5,
    "start_time": "2022-09-19T11:08:26.784Z"
   },
   {
    "duration": 4,
    "start_time": "2022-09-19T11:08:32.964Z"
   },
   {
    "duration": 39,
    "start_time": "2022-09-19T11:09:19.585Z"
   },
   {
    "duration": 94,
    "start_time": "2022-09-19T11:09:42.627Z"
   },
   {
    "duration": 7,
    "start_time": "2022-09-19T11:09:51.474Z"
   },
   {
    "duration": 15559,
    "start_time": "2022-09-19T11:10:20.838Z"
   },
   {
    "duration": 13833,
    "start_time": "2022-09-19T11:10:36.399Z"
   },
   {
    "duration": 9,
    "start_time": "2022-09-19T11:10:55.325Z"
   },
   {
    "duration": 12,
    "start_time": "2022-09-19T11:10:56.384Z"
   },
   {
    "duration": 11,
    "start_time": "2022-09-19T11:10:57.138Z"
   },
   {
    "duration": 9,
    "start_time": "2022-09-19T11:11:50.995Z"
   },
   {
    "duration": 12,
    "start_time": "2022-09-19T11:11:51.445Z"
   },
   {
    "duration": 12,
    "start_time": "2022-09-19T11:11:52.069Z"
   },
   {
    "duration": 15288,
    "start_time": "2022-09-19T11:12:47.982Z"
   },
   {
    "duration": 12243,
    "start_time": "2022-09-19T11:13:05.089Z"
   },
   {
    "duration": 7,
    "start_time": "2022-09-19T11:13:20.131Z"
   },
   {
    "duration": 12,
    "start_time": "2022-09-19T11:13:23.039Z"
   },
   {
    "duration": 13,
    "start_time": "2022-09-19T11:13:24.161Z"
   },
   {
    "duration": 3719,
    "start_time": "2022-09-19T11:18:59.812Z"
   },
   {
    "duration": 60,
    "start_time": "2022-09-19T11:19:03.533Z"
   },
   {
    "duration": 770,
    "start_time": "2022-09-19T11:19:03.595Z"
   },
   {
    "duration": 9,
    "start_time": "2022-09-19T11:19:04.368Z"
   },
   {
    "duration": 259,
    "start_time": "2022-09-19T11:19:04.378Z"
   },
   {
    "duration": 228,
    "start_time": "2022-09-19T11:19:04.639Z"
   },
   {
    "duration": 195,
    "start_time": "2022-09-19T11:19:04.869Z"
   },
   {
    "duration": 717,
    "start_time": "2022-09-19T11:19:05.066Z"
   },
   {
    "duration": 4,
    "start_time": "2022-09-19T11:19:05.785Z"
   },
   {
    "duration": 43,
    "start_time": "2022-09-19T11:19:05.791Z"
   },
   {
    "duration": 10,
    "start_time": "2022-09-19T11:19:05.835Z"
   },
   {
    "duration": 74,
    "start_time": "2022-09-19T11:19:05.847Z"
   },
   {
    "duration": 102,
    "start_time": "2022-09-19T11:19:05.923Z"
   },
   {
    "duration": 12,
    "start_time": "2022-09-19T11:19:06.027Z"
   },
   {
    "duration": 10,
    "start_time": "2022-09-19T11:19:06.041Z"
   },
   {
    "duration": 73,
    "start_time": "2022-09-19T11:19:06.053Z"
   },
   {
    "duration": 15602,
    "start_time": "2022-09-19T11:19:06.128Z"
   },
   {
    "duration": 12396,
    "start_time": "2022-09-19T11:19:21.732Z"
   },
   {
    "duration": 94,
    "start_time": "2022-09-19T11:19:34.130Z"
   },
   {
    "duration": 99,
    "start_time": "2022-09-19T11:19:34.228Z"
   },
   {
    "duration": 24,
    "start_time": "2022-09-19T11:19:34.328Z"
   },
   {
    "duration": 61,
    "start_time": "2022-09-19T15:22:44.658Z"
   },
   {
    "duration": 9,
    "start_time": "2022-09-19T15:22:50.766Z"
   },
   {
    "duration": 5196,
    "start_time": "2022-09-19T15:22:53.337Z"
   },
   {
    "duration": 157,
    "start_time": "2022-09-19T15:23:01.287Z"
   },
   {
    "duration": 808,
    "start_time": "2022-09-19T15:23:04.952Z"
   },
   {
    "duration": 8,
    "start_time": "2022-09-19T15:23:14.585Z"
   },
   {
    "duration": 261,
    "start_time": "2022-09-19T15:23:20.613Z"
   },
   {
    "duration": 277,
    "start_time": "2022-09-19T15:25:54.918Z"
   },
   {
    "duration": 94,
    "start_time": "2022-09-19T15:28:15.757Z"
   },
   {
    "duration": 247,
    "start_time": "2022-09-19T15:28:21.616Z"
   },
   {
    "duration": 273,
    "start_time": "2022-09-19T15:28:30.985Z"
   },
   {
    "duration": 255,
    "start_time": "2022-09-19T15:29:14.352Z"
   },
   {
    "duration": 356,
    "start_time": "2022-09-19T15:29:29.088Z"
   },
   {
    "duration": 261,
    "start_time": "2022-09-19T15:30:04.693Z"
   },
   {
    "duration": 365,
    "start_time": "2022-09-19T15:30:13.943Z"
   },
   {
    "duration": 280,
    "start_time": "2022-09-19T15:33:43.141Z"
   },
   {
    "duration": 349,
    "start_time": "2022-09-19T15:34:01.636Z"
   },
   {
    "duration": 220,
    "start_time": "2022-09-19T15:35:21.699Z"
   },
   {
    "duration": 220,
    "start_time": "2022-09-19T15:35:47.395Z"
   },
   {
    "duration": 721,
    "start_time": "2022-09-19T15:37:05.368Z"
   },
   {
    "duration": 295,
    "start_time": "2022-09-19T15:37:38.250Z"
   },
   {
    "duration": 315,
    "start_time": "2022-09-19T15:37:45.590Z"
   },
   {
    "duration": 152,
    "start_time": "2022-09-19T15:37:49.984Z"
   },
   {
    "duration": 444,
    "start_time": "2022-09-19T15:38:16.825Z"
   },
   {
    "duration": 138,
    "start_time": "2022-09-19T15:38:18.557Z"
   },
   {
    "duration": 300,
    "start_time": "2022-09-19T15:38:19.766Z"
   },
   {
    "duration": 279,
    "start_time": "2022-09-19T15:38:33.650Z"
   },
   {
    "duration": 259,
    "start_time": "2022-09-19T15:38:44.142Z"
   },
   {
    "duration": 244,
    "start_time": "2022-09-19T15:38:48.757Z"
   },
   {
    "duration": 381,
    "start_time": "2022-09-19T15:39:01.119Z"
   },
   {
    "duration": 183,
    "start_time": "2022-09-19T15:39:02.917Z"
   },
   {
    "duration": 263,
    "start_time": "2022-09-19T15:39:08.880Z"
   },
   {
    "duration": 248,
    "start_time": "2022-09-19T15:39:20.925Z"
   },
   {
    "duration": 223,
    "start_time": "2022-09-19T15:39:22.412Z"
   },
   {
    "duration": 396,
    "start_time": "2022-09-19T15:39:27.723Z"
   },
   {
    "duration": 254,
    "start_time": "2022-09-19T15:40:03.295Z"
   },
   {
    "duration": 155,
    "start_time": "2022-09-19T15:40:13.088Z"
   },
   {
    "duration": 242,
    "start_time": "2022-09-19T15:40:21.698Z"
   },
   {
    "duration": 11,
    "start_time": "2022-09-19T15:43:36.942Z"
   },
   {
    "duration": 20,
    "start_time": "2022-09-19T15:45:08.771Z"
   },
   {
    "duration": 236,
    "start_time": "2022-09-19T15:45:12.584Z"
   },
   {
    "duration": 14,
    "start_time": "2022-09-19T15:46:18.114Z"
   },
   {
    "duration": 8,
    "start_time": "2022-09-19T15:46:20.925Z"
   },
   {
    "duration": 158,
    "start_time": "2022-09-19T15:46:32.556Z"
   },
   {
    "duration": 9841,
    "start_time": "2022-09-19T15:46:44.647Z"
   },
   {
    "duration": 10076,
    "start_time": "2022-09-19T15:47:37.745Z"
   },
   {
    "duration": 151,
    "start_time": "2022-09-19T15:48:09.581Z"
   },
   {
    "duration": 13177,
    "start_time": "2022-09-19T15:48:56.458Z"
   },
   {
    "duration": 112,
    "start_time": "2022-09-19T15:49:30.076Z"
   },
   {
    "duration": 10,
    "start_time": "2022-09-19T15:49:35.157Z"
   },
   {
    "duration": 721,
    "start_time": "2022-09-19T15:49:59.005Z"
   },
   {
    "duration": 8,
    "start_time": "2022-09-19T15:50:27.214Z"
   },
   {
    "duration": 329,
    "start_time": "2022-09-19T15:50:44.221Z"
   },
   {
    "duration": 141,
    "start_time": "2022-09-19T15:51:03.432Z"
   },
   {
    "duration": 10,
    "start_time": "2022-09-19T15:51:16.164Z"
   },
   {
    "duration": 745,
    "start_time": "2022-09-19T15:51:46.193Z"
   },
   {
    "duration": 150,
    "start_time": "2022-09-19T15:51:51.922Z"
   },
   {
    "duration": 168,
    "start_time": "2022-09-19T15:53:20.449Z"
   },
   {
    "duration": 166,
    "start_time": "2022-09-19T15:53:32.696Z"
   },
   {
    "duration": 189,
    "start_time": "2022-09-19T15:53:47.985Z"
   },
   {
    "duration": 705,
    "start_time": "2022-09-19T15:54:07.369Z"
   },
   {
    "duration": 144,
    "start_time": "2022-09-19T15:54:29.488Z"
   },
   {
    "duration": 8,
    "start_time": "2022-09-19T15:55:42.868Z"
   },
   {
    "duration": 166,
    "start_time": "2022-09-19T15:55:45.837Z"
   },
   {
    "duration": 161,
    "start_time": "2022-09-19T15:56:19.152Z"
   },
   {
    "duration": 171,
    "start_time": "2022-09-19T15:56:30.939Z"
   },
   {
    "duration": 156,
    "start_time": "2022-09-19T15:56:41.293Z"
   },
   {
    "duration": 176,
    "start_time": "2022-09-19T15:56:46.849Z"
   },
   {
    "duration": 182,
    "start_time": "2022-09-19T15:56:50.744Z"
   },
   {
    "duration": 162,
    "start_time": "2022-09-19T15:56:54.884Z"
   },
   {
    "duration": 184,
    "start_time": "2022-09-19T15:57:12.417Z"
   },
   {
    "duration": 160,
    "start_time": "2022-09-19T15:58:13.582Z"
   },
   {
    "duration": 170,
    "start_time": "2022-09-19T15:58:27.869Z"
   },
   {
    "duration": 169,
    "start_time": "2022-09-19T15:58:41.011Z"
   },
   {
    "duration": 191,
    "start_time": "2022-09-19T16:02:41.994Z"
   },
   {
    "duration": 45,
    "start_time": "2022-09-19T16:06:54.479Z"
   },
   {
    "duration": 131,
    "start_time": "2022-09-19T16:07:32.866Z"
   },
   {
    "duration": 122,
    "start_time": "2022-09-19T16:07:43.868Z"
   },
   {
    "duration": 148,
    "start_time": "2022-09-19T16:07:53.863Z"
   },
   {
    "duration": 119,
    "start_time": "2022-09-19T16:08:11.056Z"
   },
   {
    "duration": 5,
    "start_time": "2022-09-19T16:08:20.327Z"
   },
   {
    "duration": 33,
    "start_time": "2022-09-19T16:08:20.542Z"
   },
   {
    "duration": 10,
    "start_time": "2022-09-19T16:08:20.656Z"
   },
   {
    "duration": 9,
    "start_time": "2022-09-19T16:08:20.992Z"
   },
   {
    "duration": 188,
    "start_time": "2022-09-19T16:08:21.210Z"
   },
   {
    "duration": 4,
    "start_time": "2022-09-19T16:08:21.401Z"
   },
   {
    "duration": 8,
    "start_time": "2022-09-19T16:08:21.625Z"
   },
   {
    "duration": 5,
    "start_time": "2022-09-19T16:08:21.840Z"
   },
   {
    "duration": 183,
    "start_time": "2022-09-19T16:08:22.515Z"
   },
   {
    "duration": 15771,
    "start_time": "2022-09-19T16:08:22.897Z"
   },
   {
    "duration": 418261,
    "start_time": "2022-09-19T16:08:38.670Z"
   },
   {
    "duration": 18,
    "start_time": "2022-09-19T16:15:36.933Z"
   },
   {
    "duration": 156,
    "start_time": "2022-09-19T16:15:36.954Z"
   },
   {
    "duration": 9,
    "start_time": "2022-09-19T16:15:37.113Z"
   },
   {
    "duration": 3717,
    "start_time": "2022-09-19T16:22:10.996Z"
   },
   {
    "duration": 59,
    "start_time": "2022-09-19T16:22:14.716Z"
   },
   {
    "duration": 856,
    "start_time": "2022-09-19T16:22:14.777Z"
   },
   {
    "duration": 12,
    "start_time": "2022-09-19T16:22:15.636Z"
   },
   {
    "duration": 293,
    "start_time": "2022-09-19T16:22:15.650Z"
   },
   {
    "duration": 260,
    "start_time": "2022-09-19T16:22:15.945Z"
   },
   {
    "duration": 229,
    "start_time": "2022-09-19T16:22:16.207Z"
   },
   {
    "duration": 318,
    "start_time": "2022-09-19T16:22:16.438Z"
   },
   {
    "duration": 10,
    "start_time": "2022-09-19T16:22:16.758Z"
   },
   {
    "duration": 195,
    "start_time": "2022-09-19T16:22:16.772Z"
   },
   {
    "duration": 256,
    "start_time": "2022-09-19T16:22:16.969Z"
   },
   {
    "duration": 5,
    "start_time": "2022-09-19T16:22:17.226Z"
   },
   {
    "duration": 29,
    "start_time": "2022-09-19T16:22:17.232Z"
   },
   {
    "duration": 10,
    "start_time": "2022-09-19T16:22:17.263Z"
   },
   {
    "duration": 11,
    "start_time": "2022-09-19T16:22:17.295Z"
   },
   {
    "duration": 302,
    "start_time": "2022-09-19T16:22:17.308Z"
   },
   {
    "duration": 4,
    "start_time": "2022-09-19T16:22:17.612Z"
   },
   {
    "duration": 94,
    "start_time": "2022-09-19T16:22:17.618Z"
   },
   {
    "duration": 87,
    "start_time": "2022-09-19T16:22:17.714Z"
   },
   {
    "duration": 103,
    "start_time": "2022-09-19T16:22:17.804Z"
   },
   {
    "duration": 15945,
    "start_time": "2022-09-19T16:22:17.909Z"
   },
   {
    "duration": 92564,
    "start_time": "2022-09-19T16:22:33.856Z"
   },
   {
    "duration": 12,
    "start_time": "2022-09-19T16:24:06.422Z"
   },
   {
    "duration": 165,
    "start_time": "2022-09-19T16:24:06.437Z"
   },
   {
    "duration": 12,
    "start_time": "2022-09-19T16:24:06.604Z"
   },
   {
    "duration": 466,
    "start_time": "2022-09-19T16:24:06.618Z"
   },
   {
    "duration": 8,
    "start_time": "2022-09-19T16:24:10.942Z"
   },
   {
    "duration": 16,
    "start_time": "2022-09-19T16:24:11.648Z"
   },
   {
    "duration": 151,
    "start_time": "2022-09-19T16:24:48.777Z"
   },
   {
    "duration": 11,
    "start_time": "2022-09-19T16:25:15.505Z"
   },
   {
    "duration": 6,
    "start_time": "2022-09-19T16:25:44.126Z"
   },
   {
    "duration": 10,
    "start_time": "2022-09-19T16:25:58.720Z"
   },
   {
    "duration": 134,
    "start_time": "2022-09-19T16:26:21.734Z"
   },
   {
    "duration": 145,
    "start_time": "2022-09-19T16:26:49.103Z"
   },
   {
    "duration": 12,
    "start_time": "2022-09-19T16:27:15.801Z"
   },
   {
    "duration": 14,
    "start_time": "2022-09-19T16:29:03.022Z"
   },
   {
    "duration": 14,
    "start_time": "2022-09-19T16:29:39.213Z"
   },
   {
    "duration": 19,
    "start_time": "2022-09-19T16:29:46.880Z"
   },
   {
    "duration": 18,
    "start_time": "2022-09-19T16:29:54.321Z"
   },
   {
    "duration": 21,
    "start_time": "2022-09-19T16:30:03.868Z"
   },
   {
    "duration": 8,
    "start_time": "2022-09-19T16:30:14.551Z"
   },
   {
    "duration": 15,
    "start_time": "2022-09-19T16:31:10.544Z"
   },
   {
    "duration": 6,
    "start_time": "2022-09-19T16:31:18.571Z"
   },
   {
    "duration": 7,
    "start_time": "2022-09-19T16:53:25.212Z"
   },
   {
    "duration": 10,
    "start_time": "2022-09-19T16:56:10.354Z"
   },
   {
    "duration": 109,
    "start_time": "2022-09-19T16:57:02.648Z"
   },
   {
    "duration": 10,
    "start_time": "2022-09-19T16:58:34.477Z"
   },
   {
    "duration": 4,
    "start_time": "2022-09-19T16:58:51.908Z"
   },
   {
    "duration": 216,
    "start_time": "2022-09-19T16:58:59.457Z"
   },
   {
    "duration": 233,
    "start_time": "2022-09-19T17:01:42.838Z"
   },
   {
    "duration": 212,
    "start_time": "2022-09-19T17:03:48.489Z"
   },
   {
    "duration": 146,
    "start_time": "2022-09-19T17:07:12.957Z"
   },
   {
    "duration": 16,
    "start_time": "2022-09-19T17:07:19.965Z"
   },
   {
    "duration": 146,
    "start_time": "2022-09-19T17:07:20.639Z"
   },
   {
    "duration": 19,
    "start_time": "2022-09-19T17:08:24.238Z"
   },
   {
    "duration": 171,
    "start_time": "2022-09-19T17:08:25.610Z"
   },
   {
    "duration": 234,
    "start_time": "2022-09-19T17:12:37.822Z"
   }
  ],
  "kernelspec": {
   "display_name": "Python 3 (ipykernel)",
   "language": "python",
   "name": "python3"
  },
  "language_info": {
   "codemirror_mode": {
    "name": "ipython",
    "version": 3
   },
   "file_extension": ".py",
   "mimetype": "text/x-python",
   "name": "python",
   "nbconvert_exporter": "python",
   "pygments_lexer": "ipython3",
   "version": "3.9.7"
  },
  "toc": {
   "base_numbering": 1,
   "nav_menu": {},
   "number_sections": true,
   "sideBar": true,
   "skip_h1_title": true,
   "title_cell": "Содержание",
   "title_sidebar": "Contents",
   "toc_cell": true,
   "toc_position": {
    "height": "calc(100% - 180px)",
    "left": "10px",
    "top": "150px",
    "width": "165px"
   },
   "toc_section_display": true,
   "toc_window_display": true
  }
 },
 "nbformat": 4,
 "nbformat_minor": 2
}
