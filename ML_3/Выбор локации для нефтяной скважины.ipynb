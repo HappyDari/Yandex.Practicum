{
 "cells": [
  {
   "cell_type": "markdown",
   "metadata": {},
   "source": [
    "# Выбор локации для нефтяной скважины"
   ]
  },
  {
   "cell_type": "markdown",
   "metadata": {},
   "source": [
    "Необходимо провести исследоване для нефтедобывающей компании и решить, в каком из трех регионов будет выгоднее бурить новую скважину.\n",
    "\n",
    "Нам предоставлены пробы нефти в трёх регионах: в каждом 10 000 месторождений, где измерили качество нефти и объём её запасов. \n",
    "\n",
    "**Задача**\n",
    "\n",
    "Построить модель машинного обучения, которая поможет определить регион, где добыча принесёт наибольшую прибыль. Проанализировать возможную прибыль и риски техникой *Bootstrap*.\n",
    "\n",
    "Шаги для выбора локации:\n",
    "\n",
    "- В избранном регионе ищут месторождения, для каждого определяют значения признаков;\n",
    "- Строят модель и оценивают объём запасов;\n",
    "- Выбирают месторождения с самым высокими оценками значений. Количество месторождений зависит от бюджета компании и стоимости разработки одной скважины;\n",
    "- Прибыль равна суммарной прибыли отобранных месторождений."
   ]
  },
  {
   "cell_type": "markdown",
   "metadata": {},
   "source": [
    "## Загрузка и подготовка данных"
   ]
  },
  {
   "cell_type": "markdown",
   "metadata": {},
   "source": [
    "### Изучение данных"
   ]
  },
  {
   "cell_type": "code",
   "execution_count": 1,
   "metadata": {},
   "outputs": [],
   "source": [
    "# Импортируем все необходимые библиотеки\n",
    "import pandas as pd\n",
    "from sklearn.model_selection import train_test_split\n",
    "from sklearn.preprocessing import StandardScaler \n",
    "from sklearn.utils import shuffle\n",
    "from sklearn.linear_model import LinearRegression\n",
    "from sklearn.metrics import mean_squared_error\n",
    "import numpy as np"
   ]
  },
  {
   "cell_type": "code",
   "execution_count": 2,
   "metadata": {},
   "outputs": [
    {
     "name": "stdout",
     "output_type": "stream",
     "text": [
      "<class 'pandas.core.frame.DataFrame'>\n",
      "RangeIndex: 100000 entries, 0 to 99999\n",
      "Data columns (total 5 columns):\n",
      " #   Column   Non-Null Count   Dtype  \n",
      "---  ------   --------------   -----  \n",
      " 0   id       100000 non-null  object \n",
      " 1   f0       100000 non-null  float64\n",
      " 2   f1       100000 non-null  float64\n",
      " 3   f2       100000 non-null  float64\n",
      " 4   product  100000 non-null  float64\n",
      "dtypes: float64(4), object(1)\n",
      "memory usage: 3.8+ MB\n"
     ]
    },
    {
     "data": {
      "text/html": [
       "<div>\n",
       "<style scoped>\n",
       "    .dataframe tbody tr th:only-of-type {\n",
       "        vertical-align: middle;\n",
       "    }\n",
       "\n",
       "    .dataframe tbody tr th {\n",
       "        vertical-align: top;\n",
       "    }\n",
       "\n",
       "    .dataframe thead th {\n",
       "        text-align: right;\n",
       "    }\n",
       "</style>\n",
       "<table border=\"1\" class=\"dataframe\">\n",
       "  <thead>\n",
       "    <tr style=\"text-align: right;\">\n",
       "      <th></th>\n",
       "      <th>id</th>\n",
       "      <th>f0</th>\n",
       "      <th>f1</th>\n",
       "      <th>f2</th>\n",
       "      <th>product</th>\n",
       "    </tr>\n",
       "  </thead>\n",
       "  <tbody>\n",
       "    <tr>\n",
       "      <th>0</th>\n",
       "      <td>txEyH</td>\n",
       "      <td>0.705745</td>\n",
       "      <td>-0.497823</td>\n",
       "      <td>1.221170</td>\n",
       "      <td>105.280062</td>\n",
       "    </tr>\n",
       "    <tr>\n",
       "      <th>1</th>\n",
       "      <td>2acmU</td>\n",
       "      <td>1.334711</td>\n",
       "      <td>-0.340164</td>\n",
       "      <td>4.365080</td>\n",
       "      <td>73.037750</td>\n",
       "    </tr>\n",
       "    <tr>\n",
       "      <th>2</th>\n",
       "      <td>409Wp</td>\n",
       "      <td>1.022732</td>\n",
       "      <td>0.151990</td>\n",
       "      <td>1.419926</td>\n",
       "      <td>85.265647</td>\n",
       "    </tr>\n",
       "    <tr>\n",
       "      <th>3</th>\n",
       "      <td>iJLyR</td>\n",
       "      <td>-0.032172</td>\n",
       "      <td>0.139033</td>\n",
       "      <td>2.978566</td>\n",
       "      <td>168.620776</td>\n",
       "    </tr>\n",
       "    <tr>\n",
       "      <th>4</th>\n",
       "      <td>Xdl7t</td>\n",
       "      <td>1.988431</td>\n",
       "      <td>0.155413</td>\n",
       "      <td>4.751769</td>\n",
       "      <td>154.036647</td>\n",
       "    </tr>\n",
       "    <tr>\n",
       "      <th>...</th>\n",
       "      <td>...</td>\n",
       "      <td>...</td>\n",
       "      <td>...</td>\n",
       "      <td>...</td>\n",
       "      <td>...</td>\n",
       "    </tr>\n",
       "    <tr>\n",
       "      <th>99995</th>\n",
       "      <td>DLsed</td>\n",
       "      <td>0.971957</td>\n",
       "      <td>0.370953</td>\n",
       "      <td>6.075346</td>\n",
       "      <td>110.744026</td>\n",
       "    </tr>\n",
       "    <tr>\n",
       "      <th>99996</th>\n",
       "      <td>QKivN</td>\n",
       "      <td>1.392429</td>\n",
       "      <td>-0.382606</td>\n",
       "      <td>1.273912</td>\n",
       "      <td>122.346843</td>\n",
       "    </tr>\n",
       "    <tr>\n",
       "      <th>99997</th>\n",
       "      <td>3rnvd</td>\n",
       "      <td>1.029585</td>\n",
       "      <td>0.018787</td>\n",
       "      <td>-1.348308</td>\n",
       "      <td>64.375443</td>\n",
       "    </tr>\n",
       "    <tr>\n",
       "      <th>99998</th>\n",
       "      <td>7kl59</td>\n",
       "      <td>0.998163</td>\n",
       "      <td>-0.528582</td>\n",
       "      <td>1.583869</td>\n",
       "      <td>74.040764</td>\n",
       "    </tr>\n",
       "    <tr>\n",
       "      <th>99999</th>\n",
       "      <td>1CWhH</td>\n",
       "      <td>1.764754</td>\n",
       "      <td>-0.266417</td>\n",
       "      <td>5.722849</td>\n",
       "      <td>149.633246</td>\n",
       "    </tr>\n",
       "  </tbody>\n",
       "</table>\n",
       "<p>100000 rows × 5 columns</p>\n",
       "</div>"
      ],
      "text/plain": [
       "          id        f0        f1        f2     product\n",
       "0      txEyH  0.705745 -0.497823  1.221170  105.280062\n",
       "1      2acmU  1.334711 -0.340164  4.365080   73.037750\n",
       "2      409Wp  1.022732  0.151990  1.419926   85.265647\n",
       "3      iJLyR -0.032172  0.139033  2.978566  168.620776\n",
       "4      Xdl7t  1.988431  0.155413  4.751769  154.036647\n",
       "...      ...       ...       ...       ...         ...\n",
       "99995  DLsed  0.971957  0.370953  6.075346  110.744026\n",
       "99996  QKivN  1.392429 -0.382606  1.273912  122.346843\n",
       "99997  3rnvd  1.029585  0.018787 -1.348308   64.375443\n",
       "99998  7kl59  0.998163 -0.528582  1.583869   74.040764\n",
       "99999  1CWhH  1.764754 -0.266417  5.722849  149.633246\n",
       "\n",
       "[100000 rows x 5 columns]"
      ]
     },
     "metadata": {},
     "output_type": "display_data"
    }
   ],
   "source": [
    "# откроем и изучим данные\n",
    "data0 = pd.read_csv('geo_data_0.csv')\n",
    "data1 = pd.read_csv('geo_data_1.csv')\n",
    "data2 = pd.read_csv('geo_data_2.csv')\n",
    "\n",
    "data0.info()\n",
    "#data1.info()\n",
    "#data2.info()\n",
    "\n",
    "display (data0)"
   ]
  },
  {
   "cell_type": "markdown",
   "metadata": {},
   "source": [
    "В трех таблицах содержатся данные геологоразведки трёх регионов. Каждый объект датасетов - характеристики скважины. По документации к данным:\n",
    "\n",
    "* `id` - уникальный идентификатор скважины;\n",
    "* `f0`, `f1`, `f2` - три признака точек (неважно, что они означают, но сами признаки значимы);\n",
    "* `product` - объём запасов в скважине (тыс. баррелей).\n",
    "\n",
    "В данных нет пропусков и все значения численные, масштаб примерно одинаков. Столбец с уникальным идентификатором можно удалить, чтобы не мешать модели обучаться. Потом мы сможем восстановить ID по индексу объекта.\n"
   ]
  },
  {
   "cell_type": "markdown",
   "metadata": {},
   "source": [
    "**Условия задачи:**\n",
    "\n",
    "* Для обучения модели подходит только линейная регрессия (остальные — недостаточно предсказуемые).\n",
    "* При разведке региона исследуют 500 точек, из которых с помощью машинного обучения выбирают 200 лучших для разработки.\n",
    "* Бюджет на разработку скважин в регионе — 10 млрд рублей.\n",
    "* При нынешних ценах один баррель сырья приносит 450 рублей дохода. Доход с каждой единицы продукта составляет 450 тыс. рублей, поскольку объём указан в тысячах баррелей.\n",
    "* После оценки рисков нужно оставить лишь те регионы, в которых вероятность убытков меньше 2.5%. Среди них выбирают регион с наибольшей средней прибылью.\n",
    "* Данные синтетические: детали контрактов и характеристики месторождений не разглашаются."
   ]
  },
  {
   "cell_type": "code",
   "execution_count": 3,
   "metadata": {},
   "outputs": [],
   "source": [
    "def dropid(data):\n",
    "    df = data.drop('id', axis=1)\n",
    "    return df\n",
    "df0 = dropid(data0)\n",
    "df1 = dropid(data1)\n",
    "df2 = dropid(data2)"
   ]
  },
  {
   "cell_type": "markdown",
   "metadata": {},
   "source": [
    "## Обучение и проверка модели"
   ]
  },
  {
   "cell_type": "markdown",
   "metadata": {},
   "source": [
    "### Разделение на выборки"
   ]
  },
  {
   "cell_type": "markdown",
   "metadata": {},
   "source": [
    "Целевой признак - объем запасов в скважинах."
   ]
  },
  {
   "cell_type": "code",
   "execution_count": 4,
   "metadata": {},
   "outputs": [
    {
     "data": {
      "text/html": [
       "<div>\n",
       "<style scoped>\n",
       "    .dataframe tbody tr th:only-of-type {\n",
       "        vertical-align: middle;\n",
       "    }\n",
       "\n",
       "    .dataframe tbody tr th {\n",
       "        vertical-align: top;\n",
       "    }\n",
       "\n",
       "    .dataframe thead th {\n",
       "        text-align: right;\n",
       "    }\n",
       "</style>\n",
       "<table border=\"1\" class=\"dataframe\">\n",
       "  <thead>\n",
       "    <tr style=\"text-align: right;\">\n",
       "      <th></th>\n",
       "      <th>f0</th>\n",
       "      <th>f1</th>\n",
       "      <th>f2</th>\n",
       "    </tr>\n",
       "  </thead>\n",
       "  <tbody>\n",
       "    <tr>\n",
       "      <th>27212</th>\n",
       "      <td>-0.906828</td>\n",
       "      <td>1.339033</td>\n",
       "      <td>1.106789</td>\n",
       "    </tr>\n",
       "    <tr>\n",
       "      <th>7866</th>\n",
       "      <td>-1.536353</td>\n",
       "      <td>-0.704673</td>\n",
       "      <td>-1.747632</td>\n",
       "    </tr>\n",
       "    <tr>\n",
       "      <th>62041</th>\n",
       "      <td>-1.959584</td>\n",
       "      <td>0.356044</td>\n",
       "      <td>3.528659</td>\n",
       "    </tr>\n",
       "    <tr>\n",
       "      <th>70185</th>\n",
       "      <td>2.129734</td>\n",
       "      <td>2.713459</td>\n",
       "      <td>-0.156172</td>\n",
       "    </tr>\n",
       "    <tr>\n",
       "      <th>82230</th>\n",
       "      <td>-0.332026</td>\n",
       "      <td>1.515604</td>\n",
       "      <td>5.417583</td>\n",
       "    </tr>\n",
       "  </tbody>\n",
       "</table>\n",
       "</div>"
      ],
      "text/plain": [
       "             f0        f1        f2\n",
       "27212 -0.906828  1.339033  1.106789\n",
       "7866  -1.536353 -0.704673 -1.747632\n",
       "62041 -1.959584  0.356044  3.528659\n",
       "70185  2.129734  2.713459 -0.156172\n",
       "82230 -0.332026  1.515604  5.417583"
      ]
     },
     "execution_count": 4,
     "metadata": {},
     "output_type": "execute_result"
    }
   ],
   "source": [
    "# разделим три выборки на валидационную и тренировочкую 25:75\n",
    "def split(data):\n",
    "    features = data.drop('product', axis=1)\n",
    "    target = data['product']\n",
    "    \n",
    "    features_train, features_valid, target_train, target_valid = train_test_split(\n",
    "        features, target, test_size=0.25, random_state=12345)\n",
    "    return features_train, features_valid, target_train, target_valid\n",
    "\n",
    "features_train_0, features_valid_0, target_train_0, target_valid_0 = split(df0)\n",
    "features_train_1, features_valid_1, target_train_1, target_valid_1 = split(df1)\n",
    "features_train_2, features_valid_2, target_train_2, target_valid_2 = split(df2)\n",
    "\n",
    "features_train_2.head()"
   ]
  },
  {
   "cell_type": "markdown",
   "metadata": {},
   "source": [
    "### Обучение модели"
   ]
  },
  {
   "cell_type": "markdown",
   "metadata": {},
   "source": [
    "По условиям задачи для обучения модели подходит только линейная регрессия, так как остальные — недостаточно предсказуемые.\n",
    "\n",
    "<b>Обучим модель на регионах.</b>"
   ]
  },
  {
   "cell_type": "code",
   "execution_count": 5,
   "metadata": {},
   "outputs": [
    {
     "name": "stdout",
     "output_type": "stream",
     "text": [
      "Первый регион\n",
      "Средний запас предсказанного сырья:  92.59 тыс. баррелей\n",
      "RMSE модели:  37.58 тыс. баррелей\n",
      " \n",
      "Второй регион\n",
      "Средний запас предсказанного сырья:  68.73 тыс. баррелей\n",
      "RMSE модели:  0.89 тыс. баррелей\n",
      " \n",
      "Третий регион\n",
      "Средний запас предсказанного сырья:  94.97 тыс. баррелей\n",
      "RMSE модели:  40.03 тыс. баррелей\n",
      " \n"
     ]
    }
   ],
   "source": [
    "# обучим модель и сделаем предсказания на валидационной выборке\n",
    "data = [df0, df1, df2]\n",
    "features_train = [features_train_0, features_train_1, features_train_2]\n",
    "features_valid = [features_valid_0, features_valid_1, features_valid_2]\n",
    "target_train = [target_train_0, target_train_1, target_train_2]\n",
    "target_valid = [target_valid_0, target_valid_1, target_valid_2]\n",
    "regions = ['Первый регион', 'Второй регион', 'Третий регион']\n",
    "\n",
    "predictions = []\n",
    "targets = []\n",
    "for i in range(len(data)):\n",
    "    model = LinearRegression()\n",
    "    model.fit(features_train[i], target_train[i])\n",
    "    \n",
    "    predictions.append(model.predict(features_valid[i]))\n",
    "    targets.append(target_valid[i])\n",
    "    \n",
    "    print (regions[i])\n",
    "    print ('Средний запас предсказанного сырья: ', round(predictions[i].mean(), 2), 'тыс. баррелей')\n",
    "    print ('RMSE модели: ', round((mean_squared_error(targets[i], predictions[i]) ** 0.5), 2), 'тыс. баррелей')\n",
    "    print (' ')"
   ]
  },
  {
   "cell_type": "markdown",
   "metadata": {},
   "source": [
    "<b>Вывод</b>\n",
    "\n",
    "Мы получили предсказания запасов на трех регионах, средняя ошибка по трем регионам ~55 тыс баррелей. Наиболее прибыльный - третий регион - средний запас ~ 95 тыс баррелей с одной скважины. "
   ]
  },
  {
   "cell_type": "markdown",
   "metadata": {},
   "source": [
    "## Подготовка к расчёту прибыли"
   ]
  },
  {
   "cell_type": "code",
   "execution_count": 6,
   "metadata": {},
   "outputs": [
    {
     "name": "stdout",
     "output_type": "stream",
     "text": [
      "Минимальный объем сырья для безубыточной разработки скважины:  111 тыс. баррелей\n"
     ]
    }
   ],
   "source": [
    "# точки, которые исследуют при разведке региона\n",
    "explore = 500\n",
    "\n",
    "# лучшие точки для разработки по результатам МО\n",
    "best_explore = 200\n",
    "\n",
    "# бюджет на разработку 200 скважин в регионе\n",
    "budget_for_wells = 10000000000\n",
    "\n",
    "# доход с каждой единицы продукта\n",
    "revenue = 450000\n",
    "\n",
    "min_product = budget_for_wells / best_explore / revenue\n",
    "\n",
    "print ('Минимальный объем сырья для безубыточной разработки скважины: ', round(min_product), 'тыс. баррелей')"
   ]
  },
  {
   "cell_type": "markdown",
   "metadata": {},
   "source": [
    "<b> Вывод </b>\n",
    "\n",
    "Для того чтобы регион был безубыточный, необходимо, чтобы в регионе запасы потенциального сырья для выкачки были не менее 111 тыс. баррелей. Что на ~16 единиц превышает средний запас региона с самым большим количеством запасов."
   ]
  },
  {
   "cell_type": "code",
   "execution_count": 7,
   "metadata": {},
   "outputs": [],
   "source": [
    "# преобразуем предсказания моделей и целевые признаки \n",
    "target_0 = pd.Series(targets[0]).reset_index(drop=True)\n",
    "prediction_0 = pd.Series(predictions[0])\n",
    "\n",
    "target_1 = pd.Series(targets[1]).reset_index(drop=True)\n",
    "prediction_1 = pd.Series(predictions[1])\n",
    "\n",
    "target_2 = pd.Series(targets[2]).reset_index(drop=True)\n",
    "prediction_2 = pd.Series(predictions[2])"
   ]
  },
  {
   "cell_type": "markdown",
   "metadata": {},
   "source": [
    "Составим функцию для расчёта прибыли по выбранным скважинам и предсказаниям модели."
   ]
  },
  {
   "cell_type": "code",
   "execution_count": 8,
   "metadata": {
    "scrolled": true
   },
   "outputs": [
    {
     "name": "stdout",
     "output_type": "stream",
     "text": [
      "Суммарная прибыль с 200 лучших скважин в первом регионе:  13320826043 тыс. баррелей\n"
     ]
    }
   ],
   "source": [
    "def count_revenue(target, prediction, count):\n",
    "\n",
    "    # отсортируем предсказания и выделим скважины с максимальными значениями предсказаний\n",
    "    pred_sorted = prediction.sort_values(ascending=False)\n",
    "    selected = target[pred_sorted.index][:count]\n",
    "    \n",
    "    # функция возвращает суммарную прибыль с отобранных скважин\n",
    "    return revenue * selected.sum()\n",
    "\n",
    "#протестируем работу функции\n",
    "print ('Суммарная прибыль с 200 лучших скважин в первом регионе: ', round(\n",
    "    count_revenue(target_0, prediction_0, best_explore)), 'тыс. баррелей')"
   ]
  },
  {
   "cell_type": "markdown",
   "metadata": {},
   "source": [
    "## Расчёт прибыли и рисков "
   ]
  },
  {
   "cell_type": "markdown",
   "metadata": {},
   "source": [
    "<b>Посчитаем риски и прибыль с каждого региона</b>\n"
   ]
  },
  {
   "cell_type": "code",
   "execution_count": 9,
   "metadata": {
    "scrolled": false
   },
   "outputs": [
    {
     "name": "stdout",
     "output_type": "stream",
     "text": [
      "Первый регион\n",
      "Средняя прибыль:  10.426 млрд. баррелей\n",
      "95% доверительный интервал: от  9.898 млрд. баррелей до  10.948 млрд. баррелей\n",
      "Риск убытков: 6.0%\n",
      " \n",
      "Второй регион\n",
      "Средняя прибыль:  10.518 млрд. баррелей\n",
      "95% доверительный интервал: от  10.128 млрд. баррелей до  10.954 млрд. баррелей\n",
      "Риск убытков: 0.3%\n",
      " \n",
      "Третий регион\n",
      "Средняя прибыль:  10.42 млрд. баррелей\n",
      "95% доверительный интервал: от  9.884 млрд. баррелей до  10.99 млрд. баррелей\n",
      "Риск убытков: 6.2%\n",
      " \n"
     ]
    }
   ],
   "source": [
    "# создадим списки для трех регионов\n",
    "target = [target_0, target_1, target_2]\n",
    "predictions = [prediction_0, prediction_1, prediction_2]\n",
    "regions = ['Первый регион', 'Второй регион', 'Третий регион']\n",
    "\n",
    "state = np.random.RandomState(12345)\n",
    "\n",
    "for j in range(len(target)):\n",
    "    values = []\n",
    "    for i in range (1000):   \n",
    "        \n",
    "        # выделим 1000 разных выборок по 500 скважин\n",
    "        target_subsample = target[j].sample(n=explore, replace=True, random_state=state)\n",
    "        pred_subsample = predictions[j].loc[target_subsample.index]\n",
    "        \n",
    "        # посчитаем доход с 200 самых прибыльных\n",
    "        values.append(count_revenue(target_subsample, pred_subsample, best_explore))\n",
    "        \n",
    "    values = pd.Series(values)\n",
    "    \n",
    "    # посчитаем среднюю прибыль и доверительный интервал\n",
    "    mean = values.mean()\n",
    "    lower = values.quantile(0.025)\n",
    "    upper = values.quantile(0.975)\n",
    "    \n",
    "    # посчитаем риск убытков\n",
    "    risk = (values < budget_for_wells).mean()\n",
    "       \n",
    "    \n",
    "    print (regions[j])\n",
    "    print ('Средняя прибыль: ', round((mean / 1000000000), 3), 'млрд. баррелей')\n",
    "    print ('95% доверительный интервал: от ', round((lower / 1000000000), 3), 'млрд. баррелей до ',\n",
    "           round((upper / 1000000000), 3), 'млрд. баррелей')  \n",
    "    print ('Риск убытков: {:.1%}'.format (risk))\n",
    "    print (' ')\n"
   ]
  },
  {
   "cell_type": "markdown",
   "metadata": {},
   "source": [
    "<b>Вывод</b>\n",
    "\n",
    "Несмотря на то, что наибольший средний запас предсказанного сырья находится в третьем регионе, а наименьшую среднюю ошибку показала модель первого региона, самым выгодным регионом для разработки скважин является <b>второй регион</b>. В данном регионе при разведке 500 точек и разрабоке 200 лучших из них с вероятностью 95% средняя прибыль будет самая высокая - <b>10 млрд 510 млн рублей</b>. Риск убытков в данном регионе - <b>0.3%</b>.\n",
    "\n",
    "В исследовании выбора локации для скважин для поставленной задачи: определить регион, где добыча принесёт наибольшую прибыль, было выполнено следующее:\n",
    "\n",
    "1. Подготовленны данные:\n",
    "* Изучены csv таблицы\n",
    "* Сделаны выводы\n",
    "2. Модели обучены\n",
    "* Разделены на выборки: тренировочную и валидационную\n",
    "* Модели обучены на линейной регрессии\n",
    "* Выявлены средние запасы предсказанных объемов нефти и RMSE моделей\n",
    "3. Подготовленны данные к расчету прибыли\n",
    "* Минимальный объем сырья для безубыточной разработки скважины:  111 тыс. баррелей\n",
    "* Предсказания и целевой признак преобразованы\n",
    "* Составлена функция для расчёта прибыли по выбранным скважинам и предсказаниям модели\n",
    "4. Расчитана средняя прибыль, доверительный интервал и риски\n",
    "* Посчитана средняя прибыль, доверительный интервал, риски для каждого региона\n",
    "* Выявлен оптимальный регион для добычи нефти - Второй регион"
   ]
  }
 ],
 "metadata": {
  "ExecuteTimeLog": [
   {
    "duration": 2584,
    "start_time": "2022-07-20T18:47:21.282Z"
   },
   {
    "duration": 12,
    "start_time": "2022-07-20T18:47:23.867Z"
   },
   {
    "duration": 65,
    "start_time": "2022-07-20T18:47:23.881Z"
   },
   {
    "duration": 20,
    "start_time": "2022-07-20T18:47:23.948Z"
   },
   {
    "duration": 168,
    "start_time": "2022-07-20T18:47:24.012Z"
   },
   {
    "duration": 190,
    "start_time": "2022-07-20T18:47:24.183Z"
   },
   {
    "duration": 75,
    "start_time": "2022-07-20T18:47:24.378Z"
   },
   {
    "duration": 45,
    "start_time": "2022-07-20T18:47:24.517Z"
   },
   {
    "duration": 14,
    "start_time": "2022-07-20T18:47:24.565Z"
   },
   {
    "duration": 4540,
    "start_time": "2022-07-20T18:47:24.581Z"
   },
   {
    "duration": 4297,
    "start_time": "2022-07-20T19:38:16.944Z"
   },
   {
    "duration": 4255,
    "start_time": "2022-07-20T19:38:38.699Z"
   },
   {
    "duration": 4301,
    "start_time": "2022-07-20T19:39:37.428Z"
   },
   {
    "duration": 4304,
    "start_time": "2022-07-20T19:40:31.939Z"
   },
   {
    "duration": 4395,
    "start_time": "2022-07-20T19:41:01.903Z"
   },
   {
    "duration": 4072,
    "start_time": "2022-07-20T19:41:37.338Z"
   },
   {
    "duration": 109,
    "start_time": "2022-07-20T19:45:16.554Z"
   },
   {
    "duration": 12,
    "start_time": "2022-07-20T19:45:44.339Z"
   },
   {
    "duration": 12,
    "start_time": "2022-07-20T19:46:42.728Z"
   },
   {
    "duration": 10,
    "start_time": "2022-07-20T19:47:35.986Z"
   },
   {
    "duration": 13,
    "start_time": "2022-07-20T19:48:31.475Z"
   },
   {
    "duration": 16,
    "start_time": "2022-07-20T19:48:40.948Z"
   },
   {
    "duration": 1308,
    "start_time": "2022-07-20T19:48:55.523Z"
   },
   {
    "duration": 12,
    "start_time": "2022-07-20T19:49:31.273Z"
   },
   {
    "duration": 4070,
    "start_time": "2022-07-20T19:49:43.793Z"
   },
   {
    "duration": 2799,
    "start_time": "2022-07-21T07:11:42.324Z"
   },
   {
    "duration": 10,
    "start_time": "2022-07-21T07:11:45.125Z"
   },
   {
    "duration": 41,
    "start_time": "2022-07-21T07:11:45.136Z"
   },
   {
    "duration": 14,
    "start_time": "2022-07-21T07:11:45.179Z"
   },
   {
    "duration": 69,
    "start_time": "2022-07-21T07:11:45.195Z"
   },
   {
    "duration": 114,
    "start_time": "2022-07-21T07:11:45.353Z"
   },
   {
    "duration": 4,
    "start_time": "2022-07-21T07:11:45.469Z"
   },
   {
    "duration": 86,
    "start_time": "2022-07-21T07:11:45.475Z"
   },
   {
    "duration": 99,
    "start_time": "2022-07-21T07:11:45.567Z"
   },
   {
    "duration": 3675,
    "start_time": "2022-07-21T07:11:45.668Z"
   },
   {
    "duration": 3802,
    "start_time": "2022-07-21T07:13:35.361Z"
   },
   {
    "duration": 4168,
    "start_time": "2022-07-21T07:13:44.593Z"
   },
   {
    "duration": 3707,
    "start_time": "2022-07-21T07:16:36.106Z"
   },
   {
    "duration": 120,
    "start_time": "2022-07-21T07:46:22.968Z"
   },
   {
    "duration": 54,
    "start_time": "2022-07-21T13:52:53.239Z"
   },
   {
    "duration": 3084,
    "start_time": "2022-07-21T13:52:56.252Z"
   },
   {
    "duration": 68,
    "start_time": "2022-07-21T13:53:07.939Z"
   },
   {
    "duration": 14,
    "start_time": "2022-07-21T13:53:50.285Z"
   },
   {
    "duration": 1354,
    "start_time": "2022-07-21T13:54:04.104Z"
   },
   {
    "duration": 12,
    "start_time": "2022-07-21T13:55:41.833Z"
   },
   {
    "duration": 20,
    "start_time": "2022-07-21T13:55:47.345Z"
   },
   {
    "duration": 11,
    "start_time": "2022-07-21T13:55:51.463Z"
   },
   {
    "duration": 43,
    "start_time": "2022-07-21T13:56:01.518Z"
   },
   {
    "duration": 22,
    "start_time": "2022-07-21T13:56:04.436Z"
   },
   {
    "duration": 193,
    "start_time": "2022-07-21T14:01:47.812Z"
   },
   {
    "duration": 60,
    "start_time": "2022-07-21T14:02:49.346Z"
   },
   {
    "duration": 210,
    "start_time": "2022-07-21T14:03:06.297Z"
   },
   {
    "duration": 1623,
    "start_time": "2022-07-21T14:03:31.001Z"
   },
   {
    "duration": 191,
    "start_time": "2022-07-21T14:03:39.916Z"
   },
   {
    "duration": 206,
    "start_time": "2022-07-21T14:06:10.201Z"
   },
   {
    "duration": 5,
    "start_time": "2022-07-21T14:11:10.415Z"
   },
   {
    "duration": 10,
    "start_time": "2022-07-21T14:11:14.874Z"
   },
   {
    "duration": 1298,
    "start_time": "2022-07-21T14:11:59.530Z"
   },
   {
    "duration": 162,
    "start_time": "2022-07-21T14:13:12.845Z"
   },
   {
    "duration": 3,
    "start_time": "2022-07-21T14:14:21.680Z"
   },
   {
    "duration": 1300,
    "start_time": "2022-07-21T14:14:24.579Z"
   },
   {
    "duration": 1371,
    "start_time": "2022-07-21T14:14:56.533Z"
   },
   {
    "duration": 198,
    "start_time": "2022-07-21T14:15:35.510Z"
   },
   {
    "duration": 5,
    "start_time": "2022-07-21T14:15:45.176Z"
   },
   {
    "duration": 4,
    "start_time": "2022-07-21T14:15:57.875Z"
   },
   {
    "duration": 10,
    "start_time": "2022-07-21T14:16:05.634Z"
   },
   {
    "duration": 5,
    "start_time": "2022-07-21T14:16:12.407Z"
   },
   {
    "duration": 9,
    "start_time": "2022-07-21T14:16:17.648Z"
   },
   {
    "duration": 10,
    "start_time": "2022-07-21T14:16:29.351Z"
   },
   {
    "duration": 5,
    "start_time": "2022-07-21T14:16:34.414Z"
   },
   {
    "duration": 5,
    "start_time": "2022-07-21T14:16:41.284Z"
   },
   {
    "duration": 5,
    "start_time": "2022-07-21T14:17:05.776Z"
   },
   {
    "duration": 9,
    "start_time": "2022-07-21T14:17:20.185Z"
   },
   {
    "duration": 4292,
    "start_time": "2022-07-21T14:17:30.664Z"
   },
   {
    "duration": 4138,
    "start_time": "2022-07-21T14:18:06.753Z"
   },
   {
    "duration": 14,
    "start_time": "2022-07-21T14:25:32.698Z"
   },
   {
    "duration": 9,
    "start_time": "2022-07-21T14:25:37.785Z"
   },
   {
    "duration": 9,
    "start_time": "2022-07-21T14:25:43.146Z"
   },
   {
    "duration": 15,
    "start_time": "2022-07-21T14:27:26.422Z"
   },
   {
    "duration": 17,
    "start_time": "2022-07-21T14:27:31.506Z"
   },
   {
    "duration": 15,
    "start_time": "2022-07-21T14:31:07.271Z"
   },
   {
    "duration": 11,
    "start_time": "2022-07-21T14:31:25.094Z"
   },
   {
    "duration": 15,
    "start_time": "2022-07-21T14:31:34.105Z"
   },
   {
    "duration": 10,
    "start_time": "2022-07-21T14:34:41.252Z"
   },
   {
    "duration": 10,
    "start_time": "2022-07-21T14:34:47.857Z"
   },
   {
    "duration": 17,
    "start_time": "2022-07-21T14:35:02.318Z"
   },
   {
    "duration": 15,
    "start_time": "2022-07-21T14:35:42.261Z"
   },
   {
    "duration": 15,
    "start_time": "2022-07-21T14:35:46.666Z"
   },
   {
    "duration": 23,
    "start_time": "2022-07-21T14:37:30.903Z"
   },
   {
    "duration": 22,
    "start_time": "2022-07-21T14:37:41.232Z"
   },
   {
    "duration": 14,
    "start_time": "2022-07-21T14:40:12.209Z"
   },
   {
    "duration": 15,
    "start_time": "2022-07-21T14:40:23.053Z"
   },
   {
    "duration": 10,
    "start_time": "2022-07-21T14:43:22.222Z"
   },
   {
    "duration": 9,
    "start_time": "2022-07-21T14:43:45.047Z"
   },
   {
    "duration": 799,
    "start_time": "2022-07-21T14:44:42.794Z"
   },
   {
    "duration": 12,
    "start_time": "2022-07-21T14:44:45.723Z"
   },
   {
    "duration": 42,
    "start_time": "2022-07-21T14:45:31.680Z"
   },
   {
    "duration": 147,
    "start_time": "2022-07-21T14:45:35.160Z"
   },
   {
    "duration": 4,
    "start_time": "2022-07-21T14:45:52.441Z"
   },
   {
    "duration": 5,
    "start_time": "2022-07-21T14:45:55.672Z"
   },
   {
    "duration": 13,
    "start_time": "2022-07-21T14:45:57.992Z"
   },
   {
    "duration": 4239,
    "start_time": "2022-07-21T14:46:01.076Z"
   },
   {
    "duration": 10,
    "start_time": "2022-07-21T14:46:46.772Z"
   },
   {
    "duration": 49,
    "start_time": "2022-07-21T17:51:43.112Z"
   },
   {
    "duration": 3291,
    "start_time": "2022-07-21T17:51:51.947Z"
   },
   {
    "duration": 14,
    "start_time": "2022-07-21T17:51:55.239Z"
   },
   {
    "duration": 51,
    "start_time": "2022-07-21T17:51:55.255Z"
   },
   {
    "duration": 232,
    "start_time": "2022-07-21T17:51:55.308Z"
   },
   {
    "duration": 6,
    "start_time": "2022-07-21T17:51:55.543Z"
   },
   {
    "duration": 5,
    "start_time": "2022-07-21T17:51:55.641Z"
   },
   {
    "duration": 16,
    "start_time": "2022-07-21T17:51:55.647Z"
   },
   {
    "duration": 4179,
    "start_time": "2022-07-21T17:51:55.665Z"
   },
   {
    "duration": 9,
    "start_time": "2022-07-21T17:51:59.846Z"
   },
   {
    "duration": 114,
    "start_time": "2022-07-21T17:51:59.857Z"
   },
   {
    "duration": 14,
    "start_time": "2022-07-21T17:52:09.596Z"
   },
   {
    "duration": 11,
    "start_time": "2022-07-21T17:54:57.559Z"
   },
   {
    "duration": 10,
    "start_time": "2022-07-21T17:55:33.321Z"
   }
  ],
  "kernelspec": {
   "display_name": "Python 3 (ipykernel)",
   "language": "python",
   "name": "python3"
  },
  "language_info": {
   "codemirror_mode": {
    "name": "ipython",
    "version": 3
   },
   "file_extension": ".py",
   "mimetype": "text/x-python",
   "name": "python",
   "nbconvert_exporter": "python",
   "pygments_lexer": "ipython3",
   "version": "3.9.7"
  },
  "toc": {
   "base_numbering": 1,
   "nav_menu": {},
   "number_sections": true,
   "sideBar": true,
   "skip_h1_title": true,
   "title_cell": "Table of Contents",
   "title_sidebar": "Contents",
   "toc_cell": false,
   "toc_position": {},
   "toc_section_display": true,
   "toc_window_display": false
  }
 },
 "nbformat": 4,
 "nbformat_minor": 2
}
