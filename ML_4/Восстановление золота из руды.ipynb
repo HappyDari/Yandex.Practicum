{
 "cells": [
  {
   "cell_type": "markdown",
   "metadata": {},
   "source": [
    "# Восстановление золота из руды"
   ]
  },
  {
   "cell_type": "markdown",
   "metadata": {},
   "source": [
    "**Задача**\n",
    "\n",
    "Подготовить прототип модели машинного обучения для «Цифры». Компания разрабатывает решения для эффективной работы промышленных предприятий. Модель должна предсказать коэффициент восстановления золота из золотосодержащей руды. Необходимо использовать данные с параметрами добычи и очистки. \n",
    "\n",
    "Модель поможет оптимизировать производство, чтобы не запускать предприятие с убыточными характеристиками.\n",
    "\n",
    "План проекта:\n",
    "\n",
    "1. Подготовить данные;\n",
    "2. Провести исследовательский анализ данных;\n",
    "3. Построить и обучить модель."
   ]
  },
  {
   "cell_type": "markdown",
   "metadata": {},
   "source": [
    "**Описание данных**\n",
    "\n",
    "Данные индексируются датой и временем получения информации (признак date). Соседние по времени параметры часто похожи.\n",
    "Некоторые параметры недоступны, потому что замеряются и/или рассчитываются значительно позже. Из-за этого в тестовой выборке отсутствуют некоторые признаки, которые могут быть в обучающей. Также в тестовом наборе нет целевых признаков.\n",
    "Исходный датасет содержит обучающую и тестовую выборки со всеми признаками.\n",
    "В нашем распоряжении сырые данные: их просто выгрузили из хранилища. Прежде чем приступить к построению модели, необходимо проверить их на корректность."
   ]
  },
  {
   "cell_type": "markdown",
   "metadata": {
    "toc": true
   },
   "source": [
    "<h1>Содержание<span class=\"tocSkip\"></span></h1>\n",
    "<div class=\"toc\"><ul class=\"toc-item\"><li><span><a href=\"#Подготовка-данных\" data-toc-modified-id=\"Подготовка-данных-1\"><span class=\"toc-item-num\">1&nbsp;&nbsp;</span>Подготовка данных</a></span><ul class=\"toc-item\"><li><span><a href=\"#Изучение-данных\" data-toc-modified-id=\"Изучение-данных-1.1\"><span class=\"toc-item-num\">1.1&nbsp;&nbsp;</span>Изучение данных</a></span></li><li><span><a href=\"#Проверка-на-корректность\" data-toc-modified-id=\"Проверка-на-корректность-1.2\"><span class=\"toc-item-num\">1.2&nbsp;&nbsp;</span>Проверка на корректность</a></span></li><li><span><a href=\"#Анализ-признаков\" data-toc-modified-id=\"Анализ-признаков-1.3\"><span class=\"toc-item-num\">1.3&nbsp;&nbsp;</span>Анализ признаков</a></span></li><li><span><a href=\"#Предобработка-данных\" data-toc-modified-id=\"Предобработка-данных-1.4\"><span class=\"toc-item-num\">1.4&nbsp;&nbsp;</span>Предобработка данных</a></span></li></ul></li><li><span><a href=\"#Анализ-данных\" data-toc-modified-id=\"Анализ-данных-2\"><span class=\"toc-item-num\">2&nbsp;&nbsp;</span>Анализ данных</a></span><ul class=\"toc-item\"><li><span><a href=\"#Концентрация-металлов\" data-toc-modified-id=\"Концентрация-металлов-2.1\"><span class=\"toc-item-num\">2.1&nbsp;&nbsp;</span>Концентрация металлов</a></span></li><li><span><a href=\"#Распределение-размеров-гранул-сырья\" data-toc-modified-id=\"Распределение-размеров-гранул-сырья-2.2\"><span class=\"toc-item-num\">2.2&nbsp;&nbsp;</span>Распределение размеров гранул сырья</a></span></li><li><span><a href=\"#Суммарная-концентрация-веществ\" data-toc-modified-id=\"Суммарная-концентрация-веществ-2.3\"><span class=\"toc-item-num\">2.3&nbsp;&nbsp;</span>Суммарная концентрация веществ</a></span></li></ul></li><li><span><a href=\"#Модель\" data-toc-modified-id=\"Модель-3\"><span class=\"toc-item-num\">3&nbsp;&nbsp;</span>Модель</a></span><ul class=\"toc-item\"><li><span><a href=\"#Предобработка-данных\" data-toc-modified-id=\"Предобработка-данных-3.1\"><span class=\"toc-item-num\">3.1&nbsp;&nbsp;</span>Предобработка данных</a></span></li><li><span><a href=\"#Функция-для-вычисления-итоговой-sMAPE\" data-toc-modified-id=\"Функция-для-вычисления-итоговой-sMAPE-3.2\"><span class=\"toc-item-num\">3.2&nbsp;&nbsp;</span>Функция для вычисления итоговой sMAPE</a></span></li><li><span><a href=\"#Обучение-модели\" data-toc-modified-id=\"Обучение-модели-3.3\"><span class=\"toc-item-num\">3.3&nbsp;&nbsp;</span>Обучение модели</a></span></li><li><span><a href=\"#Тестирование-модели\" data-toc-modified-id=\"Тестирование-модели-3.4\"><span class=\"toc-item-num\">3.4&nbsp;&nbsp;</span>Тестирование модели</a>"
   ]
  },
  {
   "cell_type": "markdown",
   "metadata": {},
   "source": [
    "## Подготовка данных"
   ]
  },
  {
   "cell_type": "markdown",
   "metadata": {},
   "source": [
    "### Изучение данных"
   ]
  },
  {
   "cell_type": "code",
   "execution_count": 1,
   "metadata": {
    "scrolled": true
   },
   "outputs": [],
   "source": [
    "import pandas as pd\n",
    "from sklearn.model_selection import train_test_split\n",
    "from sklearn.linear_model import LinearRegression\n",
    "from sklearn.tree import DecisionTreeRegressor\n",
    "from sklearn.ensemble import RandomForestRegressor\n",
    "from sklearn.dummy import DummyRegressor\n",
    "from sklearn.preprocessing import StandardScaler\n",
    "from sklearn.model_selection import GridSearchCV, cross_val_score\n",
    "from sklearn.metrics import mean_absolute_error, make_scorer\n",
    "import matplotlib.pyplot as plt"
   ]
  },
  {
   "cell_type": "code",
   "execution_count": 2,
   "metadata": {},
   "outputs": [
    {
     "name": "stdout",
     "output_type": "stream",
     "text": [
      "<class 'pandas.core.frame.DataFrame'>\n",
      "RangeIndex: 19439 entries, 0 to 19438\n",
      "Data columns (total 87 columns):\n",
      " #   Column                                              Non-Null Count  Dtype  \n",
      "---  ------                                              --------------  -----  \n",
      " 0   date                                                19439 non-null  object \n",
      " 1   final.output.concentrate_ag                         19438 non-null  float64\n",
      " 2   final.output.concentrate_pb                         19438 non-null  float64\n",
      " 3   final.output.concentrate_sol                        19228 non-null  float64\n",
      " 4   final.output.concentrate_au                         19439 non-null  float64\n",
      " 5   final.output.recovery                               19439 non-null  float64\n",
      " 6   final.output.tail_ag                                19438 non-null  float64\n",
      " 7   final.output.tail_pb                                19338 non-null  float64\n",
      " 8   final.output.tail_sol                               19433 non-null  float64\n",
      " 9   final.output.tail_au                                19439 non-null  float64\n",
      " 10  primary_cleaner.input.sulfate                       19415 non-null  float64\n",
      " 11  primary_cleaner.input.depressant                    19402 non-null  float64\n",
      " 12  primary_cleaner.input.feed_size                     19439 non-null  float64\n",
      " 13  primary_cleaner.input.xanthate                      19335 non-null  float64\n",
      " 14  primary_cleaner.output.concentrate_ag               19439 non-null  float64\n",
      " 15  primary_cleaner.output.concentrate_pb               19323 non-null  float64\n",
      " 16  primary_cleaner.output.concentrate_sol              19069 non-null  float64\n",
      " 17  primary_cleaner.output.concentrate_au               19439 non-null  float64\n",
      " 18  primary_cleaner.output.tail_ag                      19435 non-null  float64\n",
      " 19  primary_cleaner.output.tail_pb                      19418 non-null  float64\n",
      " 20  primary_cleaner.output.tail_sol                     19377 non-null  float64\n",
      " 21  primary_cleaner.output.tail_au                      19439 non-null  float64\n",
      " 22  primary_cleaner.state.floatbank8_a_air              19435 non-null  float64\n",
      " 23  primary_cleaner.state.floatbank8_a_level            19438 non-null  float64\n",
      " 24  primary_cleaner.state.floatbank8_b_air              19435 non-null  float64\n",
      " 25  primary_cleaner.state.floatbank8_b_level            19438 non-null  float64\n",
      " 26  primary_cleaner.state.floatbank8_c_air              19437 non-null  float64\n",
      " 27  primary_cleaner.state.floatbank8_c_level            19438 non-null  float64\n",
      " 28  primary_cleaner.state.floatbank8_d_air              19436 non-null  float64\n",
      " 29  primary_cleaner.state.floatbank8_d_level            19438 non-null  float64\n",
      " 30  rougher.calculation.sulfate_to_au_concentrate       19437 non-null  float64\n",
      " 31  rougher.calculation.floatbank10_sulfate_to_au_feed  19437 non-null  float64\n",
      " 32  rougher.calculation.floatbank11_sulfate_to_au_feed  19437 non-null  float64\n",
      " 33  rougher.calculation.au_pb_ratio                     19439 non-null  float64\n",
      " 34  rougher.input.feed_ag                               19439 non-null  float64\n",
      " 35  rougher.input.feed_pb                               19339 non-null  float64\n",
      " 36  rougher.input.feed_rate                             19428 non-null  float64\n",
      " 37  rougher.input.feed_size                             19294 non-null  float64\n",
      " 38  rougher.input.feed_sol                              19340 non-null  float64\n",
      " 39  rougher.input.feed_au                               19439 non-null  float64\n",
      " 40  rougher.input.floatbank10_sulfate                   19405 non-null  float64\n",
      " 41  rougher.input.floatbank10_xanthate                  19431 non-null  float64\n",
      " 42  rougher.input.floatbank11_sulfate                   19395 non-null  float64\n",
      " 43  rougher.input.floatbank11_xanthate                  18986 non-null  float64\n",
      " 44  rougher.output.concentrate_ag                       19439 non-null  float64\n",
      " 45  rougher.output.concentrate_pb                       19439 non-null  float64\n",
      " 46  rougher.output.concentrate_sol                      19416 non-null  float64\n",
      " 47  rougher.output.concentrate_au                       19439 non-null  float64\n",
      " 48  rougher.output.recovery                             19439 non-null  float64\n",
      " 49  rougher.output.tail_ag                              19438 non-null  float64\n",
      " 50  rougher.output.tail_pb                              19439 non-null  float64\n",
      " 51  rougher.output.tail_sol                             19439 non-null  float64\n",
      " 52  rougher.output.tail_au                              19439 non-null  float64\n",
      " 53  rougher.state.floatbank10_a_air                     19438 non-null  float64\n",
      " 54  rougher.state.floatbank10_a_level                   19438 non-null  float64\n",
      " 55  rougher.state.floatbank10_b_air                     19438 non-null  float64\n",
      " 56  rougher.state.floatbank10_b_level                   19438 non-null  float64\n",
      " 57  rougher.state.floatbank10_c_air                     19438 non-null  float64\n",
      " 58  rougher.state.floatbank10_c_level                   19438 non-null  float64\n",
      " 59  rougher.state.floatbank10_d_air                     19439 non-null  float64\n",
      " 60  rougher.state.floatbank10_d_level                   19439 non-null  float64\n",
      " 61  rougher.state.floatbank10_e_air                     19003 non-null  float64\n",
      " 62  rougher.state.floatbank10_e_level                   19439 non-null  float64\n",
      " 63  rougher.state.floatbank10_f_air                     19439 non-null  float64\n",
      " 64  rougher.state.floatbank10_f_level                   19439 non-null  float64\n",
      " 65  secondary_cleaner.output.tail_ag                    19437 non-null  float64\n",
      " 66  secondary_cleaner.output.tail_pb                    19427 non-null  float64\n",
      " 67  secondary_cleaner.output.tail_sol                   17691 non-null  float64\n",
      " 68  secondary_cleaner.output.tail_au                    19439 non-null  float64\n",
      " 69  secondary_cleaner.state.floatbank2_a_air            19219 non-null  float64\n",
      " 70  secondary_cleaner.state.floatbank2_a_level          19438 non-null  float64\n",
      " 71  secondary_cleaner.state.floatbank2_b_air            19416 non-null  float64\n",
      " 72  secondary_cleaner.state.floatbank2_b_level          19438 non-null  float64\n",
      " 73  secondary_cleaner.state.floatbank3_a_air            19426 non-null  float64\n",
      " 74  secondary_cleaner.state.floatbank3_a_level          19438 non-null  float64\n",
      " 75  secondary_cleaner.state.floatbank3_b_air            19438 non-null  float64\n",
      " 76  secondary_cleaner.state.floatbank3_b_level          19438 non-null  float64\n",
      " 77  secondary_cleaner.state.floatbank4_a_air            19433 non-null  float64\n",
      " 78  secondary_cleaner.state.floatbank4_a_level          19438 non-null  float64\n",
      " 79  secondary_cleaner.state.floatbank4_b_air            19438 non-null  float64\n",
      " 80  secondary_cleaner.state.floatbank4_b_level          19438 non-null  float64\n",
      " 81  secondary_cleaner.state.floatbank5_a_air            19438 non-null  float64\n",
      " 82  secondary_cleaner.state.floatbank5_a_level          19438 non-null  float64\n",
      " 83  secondary_cleaner.state.floatbank5_b_air            19438 non-null  float64\n",
      " 84  secondary_cleaner.state.floatbank5_b_level          19438 non-null  float64\n",
      " 85  secondary_cleaner.state.floatbank6_a_air            19437 non-null  float64\n",
      " 86  secondary_cleaner.state.floatbank6_a_level          19438 non-null  float64\n",
      "dtypes: float64(86), object(1)\n",
      "memory usage: 12.9+ MB\n"
     ]
    },
    {
     "data": {
      "text/html": [
       "<div>\n",
       "<style scoped>\n",
       "    .dataframe tbody tr th:only-of-type {\n",
       "        vertical-align: middle;\n",
       "    }\n",
       "\n",
       "    .dataframe tbody tr th {\n",
       "        vertical-align: top;\n",
       "    }\n",
       "\n",
       "    .dataframe thead th {\n",
       "        text-align: right;\n",
       "    }\n",
       "</style>\n",
       "<table border=\"1\" class=\"dataframe\">\n",
       "  <thead>\n",
       "    <tr style=\"text-align: right;\">\n",
       "      <th></th>\n",
       "      <th>date</th>\n",
       "      <th>final.output.concentrate_ag</th>\n",
       "      <th>final.output.concentrate_pb</th>\n",
       "      <th>final.output.concentrate_sol</th>\n",
       "      <th>final.output.concentrate_au</th>\n",
       "      <th>final.output.recovery</th>\n",
       "      <th>final.output.tail_ag</th>\n",
       "      <th>final.output.tail_pb</th>\n",
       "      <th>final.output.tail_sol</th>\n",
       "      <th>final.output.tail_au</th>\n",
       "      <th>...</th>\n",
       "      <th>secondary_cleaner.state.floatbank4_a_air</th>\n",
       "      <th>secondary_cleaner.state.floatbank4_a_level</th>\n",
       "      <th>secondary_cleaner.state.floatbank4_b_air</th>\n",
       "      <th>secondary_cleaner.state.floatbank4_b_level</th>\n",
       "      <th>secondary_cleaner.state.floatbank5_a_air</th>\n",
       "      <th>secondary_cleaner.state.floatbank5_a_level</th>\n",
       "      <th>secondary_cleaner.state.floatbank5_b_air</th>\n",
       "      <th>secondary_cleaner.state.floatbank5_b_level</th>\n",
       "      <th>secondary_cleaner.state.floatbank6_a_air</th>\n",
       "      <th>secondary_cleaner.state.floatbank6_a_level</th>\n",
       "    </tr>\n",
       "  </thead>\n",
       "  <tbody>\n",
       "    <tr>\n",
       "      <th>0</th>\n",
       "      <td>2016-01-15 00:00:00</td>\n",
       "      <td>6.055403</td>\n",
       "      <td>9.889648</td>\n",
       "      <td>5.507324</td>\n",
       "      <td>42.192020</td>\n",
       "      <td>70.541216</td>\n",
       "      <td>10.411962</td>\n",
       "      <td>0.895447</td>\n",
       "      <td>16.904297</td>\n",
       "      <td>2.143149</td>\n",
       "      <td>...</td>\n",
       "      <td>14.016835</td>\n",
       "      <td>-502.488007</td>\n",
       "      <td>12.099931</td>\n",
       "      <td>-504.715942</td>\n",
       "      <td>9.925633</td>\n",
       "      <td>-498.310211</td>\n",
       "      <td>8.079666</td>\n",
       "      <td>-500.470978</td>\n",
       "      <td>14.151341</td>\n",
       "      <td>-605.841980</td>\n",
       "    </tr>\n",
       "    <tr>\n",
       "      <th>1</th>\n",
       "      <td>2016-01-15 01:00:00</td>\n",
       "      <td>6.029369</td>\n",
       "      <td>9.968944</td>\n",
       "      <td>5.257781</td>\n",
       "      <td>42.701629</td>\n",
       "      <td>69.266198</td>\n",
       "      <td>10.462676</td>\n",
       "      <td>0.927452</td>\n",
       "      <td>16.634514</td>\n",
       "      <td>2.224930</td>\n",
       "      <td>...</td>\n",
       "      <td>13.992281</td>\n",
       "      <td>-505.503262</td>\n",
       "      <td>11.950531</td>\n",
       "      <td>-501.331529</td>\n",
       "      <td>10.039245</td>\n",
       "      <td>-500.169983</td>\n",
       "      <td>7.984757</td>\n",
       "      <td>-500.582168</td>\n",
       "      <td>13.998353</td>\n",
       "      <td>-599.787184</td>\n",
       "    </tr>\n",
       "    <tr>\n",
       "      <th>2</th>\n",
       "      <td>2016-01-15 02:00:00</td>\n",
       "      <td>6.055926</td>\n",
       "      <td>10.213995</td>\n",
       "      <td>5.383759</td>\n",
       "      <td>42.657501</td>\n",
       "      <td>68.116445</td>\n",
       "      <td>10.507046</td>\n",
       "      <td>0.953716</td>\n",
       "      <td>16.208849</td>\n",
       "      <td>2.257889</td>\n",
       "      <td>...</td>\n",
       "      <td>14.015015</td>\n",
       "      <td>-502.520901</td>\n",
       "      <td>11.912783</td>\n",
       "      <td>-501.133383</td>\n",
       "      <td>10.070913</td>\n",
       "      <td>-500.129135</td>\n",
       "      <td>8.013877</td>\n",
       "      <td>-500.517572</td>\n",
       "      <td>14.028663</td>\n",
       "      <td>-601.427363</td>\n",
       "    </tr>\n",
       "    <tr>\n",
       "      <th>3</th>\n",
       "      <td>2016-01-15 03:00:00</td>\n",
       "      <td>6.047977</td>\n",
       "      <td>9.977019</td>\n",
       "      <td>4.858634</td>\n",
       "      <td>42.689819</td>\n",
       "      <td>68.347543</td>\n",
       "      <td>10.422762</td>\n",
       "      <td>0.883763</td>\n",
       "      <td>16.532835</td>\n",
       "      <td>2.146849</td>\n",
       "      <td>...</td>\n",
       "      <td>14.036510</td>\n",
       "      <td>-500.857308</td>\n",
       "      <td>11.999550</td>\n",
       "      <td>-501.193686</td>\n",
       "      <td>9.970366</td>\n",
       "      <td>-499.201640</td>\n",
       "      <td>7.977324</td>\n",
       "      <td>-500.255908</td>\n",
       "      <td>14.005551</td>\n",
       "      <td>-599.996129</td>\n",
       "    </tr>\n",
       "    <tr>\n",
       "      <th>4</th>\n",
       "      <td>2016-01-15 04:00:00</td>\n",
       "      <td>6.148599</td>\n",
       "      <td>10.142511</td>\n",
       "      <td>4.939416</td>\n",
       "      <td>42.774141</td>\n",
       "      <td>66.927016</td>\n",
       "      <td>10.360302</td>\n",
       "      <td>0.792826</td>\n",
       "      <td>16.525686</td>\n",
       "      <td>2.055292</td>\n",
       "      <td>...</td>\n",
       "      <td>14.027298</td>\n",
       "      <td>-499.838632</td>\n",
       "      <td>11.953070</td>\n",
       "      <td>-501.053894</td>\n",
       "      <td>9.925709</td>\n",
       "      <td>-501.686727</td>\n",
       "      <td>7.894242</td>\n",
       "      <td>-500.356035</td>\n",
       "      <td>13.996647</td>\n",
       "      <td>-601.496691</td>\n",
       "    </tr>\n",
       "  </tbody>\n",
       "</table>\n",
       "<p>5 rows × 87 columns</p>\n",
       "</div>"
      ],
      "text/plain": [
       "                  date  final.output.concentrate_ag  \\\n",
       "0  2016-01-15 00:00:00                     6.055403   \n",
       "1  2016-01-15 01:00:00                     6.029369   \n",
       "2  2016-01-15 02:00:00                     6.055926   \n",
       "3  2016-01-15 03:00:00                     6.047977   \n",
       "4  2016-01-15 04:00:00                     6.148599   \n",
       "\n",
       "   final.output.concentrate_pb  final.output.concentrate_sol  \\\n",
       "0                     9.889648                      5.507324   \n",
       "1                     9.968944                      5.257781   \n",
       "2                    10.213995                      5.383759   \n",
       "3                     9.977019                      4.858634   \n",
       "4                    10.142511                      4.939416   \n",
       "\n",
       "   final.output.concentrate_au  final.output.recovery  final.output.tail_ag  \\\n",
       "0                    42.192020              70.541216             10.411962   \n",
       "1                    42.701629              69.266198             10.462676   \n",
       "2                    42.657501              68.116445             10.507046   \n",
       "3                    42.689819              68.347543             10.422762   \n",
       "4                    42.774141              66.927016             10.360302   \n",
       "\n",
       "   final.output.tail_pb  final.output.tail_sol  final.output.tail_au  ...  \\\n",
       "0              0.895447              16.904297              2.143149  ...   \n",
       "1              0.927452              16.634514              2.224930  ...   \n",
       "2              0.953716              16.208849              2.257889  ...   \n",
       "3              0.883763              16.532835              2.146849  ...   \n",
       "4              0.792826              16.525686              2.055292  ...   \n",
       "\n",
       "   secondary_cleaner.state.floatbank4_a_air  \\\n",
       "0                                 14.016835   \n",
       "1                                 13.992281   \n",
       "2                                 14.015015   \n",
       "3                                 14.036510   \n",
       "4                                 14.027298   \n",
       "\n",
       "   secondary_cleaner.state.floatbank4_a_level  \\\n",
       "0                                 -502.488007   \n",
       "1                                 -505.503262   \n",
       "2                                 -502.520901   \n",
       "3                                 -500.857308   \n",
       "4                                 -499.838632   \n",
       "\n",
       "   secondary_cleaner.state.floatbank4_b_air  \\\n",
       "0                                 12.099931   \n",
       "1                                 11.950531   \n",
       "2                                 11.912783   \n",
       "3                                 11.999550   \n",
       "4                                 11.953070   \n",
       "\n",
       "   secondary_cleaner.state.floatbank4_b_level  \\\n",
       "0                                 -504.715942   \n",
       "1                                 -501.331529   \n",
       "2                                 -501.133383   \n",
       "3                                 -501.193686   \n",
       "4                                 -501.053894   \n",
       "\n",
       "   secondary_cleaner.state.floatbank5_a_air  \\\n",
       "0                                  9.925633   \n",
       "1                                 10.039245   \n",
       "2                                 10.070913   \n",
       "3                                  9.970366   \n",
       "4                                  9.925709   \n",
       "\n",
       "   secondary_cleaner.state.floatbank5_a_level  \\\n",
       "0                                 -498.310211   \n",
       "1                                 -500.169983   \n",
       "2                                 -500.129135   \n",
       "3                                 -499.201640   \n",
       "4                                 -501.686727   \n",
       "\n",
       "   secondary_cleaner.state.floatbank5_b_air  \\\n",
       "0                                  8.079666   \n",
       "1                                  7.984757   \n",
       "2                                  8.013877   \n",
       "3                                  7.977324   \n",
       "4                                  7.894242   \n",
       "\n",
       "   secondary_cleaner.state.floatbank5_b_level  \\\n",
       "0                                 -500.470978   \n",
       "1                                 -500.582168   \n",
       "2                                 -500.517572   \n",
       "3                                 -500.255908   \n",
       "4                                 -500.356035   \n",
       "\n",
       "   secondary_cleaner.state.floatbank6_a_air  \\\n",
       "0                                 14.151341   \n",
       "1                                 13.998353   \n",
       "2                                 14.028663   \n",
       "3                                 14.005551   \n",
       "4                                 13.996647   \n",
       "\n",
       "   secondary_cleaner.state.floatbank6_a_level  \n",
       "0                                 -605.841980  \n",
       "1                                 -599.787184  \n",
       "2                                 -601.427363  \n",
       "3                                 -599.996129  \n",
       "4                                 -601.496691  \n",
       "\n",
       "[5 rows x 87 columns]"
      ]
     },
     "metadata": {},
     "output_type": "display_data"
    },
    {
     "data": {
      "text/plain": [
       "None"
      ]
     },
     "metadata": {},
     "output_type": "display_data"
    }
   ],
   "source": [
    "train = pd.read_csv('gold_recovery_train_new.csv')\n",
    "test = pd.read_csv('gold_recovery_test_new.csv')\n",
    "data = pd.read_csv('gold_recovery_full_new.csv')\n",
    "\n",
    "#display (train.head(5), train.info())\n",
    "#display (test.head(5), test.info())\n",
    "display (data.head(5), data.info())\n",
    "#display (train.info(), test.info(), data.info())"
   ]
  },
  {
   "cell_type": "markdown",
   "metadata": {},
   "source": [
    "Нам даны 3 датасета: тренировочная выборка, тестовая выборка и исходные данные. Столбцы датасетов - различные параметры, которые характеризуют технологический процесс на разных этапах. Строки датасетов - единичные измерения параметров во времени."
   ]
  },
  {
   "cell_type": "markdown",
   "metadata": {},
   "source": [
    "**Из документации к данным нам известно:**\n",
    "\n",
    "**Технологический процесс**\n",
    "* Rougher feed — исходное сырье\n",
    "* Rougher additions (или reagent additions) — флотационные реагенты: Xanthate, Sulphate, Depressant\n",
    "  * Xanthate **— ксантогенат (промотер, или активатор флотации);\n",
    "  * Sulphate — сульфат (на данном производстве сульфид натрия);\n",
    "  * Depressant — депрессант (силикат натрия).\n",
    "* Rougher process (англ. «грубый процесс») — флотация\n",
    "* Rougher tails — отвальные хвосты\n",
    "* Float banks — флотационная установка\n",
    "* Cleaner process — очистка\n",
    "* Rougher Au — черновой концентрат золота\n",
    "* Final Au — финальный концентрат золота\n",
    "\n",
    "\n",
    "**Параметры этапов**\n",
    "* air amount — объём воздуха\n",
    "* fluid levels — уровень жидкости\n",
    "* feed size — размер гранул сырья\n",
    "* feed rate — скорость подачи\n",
    "\n",
    "**Наименование признаков**\n",
    "\n",
    "`[этап].[тип_параметра].[название_параметра]`\n",
    "\n",
    "**Возможные значения для блока `[этап]`:**\n",
    "* rougher — флотация\n",
    "* primary_cleaner — первичная очистка\n",
    "* secondary_cleaner — вторичная очистка\n",
    "* final — финальные характеристики\n",
    "\n",
    "**Возможные значения для блока `[тип_параметра]`:**\n",
    "* input — параметры сырья\n",
    "* output — параметры продукта\n",
    "* state — параметры, характеризующие текущее состояние этапа\n",
    "* calculation — расчётные характеристики"
   ]
  },
  {
   "cell_type": "markdown",
   "metadata": {},
   "source": [
    "**Задача:**\n",
    "\n",
    "Смоделировать процесс восстановления золота из золотосодержащей руды."
   ]
  },
  {
   "cell_type": "markdown",
   "metadata": {},
   "source": [
    "### Проверка на корректность"
   ]
  },
  {
   "cell_type": "markdown",
   "metadata": {},
   "source": [
    "Необходимо проверить, что эффективность обогащения расчитана правильно по формуле."
   ]
  },
  {
   "cell_type": "markdown",
   "metadata": {},
   "source": [
    "**Recovery = C * (F - T) / F * (C - T)**"
   ]
  },
  {
   "cell_type": "code",
   "execution_count": 6,
   "metadata": {},
   "outputs": [
    {
     "data": {
      "text/plain": [
       "0    87.107763\n",
       "1    86.843261\n",
       "2    86.842308\n",
       "3    87.226430\n",
       "4    86.688794\n",
       "dtype: float64"
      ]
     },
     "execution_count": 6,
     "metadata": {},
     "output_type": "execute_result"
    }
   ],
   "source": [
    "recovery = train['rougher.output.recovery']\n",
    "f = train['rougher.input.feed_au']\n",
    "c = train['rougher.output.concentrate_au']\n",
    "t = train['rougher.output.tail_au']\n",
    "\n",
    "rec = (c * (f - t)) / (f * (c - t)) * 100\n",
    "rec = pd.Series(rec)\n",
    "rec.head()"
   ]
  },
  {
   "cell_type": "code",
   "execution_count": 7,
   "metadata": {},
   "outputs": [
    {
     "name": "stdout",
     "output_type": "stream",
     "text": [
      "9.73512347450521e-15\n"
     ]
    }
   ],
   "source": [
    "# найдем среднее абсолютное отклонение между расчетами\n",
    "print (mean_absolute_error(recovery, my_recovery))"
   ]
  },
  {
   "cell_type": "markdown",
   "metadata": {},
   "source": [
    "Среднее отклонение близко к нулю, соответственно расчеты эффективности обогащения расчитаны правильно. "
   ]
  },
  {
   "cell_type": "markdown",
   "metadata": {},
   "source": [
    "### Анализ признаков"
   ]
  },
  {
   "cell_type": "markdown",
   "metadata": {},
   "source": [
    "В тестовой и обучающей выборках разное количество столбцов, проверим, какие столбцы отсутствуют."
   ]
  },
  {
   "cell_type": "code",
   "execution_count": 8,
   "metadata": {
    "scrolled": false
   },
   "outputs": [
    {
     "data": {
      "text/plain": [
       "34"
      ]
     },
     "metadata": {},
     "output_type": "display_data"
    },
    {
     "data": {
      "text/plain": [
       "['final.output.concentrate_ag',\n",
       " 'final.output.concentrate_pb',\n",
       " 'final.output.concentrate_sol',\n",
       " 'final.output.concentrate_au',\n",
       " 'final.output.recovery',\n",
       " 'final.output.tail_ag',\n",
       " 'final.output.tail_pb',\n",
       " 'final.output.tail_sol',\n",
       " 'final.output.tail_au',\n",
       " 'primary_cleaner.output.concentrate_ag',\n",
       " 'primary_cleaner.output.concentrate_pb',\n",
       " 'primary_cleaner.output.concentrate_sol',\n",
       " 'primary_cleaner.output.concentrate_au',\n",
       " 'primary_cleaner.output.tail_ag',\n",
       " 'primary_cleaner.output.tail_pb',\n",
       " 'primary_cleaner.output.tail_sol',\n",
       " 'primary_cleaner.output.tail_au',\n",
       " 'rougher.calculation.sulfate_to_au_concentrate',\n",
       " 'rougher.calculation.floatbank10_sulfate_to_au_feed',\n",
       " 'rougher.calculation.floatbank11_sulfate_to_au_feed',\n",
       " 'rougher.calculation.au_pb_ratio',\n",
       " 'rougher.output.concentrate_ag',\n",
       " 'rougher.output.concentrate_pb',\n",
       " 'rougher.output.concentrate_sol',\n",
       " 'rougher.output.concentrate_au',\n",
       " 'rougher.output.recovery',\n",
       " 'rougher.output.tail_ag',\n",
       " 'rougher.output.tail_pb',\n",
       " 'rougher.output.tail_sol',\n",
       " 'rougher.output.tail_au',\n",
       " 'secondary_cleaner.output.tail_ag',\n",
       " 'secondary_cleaner.output.tail_pb',\n",
       " 'secondary_cleaner.output.tail_sol',\n",
       " 'secondary_cleaner.output.tail_au']"
      ]
     },
     "metadata": {},
     "output_type": "display_data"
    }
   ],
   "source": [
    "test_columns = list(test.columns)\n",
    "train_columns = list(train.columns)\n",
    "\n",
    "dif = [ i for i in train_columns if i not in test_columns]\n",
    "display (len(dif), dif)"
   ]
  },
  {
   "cell_type": "markdown",
   "metadata": {},
   "source": [
    "В тестовой выборке отсутсвуют параметры продукта, то есть отсутствует доля металлов в концентрате после флотации, первой очистки и финальный концентрат, также отсутсвует доля металлов в хвостах после всех этапов очистки, отсутствуют целевые признаки и некоторые расчетные характеристики.\n",
    "\n",
    "Скорее всего промежуточные результаты нам неизвестны перед построением модели, поэтому их необходимо удалить из обучающей выборки. А целевые признаки нам необходимы, поэтому мы их добавим из исходного датасета в тестовую выборку, так как для предсказаний нам необходим целевой признак и одинаковое количество столбцов в выборках."
   ]
  },
  {
   "cell_type": "markdown",
   "metadata": {},
   "source": [
    "### Предобработка данных"
   ]
  },
  {
   "cell_type": "markdown",
   "metadata": {},
   "source": [
    "Проанализируем информацию о данных для предобработки."
   ]
  },
  {
   "cell_type": "code",
   "execution_count": 9,
   "metadata": {},
   "outputs": [
    {
     "data": {
      "text/plain": [
       "secondary_cleaner.output.tail_sol           1605\n",
       "rougher.state.floatbank10_e_air              436\n",
       "rougher.input.floatbank11_xanthate           428\n",
       "primary_cleaner.output.concentrate_sol       286\n",
       "secondary_cleaner.state.floatbank2_a_air     217\n",
       "final.output.concentrate_sol                 211\n",
       "rougher.input.feed_size                      144\n",
       "primary_cleaner.input.xanthate               100\n",
       "rougher.input.feed_pb                        100\n",
       "final.output.tail_pb                         100\n",
       "dtype: int64"
      ]
     },
     "metadata": {},
     "output_type": "display_data"
    },
    {
     "data": {
      "text/plain": [
       "rougher.input.floatbank11_xanthate          25\n",
       "rougher.input.feed_sol                      21\n",
       "secondary_cleaner.state.floatbank3_a_air     9\n",
       "rougher.input.floatbank11_sulfate            8\n",
       "primary_cleaner.input.depressant             5\n",
       "rougher.input.floatbank10_sulfate            5\n",
       "primary_cleaner.input.xanthate               4\n",
       "primary_cleaner.input.sulfate                4\n",
       "rougher.input.feed_rate                      3\n",
       "secondary_cleaner.state.floatbank2_a_air     3\n",
       "dtype: int64"
      ]
     },
     "metadata": {},
     "output_type": "display_data"
    }
   ],
   "source": [
    "#train.info()\n",
    "display (train.isna().sum().sort_values(ascending=False).head(10))\n",
    "display (test.isna().sum().sort_values(ascending=False).head(10))\n",
    "#train.head(5)"
   ]
  },
  {
   "cell_type": "markdown",
   "metadata": {},
   "source": [
    "* В данных есть один столбец с категориальным признаком - дата\n",
    "* В данных есть пропуски"
   ]
  },
  {
   "cell_type": "markdown",
   "metadata": {},
   "source": [
    "По описанию проекта, соседние по времени параметры часто похожи, поэтому можем заполнить попуски соседними значениями."
   ]
  },
  {
   "cell_type": "code",
   "execution_count": 10,
   "metadata": {},
   "outputs": [],
   "source": [
    "train = train.fillna(method='ffill')\n",
    "test = test.fillna(method='ffill')\n",
    "data = data.fillna(method='ffill')"
   ]
  },
  {
   "cell_type": "markdown",
   "metadata": {},
   "source": [
    "**Вывод**\n",
    "\n",
    "Данные изучены и обработаны, перед обучением модели необходимо провести повторную предобработку:\n",
    "* проведена проверка на корректность целевого признака\n",
    "* проанализированны признаки\n",
    "  * необходимо удалить из тренировочной выборки доли концентрата\n",
    "* данные обработаны\n",
    "  * заполнены пропуски\n",
    "  * необходимо удалить ненужные значения\n",
    "  * необходимо провести стандартизацию\n",
    "  \n",
    "Далее необходимо проанализировать данные и построить модель."
   ]
  },
  {
   "cell_type": "markdown",
   "metadata": {},
   "source": [
    "## Анализ данных"
   ]
  },
  {
   "cell_type": "markdown",
   "metadata": {},
   "source": [
    "### Концентрация металлов"
   ]
  },
  {
   "cell_type": "markdown",
   "metadata": {},
   "source": [
    "Посмотрим, как меняется концентрация металлов (Au, Ag, Pb) на различных этапах очистки."
   ]
  },
  {
   "cell_type": "code",
   "execution_count": 12,
   "metadata": {},
   "outputs": [],
   "source": [
    "# переведем дату в нужный формат\n",
    "data['date'] = pd.to_datetime(data['date'],format='%Y.%m.%d %H:%M:%S')"
   ]
  },
  {
   "cell_type": "code",
   "execution_count": 13,
   "metadata": {},
   "outputs": [],
   "source": [
    "# выделим необходимые столбцы\n",
    "au = data[['rougher.input.feed_au', 'rougher.output.concentrate_au', \n",
    "           'primary_cleaner.output.concentrate_au', 'final.output.concentrate_au', 'date']]\n",
    "ag = data[['rougher.input.feed_ag', 'rougher.output.concentrate_ag', \n",
    "           'primary_cleaner.output.concentrate_ag', 'final.output.concentrate_ag', 'date']]\n",
    "pb = data[['rougher.input.feed_pb', 'rougher.output.concentrate_pb',\n",
    "           'primary_cleaner.output.concentrate_pb', 'final.output.concentrate_pb', 'date']]"
   ]
  },
  {
   "cell_type": "code",
   "execution_count": 16,
   "metadata": {
    "scrolled": true
   },
   "outputs": [],
   "source": [
    "# создадим функцию, которая возвращает таблицы с долями металлов для графиков\n",
    "def format(data, feed, router, prime, final):\n",
    "    data = data.query('date.dt.year == 2017')\n",
    "    data['date'] = data['date'].dt.date\n",
    "    feed = data.groupby('date')[feed].mean()\n",
    "    router = data.groupby('date')[router].mean()\n",
    "    prime = data.groupby('date')[prime].mean()\n",
    "    final = data.groupby('date')[final].mean()\n",
    "    return feed, router, prime, final\n",
    "           \n",
    "\n",
    "feed_au, router_au, prime_au, final_au = format(au, 'rougher.input.feed_au', 'rougher.output.concentrate_au', \n",
    "                                                'primary_cleaner.output.concentrate_au', 'final.output.concentrate_au')\n",
    "feed_ag, router_ag, prime_ag, final_ag = format(ag, 'rougher.input.feed_ag', 'rougher.output.concentrate_ag', \n",
    "                                                'primary_cleaner.output.concentrate_ag', 'final.output.concentrate_ag')\n",
    "feed_pb, router_pb, prime_pb, final_pb = format(pb, 'rougher.input.feed_pb', 'rougher.output.concentrate_pb', \n",
    "                                                'primary_cleaner.output.concentrate_pb', 'final.output.concentrate_pb')\n",
    "\n",
    "pd.options.mode.chained_assignment = None # default='warn'"
   ]
  },
  {
   "cell_type": "code",
   "execution_count": 17,
   "metadata": {},
   "outputs": [
    {
     "data": {
      "image/png": "[encoded data removed]",
      "text/plain": [
       "<Figure size 1008x360 with 1 Axes>"
      ]
     },
     "metadata": {
      "needs_background": "light"
     },
     "output_type": "display_data"
    }
   ],
   "source": [
    "# построим график для концентрации золота\n",
    "fig = plt.figure(figsize=(14, 5))\n",
    "ax = fig.add_subplot()\n",
    "\n",
    "final = ax.plot(final_au.index, final_au, c = 'gold', lw=2.5)\n",
    "prime = ax.plot(prime_au.index, prime_au, c = 'khaki', lw=2.5)\n",
    "router = ax.plot(router_au.index, router_au, c = 'darkkhaki', lw=2.5)\n",
    "feed = ax.plot(feed_au.index, feed_au, c = 'olive', lw=2.5)\n",
    "\n",
    "ax.set_title('Концентрация золота на различных этапах очистки', fontsize=15)\n",
    "ax.set_xlabel('Дата')\n",
    "ax.set_ylabel('Доля золота')\n",
    "\n",
    "plt.legend((feed[0], router[0], prime[0], final[0]),(\n",
    "    'Сырье', 'Флотация', 'Первичная обработка', 'Финальный концентрат'), loc = 'lower right')\n",
    "plt.show()"
   ]
  },
  {
   "cell_type": "markdown",
   "metadata": {},
   "source": [
    "Очистка золота происходит равномерно, с каждым этапом очистки доля золота в концентрате возрастает примерно на 10%, однако вторичная очистка нередко показывает видимое снижение доли золота в определенные дни, несмотря на то, что остальные этапы такого снижения в эти же дни не показывают."
   ]
  },
  {
   "cell_type": "code",
   "execution_count": 18,
   "metadata": {},
   "outputs": [
    {
     "data": {
      "image/png": "[encoded data removed]",
      "text/plain": [
       "<Figure size 1008x360 with 1 Axes>"
      ]
     },
     "metadata": {
      "needs_background": "light"
     },
     "output_type": "display_data"
    }
   ],
   "source": [
    "# построим график для концентрации серебра\n",
    "fig = plt.figure(figsize=(14, 5))\n",
    "ax = fig.add_subplot()\n",
    "\n",
    "final = ax.plot(final_ag.index, final_ag, c = 'lightgray', lw=2.5)\n",
    "prime = ax.plot(prime_ag.index, prime_ag, c = 'darkgray', lw=2.5)\n",
    "router = ax.plot(router_ag.index, router_ag, c = 'dimgray', lw=2.5)\n",
    "feed = ax.plot(feed_ag.index, feed_ag, c = 'black', lw=2.5)\n",
    "\n",
    "ax.set_title('Концентрация серебра на различных этапах очистки', fontsize=15)\n",
    "ax.set_xlabel('Дата')\n",
    "ax.set_ylabel('Доля серебра')\n",
    "\n",
    "plt.legend((feed[0], router[0], prime[0], final[0]),(\n",
    "    'Сырье', 'Флотация', 'Первичная обработка', 'Финальный концентрат'), loc = 'lower right')\n",
    "plt.show()"
   ]
  },
  {
   "cell_type": "markdown",
   "metadata": {},
   "source": [
    "Очистка серебра показывает отрицательный рост, наибольшая доля серебра в сырье после флотации, однако следующие этапы (первичный и вторичный) сильно уменьшают его долю. Возможно, эти этапы фильтруют концентрат недостаточно эффективно и в хвостах после первичной и вторичной обработки остается достаточно большое количество серебра."
   ]
  },
  {
   "cell_type": "code",
   "execution_count": 19,
   "metadata": {},
   "outputs": [
    {
     "data": {
      "image/png": "[encoded data removed]",
      "text/plain": [
       "<Figure size 1008x360 with 1 Axes>"
      ]
     },
     "metadata": {
      "needs_background": "light"
     },
     "output_type": "display_data"
    }
   ],
   "source": [
    "# построим график для концентрации свинца\n",
    "fig = plt.figure(figsize=(14, 5))\n",
    "ax = fig.add_subplot()\n",
    "\n",
    "final = ax.plot(final_pb.index, final_pb, c = 'aquamarine', lw=2.5)\n",
    "prime = ax.plot(prime_pb.index, prime_pb, c = 'cornflowerblue', lw=2.5)\n",
    "router = ax.plot(router_pb.index, router_pb, c = 'b', lw=2.5)\n",
    "feed = ax.plot(feed_pb.index, feed_pb, c = 'navy', lw=2.5)\n",
    "\n",
    "ax.set_title('Концентрация свинца на различных этапах очистки', fontsize=15)\n",
    "ax.set_xlabel('Дата')\n",
    "ax.set_ylabel('Доля свинца')\n",
    "\n",
    "plt.legend((feed[0], router[0], prime[0], final[0]), (\n",
    "    'Сырье', 'Флотация', 'Первичная обработка', 'Финальный концентрат'), loc = 'lower right')\n",
    "plt.show()"
   ]
  },
  {
   "cell_type": "markdown",
   "metadata": {},
   "source": [
    "Очистка свинца происходит эффективнее, чем у серебра, доля свинца увеличивается почти в три раза, однако вторичная очистка почти не дает результат и доля свинца после нее не увеличивается. Возможно вторичная очистка недостаточно эффективная."
   ]
  },
  {
   "cell_type": "markdown",
   "metadata": {},
   "source": [
    "### Распределение размеров гранул сырья"
   ]
  },
  {
   "cell_type": "markdown",
   "metadata": {},
   "source": [
    "Сравним распределения размеров гранул сырья на обучающей и тестовой выборках. "
   ]
  },
  {
   "cell_type": "code",
   "execution_count": 20,
   "metadata": {},
   "outputs": [
    {
     "data": {
      "text/plain": [
       "<function matplotlib.pyplot.show(close=None, block=None)>"
      ]
     },
     "execution_count": 20,
     "metadata": {},
     "output_type": "execute_result"
    },
    {
     "data": {
      "image/png": "[encoded data removed]",
      "text/plain": [
       "<Figure size 720x360 with 1 Axes>"
      ]
     },
     "metadata": {
      "needs_background": "light"
     },
     "output_type": "display_data"
    }
   ],
   "source": [
    "import numpy as np\n",
    "\n",
    "fig = plt.figure(figsize=(10, 5))\n",
    "ax = fig.add_subplot()\n",
    "\n",
    "train['rougher.input.feed_size'].hist(bins=50, density=True)\n",
    "test['rougher.input.feed_size'].hist(bins=50, density=True, alpha=0.5)\n",
    "\n",
    "ax.set_title('Размеры гранул сырья', fontsize=15)\n",
    "ax.set_xlabel('Размер')\n",
    "ax.set_ylabel('Количество')\n",
    "plt.legend(('Тренировочная выборка', 'Тестовая выборка'), loc = 'lower right')\n",
    "              \n",
    "ax.set_xlim(0, 200)\n",
    "ax.set_xticks(np.arange(0, 200, 10))\n",
    "\n",
    "plt.show"
   ]
  },
  {
   "cell_type": "markdown",
   "metadata": {},
   "source": [
    "Как мы можем видеть на графике, распределения размеров гранул сырья примерно похожи, оба распределения нормальные и хвосты уходят вправо и влево, большинство значений находится в промежутке от 40 до 60 единиц."
   ]
  },
  {
   "cell_type": "markdown",
   "metadata": {},
   "source": [
    "### Суммарная концентрация веществ"
   ]
  },
  {
   "cell_type": "markdown",
   "metadata": {},
   "source": [
    "Исследуем суммарную концентрацию всех веществ на разных стадиях: в сырье, в черновом и финальном концентратах."
   ]
  },
  {
   "cell_type": "code",
   "execution_count": 21,
   "metadata": {},
   "outputs": [],
   "source": [
    "# суммируем концентрации\n",
    "def consum(df):\n",
    "    df['rougher.input.feed_sum'] = (df['rougher.input.feed_ag'] +  df['rougher.input.feed_au']\n",
    "                                    + df['rougher.input.feed_pb'] + df['rougher.input.feed_sol'])\n",
    "    df['rougher.output.concentrate_sum'] = (df['rougher.output.concentrate_ag'] + df['rougher.output.concentrate_au'] \n",
    "                                            + df['rougher.output.concentrate_pb'] + df['rougher.output.concentrate_sol'])\n",
    "    df['primary_cleaner.output.concentrate_sum'] = (df['primary_cleaner.output.concentrate_ag'] + df['primary_cleaner.output.concentrate_au']\n",
    "                                                    + df['primary_cleaner.output.concentrate_pb'] + df['primary_cleaner.output.concentrate_sol'])\n",
    "    df['final.output.concentrate_sum'] = (df['final.output.concentrate_ag'] + df['final.output.concentrate_au'] \n",
    "                                          + df['final.output.concentrate_pb'] + df['final.output.concentrate_sol'])\n",
    "    return df\n",
    "\n",
    "df = consum(train)"
   ]
  },
  {
   "cell_type": "code",
   "execution_count": 22,
   "metadata": {},
   "outputs": [
    {
     "data": {
      "image/png": "[encoded data removed]",
      "text/plain": [
       "<Figure size 1008x360 with 1 Axes>"
      ]
     },
     "metadata": {
      "needs_background": "light"
     },
     "output_type": "display_data"
    }
   ],
   "source": [
    "# построим график для наглядности\n",
    "fig = plt.figure(figsize=(14, 5))\n",
    "ax = fig.add_subplot()\n",
    "\n",
    "ax.hist(df['rougher.input.feed_sum'], color = 'dimgrey', bins=100)\n",
    "ax.hist(df['rougher.output.concentrate_sum'], color = 'darkgoldenrod', bins=100)\n",
    "ax.hist(df['primary_cleaner.output.concentrate_sum'], color = 'orange', bins=100)\n",
    "ax.hist(df['final.output.concentrate_sum'], color = 'gold', bins=100)\n",
    "\n",
    "ax.set_title('Суммарная концентрация веществ на различных этапах очистки', fontsize=15)\n",
    "ax.set_xlabel('Доля веществ')\n",
    "ax.set_ylabel('Количество значений')\n",
    "ax.set_xticks(np.arange(0, 100, 5))\n",
    "\n",
    "plt.legend(('Сырье', 'Флотация', 'Первичная обработка', 'Финальный концентрат'), loc = 'upper left')\n",
    "\n",
    "plt.show()"
   ]
  },
  {
   "cell_type": "code",
   "execution_count": 23,
   "metadata": {},
   "outputs": [
    {
     "data": {
      "text/html": [
       "<div>\n",
       "<style scoped>\n",
       "    .dataframe tbody tr th:only-of-type {\n",
       "        vertical-align: middle;\n",
       "    }\n",
       "\n",
       "    .dataframe tbody tr th {\n",
       "        vertical-align: top;\n",
       "    }\n",
       "\n",
       "    .dataframe thead th {\n",
       "        text-align: right;\n",
       "    }\n",
       "</style>\n",
       "<table border=\"1\" class=\"dataframe\">\n",
       "  <thead>\n",
       "    <tr style=\"text-align: right;\">\n",
       "      <th></th>\n",
       "      <th>date</th>\n",
       "      <th>final.output.concentrate_ag</th>\n",
       "      <th>final.output.concentrate_pb</th>\n",
       "      <th>final.output.concentrate_sol</th>\n",
       "      <th>final.output.concentrate_au</th>\n",
       "      <th>final.output.recovery</th>\n",
       "      <th>final.output.tail_ag</th>\n",
       "      <th>final.output.tail_pb</th>\n",
       "      <th>final.output.tail_sol</th>\n",
       "      <th>final.output.tail_au</th>\n",
       "      <th>...</th>\n",
       "      <th>secondary_cleaner.state.floatbank5_a_air</th>\n",
       "      <th>secondary_cleaner.state.floatbank5_a_level</th>\n",
       "      <th>secondary_cleaner.state.floatbank5_b_air</th>\n",
       "      <th>secondary_cleaner.state.floatbank5_b_level</th>\n",
       "      <th>secondary_cleaner.state.floatbank6_a_air</th>\n",
       "      <th>secondary_cleaner.state.floatbank6_a_level</th>\n",
       "      <th>rougher.input.feed_sum</th>\n",
       "      <th>rougher.output.concentrate_sum</th>\n",
       "      <th>primary_cleaner.output.concentrate_sum</th>\n",
       "      <th>final.output.concentrate_sum</th>\n",
       "    </tr>\n",
       "  </thead>\n",
       "  <tbody>\n",
       "    <tr>\n",
       "      <th>19</th>\n",
       "      <td>2016-01-15 19:00:00</td>\n",
       "      <td>5.658943</td>\n",
       "      <td>10.436002</td>\n",
       "      <td>5.942418</td>\n",
       "      <td>42.509402</td>\n",
       "      <td>70.348300</td>\n",
       "      <td>10.232392</td>\n",
       "      <td>1.174845</td>\n",
       "      <td>19.498566</td>\n",
       "      <td>2.272460</td>\n",
       "      <td>...</td>\n",
       "      <td>10.032043</td>\n",
       "      <td>-499.128183</td>\n",
       "      <td>8.016140</td>\n",
       "      <td>-499.806844</td>\n",
       "      <td>13.949790</td>\n",
       "      <td>-600.140776</td>\n",
       "      <td>56.005644</td>\n",
       "      <td>62.930764</td>\n",
       "      <td>0.0</td>\n",
       "      <td>64.546766</td>\n",
       "    </tr>\n",
       "    <tr>\n",
       "      <th>22</th>\n",
       "      <td>2016-01-15 22:00:00</td>\n",
       "      <td>6.118749</td>\n",
       "      <td>10.483007</td>\n",
       "      <td>6.546983</td>\n",
       "      <td>41.406172</td>\n",
       "      <td>69.823900</td>\n",
       "      <td>10.322077</td>\n",
       "      <td>1.270956</td>\n",
       "      <td>19.384247</td>\n",
       "      <td>2.245145</td>\n",
       "      <td>...</td>\n",
       "      <td>9.985232</td>\n",
       "      <td>-499.796583</td>\n",
       "      <td>7.985524</td>\n",
       "      <td>-499.872153</td>\n",
       "      <td>13.973257</td>\n",
       "      <td>-600.054998</td>\n",
       "      <td>56.038252</td>\n",
       "      <td>62.225893</td>\n",
       "      <td>0.0</td>\n",
       "      <td>64.554911</td>\n",
       "    </tr>\n",
       "    <tr>\n",
       "      <th>30</th>\n",
       "      <td>2016-01-16 06:00:00</td>\n",
       "      <td>5.322681</td>\n",
       "      <td>9.577672</td>\n",
       "      <td>4.805490</td>\n",
       "      <td>44.059908</td>\n",
       "      <td>69.193840</td>\n",
       "      <td>10.334312</td>\n",
       "      <td>1.406355</td>\n",
       "      <td>19.923319</td>\n",
       "      <td>2.239310</td>\n",
       "      <td>...</td>\n",
       "      <td>9.969535</td>\n",
       "      <td>-499.350934</td>\n",
       "      <td>8.017975</td>\n",
       "      <td>-500.620850</td>\n",
       "      <td>11.999969</td>\n",
       "      <td>-600.315548</td>\n",
       "      <td>57.764677</td>\n",
       "      <td>62.283147</td>\n",
       "      <td>0.0</td>\n",
       "      <td>63.765751</td>\n",
       "    </tr>\n",
       "    <tr>\n",
       "      <th>71</th>\n",
       "      <td>2016-01-18 01:00:00</td>\n",
       "      <td>4.677499</td>\n",
       "      <td>11.304745</td>\n",
       "      <td>4.655438</td>\n",
       "      <td>45.135616</td>\n",
       "      <td>72.437752</td>\n",
       "      <td>10.525415</td>\n",
       "      <td>1.479372</td>\n",
       "      <td>19.364956</td>\n",
       "      <td>2.215637</td>\n",
       "      <td>...</td>\n",
       "      <td>10.025142</td>\n",
       "      <td>-499.554142</td>\n",
       "      <td>8.130711</td>\n",
       "      <td>-499.758800</td>\n",
       "      <td>11.951659</td>\n",
       "      <td>-600.726946</td>\n",
       "      <td>56.626743</td>\n",
       "      <td>61.183102</td>\n",
       "      <td>0.0</td>\n",
       "      <td>65.773298</td>\n",
       "    </tr>\n",
       "    <tr>\n",
       "      <th>74</th>\n",
       "      <td>2016-01-18 04:00:00</td>\n",
       "      <td>4.821388</td>\n",
       "      <td>10.235502</td>\n",
       "      <td>1.581066</td>\n",
       "      <td>43.264258</td>\n",
       "      <td>84.687443</td>\n",
       "      <td>5.520487</td>\n",
       "      <td>0.821232</td>\n",
       "      <td>9.264695</td>\n",
       "      <td>1.263480</td>\n",
       "      <td>...</td>\n",
       "      <td>10.012719</td>\n",
       "      <td>-501.020322</td>\n",
       "      <td>8.020406</td>\n",
       "      <td>-500.395112</td>\n",
       "      <td>11.995851</td>\n",
       "      <td>-598.774893</td>\n",
       "      <td>56.369424</td>\n",
       "      <td>60.301210</td>\n",
       "      <td>0.0</td>\n",
       "      <td>59.902215</td>\n",
       "    </tr>\n",
       "  </tbody>\n",
       "</table>\n",
       "<p>5 rows × 91 columns</p>\n",
       "</div>"
      ],
      "text/plain": [
       "                   date  final.output.concentrate_ag  \\\n",
       "19  2016-01-15 19:00:00                     5.658943   \n",
       "22  2016-01-15 22:00:00                     6.118749   \n",
       "30  2016-01-16 06:00:00                     5.322681   \n",
       "71  2016-01-18 01:00:00                     4.677499   \n",
       "74  2016-01-18 04:00:00                     4.821388   \n",
       "\n",
       "    final.output.concentrate_pb  final.output.concentrate_sol  \\\n",
       "19                    10.436002                      5.942418   \n",
       "22                    10.483007                      6.546983   \n",
       "30                     9.577672                      4.805490   \n",
       "71                    11.304745                      4.655438   \n",
       "74                    10.235502                      1.581066   \n",
       "\n",
       "    final.output.concentrate_au  final.output.recovery  final.output.tail_ag  \\\n",
       "19                    42.509402              70.348300             10.232392   \n",
       "22                    41.406172              69.823900             10.322077   \n",
       "30                    44.059908              69.193840             10.334312   \n",
       "71                    45.135616              72.437752             10.525415   \n",
       "74                    43.264258              84.687443              5.520487   \n",
       "\n",
       "    final.output.tail_pb  final.output.tail_sol  final.output.tail_au  ...  \\\n",
       "19              1.174845              19.498566              2.272460  ...   \n",
       "22              1.270956              19.384247              2.245145  ...   \n",
       "30              1.406355              19.923319              2.239310  ...   \n",
       "71              1.479372              19.364956              2.215637  ...   \n",
       "74              0.821232               9.264695              1.263480  ...   \n",
       "\n",
       "    secondary_cleaner.state.floatbank5_a_air  \\\n",
       "19                                 10.032043   \n",
       "22                                  9.985232   \n",
       "30                                  9.969535   \n",
       "71                                 10.025142   \n",
       "74                                 10.012719   \n",
       "\n",
       "    secondary_cleaner.state.floatbank5_a_level  \\\n",
       "19                                 -499.128183   \n",
       "22                                 -499.796583   \n",
       "30                                 -499.350934   \n",
       "71                                 -499.554142   \n",
       "74                                 -501.020322   \n",
       "\n",
       "    secondary_cleaner.state.floatbank5_b_air  \\\n",
       "19                                  8.016140   \n",
       "22                                  7.985524   \n",
       "30                                  8.017975   \n",
       "71                                  8.130711   \n",
       "74                                  8.020406   \n",
       "\n",
       "    secondary_cleaner.state.floatbank5_b_level  \\\n",
       "19                                 -499.806844   \n",
       "22                                 -499.872153   \n",
       "30                                 -500.620850   \n",
       "71                                 -499.758800   \n",
       "74                                 -500.395112   \n",
       "\n",
       "    secondary_cleaner.state.floatbank6_a_air  \\\n",
       "19                                 13.949790   \n",
       "22                                 13.973257   \n",
       "30                                 11.999969   \n",
       "71                                 11.951659   \n",
       "74                                 11.995851   \n",
       "\n",
       "    secondary_cleaner.state.floatbank6_a_level  rougher.input.feed_sum  \\\n",
       "19                                 -600.140776               56.005644   \n",
       "22                                 -600.054998               56.038252   \n",
       "30                                 -600.315548               57.764677   \n",
       "71                                 -600.726946               56.626743   \n",
       "74                                 -598.774893               56.369424   \n",
       "\n",
       "    rougher.output.concentrate_sum  primary_cleaner.output.concentrate_sum  \\\n",
       "19                       62.930764                                     0.0   \n",
       "22                       62.225893                                     0.0   \n",
       "30                       62.283147                                     0.0   \n",
       "71                       61.183102                                     0.0   \n",
       "74                       60.301210                                     0.0   \n",
       "\n",
       "    final.output.concentrate_sum  \n",
       "19                     64.546766  \n",
       "22                     64.554911  \n",
       "30                     63.765751  \n",
       "71                     65.773298  \n",
       "74                     59.902215  \n",
       "\n",
       "[5 rows x 91 columns]"
      ]
     },
     "execution_count": 23,
     "metadata": {},
     "output_type": "execute_result"
    }
   ],
   "source": [
    "train[df['primary_cleaner.output.concentrate_sum'] == 0].head(5)"
   ]
  },
  {
   "cell_type": "markdown",
   "metadata": {},
   "source": [
    "В суммарном распределении веществ есть аномальные значения, равные 0. Возможно на данных очистках не замерялись доли полезных ископаемых или эти доли было настолько малы, что не было смысла их замерять. Удалим аномальные значения из таблицы."
   ]
  },
  {
   "cell_type": "code",
   "execution_count": 24,
   "metadata": {},
   "outputs": [],
   "source": [
    "train = train.loc[df['final.output.concentrate_sum'] != 0]\n",
    "train = train.loc[df['primary_cleaner.output.concentrate_sum'] != 0]\n",
    "train = train.loc[df['rougher.output.concentrate_sum'] != 0]\n",
    "train = train.loc[df['rougher.input.feed_sum'] != 0]"
   ]
  },
  {
   "cell_type": "markdown",
   "metadata": {},
   "source": [
    "**Вывод**\n",
    "\n",
    "Данные проанализированны:\n",
    "* Выявлено, что очистка золота происходит равномерно и эффективно с каждым этапом очистки доля золота в концентрате возрастает примерно на 10%; очистка серебра показывает отрицательный рост, возможно она происходит недостаточно эффективно; доля свинца после очистки увеличивается почти в три раза, однако вторичная очистка почти не дает результат\n",
    "* Проанализировано распределение гранул сырья в обучающей и тестовой выборках - распределения схожи\n",
    "* Исследована суммарная концентрация веществ после этапов очистки, выявлены и удалены аномальные значения"
   ]
  },
  {
   "cell_type": "markdown",
   "metadata": {},
   "source": [
    "## Модель"
   ]
  },
  {
   "cell_type": "markdown",
   "metadata": {},
   "source": [
    "### Предобработка данных"
   ]
  },
  {
   "cell_type": "markdown",
   "metadata": {},
   "source": [
    "Проведем окончательную предобработку датасетов."
   ]
  },
  {
   "cell_type": "code",
   "execution_count": 25,
   "metadata": {},
   "outputs": [],
   "source": [
    "# удалим суммирование по этапам\n",
    "train = train.drop(['rougher.input.feed_sum', 'rougher.output.concentrate_sum',\n",
    "                    'primary_cleaner.output.concentrate_sum', 'final.output.concentrate_sum'], axis=1)"
   ]
  },
  {
   "cell_type": "code",
   "execution_count": 26,
   "metadata": {
    "scrolled": true
   },
   "outputs": [],
   "source": [
    "# удалим промежуточные результаты\n",
    "train = train.drop(dif, axis=1)\n"
   ]
  },
  {
   "cell_type": "code",
   "execution_count": 27,
   "metadata": {},
   "outputs": [],
   "source": [
    "# чтобы объеденить столбцы из data и train, test, переведем дату в формат datetime\n",
    "test['date'] = pd.to_datetime(test['date'],format='%Y.%m.%d %H:%M:%S')\n",
    "train['date'] = pd.to_datetime(train['date'],format='%Y.%m.%d %H:%M:%S')"
   ]
  },
  {
   "cell_type": "code",
   "execution_count": 28,
   "metadata": {},
   "outputs": [],
   "source": [
    "# добавим целевые признаки и расчетные характеристики\n",
    "columns = ['final.output.recovery', 'rougher.output.recovery', 'date']\n",
    "test = test.set_index('date')\n",
    "train = train.set_index('date')\n",
    "data = data.set_index('date')"
   ]
  },
  {
   "cell_type": "code",
   "execution_count": 29,
   "metadata": {
    "scrolled": true
   },
   "outputs": [],
   "source": [
    "test2 = pd.DataFrame(data, index=test.index, columns=columns)\n",
    "test = test.merge(test2, on=test.index)\n",
    "\n",
    "train2 = pd.DataFrame(data, index=train.index, columns=columns)\n",
    "train = train.merge(train2, on=train.index)"
   ]
  },
  {
   "cell_type": "code",
   "execution_count": 30,
   "metadata": {},
   "outputs": [],
   "source": [
    "# для обучения модели дата нам не понадобится, удалим в обучающей и тренировочной выборке.\n",
    "train = train.drop(['key_0', 'date'], axis=1)\n",
    "test = test.drop(['key_0', 'date'], axis=1)"
   ]
  },
  {
   "cell_type": "markdown",
   "metadata": {},
   "source": [
    "Разделим обучающую и тестовую выборки."
   ]
  },
  {
   "cell_type": "code",
   "execution_count": 31,
   "metadata": {},
   "outputs": [],
   "source": [
    "# признаки тестовой выборки\n",
    "features_test = test.drop(['rougher.output.recovery', 'final.output.recovery'], axis=1)\n",
    "target_test_rougher = test['rougher.output.recovery']\n",
    "target_test_final = test['final.output.recovery']\n",
    "\n",
    "# признаки обучающей выборки\n",
    "features_train = train.drop(['rougher.output.recovery', 'final.output.recovery'], axis=1)\n",
    "target_train_rougher = train['rougher.output.recovery']\n",
    "target_train_final = train['final.output.recovery']"
   ]
  },
  {
   "cell_type": "markdown",
   "metadata": {},
   "source": [
    "### Функция для вычисления итоговой sMAPE"
   ]
  },
  {
   "cell_type": "code",
   "execution_count": 32,
   "metadata": {},
   "outputs": [],
   "source": [
    "# напишем функцию для формулы smape = (1/N) * sum((|target - pred|) / ((|target| + |pred|) / 2)) * 100%\n",
    "def smape(target, predictions):\n",
    "    smape = (abs(target - predictions) / ((abs(target) + abs(predictions)) / 2)) * 100\n",
    "    return smape.mean()\n"
   ]
  },
  {
   "cell_type": "markdown",
   "metadata": {},
   "source": [
    "Проверим работу метрики SMAPE на линейной регрессии."
   ]
  },
  {
   "cell_type": "code",
   "execution_count": 33,
   "metadata": {},
   "outputs": [
    {
     "name": "stdout",
     "output_type": "stream",
     "text": [
      "4.691581689629095\n"
     ]
    }
   ],
   "source": [
    "features_train_check, features_valid_check, target_train_check, target_valid_check = train_test_split(\n",
    "    features_train, target_train_rougher, test_size=0.25, random_state=12345)\n",
    "\n",
    "model = LinearRegression()\n",
    "model.fit(features_train_check, target_train_check)\n",
    "predictions = model.predict(features_valid_check)\n",
    "print (smape(target_valid_check, predictions))"
   ]
  },
  {
   "cell_type": "code",
   "execution_count": 34,
   "metadata": {},
   "outputs": [],
   "source": [
    "# напишем функцию для итоговой smape\n",
    "\n",
    "def final_smape(rougher_smape, final_smape):\n",
    "    return (0.25 * rougher_smape + 0.75 * final_smape)"
   ]
  },
  {
   "cell_type": "markdown",
   "metadata": {},
   "source": [
    "### Обучение модели"
   ]
  },
  {
   "cell_type": "markdown",
   "metadata": {},
   "source": [
    "**Дерево решений**"
   ]
  },
  {
   "cell_type": "markdown",
   "metadata": {},
   "source": [
    "Обучим модель дерева решений и проведем кросс-валидацию с помощью GridSearch"
   ]
  },
  {
   "cell_type": "code",
   "execution_count": 35,
   "metadata": {},
   "outputs": [],
   "source": [
    "# введем новую метрику и сделаем ее отрицательной\n",
    "scoring = make_scorer(smape, greater_is_better=False)"
   ]
  },
  {
   "cell_type": "code",
   "execution_count": 36,
   "metadata": {},
   "outputs": [],
   "source": [
    "# зададим параметры для модели\n",
    "\n",
    "parameters_tree = { 'max_depth': range (1, 15, 2), 'random_state' : [12345] }\n",
    "#parameters_forest = {'max_depth' : range (1, 6), 'random_state' : [12345]}\n",
    "\n",
    "\n",
    "#parameters_tree = { 'max_depth': range (1,13, 2), 'min_samples_leaf' : range (1, 8), 'min_samples_split' : range (2, 10, 2)}\n",
    "#parameters_forest = {'n_estimators' : range (10, 91, 10), 'max_depth' : range (1,13, 2), 'min_samples_leaf' : range (1,8),  'min_samples_split' : range (2,10,2), 'random_state' : [12345]}"
   ]
  },
  {
   "cell_type": "code",
   "execution_count": 37,
   "metadata": {},
   "outputs": [],
   "source": [
    "# переберем гиперпараметры и проведем кросс-валидацию\n",
    "model_tree = DecisionTreeRegressor()\n",
    "model_forest = RandomForestRegressor()\n",
    "\n",
    "grid_tree_rougher = GridSearchCV(model_tree, param_grid = parameters_tree, scoring = scoring)\n",
    "grid_tree_final = GridSearchCV(model_tree, param_grid = parameters_tree, scoring = scoring)\n",
    "\n",
    "#grid_forest_rougher = GridSearchCV(model_forest, param_grid = parameters_forest,  scoring = scoring)\n",
    "#grid_forest_final = GridSearchCV(model_forest, param_grid = parameters_forest,  scoring = scoring)"
   ]
  },
  {
   "cell_type": "code",
   "execution_count": 38,
   "metadata": {},
   "outputs": [
    {
     "data": {
      "text/plain": [
       "GridSearchCV(estimator=DecisionTreeRegressor(),\n",
       "             param_grid={'max_depth': range(1, 15, 2), 'random_state': [12345]},\n",
       "             scoring=make_scorer(smape, greater_is_better=False))"
      ]
     },
     "execution_count": 38,
     "metadata": {},
     "output_type": "execute_result"
    }
   ],
   "source": [
    "# обучим модели\n",
    "grid_tree_rougher.fit(features_train, target_train_rougher)\n",
    "grid_tree_final.fit(features_train, target_train_final)\n",
    "\n",
    "#grid_forest_rougher.fit(features_train, target_train_rougher)\n",
    "#grid_forest_final.fit(features_train, target_train_final)"
   ]
  },
  {
   "cell_type": "code",
   "execution_count": 39,
   "metadata": {
    "scrolled": true
   },
   "outputs": [
    {
     "name": "stdout",
     "output_type": "stream",
     "text": [
      "По модели дерева решений лучший промежуточный результат:  7.328567814752473\n",
      "По модели дерева решений лучший финальный результат:  9.440354196471523\n"
     ]
    }
   ],
   "source": [
    "# определим лучшую модель\n",
    "\n",
    "print ('По модели дерева решений лучший промежуточный результат: ', abs(grid_tree_rougher.best_score_))\n",
    "print ('По модели дерева решений лучший финальный результат: ', abs(grid_tree_final.best_score_))\n",
    "\n",
    "#print ('По модели случайного леса лучший промежуточный результат: ', grid_forest_rougher.best_score_)\n",
    "#print ('По модели случайного леса лучший финальный результат: ', grid_forest_final.best_score_)"
   ]
  },
  {
   "cell_type": "code",
   "execution_count": 40,
   "metadata": {},
   "outputs": [
    {
     "name": "stdout",
     "output_type": "stream",
     "text": [
      "Итоговая SMAPE:  8.91240760104176\n"
     ]
    }
   ],
   "source": [
    "# найдем итоговую SMAPE\n",
    "print ('Итоговая SMAPE: ', final_smape(abs(grid_tree_rougher.best_score_), abs(grid_tree_final.best_score_)))"
   ]
  },
  {
   "cell_type": "markdown",
   "metadata": {},
   "source": [
    "**Случайный лес**"
   ]
  },
  {
   "cell_type": "markdown",
   "metadata": {},
   "source": [
    "Для случайного леса создадим функцию, которая переберет параметры для двух целевых признаков и проведет кросс-валидацию"
   ]
  },
  {
   "cell_type": "code",
   "execution_count": 41,
   "metadata": {},
   "outputs": [
    {
     "name": "stdout",
     "output_type": "stream",
     "text": [
      "Лучшая модель случайного леса для промежуточной оценки:  RandomForestRegressor(max_depth=6, n_estimators=10, random_state=12345)\n",
      "Лучший SMAPE случайного леса для промежуточной оценки:  7.763605674303934\n",
      "Лучшая модель случайного леса для финальной оценки:  RandomForestRegressor(max_depth=2, n_estimators=10, random_state=12345)\n",
      "Лучший SMAPE случайного леса для финальной оценки:  9.740247482444335\n"
     ]
    }
   ],
   "source": [
    "# напишем функцию для перебора параметров случайного леса\n",
    "\n",
    "def model_score(features, target):\n",
    "    \n",
    "    best_model = 0\n",
    "    best_score = -1000\n",
    "    \n",
    "    for depth in range(1, 10):\n",
    "        model = RandomForestRegressor(random_state=12345, max_depth=depth, n_estimators=10)\n",
    "        scores = cross_val_score(model, features, target, cv=4,scoring = scoring)\n",
    "               \n",
    "        score = pd.Series(scores).mean()\n",
    "        if score > best_score:\n",
    "            best_score = score\n",
    "            best_model = model\n",
    "                \n",
    "    return best_model, best_score\n",
    "\n",
    "model_rouger, score_rougher = model_score(features_train, target_train_rougher)\n",
    "model_final, score_final = model_score(features_train, target_train_final)\n",
    "\n",
    "print ('Лучшая модель случайного леса для промежуточной оценки: ', model_rouger)\n",
    "print ('Лучший SMAPE случайного леса для промежуточной оценки: ', abs(score_rougher))\n",
    "\n",
    "print ('Лучшая модель случайного леса для финальной оценки: ', model_final)\n",
    "print ('Лучший SMAPE случайного леса для финальной оценки: ', abs(score_final))"
   ]
  },
  {
   "cell_type": "code",
   "execution_count": 42,
   "metadata": {},
   "outputs": [
    {
     "name": "stdout",
     "output_type": "stream",
     "text": [
      "Итоговая SMAPE:  9.246087030409235\n"
     ]
    }
   ],
   "source": [
    "# найдем итоговую SMAPE\n",
    "print ('Итоговая SMAPE: ', final_smape(abs(score_rougher), abs(score_final)))"
   ]
  },
  {
   "cell_type": "markdown",
   "metadata": {},
   "source": [
    "**Линейная регрессия**"
   ]
  },
  {
   "cell_type": "markdown",
   "metadata": {},
   "source": [
    "Также создадим функцию для обучения линейной регрессии и проведем кросс-валидацию."
   ]
  },
  {
   "cell_type": "code",
   "execution_count": 43,
   "metadata": {
    "scrolled": true
   },
   "outputs": [
    {
     "name": "stdout",
     "output_type": "stream",
     "text": [
      "Лучшая модель линейной регрессии для промежуточной оценки:  LinearRegression()\n",
      "Лучший SMAPE линейной регрессии для промежуточной оценки:  7.741429931491362\n",
      "Лучшая модель линейной регрессии для финальной оценки:  LinearRegression()\n",
      "Лучший SMAPE линейной регрессии для финальной оценки:  10.87618173670366\n"
     ]
    }
   ],
   "source": [
    "\n",
    "def model_score(features, target):\n",
    "    \n",
    "    best_model = 0\n",
    "    best_score = -1000\n",
    "    \n",
    "    model = LinearRegression()\n",
    "    scores = cross_val_score(model, features, target, cv=4, scoring = scoring)\n",
    "    \n",
    "    score = pd.Series(scores).mean()\n",
    "    if score > best_score:\n",
    "        best_score = score\n",
    "        best_model = model\n",
    "                \n",
    "    return best_model, best_score\n",
    "\n",
    "model_rouger, score_rougher = model_score(features_train, target_train_rougher)\n",
    "model_final, score_final = model_score(features_train, target_train_final)\n",
    "\n",
    "print ('Лучшая модель линейной регрессии для промежуточной оценки: ', model_rouger)\n",
    "print ('Лучший SMAPE линейной регрессии для промежуточной оценки: ', abs(score_rougher))\n",
    "\n",
    "print ('Лучшая модель линейной регрессии для финальной оценки: ', model_final)\n",
    "print ('Лучший SMAPE линейной регрессии для финальной оценки: ', abs(score_final))\n"
   ]
  },
  {
   "cell_type": "code",
   "execution_count": 44,
   "metadata": {},
   "outputs": [
    {
     "name": "stdout",
     "output_type": "stream",
     "text": [
      "Итоговая SMAPE:  10.092493785400587\n"
     ]
    }
   ],
   "source": [
    "# найдем итоговую SMAPE\n",
    "print ('Итоговая SMAPE: ', final_smape(abs(score_rougher), abs(score_final)))"
   ]
  },
  {
   "cell_type": "markdown",
   "metadata": {},
   "source": [
    "**Вывод**\n",
    "\n",
    "Мы оценили несколько моделей с помощью кросс-валидации. Наиболее эффективная модель оценки - Линейная регрессия."
   ]
  },
  {
   "cell_type": "markdown",
   "metadata": {},
   "source": [
    "###  Тестирование модели"
   ]
  },
  {
   "cell_type": "markdown",
   "metadata": {},
   "source": [
    "Проверим модель на тестовой выборке"
   ]
  },
  {
   "cell_type": "code",
   "execution_count": 45,
   "metadata": {},
   "outputs": [
    {
     "data": {
      "text/plain": [
       "8.56072796798345"
      ]
     },
     "execution_count": 45,
     "metadata": {},
     "output_type": "execute_result"
    }
   ],
   "source": [
    "model_rougher = LinearRegression()\n",
    "model_rougher.fit(features_train, target_train_rougher)\n",
    "predictions_rougher = model_rougher.predict(features_test)\n",
    "\n",
    "rougher_score = smape(target_test_rougher, predictions_rougher)\n",
    "rougher_score"
   ]
  },
  {
   "cell_type": "code",
   "execution_count": 46,
   "metadata": {},
   "outputs": [
    {
     "data": {
      "text/plain": [
       "9.603329891239747"
      ]
     },
     "execution_count": 46,
     "metadata": {},
     "output_type": "execute_result"
    }
   ],
   "source": [
    "model_final = LinearRegression()\n",
    "model_final.fit(features_train, target_train_final)\n",
    "predictions_final = model_final.predict(features_test)\n",
    "\n",
    "final_score = smape(target_test_final, predictions_final)\n",
    "final_score"
   ]
  },
  {
   "cell_type": "code",
   "execution_count": 47,
   "metadata": {
    "scrolled": true
   },
   "outputs": [
    {
     "name": "stdout",
     "output_type": "stream",
     "text": [
      "Итоговая SMAPE:  9.342679410425674\n"
     ]
    }
   ],
   "source": [
    "print ('Итоговая SMAPE: ', final_smape(abs(rougher_score), abs(final_score)))"
   ]
  },
  {
   "cell_type": "markdown",
   "metadata": {},
   "source": [
    "Проверим модель на адекватность - сравним с константной моделью `DummyRegressor`"
   ]
  },
  {
   "cell_type": "code",
   "execution_count": 48,
   "metadata": {},
   "outputs": [
    {
     "data": {
      "text/plain": [
       "9.064360592154223"
      ]
     },
     "execution_count": 48,
     "metadata": {},
     "output_type": "execute_result"
    }
   ],
   "source": [
    "model = DummyRegressor(strategy = 'mean')\n",
    "model.fit(features_train, target_train_rougher)\n",
    "predictions_rougher = model.predict(features_test)\n",
    "\n",
    "rougher_score = smape(target_test_rougher, predictions_rougher)\n",
    "rougher_score"
   ]
  },
  {
   "cell_type": "code",
   "execution_count": 49,
   "metadata": {},
   "outputs": [
    {
     "data": {
      "text/plain": [
       "10.086634972028302"
      ]
     },
     "execution_count": 49,
     "metadata": {},
     "output_type": "execute_result"
    }
   ],
   "source": [
    "model = DummyRegressor(strategy = 'mean')\n",
    "model.fit(features_train, target_train_final)\n",
    "predictions_final = model.predict(features_test)\n",
    "\n",
    "final_score = smape(target_test_final, predictions_final)\n",
    "final_score"
   ]
  },
  {
   "cell_type": "code",
   "execution_count": 50,
   "metadata": {
    "scrolled": false
   },
   "outputs": [
    {
     "name": "stdout",
     "output_type": "stream",
     "text": [
      "Итоговая SMAPE:  9.831066377059782\n"
     ]
    }
   ],
   "source": [
    "print ('Итоговая SMAPE: ', final_smape(abs(rougher_score), abs(final_score)))"
   ]
  },
  {
   "cell_type": "markdown",
   "metadata": {},
   "source": [
    "**Вывод**\n",
    "\n",
    "Задача проекта - смоделировать процесс восстановления золота из золотосодержащей руды выполнена.\n",
    "\n",
    "В исследовании были выполнены следующие шаги:\n",
    "1. Подготовлены данные:\n",
    "    * Изучены датасеты\n",
    "    * Проведена проверка на корректность данных\n",
    "    * Проанализированны признаки\n",
    "    * Проведена предобработка\n",
    "2. Проведен исследовательский анализ:\n",
    "    * Проанализирована концентрация металлов, выявлена недостаточная эффективность очистки серебра и свинца\n",
    "    * Проведен сравнительный анализ распределения гранул сырья\n",
    "    * Удалены аномальные значения\n",
    "3. Обучение модели:\n",
    "    * Обучено несколько моделей\n",
    "    * Оценено качество моделей и выбрана наиболее эффективная модель \n",
    "    * Проведена кросс-валидация\n",
    "    * Лучшая модель протестирована\n",
    "\n",
    "Наиболее эффективная модель - Случайный лес, с помощью него можно сделать предсказания эффективности восстановления золота."
   ]
  }
 ],
 "metadata": {
  "ExecuteTimeLog": [
   {
    "duration": 3597,
    "start_time": "2022-08-03T16:54:38.768Z"
   },
   {
    "duration": 189,
    "start_time": "2022-08-03T16:54:42.367Z"
   },
   {
    "duration": 4,
    "start_time": "2022-08-03T16:54:42.558Z"
   },
   {
    "duration": 6,
    "start_time": "2022-08-03T16:54:42.565Z"
   },
   {
    "duration": 35,
    "start_time": "2022-08-03T16:54:42.572Z"
   },
   {
    "duration": 25,
    "start_time": "2022-08-03T16:54:42.609Z"
   },
   {
    "duration": 23,
    "start_time": "2022-08-03T16:54:42.635Z"
   },
   {
    "duration": 8,
    "start_time": "2022-08-03T16:54:42.659Z"
   },
   {
    "duration": 8,
    "start_time": "2022-08-03T16:54:42.668Z"
   },
   {
    "duration": 63,
    "start_time": "2022-08-03T16:54:42.678Z"
   },
   {
    "duration": 301,
    "start_time": "2022-08-03T16:54:42.743Z"
   },
   {
    "duration": 205,
    "start_time": "2022-08-03T16:54:43.046Z"
   },
   {
    "duration": 217,
    "start_time": "2022-08-03T16:54:43.253Z"
   },
   {
    "duration": 374,
    "start_time": "2022-08-03T16:54:43.472Z"
   },
   {
    "duration": 8,
    "start_time": "2022-08-03T16:54:43.848Z"
   },
   {
    "duration": 623,
    "start_time": "2022-08-03T16:54:43.857Z"
   },
   {
    "duration": 37,
    "start_time": "2022-08-03T16:54:44.482Z"
   },
   {
    "duration": 19,
    "start_time": "2022-08-03T16:54:44.521Z"
   },
   {
    "duration": 5,
    "start_time": "2022-08-03T16:54:44.542Z"
   },
   {
    "duration": 7,
    "start_time": "2022-08-03T16:54:44.549Z"
   },
   {
    "duration": 17,
    "start_time": "2022-08-03T16:54:44.557Z"
   },
   {
    "duration": 31,
    "start_time": "2022-08-03T16:54:44.576Z"
   },
   {
    "duration": 34,
    "start_time": "2022-08-03T16:54:44.609Z"
   },
   {
    "duration": 7,
    "start_time": "2022-08-03T16:54:44.644Z"
   },
   {
    "duration": 8,
    "start_time": "2022-08-03T16:54:44.652Z"
   },
   {
    "duration": 245,
    "start_time": "2022-08-03T16:54:44.661Z"
   },
   {
    "duration": 4,
    "start_time": "2022-08-03T16:55:31.642Z"
   },
   {
    "duration": 233,
    "start_time": "2022-08-03T16:55:33.777Z"
   },
   {
    "duration": 3,
    "start_time": "2022-08-03T16:55:46.867Z"
   },
   {
    "duration": 65,
    "start_time": "2022-08-03T16:55:49.347Z"
   },
   {
    "duration": 15,
    "start_time": "2022-08-03T16:57:46.187Z"
   },
   {
    "duration": 2399,
    "start_time": "2022-08-03T16:59:11.790Z"
   },
   {
    "duration": 218,
    "start_time": "2022-08-03T16:59:14.192Z"
   },
   {
    "duration": 4,
    "start_time": "2022-08-03T16:59:14.412Z"
   },
   {
    "duration": 7,
    "start_time": "2022-08-03T16:59:14.418Z"
   },
   {
    "duration": 12,
    "start_time": "2022-08-03T16:59:14.426Z"
   },
   {
    "duration": 23,
    "start_time": "2022-08-03T16:59:14.439Z"
   },
   {
    "duration": 56,
    "start_time": "2022-08-03T16:59:14.463Z"
   },
   {
    "duration": 8,
    "start_time": "2022-08-03T16:59:14.521Z"
   },
   {
    "duration": 8,
    "start_time": "2022-08-03T16:59:14.530Z"
   },
   {
    "duration": 38,
    "start_time": "2022-08-03T16:59:14.540Z"
   },
   {
    "duration": 344,
    "start_time": "2022-08-03T16:59:14.580Z"
   },
   {
    "duration": 211,
    "start_time": "2022-08-03T16:59:14.926Z"
   },
   {
    "duration": 240,
    "start_time": "2022-08-03T16:59:15.138Z"
   },
   {
    "duration": 373,
    "start_time": "2022-08-03T16:59:15.380Z"
   },
   {
    "duration": 8,
    "start_time": "2022-08-03T16:59:15.755Z"
   },
   {
    "duration": 723,
    "start_time": "2022-08-03T16:59:15.765Z"
   },
   {
    "duration": 35,
    "start_time": "2022-08-03T16:59:16.490Z"
   },
   {
    "duration": 21,
    "start_time": "2022-08-03T16:59:16.527Z"
   },
   {
    "duration": 7,
    "start_time": "2022-08-03T16:59:16.551Z"
   },
   {
    "duration": 11,
    "start_time": "2022-08-03T16:59:16.559Z"
   },
   {
    "duration": 17,
    "start_time": "2022-08-03T16:59:16.572Z"
   },
   {
    "duration": 9,
    "start_time": "2022-08-03T16:59:16.605Z"
   },
   {
    "duration": 3,
    "start_time": "2022-08-03T16:59:16.615Z"
   },
   {
    "duration": 9,
    "start_time": "2022-08-03T16:59:16.619Z"
   },
   {
    "duration": 7,
    "start_time": "2022-08-03T16:59:16.629Z"
   },
   {
    "duration": 5,
    "start_time": "2022-08-03T16:59:16.637Z"
   },
   {
    "duration": 266,
    "start_time": "2022-08-03T16:59:16.643Z"
   },
   {
    "duration": 12,
    "start_time": "2022-08-03T17:12:58.982Z"
   },
   {
    "duration": 13,
    "start_time": "2022-08-03T17:14:35.720Z"
   },
   {
    "duration": 2463,
    "start_time": "2022-08-03T17:15:27.172Z"
   },
   {
    "duration": 211,
    "start_time": "2022-08-03T17:15:29.637Z"
   },
   {
    "duration": 3,
    "start_time": "2022-08-03T17:15:29.849Z"
   },
   {
    "duration": 6,
    "start_time": "2022-08-03T17:15:29.854Z"
   },
   {
    "duration": 11,
    "start_time": "2022-08-03T17:15:29.861Z"
   },
   {
    "duration": 46,
    "start_time": "2022-08-03T17:15:29.873Z"
   },
   {
    "duration": 24,
    "start_time": "2022-08-03T17:15:29.920Z"
   },
   {
    "duration": 8,
    "start_time": "2022-08-03T17:15:29.946Z"
   },
   {
    "duration": 7,
    "start_time": "2022-08-03T17:15:29.955Z"
   },
   {
    "duration": 63,
    "start_time": "2022-08-03T17:15:29.965Z"
   },
   {
    "duration": 310,
    "start_time": "2022-08-03T17:15:30.030Z"
   },
   {
    "duration": 206,
    "start_time": "2022-08-03T17:15:30.342Z"
   },
   {
    "duration": 225,
    "start_time": "2022-08-03T17:15:30.550Z"
   },
   {
    "duration": 367,
    "start_time": "2022-08-03T17:15:30.777Z"
   },
   {
    "duration": 8,
    "start_time": "2022-08-03T17:15:31.146Z"
   },
   {
    "duration": 601,
    "start_time": "2022-08-03T17:15:31.155Z"
   },
   {
    "duration": 27,
    "start_time": "2022-08-03T17:15:31.758Z"
   },
   {
    "duration": 33,
    "start_time": "2022-08-03T17:15:31.787Z"
   },
   {
    "duration": 5,
    "start_time": "2022-08-03T17:15:31.822Z"
   },
   {
    "duration": 16,
    "start_time": "2022-08-03T17:15:31.828Z"
   },
   {
    "duration": 25,
    "start_time": "2022-08-03T17:15:31.845Z"
   },
   {
    "duration": 9,
    "start_time": "2022-08-03T17:15:31.872Z"
   },
   {
    "duration": 44,
    "start_time": "2022-08-03T17:15:31.883Z"
   },
   {
    "duration": 6,
    "start_time": "2022-08-03T17:15:31.929Z"
   },
   {
    "duration": 17,
    "start_time": "2022-08-03T17:15:31.937Z"
   },
   {
    "duration": 47,
    "start_time": "2022-08-04T08:58:49.866Z"
   },
   {
    "duration": 5001,
    "start_time": "2022-08-04T08:58:56.584Z"
   },
   {
    "duration": 235,
    "start_time": "2022-08-04T08:59:06.768Z"
   },
   {
    "duration": 7,
    "start_time": "2022-08-04T08:59:08.427Z"
   },
   {
    "duration": 8,
    "start_time": "2022-08-04T08:59:30.032Z"
   },
   {
    "duration": 4,
    "start_time": "2022-08-04T08:59:40.972Z"
   },
   {
    "duration": 7,
    "start_time": "2022-08-04T08:59:48.225Z"
   },
   {
    "duration": 13,
    "start_time": "2022-08-04T09:00:08.675Z"
   },
   {
    "duration": 30,
    "start_time": "2022-08-04T09:00:28.583Z"
   },
   {
    "duration": 26,
    "start_time": "2022-08-04T09:00:30.428Z"
   },
   {
    "duration": 15,
    "start_time": "2022-08-04T09:00:43.196Z"
   },
   {
    "duration": 6,
    "start_time": "2022-08-04T09:00:45.139Z"
   },
   {
    "duration": 40,
    "start_time": "2022-08-04T09:00:50.844Z"
   },
   {
    "duration": 323,
    "start_time": "2022-08-04T09:01:02.191Z"
   },
   {
    "duration": 228,
    "start_time": "2022-08-04T09:01:05.459Z"
   },
   {
    "duration": 238,
    "start_time": "2022-08-04T09:01:09.826Z"
   },
   {
    "duration": 442,
    "start_time": "2022-08-04T09:01:19.878Z"
   },
   {
    "duration": 311,
    "start_time": "2022-08-04T09:01:47.153Z"
   },
   {
    "duration": 9,
    "start_time": "2022-08-04T09:01:57.630Z"
   },
   {
    "duration": 664,
    "start_time": "2022-08-04T09:02:05.567Z"
   },
   {
    "duration": 47,
    "start_time": "2022-08-04T09:02:14.876Z"
   },
   {
    "duration": 28,
    "start_time": "2022-08-04T09:02:26.197Z"
   },
   {
    "duration": 6,
    "start_time": "2022-08-04T09:02:32.028Z"
   },
   {
    "duration": 6,
    "start_time": "2022-08-04T09:02:34.139Z"
   },
   {
    "duration": 16,
    "start_time": "2022-08-04T09:02:36.324Z"
   },
   {
    "duration": 10,
    "start_time": "2022-08-04T09:03:23.066Z"
   },
   {
    "duration": 32,
    "start_time": "2022-08-04T09:03:27.446Z"
   },
   {
    "duration": 8,
    "start_time": "2022-08-04T09:03:45.026Z"
   },
   {
    "duration": 5,
    "start_time": "2022-08-04T09:03:47.527Z"
   },
   {
    "duration": 162,
    "start_time": "2022-08-04T09:03:48.343Z"
   },
   {
    "duration": 3,
    "start_time": "2022-08-04T09:03:52.939Z"
   },
   {
    "duration": 4,
    "start_time": "2022-08-04T09:04:00.071Z"
   },
   {
    "duration": 3,
    "start_time": "2022-08-04T09:04:10.375Z"
   },
   {
    "duration": 3,
    "start_time": "2022-08-04T09:04:13.525Z"
   },
   {
    "duration": 23320,
    "start_time": "2022-08-04T09:04:14.690Z"
   },
   {
    "duration": 4,
    "start_time": "2022-08-04T09:04:38.012Z"
   },
   {
    "duration": 17,
    "start_time": "2022-08-04T09:04:38.018Z"
   },
   {
    "duration": 21,
    "start_time": "2022-08-04T09:04:38.036Z"
   },
   {
    "duration": 0,
    "start_time": "2022-08-04T09:04:38.059Z"
   },
   {
    "duration": 0,
    "start_time": "2022-08-04T09:04:38.059Z"
   },
   {
    "duration": 0,
    "start_time": "2022-08-04T09:04:38.061Z"
   },
   {
    "duration": 4652,
    "start_time": "2022-08-04T09:04:40.063Z"
   },
   {
    "duration": 3,
    "start_time": "2022-08-04T09:25:42.971Z"
   },
   {
    "duration": 731,
    "start_time": "2022-08-04T09:25:45.686Z"
   },
   {
    "duration": 210,
    "start_time": "2022-08-04T09:26:36.427Z"
   },
   {
    "duration": 5,
    "start_time": "2022-08-04T09:27:26.543Z"
   },
   {
    "duration": 7,
    "start_time": "2022-08-04T09:27:38.673Z"
   },
   {
    "duration": 12,
    "start_time": "2022-08-04T09:27:43.460Z"
   },
   {
    "duration": 25,
    "start_time": "2022-08-04T09:28:11.157Z"
   },
   {
    "duration": 33,
    "start_time": "2022-08-04T09:28:13.826Z"
   },
   {
    "duration": 8,
    "start_time": "2022-08-04T09:28:19.629Z"
   },
   {
    "duration": 8,
    "start_time": "2022-08-04T09:28:19.991Z"
   },
   {
    "duration": 39,
    "start_time": "2022-08-04T09:28:20.355Z"
   },
   {
    "duration": 38,
    "start_time": "2022-08-04T09:28:32.228Z"
   },
   {
    "duration": 38,
    "start_time": "2022-08-04T09:28:36.447Z"
   },
   {
    "duration": 36,
    "start_time": "2022-08-04T09:28:50.626Z"
   },
   {
    "duration": 36,
    "start_time": "2022-08-04T09:28:53.128Z"
   },
   {
    "duration": 43,
    "start_time": "2022-08-04T09:28:57.826Z"
   },
   {
    "duration": 225,
    "start_time": "2022-08-04T09:29:03.127Z"
   },
   {
    "duration": 372,
    "start_time": "2022-08-04T09:29:05.696Z"
   },
   {
    "duration": 223,
    "start_time": "2022-08-04T09:29:06.465Z"
   },
   {
    "duration": 309,
    "start_time": "2022-08-04T09:29:12.012Z"
   },
   {
    "duration": 9,
    "start_time": "2022-08-04T09:30:08.749Z"
   },
   {
    "duration": 8,
    "start_time": "2022-08-04T09:32:03.426Z"
   },
   {
    "duration": 656,
    "start_time": "2022-08-04T09:32:29.015Z"
   },
   {
    "duration": 854,
    "start_time": "2022-08-04T09:35:41.527Z"
   },
   {
    "duration": 644,
    "start_time": "2022-08-04T09:35:53.980Z"
   },
   {
    "duration": 26,
    "start_time": "2022-08-04T09:36:00.834Z"
   },
   {
    "duration": 20,
    "start_time": "2022-08-04T09:36:03.163Z"
   },
   {
    "duration": 6,
    "start_time": "2022-08-04T09:36:09.427Z"
   },
   {
    "duration": 6,
    "start_time": "2022-08-04T09:36:11.180Z"
   },
   {
    "duration": 10,
    "start_time": "2022-08-04T09:37:42.144Z"
   },
   {
    "duration": 72,
    "start_time": "2022-08-04T09:41:10.622Z"
   },
   {
    "duration": 21,
    "start_time": "2022-08-04T09:41:52.272Z"
   },
   {
    "duration": 62,
    "start_time": "2022-08-04T09:47:21.723Z"
   },
   {
    "duration": 17,
    "start_time": "2022-08-04T09:47:35.736Z"
   },
   {
    "duration": 26,
    "start_time": "2022-08-04T09:48:08.678Z"
   },
   {
    "duration": 41,
    "start_time": "2022-08-04T09:48:16.981Z"
   },
   {
    "duration": 55,
    "start_time": "2022-08-04T09:48:28.871Z"
   },
   {
    "duration": 59,
    "start_time": "2022-08-04T09:48:45.335Z"
   },
   {
    "duration": 245,
    "start_time": "2022-08-04T09:50:09.534Z"
   },
   {
    "duration": 363,
    "start_time": "2022-08-04T09:50:40.524Z"
   },
   {
    "duration": 284,
    "start_time": "2022-08-04T09:51:02.874Z"
   },
   {
    "duration": 370,
    "start_time": "2022-08-04T09:57:46.944Z"
   },
   {
    "duration": 51,
    "start_time": "2022-08-04T09:58:38.097Z"
   },
   {
    "duration": 4,
    "start_time": "2022-08-04T09:58:50.799Z"
   },
   {
    "duration": 742,
    "start_time": "2022-08-04T09:58:50.959Z"
   },
   {
    "duration": 216,
    "start_time": "2022-08-04T09:58:52.686Z"
   },
   {
    "duration": 9,
    "start_time": "2022-08-04T09:58:52.904Z"
   },
   {
    "duration": 5,
    "start_time": "2022-08-04T09:58:53.530Z"
   },
   {
    "duration": 7,
    "start_time": "2022-08-04T09:58:54.533Z"
   },
   {
    "duration": 14,
    "start_time": "2022-08-04T09:58:55.429Z"
   },
   {
    "duration": 20,
    "start_time": "2022-08-04T09:58:56.128Z"
   },
   {
    "duration": 38,
    "start_time": "2022-08-04T09:58:56.463Z"
   },
   {
    "duration": 11,
    "start_time": "2022-08-04T09:58:57.492Z"
   },
   {
    "duration": 7,
    "start_time": "2022-08-04T09:58:57.669Z"
   },
   {
    "duration": 40,
    "start_time": "2022-08-04T09:58:57.922Z"
   },
   {
    "duration": 217,
    "start_time": "2022-08-04T09:58:59.328Z"
   },
   {
    "duration": 240,
    "start_time": "2022-08-04T09:58:59.860Z"
   },
   {
    "duration": 358,
    "start_time": "2022-08-04T09:59:00.200Z"
   },
   {
    "duration": 317,
    "start_time": "2022-08-04T09:59:01.127Z"
   },
   {
    "duration": 9,
    "start_time": "2022-08-04T09:59:03.045Z"
   },
   {
    "duration": 717,
    "start_time": "2022-08-04T09:59:04.231Z"
   },
   {
    "duration": 43,
    "start_time": "2022-08-04T09:59:04.950Z"
   },
   {
    "duration": 20,
    "start_time": "2022-08-04T09:59:04.999Z"
   },
   {
    "duration": 7,
    "start_time": "2022-08-04T09:59:07.731Z"
   },
   {
    "duration": 6,
    "start_time": "2022-08-04T09:59:08.295Z"
   },
   {
    "duration": 254,
    "start_time": "2022-08-04T09:59:10.196Z"
   },
   {
    "duration": 14,
    "start_time": "2022-08-04T09:59:11.040Z"
   },
   {
    "duration": 4,
    "start_time": "2022-08-04T09:59:32.497Z"
   },
   {
    "duration": 666,
    "start_time": "2022-08-04T09:59:32.627Z"
   },
   {
    "duration": 196,
    "start_time": "2022-08-04T09:59:34.353Z"
   },
   {
    "duration": 7,
    "start_time": "2022-08-04T09:59:34.551Z"
   },
   {
    "duration": 4,
    "start_time": "2022-08-04T09:59:35.160Z"
   },
   {
    "duration": 6,
    "start_time": "2022-08-04T09:59:36.013Z"
   },
   {
    "duration": 14,
    "start_time": "2022-08-04T09:59:36.964Z"
   },
   {
    "duration": 26,
    "start_time": "2022-08-04T09:59:37.647Z"
   },
   {
    "duration": 25,
    "start_time": "2022-08-04T09:59:37.961Z"
   },
   {
    "duration": 8,
    "start_time": "2022-08-04T09:59:39.035Z"
   },
   {
    "duration": 9,
    "start_time": "2022-08-04T09:59:39.200Z"
   },
   {
    "duration": 39,
    "start_time": "2022-08-04T09:59:39.378Z"
   },
   {
    "duration": 217,
    "start_time": "2022-08-04T09:59:39.761Z"
   },
   {
    "duration": 240,
    "start_time": "2022-08-04T09:59:40.164Z"
   },
   {
    "duration": 218,
    "start_time": "2022-08-04T09:59:40.641Z"
   },
   {
    "duration": 317,
    "start_time": "2022-08-04T09:59:41.638Z"
   },
   {
    "duration": 10,
    "start_time": "2022-08-04T09:59:43.336Z"
   },
   {
    "duration": 672,
    "start_time": "2022-08-04T09:59:44.230Z"
   },
   {
    "duration": 28,
    "start_time": "2022-08-04T09:59:44.905Z"
   },
   {
    "duration": 22,
    "start_time": "2022-08-04T09:59:45.481Z"
   },
   {
    "duration": 7,
    "start_time": "2022-08-04T09:59:47.236Z"
   },
   {
    "duration": 7,
    "start_time": "2022-08-04T09:59:47.589Z"
   },
   {
    "duration": 11,
    "start_time": "2022-08-04T09:59:48.728Z"
   },
   {
    "duration": 15,
    "start_time": "2022-08-04T09:59:49.461Z"
   },
   {
    "duration": 6,
    "start_time": "2022-08-04T10:01:14.286Z"
   },
   {
    "duration": 9,
    "start_time": "2022-08-04T10:01:15.027Z"
   },
   {
    "duration": 8,
    "start_time": "2022-08-04T10:01:15.664Z"
   },
   {
    "duration": 26,
    "start_time": "2022-08-04T10:01:36.956Z"
   },
   {
    "duration": 151,
    "start_time": "2022-08-04T10:03:48.198Z"
   },
   {
    "duration": 23,
    "start_time": "2022-08-04T10:03:50.398Z"
   },
   {
    "duration": 36,
    "start_time": "2022-08-04T10:03:58.960Z"
   },
   {
    "duration": 24,
    "start_time": "2022-08-04T10:04:05.179Z"
   },
   {
    "duration": 3,
    "start_time": "2022-08-04T10:04:18.271Z"
   },
   {
    "duration": 657,
    "start_time": "2022-08-04T10:04:18.447Z"
   },
   {
    "duration": 200,
    "start_time": "2022-08-04T10:04:20.332Z"
   },
   {
    "duration": 7,
    "start_time": "2022-08-04T10:04:20.534Z"
   },
   {
    "duration": 4,
    "start_time": "2022-08-04T10:04:21.194Z"
   },
   {
    "duration": 6,
    "start_time": "2022-08-04T10:04:22.172Z"
   },
   {
    "duration": 15,
    "start_time": "2022-08-04T10:04:22.992Z"
   },
   {
    "duration": 20,
    "start_time": "2022-08-04T10:04:23.697Z"
   },
   {
    "duration": 25,
    "start_time": "2022-08-04T10:04:24.047Z"
   },
   {
    "duration": 11,
    "start_time": "2022-08-04T10:04:25.086Z"
   },
   {
    "duration": 8,
    "start_time": "2022-08-04T10:04:25.264Z"
   },
   {
    "duration": 49,
    "start_time": "2022-08-04T10:04:25.433Z"
   },
   {
    "duration": 215,
    "start_time": "2022-08-04T10:04:25.828Z"
   },
   {
    "duration": 218,
    "start_time": "2022-08-04T10:04:26.330Z"
   },
   {
    "duration": 226,
    "start_time": "2022-08-04T10:04:26.653Z"
   },
   {
    "duration": 310,
    "start_time": "2022-08-04T10:04:27.638Z"
   },
   {
    "duration": 10,
    "start_time": "2022-08-04T10:04:28.932Z"
   },
   {
    "duration": 659,
    "start_time": "2022-08-04T10:04:29.683Z"
   },
   {
    "duration": 25,
    "start_time": "2022-08-04T10:04:30.344Z"
   },
   {
    "duration": 21,
    "start_time": "2022-08-04T10:04:30.627Z"
   },
   {
    "duration": 7,
    "start_time": "2022-08-04T10:04:32.424Z"
   },
   {
    "duration": 6,
    "start_time": "2022-08-04T10:04:32.564Z"
   },
   {
    "duration": 9,
    "start_time": "2022-08-04T10:04:32.717Z"
   },
   {
    "duration": 39,
    "start_time": "2022-08-04T10:04:32.888Z"
   },
   {
    "duration": 27,
    "start_time": "2022-08-04T10:06:03.651Z"
   },
   {
    "duration": 7,
    "start_time": "2022-08-04T10:06:11.284Z"
   },
   {
    "duration": 22,
    "start_time": "2022-08-04T10:06:11.942Z"
   },
   {
    "duration": 7,
    "start_time": "2022-08-04T10:06:51.122Z"
   },
   {
    "duration": 3,
    "start_time": "2022-08-04T10:06:54.627Z"
   },
   {
    "duration": 161,
    "start_time": "2022-08-04T10:06:57.239Z"
   },
   {
    "duration": 3,
    "start_time": "2022-08-04T10:07:04.470Z"
   },
   {
    "duration": 2,
    "start_time": "2022-08-04T10:07:09.251Z"
   },
   {
    "duration": 3,
    "start_time": "2022-08-04T10:07:10.131Z"
   },
   {
    "duration": 3,
    "start_time": "2022-08-04T10:07:29.031Z"
   },
   {
    "duration": 5,
    "start_time": "2022-08-04T10:07:34.157Z"
   },
   {
    "duration": 1317,
    "start_time": "2022-08-04T10:10:25.720Z"
   },
   {
    "duration": 661,
    "start_time": "2022-08-04T10:10:27.039Z"
   },
   {
    "duration": 196,
    "start_time": "2022-08-04T10:10:27.763Z"
   },
   {
    "duration": 8,
    "start_time": "2022-08-04T10:10:27.961Z"
   },
   {
    "duration": 4,
    "start_time": "2022-08-04T10:10:28.565Z"
   },
   {
    "duration": 6,
    "start_time": "2022-08-04T10:10:29.433Z"
   },
   {
    "duration": 12,
    "start_time": "2022-08-04T10:10:30.471Z"
   },
   {
    "duration": 25,
    "start_time": "2022-08-04T10:10:31.145Z"
   },
   {
    "duration": 31,
    "start_time": "2022-08-04T10:10:31.498Z"
   },
   {
    "duration": 10,
    "start_time": "2022-08-04T10:10:32.820Z"
   },
   {
    "duration": 8,
    "start_time": "2022-08-04T10:10:32.981Z"
   },
   {
    "duration": 41,
    "start_time": "2022-08-04T10:10:33.158Z"
   },
   {
    "duration": 397,
    "start_time": "2022-08-04T10:10:33.541Z"
   },
   {
    "duration": 211,
    "start_time": "2022-08-04T10:10:33.941Z"
   },
   {
    "duration": 222,
    "start_time": "2022-08-04T10:10:34.317Z"
   },
   {
    "duration": 392,
    "start_time": "2022-08-04T10:10:35.444Z"
   },
   {
    "duration": 9,
    "start_time": "2022-08-04T10:10:36.731Z"
   },
   {
    "duration": 658,
    "start_time": "2022-08-04T10:10:37.727Z"
   },
   {
    "duration": 38,
    "start_time": "2022-08-04T10:10:38.387Z"
   },
   {
    "duration": 20,
    "start_time": "2022-08-04T10:10:38.427Z"
   },
   {
    "duration": 6,
    "start_time": "2022-08-04T10:10:39.692Z"
   },
   {
    "duration": 5,
    "start_time": "2022-08-04T10:10:39.838Z"
   },
   {
    "duration": 12,
    "start_time": "2022-08-04T10:10:40.031Z"
   },
   {
    "duration": 44,
    "start_time": "2022-08-04T10:10:40.615Z"
   },
   {
    "duration": 26,
    "start_time": "2022-08-04T10:10:40.886Z"
   },
   {
    "duration": 11,
    "start_time": "2022-08-04T10:10:42.224Z"
   },
   {
    "duration": 6,
    "start_time": "2022-08-04T10:10:43.515Z"
   },
   {
    "duration": 3,
    "start_time": "2022-08-04T10:10:44.231Z"
   },
   {
    "duration": 175,
    "start_time": "2022-08-04T10:10:44.829Z"
   },
   {
    "duration": 3,
    "start_time": "2022-08-04T10:10:45.639Z"
   },
   {
    "duration": 3,
    "start_time": "2022-08-04T10:10:50.327Z"
   },
   {
    "duration": 3,
    "start_time": "2022-08-04T10:10:51.238Z"
   },
   {
    "duration": 4,
    "start_time": "2022-08-04T10:10:54.137Z"
   },
   {
    "duration": 14045,
    "start_time": "2022-08-04T10:10:54.698Z"
   },
   {
    "duration": 5,
    "start_time": "2022-08-04T10:11:08.914Z"
   },
   {
    "duration": 3,
    "start_time": "2022-08-04T10:11:35.896Z"
   },
   {
    "duration": 6,
    "start_time": "2022-08-04T10:11:44.915Z"
   },
   {
    "duration": 6,
    "start_time": "2022-08-04T10:11:56.143Z"
   },
   {
    "duration": 61279,
    "start_time": "2022-08-04T10:12:02.515Z"
   },
   {
    "duration": 4,
    "start_time": "2022-08-04T10:13:08.820Z"
   },
   {
    "duration": 2073,
    "start_time": "2022-08-04T10:13:19.828Z"
   },
   {
    "duration": 3,
    "start_time": "2022-08-04T10:13:24.619Z"
   },
   {
    "duration": 182,
    "start_time": "2022-08-04T10:19:03.718Z"
   },
   {
    "duration": 185,
    "start_time": "2022-08-04T10:19:12.219Z"
   },
   {
    "duration": 33,
    "start_time": "2022-08-04T10:21:14.973Z"
   },
   {
    "duration": 223,
    "start_time": "2022-08-04T10:21:17.579Z"
   },
   {
    "duration": 4,
    "start_time": "2022-08-04T10:22:12.562Z"
   },
   {
    "duration": 98,
    "start_time": "2022-08-04T10:25:50.080Z"
   },
   {
    "duration": 9,
    "start_time": "2022-08-04T10:25:51.923Z"
   },
   {
    "duration": 4,
    "start_time": "2022-08-04T10:26:10.318Z"
   },
   {
    "duration": 1277,
    "start_time": "2022-08-04T10:26:13.829Z"
   },
   {
    "duration": 666,
    "start_time": "2022-08-04T10:26:15.108Z"
   },
   {
    "duration": 211,
    "start_time": "2022-08-04T10:26:15.776Z"
   },
   {
    "duration": 15,
    "start_time": "2022-08-04T10:26:15.989Z"
   },
   {
    "duration": 4,
    "start_time": "2022-08-04T10:26:16.007Z"
   },
   {
    "duration": 10,
    "start_time": "2022-08-04T10:26:16.013Z"
   },
   {
    "duration": 18,
    "start_time": "2022-08-04T10:26:16.025Z"
   },
   {
    "duration": 28,
    "start_time": "2022-08-04T10:26:16.044Z"
   },
   {
    "duration": 52,
    "start_time": "2022-08-04T10:26:16.074Z"
   },
   {
    "duration": 8,
    "start_time": "2022-08-04T10:26:16.129Z"
   },
   {
    "duration": 10,
    "start_time": "2022-08-04T10:26:16.139Z"
   },
   {
    "duration": 68,
    "start_time": "2022-08-04T10:26:16.151Z"
   },
   {
    "duration": 306,
    "start_time": "2022-08-04T10:26:16.221Z"
   },
   {
    "duration": 224,
    "start_time": "2022-08-04T10:26:16.531Z"
   },
   {
    "duration": 230,
    "start_time": "2022-08-04T10:26:16.757Z"
   },
   {
    "duration": 403,
    "start_time": "2022-08-04T10:26:16.989Z"
   },
   {
    "duration": 10,
    "start_time": "2022-08-04T10:26:17.399Z"
   },
   {
    "duration": 636,
    "start_time": "2022-08-04T10:26:17.410Z"
   },
   {
    "duration": 31,
    "start_time": "2022-08-04T10:26:18.047Z"
   },
   {
    "duration": 36,
    "start_time": "2022-08-04T10:26:18.080Z"
   },
   {
    "duration": 6,
    "start_time": "2022-08-04T10:26:18.118Z"
   },
   {
    "duration": 8,
    "start_time": "2022-08-04T10:26:18.126Z"
   },
   {
    "duration": 15,
    "start_time": "2022-08-04T10:26:18.135Z"
   },
   {
    "duration": 67,
    "start_time": "2022-08-04T10:26:18.153Z"
   },
   {
    "duration": 35,
    "start_time": "2022-08-04T10:26:18.222Z"
   },
   {
    "duration": 8,
    "start_time": "2022-08-04T10:26:18.259Z"
   },
   {
    "duration": 33,
    "start_time": "2022-08-04T10:26:18.269Z"
   },
   {
    "duration": 12,
    "start_time": "2022-08-04T10:26:18.304Z"
   },
   {
    "duration": 87,
    "start_time": "2022-08-04T10:26:18.317Z"
   },
   {
    "duration": 97,
    "start_time": "2022-08-04T10:26:18.405Z"
   },
   {
    "duration": 6,
    "start_time": "2022-08-04T10:26:18.504Z"
   },
   {
    "duration": 88,
    "start_time": "2022-08-04T10:26:18.512Z"
   },
   {
    "duration": 9,
    "start_time": "2022-08-04T10:26:18.602Z"
   },
   {
    "duration": 13965,
    "start_time": "2022-08-04T10:26:18.612Z"
   },
   {
    "duration": 4,
    "start_time": "2022-08-04T10:26:32.579Z"
   },
   {
    "duration": 16,
    "start_time": "2022-08-04T10:26:32.584Z"
   },
   {
    "duration": 60123,
    "start_time": "2022-08-04T10:26:32.601Z"
   },
   {
    "duration": 4,
    "start_time": "2022-08-04T10:27:32.725Z"
   },
   {
    "duration": 1876,
    "start_time": "2022-08-04T10:27:32.730Z"
   },
   {
    "duration": 93,
    "start_time": "2022-08-04T10:27:34.608Z"
   },
   {
    "duration": 302,
    "start_time": "2022-08-04T10:27:34.706Z"
   },
   {
    "duration": 191,
    "start_time": "2022-08-04T10:27:35.010Z"
   },
   {
    "duration": 103,
    "start_time": "2022-08-04T10:27:35.203Z"
   },
   {
    "duration": 120,
    "start_time": "2022-08-04T10:27:35.308Z"
   },
   {
    "duration": 0,
    "start_time": "2022-08-04T10:27:35.430Z"
   },
   {
    "duration": 7,
    "start_time": "2022-08-04T10:28:16.242Z"
   },
   {
    "duration": 11,
    "start_time": "2022-08-04T10:28:17.677Z"
   },
   {
    "duration": 8,
    "start_time": "2022-08-04T10:28:22.386Z"
   },
   {
    "duration": 4,
    "start_time": "2022-08-04T10:28:34.343Z"
   },
   {
    "duration": 7,
    "start_time": "2022-08-04T10:29:20.061Z"
   },
   {
    "duration": 8,
    "start_time": "2022-08-04T10:29:21.031Z"
   },
   {
    "duration": 4,
    "start_time": "2022-08-04T10:29:23.554Z"
   },
   {
    "duration": 2129,
    "start_time": "2022-08-04T11:01:37.702Z"
   },
   {
    "duration": 3020,
    "start_time": "2022-08-04T11:01:39.833Z"
   },
   {
    "duration": 217,
    "start_time": "2022-08-04T11:01:42.854Z"
   },
   {
    "duration": 9,
    "start_time": "2022-08-04T11:01:43.073Z"
   },
   {
    "duration": 17,
    "start_time": "2022-08-04T11:01:43.084Z"
   },
   {
    "duration": 6,
    "start_time": "2022-08-04T11:01:43.103Z"
   },
   {
    "duration": 29,
    "start_time": "2022-08-04T11:01:43.111Z"
   },
   {
    "duration": 29,
    "start_time": "2022-08-04T11:01:43.142Z"
   },
   {
    "duration": 40,
    "start_time": "2022-08-04T11:01:43.173Z"
   },
   {
    "duration": 8,
    "start_time": "2022-08-04T11:01:43.216Z"
   },
   {
    "duration": 7,
    "start_time": "2022-08-04T11:01:43.226Z"
   },
   {
    "duration": 43,
    "start_time": "2022-08-04T11:01:43.235Z"
   },
   {
    "duration": 320,
    "start_time": "2022-08-04T11:01:43.280Z"
   },
   {
    "duration": 212,
    "start_time": "2022-08-04T11:01:43.602Z"
   },
   {
    "duration": 271,
    "start_time": "2022-08-04T11:01:43.816Z"
   },
   {
    "duration": 399,
    "start_time": "2022-08-04T11:01:44.089Z"
   },
   {
    "duration": 14,
    "start_time": "2022-08-04T11:01:44.490Z"
   },
   {
    "duration": 661,
    "start_time": "2022-08-04T11:01:44.506Z"
   },
   {
    "duration": 39,
    "start_time": "2022-08-04T11:01:45.169Z"
   },
   {
    "duration": 21,
    "start_time": "2022-08-04T11:01:45.210Z"
   },
   {
    "duration": 5,
    "start_time": "2022-08-04T11:01:45.233Z"
   },
   {
    "duration": 16,
    "start_time": "2022-08-04T11:01:45.240Z"
   },
   {
    "duration": 48,
    "start_time": "2022-08-04T11:01:45.258Z"
   },
   {
    "duration": 40,
    "start_time": "2022-08-04T11:01:45.308Z"
   },
   {
    "duration": 26,
    "start_time": "2022-08-04T11:01:45.350Z"
   },
   {
    "duration": 2,
    "start_time": "2022-08-04T11:01:45.399Z"
   },
   {
    "duration": 11,
    "start_time": "2022-08-04T11:01:45.403Z"
   },
   {
    "duration": 3,
    "start_time": "2022-08-04T11:01:45.417Z"
   },
   {
    "duration": 253,
    "start_time": "2022-08-04T11:01:45.422Z"
   },
   {
    "duration": 0,
    "start_time": "2022-08-04T11:01:45.677Z"
   },
   {
    "duration": 0,
    "start_time": "2022-08-04T11:01:45.678Z"
   },
   {
    "duration": 15,
    "start_time": "2022-08-04T11:03:39.352Z"
   },
   {
    "duration": 21,
    "start_time": "2022-08-04T11:03:41.117Z"
   },
   {
    "duration": 27,
    "start_time": "2022-08-04T11:03:42.732Z"
   },
   {
    "duration": 8,
    "start_time": "2022-08-04T11:03:49.017Z"
   },
   {
    "duration": 3,
    "start_time": "2022-08-04T11:03:51.292Z"
   },
   {
    "duration": 111,
    "start_time": "2022-08-04T11:03:53.100Z"
   },
   {
    "duration": 183,
    "start_time": "2022-08-04T11:04:04.322Z"
   },
   {
    "duration": 118,
    "start_time": "2022-08-04T11:04:07.286Z"
   },
   {
    "duration": 162,
    "start_time": "2022-08-04T11:04:09.754Z"
   },
   {
    "duration": 7,
    "start_time": "2022-08-04T11:04:16.269Z"
   },
   {
    "duration": 6,
    "start_time": "2022-08-04T11:04:18.787Z"
   },
   {
    "duration": 9,
    "start_time": "2022-08-04T11:04:21.946Z"
   },
   {
    "duration": 2017,
    "start_time": "2022-08-04T11:05:41.941Z"
   },
   {
    "duration": 20,
    "start_time": "2022-08-04T11:05:44.149Z"
   },
   {
    "duration": 8,
    "start_time": "2022-08-04T11:05:51.474Z"
   },
   {
    "duration": 93,
    "start_time": "2022-08-04T11:05:56.216Z"
   },
   {
    "duration": 172,
    "start_time": "2022-08-04T11:06:07.029Z"
   },
   {
    "duration": 183,
    "start_time": "2022-08-04T11:06:08.818Z"
   },
   {
    "duration": 9,
    "start_time": "2022-08-04T11:06:09.367Z"
   },
   {
    "duration": 183,
    "start_time": "2022-08-04T11:06:14.918Z"
   },
   {
    "duration": 1908,
    "start_time": "2022-08-04T11:07:56.167Z"
   },
   {
    "duration": 689,
    "start_time": "2022-08-04T11:07:58.077Z"
   },
   {
    "duration": 210,
    "start_time": "2022-08-04T11:07:58.767Z"
   },
   {
    "duration": 8,
    "start_time": "2022-08-04T11:07:58.979Z"
   },
   {
    "duration": 4,
    "start_time": "2022-08-04T11:07:58.999Z"
   },
   {
    "duration": 23,
    "start_time": "2022-08-04T11:07:59.005Z"
   },
   {
    "duration": 22,
    "start_time": "2022-08-04T11:07:59.029Z"
   },
   {
    "duration": 26,
    "start_time": "2022-08-04T11:07:59.052Z"
   },
   {
    "duration": 29,
    "start_time": "2022-08-04T11:07:59.079Z"
   },
   {
    "duration": 8,
    "start_time": "2022-08-04T11:07:59.111Z"
   },
   {
    "duration": 10,
    "start_time": "2022-08-04T11:07:59.120Z"
   },
   {
    "duration": 42,
    "start_time": "2022-08-04T11:07:59.132Z"
   },
   {
    "duration": 306,
    "start_time": "2022-08-04T11:07:59.176Z"
   },
   {
    "duration": 246,
    "start_time": "2022-08-04T11:07:59.484Z"
   },
   {
    "duration": 252,
    "start_time": "2022-08-04T11:07:59.732Z"
   },
   {
    "duration": 418,
    "start_time": "2022-08-04T11:07:59.986Z"
   },
   {
    "duration": 9,
    "start_time": "2022-08-04T11:08:00.406Z"
   },
   {
    "duration": 666,
    "start_time": "2022-08-04T11:08:00.416Z"
   },
   {
    "duration": 36,
    "start_time": "2022-08-04T11:08:01.084Z"
   },
   {
    "duration": 21,
    "start_time": "2022-08-04T11:08:01.122Z"
   },
   {
    "duration": 30,
    "start_time": "2022-08-04T11:08:01.145Z"
   },
   {
    "duration": 28,
    "start_time": "2022-08-04T11:08:01.176Z"
   },
   {
    "duration": 19,
    "start_time": "2022-08-04T11:08:01.205Z"
   },
   {
    "duration": 118,
    "start_time": "2022-08-04T11:08:06.439Z"
   },
   {
    "duration": 21,
    "start_time": "2022-08-04T11:08:59.768Z"
   },
   {
    "duration": 31,
    "start_time": "2022-08-04T11:10:19.769Z"
   },
   {
    "duration": 78,
    "start_time": "2022-08-04T11:10:58.032Z"
   },
   {
    "duration": 102,
    "start_time": "2022-08-04T11:11:09.536Z"
   },
   {
    "duration": 33,
    "start_time": "2022-08-04T11:11:27.932Z"
   },
   {
    "duration": 28,
    "start_time": "2022-08-04T11:12:05.440Z"
   },
   {
    "duration": 4,
    "start_time": "2022-08-04T11:12:55.569Z"
   },
   {
    "duration": 178,
    "start_time": "2022-08-04T11:13:17.689Z"
   },
   {
    "duration": 28,
    "start_time": "2022-08-04T11:13:32.060Z"
   },
   {
    "duration": 9,
    "start_time": "2022-08-04T11:13:46.196Z"
   },
   {
    "duration": 14,
    "start_time": "2022-08-04T11:14:02.770Z"
   },
   {
    "duration": 3,
    "start_time": "2022-08-04T11:14:05.647Z"
   },
   {
    "duration": 22,
    "start_time": "2022-08-04T11:14:09.916Z"
   },
   {
    "duration": 15,
    "start_time": "2022-08-04T11:14:45.816Z"
   },
   {
    "duration": 3,
    "start_time": "2022-08-04T11:15:00.361Z"
   },
   {
    "duration": 1996,
    "start_time": "2022-08-04T11:19:43.773Z"
   },
   {
    "duration": 661,
    "start_time": "2022-08-04T11:19:45.771Z"
   },
   {
    "duration": 211,
    "start_time": "2022-08-04T11:19:46.434Z"
   },
   {
    "duration": 8,
    "start_time": "2022-08-04T11:19:46.647Z"
   },
   {
    "duration": 7,
    "start_time": "2022-08-04T11:19:46.656Z"
   },
   {
    "duration": 13,
    "start_time": "2022-08-04T11:19:46.665Z"
   },
   {
    "duration": 25,
    "start_time": "2022-08-04T11:19:46.679Z"
   },
   {
    "duration": 24,
    "start_time": "2022-08-04T11:19:46.706Z"
   },
   {
    "duration": 24,
    "start_time": "2022-08-04T11:19:46.732Z"
   },
   {
    "duration": 7,
    "start_time": "2022-08-04T11:19:46.759Z"
   },
   {
    "duration": 41,
    "start_time": "2022-08-04T11:19:46.768Z"
   },
   {
    "duration": 47,
    "start_time": "2022-08-04T11:19:46.811Z"
   },
   {
    "duration": 311,
    "start_time": "2022-08-04T11:19:46.860Z"
   },
   {
    "duration": 214,
    "start_time": "2022-08-04T11:19:47.173Z"
   },
   {
    "duration": 233,
    "start_time": "2022-08-04T11:19:47.389Z"
   },
   {
    "duration": 412,
    "start_time": "2022-08-04T11:19:47.624Z"
   },
   {
    "duration": 10,
    "start_time": "2022-08-04T11:19:48.037Z"
   },
   {
    "duration": 687,
    "start_time": "2022-08-04T11:19:48.049Z"
   },
   {
    "duration": 36,
    "start_time": "2022-08-04T11:19:48.739Z"
   },
   {
    "duration": 37,
    "start_time": "2022-08-04T11:19:48.777Z"
   },
   {
    "duration": 4,
    "start_time": "2022-08-04T11:19:48.816Z"
   },
   {
    "duration": 8,
    "start_time": "2022-08-04T11:19:48.822Z"
   },
   {
    "duration": 109,
    "start_time": "2022-08-04T11:19:48.831Z"
   },
   {
    "duration": 0,
    "start_time": "2022-08-04T11:19:48.942Z"
   },
   {
    "duration": 1755,
    "start_time": "2022-08-04T11:21:33.390Z"
   },
   {
    "duration": 688,
    "start_time": "2022-08-04T11:21:35.147Z"
   },
   {
    "duration": 213,
    "start_time": "2022-08-04T11:21:35.836Z"
   },
   {
    "duration": 7,
    "start_time": "2022-08-04T11:21:36.051Z"
   },
   {
    "duration": 11,
    "start_time": "2022-08-04T11:21:36.060Z"
   },
   {
    "duration": 44,
    "start_time": "2022-08-04T11:21:36.073Z"
   },
   {
    "duration": 21,
    "start_time": "2022-08-04T11:21:36.119Z"
   },
   {
    "duration": 26,
    "start_time": "2022-08-04T11:21:36.141Z"
   },
   {
    "duration": 25,
    "start_time": "2022-08-04T11:21:36.168Z"
   },
   {
    "duration": 8,
    "start_time": "2022-08-04T11:21:36.202Z"
   },
   {
    "duration": 20,
    "start_time": "2022-08-04T11:21:36.218Z"
   },
   {
    "duration": 143,
    "start_time": "2022-08-04T11:21:36.239Z"
   },
   {
    "duration": 0,
    "start_time": "2022-08-04T11:21:36.384Z"
   },
   {
    "duration": 0,
    "start_time": "2022-08-04T11:21:36.386Z"
   },
   {
    "duration": 0,
    "start_time": "2022-08-04T11:21:36.388Z"
   },
   {
    "duration": 0,
    "start_time": "2022-08-04T11:21:36.389Z"
   },
   {
    "duration": 0,
    "start_time": "2022-08-04T11:21:36.390Z"
   },
   {
    "duration": 0,
    "start_time": "2022-08-04T11:21:36.400Z"
   },
   {
    "duration": 0,
    "start_time": "2022-08-04T11:21:36.400Z"
   },
   {
    "duration": 0,
    "start_time": "2022-08-04T11:21:36.401Z"
   },
   {
    "duration": 0,
    "start_time": "2022-08-04T11:21:36.402Z"
   },
   {
    "duration": 0,
    "start_time": "2022-08-04T11:21:36.403Z"
   },
   {
    "duration": 0,
    "start_time": "2022-08-04T11:21:36.404Z"
   },
   {
    "duration": 0,
    "start_time": "2022-08-04T11:21:36.404Z"
   },
   {
    "duration": 10,
    "start_time": "2022-08-04T11:22:24.593Z"
   },
   {
    "duration": 607,
    "start_time": "2022-08-04T11:22:28.064Z"
   },
   {
    "duration": 15,
    "start_time": "2022-08-04T11:22:48.459Z"
   },
   {
    "duration": 7,
    "start_time": "2022-08-04T11:22:49.142Z"
   },
   {
    "duration": 13,
    "start_time": "2022-08-04T11:22:49.790Z"
   },
   {
    "duration": 14,
    "start_time": "2022-08-04T11:22:50.520Z"
   },
   {
    "duration": 28,
    "start_time": "2022-08-04T11:23:04.961Z"
   },
   {
    "duration": 100,
    "start_time": "2022-08-04T11:23:27.359Z"
   },
   {
    "duration": 13,
    "start_time": "2022-08-04T11:23:39.368Z"
   },
   {
    "duration": 10,
    "start_time": "2022-08-04T11:23:44.879Z"
   },
   {
    "duration": 3,
    "start_time": "2022-08-04T11:23:47.263Z"
   },
   {
    "duration": 735,
    "start_time": "2022-08-04T11:23:49.721Z"
   },
   {
    "duration": 3,
    "start_time": "2022-08-04T11:23:57.831Z"
   },
   {
    "duration": 3,
    "start_time": "2022-08-04T11:24:07.665Z"
   },
   {
    "duration": 200,
    "start_time": "2022-08-04T11:24:16.599Z"
   },
   {
    "duration": 130,
    "start_time": "2022-08-04T11:24:19.879Z"
   },
   {
    "duration": 3,
    "start_time": "2022-08-04T11:24:22.576Z"
   },
   {
    "duration": 7,
    "start_time": "2022-08-04T11:24:25.727Z"
   },
   {
    "duration": 8,
    "start_time": "2022-08-04T11:24:27.829Z"
   },
   {
    "duration": 12,
    "start_time": "2022-08-04T11:24:31.202Z"
   },
   {
    "duration": 17,
    "start_time": "2022-08-04T11:25:56.671Z"
   },
   {
    "duration": 4,
    "start_time": "2022-08-04T11:26:24.881Z"
   },
   {
    "duration": 734,
    "start_time": "2022-08-04T11:26:24.891Z"
   },
   {
    "duration": 213,
    "start_time": "2022-08-04T11:26:25.627Z"
   },
   {
    "duration": 7,
    "start_time": "2022-08-04T11:26:25.841Z"
   },
   {
    "duration": 6,
    "start_time": "2022-08-04T11:26:25.850Z"
   },
   {
    "duration": 8,
    "start_time": "2022-08-04T11:26:25.857Z"
   },
   {
    "duration": 14,
    "start_time": "2022-08-04T11:26:25.866Z"
   },
   {
    "duration": 24,
    "start_time": "2022-08-04T11:26:25.900Z"
   },
   {
    "duration": 23,
    "start_time": "2022-08-04T11:26:25.926Z"
   },
   {
    "duration": 2,
    "start_time": "2022-08-04T11:26:25.950Z"
   },
   {
    "duration": 9,
    "start_time": "2022-08-04T11:26:25.954Z"
   },
   {
    "duration": 55,
    "start_time": "2022-08-04T11:26:25.964Z"
   },
   {
    "duration": 0,
    "start_time": "2022-08-04T11:26:26.021Z"
   },
   {
    "duration": 0,
    "start_time": "2022-08-04T11:26:26.022Z"
   },
   {
    "duration": 0,
    "start_time": "2022-08-04T11:26:26.023Z"
   },
   {
    "duration": 0,
    "start_time": "2022-08-04T11:26:26.024Z"
   },
   {
    "duration": 0,
    "start_time": "2022-08-04T11:26:26.025Z"
   },
   {
    "duration": 0,
    "start_time": "2022-08-04T11:26:26.026Z"
   },
   {
    "duration": 0,
    "start_time": "2022-08-04T11:26:26.027Z"
   },
   {
    "duration": 0,
    "start_time": "2022-08-04T11:26:26.028Z"
   },
   {
    "duration": 0,
    "start_time": "2022-08-04T11:26:26.029Z"
   },
   {
    "duration": 0,
    "start_time": "2022-08-04T11:26:26.030Z"
   },
   {
    "duration": 0,
    "start_time": "2022-08-04T11:26:26.031Z"
   },
   {
    "duration": 0,
    "start_time": "2022-08-04T11:26:26.032Z"
   },
   {
    "duration": 1,
    "start_time": "2022-08-04T11:26:26.032Z"
   },
   {
    "duration": 4,
    "start_time": "2022-08-04T11:27:00.521Z"
   },
   {
    "duration": 720,
    "start_time": "2022-08-04T11:27:00.531Z"
   },
   {
    "duration": 240,
    "start_time": "2022-08-04T11:27:01.253Z"
   },
   {
    "duration": 15,
    "start_time": "2022-08-04T11:27:01.500Z"
   },
   {
    "duration": 28,
    "start_time": "2022-08-04T11:27:01.519Z"
   },
   {
    "duration": 34,
    "start_time": "2022-08-04T11:27:01.549Z"
   },
   {
    "duration": 53,
    "start_time": "2022-08-04T11:27:01.585Z"
   },
   {
    "duration": 31,
    "start_time": "2022-08-04T11:27:01.640Z"
   },
   {
    "duration": 46,
    "start_time": "2022-08-04T11:27:01.672Z"
   },
   {
    "duration": 24,
    "start_time": "2022-08-04T11:27:01.719Z"
   },
   {
    "duration": 29,
    "start_time": "2022-08-04T11:27:01.745Z"
   },
   {
    "duration": 80,
    "start_time": "2022-08-04T11:27:01.776Z"
   },
   {
    "duration": 282,
    "start_time": "2022-08-04T11:27:01.858Z"
   },
   {
    "duration": 223,
    "start_time": "2022-08-04T11:27:02.142Z"
   },
   {
    "duration": 227,
    "start_time": "2022-08-04T11:27:02.367Z"
   },
   {
    "duration": 320,
    "start_time": "2022-08-04T11:27:02.595Z"
   },
   {
    "duration": 9,
    "start_time": "2022-08-04T11:27:02.917Z"
   },
   {
    "duration": 763,
    "start_time": "2022-08-04T11:27:02.928Z"
   },
   {
    "duration": 41,
    "start_time": "2022-08-04T11:27:03.693Z"
   },
   {
    "duration": 45,
    "start_time": "2022-08-04T11:27:03.735Z"
   },
   {
    "duration": 6,
    "start_time": "2022-08-04T11:27:03.782Z"
   },
   {
    "duration": 9,
    "start_time": "2022-08-04T11:27:03.789Z"
   },
   {
    "duration": 23,
    "start_time": "2022-08-04T11:27:03.799Z"
   },
   {
    "duration": 57,
    "start_time": "2022-08-04T11:27:03.824Z"
   },
   {
    "duration": 29,
    "start_time": "2022-08-04T11:27:03.883Z"
   },
   {
    "duration": 38,
    "start_time": "2022-08-04T11:28:37.782Z"
   },
   {
    "duration": 29,
    "start_time": "2022-08-04T11:28:47.119Z"
   },
   {
    "duration": 9,
    "start_time": "2022-08-04T11:28:51.024Z"
   },
   {
    "duration": 22,
    "start_time": "2022-08-04T11:28:54.095Z"
   },
   {
    "duration": 15,
    "start_time": "2022-08-04T11:30:07.243Z"
   },
   {
    "duration": 1834,
    "start_time": "2022-08-04T11:30:30.086Z"
   },
   {
    "duration": 741,
    "start_time": "2022-08-04T11:30:31.922Z"
   },
   {
    "duration": 230,
    "start_time": "2022-08-04T11:30:32.664Z"
   },
   {
    "duration": 16,
    "start_time": "2022-08-04T11:30:32.899Z"
   },
   {
    "duration": 5,
    "start_time": "2022-08-04T11:30:32.917Z"
   },
   {
    "duration": 9,
    "start_time": "2022-08-04T11:30:32.923Z"
   },
   {
    "duration": 16,
    "start_time": "2022-08-04T11:30:32.933Z"
   },
   {
    "duration": 25,
    "start_time": "2022-08-04T11:30:32.950Z"
   },
   {
    "duration": 52,
    "start_time": "2022-08-04T11:30:32.977Z"
   },
   {
    "duration": 7,
    "start_time": "2022-08-04T11:30:33.031Z"
   },
   {
    "duration": 14,
    "start_time": "2022-08-04T11:30:33.041Z"
   },
   {
    "duration": 62,
    "start_time": "2022-08-04T11:30:33.056Z"
   },
   {
    "duration": 315,
    "start_time": "2022-08-04T11:30:33.120Z"
   },
   {
    "duration": 232,
    "start_time": "2022-08-04T11:30:33.437Z"
   },
   {
    "duration": 257,
    "start_time": "2022-08-04T11:30:33.670Z"
   },
   {
    "duration": 426,
    "start_time": "2022-08-04T11:30:33.929Z"
   },
   {
    "duration": 11,
    "start_time": "2022-08-04T11:30:34.357Z"
   },
   {
    "duration": 757,
    "start_time": "2022-08-04T11:30:34.370Z"
   },
   {
    "duration": 28,
    "start_time": "2022-08-04T11:30:35.129Z"
   },
   {
    "duration": 19,
    "start_time": "2022-08-04T11:30:35.159Z"
   },
   {
    "duration": 22,
    "start_time": "2022-08-04T11:30:35.180Z"
   },
   {
    "duration": 32,
    "start_time": "2022-08-04T11:30:35.214Z"
   },
   {
    "duration": 18,
    "start_time": "2022-08-04T11:30:35.248Z"
   },
   {
    "duration": 40,
    "start_time": "2022-08-04T11:30:40.919Z"
   },
   {
    "duration": 42,
    "start_time": "2022-08-04T11:30:55.936Z"
   },
   {
    "duration": 37,
    "start_time": "2022-08-04T11:31:36.918Z"
   },
   {
    "duration": 1825,
    "start_time": "2022-08-04T11:32:01.089Z"
   },
   {
    "duration": 714,
    "start_time": "2022-08-04T11:32:02.916Z"
   },
   {
    "duration": 213,
    "start_time": "2022-08-04T11:32:03.631Z"
   },
   {
    "duration": 9,
    "start_time": "2022-08-04T11:32:03.846Z"
   },
   {
    "duration": 9,
    "start_time": "2022-08-04T11:32:03.857Z"
   },
   {
    "duration": 27,
    "start_time": "2022-08-04T11:32:03.868Z"
   },
   {
    "duration": 67,
    "start_time": "2022-08-04T11:32:03.897Z"
   },
   {
    "duration": 27,
    "start_time": "2022-08-04T11:32:03.966Z"
   },
   {
    "duration": 26,
    "start_time": "2022-08-04T11:32:03.995Z"
   },
   {
    "duration": 8,
    "start_time": "2022-08-04T11:32:04.023Z"
   },
   {
    "duration": 9,
    "start_time": "2022-08-04T11:32:04.032Z"
   },
   {
    "duration": 44,
    "start_time": "2022-08-04T11:32:04.043Z"
   },
   {
    "duration": 303,
    "start_time": "2022-08-04T11:32:04.088Z"
   },
   {
    "duration": 219,
    "start_time": "2022-08-04T11:32:04.399Z"
   },
   {
    "duration": 227,
    "start_time": "2022-08-04T11:32:04.619Z"
   },
   {
    "duration": 382,
    "start_time": "2022-08-04T11:32:04.847Z"
   },
   {
    "duration": 8,
    "start_time": "2022-08-04T11:32:05.231Z"
   },
   {
    "duration": 694,
    "start_time": "2022-08-04T11:32:05.240Z"
   },
   {
    "duration": 32,
    "start_time": "2022-08-04T11:32:05.936Z"
   },
   {
    "duration": 41,
    "start_time": "2022-08-04T11:32:05.969Z"
   },
   {
    "duration": 7,
    "start_time": "2022-08-04T11:32:06.011Z"
   },
   {
    "duration": 12,
    "start_time": "2022-08-04T11:32:06.019Z"
   },
   {
    "duration": 10,
    "start_time": "2022-08-04T11:32:06.033Z"
   },
   {
    "duration": 38,
    "start_time": "2022-08-04T11:32:06.044Z"
   },
   {
    "duration": 50,
    "start_time": "2022-08-04T11:32:06.084Z"
   },
   {
    "duration": 1865,
    "start_time": "2022-08-04T11:32:49.977Z"
   },
   {
    "duration": 724,
    "start_time": "2022-08-04T11:32:51.845Z"
   },
   {
    "duration": 224,
    "start_time": "2022-08-04T11:32:52.571Z"
   },
   {
    "duration": 46,
    "start_time": "2022-08-04T11:32:52.796Z"
   },
   {
    "duration": 28,
    "start_time": "2022-08-04T11:32:52.844Z"
   },
   {
    "duration": 50,
    "start_time": "2022-08-04T11:32:52.874Z"
   },
   {
    "duration": 29,
    "start_time": "2022-08-04T11:32:52.925Z"
   },
   {
    "duration": 24,
    "start_time": "2022-08-04T11:32:52.955Z"
   },
   {
    "duration": 31,
    "start_time": "2022-08-04T11:32:52.981Z"
   },
   {
    "duration": 14,
    "start_time": "2022-08-04T11:32:53.015Z"
   },
   {
    "duration": 31,
    "start_time": "2022-08-04T11:32:53.030Z"
   },
   {
    "duration": 78,
    "start_time": "2022-08-04T11:32:53.063Z"
   },
   {
    "duration": 296,
    "start_time": "2022-08-04T11:32:53.143Z"
   },
   {
    "duration": 229,
    "start_time": "2022-08-04T11:32:53.441Z"
   },
   {
    "duration": 245,
    "start_time": "2022-08-04T11:32:53.672Z"
   },
   {
    "duration": 421,
    "start_time": "2022-08-04T11:32:53.919Z"
   },
   {
    "duration": 11,
    "start_time": "2022-08-04T11:32:54.342Z"
   },
   {
    "duration": 699,
    "start_time": "2022-08-04T11:32:54.355Z"
   },
   {
    "duration": 31,
    "start_time": "2022-08-04T11:32:55.056Z"
   },
   {
    "duration": 29,
    "start_time": "2022-08-04T11:32:55.099Z"
   },
   {
    "duration": 23,
    "start_time": "2022-08-04T11:32:55.129Z"
   },
   {
    "duration": 22,
    "start_time": "2022-08-04T11:32:55.154Z"
   },
   {
    "duration": 31,
    "start_time": "2022-08-04T11:32:55.178Z"
   },
   {
    "duration": 35,
    "start_time": "2022-08-04T11:33:01.215Z"
   },
   {
    "duration": 26,
    "start_time": "2022-08-04T11:33:09.169Z"
   },
   {
    "duration": 11,
    "start_time": "2022-08-04T11:33:15.448Z"
   },
   {
    "duration": 11,
    "start_time": "2022-08-04T11:33:19.414Z"
   },
   {
    "duration": 3,
    "start_time": "2022-08-04T11:33:22.114Z"
   },
   {
    "duration": 136,
    "start_time": "2022-08-04T11:33:23.977Z"
   },
   {
    "duration": 4,
    "start_time": "2022-08-04T11:33:28.013Z"
   },
   {
    "duration": 3,
    "start_time": "2022-08-04T11:33:32.671Z"
   },
   {
    "duration": 152,
    "start_time": "2022-08-04T11:33:44.955Z"
   },
   {
    "duration": 98,
    "start_time": "2022-08-04T11:33:47.015Z"
   },
   {
    "duration": 4,
    "start_time": "2022-08-04T11:33:49.977Z"
   },
   {
    "duration": 8,
    "start_time": "2022-08-04T11:33:52.288Z"
   },
   {
    "duration": 6,
    "start_time": "2022-08-04T11:33:54.432Z"
   },
   {
    "duration": 3,
    "start_time": "2022-08-04T11:33:56.767Z"
   },
   {
    "duration": 1634,
    "start_time": "2022-08-05T06:56:42.028Z"
   },
   {
    "duration": 2085,
    "start_time": "2022-08-05T06:56:43.664Z"
   },
   {
    "duration": 310,
    "start_time": "2022-08-05T06:56:46.543Z"
   },
   {
    "duration": 9,
    "start_time": "2022-08-05T06:56:46.997Z"
   },
   {
    "duration": 10,
    "start_time": "2022-08-05T06:56:51.493Z"
   },
   {
    "duration": 6,
    "start_time": "2022-08-05T06:56:54.082Z"
   },
   {
    "duration": 13,
    "start_time": "2022-08-05T06:56:55.916Z"
   },
   {
    "duration": 28,
    "start_time": "2022-08-05T06:57:25.110Z"
   },
   {
    "duration": 33,
    "start_time": "2022-08-05T06:57:27.554Z"
   },
   {
    "duration": 8,
    "start_time": "2022-08-05T06:57:44.493Z"
   },
   {
    "duration": 7,
    "start_time": "2022-08-05T06:57:44.981Z"
   },
   {
    "duration": 44,
    "start_time": "2022-08-05T06:57:45.422Z"
   },
   {
    "duration": 394,
    "start_time": "2022-08-05T06:57:46.719Z"
   },
   {
    "duration": 267,
    "start_time": "2022-08-05T06:57:47.642Z"
   },
   {
    "duration": 256,
    "start_time": "2022-08-05T06:57:48.801Z"
   },
   {
    "duration": 438,
    "start_time": "2022-08-05T06:57:52.445Z"
   },
   {
    "duration": 390,
    "start_time": "2022-08-05T06:58:41.220Z"
   },
   {
    "duration": 367,
    "start_time": "2022-08-05T06:58:53.364Z"
   },
   {
    "duration": 374,
    "start_time": "2022-08-05T06:59:02.557Z"
   },
   {
    "duration": 10,
    "start_time": "2022-08-05T06:59:31.696Z"
   },
   {
    "duration": 865,
    "start_time": "2022-08-05T06:59:34.846Z"
   },
   {
    "duration": 32,
    "start_time": "2022-08-05T06:59:36.087Z"
   },
   {
    "duration": 20,
    "start_time": "2022-08-05T06:59:37.600Z"
   },
   {
    "duration": 7,
    "start_time": "2022-08-05T06:59:40.084Z"
   },
   {
    "duration": 6,
    "start_time": "2022-08-05T06:59:40.700Z"
   },
   {
    "duration": 19,
    "start_time": "2022-08-05T06:59:41.068Z"
   },
   {
    "duration": 50,
    "start_time": "2022-08-05T06:59:41.650Z"
   },
   {
    "duration": 34,
    "start_time": "2022-08-05T06:59:42.201Z"
   },
   {
    "duration": 23,
    "start_time": "2022-08-05T07:00:15.563Z"
   },
   {
    "duration": 133,
    "start_time": "2022-08-05T07:02:32.948Z"
   },
   {
    "duration": 16,
    "start_time": "2022-08-05T07:03:02.138Z"
   },
   {
    "duration": 17,
    "start_time": "2022-08-05T07:03:07.145Z"
   },
   {
    "duration": 9,
    "start_time": "2022-08-05T07:04:22.819Z"
   },
   {
    "duration": 9,
    "start_time": "2022-08-05T07:04:29.200Z"
   },
   {
    "duration": 24,
    "start_time": "2022-08-05T07:04:42.963Z"
   },
   {
    "duration": 11,
    "start_time": "2022-08-05T07:06:57.147Z"
   },
   {
    "duration": 5,
    "start_time": "2022-08-05T07:08:12.815Z"
   },
   {
    "duration": 4,
    "start_time": "2022-08-05T07:08:22.348Z"
   },
   {
    "duration": 741,
    "start_time": "2022-08-05T07:08:22.519Z"
   },
   {
    "duration": 251,
    "start_time": "2022-08-05T07:08:24.937Z"
   },
   {
    "duration": 7,
    "start_time": "2022-08-05T07:08:25.190Z"
   },
   {
    "duration": 4,
    "start_time": "2022-08-05T07:08:26.449Z"
   },
   {
    "duration": 6,
    "start_time": "2022-08-05T07:08:27.693Z"
   },
   {
    "duration": 14,
    "start_time": "2022-08-05T07:08:30.121Z"
   },
   {
    "duration": 24,
    "start_time": "2022-08-05T07:08:31.456Z"
   },
   {
    "duration": 31,
    "start_time": "2022-08-05T07:08:33.264Z"
   },
   {
    "duration": 8,
    "start_time": "2022-08-05T07:08:35.744Z"
   },
   {
    "duration": 6,
    "start_time": "2022-08-05T07:08:36.992Z"
   },
   {
    "duration": 40,
    "start_time": "2022-08-05T07:08:37.820Z"
   },
   {
    "duration": 261,
    "start_time": "2022-08-05T07:08:38.164Z"
   },
   {
    "duration": 247,
    "start_time": "2022-08-05T07:08:38.601Z"
   },
   {
    "duration": 231,
    "start_time": "2022-08-05T07:08:38.978Z"
   },
   {
    "duration": 338,
    "start_time": "2022-08-05T07:08:40.552Z"
   },
   {
    "duration": 11,
    "start_time": "2022-08-05T07:08:43.925Z"
   },
   {
    "duration": 887,
    "start_time": "2022-08-05T07:08:46.592Z"
   },
   {
    "duration": 37,
    "start_time": "2022-08-05T07:08:47.482Z"
   },
   {
    "duration": 24,
    "start_time": "2022-08-05T07:08:47.521Z"
   },
   {
    "duration": 6,
    "start_time": "2022-08-05T07:08:49.933Z"
   },
   {
    "duration": 8,
    "start_time": "2022-08-05T07:08:50.175Z"
   },
   {
    "duration": 8,
    "start_time": "2022-08-05T07:08:50.482Z"
   },
   {
    "duration": 30,
    "start_time": "2022-08-05T07:08:50.718Z"
   },
   {
    "duration": 38,
    "start_time": "2022-08-05T07:09:04.041Z"
   },
   {
    "duration": 5,
    "start_time": "2022-08-05T07:09:16.378Z"
   },
   {
    "duration": 14,
    "start_time": "2022-08-05T07:09:44.681Z"
   },
   {
    "duration": 3,
    "start_time": "2022-08-05T07:09:49.108Z"
   },
   {
    "duration": 706,
    "start_time": "2022-08-05T07:09:49.232Z"
   },
   {
    "duration": 247,
    "start_time": "2022-08-05T07:09:51.253Z"
   },
   {
    "duration": 8,
    "start_time": "2022-08-05T07:09:51.502Z"
   },
   {
    "duration": 5,
    "start_time": "2022-08-05T07:09:52.263Z"
   },
   {
    "duration": 7,
    "start_time": "2022-08-05T07:09:53.113Z"
   },
   {
    "duration": 17,
    "start_time": "2022-08-05T07:09:54.033Z"
   },
   {
    "duration": 21,
    "start_time": "2022-08-05T07:09:54.981Z"
   },
   {
    "duration": 26,
    "start_time": "2022-08-05T07:09:55.313Z"
   },
   {
    "duration": 15,
    "start_time": "2022-08-05T07:09:56.363Z"
   },
   {
    "duration": 9,
    "start_time": "2022-08-05T07:09:56.583Z"
   },
   {
    "duration": 53,
    "start_time": "2022-08-05T07:09:56.786Z"
   },
   {
    "duration": 255,
    "start_time": "2022-08-05T07:09:57.142Z"
   },
   {
    "duration": 259,
    "start_time": "2022-08-05T07:09:57.733Z"
   },
   {
    "duration": 267,
    "start_time": "2022-08-05T07:09:58.057Z"
   },
   {
    "duration": 366,
    "start_time": "2022-08-05T07:09:58.990Z"
   },
   {
    "duration": 10,
    "start_time": "2022-08-05T07:10:00.786Z"
   },
   {
    "duration": 960,
    "start_time": "2022-08-05T07:10:01.682Z"
   },
   {
    "duration": 38,
    "start_time": "2022-08-05T07:10:02.645Z"
   },
   {
    "duration": 17,
    "start_time": "2022-08-05T07:10:02.685Z"
   },
   {
    "duration": 6,
    "start_time": "2022-08-05T07:10:04.099Z"
   },
   {
    "duration": 6,
    "start_time": "2022-08-05T07:10:04.285Z"
   },
   {
    "duration": 11,
    "start_time": "2022-08-05T07:10:04.508Z"
   },
   {
    "duration": 11,
    "start_time": "2022-08-05T07:10:04.709Z"
   },
   {
    "duration": 27,
    "start_time": "2022-08-05T07:10:05.058Z"
   },
   {
    "duration": 4,
    "start_time": "2022-08-05T07:10:14.717Z"
   },
   {
    "duration": 771,
    "start_time": "2022-08-05T07:10:14.894Z"
   },
   {
    "duration": 323,
    "start_time": "2022-08-05T07:10:16.686Z"
   },
   {
    "duration": 8,
    "start_time": "2022-08-05T07:10:17.011Z"
   },
   {
    "duration": 7,
    "start_time": "2022-08-05T07:10:17.778Z"
   },
   {
    "duration": 6,
    "start_time": "2022-08-05T07:10:18.689Z"
   },
   {
    "duration": 16,
    "start_time": "2022-08-05T07:10:19.714Z"
   },
   {
    "duration": 23,
    "start_time": "2022-08-05T07:10:20.727Z"
   },
   {
    "duration": 27,
    "start_time": "2022-08-05T07:10:21.094Z"
   },
   {
    "duration": 8,
    "start_time": "2022-08-05T07:10:22.749Z"
   },
   {
    "duration": 7,
    "start_time": "2022-08-05T07:10:23.089Z"
   },
   {
    "duration": 51,
    "start_time": "2022-08-05T07:10:23.361Z"
   },
   {
    "duration": 271,
    "start_time": "2022-08-05T07:10:24.018Z"
   },
   {
    "duration": 283,
    "start_time": "2022-08-05T07:10:24.377Z"
   },
   {
    "duration": 287,
    "start_time": "2022-08-05T07:10:24.865Z"
   },
   {
    "duration": 454,
    "start_time": "2022-08-05T07:10:26.379Z"
   },
   {
    "duration": 10,
    "start_time": "2022-08-05T07:10:28.823Z"
   },
   {
    "duration": 795,
    "start_time": "2022-08-05T07:10:30.188Z"
   },
   {
    "duration": 33,
    "start_time": "2022-08-05T07:10:30.985Z"
   },
   {
    "duration": 20,
    "start_time": "2022-08-05T07:10:32.077Z"
   },
   {
    "duration": 7,
    "start_time": "2022-08-05T07:10:34.817Z"
   },
   {
    "duration": 5,
    "start_time": "2022-08-05T07:10:35.329Z"
   },
   {
    "duration": 10,
    "start_time": "2022-08-05T07:10:36.792Z"
   },
   {
    "duration": 10,
    "start_time": "2022-08-05T07:10:37.641Z"
   },
   {
    "duration": 11,
    "start_time": "2022-08-05T07:10:45.768Z"
   },
   {
    "duration": 10,
    "start_time": "2022-08-05T07:10:58.966Z"
   },
   {
    "duration": 28,
    "start_time": "2022-08-05T07:11:03.166Z"
   },
   {
    "duration": 5,
    "start_time": "2022-08-05T07:11:03.682Z"
   },
   {
    "duration": 41,
    "start_time": "2022-08-05T07:11:23.553Z"
   },
   {
    "duration": 23,
    "start_time": "2022-08-05T07:12:03.581Z"
   },
   {
    "duration": 9,
    "start_time": "2022-08-05T07:12:23.792Z"
   },
   {
    "duration": 11,
    "start_time": "2022-08-05T07:12:31.804Z"
   },
   {
    "duration": 43,
    "start_time": "2022-08-05T07:12:38.082Z"
   },
   {
    "duration": 29,
    "start_time": "2022-08-05T07:12:46.392Z"
   },
   {
    "duration": 3,
    "start_time": "2022-08-05T07:13:20.653Z"
   },
   {
    "duration": 13,
    "start_time": "2022-08-05T07:13:21.684Z"
   },
   {
    "duration": 8,
    "start_time": "2022-08-05T07:13:32.801Z"
   },
   {
    "duration": 3,
    "start_time": "2022-08-05T07:13:33.923Z"
   },
   {
    "duration": 164,
    "start_time": "2022-08-05T07:13:35.019Z"
   },
   {
    "duration": 23,
    "start_time": "2022-08-05T07:13:58.090Z"
   },
   {
    "duration": 13,
    "start_time": "2022-08-05T07:14:04.737Z"
   },
   {
    "duration": 13,
    "start_time": "2022-08-05T07:14:12.155Z"
   },
   {
    "duration": 3,
    "start_time": "2022-08-05T07:14:21.264Z"
   },
   {
    "duration": 818,
    "start_time": "2022-08-05T07:14:21.423Z"
   },
   {
    "duration": 251,
    "start_time": "2022-08-05T07:14:23.207Z"
   },
   {
    "duration": 13,
    "start_time": "2022-08-05T07:14:23.461Z"
   },
   {
    "duration": 5,
    "start_time": "2022-08-05T07:14:24.199Z"
   },
   {
    "duration": 6,
    "start_time": "2022-08-05T07:14:25.035Z"
   },
   {
    "duration": 13,
    "start_time": "2022-08-05T07:14:25.929Z"
   },
   {
    "duration": 30,
    "start_time": "2022-08-05T07:14:26.746Z"
   },
   {
    "duration": 26,
    "start_time": "2022-08-05T07:14:27.083Z"
   },
   {
    "duration": 9,
    "start_time": "2022-08-05T07:14:28.888Z"
   },
   {
    "duration": 8,
    "start_time": "2022-08-05T07:14:29.082Z"
   },
   {
    "duration": 52,
    "start_time": "2022-08-05T07:14:29.368Z"
   },
   {
    "duration": 247,
    "start_time": "2022-08-05T07:14:30.421Z"
   },
   {
    "duration": 263,
    "start_time": "2022-08-05T07:14:31.012Z"
   },
   {
    "duration": 266,
    "start_time": "2022-08-05T07:14:31.852Z"
   },
   {
    "duration": 348,
    "start_time": "2022-08-05T07:14:33.431Z"
   },
   {
    "duration": 10,
    "start_time": "2022-08-05T07:14:35.812Z"
   },
   {
    "duration": 895,
    "start_time": "2022-08-05T07:14:37.124Z"
   },
   {
    "duration": 57,
    "start_time": "2022-08-05T07:14:38.021Z"
   },
   {
    "duration": 23,
    "start_time": "2022-08-05T07:14:38.255Z"
   },
   {
    "duration": 6,
    "start_time": "2022-08-05T07:14:40.292Z"
   },
   {
    "duration": 6,
    "start_time": "2022-08-05T07:14:40.627Z"
   },
   {
    "duration": 8,
    "start_time": "2022-08-05T07:14:40.989Z"
   },
   {
    "duration": 12,
    "start_time": "2022-08-05T07:14:41.443Z"
   },
   {
    "duration": 21,
    "start_time": "2022-08-05T07:14:41.978Z"
   },
   {
    "duration": 142,
    "start_time": "2022-08-05T07:14:44.032Z"
   },
   {
    "duration": 11,
    "start_time": "2022-08-05T07:14:46.963Z"
   },
   {
    "duration": 8,
    "start_time": "2022-08-05T07:14:59.479Z"
   },
   {
    "duration": 7,
    "start_time": "2022-08-05T07:15:01.168Z"
   },
   {
    "duration": 27,
    "start_time": "2022-08-05T07:15:02.645Z"
   },
   {
    "duration": 26,
    "start_time": "2022-08-05T07:16:29.939Z"
   },
   {
    "duration": 3,
    "start_time": "2022-08-05T07:18:04.815Z"
   },
   {
    "duration": 737,
    "start_time": "2022-08-05T07:18:04.989Z"
   },
   {
    "duration": 220,
    "start_time": "2022-08-05T07:18:07.011Z"
   },
   {
    "duration": 7,
    "start_time": "2022-08-05T07:18:07.234Z"
   },
   {
    "duration": 4,
    "start_time": "2022-08-05T07:18:08.017Z"
   },
   {
    "duration": 5,
    "start_time": "2022-08-05T07:18:09.094Z"
   },
   {
    "duration": 14,
    "start_time": "2022-08-05T07:18:09.989Z"
   },
   {
    "duration": 19,
    "start_time": "2022-08-05T07:18:10.967Z"
   },
   {
    "duration": 27,
    "start_time": "2022-08-05T07:18:11.302Z"
   },
   {
    "duration": 8,
    "start_time": "2022-08-05T07:18:12.514Z"
   },
   {
    "duration": 7,
    "start_time": "2022-08-05T07:18:12.728Z"
   },
   {
    "duration": 42,
    "start_time": "2022-08-05T07:18:12.833Z"
   },
   {
    "duration": 238,
    "start_time": "2022-08-05T07:18:13.154Z"
   },
   {
    "duration": 245,
    "start_time": "2022-08-05T07:18:13.517Z"
   },
   {
    "duration": 238,
    "start_time": "2022-08-05T07:18:13.881Z"
   },
   {
    "duration": 352,
    "start_time": "2022-08-05T07:18:14.830Z"
   },
   {
    "duration": 11,
    "start_time": "2022-08-05T07:18:17.399Z"
   },
   {
    "duration": 735,
    "start_time": "2022-08-05T07:18:18.786Z"
   },
   {
    "duration": 45,
    "start_time": "2022-08-05T07:18:19.523Z"
   },
   {
    "duration": 18,
    "start_time": "2022-08-05T07:18:19.971Z"
   },
   {
    "duration": 6,
    "start_time": "2022-08-05T07:18:22.526Z"
   },
   {
    "duration": 6,
    "start_time": "2022-08-05T07:18:23.055Z"
   },
   {
    "duration": 9,
    "start_time": "2022-08-05T07:18:23.915Z"
   },
   {
    "duration": 11,
    "start_time": "2022-08-05T07:18:24.722Z"
   },
   {
    "duration": 21,
    "start_time": "2022-08-05T07:18:28.431Z"
   },
   {
    "duration": 15,
    "start_time": "2022-08-05T07:18:30.731Z"
   },
   {
    "duration": 15,
    "start_time": "2022-08-05T07:18:39.445Z"
   },
   {
    "duration": 10,
    "start_time": "2022-08-05T07:18:44.398Z"
   },
   {
    "duration": 7,
    "start_time": "2022-08-05T07:18:47.359Z"
   },
   {
    "duration": 4,
    "start_time": "2022-08-05T07:18:49.228Z"
   },
   {
    "duration": 27,
    "start_time": "2022-08-05T07:18:51.148Z"
   },
   {
    "duration": 24,
    "start_time": "2022-08-05T07:18:53.554Z"
   },
   {
    "duration": 84,
    "start_time": "2022-08-05T07:19:57.665Z"
   },
   {
    "duration": 15,
    "start_time": "2022-08-05T07:20:04.441Z"
   },
   {
    "duration": 4,
    "start_time": "2022-08-05T07:20:08.714Z"
   },
   {
    "duration": 683,
    "start_time": "2022-08-05T07:20:08.885Z"
   },
   {
    "duration": 235,
    "start_time": "2022-08-05T07:20:10.658Z"
   },
   {
    "duration": 8,
    "start_time": "2022-08-05T07:20:10.895Z"
   },
   {
    "duration": 4,
    "start_time": "2022-08-05T07:20:11.608Z"
   },
   {
    "duration": 6,
    "start_time": "2022-08-05T07:20:12.455Z"
   },
   {
    "duration": 14,
    "start_time": "2022-08-05T07:20:13.375Z"
   },
   {
    "duration": 21,
    "start_time": "2022-08-05T07:20:14.230Z"
   },
   {
    "duration": 27,
    "start_time": "2022-08-05T07:20:14.573Z"
   },
   {
    "duration": 9,
    "start_time": "2022-08-05T07:20:15.645Z"
   },
   {
    "duration": 7,
    "start_time": "2022-08-05T07:20:15.821Z"
   },
   {
    "duration": 46,
    "start_time": "2022-08-05T07:20:15.996Z"
   },
   {
    "duration": 470,
    "start_time": "2022-08-05T07:20:16.414Z"
   },
   {
    "duration": 249,
    "start_time": "2022-08-05T07:20:16.925Z"
   },
   {
    "duration": 256,
    "start_time": "2022-08-05T07:20:17.338Z"
   },
   {
    "duration": 360,
    "start_time": "2022-08-05T07:20:18.760Z"
   },
   {
    "duration": 10,
    "start_time": "2022-08-05T07:20:21.220Z"
   },
   {
    "duration": 767,
    "start_time": "2022-08-05T07:20:22.381Z"
   },
   {
    "duration": 39,
    "start_time": "2022-08-05T07:20:23.151Z"
   },
   {
    "duration": 22,
    "start_time": "2022-08-05T07:20:23.192Z"
   },
   {
    "duration": 7,
    "start_time": "2022-08-05T07:20:24.687Z"
   },
   {
    "duration": 6,
    "start_time": "2022-08-05T07:20:24.960Z"
   },
   {
    "duration": 9,
    "start_time": "2022-08-05T07:20:25.184Z"
   },
   {
    "duration": 11,
    "start_time": "2022-08-05T07:20:25.393Z"
   },
   {
    "duration": 20,
    "start_time": "2022-08-05T07:20:25.566Z"
   },
   {
    "duration": 15,
    "start_time": "2022-08-05T07:20:26.120Z"
   },
   {
    "duration": 11,
    "start_time": "2022-08-05T07:20:27.669Z"
   },
   {
    "duration": 8,
    "start_time": "2022-08-05T07:20:29.997Z"
   },
   {
    "duration": 3,
    "start_time": "2022-08-05T07:20:30.917Z"
   },
   {
    "duration": 28,
    "start_time": "2022-08-05T07:20:32.006Z"
   },
   {
    "duration": 214,
    "start_time": "2022-08-05T07:20:32.553Z"
   },
   {
    "duration": 2,
    "start_time": "2022-08-05T07:20:38.628Z"
   },
   {
    "duration": 3,
    "start_time": "2022-08-05T07:20:42.668Z"
   },
   {
    "duration": 3,
    "start_time": "2022-08-05T07:20:44.771Z"
   },
   {
    "duration": 3,
    "start_time": "2022-08-05T07:20:46.177Z"
   },
   {
    "duration": 24588,
    "start_time": "2022-08-05T07:20:48.204Z"
   },
   {
    "duration": 4,
    "start_time": "2022-08-05T07:21:42.872Z"
   },
   {
    "duration": 4,
    "start_time": "2022-08-05T07:21:49.302Z"
   },
   {
    "duration": 108467,
    "start_time": "2022-08-05T07:21:51.794Z"
   },
   {
    "duration": 7,
    "start_time": "2022-08-05T07:24:00.469Z"
   },
   {
    "duration": 2114,
    "start_time": "2022-08-05T07:24:04.163Z"
   },
   {
    "duration": 4,
    "start_time": "2022-08-05T07:24:07.726Z"
   },
   {
    "duration": 218,
    "start_time": "2022-08-05T07:24:16.051Z"
   },
   {
    "duration": 166,
    "start_time": "2022-08-05T07:24:17.008Z"
   },
   {
    "duration": 4,
    "start_time": "2022-08-05T07:24:19.445Z"
   },
   {
    "duration": 8,
    "start_time": "2022-08-05T07:24:38.423Z"
   },
   {
    "duration": 4,
    "start_time": "2022-08-05T07:24:41.189Z"
   },
   {
    "duration": 3227,
    "start_time": "2022-08-05T08:41:28.547Z"
   },
   {
    "duration": 844,
    "start_time": "2022-08-05T08:41:31.775Z"
   },
   {
    "duration": 219,
    "start_time": "2022-08-05T08:41:32.621Z"
   },
   {
    "duration": 8,
    "start_time": "2022-08-05T08:41:32.842Z"
   },
   {
    "duration": 4,
    "start_time": "2022-08-05T08:41:32.852Z"
   },
   {
    "duration": 14,
    "start_time": "2022-08-05T08:41:32.857Z"
   },
   {
    "duration": 43,
    "start_time": "2022-08-05T08:41:32.873Z"
   },
   {
    "duration": 25,
    "start_time": "2022-08-05T08:41:32.918Z"
   },
   {
    "duration": 23,
    "start_time": "2022-08-05T08:41:32.945Z"
   },
   {
    "duration": 7,
    "start_time": "2022-08-05T08:41:32.970Z"
   },
   {
    "duration": 24,
    "start_time": "2022-08-05T08:41:32.978Z"
   },
   {
    "duration": 56,
    "start_time": "2022-08-05T08:41:33.004Z"
   },
   {
    "duration": 362,
    "start_time": "2022-08-05T08:41:33.061Z"
   },
   {
    "duration": 274,
    "start_time": "2022-08-05T08:41:33.425Z"
   },
   {
    "duration": 273,
    "start_time": "2022-08-05T08:41:33.702Z"
   },
   {
    "duration": 460,
    "start_time": "2022-08-05T08:41:33.978Z"
   },
   {
    "duration": 9,
    "start_time": "2022-08-05T08:41:34.439Z"
   },
   {
    "duration": 736,
    "start_time": "2022-08-05T08:41:34.450Z"
   },
   {
    "duration": 39,
    "start_time": "2022-08-05T08:41:35.188Z"
   },
   {
    "duration": 19,
    "start_time": "2022-08-05T08:41:35.229Z"
   },
   {
    "duration": 6,
    "start_time": "2022-08-05T08:41:35.250Z"
   },
   {
    "duration": 8,
    "start_time": "2022-08-05T08:41:35.257Z"
   },
   {
    "duration": 30,
    "start_time": "2022-08-05T08:41:35.266Z"
   },
   {
    "duration": 32,
    "start_time": "2022-08-05T08:41:35.298Z"
   },
   {
    "duration": 27,
    "start_time": "2022-08-05T08:41:35.332Z"
   },
   {
    "duration": 26,
    "start_time": "2022-08-05T08:42:17.911Z"
   },
   {
    "duration": 24,
    "start_time": "2022-08-05T08:42:21.051Z"
   }
  ],
  "kernelspec": {
   "display_name": "Python 3 (ipykernel)",
   "language": "python",
   "name": "python3"
  },
  "language_info": {
   "codemirror_mode": {
    "name": "ipython",
    "version": 3
   },
   "file_extension": ".py",
   "mimetype": "text/x-python",
   "name": "python",
   "nbconvert_exporter": "python",
   "pygments_lexer": "ipython3",
   "version": "3.9.7"
  },
  "toc": {
   "base_numbering": 1,
   "nav_menu": {},
   "number_sections": true,
   "sideBar": true,
   "skip_h1_title": true,
   "title_cell": "Содержание",
   "title_sidebar": "Contents",
   "toc_cell": true,
   "toc_position": {
    "height": "calc(100% - 180px)",
    "left": "10px",
    "top": "150px",
    "width": "165px"
   },
   "toc_section_display": true,
   "toc_window_display": true
  }
 },
 "nbformat": 4,
 "nbformat_minor": 2
}
