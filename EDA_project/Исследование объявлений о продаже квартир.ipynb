{
 "cells": [
  {
   "cell_type": "markdown",
   "metadata": {},
   "source": [
    "# Исследование объявлений о продаже квартир\n",
    "\n",
    "Необходимо определить рыночную стоимость объектов недвижимости. В нашем распоряжении данные сервиса Яндекс.Недвижимость — архив объявлений о продаже квартир в Санкт-Петербурге и соседних населённых пунктах за несколько лет. Задача - установить параметры чтобы потом построить автоматизированную систему, которая будет отслеживать аномалии и мошенническую деятельность.\n",
    "\n",
    "По каждой квартире на продажу доступны два вида данных. Первые вписаны пользователем, вторые получены автоматически на основе картографических данных. Например, расстояние до центра, аэропорта, ближайшего парка и водоёма. "
   ]
  },
  {
   "cell_type": "markdown",
   "metadata": {},
   "source": [
    "## Изучение данных из файла"
   ]
  },
  {
   "cell_type": "code",
   "execution_count": 39,
   "metadata": {},
   "outputs": [
    {
     "name": "stdout",
     "output_type": "stream",
     "text": [
      "<class 'pandas.core.frame.DataFrame'>\n",
      "RangeIndex: 23699 entries, 0 to 23698\n",
      "Data columns (total 22 columns):\n",
      " #   Column                Non-Null Count  Dtype  \n",
      "---  ------                --------------  -----  \n",
      " 0   total_images          23699 non-null  int64  \n",
      " 1   last_price            23699 non-null  float64\n",
      " 2   total_area            23699 non-null  float64\n",
      " 3   first_day_exposition  23699 non-null  object \n",
      " 4   rooms                 23699 non-null  int64  \n",
      " 5   ceiling_height        14504 non-null  float64\n",
      " 6   floors_total          23613 non-null  float64\n",
      " 7   living_area           21796 non-null  float64\n",
      " 8   floor                 23699 non-null  int64  \n",
      " 9   is_apartment          2775 non-null   object \n",
      " 10  studio                23699 non-null  bool   \n",
      " 11  open_plan             23699 non-null  bool   \n",
      " 12  kitchen_area          21421 non-null  float64\n",
      " 13  balcony               12180 non-null  float64\n",
      " 14  locality_name         23650 non-null  object \n",
      " 15  airports_nearest      18157 non-null  float64\n",
      " 16  cityCenters_nearest   18180 non-null  float64\n",
      " 17  parks_around3000      18181 non-null  float64\n",
      " 18  parks_nearest         8079 non-null   float64\n",
      " 19  ponds_around3000      18181 non-null  float64\n",
      " 20  ponds_nearest         9110 non-null   float64\n",
      " 21  days_exposition       20518 non-null  float64\n",
      "dtypes: bool(2), float64(14), int64(3), object(3)\n",
      "memory usage: 3.7+ MB\n"
     ]
    },
    {
     "data": {
      "text/html": [
       "<div>\n",
       "<style scoped>\n",
       "    .dataframe tbody tr th:only-of-type {\n",
       "        vertical-align: middle;\n",
       "    }\n",
       "\n",
       "    .dataframe tbody tr th {\n",
       "        vertical-align: top;\n",
       "    }\n",
       "\n",
       "    .dataframe thead th {\n",
       "        text-align: right;\n",
       "    }\n",
       "</style>\n",
       "<table border=\"1\" class=\"dataframe\">\n",
       "  <thead>\n",
       "    <tr style=\"text-align: right;\">\n",
       "      <th></th>\n",
       "      <th>total_images</th>\n",
       "      <th>last_price</th>\n",
       "      <th>total_area</th>\n",
       "      <th>first_day_exposition</th>\n",
       "      <th>rooms</th>\n",
       "      <th>ceiling_height</th>\n",
       "      <th>floors_total</th>\n",
       "      <th>living_area</th>\n",
       "      <th>floor</th>\n",
       "      <th>is_apartment</th>\n",
       "      <th>...</th>\n",
       "      <th>kitchen_area</th>\n",
       "      <th>balcony</th>\n",
       "      <th>locality_name</th>\n",
       "      <th>airports_nearest</th>\n",
       "      <th>cityCenters_nearest</th>\n",
       "      <th>parks_around3000</th>\n",
       "      <th>parks_nearest</th>\n",
       "      <th>ponds_around3000</th>\n",
       "      <th>ponds_nearest</th>\n",
       "      <th>days_exposition</th>\n",
       "    </tr>\n",
       "  </thead>\n",
       "  <tbody>\n",
       "    <tr>\n",
       "      <th>0</th>\n",
       "      <td>20</td>\n",
       "      <td>13000000.0</td>\n",
       "      <td>108.0</td>\n",
       "      <td>2019-03-07T00:00:00</td>\n",
       "      <td>3</td>\n",
       "      <td>2.70</td>\n",
       "      <td>16.0</td>\n",
       "      <td>51.0</td>\n",
       "      <td>8</td>\n",
       "      <td>NaN</td>\n",
       "      <td>...</td>\n",
       "      <td>25.0</td>\n",
       "      <td>NaN</td>\n",
       "      <td>Санкт-Петербург</td>\n",
       "      <td>18863.0</td>\n",
       "      <td>16028.0</td>\n",
       "      <td>1.0</td>\n",
       "      <td>482.0</td>\n",
       "      <td>2.0</td>\n",
       "      <td>755.0</td>\n",
       "      <td>NaN</td>\n",
       "    </tr>\n",
       "    <tr>\n",
       "      <th>1</th>\n",
       "      <td>7</td>\n",
       "      <td>3350000.0</td>\n",
       "      <td>40.4</td>\n",
       "      <td>2018-12-04T00:00:00</td>\n",
       "      <td>1</td>\n",
       "      <td>NaN</td>\n",
       "      <td>11.0</td>\n",
       "      <td>18.6</td>\n",
       "      <td>1</td>\n",
       "      <td>NaN</td>\n",
       "      <td>...</td>\n",
       "      <td>11.0</td>\n",
       "      <td>2.0</td>\n",
       "      <td>посёлок Шушары</td>\n",
       "      <td>12817.0</td>\n",
       "      <td>18603.0</td>\n",
       "      <td>0.0</td>\n",
       "      <td>NaN</td>\n",
       "      <td>0.0</td>\n",
       "      <td>NaN</td>\n",
       "      <td>81.0</td>\n",
       "    </tr>\n",
       "    <tr>\n",
       "      <th>2</th>\n",
       "      <td>10</td>\n",
       "      <td>5196000.0</td>\n",
       "      <td>56.0</td>\n",
       "      <td>2015-08-20T00:00:00</td>\n",
       "      <td>2</td>\n",
       "      <td>NaN</td>\n",
       "      <td>5.0</td>\n",
       "      <td>34.3</td>\n",
       "      <td>4</td>\n",
       "      <td>NaN</td>\n",
       "      <td>...</td>\n",
       "      <td>8.3</td>\n",
       "      <td>0.0</td>\n",
       "      <td>Санкт-Петербург</td>\n",
       "      <td>21741.0</td>\n",
       "      <td>13933.0</td>\n",
       "      <td>1.0</td>\n",
       "      <td>90.0</td>\n",
       "      <td>2.0</td>\n",
       "      <td>574.0</td>\n",
       "      <td>558.0</td>\n",
       "    </tr>\n",
       "    <tr>\n",
       "      <th>3</th>\n",
       "      <td>0</td>\n",
       "      <td>64900000.0</td>\n",
       "      <td>159.0</td>\n",
       "      <td>2015-07-24T00:00:00</td>\n",
       "      <td>3</td>\n",
       "      <td>NaN</td>\n",
       "      <td>14.0</td>\n",
       "      <td>NaN</td>\n",
       "      <td>9</td>\n",
       "      <td>NaN</td>\n",
       "      <td>...</td>\n",
       "      <td>NaN</td>\n",
       "      <td>0.0</td>\n",
       "      <td>Санкт-Петербург</td>\n",
       "      <td>28098.0</td>\n",
       "      <td>6800.0</td>\n",
       "      <td>2.0</td>\n",
       "      <td>84.0</td>\n",
       "      <td>3.0</td>\n",
       "      <td>234.0</td>\n",
       "      <td>424.0</td>\n",
       "    </tr>\n",
       "    <tr>\n",
       "      <th>4</th>\n",
       "      <td>2</td>\n",
       "      <td>10000000.0</td>\n",
       "      <td>100.0</td>\n",
       "      <td>2018-06-19T00:00:00</td>\n",
       "      <td>2</td>\n",
       "      <td>3.03</td>\n",
       "      <td>14.0</td>\n",
       "      <td>32.0</td>\n",
       "      <td>13</td>\n",
       "      <td>NaN</td>\n",
       "      <td>...</td>\n",
       "      <td>41.0</td>\n",
       "      <td>NaN</td>\n",
       "      <td>Санкт-Петербург</td>\n",
       "      <td>31856.0</td>\n",
       "      <td>8098.0</td>\n",
       "      <td>2.0</td>\n",
       "      <td>112.0</td>\n",
       "      <td>1.0</td>\n",
       "      <td>48.0</td>\n",
       "      <td>121.0</td>\n",
       "    </tr>\n",
       "  </tbody>\n",
       "</table>\n",
       "<p>5 rows × 22 columns</p>\n",
       "</div>"
      ],
      "text/plain": [
       "   total_images  last_price  total_area first_day_exposition  rooms  \\\n",
       "0            20  13000000.0       108.0  2019-03-07T00:00:00      3   \n",
       "1             7   3350000.0        40.4  2018-12-04T00:00:00      1   \n",
       "2            10   5196000.0        56.0  2015-08-20T00:00:00      2   \n",
       "3             0  64900000.0       159.0  2015-07-24T00:00:00      3   \n",
       "4             2  10000000.0       100.0  2018-06-19T00:00:00      2   \n",
       "\n",
       "   ceiling_height  floors_total  living_area  floor is_apartment  ...  \\\n",
       "0            2.70          16.0         51.0      8          NaN  ...   \n",
       "1             NaN          11.0         18.6      1          NaN  ...   \n",
       "2             NaN           5.0         34.3      4          NaN  ...   \n",
       "3             NaN          14.0          NaN      9          NaN  ...   \n",
       "4            3.03          14.0         32.0     13          NaN  ...   \n",
       "\n",
       "   kitchen_area  balcony    locality_name  airports_nearest  \\\n",
       "0          25.0      NaN  Санкт-Петербург           18863.0   \n",
       "1          11.0      2.0   посёлок Шушары           12817.0   \n",
       "2           8.3      0.0  Санкт-Петербург           21741.0   \n",
       "3           NaN      0.0  Санкт-Петербург           28098.0   \n",
       "4          41.0      NaN  Санкт-Петербург           31856.0   \n",
       "\n",
       "  cityCenters_nearest  parks_around3000  parks_nearest  ponds_around3000  \\\n",
       "0             16028.0               1.0          482.0               2.0   \n",
       "1             18603.0               0.0            NaN               0.0   \n",
       "2             13933.0               1.0           90.0               2.0   \n",
       "3              6800.0               2.0           84.0               3.0   \n",
       "4              8098.0               2.0          112.0               1.0   \n",
       "\n",
       "   ponds_nearest  days_exposition  \n",
       "0          755.0              NaN  \n",
       "1            NaN             81.0  \n",
       "2          574.0            558.0  \n",
       "3          234.0            424.0  \n",
       "4           48.0            121.0  \n",
       "\n",
       "[5 rows x 22 columns]"
      ]
     },
     "execution_count": 39,
     "metadata": {},
     "output_type": "execute_result"
    }
   ],
   "source": [
    "import pandas as pd\n",
    "data = pd.read_csv('real_estate_data.csv', sep='\\t')\n",
    "data.info()\n",
    "data.head(5)"
   ]
  },
  {
   "cell_type": "markdown",
   "metadata": {},
   "source": [
    "**Описание данных**\n",
    "\n",
    "Из документации к данным нам известно: каждая строка датасета - объект недвижимости из объявления о продаже квартир, каждый столбец - характеристики объекта.\n",
    "\n",
    "* `airports_nearest` — расстояние до ближайшего аэропорта в метрах (м)\n",
    "* `balcony` — число балконов\n",
    "* `ceiling_height` — высота потолков (м)\n",
    "* `cityCenters_nearest` — расстояние до центра города (м)\n",
    "* `days_exposition` — сколько дней было размещено объявление (от публикации до снятия)\n",
    "* `first_day_exposition` — дата публикации\n",
    "* `floor` — этаж\n",
    "* `floors_total` — всего этажей в доме\n",
    "* `is_apartment` — апартаменты (булев тип)\n",
    "* `kitchen_area` — площадь кухни в квадратных метрах (м²)\n",
    "* `last_price` — цена на момент снятия с публикации\n",
    "* `living_area` — жилая площадь в квадратных метрах (м²)\n",
    "* `locality_name` — название населённого пункта\n",
    "* `open_plan` — свободная планировка (булев тип)\n",
    "* `parks_around3000` — число парков в радиусе 3 км\n",
    "* `parks_nearest` — расстояние до ближайшего парка (м)\n",
    "* `ponds_around3000` — число водоёмов в радиусе 3 км\n",
    "* `ponds_nearest` — расстояние до ближайшего водоёма (м)\n",
    "* `rooms` — число комнат\n",
    "* `studio` — квартира-студия (булев тип)\n",
    "* `total_area` — площадь квартиры в квадратных метрах (м²)\n",
    "* `total_images` — число фотографий квартиры в объявлении"
   ]
  },
  {
   "cell_type": "markdown",
   "metadata": {},
   "source": [
    "В данных замечены следующие проблемы:\n",
    "* Пропуски\n",
    "* Категориальные значения\n",
    "* Неверный формат времени\n",
    "* Неправильные названия столбцов\n",
    "* Выбросы и аномальные значения"
   ]
  },
  {
   "cell_type": "markdown",
   "metadata": {},
   "source": [
    "## Предобработка данных"
   ]
  },
  {
   "cell_type": "markdown",
   "metadata": {},
   "source": [
    "### Стиль заголовков"
   ]
  },
  {
   "cell_type": "code",
   "execution_count": 40,
   "metadata": {
    "scrolled": true
   },
   "outputs": [
    {
     "data": {
      "text/plain": [
       "Index(['total_images', 'last_price', 'total_area', 'first_day_exposition',\n",
       "       'rooms', 'ceiling_height', 'floors_total', 'living_area', 'floor',\n",
       "       'is_apartment', 'studio', 'open_plan', 'kitchen_area', 'balcony',\n",
       "       'locality_name', 'airports_nearest', 'cityCenters_nearest',\n",
       "       'parks_around3000', 'parks_nearest', 'ponds_around3000',\n",
       "       'ponds_nearest', 'days_exposition'],\n",
       "      dtype='object')"
      ]
     },
     "metadata": {},
     "output_type": "display_data"
    }
   ],
   "source": [
    "# выведем названия заголовков\n",
    "display(data.columns)\n",
    "\n",
    "# заменим название столбца\n",
    "data.rename(columns = {'cityCenters_nearest':'center_nearest'}, inplace=True)"
   ]
  },
  {
   "cell_type": "markdown",
   "metadata": {},
   "source": [
    "### Обработка пропусков"
   ]
  },
  {
   "cell_type": "code",
   "execution_count": 41,
   "metadata": {
    "scrolled": false
   },
   "outputs": [
    {
     "data": {
      "text/plain": [
       "total_images                0\n",
       "last_price                  0\n",
       "total_area                  0\n",
       "first_day_exposition        0\n",
       "rooms                       0\n",
       "ceiling_height           9195\n",
       "floors_total               86\n",
       "living_area              1903\n",
       "floor                       0\n",
       "is_apartment            20924\n",
       "studio                      0\n",
       "open_plan                   0\n",
       "kitchen_area             2278\n",
       "balcony                 11519\n",
       "locality_name              49\n",
       "airports_nearest         5542\n",
       "center_nearest           5519\n",
       "parks_around3000         5518\n",
       "parks_nearest           15620\n",
       "ponds_around3000         5518\n",
       "ponds_nearest           14589\n",
       "days_exposition          3181\n",
       "dtype: int64"
      ]
     },
     "metadata": {},
     "output_type": "display_data"
    },
    {
     "data": {
      "text/plain": [
       "(23699, 22)"
      ]
     },
     "metadata": {},
     "output_type": "display_data"
    },
    {
     "data": {
      "text/html": [
       "<div>\n",
       "<style scoped>\n",
       "    .dataframe tbody tr th:only-of-type {\n",
       "        vertical-align: middle;\n",
       "    }\n",
       "\n",
       "    .dataframe tbody tr th {\n",
       "        vertical-align: top;\n",
       "    }\n",
       "\n",
       "    .dataframe thead th {\n",
       "        text-align: right;\n",
       "    }\n",
       "</style>\n",
       "<table border=\"1\" class=\"dataframe\">\n",
       "  <thead>\n",
       "    <tr style=\"text-align: right;\">\n",
       "      <th></th>\n",
       "      <th>total_images</th>\n",
       "      <th>last_price</th>\n",
       "      <th>total_area</th>\n",
       "      <th>rooms</th>\n",
       "      <th>ceiling_height</th>\n",
       "      <th>floors_total</th>\n",
       "      <th>living_area</th>\n",
       "      <th>floor</th>\n",
       "      <th>studio</th>\n",
       "      <th>open_plan</th>\n",
       "      <th>kitchen_area</th>\n",
       "      <th>balcony</th>\n",
       "      <th>airports_nearest</th>\n",
       "      <th>center_nearest</th>\n",
       "      <th>parks_around3000</th>\n",
       "      <th>parks_nearest</th>\n",
       "      <th>ponds_around3000</th>\n",
       "      <th>ponds_nearest</th>\n",
       "      <th>days_exposition</th>\n",
       "    </tr>\n",
       "  </thead>\n",
       "  <tbody>\n",
       "    <tr>\n",
       "      <th>total_images</th>\n",
       "      <td>1.000000</td>\n",
       "      <td>0.104473</td>\n",
       "      <td>0.115352</td>\n",
       "      <td>0.099288</td>\n",
       "      <td>-0.001987</td>\n",
       "      <td>0.010427</td>\n",
       "      <td>0.104780</td>\n",
       "      <td>0.031340</td>\n",
       "      <td>-0.029303</td>\n",
       "      <td>-0.024407</td>\n",
       "      <td>0.104756</td>\n",
       "      <td>0.121693</td>\n",
       "      <td>-0.002298</td>\n",
       "      <td>-0.047666</td>\n",
       "      <td>0.021120</td>\n",
       "      <td>-0.008347</td>\n",
       "      <td>-0.011553</td>\n",
       "      <td>-0.003034</td>\n",
       "      <td>-0.026657</td>\n",
       "    </tr>\n",
       "    <tr>\n",
       "      <th>last_price</th>\n",
       "      <td>0.104473</td>\n",
       "      <td>1.000000</td>\n",
       "      <td>0.653675</td>\n",
       "      <td>0.363343</td>\n",
       "      <td>0.085430</td>\n",
       "      <td>-0.006984</td>\n",
       "      <td>0.566492</td>\n",
       "      <td>0.026576</td>\n",
       "      <td>-0.025362</td>\n",
       "      <td>-0.008802</td>\n",
       "      <td>0.519869</td>\n",
       "      <td>0.029646</td>\n",
       "      <td>-0.026239</td>\n",
       "      <td>-0.206747</td>\n",
       "      <td>0.151058</td>\n",
       "      <td>-0.016414</td>\n",
       "      <td>0.159996</td>\n",
       "      <td>-0.084809</td>\n",
       "      <td>0.081146</td>\n",
       "    </tr>\n",
       "    <tr>\n",
       "      <th>total_area</th>\n",
       "      <td>0.115352</td>\n",
       "      <td>0.653675</td>\n",
       "      <td>1.000000</td>\n",
       "      <td>0.758344</td>\n",
       "      <td>0.095490</td>\n",
       "      <td>-0.075774</td>\n",
       "      <td>0.939537</td>\n",
       "      <td>-0.024754</td>\n",
       "      <td>-0.072653</td>\n",
       "      <td>-0.034885</td>\n",
       "      <td>0.609121</td>\n",
       "      <td>0.047937</td>\n",
       "      <td>-0.030753</td>\n",
       "      <td>-0.231446</td>\n",
       "      <td>0.164689</td>\n",
       "      <td>-0.021497</td>\n",
       "      <td>0.162346</td>\n",
       "      <td>-0.097969</td>\n",
       "      <td>0.149675</td>\n",
       "    </tr>\n",
       "    <tr>\n",
       "      <th>rooms</th>\n",
       "      <td>0.099288</td>\n",
       "      <td>0.363343</td>\n",
       "      <td>0.758344</td>\n",
       "      <td>1.000000</td>\n",
       "      <td>0.054457</td>\n",
       "      <td>-0.228215</td>\n",
       "      <td>0.845977</td>\n",
       "      <td>-0.150862</td>\n",
       "      <td>-0.147286</td>\n",
       "      <td>-0.087500</td>\n",
       "      <td>0.269945</td>\n",
       "      <td>0.017991</td>\n",
       "      <td>-0.061199</td>\n",
       "      <td>-0.184864</td>\n",
       "      <td>0.137257</td>\n",
       "      <td>-0.054549</td>\n",
       "      <td>0.092693</td>\n",
       "      <td>-0.057689</td>\n",
       "      <td>0.126961</td>\n",
       "    </tr>\n",
       "    <tr>\n",
       "      <th>ceiling_height</th>\n",
       "      <td>-0.001987</td>\n",
       "      <td>0.085430</td>\n",
       "      <td>0.095490</td>\n",
       "      <td>0.054457</td>\n",
       "      <td>1.000000</td>\n",
       "      <td>-0.028732</td>\n",
       "      <td>0.090650</td>\n",
       "      <td>-0.011798</td>\n",
       "      <td>0.001674</td>\n",
       "      <td>0.042777</td>\n",
       "      <td>0.087641</td>\n",
       "      <td>0.040523</td>\n",
       "      <td>-0.023947</td>\n",
       "      <td>-0.091689</td>\n",
       "      <td>0.065915</td>\n",
       "      <td>-0.019167</td>\n",
       "      <td>0.078209</td>\n",
       "      <td>-0.059090</td>\n",
       "      <td>0.019091</td>\n",
       "    </tr>\n",
       "    <tr>\n",
       "      <th>floors_total</th>\n",
       "      <td>0.010427</td>\n",
       "      <td>-0.006984</td>\n",
       "      <td>-0.075774</td>\n",
       "      <td>-0.228215</td>\n",
       "      <td>-0.028732</td>\n",
       "      <td>1.000000</td>\n",
       "      <td>-0.169311</td>\n",
       "      <td>0.678059</td>\n",
       "      <td>0.070151</td>\n",
       "      <td>0.050791</td>\n",
       "      <td>0.163944</td>\n",
       "      <td>0.194065</td>\n",
       "      <td>0.108288</td>\n",
       "      <td>0.019774</td>\n",
       "      <td>-0.252833</td>\n",
       "      <td>0.097527</td>\n",
       "      <td>-0.122735</td>\n",
       "      <td>0.038864</td>\n",
       "      <td>-0.052234</td>\n",
       "    </tr>\n",
       "    <tr>\n",
       "      <th>living_area</th>\n",
       "      <td>0.104780</td>\n",
       "      <td>0.566492</td>\n",
       "      <td>0.939537</td>\n",
       "      <td>0.845977</td>\n",
       "      <td>0.090650</td>\n",
       "      <td>-0.169311</td>\n",
       "      <td>1.000000</td>\n",
       "      <td>-0.097210</td>\n",
       "      <td>-0.056231</td>\n",
       "      <td>-0.033711</td>\n",
       "      <td>0.428674</td>\n",
       "      <td>0.018849</td>\n",
       "      <td>-0.057912</td>\n",
       "      <td>-0.231368</td>\n",
       "      <td>0.184453</td>\n",
       "      <td>-0.050167</td>\n",
       "      <td>0.148933</td>\n",
       "      <td>-0.081674</td>\n",
       "      <td>0.142454</td>\n",
       "    </tr>\n",
       "    <tr>\n",
       "      <th>floor</th>\n",
       "      <td>0.031340</td>\n",
       "      <td>0.026576</td>\n",
       "      <td>-0.024754</td>\n",
       "      <td>-0.150862</td>\n",
       "      <td>-0.011798</td>\n",
       "      <td>0.678059</td>\n",
       "      <td>-0.097210</td>\n",
       "      <td>1.000000</td>\n",
       "      <td>0.036940</td>\n",
       "      <td>0.035824</td>\n",
       "      <td>0.135531</td>\n",
       "      <td>0.168773</td>\n",
       "      <td>0.071597</td>\n",
       "      <td>0.009084</td>\n",
       "      <td>-0.163784</td>\n",
       "      <td>0.073045</td>\n",
       "      <td>-0.076312</td>\n",
       "      <td>0.024850</td>\n",
       "      <td>-0.039463</td>\n",
       "    </tr>\n",
       "    <tr>\n",
       "      <th>studio</th>\n",
       "      <td>-0.029303</td>\n",
       "      <td>-0.025362</td>\n",
       "      <td>-0.072653</td>\n",
       "      <td>-0.147286</td>\n",
       "      <td>0.001674</td>\n",
       "      <td>0.070151</td>\n",
       "      <td>-0.056231</td>\n",
       "      <td>0.036940</td>\n",
       "      <td>1.000000</td>\n",
       "      <td>-0.004235</td>\n",
       "      <td>NaN</td>\n",
       "      <td>0.031455</td>\n",
       "      <td>-0.021876</td>\n",
       "      <td>-0.007029</td>\n",
       "      <td>-0.030202</td>\n",
       "      <td>0.009134</td>\n",
       "      <td>0.000939</td>\n",
       "      <td>0.002606</td>\n",
       "      <td>-0.022476</td>\n",
       "    </tr>\n",
       "    <tr>\n",
       "      <th>open_plan</th>\n",
       "      <td>-0.024407</td>\n",
       "      <td>-0.008802</td>\n",
       "      <td>-0.034885</td>\n",
       "      <td>-0.087500</td>\n",
       "      <td>0.042777</td>\n",
       "      <td>0.050791</td>\n",
       "      <td>-0.033711</td>\n",
       "      <td>0.035824</td>\n",
       "      <td>-0.004235</td>\n",
       "      <td>1.000000</td>\n",
       "      <td>NaN</td>\n",
       "      <td>0.019491</td>\n",
       "      <td>-0.013583</td>\n",
       "      <td>-0.004204</td>\n",
       "      <td>-0.010077</td>\n",
       "      <td>0.010612</td>\n",
       "      <td>0.008455</td>\n",
       "      <td>-0.003328</td>\n",
       "      <td>-0.024112</td>\n",
       "    </tr>\n",
       "    <tr>\n",
       "      <th>kitchen_area</th>\n",
       "      <td>0.104756</td>\n",
       "      <td>0.519869</td>\n",
       "      <td>0.609121</td>\n",
       "      <td>0.269945</td>\n",
       "      <td>0.087641</td>\n",
       "      <td>0.163944</td>\n",
       "      <td>0.428674</td>\n",
       "      <td>0.135531</td>\n",
       "      <td>NaN</td>\n",
       "      <td>NaN</td>\n",
       "      <td>1.000000</td>\n",
       "      <td>0.098634</td>\n",
       "      <td>0.008200</td>\n",
       "      <td>-0.190049</td>\n",
       "      <td>0.087503</td>\n",
       "      <td>0.029641</td>\n",
       "      <td>0.150148</td>\n",
       "      <td>-0.105223</td>\n",
       "      <td>0.100586</td>\n",
       "    </tr>\n",
       "    <tr>\n",
       "      <th>balcony</th>\n",
       "      <td>0.121693</td>\n",
       "      <td>0.029646</td>\n",
       "      <td>0.047937</td>\n",
       "      <td>0.017991</td>\n",
       "      <td>0.040523</td>\n",
       "      <td>0.194065</td>\n",
       "      <td>0.018849</td>\n",
       "      <td>0.168773</td>\n",
       "      <td>0.031455</td>\n",
       "      <td>0.019491</td>\n",
       "      <td>0.098634</td>\n",
       "      <td>1.000000</td>\n",
       "      <td>0.066834</td>\n",
       "      <td>0.051051</td>\n",
       "      <td>-0.082850</td>\n",
       "      <td>0.052328</td>\n",
       "      <td>-0.032709</td>\n",
       "      <td>0.010847</td>\n",
       "      <td>-0.032909</td>\n",
       "    </tr>\n",
       "    <tr>\n",
       "      <th>airports_nearest</th>\n",
       "      <td>-0.002298</td>\n",
       "      <td>-0.026239</td>\n",
       "      <td>-0.030753</td>\n",
       "      <td>-0.061199</td>\n",
       "      <td>-0.023947</td>\n",
       "      <td>0.108288</td>\n",
       "      <td>-0.057912</td>\n",
       "      <td>0.071597</td>\n",
       "      <td>-0.021876</td>\n",
       "      <td>-0.013583</td>\n",
       "      <td>0.008200</td>\n",
       "      <td>0.066834</td>\n",
       "      <td>1.000000</td>\n",
       "      <td>0.272184</td>\n",
       "      <td>0.000759</td>\n",
       "      <td>-0.070058</td>\n",
       "      <td>-0.049583</td>\n",
       "      <td>0.014049</td>\n",
       "      <td>-0.018271</td>\n",
       "    </tr>\n",
       "    <tr>\n",
       "      <th>center_nearest</th>\n",
       "      <td>-0.047666</td>\n",
       "      <td>-0.206747</td>\n",
       "      <td>-0.231446</td>\n",
       "      <td>-0.184864</td>\n",
       "      <td>-0.091689</td>\n",
       "      <td>0.019774</td>\n",
       "      <td>-0.231368</td>\n",
       "      <td>0.009084</td>\n",
       "      <td>-0.007029</td>\n",
       "      <td>-0.004204</td>\n",
       "      <td>-0.190049</td>\n",
       "      <td>0.051051</td>\n",
       "      <td>0.272184</td>\n",
       "      <td>1.000000</td>\n",
       "      <td>-0.161738</td>\n",
       "      <td>-0.040650</td>\n",
       "      <td>-0.074577</td>\n",
       "      <td>0.028903</td>\n",
       "      <td>-0.060714</td>\n",
       "    </tr>\n",
       "    <tr>\n",
       "      <th>parks_around3000</th>\n",
       "      <td>0.021120</td>\n",
       "      <td>0.151058</td>\n",
       "      <td>0.164689</td>\n",
       "      <td>0.137257</td>\n",
       "      <td>0.065915</td>\n",
       "      <td>-0.252833</td>\n",
       "      <td>0.184453</td>\n",
       "      <td>-0.163784</td>\n",
       "      <td>-0.030202</td>\n",
       "      <td>-0.010077</td>\n",
       "      <td>0.087503</td>\n",
       "      <td>-0.082850</td>\n",
       "      <td>0.000759</td>\n",
       "      <td>-0.161738</td>\n",
       "      <td>1.000000</td>\n",
       "      <td>-0.259514</td>\n",
       "      <td>0.304316</td>\n",
       "      <td>-0.167103</td>\n",
       "      <td>0.060491</td>\n",
       "    </tr>\n",
       "    <tr>\n",
       "      <th>parks_nearest</th>\n",
       "      <td>-0.008347</td>\n",
       "      <td>-0.016414</td>\n",
       "      <td>-0.021497</td>\n",
       "      <td>-0.054549</td>\n",
       "      <td>-0.019167</td>\n",
       "      <td>0.097527</td>\n",
       "      <td>-0.050167</td>\n",
       "      <td>0.073045</td>\n",
       "      <td>0.009134</td>\n",
       "      <td>0.010612</td>\n",
       "      <td>0.029641</td>\n",
       "      <td>0.052328</td>\n",
       "      <td>-0.070058</td>\n",
       "      <td>-0.040650</td>\n",
       "      <td>-0.259514</td>\n",
       "      <td>1.000000</td>\n",
       "      <td>0.077280</td>\n",
       "      <td>0.000692</td>\n",
       "      <td>0.023254</td>\n",
       "    </tr>\n",
       "    <tr>\n",
       "      <th>ponds_around3000</th>\n",
       "      <td>-0.011553</td>\n",
       "      <td>0.159996</td>\n",
       "      <td>0.162346</td>\n",
       "      <td>0.092693</td>\n",
       "      <td>0.078209</td>\n",
       "      <td>-0.122735</td>\n",
       "      <td>0.148933</td>\n",
       "      <td>-0.076312</td>\n",
       "      <td>0.000939</td>\n",
       "      <td>0.008455</td>\n",
       "      <td>0.150148</td>\n",
       "      <td>-0.032709</td>\n",
       "      <td>-0.049583</td>\n",
       "      <td>-0.074577</td>\n",
       "      <td>0.304316</td>\n",
       "      <td>0.077280</td>\n",
       "      <td>1.000000</td>\n",
       "      <td>-0.341840</td>\n",
       "      <td>0.073162</td>\n",
       "    </tr>\n",
       "    <tr>\n",
       "      <th>ponds_nearest</th>\n",
       "      <td>-0.003034</td>\n",
       "      <td>-0.084809</td>\n",
       "      <td>-0.097969</td>\n",
       "      <td>-0.057689</td>\n",
       "      <td>-0.059090</td>\n",
       "      <td>0.038864</td>\n",
       "      <td>-0.081674</td>\n",
       "      <td>0.024850</td>\n",
       "      <td>0.002606</td>\n",
       "      <td>-0.003328</td>\n",
       "      <td>-0.105223</td>\n",
       "      <td>0.010847</td>\n",
       "      <td>0.014049</td>\n",
       "      <td>0.028903</td>\n",
       "      <td>-0.167103</td>\n",
       "      <td>0.000692</td>\n",
       "      <td>-0.341840</td>\n",
       "      <td>1.000000</td>\n",
       "      <td>-0.077879</td>\n",
       "    </tr>\n",
       "    <tr>\n",
       "      <th>days_exposition</th>\n",
       "      <td>-0.026657</td>\n",
       "      <td>0.081146</td>\n",
       "      <td>0.149675</td>\n",
       "      <td>0.126961</td>\n",
       "      <td>0.019091</td>\n",
       "      <td>-0.052234</td>\n",
       "      <td>0.142454</td>\n",
       "      <td>-0.039463</td>\n",
       "      <td>-0.022476</td>\n",
       "      <td>-0.024112</td>\n",
       "      <td>0.100586</td>\n",
       "      <td>-0.032909</td>\n",
       "      <td>-0.018271</td>\n",
       "      <td>-0.060714</td>\n",
       "      <td>0.060491</td>\n",
       "      <td>0.023254</td>\n",
       "      <td>0.073162</td>\n",
       "      <td>-0.077879</td>\n",
       "      <td>1.000000</td>\n",
       "    </tr>\n",
       "  </tbody>\n",
       "</table>\n",
       "</div>"
      ],
      "text/plain": [
       "                  total_images  last_price  total_area     rooms  \\\n",
       "total_images          1.000000    0.104473    0.115352  0.099288   \n",
       "last_price            0.104473    1.000000    0.653675  0.363343   \n",
       "total_area            0.115352    0.653675    1.000000  0.758344   \n",
       "rooms                 0.099288    0.363343    0.758344  1.000000   \n",
       "ceiling_height       -0.001987    0.085430    0.095490  0.054457   \n",
       "floors_total          0.010427   -0.006984   -0.075774 -0.228215   \n",
       "living_area           0.104780    0.566492    0.939537  0.845977   \n",
       "floor                 0.031340    0.026576   -0.024754 -0.150862   \n",
       "studio               -0.029303   -0.025362   -0.072653 -0.147286   \n",
       "open_plan            -0.024407   -0.008802   -0.034885 -0.087500   \n",
       "kitchen_area          0.104756    0.519869    0.609121  0.269945   \n",
       "balcony               0.121693    0.029646    0.047937  0.017991   \n",
       "airports_nearest     -0.002298   -0.026239   -0.030753 -0.061199   \n",
       "center_nearest       -0.047666   -0.206747   -0.231446 -0.184864   \n",
       "parks_around3000      0.021120    0.151058    0.164689  0.137257   \n",
       "parks_nearest        -0.008347   -0.016414   -0.021497 -0.054549   \n",
       "ponds_around3000     -0.011553    0.159996    0.162346  0.092693   \n",
       "ponds_nearest        -0.003034   -0.084809   -0.097969 -0.057689   \n",
       "days_exposition      -0.026657    0.081146    0.149675  0.126961   \n",
       "\n",
       "                  ceiling_height  floors_total  living_area     floor  \\\n",
       "total_images           -0.001987      0.010427     0.104780  0.031340   \n",
       "last_price              0.085430     -0.006984     0.566492  0.026576   \n",
       "total_area              0.095490     -0.075774     0.939537 -0.024754   \n",
       "rooms                   0.054457     -0.228215     0.845977 -0.150862   \n",
       "ceiling_height          1.000000     -0.028732     0.090650 -0.011798   \n",
       "floors_total           -0.028732      1.000000    -0.169311  0.678059   \n",
       "living_area             0.090650     -0.169311     1.000000 -0.097210   \n",
       "floor                  -0.011798      0.678059    -0.097210  1.000000   \n",
       "studio                  0.001674      0.070151    -0.056231  0.036940   \n",
       "open_plan               0.042777      0.050791    -0.033711  0.035824   \n",
       "kitchen_area            0.087641      0.163944     0.428674  0.135531   \n",
       "balcony                 0.040523      0.194065     0.018849  0.168773   \n",
       "airports_nearest       -0.023947      0.108288    -0.057912  0.071597   \n",
       "center_nearest         -0.091689      0.019774    -0.231368  0.009084   \n",
       "parks_around3000        0.065915     -0.252833     0.184453 -0.163784   \n",
       "parks_nearest          -0.019167      0.097527    -0.050167  0.073045   \n",
       "ponds_around3000        0.078209     -0.122735     0.148933 -0.076312   \n",
       "ponds_nearest          -0.059090      0.038864    -0.081674  0.024850   \n",
       "days_exposition         0.019091     -0.052234     0.142454 -0.039463   \n",
       "\n",
       "                    studio  open_plan  kitchen_area   balcony  \\\n",
       "total_images     -0.029303  -0.024407      0.104756  0.121693   \n",
       "last_price       -0.025362  -0.008802      0.519869  0.029646   \n",
       "total_area       -0.072653  -0.034885      0.609121  0.047937   \n",
       "rooms            -0.147286  -0.087500      0.269945  0.017991   \n",
       "ceiling_height    0.001674   0.042777      0.087641  0.040523   \n",
       "floors_total      0.070151   0.050791      0.163944  0.194065   \n",
       "living_area      -0.056231  -0.033711      0.428674  0.018849   \n",
       "floor             0.036940   0.035824      0.135531  0.168773   \n",
       "studio            1.000000  -0.004235           NaN  0.031455   \n",
       "open_plan        -0.004235   1.000000           NaN  0.019491   \n",
       "kitchen_area           NaN        NaN      1.000000  0.098634   \n",
       "balcony           0.031455   0.019491      0.098634  1.000000   \n",
       "airports_nearest -0.021876  -0.013583      0.008200  0.066834   \n",
       "center_nearest   -0.007029  -0.004204     -0.190049  0.051051   \n",
       "parks_around3000 -0.030202  -0.010077      0.087503 -0.082850   \n",
       "parks_nearest     0.009134   0.010612      0.029641  0.052328   \n",
       "ponds_around3000  0.000939   0.008455      0.150148 -0.032709   \n",
       "ponds_nearest     0.002606  -0.003328     -0.105223  0.010847   \n",
       "days_exposition  -0.022476  -0.024112      0.100586 -0.032909   \n",
       "\n",
       "                  airports_nearest  center_nearest  parks_around3000  \\\n",
       "total_images             -0.002298       -0.047666          0.021120   \n",
       "last_price               -0.026239       -0.206747          0.151058   \n",
       "total_area               -0.030753       -0.231446          0.164689   \n",
       "rooms                    -0.061199       -0.184864          0.137257   \n",
       "ceiling_height           -0.023947       -0.091689          0.065915   \n",
       "floors_total              0.108288        0.019774         -0.252833   \n",
       "living_area              -0.057912       -0.231368          0.184453   \n",
       "floor                     0.071597        0.009084         -0.163784   \n",
       "studio                   -0.021876       -0.007029         -0.030202   \n",
       "open_plan                -0.013583       -0.004204         -0.010077   \n",
       "kitchen_area              0.008200       -0.190049          0.087503   \n",
       "balcony                   0.066834        0.051051         -0.082850   \n",
       "airports_nearest          1.000000        0.272184          0.000759   \n",
       "center_nearest            0.272184        1.000000         -0.161738   \n",
       "parks_around3000          0.000759       -0.161738          1.000000   \n",
       "parks_nearest            -0.070058       -0.040650         -0.259514   \n",
       "ponds_around3000         -0.049583       -0.074577          0.304316   \n",
       "ponds_nearest             0.014049        0.028903         -0.167103   \n",
       "days_exposition          -0.018271       -0.060714          0.060491   \n",
       "\n",
       "                  parks_nearest  ponds_around3000  ponds_nearest  \\\n",
       "total_images          -0.008347         -0.011553      -0.003034   \n",
       "last_price            -0.016414          0.159996      -0.084809   \n",
       "total_area            -0.021497          0.162346      -0.097969   \n",
       "rooms                 -0.054549          0.092693      -0.057689   \n",
       "ceiling_height        -0.019167          0.078209      -0.059090   \n",
       "floors_total           0.097527         -0.122735       0.038864   \n",
       "living_area           -0.050167          0.148933      -0.081674   \n",
       "floor                  0.073045         -0.076312       0.024850   \n",
       "studio                 0.009134          0.000939       0.002606   \n",
       "open_plan              0.010612          0.008455      -0.003328   \n",
       "kitchen_area           0.029641          0.150148      -0.105223   \n",
       "balcony                0.052328         -0.032709       0.010847   \n",
       "airports_nearest      -0.070058         -0.049583       0.014049   \n",
       "center_nearest        -0.040650         -0.074577       0.028903   \n",
       "parks_around3000      -0.259514          0.304316      -0.167103   \n",
       "parks_nearest          1.000000          0.077280       0.000692   \n",
       "ponds_around3000       0.077280          1.000000      -0.341840   \n",
       "ponds_nearest          0.000692         -0.341840       1.000000   \n",
       "days_exposition        0.023254          0.073162      -0.077879   \n",
       "\n",
       "                  days_exposition  \n",
       "total_images            -0.026657  \n",
       "last_price               0.081146  \n",
       "total_area               0.149675  \n",
       "rooms                    0.126961  \n",
       "ceiling_height           0.019091  \n",
       "floors_total            -0.052234  \n",
       "living_area              0.142454  \n",
       "floor                   -0.039463  \n",
       "studio                  -0.022476  \n",
       "open_plan               -0.024112  \n",
       "kitchen_area             0.100586  \n",
       "balcony                 -0.032909  \n",
       "airports_nearest        -0.018271  \n",
       "center_nearest          -0.060714  \n",
       "parks_around3000         0.060491  \n",
       "parks_nearest            0.023254  \n",
       "ponds_around3000         0.073162  \n",
       "ponds_nearest           -0.077879  \n",
       "days_exposition          1.000000  "
      ]
     },
     "execution_count": 41,
     "metadata": {},
     "output_type": "execute_result"
    }
   ],
   "source": [
    "# посчитаем пропуски в столбцах\n",
    "display (data.isna().sum())\n",
    "display (data.shape)\n",
    "data.corr()"
   ]
  },
  {
   "cell_type": "markdown",
   "metadata": {},
   "source": [
    "В данных довольно много пропусков, как их можно заменить:\n",
    "* `balcony` - параметр, который указал пользователь, соответственно, если стоит пропуск - скорее всего балконов нет, можно заменить на нулевое значение.\n",
    "* Значения в столбце `living_area` коррелируются со значениями в столбцах `total_area` и `rooms`, поэтому, сгруппировав данные по этим столбцам, мы можем заменить пропуски на медианные значения по группам.\n",
    "* `kitchen_area` хорошо коррелируется со столбцом `total_area`, поэтому, сгруппировав данные, заменим пропуски на медианные значени по группам.\n",
    "* `floors_total` коррелируется со столбцом `floor`, заменим пропуски на медианные значения, сгруппировав данные.\n",
    "* Пропуски в столбцах гео-признаков заменять нет смысла, так как расстоятие от квартиры до объектов и количество объектов рядом не зависят ни от какой другой величины и их нельзя заменить средним значением\n",
    "* `ceiling_height` потолки это довольно стандартизированная величина, поэтому можно безболезненно заменить их медианой\n",
    "* Пропуски в населенных пунктах можно удалить. Мы не можем быть уверены, что эти квартиры принадлежат Санкт-Перербургу."
   ]
  },
  {
   "cell_type": "code",
   "execution_count": 42,
   "metadata": {},
   "outputs": [],
   "source": [
    "# меняем пропуски в столбце balcony на нулевое значение\n",
    "data['balcony'] = data['balcony'].fillna(0)"
   ]
  },
  {
   "cell_type": "code",
   "execution_count": 43,
   "metadata": {
    "scrolled": true
   },
   "outputs": [],
   "source": [
    "# меняем пропуски на медианные значения по сгруппированным данным\n",
    "data['living_area'] = data['living_area'].fillna(data.groupby(['total_area', 'rooms'])['living_area'].transform('median'))\n",
    "data['kitchen_area'] = data['kitchen_area'].fillna(data.groupby('total_area')['kitchen_area'].transform('median'))\n",
    "data['floors_total'] = data['floors_total'].fillna(data.groupby('floor')['floors_total'].transform('median'))"
   ]
  },
  {
   "cell_type": "code",
   "execution_count": 44,
   "metadata": {},
   "outputs": [],
   "source": [
    "# заполняем пропуски на медианное значение\n",
    "data['ceiling_height'] = data['ceiling_height'].fillna(data['ceiling_height'].median())"
   ]
  },
  {
   "cell_type": "code",
   "execution_count": 45,
   "metadata": {},
   "outputs": [],
   "source": [
    "# удаляем пропуски в населенных пунктах\n",
    "data.dropna(subset = ['locality_name'], inplace = True)"
   ]
  },
  {
   "cell_type": "code",
   "execution_count": 46,
   "metadata": {
    "scrolled": false
   },
   "outputs": [
    {
     "data": {
      "text/plain": [
       "total_images                0\n",
       "last_price                  0\n",
       "total_area                  0\n",
       "first_day_exposition        0\n",
       "rooms                       0\n",
       "ceiling_height              0\n",
       "floors_total                0\n",
       "living_area               211\n",
       "floor                       0\n",
       "is_apartment            20890\n",
       "studio                      0\n",
       "open_plan                   0\n",
       "kitchen_area              205\n",
       "balcony                     0\n",
       "locality_name               0\n",
       "airports_nearest         5534\n",
       "center_nearest           5511\n",
       "parks_around3000         5510\n",
       "parks_nearest           15586\n",
       "ponds_around3000         5510\n",
       "ponds_nearest           14565\n",
       "days_exposition          3180\n",
       "dtype: int64"
      ]
     },
     "execution_count": 46,
     "metadata": {},
     "output_type": "execute_result"
    }
   ],
   "source": [
    "data.isna().sum()"
   ]
  },
  {
   "cell_type": "markdown",
   "metadata": {},
   "source": [
    "### Замена типа данных"
   ]
  },
  {
   "cell_type": "code",
   "execution_count": 47,
   "metadata": {
    "scrolled": false
   },
   "outputs": [
    {
     "name": "stdout",
     "output_type": "stream",
     "text": [
      "<class 'pandas.core.frame.DataFrame'>\n",
      "Int64Index: 23650 entries, 0 to 23698\n",
      "Data columns (total 22 columns):\n",
      " #   Column                Non-Null Count  Dtype  \n",
      "---  ------                --------------  -----  \n",
      " 0   total_images          23650 non-null  int64  \n",
      " 1   last_price            23650 non-null  float64\n",
      " 2   total_area            23650 non-null  float64\n",
      " 3   first_day_exposition  23650 non-null  object \n",
      " 4   rooms                 23650 non-null  int64  \n",
      " 5   ceiling_height        23650 non-null  float64\n",
      " 6   floors_total          23650 non-null  float64\n",
      " 7   living_area           23439 non-null  float64\n",
      " 8   floor                 23650 non-null  int64  \n",
      " 9   is_apartment          2760 non-null   object \n",
      " 10  studio                23650 non-null  bool   \n",
      " 11  open_plan             23650 non-null  bool   \n",
      " 12  kitchen_area          23445 non-null  float64\n",
      " 13  balcony               23650 non-null  float64\n",
      " 14  locality_name         23650 non-null  object \n",
      " 15  airports_nearest      18116 non-null  float64\n",
      " 16  center_nearest        18139 non-null  float64\n",
      " 17  parks_around3000      18140 non-null  float64\n",
      " 18  parks_nearest         8064 non-null   float64\n",
      " 19  ponds_around3000      18140 non-null  float64\n",
      " 20  ponds_nearest         9085 non-null   float64\n",
      " 21  days_exposition       20470 non-null  float64\n",
      "dtypes: bool(2), float64(14), int64(3), object(3)\n",
      "memory usage: 3.8+ MB\n"
     ]
    },
    {
     "data": {
      "text/html": [
       "<div>\n",
       "<style scoped>\n",
       "    .dataframe tbody tr th:only-of-type {\n",
       "        vertical-align: middle;\n",
       "    }\n",
       "\n",
       "    .dataframe tbody tr th {\n",
       "        vertical-align: top;\n",
       "    }\n",
       "\n",
       "    .dataframe thead th {\n",
       "        text-align: right;\n",
       "    }\n",
       "</style>\n",
       "<table border=\"1\" class=\"dataframe\">\n",
       "  <thead>\n",
       "    <tr style=\"text-align: right;\">\n",
       "      <th></th>\n",
       "      <th>total_images</th>\n",
       "      <th>last_price</th>\n",
       "      <th>total_area</th>\n",
       "      <th>first_day_exposition</th>\n",
       "      <th>rooms</th>\n",
       "      <th>ceiling_height</th>\n",
       "      <th>floors_total</th>\n",
       "      <th>living_area</th>\n",
       "      <th>floor</th>\n",
       "      <th>is_apartment</th>\n",
       "      <th>...</th>\n",
       "      <th>kitchen_area</th>\n",
       "      <th>balcony</th>\n",
       "      <th>locality_name</th>\n",
       "      <th>airports_nearest</th>\n",
       "      <th>center_nearest</th>\n",
       "      <th>parks_around3000</th>\n",
       "      <th>parks_nearest</th>\n",
       "      <th>ponds_around3000</th>\n",
       "      <th>ponds_nearest</th>\n",
       "      <th>days_exposition</th>\n",
       "    </tr>\n",
       "  </thead>\n",
       "  <tbody>\n",
       "    <tr>\n",
       "      <th>0</th>\n",
       "      <td>20</td>\n",
       "      <td>13000000.0</td>\n",
       "      <td>108.0</td>\n",
       "      <td>2019-03-07T00:00:00</td>\n",
       "      <td>3</td>\n",
       "      <td>2.70</td>\n",
       "      <td>16.0</td>\n",
       "      <td>51.0</td>\n",
       "      <td>8</td>\n",
       "      <td>NaN</td>\n",
       "      <td>...</td>\n",
       "      <td>25.0</td>\n",
       "      <td>0.0</td>\n",
       "      <td>Санкт-Петербург</td>\n",
       "      <td>18863.0</td>\n",
       "      <td>16028.0</td>\n",
       "      <td>1.0</td>\n",
       "      <td>482.0</td>\n",
       "      <td>2.0</td>\n",
       "      <td>755.0</td>\n",
       "      <td>NaN</td>\n",
       "    </tr>\n",
       "    <tr>\n",
       "      <th>1</th>\n",
       "      <td>7</td>\n",
       "      <td>3350000.0</td>\n",
       "      <td>40.4</td>\n",
       "      <td>2018-12-04T00:00:00</td>\n",
       "      <td>1</td>\n",
       "      <td>2.65</td>\n",
       "      <td>11.0</td>\n",
       "      <td>18.6</td>\n",
       "      <td>1</td>\n",
       "      <td>NaN</td>\n",
       "      <td>...</td>\n",
       "      <td>11.0</td>\n",
       "      <td>2.0</td>\n",
       "      <td>посёлок Шушары</td>\n",
       "      <td>12817.0</td>\n",
       "      <td>18603.0</td>\n",
       "      <td>0.0</td>\n",
       "      <td>NaN</td>\n",
       "      <td>0.0</td>\n",
       "      <td>NaN</td>\n",
       "      <td>81.0</td>\n",
       "    </tr>\n",
       "    <tr>\n",
       "      <th>2</th>\n",
       "      <td>10</td>\n",
       "      <td>5196000.0</td>\n",
       "      <td>56.0</td>\n",
       "      <td>2015-08-20T00:00:00</td>\n",
       "      <td>2</td>\n",
       "      <td>2.65</td>\n",
       "      <td>5.0</td>\n",
       "      <td>34.3</td>\n",
       "      <td>4</td>\n",
       "      <td>NaN</td>\n",
       "      <td>...</td>\n",
       "      <td>8.3</td>\n",
       "      <td>0.0</td>\n",
       "      <td>Санкт-Петербург</td>\n",
       "      <td>21741.0</td>\n",
       "      <td>13933.0</td>\n",
       "      <td>1.0</td>\n",
       "      <td>90.0</td>\n",
       "      <td>2.0</td>\n",
       "      <td>574.0</td>\n",
       "      <td>558.0</td>\n",
       "    </tr>\n",
       "    <tr>\n",
       "      <th>3</th>\n",
       "      <td>0</td>\n",
       "      <td>64900000.0</td>\n",
       "      <td>159.0</td>\n",
       "      <td>2015-07-24T00:00:00</td>\n",
       "      <td>3</td>\n",
       "      <td>2.65</td>\n",
       "      <td>14.0</td>\n",
       "      <td>54.0</td>\n",
       "      <td>9</td>\n",
       "      <td>NaN</td>\n",
       "      <td>...</td>\n",
       "      <td>15.0</td>\n",
       "      <td>0.0</td>\n",
       "      <td>Санкт-Петербург</td>\n",
       "      <td>28098.0</td>\n",
       "      <td>6800.0</td>\n",
       "      <td>2.0</td>\n",
       "      <td>84.0</td>\n",
       "      <td>3.0</td>\n",
       "      <td>234.0</td>\n",
       "      <td>424.0</td>\n",
       "    </tr>\n",
       "    <tr>\n",
       "      <th>4</th>\n",
       "      <td>2</td>\n",
       "      <td>10000000.0</td>\n",
       "      <td>100.0</td>\n",
       "      <td>2018-06-19T00:00:00</td>\n",
       "      <td>2</td>\n",
       "      <td>3.03</td>\n",
       "      <td>14.0</td>\n",
       "      <td>32.0</td>\n",
       "      <td>13</td>\n",
       "      <td>NaN</td>\n",
       "      <td>...</td>\n",
       "      <td>41.0</td>\n",
       "      <td>0.0</td>\n",
       "      <td>Санкт-Петербург</td>\n",
       "      <td>31856.0</td>\n",
       "      <td>8098.0</td>\n",
       "      <td>2.0</td>\n",
       "      <td>112.0</td>\n",
       "      <td>1.0</td>\n",
       "      <td>48.0</td>\n",
       "      <td>121.0</td>\n",
       "    </tr>\n",
       "  </tbody>\n",
       "</table>\n",
       "<p>5 rows × 22 columns</p>\n",
       "</div>"
      ],
      "text/plain": [
       "   total_images  last_price  total_area first_day_exposition  rooms  \\\n",
       "0            20  13000000.0       108.0  2019-03-07T00:00:00      3   \n",
       "1             7   3350000.0        40.4  2018-12-04T00:00:00      1   \n",
       "2            10   5196000.0        56.0  2015-08-20T00:00:00      2   \n",
       "3             0  64900000.0       159.0  2015-07-24T00:00:00      3   \n",
       "4             2  10000000.0       100.0  2018-06-19T00:00:00      2   \n",
       "\n",
       "   ceiling_height  floors_total  living_area  floor is_apartment  ...  \\\n",
       "0            2.70          16.0         51.0      8          NaN  ...   \n",
       "1            2.65          11.0         18.6      1          NaN  ...   \n",
       "2            2.65           5.0         34.3      4          NaN  ...   \n",
       "3            2.65          14.0         54.0      9          NaN  ...   \n",
       "4            3.03          14.0         32.0     13          NaN  ...   \n",
       "\n",
       "   kitchen_area  balcony    locality_name  airports_nearest center_nearest  \\\n",
       "0          25.0      0.0  Санкт-Петербург           18863.0        16028.0   \n",
       "1          11.0      2.0   посёлок Шушары           12817.0        18603.0   \n",
       "2           8.3      0.0  Санкт-Петербург           21741.0        13933.0   \n",
       "3          15.0      0.0  Санкт-Петербург           28098.0         6800.0   \n",
       "4          41.0      0.0  Санкт-Петербург           31856.0         8098.0   \n",
       "\n",
       "   parks_around3000  parks_nearest  ponds_around3000  ponds_nearest  \\\n",
       "0               1.0          482.0               2.0          755.0   \n",
       "1               0.0            NaN               0.0            NaN   \n",
       "2               1.0           90.0               2.0          574.0   \n",
       "3               2.0           84.0               3.0          234.0   \n",
       "4               2.0          112.0               1.0           48.0   \n",
       "\n",
       "   days_exposition  \n",
       "0              NaN  \n",
       "1             81.0  \n",
       "2            558.0  \n",
       "3            424.0  \n",
       "4            121.0  \n",
       "\n",
       "[5 rows x 22 columns]"
      ]
     },
     "execution_count": 47,
     "metadata": {},
     "output_type": "execute_result"
    }
   ],
   "source": [
    "# проверим типы данных в таблице\n",
    "data.info()\n",
    "data.head(5)"
   ]
  },
  {
   "cell_type": "markdown",
   "metadata": {},
   "source": [
    "* `total_area`, `last_price`, `living_area`, `kitchen_area`, `airports_nearest`, `center_nearest`, `parks_nearest`, `ponds_nearest`,  - нужно округлить и заменить на целочисленные значения.\n",
    "* `floors_total`,  `balcony`, `parks_around3000`, `ponds_around3000\t`, `days_exposition` - заменить на целочисленные значения.\n",
    "* `first_day_exposition` - необходимо перевести в формат Datatime \n",
    "* привести значения в столбце `locality_name` к единому стилю\n",
    "* округлить значения в столбце `last_price` до тысячи"
   ]
  },
  {
   "cell_type": "code",
   "execution_count": 48,
   "metadata": {},
   "outputs": [],
   "source": [
    "# округляем значения\n",
    "data = data.round({\n",
    "    'total_area':0,\n",
    "    'last_price':0,\n",
    "    'living_area':0,\n",
    "    'kitchen_area':0,\n",
    "    'airports_nearest':0,\n",
    "    'center_nearest':0,\n",
    "    'parks_nearest':0,\n",
    "    'ponds_nearest':0,\n",
    "    'days_exposition':0 })"
   ]
  },
  {
   "cell_type": "code",
   "execution_count": 49,
   "metadata": {},
   "outputs": [],
   "source": [
    "# меняем тип данных на целочисленный\n",
    "data = data.astype({\n",
    "    'living_area':'Int64',\n",
    "    'kitchen_area':'Int64',\n",
    "    'floors_total':'Int64',\n",
    "    'balcony':'Int64',\n",
    "    'airports_nearest':'Int64',\n",
    "    'center_nearest':'Int64',\n",
    "    'parks_around3000':'Int64',\n",
    "    'parks_nearest':'Int64',\n",
    "    'ponds_around3000':'Int64', \n",
    "    'ponds_nearest':'Int64',\n",
    "    'days_exposition':'Int64' })"
   ]
  },
  {
   "cell_type": "code",
   "execution_count": 50,
   "metadata": {},
   "outputs": [],
   "source": [
    "# меняем формат времени\n",
    "data['first_day_exposition'] = pd.to_datetime(data['first_day_exposition'], format = '%Y-%m-%dT%H:%M:%S')"
   ]
  },
  {
   "cell_type": "markdown",
   "metadata": {},
   "source": [
    "Приведем значения в столбце `locality_name` к единому стилю."
   ]
  },
  {
   "cell_type": "code",
   "execution_count": 89,
   "metadata": {
    "scrolled": true
   },
   "outputs": [],
   "source": [
    "# заменим букву ё на букву е\n",
    "# приведем все к нижнему регистру\n",
    "data['locality_name'] = data['locality_name'].str.replace('ё', 'е')\n",
    "data['locality_name'] = data['locality_name'].str.lower()"
   ]
  },
  {
   "cell_type": "code",
   "execution_count": 52,
   "metadata": {
    "scrolled": true
   },
   "outputs": [],
   "source": [
    "# переведем цену в тыс. рублей\n",
    "data['last_price'] = round(data['last_price'] / 1000, 1)"
   ]
  },
  {
   "cell_type": "markdown",
   "metadata": {},
   "source": [
    "### Обработка дубликатов"
   ]
  },
  {
   "cell_type": "code",
   "execution_count": 53,
   "metadata": {},
   "outputs": [
    {
     "data": {
      "text/plain": [
       "0"
      ]
     },
     "execution_count": 53,
     "metadata": {},
     "output_type": "execute_result"
    }
   ],
   "source": [
    "data.duplicated().sum()"
   ]
  },
  {
   "cell_type": "markdown",
   "metadata": {},
   "source": [
    "Дубликатов в данных нет."
   ]
  },
  {
   "cell_type": "markdown",
   "metadata": {},
   "source": [
    "### Чистка таблицы "
   ]
  },
  {
   "cell_type": "code",
   "execution_count": 54,
   "metadata": {},
   "outputs": [
    {
     "data": {
      "text/plain": [
       "Index(['total_images', 'last_price', 'total_area', 'first_day_exposition',\n",
       "       'rooms', 'ceiling_height', 'floors_total', 'living_area', 'floor',\n",
       "       'is_apartment', 'studio', 'open_plan', 'kitchen_area', 'balcony',\n",
       "       'locality_name', 'airports_nearest', 'center_nearest',\n",
       "       'parks_around3000', 'parks_nearest', 'ponds_around3000',\n",
       "       'ponds_nearest', 'days_exposition'],\n",
       "      dtype='object')"
      ]
     },
     "execution_count": 54,
     "metadata": {},
     "output_type": "execute_result"
    }
   ],
   "source": [
    "data.columns"
   ]
  },
  {
   "cell_type": "markdown",
   "metadata": {},
   "source": [
    "Для данного исследования нам не пригодятся такие характеристики, как:\n",
    "* Изображения\n",
    "* Является ли квартира апартаментами\n",
    "* Является ли квартира студией\n",
    "* План квартиры\n",
    "* Близость к аэропорту\n",
    "* Наличие парков\n",
    "* Наличие пруда"
   ]
  },
  {
   "cell_type": "code",
   "execution_count": 55,
   "metadata": {},
   "outputs": [
    {
     "data": {
      "text/html": [
       "<div>\n",
       "<style scoped>\n",
       "    .dataframe tbody tr th:only-of-type {\n",
       "        vertical-align: middle;\n",
       "    }\n",
       "\n",
       "    .dataframe tbody tr th {\n",
       "        vertical-align: top;\n",
       "    }\n",
       "\n",
       "    .dataframe thead th {\n",
       "        text-align: right;\n",
       "    }\n",
       "</style>\n",
       "<table border=\"1\" class=\"dataframe\">\n",
       "  <thead>\n",
       "    <tr style=\"text-align: right;\">\n",
       "      <th></th>\n",
       "      <th>last_price</th>\n",
       "      <th>total_area</th>\n",
       "      <th>first_day_exposition</th>\n",
       "      <th>rooms</th>\n",
       "      <th>ceiling_height</th>\n",
       "      <th>floors_total</th>\n",
       "      <th>living_area</th>\n",
       "      <th>floor</th>\n",
       "      <th>kitchen_area</th>\n",
       "      <th>balcony</th>\n",
       "      <th>locality_name</th>\n",
       "      <th>center_nearest</th>\n",
       "      <th>days_exposition</th>\n",
       "    </tr>\n",
       "  </thead>\n",
       "  <tbody>\n",
       "    <tr>\n",
       "      <th>0</th>\n",
       "      <td>13000.0</td>\n",
       "      <td>108.0</td>\n",
       "      <td>2019-03-07</td>\n",
       "      <td>3</td>\n",
       "      <td>2.70</td>\n",
       "      <td>16</td>\n",
       "      <td>51</td>\n",
       "      <td>8</td>\n",
       "      <td>25</td>\n",
       "      <td>0</td>\n",
       "      <td>санкт-петербург</td>\n",
       "      <td>16028</td>\n",
       "      <td>&lt;NA&gt;</td>\n",
       "    </tr>\n",
       "    <tr>\n",
       "      <th>1</th>\n",
       "      <td>3350.0</td>\n",
       "      <td>40.0</td>\n",
       "      <td>2018-12-04</td>\n",
       "      <td>1</td>\n",
       "      <td>2.65</td>\n",
       "      <td>11</td>\n",
       "      <td>19</td>\n",
       "      <td>1</td>\n",
       "      <td>11</td>\n",
       "      <td>2</td>\n",
       "      <td>поселок шушары</td>\n",
       "      <td>18603</td>\n",
       "      <td>81</td>\n",
       "    </tr>\n",
       "    <tr>\n",
       "      <th>2</th>\n",
       "      <td>5196.0</td>\n",
       "      <td>56.0</td>\n",
       "      <td>2015-08-20</td>\n",
       "      <td>2</td>\n",
       "      <td>2.65</td>\n",
       "      <td>5</td>\n",
       "      <td>34</td>\n",
       "      <td>4</td>\n",
       "      <td>8</td>\n",
       "      <td>0</td>\n",
       "      <td>санкт-петербург</td>\n",
       "      <td>13933</td>\n",
       "      <td>558</td>\n",
       "    </tr>\n",
       "    <tr>\n",
       "      <th>3</th>\n",
       "      <td>64900.0</td>\n",
       "      <td>159.0</td>\n",
       "      <td>2015-07-24</td>\n",
       "      <td>3</td>\n",
       "      <td>2.65</td>\n",
       "      <td>14</td>\n",
       "      <td>54</td>\n",
       "      <td>9</td>\n",
       "      <td>15</td>\n",
       "      <td>0</td>\n",
       "      <td>санкт-петербург</td>\n",
       "      <td>6800</td>\n",
       "      <td>424</td>\n",
       "    </tr>\n",
       "    <tr>\n",
       "      <th>4</th>\n",
       "      <td>10000.0</td>\n",
       "      <td>100.0</td>\n",
       "      <td>2018-06-19</td>\n",
       "      <td>2</td>\n",
       "      <td>3.03</td>\n",
       "      <td>14</td>\n",
       "      <td>32</td>\n",
       "      <td>13</td>\n",
       "      <td>41</td>\n",
       "      <td>0</td>\n",
       "      <td>санкт-петербург</td>\n",
       "      <td>8098</td>\n",
       "      <td>121</td>\n",
       "    </tr>\n",
       "  </tbody>\n",
       "</table>\n",
       "</div>"
      ],
      "text/plain": [
       "   last_price  total_area first_day_exposition  rooms  ceiling_height  \\\n",
       "0     13000.0       108.0           2019-03-07      3            2.70   \n",
       "1      3350.0        40.0           2018-12-04      1            2.65   \n",
       "2      5196.0        56.0           2015-08-20      2            2.65   \n",
       "3     64900.0       159.0           2015-07-24      3            2.65   \n",
       "4     10000.0       100.0           2018-06-19      2            3.03   \n",
       "\n",
       "   floors_total  living_area  floor  kitchen_area  balcony    locality_name  \\\n",
       "0            16           51      8            25        0  санкт-петербург   \n",
       "1            11           19      1            11        2   поселок шушары   \n",
       "2             5           34      4             8        0  санкт-петербург   \n",
       "3            14           54      9            15        0  санкт-петербург   \n",
       "4            14           32     13            41        0  санкт-петербург   \n",
       "\n",
       "   center_nearest  days_exposition  \n",
       "0           16028             <NA>  \n",
       "1           18603               81  \n",
       "2           13933              558  \n",
       "3            6800              424  \n",
       "4            8098              121  "
      ]
     },
     "execution_count": 55,
     "metadata": {},
     "output_type": "execute_result"
    }
   ],
   "source": [
    "data = data.drop(['total_images', 'is_apartment', 'studio', 'open_plan', 'airports_nearest', 'parks_around3000', \n",
    "          'parks_nearest', 'ponds_around3000', 'ponds_nearest'], axis=1)\n",
    "data.head()"
   ]
  },
  {
   "cell_type": "markdown",
   "metadata": {},
   "source": [
    "**Вывод**\n",
    "\n",
    "Данные предобработаны:\n",
    "1. Заголовки приведены к единому стилю\n",
    "2. Обработано большинство пропусков\n",
    "3. Заменены типы данных на численные\n",
    "4. Дубликатов нет"
   ]
  },
  {
   "cell_type": "markdown",
   "metadata": {},
   "source": [
    "## Расчёты и добавление результатов в таблицу"
   ]
  },
  {
   "cell_type": "markdown",
   "metadata": {},
   "source": [
    "Необходимо посчитать и добавить в таблицу:\n",
    "* цену квадратного метра;\n",
    "* день недели, месяц и год публикации объявления;\n",
    "* этаж квартиры; варианты — первый, последний, другой;\n",
    "* соотношение жилой и общей площади, а также отношение площади кухни к общей."
   ]
  },
  {
   "cell_type": "code",
   "execution_count": 56,
   "metadata": {},
   "outputs": [],
   "source": [
    "# добавим цену за квадратный метр\n",
    "data['per_meter'] = (data['last_price'] / data['total_area']).round().astype('int')\n"
   ]
  },
  {
   "cell_type": "code",
   "execution_count": 57,
   "metadata": {
    "scrolled": true
   },
   "outputs": [],
   "source": [
    "# добавим день недели, месяц и год публикации объявления\n",
    "data['weekday'] = pd.DatetimeIndex(data['first_day_exposition']).weekday\n",
    "data['month'] = pd.DatetimeIndex(data['first_day_exposition']).month\n",
    "data['year'] = pd.DatetimeIndex(data['first_day_exposition']).year\n",
    "data = data.drop('first_day_exposition', axis=1)"
   ]
  },
  {
   "cell_type": "code",
   "execution_count": 58,
   "metadata": {},
   "outputs": [],
   "source": [
    "# добавим этаж квартиры\n",
    "def floor_type (data):\n",
    "    if data['floor'] == 1:\n",
    "        return 'первый'\n",
    "    if data['floor'] == data['floors_total']:\n",
    "        return 'последний'\n",
    "    else: \n",
    "        return 'другой'\n",
    "data['floor'] = data.apply(floor_type, axis=1)"
   ]
  },
  {
   "cell_type": "code",
   "execution_count": 59,
   "metadata": {},
   "outputs": [],
   "source": [
    "# добавим соотноение жилой и общей площади\n",
    "data['living_to_total'] = round((data['living_area'] / data['total_area']) * 100)\n",
    "# добавим соотношение кухни к общей площади\n",
    "data['kitchen_to_total'] = round((data['kitchen_area'] / data['total_area']) * 100)\n"
   ]
  },
  {
   "cell_type": "markdown",
   "metadata": {},
   "source": [
    "## Исследовательский анализ данных"
   ]
  },
  {
   "cell_type": "markdown",
   "metadata": {},
   "source": [
    "### Изучение параметров"
   ]
  },
  {
   "cell_type": "markdown",
   "metadata": {},
   "source": [
    "* Изучим следующие параметры: площадь, цена, число комнат, высота потолков\n",
    "* Построим гистограммы для каждого параметра\n",
    "* Уберем редкие и выбивающиеся значения"
   ]
  },
  {
   "cell_type": "code",
   "execution_count": 60,
   "metadata": {
    "scrolled": false
   },
   "outputs": [
    {
     "data": {
      "text/plain": [
       "<function matplotlib.pyplot.show(close=None, block=None)>"
      ]
     },
     "execution_count": 60,
     "metadata": {},
     "output_type": "execute_result"
    },
    {
     "data": {
      "image/png": "[encoded data removed]",
      "text/plain": [
       "<Figure size 1080x720 with 4 Axes>"
      ]
     },
     "metadata": {
      "needs_background": "light"
     },
     "output_type": "display_data"
    }
   ],
   "source": [
    "# распределения характеристик в объявлениях\n",
    "import matplotlib.pyplot as plt\n",
    "\n",
    "fig = plt.figure( figsize=(15, 10))\n",
    "axes = fig.subplots(2, 2)\n",
    "\n",
    "columns = ['total_area', 'last_price', 'rooms', 'ceiling_height']\n",
    "\n",
    "# изучим распределение общей площади в объявлениях\n",
    "axes[0, 0].hist(data['total_area'], bins=100, color='teal')\n",
    "axes[0, 0].set_title('Общая площадь')\n",
    "axes[0, 0].set_ylabel('Количество объявлений')\n",
    "\n",
    "# изучим распределение цены в объявлениях\n",
    "axes[0, 1].hist(data['last_price'], bins=100, color='indianred')\n",
    "axes[0, 1].set_title('Последняя цена')\n",
    "axes[0, 1].set_ylabel('Количество объявлений')\n",
    " \n",
    "# изучим распределение комнат в объявлениях\n",
    "axes[1, 0].hist(data['rooms'], bins=20, color='y')\n",
    "axes[1, 0].set_title('Количество комнат')\n",
    "axes[1, 0].set_ylabel('Количество объявлений')\n",
    "axes[1, 1].set_xlim(0, 10)\n",
    "\n",
    "# изучим распределение высоты потолков в объявлениях\n",
    "axes[1, 1].hist(data['ceiling_height'], bins=100, color='darkmagenta')\n",
    "axes[1, 1].set_title('Высота потолков')\n",
    "axes[1, 1].set_ylabel('Количество объявлений')\n",
    "axes[1, 1].set_xlim(0, 10)\n",
    "\n",
    "plt.show"
   ]
  },
  {
   "cell_type": "markdown",
   "metadata": {},
   "source": [
    "В данных параметрах присутствуют аномальные значения, проверим их количество."
   ]
  },
  {
   "cell_type": "code",
   "execution_count": 61,
   "metadata": {
    "scrolled": false
   },
   "outputs": [
    {
     "name": "stdout",
     "output_type": "stream",
     "text": [
      "Аномалии в параметре общей площади 61\n",
      "Аномалии в параметре цены 196\n",
      "Аномалии в параметре комнат 205\n",
      "Аномалии в параметре высоты потолков 39\n"
     ]
    }
   ],
   "source": [
    "print ('Аномалии в параметре общей площади', data.query('total_area > 300')['locality_name'].count())\n",
    "print ('Аномалии в параметре цены', data.query('last_price > 40000 or last_price < 500')['locality_name'].count())\n",
    "print ('Аномалии в параметре комнат', data.query('rooms > 10 or rooms == 0')['locality_name'].count())\n",
    "print ('Аномалии в параметре высоты потолков', data.query('ceiling_height > 5 or ceiling_height < 2')['rooms'].count())"
   ]
  },
  {
   "cell_type": "code",
   "execution_count": 62,
   "metadata": {},
   "outputs": [
    {
     "data": {
      "text/plain": [
       "2.080338266384778"
      ]
     },
     "execution_count": 62,
     "metadata": {},
     "output_type": "execute_result"
    }
   ],
   "source": [
    "(61 + 196 + 205 + 30) / data.shape[0] * 100"
   ]
  },
  {
   "cell_type": "markdown",
   "metadata": {},
   "source": [
    "Количество аномалий в данных не превышает 2%, можем удалить данные аномалии, так как они могут помешать проводить исследование далее"
   ]
  },
  {
   "cell_type": "code",
   "execution_count": 63,
   "metadata": {},
   "outputs": [],
   "source": [
    "# отсекем слишком большую площадь\n",
    "data = data.query('total_area < 150')\n",
    "\n",
    "# отсекем цену более 40000 и менее 500\n",
    "data = data.query('last_price < 40000 and last_price > 500')\n",
    "\n",
    "# отсекем квартиры с количеством комнат более 10\n",
    "data = data.query('rooms < 10')\n",
    "# квартиры с 0 количеством комнат заменим на 1\n",
    "data.loc[(data.rooms < 1), 'rooms'] = 1\n",
    "\n",
    "# отсекаем высоту потолков больше 10 метров\n",
    "data = data.query('ceiling_height < 5 and ceiling_height > 2')"
   ]
  },
  {
   "cell_type": "code",
   "execution_count": 64,
   "metadata": {
    "scrolled": false
   },
   "outputs": [
    {
     "data": {
      "text/plain": [
       "<function matplotlib.pyplot.show(close=None, block=None)>"
      ]
     },
     "execution_count": 64,
     "metadata": {},
     "output_type": "execute_result"
    },
    {
     "data": {
      "image/png": "[encoded data removed]",
      "text/plain": [
       "<Figure size 1080x720 with 4 Axes>"
      ]
     },
     "metadata": {
      "needs_background": "light"
     },
     "output_type": "display_data"
    }
   ],
   "source": [
    "# проверим результат\n",
    "fig = plt.figure( figsize=(15, 10))\n",
    "axes = fig.subplots(2, 2)\n",
    "\n",
    "columns = ['total_area', 'last_price', 'rooms', 'ceiling_height']\n",
    "\n",
    "axes[0, 0].hist(data['total_area'], bins=100, color='teal')\n",
    "axes[0, 0].set_title('Общая площадь')\n",
    "axes[0, 0].set_ylabel('Количество объявлений')\n",
    "\n",
    "axes[0, 1].hist(data['last_price'], bins=100, color='indianred')\n",
    "axes[0, 1].set_title('Последняя цена')\n",
    "axes[0, 1].set_ylabel('Количество объявлений')\n",
    " \n",
    "axes[1, 0].hist(data['rooms'], bins=20, color='y')\n",
    "axes[1, 0].set_title('Количество комнат')\n",
    "axes[1, 0].set_ylabel('Количество объявлений')\n",
    "axes[1, 1].set_xlim(0, 10)\n",
    "\n",
    "axes[1, 1].hist(data['ceiling_height'], bins=50, color='darkmagenta')\n",
    "axes[1, 1].set_title('Высота потолков')\n",
    "axes[1, 1].set_ylabel('Количество объявлений')\n",
    "axes[1, 1].set_xlim(2, 5)\n",
    "\n",
    "plt.show"
   ]
  },
  {
   "cell_type": "markdown",
   "metadata": {},
   "source": [
    "**Вывод**\n",
    "\n",
    "Мы избавились от аномальных значений, распределения параметров нормальные, можно проследить некоторые закономерности в данных:\n",
    "\n",
    "* Чаще всего в объявлениях встречаются квартиры от 30 до 60 кв/м\n",
    "* Средняя цена находится в диапазоне от 2 500 000 до 5 000 000\n",
    "* Квартиры чаще всего однокомнатные или двухкомнатные\n",
    "* Чаще всего высота потолков в квартирах 2.70 метра"
   ]
  },
  {
   "cell_type": "markdown",
   "metadata": {},
   "source": [
    "### Время продажи квартиры"
   ]
  },
  {
   "cell_type": "code",
   "execution_count": 65,
   "metadata": {},
   "outputs": [
    {
     "data": {
      "text/plain": [
       "Text(0, 0.5, 'Количество объявлений')"
      ]
     },
     "execution_count": 65,
     "metadata": {},
     "output_type": "execute_result"
    },
    {
     "data": {
      "image/png": "[encoded data removed]",
      "text/plain": [
       "<Figure size 432x288 with 1 Axes>"
      ]
     },
     "metadata": {
      "needs_background": "light"
     },
     "output_type": "display_data"
    }
   ],
   "source": [
    "# изучим время продажи квартиры\n",
    "data['days_exposition'].hist(bins=100)\n",
    "plt.title('Время продажи квартиры')\n",
    "plt.ylabel('Количество объявлений')"
   ]
  },
  {
   "cell_type": "code",
   "execution_count": 73,
   "metadata": {},
   "outputs": [
    {
     "data": {
      "text/plain": [
       "0.0"
      ]
     },
     "metadata": {},
     "output_type": "display_data"
    },
    {
     "data": {
      "text/plain": [
       "count    15470.000000\n",
       "mean       109.093471\n",
       "std         92.019691\n",
       "min          1.000000\n",
       "25%         33.000000\n",
       "50%         83.000000\n",
       "75%        163.000000\n",
       "max        364.000000\n",
       "Name: days_exposition, dtype: float64"
      ]
     },
     "metadata": {},
     "output_type": "display_data"
    },
    {
     "data": {
      "image/png": "[encoded data removed]",
      "text/plain": [
       "<Figure size 432x288 with 1 Axes>"
      ]
     },
     "metadata": {
      "needs_background": "light"
     },
     "output_type": "display_data"
    }
   ],
   "source": [
    "# проверим долю продаж дольше года и сделаем описание данных\n",
    "display (data[data['days_exposition'] > 365]['days_exposition'].count() / data.shape[0] * 100)\n",
    "display (data['days_exposition'].describe())\n",
    "\n",
    "data.boxplot(column='days_exposition')\n",
    "plt.title('Аномалии время продажи квартиры')\n",
    "plt.show()"
   ]
  },
  {
   "cell_type": "markdown",
   "metadata": {},
   "source": [
    "Cтандартное отклонение слишком велико, почти в два раза больше среднего, а значения больше 400 уже можно считать выбросами "
   ]
  },
  {
   "cell_type": "code",
   "execution_count": 68,
   "metadata": {},
   "outputs": [
    {
     "data": {
      "text/plain": [
       "Text(0, 0.5, 'Количество объявлений')"
      ]
     },
     "execution_count": 68,
     "metadata": {},
     "output_type": "execute_result"
    },
    {
     "data": {
      "image/png": "[encoded data removed]",
      "text/plain": [
       "<Figure size 720x216 with 1 Axes>"
      ]
     },
     "metadata": {
      "needs_background": "light"
     },
     "output_type": "display_data"
    }
   ],
   "source": [
    "# уберем аномально долгие продажи больше года\n",
    "data = data[data['days_exposition'] < 365]\n",
    "data['days_exposition'].hist(bins=200, figsize=(10, 3))\n",
    "plt.title('Время продажи квартиры')\n",
    "plt.ylabel('Количество объявлений')"
   ]
  },
  {
   "cell_type": "code",
   "execution_count": 69,
   "metadata": {
    "scrolled": false
   },
   "outputs": [
    {
     "data": {
      "text/plain": [
       "<AxesSubplot:>"
      ]
     },
     "execution_count": 69,
     "metadata": {},
     "output_type": "execute_result"
    },
    {
     "data": {
      "image/png": "[encoded data removed]",
      "text/plain": [
       "<Figure size 720x216 with 1 Axes>"
      ]
     },
     "metadata": {
      "needs_background": "light"
     },
     "output_type": "display_data"
    }
   ],
   "source": [
    "# уберем слишком часто встречающиеся значения\n",
    "data = data[data['days_exposition'] != 45]\n",
    "data = data[data['days_exposition'] != 60]\n",
    "data = data[data['days_exposition'] != 90]\n",
    "data['days_exposition'].hist(bins=200, figsize=(10, 3))"
   ]
  },
  {
   "cell_type": "code",
   "execution_count": 88,
   "metadata": {},
   "outputs": [
    {
     "data": {
      "image/png": "[encoded data removed]",
      "text/plain": [
       "<Figure size 432x288 with 1 Axes>"
      ]
     },
     "metadata": {
      "needs_background": "light"
     },
     "output_type": "display_data"
    }
   ],
   "source": [
    "import matplotlib.pyplot as plt\n",
    "data.boxplot(column='days_exposition')\n",
    "plt.title('Время продажи квартиры')\n",
    "plt.show()"
   ]
  },
  {
   "cell_type": "markdown",
   "metadata": {},
   "source": [
    "**Вывод**\n",
    "\n",
    "* До 50 дней - продажа прошла быстро\n",
    "* До 150 дней - среднее время продажи\n",
    "* До 350 дней - долгая продажа"
   ]
  },
  {
   "cell_type": "markdown",
   "metadata": {},
   "source": [
    "### Факторы, влияющие на цену квартиры"
   ]
  },
  {
   "cell_type": "markdown",
   "metadata": {},
   "source": [
    "Какие факторы больше всего влияют на стоимость квартиры? Изучим, зависит ли цена от площади, удалённости от центра. Изучим зависимость цены от того, на каком этаже расположена квартира: первом, последнем или другом. Также зависимость от даты размещения: дня недели, месяца и года."
   ]
  },
  {
   "cell_type": "markdown",
   "metadata": {},
   "source": [
    "Проверим, какие факторы больше всего влияют на стоимость квартиры.\n",
    "Для этого построим графики, которые показывают зависимость цены от следующих параметров:\n",
    "* Площадь\n",
    "* Количество комнат\n",
    "* Удаленность от центра\n",
    "* Этаж\n",
    "* День размещения\n",
    "* Месяц размещеня\n",
    "* Год размещения"
   ]
  },
  {
   "cell_type": "code",
   "execution_count": 75,
   "metadata": {},
   "outputs": [
    {
     "data": {
      "text/plain": [
       "Index(['last_price', 'total_area', 'rooms', 'ceiling_height', 'floors_total',\n",
       "       'living_area', 'floor', 'kitchen_area', 'balcony', 'locality_name',\n",
       "       'center_nearest', 'days_exposition', 'per_meter', 'weekday', 'month',\n",
       "       'year', 'living_to_total', 'kitchen_to_total'],\n",
       "      dtype='object')"
      ]
     },
     "execution_count": 75,
     "metadata": {},
     "output_type": "execute_result"
    }
   ],
   "source": [
    "data.columns"
   ]
  },
  {
   "cell_type": "code",
   "execution_count": 76,
   "metadata": {},
   "outputs": [
    {
     "name": "stderr",
     "output_type": "stream",
     "text": [
      "C:\\Users\\User\\AppData\\Local\\Temp/ipykernel_12504/37394770.py:20: SettingWithCopyWarning: \n",
      "A value is trying to be set on a copy of a slice from a DataFrame.\n",
      "Try using .loc[row_indexer,col_indexer] = value instead\n",
      "\n",
      "See the caveats in the documentation: https://pandas.pydata.org/pandas-docs/stable/user_guide/indexing.html#returning-a-view-versus-a-copy\n",
      "  clean_center['kilo_to_center'] = round(data['center_nearest'] / 1000).astype('Int64')\n"
     ]
    },
    {
     "data": {
      "text/plain": [
       "'Зависимость цены от площади: '"
      ]
     },
     "metadata": {},
     "output_type": "display_data"
    },
    {
     "data": {
      "text/html": [
       "<div>\n",
       "<style scoped>\n",
       "    .dataframe tbody tr th:only-of-type {\n",
       "        vertical-align: middle;\n",
       "    }\n",
       "\n",
       "    .dataframe tbody tr th {\n",
       "        vertical-align: top;\n",
       "    }\n",
       "\n",
       "    .dataframe thead th {\n",
       "        text-align: right;\n",
       "    }\n",
       "</style>\n",
       "<table border=\"1\" class=\"dataframe\">\n",
       "  <thead>\n",
       "    <tr style=\"text-align: right;\">\n",
       "      <th></th>\n",
       "      <th>total_area</th>\n",
       "      <th>last_price</th>\n",
       "    </tr>\n",
       "  </thead>\n",
       "  <tbody>\n",
       "    <tr>\n",
       "      <th>total_area</th>\n",
       "      <td>1.000000</td>\n",
       "      <td>0.736536</td>\n",
       "    </tr>\n",
       "    <tr>\n",
       "      <th>last_price</th>\n",
       "      <td>0.736536</td>\n",
       "      <td>1.000000</td>\n",
       "    </tr>\n",
       "  </tbody>\n",
       "</table>\n",
       "</div>"
      ],
      "text/plain": [
       "            total_area  last_price\n",
       "total_area    1.000000    0.736536\n",
       "last_price    0.736536    1.000000"
      ]
     },
     "metadata": {},
     "output_type": "display_data"
    },
    {
     "data": {
      "text/plain": [
       "'Зависимость цены от числа комнат'"
      ]
     },
     "metadata": {},
     "output_type": "display_data"
    },
    {
     "data": {
      "text/html": [
       "<div>\n",
       "<style scoped>\n",
       "    .dataframe tbody tr th:only-of-type {\n",
       "        vertical-align: middle;\n",
       "    }\n",
       "\n",
       "    .dataframe tbody tr th {\n",
       "        vertical-align: top;\n",
       "    }\n",
       "\n",
       "    .dataframe thead th {\n",
       "        text-align: right;\n",
       "    }\n",
       "</style>\n",
       "<table border=\"1\" class=\"dataframe\">\n",
       "  <thead>\n",
       "    <tr style=\"text-align: right;\">\n",
       "      <th></th>\n",
       "      <th>rooms</th>\n",
       "      <th>last_price</th>\n",
       "    </tr>\n",
       "  </thead>\n",
       "  <tbody>\n",
       "    <tr>\n",
       "      <th>rooms</th>\n",
       "      <td>1.00000</td>\n",
       "      <td>0.44811</td>\n",
       "    </tr>\n",
       "    <tr>\n",
       "      <th>last_price</th>\n",
       "      <td>0.44811</td>\n",
       "      <td>1.00000</td>\n",
       "    </tr>\n",
       "  </tbody>\n",
       "</table>\n",
       "</div>"
      ],
      "text/plain": [
       "              rooms  last_price\n",
       "rooms       1.00000     0.44811\n",
       "last_price  0.44811     1.00000"
      ]
     },
     "metadata": {},
     "output_type": "display_data"
    },
    {
     "data": {
      "text/plain": [
       "'Зависимость цены от удаленности от центра'"
      ]
     },
     "metadata": {},
     "output_type": "display_data"
    },
    {
     "data": {
      "text/html": [
       "<div>\n",
       "<style scoped>\n",
       "    .dataframe tbody tr th:only-of-type {\n",
       "        vertical-align: middle;\n",
       "    }\n",
       "\n",
       "    .dataframe tbody tr th {\n",
       "        vertical-align: top;\n",
       "    }\n",
       "\n",
       "    .dataframe thead th {\n",
       "        text-align: right;\n",
       "    }\n",
       "</style>\n",
       "<table border=\"1\" class=\"dataframe\">\n",
       "  <thead>\n",
       "    <tr style=\"text-align: right;\">\n",
       "      <th></th>\n",
       "      <th>center_nearest</th>\n",
       "      <th>per_meter</th>\n",
       "    </tr>\n",
       "  </thead>\n",
       "  <tbody>\n",
       "    <tr>\n",
       "      <th>center_nearest</th>\n",
       "      <td>1.00000</td>\n",
       "      <td>-0.36872</td>\n",
       "    </tr>\n",
       "    <tr>\n",
       "      <th>per_meter</th>\n",
       "      <td>-0.36872</td>\n",
       "      <td>1.00000</td>\n",
       "    </tr>\n",
       "  </tbody>\n",
       "</table>\n",
       "</div>"
      ],
      "text/plain": [
       "                center_nearest  per_meter\n",
       "center_nearest         1.00000   -0.36872\n",
       "per_meter             -0.36872    1.00000"
      ]
     },
     "metadata": {},
     "output_type": "display_data"
    },
    {
     "data": {
      "image/png": "[encoded data removed]",
      "text/plain": [
       "<Figure size 1080x720 with 4 Axes>"
      ]
     },
     "metadata": {
      "needs_background": "light"
     },
     "output_type": "display_data"
    }
   ],
   "source": [
    "fig = plt.figure( figsize=(15, 10))\n",
    "axes = fig.subplots(2, 2)\n",
    "\n",
    "# ПЛОЩАДЬ\n",
    "axes[0, 0].scatter(x=data['total_area'], y=data['last_price'],  alpha=0.3, color='teal')\n",
    "axes[0, 0].set_title('Общая площадь')\n",
    "axes[0, 0].set_ylabel('Цена')\n",
    "\n",
    "# ЧИСЛО КОМНАТ\n",
    "rooms_median = data.pivot_table(index='rooms', values='last_price', aggfunc='median')\n",
    "axes[0, 1].bar(x=rooms_median.index, height=rooms_median['last_price'], color='lightgreen')\n",
    "axes[0, 1].set_title('Количество комнат')\n",
    "axes[0, 1].set_ylabel('Цена')\n",
    "\n",
    "# УДАЛЕННОСТЬ ОТ ЦЕНТРА\n",
    "# сначала очистим от аномальных значений\n",
    "clean_center = data[data['center_nearest'] < 25000]\n",
    "\n",
    "# добавим столбец с расстоянием до центра в километрах\n",
    "clean_center['kilo_to_center'] = round(data['center_nearest'] / 1000).astype('Int64')\n",
    "axes[1, 0].scatter(x=clean_center['center_nearest'], y=clean_center['per_meter'], alpha=0.3, color='olive')\n",
    "axes[1, 0].set_title('Расстояние до центра')\n",
    "axes[1, 0].set_ylabel('Цена')\n",
    "\n",
    "# ЭТАЖ\n",
    "floor_median = data.pivot_table(index='floor', values='last_price', aggfunc='median')\n",
    "axes[1, 1].bar(x=floor_median.index, height=floor_median['last_price'], color='purple')\n",
    "\n",
    "\n",
    "display ('Зависимость цены от площади: ', data[['total_area', 'last_price']].corr())\n",
    "display ('Зависимость цены от числа комнат', data[['rooms','last_price']].corr())\n",
    "display ('Зависимость цены от удаленности от центра', clean_center[['center_nearest', 'per_meter']].corr())"
   ]
  },
  {
   "cell_type": "markdown",
   "metadata": {},
   "source": [
    "**Вывод**\n",
    "\n",
    "* Цена квартиры напрямую коррелирует с общей площадью квартиры, значит параметр площади - важный фактор при оценивании квартиры\n",
    "* Цена также зависит от количества комнат, однако здесь мы анализируем отношение общей цены и число комнат. Цена за квадратный метр в однокомнатной квартире будет больше, чем в квартире с 2 и больше комнатами.\n",
    "* Цена зависит от удаленности от центра, однако не связь слабее, чем у цены и площади.\n",
    "* Квартиры на первом этаже чаще дешевле."
   ]
  },
  {
   "cell_type": "markdown",
   "metadata": {},
   "source": [
    "Проверим зависимость цены от даты размещения: дня недели, месяца и года."
   ]
  },
  {
   "cell_type": "code",
   "execution_count": 77,
   "metadata": {},
   "outputs": [
    {
     "data": {
      "image/png": "[encoded data removed]",
      "text/plain": [
       "<Figure size 432x288 with 1 Axes>"
      ]
     },
     "metadata": {
      "needs_background": "light"
     },
     "output_type": "display_data"
    },
    {
     "data": {
      "image/png": "[encoded data removed]",
      "text/plain": [
       "<Figure size 432x288 with 1 Axes>"
      ]
     },
     "metadata": {
      "needs_background": "light"
     },
     "output_type": "display_data"
    },
    {
     "data": {
      "text/plain": [
       "<AxesSubplot:title={'center':'Отношение цены и года'}, xlabel='year'>"
      ]
     },
     "execution_count": 77,
     "metadata": {},
     "output_type": "execute_result"
    },
    {
     "data": {
      "image/png": "[encoded data removed]",
      "text/plain": [
       "<Figure size 432x288 with 1 Axes>"
      ]
     },
     "metadata": {
      "needs_background": "light"
     },
     "output_type": "display_data"
    }
   ],
   "source": [
    "data.groupby('weekday')['per_meter'].median().plot(x='weekday', y='per_meter', title='Отношение цены и дня недели')\n",
    "plt.show()\n",
    "data.groupby('month')['per_meter'].median().plot(x='month', y='per_meter', title='Отношение цены и месяца')\n",
    "plt.show()\n",
    "data.groupby('year')['per_meter'].median().plot(x='year', y='per_meter', title='Отношение цены и года')\n"
   ]
  },
  {
   "cell_type": "markdown",
   "metadata": {},
   "source": [
    "**Вывод**\n",
    "\n",
    "* Медианная цена за квадратный метр в течении недели меняется: объявления, выставленные в середине недели имеют самую высокую цену, а объявления, выставленные в выходные - самые выгодные.\n",
    "* В течении года наибольшие изменения мы наблюдаем с апреля по июнь и в декабре, когда цена за квадратный метр достигает минимального значения, в противоположном случае - цена достигает своего максимального значения к сентябрю и снижается к ноябрю.\n",
    "* С каждым годом цены на квартиры стабильно растут"
   ]
  },
  {
   "cell_type": "markdown",
   "metadata": {},
   "source": [
    "### Расположения квартир"
   ]
  },
  {
   "cell_type": "markdown",
   "metadata": {},
   "source": [
    "Проанализируем, как меняется цена в различных населенных пунктах. Выберем 10 пунктов с наибольшим числом объявлений и посчитаем среднюю цену квадратного метра в них, выделим населенные пункты с самой высокой и низкой стоимостью жилья."
   ]
  },
  {
   "cell_type": "code",
   "execution_count": 78,
   "metadata": {},
   "outputs": [
    {
     "data": {
      "text/html": [
       "<div>\n",
       "<style scoped>\n",
       "    .dataframe tbody tr th:only-of-type {\n",
       "        vertical-align: middle;\n",
       "    }\n",
       "\n",
       "    .dataframe tbody tr th {\n",
       "        vertical-align: top;\n",
       "    }\n",
       "\n",
       "    .dataframe thead tr th {\n",
       "        text-align: left;\n",
       "    }\n",
       "\n",
       "    .dataframe thead tr:last-of-type th {\n",
       "        text-align: right;\n",
       "    }\n",
       "</style>\n",
       "<table border=\"1\" class=\"dataframe\">\n",
       "  <thead>\n",
       "    <tr>\n",
       "      <th></th>\n",
       "      <th>count</th>\n",
       "      <th>mean</th>\n",
       "      <th>min</th>\n",
       "      <th>max</th>\n",
       "    </tr>\n",
       "    <tr>\n",
       "      <th></th>\n",
       "      <th>per_meter</th>\n",
       "      <th>per_meter</th>\n",
       "      <th>per_meter</th>\n",
       "      <th>per_meter</th>\n",
       "    </tr>\n",
       "    <tr>\n",
       "      <th>locality_name</th>\n",
       "      <th></th>\n",
       "      <th></th>\n",
       "      <th></th>\n",
       "      <th></th>\n",
       "    </tr>\n",
       "  </thead>\n",
       "  <tbody>\n",
       "    <tr>\n",
       "      <th>выборг</th>\n",
       "      <td>149</td>\n",
       "      <td>57.053691</td>\n",
       "      <td>19</td>\n",
       "      <td>86</td>\n",
       "    </tr>\n",
       "    <tr>\n",
       "      <th>гатчина</th>\n",
       "      <td>197</td>\n",
       "      <td>67.675127</td>\n",
       "      <td>11</td>\n",
       "      <td>106</td>\n",
       "    </tr>\n",
       "    <tr>\n",
       "      <th>всеволожск</th>\n",
       "      <td>255</td>\n",
       "      <td>69.239216</td>\n",
       "      <td>31</td>\n",
       "      <td>642</td>\n",
       "    </tr>\n",
       "    <tr>\n",
       "      <th>колпино</th>\n",
       "      <td>242</td>\n",
       "      <td>74.785124</td>\n",
       "      <td>48</td>\n",
       "      <td>125</td>\n",
       "    </tr>\n",
       "    <tr>\n",
       "      <th>поселок шушары</th>\n",
       "      <td>327</td>\n",
       "      <td>78.522936</td>\n",
       "      <td>48</td>\n",
       "      <td>148</td>\n",
       "    </tr>\n",
       "    <tr>\n",
       "      <th>поселок мурино</th>\n",
       "      <td>455</td>\n",
       "      <td>85.885714</td>\n",
       "      <td>50</td>\n",
       "      <td>140</td>\n",
       "    </tr>\n",
       "    <tr>\n",
       "      <th>поселок парголово</th>\n",
       "      <td>226</td>\n",
       "      <td>89.362832</td>\n",
       "      <td>48</td>\n",
       "      <td>138</td>\n",
       "    </tr>\n",
       "    <tr>\n",
       "      <th>деревня кудрово</th>\n",
       "      <td>227</td>\n",
       "      <td>92.444934</td>\n",
       "      <td>54</td>\n",
       "      <td>143</td>\n",
       "    </tr>\n",
       "    <tr>\n",
       "      <th>пушкин</th>\n",
       "      <td>241</td>\n",
       "      <td>101.925311</td>\n",
       "      <td>60</td>\n",
       "      <td>257</td>\n",
       "    </tr>\n",
       "    <tr>\n",
       "      <th>санкт-петербург</th>\n",
       "      <td>10380</td>\n",
       "      <td>108.516281</td>\n",
       "      <td>15</td>\n",
       "      <td>467</td>\n",
       "    </tr>\n",
       "  </tbody>\n",
       "</table>\n",
       "</div>"
      ],
      "text/plain": [
       "                      count        mean       min       max\n",
       "                  per_meter   per_meter per_meter per_meter\n",
       "locality_name                                              \n",
       "выборг                  149   57.053691        19        86\n",
       "гатчина                 197   67.675127        11       106\n",
       "всеволожск              255   69.239216        31       642\n",
       "колпино                 242   74.785124        48       125\n",
       "поселок шушары          327   78.522936        48       148\n",
       "поселок мурино          455   85.885714        50       140\n",
       "поселок парголово       226   89.362832        48       138\n",
       "деревня кудрово         227   92.444934        54       143\n",
       "пушкин                  241  101.925311        60       257\n",
       "санкт-петербург       10380  108.516281        15       467"
      ]
     },
     "execution_count": 78,
     "metadata": {},
     "output_type": "execute_result"
    }
   ],
   "source": [
    "# найдем населенные пункты с наибольшим числом объявлений\n",
    "data_pivot = data.pivot_table(index='locality_name', values='per_meter',\n",
    "                              aggfunc=['count', 'mean', 'min', 'max']\n",
    "                             ).sort_values(('count', 'per_meter'),ascending=False).head(10)\n",
    "data_pivot.sort_values(('mean', 'per_meter'))"
   ]
  },
  {
   "cell_type": "markdown",
   "metadata": {},
   "source": [
    "Среди населенных пунктов с большим количеством объявлений - Санкт-Петербург, Пушкин, Деревня Кудрово - пункты с самой дорогой ценой за квадратный метр и Выборг, Всеволожск, Гатчина - с самой дешевой."
   ]
  },
  {
   "cell_type": "markdown",
   "metadata": {},
   "source": [
    "**Анализ зависимости цены от удаленности от центра**\n",
    "\n",
    "Изучим предложения квартир: для каждой квартиры есть информация о расстоянии до центра. Выясним, какая область входит в центр и посмотрим, как как цена зависит от удалённости от центра. "
   ]
  },
  {
   "cell_type": "code",
   "execution_count": 86,
   "metadata": {
    "scrolled": false
   },
   "outputs": [
    {
     "data": {
      "image/png": "[encoded data removed]",
      "text/plain": [
       "<Figure size 432x288 with 1 Axes>"
      ]
     },
     "metadata": {
      "needs_background": "light"
     },
     "output_type": "display_data"
    }
   ],
   "source": [
    "data['kilo_to_center'] = round(data['center_nearest'] / 1000).astype('Int64')\n",
    "\n",
    "# создадим новую таблицу с объявлениями в Питере\n",
    "piter_flats = data[data['locality_name'] == 'санкт-петербург']\n",
    "piter_flats = data[data['kilo_to_center'] < 27]\n",
    "\n",
    "# построим график зависимости цены от удаленности от центра\n",
    "piter_flats.groupby('kilo_to_center')['per_meter'].mean().plot()\n",
    "plt.title('Цена в зависимости от удаленности от центра')\n",
    "plt.xlabel('КМ до центра')\n",
    "plt.show()"
   ]
  },
  {
   "cell_type": "markdown",
   "metadata": {},
   "source": [
    "Определим границу, где график сильно меняется, — это и будет центральная зона. Цена квартир заметно снижается на 3 километре, подъем после 3 можно объяснить тем, что тут появляются особые квартиры с большей площадью, например, или с хорошим видом. Будем считать до 3 км - центр города. "
   ]
  },
  {
   "cell_type": "markdown",
   "metadata": {},
   "source": [
    "**Анализ квартир в центре**\n",
    "\n",
    "Проанализируем сегмент квартир в центре и изучим следующие параметры: площадь, цена, число комнат, высота потолков. Также выделим факторы, которые влияют на стоимость квартиры и посмотрим, отличаются ли они от общих выводов по всему городу."
   ]
  },
  {
   "cell_type": "code",
   "execution_count": 82,
   "metadata": {},
   "outputs": [],
   "source": [
    "# создаем отдельную таблицу квартир в центре Санкт-Петербурга и на окраинах\n",
    "piter_center = data.loc[(data['locality_name'] == 'санкт-петербург') & (data['kilo_to_center'] <= 3)]\n",
    "piter_out = data.loc[(data['locality_name'] == 'санкт-петербург') & (data['kilo_to_center'] >= 3)]"
   ]
  },
  {
   "cell_type": "code",
   "execution_count": 83,
   "metadata": {
    "scrolled": false
   },
   "outputs": [
    {
     "data": {
      "image/png": "[encoded data removed]",
      "text/plain": [
       "<Figure size 720x216 with 1 Axes>"
      ]
     },
     "metadata": {
      "needs_background": "light"
     },
     "output_type": "display_data"
    },
    {
     "data": {
      "image/png": "[encoded data removed]",
      "text/plain": [
       "<Figure size 720x216 with 1 Axes>"
      ]
     },
     "metadata": {
      "needs_background": "light"
     },
     "output_type": "display_data"
    },
    {
     "data": {
      "image/png": "[encoded data removed]",
      "text/plain": [
       "<Figure size 720x216 with 1 Axes>"
      ]
     },
     "metadata": {
      "needs_background": "light"
     },
     "output_type": "display_data"
    },
    {
     "data": {
      "image/png": "[encoded data removed]",
      "text/plain": [
       "<Figure size 720x216 with 1 Axes>"
      ]
     },
     "metadata": {
      "needs_background": "light"
     },
     "output_type": "display_data"
    },
    {
     "data": {
      "image/png": "[encoded data removed]",
      "text/plain": [
       "<Figure size 720x216 with 1 Axes>"
      ]
     },
     "metadata": {
      "needs_background": "light"
     },
     "output_type": "display_data"
    },
    {
     "data": {
      "image/png": "[encoded data removed]",
      "text/plain": [
       "<Figure size 720x216 with 1 Axes>"
      ]
     },
     "metadata": {
      "needs_background": "light"
     },
     "output_type": "display_data"
    }
   ],
   "source": [
    "# проанализируем параметры, влияющие на стоимость квартиры в центре\n",
    "parameters = ['rooms', 'floor', 'kilo_to_center', 'weekday', 'month', 'year']\n",
    "names = ['Число комнат', 'Этаж', 'Расстояние до центра', 'День недели', 'Месяц', 'Год']\n",
    "for i in range(len(parameters)):\n",
    "    piter_center_rooms = piter_center.pivot_table(index=parameters[i], values='per_meter', aggfunc='median')\n",
    "    piter_center_rooms.plot(y='per_meter', kind='bar', grid=True, figsize = (10, 3), title=names[i])\n",
    "\n",
    "\n",
    "    \n"
   ]
  },
  {
   "cell_type": "markdown",
   "metadata": {},
   "source": [
    "* Квадратный метр дороже всего в однокомнатных квартирах, а так же в квартирах с 6 комнатами\n",
    "* Квартиры, находящиеся на первом этаже стоят дешевле\n",
    "* Квартиры на расстоянии до 1 километра и в 3х километрах от центра чуть дешевле всех остальных, расположенных в центральной части Питера\n",
    "* Квартиры, выставленные в четверг и в воскресенье немного дешевле обходятся, чем в другие дни\n",
    "* Самые выгодные месяцы для покупки квартиры - апрель, май\n",
    "* С каждым годом стоимость квадратного метра в центре Питера растет"
   ]
  },
  {
   "cell_type": "code",
   "execution_count": 84,
   "metadata": {
    "scrolled": false
   },
   "outputs": [
    {
     "data": {
      "image/png": "[encoded data removed]",
      "text/plain": [
       "<Figure size 432x288 with 1 Axes>"
      ]
     },
     "metadata": {
      "needs_background": "light"
     },
     "output_type": "display_data"
    },
    {
     "data": {
      "image/png": "[encoded data removed]",
      "text/plain": [
       "<Figure size 432x288 with 1 Axes>"
      ]
     },
     "metadata": {
      "needs_background": "light"
     },
     "output_type": "display_data"
    },
    {
     "data": {
      "image/png": "[encoded data removed]",
      "text/plain": [
       "<Figure size 432x288 with 1 Axes>"
      ]
     },
     "metadata": {
      "needs_background": "light"
     },
     "output_type": "display_data"
    },
    {
     "data": {
      "image/png": "[encoded data removed]",
      "text/plain": [
       "<Figure size 432x288 with 1 Axes>"
      ]
     },
     "metadata": {
      "needs_background": "light"
     },
     "output_type": "display_data"
    }
   ],
   "source": [
    "# создаем цикл для построения гистограм\n",
    "columns = ['total_area', 'last_price', 'rooms', 'ceiling_height']\n",
    "name = ['общая площадь', 'цена, млн.руб', 'количество комнат', 'высота потолков, м']\n",
    "for column in range(len(columns)):\n",
    "    piter_center[columns[column]].hist(bins=50, alpha=0.5)\n",
    "    piter_out[columns[column]].hist(bins=50, alpha=0.5)\n",
    "    plt.ylabel('количество объявлений')\n",
    "    plt.xlabel(name[column])\n",
    "    plt.show()"
   ]
  },
  {
   "cell_type": "markdown",
   "metadata": {},
   "source": [
    "* Площадь квартир в центре Санкт-Петербурга в среднем больше средней площади по всему городу\n",
    "* Средняя цена объявлений во всем городе от 2 до 5.5 млн, тогда как в центре от 5 до 8 млн\n",
    "* Большинство объявлений в центре Питера - двухкомнатные и трехкомнатные квартиры, а по всему городу чаще всего выставляют однокомнатные\n",
    "* Высота потолков в центральной части Питера (3м) в среднем больше высоты потолков в остальном городе (2.5м)"
   ]
  },
  {
   "cell_type": "markdown",
   "metadata": {},
   "source": [
    "## Общий вывод"
   ]
  },
  {
   "cell_type": "markdown",
   "metadata": {},
   "source": [
    "1) Чаще всего в объявлениях встречаются квартиры от 30 до 60 кв/м. Средняя цена находится в диапазоне от 2 500 000 до 5 000 000 млн руб. Квартиры чаще всего однокомнатные или двухкомнатные. Высота потолков в квартирах в среднем 2.7 метра. Среднее время продажи квартиры от 50 до 150 дней.\n",
    "\n",
    "2) Последняя цена квартиры напрямую зависит от количества комнат. Цена квартиры коррелирует с общей площадью квартиры, наиболее выгодная цена за квадратный метр у квартир с 3-5 комнатами. Чем дальше от центра находится квартира, тем меньше ее стоимость.\n",
    "\n",
    "3) Центральная часть Санкт-Петербурга. Квартиры, находящиеся на первых этажах обычно стоят дешевле. До 1 км до центра и в трех километрах от центра квартиры чуть дешевле всех остальных, расположенных в центральной части Питера. С каждым годом стоимость квадратного метра в центре Питера растет.\n",
    "\n",
    "4) Центр в сравнении с окраинами. Площадь квартир в центре Санкт-Петербурга в среднем больше средней площади по всему городу. Средняя цена объявлений во всем городе от 2 до 5.5 млн, тогда как в центре от 5 до 8 млн. Большинство объявлений в центре Питера - двухкомнатные и трехкомнатные квартиры, а по всему городу чаще всего выставляют однокомнатные. Высота потолков в центральной части Питера (3м) в среднем больше высоты потолков в остальном городе (2.5м)."
   ]
  }
 ],
 "metadata": {
  "ExecuteTimeLog": [
   {
    "duration": 974,
    "start_time": "2022-01-21T11:22:56.993Z"
   },
   {
    "duration": 103,
    "start_time": "2022-01-21T11:24:01.446Z"
   },
   {
    "duration": 99,
    "start_time": "2022-01-21T11:26:18.337Z"
   },
   {
    "duration": 278,
    "start_time": "2022-01-21T11:26:28.514Z"
   },
   {
    "duration": 78,
    "start_time": "2022-01-21T11:26:34.091Z"
   },
   {
    "duration": 92,
    "start_time": "2022-01-21T11:27:38.015Z"
   },
   {
    "duration": 135,
    "start_time": "2022-01-21T11:27:55.891Z"
   },
   {
    "duration": 88,
    "start_time": "2022-01-21T11:28:01.405Z"
   },
   {
    "duration": 853,
    "start_time": "2022-01-21T11:28:47.074Z"
   },
   {
    "duration": 211,
    "start_time": "2022-01-21T11:35:11.938Z"
   },
   {
    "duration": 438,
    "start_time": "2022-01-21T11:35:22.854Z"
   },
   {
    "duration": 115,
    "start_time": "2022-01-21T11:35:46.712Z"
   },
   {
    "duration": 329,
    "start_time": "2022-01-21T11:35:49.968Z"
   },
   {
    "duration": 86,
    "start_time": "2022-01-21T11:36:06.034Z"
   },
   {
    "duration": 384,
    "start_time": "2022-01-21T11:36:57.776Z"
   },
   {
    "duration": 83,
    "start_time": "2022-01-21T11:37:16.912Z"
   },
   {
    "duration": 96,
    "start_time": "2022-01-21T11:38:59.706Z"
   },
   {
    "duration": 296,
    "start_time": "2022-01-21T11:42:06.129Z"
   },
   {
    "duration": 118,
    "start_time": "2022-01-21T11:42:11.641Z"
   },
   {
    "duration": 85,
    "start_time": "2022-01-21T11:42:20.393Z"
   },
   {
    "duration": 107,
    "start_time": "2022-01-21T11:42:32.161Z"
   },
   {
    "duration": 78,
    "start_time": "2022-01-21T11:42:37.678Z"
   },
   {
    "duration": 80,
    "start_time": "2022-01-21T11:46:07.986Z"
   },
   {
    "duration": 149,
    "start_time": "2022-01-21T11:48:14.702Z"
   },
   {
    "duration": 177,
    "start_time": "2022-01-21T11:48:44.337Z"
   },
   {
    "duration": 143,
    "start_time": "2022-01-21T11:48:54.177Z"
   },
   {
    "duration": 184,
    "start_time": "2022-01-21T11:53:45.218Z"
   },
   {
    "duration": 15,
    "start_time": "2022-01-21T12:01:00.153Z"
   },
   {
    "duration": 42,
    "start_time": "2022-01-21T12:02:06.430Z"
   },
   {
    "duration": 55,
    "start_time": "2022-01-21T12:02:23.646Z"
   },
   {
    "duration": 54,
    "start_time": "2022-01-21T12:04:01.042Z"
   },
   {
    "duration": 324,
    "start_time": "2022-01-21T12:05:28.378Z"
   },
   {
    "duration": 136,
    "start_time": "2022-01-21T12:06:08.171Z"
   },
   {
    "duration": 46,
    "start_time": "2022-01-21T12:06:09.994Z"
   },
   {
    "duration": 5,
    "start_time": "2022-01-21T12:06:49.188Z"
   },
   {
    "duration": 54,
    "start_time": "2022-01-21T12:06:56.763Z"
   },
   {
    "duration": 87,
    "start_time": "2022-01-21T12:09:15.072Z"
   },
   {
    "duration": 67,
    "start_time": "2022-01-21T12:09:42.974Z"
   },
   {
    "duration": 80,
    "start_time": "2022-01-21T12:11:48.899Z"
   },
   {
    "duration": 76,
    "start_time": "2022-01-21T12:12:07.820Z"
   },
   {
    "duration": 72,
    "start_time": "2022-01-21T12:12:20.229Z"
   },
   {
    "duration": 14,
    "start_time": "2022-01-21T12:12:46.311Z"
   },
   {
    "duration": 18,
    "start_time": "2022-01-21T12:12:57.706Z"
   },
   {
    "duration": 25,
    "start_time": "2022-01-21T12:13:05.961Z"
   },
   {
    "duration": 34,
    "start_time": "2022-01-21T12:13:25.950Z"
   },
   {
    "duration": 333,
    "start_time": "2022-01-21T12:26:45.145Z"
   },
   {
    "duration": 7,
    "start_time": "2022-01-21T12:27:03.344Z"
   },
   {
    "duration": 372,
    "start_time": "2022-01-21T12:27:12.324Z"
   },
   {
    "duration": 323,
    "start_time": "2022-01-21T12:28:33.703Z"
   },
   {
    "duration": 339,
    "start_time": "2022-01-21T12:30:35.080Z"
   },
   {
    "duration": 1067,
    "start_time": "2022-01-21T12:30:52.386Z"
   },
   {
    "duration": 359,
    "start_time": "2022-01-21T12:31:10.170Z"
   },
   {
    "duration": 505,
    "start_time": "2022-01-21T12:32:22.794Z"
   },
   {
    "duration": 305,
    "start_time": "2022-01-21T12:32:32.741Z"
   },
   {
    "duration": 317,
    "start_time": "2022-01-21T12:32:38.780Z"
   },
   {
    "duration": 561,
    "start_time": "2022-01-21T12:32:45.160Z"
   },
   {
    "duration": 301,
    "start_time": "2022-01-21T12:33:20.986Z"
   },
   {
    "duration": 327,
    "start_time": "2022-01-21T12:33:58.784Z"
   },
   {
    "duration": 7839,
    "start_time": "2022-01-21T12:34:35.609Z"
   },
   {
    "duration": 7669,
    "start_time": "2022-01-21T12:35:31.471Z"
   },
   {
    "duration": 8682,
    "start_time": "2022-01-21T12:35:40.963Z"
   },
   {
    "duration": 4,
    "start_time": "2022-01-21T12:37:12.481Z"
   },
   {
    "duration": 8953,
    "start_time": "2022-01-21T12:37:15.830Z"
   },
   {
    "duration": 330,
    "start_time": "2022-01-21T12:40:34.170Z"
   },
   {
    "duration": 836,
    "start_time": "2022-01-21T12:41:02.158Z"
   },
   {
    "duration": 348,
    "start_time": "2022-01-21T12:41:47.886Z"
   },
   {
    "duration": 136,
    "start_time": "2022-01-21T12:41:52.519Z"
   },
   {
    "duration": 47,
    "start_time": "2022-01-21T12:41:56.090Z"
   },
   {
    "duration": 32,
    "start_time": "2022-01-21T12:41:58.044Z"
   },
   {
    "duration": 42,
    "start_time": "2022-01-21T12:42:00.229Z"
   },
   {
    "duration": 42,
    "start_time": "2022-01-21T12:42:08.934Z"
   },
   {
    "duration": 931,
    "start_time": "2022-01-21T12:42:18.383Z"
   },
   {
    "duration": 53,
    "start_time": "2022-01-21T12:42:21.141Z"
   },
   {
    "duration": 48,
    "start_time": "2022-01-21T12:42:23.106Z"
   },
   {
    "duration": 46,
    "start_time": "2022-01-21T12:42:24.924Z"
   },
   {
    "duration": 44,
    "start_time": "2022-01-21T12:42:48.958Z"
   },
   {
    "duration": 43,
    "start_time": "2022-01-21T12:43:06.357Z"
   },
   {
    "duration": 11,
    "start_time": "2022-01-21T12:43:11.193Z"
   },
   {
    "duration": 10,
    "start_time": "2022-01-21T12:44:14.287Z"
   },
   {
    "duration": 80,
    "start_time": "2022-01-21T12:44:47.118Z"
   },
   {
    "duration": 40,
    "start_time": "2022-01-21T12:45:11.781Z"
   },
   {
    "duration": 51,
    "start_time": "2022-01-21T12:51:28.362Z"
   },
   {
    "duration": 6,
    "start_time": "2022-01-21T12:52:15.058Z"
   },
   {
    "duration": 7,
    "start_time": "2022-01-21T12:52:28.657Z"
   },
   {
    "duration": 12,
    "start_time": "2022-01-21T12:52:49.324Z"
   },
   {
    "duration": 62,
    "start_time": "2022-01-21T13:05:33.981Z"
   },
   {
    "duration": 11,
    "start_time": "2022-01-21T13:07:35.484Z"
   },
   {
    "duration": 425,
    "start_time": "2022-01-21T13:10:18.016Z"
   },
   {
    "duration": 9565,
    "start_time": "2022-01-21T13:15:58.901Z"
   },
   {
    "duration": 925,
    "start_time": "2022-01-21T13:16:36.001Z"
   },
   {
    "duration": 82,
    "start_time": "2022-01-21T13:16:38.424Z"
   },
   {
    "duration": 60,
    "start_time": "2022-01-21T13:16:39.850Z"
   },
   {
    "duration": 33,
    "start_time": "2022-01-21T13:17:00.733Z"
   },
   {
    "duration": 75,
    "start_time": "2022-01-21T13:44:07.516Z"
   },
   {
    "duration": 6,
    "start_time": "2022-01-21T13:44:12.059Z"
   },
   {
    "duration": 103,
    "start_time": "2022-01-21T13:44:34.964Z"
   },
   {
    "duration": 14,
    "start_time": "2022-01-21T13:45:08.022Z"
   },
   {
    "duration": 13,
    "start_time": "2022-01-21T13:45:11.628Z"
   },
   {
    "duration": 79,
    "start_time": "2022-01-21T13:45:19.231Z"
   },
   {
    "duration": 16,
    "start_time": "2022-01-21T13:46:15.057Z"
   },
   {
    "duration": 30,
    "start_time": "2022-01-21T13:49:03.652Z"
   },
   {
    "duration": 18,
    "start_time": "2022-01-21T13:49:08.186Z"
   },
   {
    "duration": 301,
    "start_time": "2022-01-23T08:51:14.092Z"
   },
   {
    "duration": 253,
    "start_time": "2022-01-23T08:51:27.553Z"
   },
   {
    "duration": 716,
    "start_time": "2022-01-23T08:51:34.889Z"
   },
   {
    "duration": 45,
    "start_time": "2022-01-23T08:51:39.021Z"
   },
   {
    "duration": 11,
    "start_time": "2022-01-23T08:51:40.158Z"
   },
   {
    "duration": 267,
    "start_time": "2022-01-23T08:51:41.315Z"
   },
   {
    "duration": 251,
    "start_time": "2022-01-23T08:52:03.641Z"
   },
   {
    "duration": 8,
    "start_time": "2022-01-23T08:53:42.961Z"
   },
   {
    "duration": 5,
    "start_time": "2022-01-23T08:57:55.785Z"
   },
   {
    "duration": 264,
    "start_time": "2022-01-23T08:58:43.764Z"
   },
   {
    "duration": 7378,
    "start_time": "2022-01-23T08:58:56.096Z"
   },
   {
    "duration": 6766,
    "start_time": "2022-01-23T09:00:13.854Z"
   },
   {
    "duration": 7082,
    "start_time": "2022-01-23T09:00:28.113Z"
   },
   {
    "duration": 264,
    "start_time": "2022-01-23T09:00:45.930Z"
   },
   {
    "duration": 7035,
    "start_time": "2022-01-23T09:01:02.976Z"
   },
   {
    "duration": 686,
    "start_time": "2022-01-23T09:01:25.311Z"
   },
   {
    "duration": 44,
    "start_time": "2022-01-23T09:01:28.070Z"
   },
   {
    "duration": 10,
    "start_time": "2022-01-23T09:01:29.274Z"
   },
   {
    "duration": 7270,
    "start_time": "2022-01-23T09:01:30.591Z"
   },
   {
    "duration": 6798,
    "start_time": "2022-01-23T09:08:35.179Z"
   },
   {
    "duration": 7,
    "start_time": "2022-01-23T09:08:54.746Z"
   },
   {
    "duration": 138,
    "start_time": "2022-01-23T09:13:18.378Z"
   },
   {
    "duration": 453,
    "start_time": "2022-01-23T09:13:46.414Z"
   },
   {
    "duration": 7072,
    "start_time": "2022-01-23T09:17:36.382Z"
   },
   {
    "duration": 389,
    "start_time": "2022-01-23T09:20:29.001Z"
   },
   {
    "duration": 7276,
    "start_time": "2022-01-23T09:20:45.963Z"
   },
   {
    "duration": 7008,
    "start_time": "2022-01-23T09:20:54.952Z"
   },
   {
    "duration": 8,
    "start_time": "2022-01-23T09:21:04.791Z"
   },
   {
    "duration": 85,
    "start_time": "2022-01-23T09:22:49.076Z"
   },
   {
    "duration": 66,
    "start_time": "2022-01-23T09:23:02.961Z"
   },
   {
    "duration": 69,
    "start_time": "2022-01-23T09:23:25.797Z"
   },
   {
    "duration": 270,
    "start_time": "2022-01-23T09:24:41.857Z"
   },
   {
    "duration": 31733,
    "start_time": "2022-01-23T09:41:42.050Z"
   },
   {
    "duration": 270,
    "start_time": "2022-01-23T09:45:58.025Z"
   },
   {
    "duration": 1905,
    "start_time": "2022-01-23T09:46:22.072Z"
   },
   {
    "duration": 1828,
    "start_time": "2022-01-23T09:46:46.354Z"
   },
   {
    "duration": 32555,
    "start_time": "2022-01-23T09:47:00.160Z"
   },
   {
    "duration": 1877,
    "start_time": "2022-01-23T09:48:44.967Z"
   },
   {
    "duration": 94,
    "start_time": "2022-01-23T09:49:54.506Z"
   },
   {
    "duration": 341,
    "start_time": "2022-01-23T09:49:58.122Z"
   },
   {
    "duration": 10932,
    "start_time": "2022-01-23T09:50:04.452Z"
   },
   {
    "duration": 7612,
    "start_time": "2022-01-23T09:50:39.573Z"
   },
   {
    "duration": 264,
    "start_time": "2022-01-23T09:51:40.733Z"
   },
   {
    "duration": 125,
    "start_time": "2022-01-23T09:51:59.187Z"
   },
   {
    "duration": 13,
    "start_time": "2022-01-23T09:52:02.298Z"
   },
   {
    "duration": 271,
    "start_time": "2022-01-23T09:52:24.964Z"
   },
   {
    "duration": 13,
    "start_time": "2022-01-23T09:52:30.321Z"
   },
   {
    "duration": 19,
    "start_time": "2022-01-23T09:53:46.395Z"
   },
   {
    "duration": 36260,
    "start_time": "2022-01-23T09:54:18.999Z"
   },
   {
    "duration": 96,
    "start_time": "2022-01-23T09:55:38.316Z"
   },
   {
    "duration": 81,
    "start_time": "2022-01-23T09:55:51.198Z"
   },
   {
    "duration": 91,
    "start_time": "2022-01-23T09:55:52.726Z"
   },
   {
    "duration": 92,
    "start_time": "2022-01-23T09:55:55.037Z"
   },
   {
    "duration": 82,
    "start_time": "2022-01-23T09:56:08.767Z"
   },
   {
    "duration": 268,
    "start_time": "2022-01-23T09:56:16.448Z"
   },
   {
    "duration": 12272,
    "start_time": "2022-01-23T09:56:22.272Z"
   },
   {
    "duration": 12342,
    "start_time": "2022-01-23T09:56:57.979Z"
   },
   {
    "duration": 11778,
    "start_time": "2022-01-23T09:58:05.249Z"
   },
   {
    "duration": 283,
    "start_time": "2022-01-23T10:02:05.140Z"
   },
   {
    "duration": 103,
    "start_time": "2022-01-23T10:03:20.403Z"
   },
   {
    "duration": 43,
    "start_time": "2022-01-23T10:03:23.556Z"
   },
   {
    "duration": 13,
    "start_time": "2022-01-23T10:03:23.929Z"
   },
   {
    "duration": 4,
    "start_time": "2022-01-23T10:03:26.151Z"
   },
   {
    "duration": 271,
    "start_time": "2022-01-23T10:03:26.667Z"
   },
   {
    "duration": 279,
    "start_time": "2022-01-23T10:03:42.855Z"
   },
   {
    "duration": 85,
    "start_time": "2022-01-23T10:04:09.163Z"
   },
   {
    "duration": 82,
    "start_time": "2022-01-23T10:04:13.566Z"
   },
   {
    "duration": 2740,
    "start_time": "2022-01-23T10:04:21.837Z"
   },
   {
    "duration": 7,
    "start_time": "2022-01-23T10:05:18.441Z"
   },
   {
    "duration": 89,
    "start_time": "2022-01-23T10:05:26.551Z"
   },
   {
    "duration": 3,
    "start_time": "2022-01-23T10:10:12.733Z"
   },
   {
    "duration": 336,
    "start_time": "2022-01-23T10:17:06.938Z"
   },
   {
    "duration": 24,
    "start_time": "2022-01-23T10:17:18.038Z"
   },
   {
    "duration": 9,
    "start_time": "2022-01-23T10:18:09.610Z"
   },
   {
    "duration": 85,
    "start_time": "2022-01-23T10:19:52.969Z"
   },
   {
    "duration": 9,
    "start_time": "2022-01-23T10:19:57.648Z"
   },
   {
    "duration": 84,
    "start_time": "2022-01-23T10:20:41.790Z"
   },
   {
    "duration": 85,
    "start_time": "2022-01-23T10:20:49.957Z"
   },
   {
    "duration": 87,
    "start_time": "2022-01-23T10:20:59.871Z"
   },
   {
    "duration": 13,
    "start_time": "2022-01-23T10:22:45.180Z"
   },
   {
    "duration": 9,
    "start_time": "2022-01-23T10:22:47.930Z"
   },
   {
    "duration": 12,
    "start_time": "2022-01-23T10:22:54.291Z"
   },
   {
    "duration": 8,
    "start_time": "2022-01-23T10:23:28.706Z"
   },
   {
    "duration": 8,
    "start_time": "2022-01-23T10:23:52.981Z"
   },
   {
    "duration": 8,
    "start_time": "2022-01-23T10:24:05.473Z"
   },
   {
    "duration": 10,
    "start_time": "2022-01-23T10:24:48.726Z"
   },
   {
    "duration": 8,
    "start_time": "2022-01-23T10:25:27.615Z"
   },
   {
    "duration": 12,
    "start_time": "2022-01-23T10:26:09.624Z"
   },
   {
    "duration": 11,
    "start_time": "2022-01-23T10:26:25.658Z"
   },
   {
    "duration": 12,
    "start_time": "2022-01-23T10:27:06.701Z"
   },
   {
    "duration": 22,
    "start_time": "2022-01-23T10:29:31.545Z"
   },
   {
    "duration": 20,
    "start_time": "2022-01-23T10:29:59.166Z"
   },
   {
    "duration": 9,
    "start_time": "2022-01-23T10:30:50.870Z"
   },
   {
    "duration": 9,
    "start_time": "2022-01-23T10:30:51.054Z"
   },
   {
    "duration": 24,
    "start_time": "2022-01-23T10:31:27.046Z"
   },
   {
    "duration": 9,
    "start_time": "2022-01-23T10:31:28.674Z"
   },
   {
    "duration": 16,
    "start_time": "2022-01-23T10:31:39.325Z"
   },
   {
    "duration": 9,
    "start_time": "2022-01-23T10:31:40.736Z"
   },
   {
    "duration": 5,
    "start_time": "2022-01-23T10:41:14.225Z"
   },
   {
    "duration": 9,
    "start_time": "2022-01-23T10:41:17.788Z"
   },
   {
    "duration": 718,
    "start_time": "2022-01-23T10:41:32.331Z"
   },
   {
    "duration": 45,
    "start_time": "2022-01-23T10:41:43.716Z"
   },
   {
    "duration": 45,
    "start_time": "2022-01-23T10:42:08.476Z"
   },
   {
    "duration": 88,
    "start_time": "2022-01-23T10:42:24.370Z"
   },
   {
    "duration": 4,
    "start_time": "2022-01-23T10:42:40.447Z"
   },
   {
    "duration": 16,
    "start_time": "2022-01-23T10:42:41.112Z"
   },
   {
    "duration": 5,
    "start_time": "2022-01-23T10:42:41.730Z"
   },
   {
    "duration": 9,
    "start_time": "2022-01-23T10:42:42.579Z"
   },
   {
    "duration": 11,
    "start_time": "2022-01-23T10:43:49.786Z"
   },
   {
    "duration": 28,
    "start_time": "2022-01-23T10:44:34.032Z"
   },
   {
    "duration": 33,
    "start_time": "2022-01-23T10:53:20.557Z"
   },
   {
    "duration": 7,
    "start_time": "2022-01-23T11:02:00.496Z"
   },
   {
    "duration": 332,
    "start_time": "2022-01-23T11:02:22.999Z"
   },
   {
    "duration": 87,
    "start_time": "2022-01-23T11:02:29.283Z"
   },
   {
    "duration": 7,
    "start_time": "2022-01-23T11:02:33.646Z"
   },
   {
    "duration": 5,
    "start_time": "2022-01-23T11:02:39.570Z"
   },
   {
    "duration": 7,
    "start_time": "2022-01-23T11:03:40.088Z"
   },
   {
    "duration": 3,
    "start_time": "2022-01-23T11:08:52.631Z"
   },
   {
    "duration": 273,
    "start_time": "2022-01-23T11:09:05.215Z"
   },
   {
    "duration": 26,
    "start_time": "2022-01-23T11:09:08.648Z"
   },
   {
    "duration": 25,
    "start_time": "2022-01-23T11:09:31.201Z"
   },
   {
    "duration": 491,
    "start_time": "2022-01-23T11:11:37.165Z"
   },
   {
    "duration": 87,
    "start_time": "2022-01-23T11:12:54.926Z"
   },
   {
    "duration": 91,
    "start_time": "2022-01-23T11:13:03.722Z"
   },
   {
    "duration": 448,
    "start_time": "2022-01-23T11:13:09.439Z"
   },
   {
    "duration": 442,
    "start_time": "2022-01-23T11:13:43.271Z"
   },
   {
    "duration": 26,
    "start_time": "2022-01-23T11:15:23.929Z"
   },
   {
    "duration": 272,
    "start_time": "2022-01-23T11:20:33.189Z"
   },
   {
    "duration": 553,
    "start_time": "2022-01-23T11:20:38.218Z"
   },
   {
    "duration": 454,
    "start_time": "2022-01-23T11:21:22.385Z"
   },
   {
    "duration": 721,
    "start_time": "2022-01-23T11:22:15.195Z"
   },
   {
    "duration": 13,
    "start_time": "2022-01-23T11:23:27.685Z"
   },
   {
    "duration": 5,
    "start_time": "2022-01-23T11:23:29.981Z"
   },
   {
    "duration": 9,
    "start_time": "2022-01-23T11:23:30.697Z"
   },
   {
    "duration": 15,
    "start_time": "2022-01-23T11:23:40.392Z"
   },
   {
    "duration": 5,
    "start_time": "2022-01-23T11:23:40.863Z"
   },
   {
    "duration": 9,
    "start_time": "2022-01-23T11:23:41.305Z"
   },
   {
    "duration": 38,
    "start_time": "2022-01-23T11:23:47.614Z"
   },
   {
    "duration": 454,
    "start_time": "2022-01-23T11:28:17.075Z"
   },
   {
    "duration": 6923,
    "start_time": "2022-01-23T11:30:41.525Z"
   },
   {
    "duration": 270,
    "start_time": "2022-01-23T11:30:55.753Z"
   },
   {
    "duration": 267,
    "start_time": "2022-01-23T11:31:04.746Z"
   },
   {
    "duration": 320,
    "start_time": "2022-01-23T11:31:12.872Z"
   },
   {
    "duration": 22,
    "start_time": "2022-01-23T11:38:16.369Z"
   },
   {
    "duration": 21,
    "start_time": "2022-01-23T11:38:32.638Z"
   },
   {
    "duration": 22,
    "start_time": "2022-01-23T11:38:40.356Z"
   },
   {
    "duration": 307,
    "start_time": "2022-01-23T11:39:09.966Z"
   },
   {
    "duration": 23,
    "start_time": "2022-01-23T11:39:39.315Z"
   },
   {
    "duration": 24,
    "start_time": "2022-01-23T11:41:12.373Z"
   },
   {
    "duration": 28,
    "start_time": "2022-01-23T11:41:25.771Z"
   },
   {
    "duration": 293,
    "start_time": "2022-01-23T11:41:45.005Z"
   },
   {
    "duration": 30,
    "start_time": "2022-01-23T11:42:20.707Z"
   },
   {
    "duration": 344,
    "start_time": "2022-01-23T11:43:47.476Z"
   },
   {
    "duration": 14,
    "start_time": "2022-01-23T11:44:02.623Z"
   },
   {
    "duration": 29,
    "start_time": "2022-01-23T11:44:11.202Z"
   },
   {
    "duration": 27,
    "start_time": "2022-01-23T11:44:23.804Z"
   },
   {
    "duration": 27,
    "start_time": "2022-01-23T11:44:33.120Z"
   },
   {
    "duration": 271,
    "start_time": "2022-01-23T11:50:10.277Z"
   },
   {
    "duration": 111,
    "start_time": "2022-01-23T11:53:53.952Z"
   },
   {
    "duration": 29,
    "start_time": "2022-01-23T11:53:58.604Z"
   },
   {
    "duration": 271,
    "start_time": "2022-01-23T11:54:11.308Z"
   },
   {
    "duration": 290,
    "start_time": "2022-01-23T11:54:17.356Z"
   },
   {
    "duration": 281,
    "start_time": "2022-01-23T11:54:22.364Z"
   },
   {
    "duration": 309,
    "start_time": "2022-01-23T11:54:29.929Z"
   },
   {
    "duration": 248,
    "start_time": "2022-01-23T11:54:32.336Z"
   },
   {
    "duration": 284,
    "start_time": "2022-01-23T11:56:12.463Z"
   },
   {
    "duration": 265,
    "start_time": "2022-01-23T11:56:36.483Z"
   },
   {
    "duration": 263,
    "start_time": "2022-01-23T11:57:10.532Z"
   },
   {
    "duration": 705,
    "start_time": "2022-01-23T11:57:19.740Z"
   },
   {
    "duration": 51,
    "start_time": "2022-01-23T11:57:22.171Z"
   },
   {
    "duration": 88,
    "start_time": "2022-01-23T11:57:22.301Z"
   },
   {
    "duration": 4,
    "start_time": "2022-01-23T11:57:22.889Z"
   },
   {
    "duration": 17,
    "start_time": "2022-01-23T11:57:23.183Z"
   },
   {
    "duration": 5,
    "start_time": "2022-01-23T11:57:23.481Z"
   },
   {
    "duration": 10,
    "start_time": "2022-01-23T11:57:23.851Z"
   },
   {
    "duration": 37,
    "start_time": "2022-01-23T11:57:24.914Z"
   },
   {
    "duration": 328,
    "start_time": "2022-01-23T11:57:26.617Z"
   },
   {
    "duration": 310,
    "start_time": "2022-01-23T11:57:39.888Z"
   },
   {
    "duration": 257,
    "start_time": "2022-01-23T11:58:01.766Z"
   },
   {
    "duration": 255,
    "start_time": "2022-01-23T11:58:08.894Z"
   },
   {
    "duration": 266,
    "start_time": "2022-01-23T12:00:03.419Z"
   },
   {
    "duration": 101,
    "start_time": "2022-01-23T12:00:32.452Z"
   },
   {
    "duration": 47,
    "start_time": "2022-01-23T12:00:33.668Z"
   },
   {
    "duration": 87,
    "start_time": "2022-01-23T12:00:34.079Z"
   },
   {
    "duration": 4,
    "start_time": "2022-01-23T12:00:34.550Z"
   },
   {
    "duration": 15,
    "start_time": "2022-01-23T12:00:34.808Z"
   },
   {
    "duration": 5,
    "start_time": "2022-01-23T12:00:35.072Z"
   },
   {
    "duration": 9,
    "start_time": "2022-01-23T12:00:35.295Z"
   },
   {
    "duration": 43,
    "start_time": "2022-01-23T12:00:36.730Z"
   },
   {
    "duration": 29,
    "start_time": "2022-01-23T12:01:11.720Z"
   },
   {
    "duration": 38,
    "start_time": "2022-01-23T12:01:37.822Z"
   },
   {
    "duration": 274,
    "start_time": "2022-01-23T12:02:27.262Z"
   },
   {
    "duration": 455,
    "start_time": "2022-01-23T12:02:58.754Z"
   },
   {
    "duration": 1052,
    "start_time": "2022-01-23T12:04:05.423Z"
   },
   {
    "duration": 8136,
    "start_time": "2022-01-23T12:04:22.013Z"
   },
   {
    "duration": 7485,
    "start_time": "2022-01-23T12:05:41.014Z"
   },
   {
    "duration": 1041,
    "start_time": "2022-01-23T12:05:58.976Z"
   },
   {
    "duration": 1107,
    "start_time": "2022-01-23T12:06:52.067Z"
   },
   {
    "duration": 1067,
    "start_time": "2022-01-23T12:07:06.874Z"
   },
   {
    "duration": 284,
    "start_time": "2022-01-23T12:07:38.451Z"
   },
   {
    "duration": 6,
    "start_time": "2022-01-23T12:08:01.455Z"
   },
   {
    "duration": 271,
    "start_time": "2022-01-23T12:08:12.213Z"
   },
   {
    "duration": 658,
    "start_time": "2022-01-23T12:08:36.256Z"
   },
   {
    "duration": 48,
    "start_time": "2022-01-23T12:08:37.398Z"
   },
   {
    "duration": 91,
    "start_time": "2022-01-23T12:08:37.842Z"
   },
   {
    "duration": 4,
    "start_time": "2022-01-23T12:08:38.291Z"
   },
   {
    "duration": 16,
    "start_time": "2022-01-23T12:08:38.547Z"
   },
   {
    "duration": 4,
    "start_time": "2022-01-23T12:08:38.836Z"
   },
   {
    "duration": 9,
    "start_time": "2022-01-23T12:08:39.101Z"
   },
   {
    "duration": 36,
    "start_time": "2022-01-23T12:08:39.835Z"
   },
   {
    "duration": 26,
    "start_time": "2022-01-23T12:08:40.724Z"
   },
   {
    "duration": 316,
    "start_time": "2022-01-23T12:08:55.234Z"
   },
   {
    "duration": 274,
    "start_time": "2022-01-23T12:09:01.184Z"
   },
   {
    "duration": 319,
    "start_time": "2022-01-23T12:09:10.809Z"
   },
   {
    "duration": 80,
    "start_time": "2022-01-23T12:09:38.113Z"
   },
   {
    "duration": 280,
    "start_time": "2022-01-23T12:09:41.762Z"
   },
   {
    "duration": 264,
    "start_time": "2022-01-23T12:09:51.885Z"
   },
   {
    "duration": 89,
    "start_time": "2022-01-23T12:09:56.465Z"
   },
   {
    "duration": 257,
    "start_time": "2022-01-23T12:09:59.743Z"
   },
   {
    "duration": 836,
    "start_time": "2022-01-23T12:10:22.766Z"
   },
   {
    "duration": 46,
    "start_time": "2022-01-23T12:10:23.603Z"
   },
   {
    "duration": 107,
    "start_time": "2022-01-23T12:10:23.652Z"
   },
   {
    "duration": 3,
    "start_time": "2022-01-23T12:10:23.761Z"
   },
   {
    "duration": 39,
    "start_time": "2022-01-23T12:10:23.767Z"
   },
   {
    "duration": 12,
    "start_time": "2022-01-23T12:10:23.807Z"
   },
   {
    "duration": 27,
    "start_time": "2022-01-23T12:10:23.820Z"
   },
   {
    "duration": 41,
    "start_time": "2022-01-23T12:10:23.848Z"
   },
   {
    "duration": 25,
    "start_time": "2022-01-23T12:10:23.891Z"
   },
   {
    "duration": 791,
    "start_time": "2022-01-23T12:10:39.140Z"
   },
   {
    "duration": 634,
    "start_time": "2022-01-23T12:10:42.260Z"
   },
   {
    "duration": 277,
    "start_time": "2022-01-23T12:11:05.887Z"
   },
   {
    "duration": 487,
    "start_time": "2022-01-23T12:13:07.333Z"
   },
   {
    "duration": 479,
    "start_time": "2022-01-23T12:13:48.919Z"
   },
   {
    "duration": 1209,
    "start_time": "2022-01-23T12:14:16.486Z"
   },
   {
    "duration": 762,
    "start_time": "2022-01-23T12:25:07.979Z"
   },
   {
    "duration": 50,
    "start_time": "2022-01-23T12:25:09.440Z"
   },
   {
    "duration": 93,
    "start_time": "2022-01-23T12:25:09.928Z"
   },
   {
    "duration": 5,
    "start_time": "2022-01-23T12:25:10.410Z"
   },
   {
    "duration": 19,
    "start_time": "2022-01-23T12:25:10.629Z"
   },
   {
    "duration": 9,
    "start_time": "2022-01-23T12:25:10.887Z"
   },
   {
    "duration": 11,
    "start_time": "2022-01-23T12:25:11.145Z"
   },
   {
    "duration": 47,
    "start_time": "2022-01-23T12:25:11.666Z"
   },
   {
    "duration": 28,
    "start_time": "2022-01-23T12:25:12.294Z"
   },
   {
    "duration": 24,
    "start_time": "2022-01-23T12:25:45.044Z"
   },
   {
    "duration": 28,
    "start_time": "2022-01-23T12:26:20.871Z"
   },
   {
    "duration": 345,
    "start_time": "2022-01-23T12:26:46.458Z"
   },
   {
    "duration": 266,
    "start_time": "2022-01-23T12:27:01.847Z"
   },
   {
    "duration": 260,
    "start_time": "2022-01-23T12:27:32.611Z"
   },
   {
    "duration": 378,
    "start_time": "2022-01-23T12:27:38.557Z"
   },
   {
    "duration": 101,
    "start_time": "2022-01-23T12:27:46.755Z"
   },
   {
    "duration": 42,
    "start_time": "2022-01-23T12:27:48.309Z"
   },
   {
    "duration": 86,
    "start_time": "2022-01-23T12:27:48.722Z"
   },
   {
    "duration": 4,
    "start_time": "2022-01-23T12:27:49.131Z"
   },
   {
    "duration": 16,
    "start_time": "2022-01-23T12:27:49.310Z"
   },
   {
    "duration": 5,
    "start_time": "2022-01-23T12:27:49.527Z"
   },
   {
    "duration": 10,
    "start_time": "2022-01-23T12:27:49.746Z"
   },
   {
    "duration": 37,
    "start_time": "2022-01-23T12:27:50.271Z"
   },
   {
    "duration": 28,
    "start_time": "2022-01-23T12:27:50.678Z"
   },
   {
    "duration": 256,
    "start_time": "2022-01-23T12:31:43.874Z"
   },
   {
    "duration": 267,
    "start_time": "2022-01-23T12:31:51.544Z"
   },
   {
    "duration": 706,
    "start_time": "2022-01-23T12:32:25.092Z"
   },
   {
    "duration": 50,
    "start_time": "2022-01-23T12:32:26.032Z"
   },
   {
    "duration": 91,
    "start_time": "2022-01-23T12:32:26.765Z"
   },
   {
    "duration": 3,
    "start_time": "2022-01-23T12:32:27.956Z"
   },
   {
    "duration": 17,
    "start_time": "2022-01-23T12:32:28.440Z"
   },
   {
    "duration": 5,
    "start_time": "2022-01-23T12:32:28.744Z"
   },
   {
    "duration": 10,
    "start_time": "2022-01-23T12:32:29.213Z"
   },
   {
    "duration": 36,
    "start_time": "2022-01-23T12:32:30.179Z"
   },
   {
    "duration": 28,
    "start_time": "2022-01-23T12:32:31.353Z"
   },
   {
    "duration": 471,
    "start_time": "2022-01-23T12:36:35.062Z"
   },
   {
    "duration": 266,
    "start_time": "2022-01-23T12:36:51.860Z"
   },
   {
    "duration": 324,
    "start_time": "2022-01-23T12:37:04.787Z"
   },
   {
    "duration": 453,
    "start_time": "2022-01-23T12:39:23.216Z"
   },
   {
    "duration": 2222,
    "start_time": "2022-01-23T12:43:30.188Z"
   },
   {
    "duration": 7615,
    "start_time": "2022-01-23T12:43:40.184Z"
   },
   {
    "duration": 448,
    "start_time": "2022-01-23T12:44:16.755Z"
   },
   {
    "duration": 27,
    "start_time": "2022-01-23T12:44:28.125Z"
   },
   {
    "duration": 269,
    "start_time": "2022-01-23T12:45:05.664Z"
   },
   {
    "duration": 282,
    "start_time": "2022-01-23T12:45:24.312Z"
   },
   {
    "duration": 303,
    "start_time": "2022-01-23T12:47:44.842Z"
   },
   {
    "duration": 472,
    "start_time": "2022-01-23T12:49:49.707Z"
   },
   {
    "duration": 501,
    "start_time": "2022-01-23T12:50:02.052Z"
   },
   {
    "duration": 270,
    "start_time": "2022-01-23T13:24:16.759Z"
   },
   {
    "duration": 256,
    "start_time": "2022-01-23T13:27:47.939Z"
   },
   {
    "duration": 86,
    "start_time": "2022-01-23T13:27:58.975Z"
   },
   {
    "duration": 279,
    "start_time": "2022-01-23T13:31:00.731Z"
   },
   {
    "duration": 281,
    "start_time": "2022-01-23T13:31:35.385Z"
   },
   {
    "duration": 445,
    "start_time": "2022-01-23T13:32:55.918Z"
   },
   {
    "duration": 687,
    "start_time": "2022-01-23T13:33:42.213Z"
   },
   {
    "duration": 47,
    "start_time": "2022-01-23T13:33:44.174Z"
   },
   {
    "duration": 90,
    "start_time": "2022-01-23T13:33:45.279Z"
   },
   {
    "duration": 4,
    "start_time": "2022-01-23T13:33:46.416Z"
   },
   {
    "duration": 17,
    "start_time": "2022-01-23T13:33:46.791Z"
   },
   {
    "duration": 5,
    "start_time": "2022-01-23T13:33:47.152Z"
   },
   {
    "duration": 8,
    "start_time": "2022-01-23T13:33:47.711Z"
   },
   {
    "duration": 36,
    "start_time": "2022-01-23T13:33:48.813Z"
   },
   {
    "duration": 373,
    "start_time": "2022-01-23T13:33:53.025Z"
   },
   {
    "duration": 8,
    "start_time": "2022-01-23T13:36:24.570Z"
   },
   {
    "duration": 313,
    "start_time": "2022-01-23T13:36:55.445Z"
   },
   {
    "duration": 9,
    "start_time": "2022-01-23T13:37:05.821Z"
   },
   {
    "duration": 8,
    "start_time": "2022-01-23T13:38:58.333Z"
   },
   {
    "duration": 84,
    "start_time": "2022-01-23T13:39:08.749Z"
   },
   {
    "duration": 3,
    "start_time": "2022-01-23T13:39:16.029Z"
   },
   {
    "duration": 15,
    "start_time": "2022-01-23T13:39:16.250Z"
   },
   {
    "duration": 4,
    "start_time": "2022-01-23T13:39:16.468Z"
   },
   {
    "duration": 9,
    "start_time": "2022-01-23T13:39:16.769Z"
   },
   {
    "duration": 36,
    "start_time": "2022-01-23T13:39:17.841Z"
   },
   {
    "duration": 92,
    "start_time": "2022-01-23T13:39:21.329Z"
   },
   {
    "duration": 8,
    "start_time": "2022-01-23T13:40:17.615Z"
   },
   {
    "duration": 31,
    "start_time": "2022-01-23T13:40:26.674Z"
   },
   {
    "duration": 85,
    "start_time": "2022-01-23T13:41:21.481Z"
   },
   {
    "duration": 261,
    "start_time": "2022-01-23T13:41:27.517Z"
   },
   {
    "duration": 13,
    "start_time": "2022-01-23T13:43:05.605Z"
   },
   {
    "duration": 41,
    "start_time": "2022-01-23T13:43:14.661Z"
   },
   {
    "duration": 264,
    "start_time": "2022-01-23T13:44:11.830Z"
   },
   {
    "duration": 267,
    "start_time": "2022-01-23T13:44:32.002Z"
   },
   {
    "duration": 275,
    "start_time": "2022-01-23T13:44:48.718Z"
   },
   {
    "duration": 270,
    "start_time": "2022-01-23T13:46:55.249Z"
   },
   {
    "duration": 705,
    "start_time": "2022-01-23T13:47:19.509Z"
   },
   {
    "duration": 7,
    "start_time": "2022-01-23T13:47:20.353Z"
   },
   {
    "duration": 102,
    "start_time": "2022-01-23T13:47:20.825Z"
   },
   {
    "duration": 4,
    "start_time": "2022-01-23T13:47:21.195Z"
   },
   {
    "duration": 17,
    "start_time": "2022-01-23T13:47:21.595Z"
   },
   {
    "duration": 5,
    "start_time": "2022-01-23T13:47:21.872Z"
   },
   {
    "duration": 9,
    "start_time": "2022-01-23T13:47:22.235Z"
   },
   {
    "duration": 38,
    "start_time": "2022-01-23T13:47:25.647Z"
   },
   {
    "duration": 32,
    "start_time": "2022-01-23T13:47:27.319Z"
   },
   {
    "duration": 317,
    "start_time": "2022-01-23T13:49:19.399Z"
   },
   {
    "duration": 258,
    "start_time": "2022-01-23T13:50:00.373Z"
   },
   {
    "duration": 358,
    "start_time": "2022-01-23T13:50:27.256Z"
   },
   {
    "duration": 104,
    "start_time": "2022-01-23T13:51:18.253Z"
   },
   {
    "duration": 8,
    "start_time": "2022-01-23T13:51:19.176Z"
   },
   {
    "duration": 89,
    "start_time": "2022-01-23T13:51:19.606Z"
   },
   {
    "duration": 4,
    "start_time": "2022-01-23T13:51:20.823Z"
   },
   {
    "duration": 17,
    "start_time": "2022-01-23T13:51:20.836Z"
   },
   {
    "duration": 5,
    "start_time": "2022-01-23T13:51:21.291Z"
   },
   {
    "duration": 9,
    "start_time": "2022-01-23T13:51:21.618Z"
   },
   {
    "duration": 39,
    "start_time": "2022-01-23T13:51:22.933Z"
   },
   {
    "duration": 31,
    "start_time": "2022-01-23T13:51:24.795Z"
   },
   {
    "duration": 267,
    "start_time": "2022-01-23T13:51:25.659Z"
   },
   {
    "duration": 277,
    "start_time": "2022-01-23T14:08:36.536Z"
   },
   {
    "duration": 763,
    "start_time": "2022-01-23T14:09:05.677Z"
   },
   {
    "duration": 6,
    "start_time": "2022-01-23T14:09:06.450Z"
   },
   {
    "duration": 104,
    "start_time": "2022-01-23T14:09:07.154Z"
   },
   {
    "duration": 4,
    "start_time": "2022-01-23T14:09:08.103Z"
   },
   {
    "duration": 18,
    "start_time": "2022-01-23T14:09:08.476Z"
   },
   {
    "duration": 6,
    "start_time": "2022-01-23T14:09:08.673Z"
   },
   {
    "duration": 11,
    "start_time": "2022-01-23T14:09:08.857Z"
   },
   {
    "duration": 38,
    "start_time": "2022-01-23T14:09:09.979Z"
   },
   {
    "duration": 31,
    "start_time": "2022-01-23T14:09:11.553Z"
   },
   {
    "duration": 452,
    "start_time": "2022-01-23T14:09:12.267Z"
   },
   {
    "duration": 321,
    "start_time": "2022-01-23T14:11:52.016Z"
   },
   {
    "duration": 35,
    "start_time": "2022-01-23T14:12:01.574Z"
   },
   {
    "duration": 294,
    "start_time": "2022-01-23T14:12:02.858Z"
   },
   {
    "duration": 299,
    "start_time": "2022-01-23T14:12:05.011Z"
   },
   {
    "duration": 32,
    "start_time": "2022-01-23T14:12:33.407Z"
   },
   {
    "duration": 35,
    "start_time": "2022-01-23T14:12:35.437Z"
   },
   {
    "duration": 33,
    "start_time": "2022-01-23T14:14:14.960Z"
   },
   {
    "duration": 34,
    "start_time": "2022-01-23T14:15:06.794Z"
   },
   {
    "duration": 95,
    "start_time": "2022-01-23T14:21:31.424Z"
   },
   {
    "duration": 87,
    "start_time": "2022-01-23T14:21:45.141Z"
   },
   {
    "duration": 2660,
    "start_time": "2022-01-23T14:21:47.216Z"
   },
   {
    "duration": 2848,
    "start_time": "2022-01-23T14:22:09.459Z"
   },
   {
    "duration": 2621,
    "start_time": "2022-01-23T14:22:16.326Z"
   },
   {
    "duration": 2615,
    "start_time": "2022-01-23T14:22:45.983Z"
   },
   {
    "duration": 1851,
    "start_time": "2022-01-23T14:22:50.617Z"
   },
   {
    "duration": 31,
    "start_time": "2022-01-23T14:24:53.937Z"
   },
   {
    "duration": 47,
    "start_time": "2022-01-23T14:25:58.799Z"
   },
   {
    "duration": 43,
    "start_time": "2022-01-23T14:26:03.653Z"
   },
   {
    "duration": 5,
    "start_time": "2022-01-23T14:33:10.623Z"
   },
   {
    "duration": 25,
    "start_time": "2022-01-23T14:33:16.845Z"
   },
   {
    "duration": 28,
    "start_time": "2022-01-23T14:33:46.014Z"
   },
   {
    "duration": 25,
    "start_time": "2022-01-23T14:34:16.627Z"
   },
   {
    "duration": 278,
    "start_time": "2022-01-23T14:39:09.731Z"
   },
   {
    "duration": 14,
    "start_time": "2022-01-23T14:40:48.190Z"
   },
   {
    "duration": 276,
    "start_time": "2022-01-23T14:41:43.529Z"
   },
   {
    "duration": 311,
    "start_time": "2022-01-23T14:41:55.222Z"
   },
   {
    "duration": 263,
    "start_time": "2022-01-23T14:42:39.717Z"
   },
   {
    "duration": 265,
    "start_time": "2022-01-23T14:42:48.002Z"
   },
   {
    "duration": 227,
    "start_time": "2022-01-26T11:50:06.740Z"
   },
   {
    "duration": 644,
    "start_time": "2022-01-26T11:50:13.742Z"
   },
   {
    "duration": 7,
    "start_time": "2022-01-26T11:50:15.991Z"
   },
   {
    "duration": 89,
    "start_time": "2022-01-26T11:50:16.404Z"
   },
   {
    "duration": 4,
    "start_time": "2022-01-26T11:50:16.813Z"
   },
   {
    "duration": 18,
    "start_time": "2022-01-26T11:50:17.031Z"
   },
   {
    "duration": 4,
    "start_time": "2022-01-26T11:50:17.256Z"
   },
   {
    "duration": 9,
    "start_time": "2022-01-26T11:50:17.477Z"
   },
   {
    "duration": 34,
    "start_time": "2022-01-26T11:50:17.915Z"
   },
   {
    "duration": 28,
    "start_time": "2022-01-26T11:50:18.396Z"
   },
   {
    "duration": 34,
    "start_time": "2022-01-26T11:50:18.618Z"
   },
   {
    "duration": 17,
    "start_time": "2022-01-26T11:50:18.877Z"
   },
   {
    "duration": 9,
    "start_time": "2022-01-26T11:50:19.224Z"
   },
   {
    "duration": 207,
    "start_time": "2022-01-26T11:50:38.586Z"
   },
   {
    "duration": 7,
    "start_time": "2022-01-26T11:50:43.395Z"
   },
   {
    "duration": 7,
    "start_time": "2022-01-26T11:54:44.156Z"
   },
   {
    "duration": 175,
    "start_time": "2022-01-26T11:54:46.501Z"
   },
   {
    "duration": 180,
    "start_time": "2022-01-26T11:54:58.101Z"
   },
   {
    "duration": 3,
    "start_time": "2022-01-26T11:55:05.260Z"
   },
   {
    "duration": 242,
    "start_time": "2022-01-26T11:56:11.108Z"
   },
   {
    "duration": 5,
    "start_time": "2022-01-26T11:57:21.486Z"
   },
   {
    "duration": 18,
    "start_time": "2022-01-26T11:57:32.083Z"
   },
   {
    "duration": 240,
    "start_time": "2022-01-26T11:58:01.414Z"
   },
   {
    "duration": 15,
    "start_time": "2022-01-26T12:03:26.040Z"
   },
   {
    "duration": 21,
    "start_time": "2022-01-26T12:04:07.889Z"
   },
   {
    "duration": 24,
    "start_time": "2022-01-26T12:04:28.760Z"
   },
   {
    "duration": 2357,
    "start_time": "2022-01-26T12:04:36.966Z"
   },
   {
    "duration": 2521,
    "start_time": "2022-01-26T12:04:55.353Z"
   },
   {
    "duration": 3590,
    "start_time": "2022-01-26T12:04:59.180Z"
   },
   {
    "duration": 2203,
    "start_time": "2022-01-26T12:05:27.080Z"
   },
   {
    "duration": 2511,
    "start_time": "2022-01-26T12:05:35.953Z"
   },
   {
    "duration": 710,
    "start_time": "2022-01-26T12:05:47.715Z"
   },
   {
    "duration": 7,
    "start_time": "2022-01-26T12:05:49.697Z"
   },
   {
    "duration": 103,
    "start_time": "2022-01-26T12:05:51.135Z"
   },
   {
    "duration": 5,
    "start_time": "2022-01-26T12:05:51.531Z"
   },
   {
    "duration": 18,
    "start_time": "2022-01-26T12:05:51.746Z"
   },
   {
    "duration": 5,
    "start_time": "2022-01-26T12:05:51.924Z"
   },
   {
    "duration": 10,
    "start_time": "2022-01-26T12:05:52.083Z"
   },
   {
    "duration": 39,
    "start_time": "2022-01-26T12:05:52.386Z"
   },
   {
    "duration": 31,
    "start_time": "2022-01-26T12:05:52.907Z"
   },
   {
    "duration": 37,
    "start_time": "2022-01-26T12:05:53.124Z"
   },
   {
    "duration": 18,
    "start_time": "2022-01-26T12:05:53.620Z"
   },
   {
    "duration": 8,
    "start_time": "2022-01-26T12:05:54.094Z"
   },
   {
    "duration": 262,
    "start_time": "2022-01-26T12:05:55.396Z"
   },
   {
    "duration": 25,
    "start_time": "2022-01-26T12:06:07.635Z"
   },
   {
    "duration": 26,
    "start_time": "2022-01-26T12:06:15.758Z"
   },
   {
    "duration": 677,
    "start_time": "2022-01-26T12:06:38.000Z"
   },
   {
    "duration": 7,
    "start_time": "2022-01-26T12:06:39.304Z"
   },
   {
    "duration": 92,
    "start_time": "2022-01-26T12:06:39.928Z"
   },
   {
    "duration": 4,
    "start_time": "2022-01-26T12:06:40.544Z"
   },
   {
    "duration": 17,
    "start_time": "2022-01-26T12:06:40.931Z"
   },
   {
    "duration": 5,
    "start_time": "2022-01-26T12:06:41.282Z"
   },
   {
    "duration": 10,
    "start_time": "2022-01-26T12:06:41.593Z"
   },
   {
    "duration": 36,
    "start_time": "2022-01-26T12:06:42.433Z"
   },
   {
    "duration": 31,
    "start_time": "2022-01-26T12:06:43.631Z"
   },
   {
    "duration": 37,
    "start_time": "2022-01-26T12:06:44.514Z"
   },
   {
    "duration": 17,
    "start_time": "2022-01-26T12:06:45.632Z"
   },
   {
    "duration": 247,
    "start_time": "2022-01-26T12:06:50.372Z"
   },
   {
    "duration": 194,
    "start_time": "2022-01-26T12:07:08.041Z"
   },
   {
    "duration": 179,
    "start_time": "2022-01-26T12:07:13.239Z"
   },
   {
    "duration": 8,
    "start_time": "2022-01-26T12:07:34.850Z"
   },
   {
    "duration": 29,
    "start_time": "2022-01-26T12:07:42.351Z"
   },
   {
    "duration": 8,
    "start_time": "2022-01-26T12:08:00.059Z"
   },
   {
    "duration": 31,
    "start_time": "2022-01-26T12:08:31.468Z"
   },
   {
    "duration": 49,
    "start_time": "2022-01-26T12:10:16.701Z"
   },
   {
    "duration": 63,
    "start_time": "2022-01-26T12:13:20.654Z"
   },
   {
    "duration": 67,
    "start_time": "2022-01-26T12:13:27.631Z"
   },
   {
    "duration": 4413,
    "start_time": "2022-01-26T12:13:31.173Z"
   },
   {
    "duration": 4459,
    "start_time": "2022-01-26T12:13:55.366Z"
   },
   {
    "duration": 6,
    "start_time": "2022-01-26T12:14:05.103Z"
   },
   {
    "duration": 13,
    "start_time": "2022-01-26T12:15:31.063Z"
   },
   {
    "duration": 31,
    "start_time": "2022-01-26T12:15:37.515Z"
   },
   {
    "duration": 37,
    "start_time": "2022-01-26T12:16:08.910Z"
   },
   {
    "duration": 34,
    "start_time": "2022-01-26T12:16:19.452Z"
   },
   {
    "duration": 48,
    "start_time": "2022-01-26T12:17:15.032Z"
   },
   {
    "duration": 38,
    "start_time": "2022-01-26T12:17:20.697Z"
   },
   {
    "duration": 15,
    "start_time": "2022-01-26T12:17:40.434Z"
   },
   {
    "duration": 32,
    "start_time": "2022-01-26T12:17:49.955Z"
   },
   {
    "duration": 5141,
    "start_time": "2022-01-26T12:23:22.451Z"
   },
   {
    "duration": 851,
    "start_time": "2022-01-26T12:23:37.329Z"
   },
   {
    "duration": 730,
    "start_time": "2022-01-26T12:24:06.272Z"
   },
   {
    "duration": 1018,
    "start_time": "2022-01-26T12:24:14.953Z"
   },
   {
    "duration": 554,
    "start_time": "2022-01-26T12:25:44.095Z"
   },
   {
    "duration": 657,
    "start_time": "2022-01-26T12:25:54.434Z"
   },
   {
    "duration": 29,
    "start_time": "2022-01-26T12:31:12.587Z"
   },
   {
    "duration": 27,
    "start_time": "2022-01-26T12:31:45.149Z"
   },
   {
    "duration": 27,
    "start_time": "2022-01-26T12:32:11.699Z"
   },
   {
    "duration": 59,
    "start_time": "2022-01-26T12:33:46.307Z"
   },
   {
    "duration": 65,
    "start_time": "2022-01-26T12:33:53.877Z"
   },
   {
    "duration": 60,
    "start_time": "2022-01-26T12:34:05.881Z"
   },
   {
    "duration": 59,
    "start_time": "2022-01-26T12:34:07.269Z"
   },
   {
    "duration": 27,
    "start_time": "2022-01-26T12:34:31.591Z"
   },
   {
    "duration": 58,
    "start_time": "2022-01-26T12:35:23.456Z"
   },
   {
    "duration": 58,
    "start_time": "2022-01-26T12:35:31.816Z"
   },
   {
    "duration": 70,
    "start_time": "2022-01-26T12:36:45.029Z"
   },
   {
    "duration": 56,
    "start_time": "2022-01-26T12:36:53.898Z"
   },
   {
    "duration": 55,
    "start_time": "2022-01-26T12:37:24.681Z"
   },
   {
    "duration": 30,
    "start_time": "2022-01-26T12:37:31.208Z"
   },
   {
    "duration": 25,
    "start_time": "2022-01-26T12:37:46.821Z"
   },
   {
    "duration": 72,
    "start_time": "2022-01-26T12:38:06.472Z"
   },
   {
    "duration": 58,
    "start_time": "2022-01-26T12:40:24.549Z"
   },
   {
    "duration": 25,
    "start_time": "2022-01-26T12:40:39.654Z"
   },
   {
    "duration": 348,
    "start_time": "2022-01-26T12:45:41.702Z"
   },
   {
    "duration": 351,
    "start_time": "2022-01-26T12:45:46.963Z"
   },
   {
    "duration": 229,
    "start_time": "2022-01-26T12:45:56.878Z"
   },
   {
    "duration": 24,
    "start_time": "2022-01-26T12:49:27.744Z"
   },
   {
    "duration": 6,
    "start_time": "2022-01-26T12:50:54.474Z"
   },
   {
    "duration": 27,
    "start_time": "2022-01-26T12:51:00.193Z"
   },
   {
    "duration": 26,
    "start_time": "2022-01-26T12:51:13.591Z"
   },
   {
    "duration": 25,
    "start_time": "2022-01-26T12:51:22.375Z"
   },
   {
    "duration": 25,
    "start_time": "2022-01-26T12:51:28.864Z"
   },
   {
    "duration": 25,
    "start_time": "2022-01-26T12:51:32.991Z"
   },
   {
    "duration": 26,
    "start_time": "2022-01-26T12:52:24.669Z"
   },
   {
    "duration": 672,
    "start_time": "2022-01-26T12:52:33.948Z"
   },
   {
    "duration": 8,
    "start_time": "2022-01-26T12:52:36.071Z"
   },
   {
    "duration": 93,
    "start_time": "2022-01-26T12:52:36.371Z"
   },
   {
    "duration": 5,
    "start_time": "2022-01-26T12:52:36.670Z"
   },
   {
    "duration": 17,
    "start_time": "2022-01-26T12:52:36.832Z"
   },
   {
    "duration": 5,
    "start_time": "2022-01-26T12:52:36.967Z"
   },
   {
    "duration": 10,
    "start_time": "2022-01-26T12:52:37.271Z"
   },
   {
    "duration": 37,
    "start_time": "2022-01-26T12:52:37.653Z"
   },
   {
    "duration": 32,
    "start_time": "2022-01-26T12:52:38.090Z"
   },
   {
    "duration": 37,
    "start_time": "2022-01-26T12:52:38.472Z"
   },
   {
    "duration": 17,
    "start_time": "2022-01-26T12:52:38.686Z"
   },
   {
    "duration": 7,
    "start_time": "2022-01-26T12:52:38.970Z"
   },
   {
    "duration": 28,
    "start_time": "2022-01-26T12:52:39.321Z"
   },
   {
    "duration": 28,
    "start_time": "2022-01-26T12:52:39.994Z"
   },
   {
    "duration": 48,
    "start_time": "2022-01-26T12:52:41.883Z"
   },
   {
    "duration": 27,
    "start_time": "2022-01-26T12:52:43.578Z"
   },
   {
    "duration": 33,
    "start_time": "2022-01-26T12:52:44.051Z"
   },
   {
    "duration": 573,
    "start_time": "2022-01-26T12:52:44.517Z"
   },
   {
    "duration": 28,
    "start_time": "2022-01-26T12:52:45.096Z"
   },
   {
    "duration": 229,
    "start_time": "2022-01-26T12:53:24.600Z"
   },
   {
    "duration": 170,
    "start_time": "2022-01-26T12:53:34.113Z"
   },
   {
    "duration": 179,
    "start_time": "2022-01-26T12:53:44.888Z"
   },
   {
    "duration": 25,
    "start_time": "2022-01-26T12:54:05.754Z"
   },
   {
    "duration": 27,
    "start_time": "2022-01-26T12:55:14.923Z"
   },
   {
    "duration": 677,
    "start_time": "2022-01-26T12:55:31.332Z"
   },
   {
    "duration": 7,
    "start_time": "2022-01-26T12:55:32.184Z"
   },
   {
    "duration": 105,
    "start_time": "2022-01-26T12:55:32.500Z"
   },
   {
    "duration": 4,
    "start_time": "2022-01-26T12:55:32.845Z"
   },
   {
    "duration": 19,
    "start_time": "2022-01-26T12:55:33.093Z"
   },
   {
    "duration": 5,
    "start_time": "2022-01-26T12:55:33.336Z"
   },
   {
    "duration": 11,
    "start_time": "2022-01-26T12:55:33.522Z"
   },
   {
    "duration": 44,
    "start_time": "2022-01-26T12:55:34.005Z"
   },
   {
    "duration": 31,
    "start_time": "2022-01-26T12:55:35.489Z"
   },
   {
    "duration": 38,
    "start_time": "2022-01-26T12:55:35.902Z"
   },
   {
    "duration": 18,
    "start_time": "2022-01-26T12:55:36.222Z"
   },
   {
    "duration": 6,
    "start_time": "2022-01-26T12:55:37.493Z"
   },
   {
    "duration": 27,
    "start_time": "2022-01-26T12:55:38.208Z"
   },
   {
    "duration": 27,
    "start_time": "2022-01-26T12:55:42.216Z"
   },
   {
    "duration": 27,
    "start_time": "2022-01-26T12:56:03.871Z"
   },
   {
    "duration": 35,
    "start_time": "2022-01-26T12:56:05.441Z"
   },
   {
    "duration": 585,
    "start_time": "2022-01-26T12:56:05.983Z"
   },
   {
    "duration": 37,
    "start_time": "2022-01-26T12:56:06.570Z"
   },
   {
    "duration": 348,
    "start_time": "2022-01-26T12:56:07.558Z"
   },
   {
    "duration": 240,
    "start_time": "2022-01-26T12:56:15.073Z"
   },
   {
    "duration": 38,
    "start_time": "2022-01-26T12:56:33.028Z"
   },
   {
    "duration": 719,
    "start_time": "2022-01-26T12:56:41.584Z"
   },
   {
    "duration": 7,
    "start_time": "2022-01-26T12:56:42.308Z"
   },
   {
    "duration": 99,
    "start_time": "2022-01-26T12:56:42.639Z"
   },
   {
    "duration": 4,
    "start_time": "2022-01-26T12:56:42.949Z"
   },
   {
    "duration": 20,
    "start_time": "2022-01-26T12:56:43.111Z"
   },
   {
    "duration": 5,
    "start_time": "2022-01-26T12:56:43.322Z"
   },
   {
    "duration": 10,
    "start_time": "2022-01-26T12:56:43.495Z"
   },
   {
    "duration": 36,
    "start_time": "2022-01-26T12:56:43.839Z"
   },
   {
    "duration": 32,
    "start_time": "2022-01-26T12:56:44.192Z"
   },
   {
    "duration": 41,
    "start_time": "2022-01-26T12:56:44.585Z"
   },
   {
    "duration": 19,
    "start_time": "2022-01-26T12:56:49.561Z"
   },
   {
    "duration": 8,
    "start_time": "2022-01-26T12:56:49.895Z"
   },
   {
    "duration": 30,
    "start_time": "2022-01-26T12:56:50.066Z"
   },
   {
    "duration": 28,
    "start_time": "2022-01-26T12:56:50.421Z"
   },
   {
    "duration": 261,
    "start_time": "2022-01-26T12:57:46.229Z"
   },
   {
    "duration": 206,
    "start_time": "2022-01-26T12:58:59.312Z"
   },
   {
    "duration": 27,
    "start_time": "2022-01-26T12:59:41.361Z"
   },
   {
    "duration": 298,
    "start_time": "2022-01-26T12:59:54.173Z"
   },
   {
    "duration": 271,
    "start_time": "2022-01-26T13:01:35.281Z"
   },
   {
    "duration": 231,
    "start_time": "2022-01-26T13:09:07.712Z"
   },
   {
    "duration": 348,
    "start_time": "2022-01-26T13:11:01.021Z"
   },
   {
    "duration": 227,
    "start_time": "2022-01-26T13:11:08.289Z"
   },
   {
    "duration": 180,
    "start_time": "2022-01-26T13:11:15.105Z"
   },
   {
    "duration": 728,
    "start_time": "2022-01-26T13:11:25.677Z"
   },
   {
    "duration": 7,
    "start_time": "2022-01-26T13:11:26.549Z"
   },
   {
    "duration": 96,
    "start_time": "2022-01-26T13:11:26.877Z"
   },
   {
    "duration": 5,
    "start_time": "2022-01-26T13:11:27.227Z"
   },
   {
    "duration": 18,
    "start_time": "2022-01-26T13:11:27.421Z"
   },
   {
    "duration": 5,
    "start_time": "2022-01-26T13:11:27.593Z"
   },
   {
    "duration": 10,
    "start_time": "2022-01-26T13:11:27.783Z"
   },
   {
    "duration": 36,
    "start_time": "2022-01-26T13:11:28.115Z"
   },
   {
    "duration": 32,
    "start_time": "2022-01-26T13:11:28.435Z"
   },
   {
    "duration": 37,
    "start_time": "2022-01-26T13:11:28.587Z"
   },
   {
    "duration": 18,
    "start_time": "2022-01-26T13:11:28.764Z"
   },
   {
    "duration": 7,
    "start_time": "2022-01-26T13:11:29.104Z"
   },
   {
    "duration": 27,
    "start_time": "2022-01-26T13:11:29.319Z"
   },
   {
    "duration": 25,
    "start_time": "2022-01-26T13:11:29.492Z"
   },
   {
    "duration": 52,
    "start_time": "2022-01-26T13:11:30.699Z"
   },
   {
    "duration": 25,
    "start_time": "2022-01-26T13:11:32.298Z"
   },
   {
    "duration": 35,
    "start_time": "2022-01-26T13:11:32.702Z"
   },
   {
    "duration": 570,
    "start_time": "2022-01-26T13:11:33.267Z"
   },
   {
    "duration": 27,
    "start_time": "2022-01-26T13:11:34.005Z"
   },
   {
    "duration": 338,
    "start_time": "2022-01-26T13:11:36.646Z"
   },
   {
    "duration": 196,
    "start_time": "2022-01-26T13:11:37.845Z"
   },
   {
    "duration": 390,
    "start_time": "2022-01-26T13:13:10.915Z"
   },
   {
    "duration": 352,
    "start_time": "2022-01-26T13:13:25.795Z"
   },
   {
    "duration": 370,
    "start_time": "2022-01-26T13:13:39.674Z"
   },
   {
    "duration": 453,
    "start_time": "2022-01-26T13:13:44.725Z"
   },
   {
    "duration": 236,
    "start_time": "2022-01-26T13:15:00.128Z"
   },
   {
    "duration": 347,
    "start_time": "2022-01-26T13:15:14.954Z"
   },
   {
    "duration": 380,
    "start_time": "2022-01-26T13:15:19.920Z"
   },
   {
    "duration": 374,
    "start_time": "2022-01-26T13:16:02.239Z"
   },
   {
    "duration": 201,
    "start_time": "2022-01-26T13:16:36.326Z"
   },
   {
    "duration": 287,
    "start_time": "2022-01-26T13:16:41.412Z"
   },
   {
    "duration": 236,
    "start_time": "2022-01-26T13:16:48.439Z"
   },
   {
    "duration": 215,
    "start_time": "2022-01-26T13:17:11.423Z"
   },
   {
    "duration": 200,
    "start_time": "2022-01-26T13:17:26.110Z"
   },
   {
    "duration": 220,
    "start_time": "2022-01-26T13:17:32.515Z"
   },
   {
    "duration": 493,
    "start_time": "2022-01-26T13:17:53.741Z"
   },
   {
    "duration": 213,
    "start_time": "2022-01-26T13:18:17.088Z"
   },
   {
    "duration": 290,
    "start_time": "2022-01-26T13:18:28.897Z"
   },
   {
    "duration": 232,
    "start_time": "2022-01-26T13:18:47.542Z"
   },
   {
    "duration": 269,
    "start_time": "2022-01-26T13:19:11.240Z"
   },
   {
    "duration": 280,
    "start_time": "2022-01-26T13:19:24.446Z"
   },
   {
    "duration": 260,
    "start_time": "2022-01-26T13:19:32.424Z"
   },
   {
    "duration": 300,
    "start_time": "2022-01-26T13:19:41.790Z"
   },
   {
    "duration": 250,
    "start_time": "2022-01-26T13:19:53.881Z"
   },
   {
    "duration": 307,
    "start_time": "2022-01-26T13:20:32.424Z"
   },
   {
    "duration": 687,
    "start_time": "2022-01-26T13:28:36.378Z"
   },
   {
    "duration": 624,
    "start_time": "2022-01-26T13:28:57.518Z"
   },
   {
    "duration": 864,
    "start_time": "2022-01-26T13:29:36.385Z"
   },
   {
    "duration": 406,
    "start_time": "2022-01-26T13:29:55.758Z"
   },
   {
    "duration": 223,
    "start_time": "2022-01-26T13:30:28.055Z"
   },
   {
    "duration": 206,
    "start_time": "2022-01-26T13:30:45.184Z"
   },
   {
    "duration": 662,
    "start_time": "2022-01-26T13:30:58.127Z"
   },
   {
    "duration": 8,
    "start_time": "2022-01-26T13:30:59.240Z"
   },
   {
    "duration": 96,
    "start_time": "2022-01-26T13:30:59.587Z"
   },
   {
    "duration": 4,
    "start_time": "2022-01-26T13:30:59.909Z"
   },
   {
    "duration": 17,
    "start_time": "2022-01-26T13:31:00.151Z"
   },
   {
    "duration": 5,
    "start_time": "2022-01-26T13:31:00.366Z"
   },
   {
    "duration": 10,
    "start_time": "2022-01-26T13:31:00.546Z"
   },
   {
    "duration": 40,
    "start_time": "2022-01-26T13:31:00.833Z"
   },
   {
    "duration": 31,
    "start_time": "2022-01-26T13:31:01.149Z"
   },
   {
    "duration": 38,
    "start_time": "2022-01-26T13:31:01.298Z"
   },
   {
    "duration": 18,
    "start_time": "2022-01-26T13:31:01.479Z"
   },
   {
    "duration": 8,
    "start_time": "2022-01-26T13:31:01.801Z"
   },
   {
    "duration": 30,
    "start_time": "2022-01-26T13:31:01.953Z"
   },
   {
    "duration": 27,
    "start_time": "2022-01-26T13:31:02.120Z"
   },
   {
    "duration": 50,
    "start_time": "2022-01-26T13:31:02.671Z"
   },
   {
    "duration": 28,
    "start_time": "2022-01-26T13:31:03.777Z"
   },
   {
    "duration": 35,
    "start_time": "2022-01-26T13:31:03.959Z"
   },
   {
    "duration": 584,
    "start_time": "2022-01-26T13:31:04.653Z"
   },
   {
    "duration": 26,
    "start_time": "2022-01-26T13:31:05.239Z"
   },
   {
    "duration": 480,
    "start_time": "2022-01-26T13:31:05.568Z"
   },
   {
    "duration": 380,
    "start_time": "2022-01-26T13:31:06.050Z"
   },
   {
    "duration": 234,
    "start_time": "2022-01-26T13:31:07.010Z"
   },
   {
    "duration": 207,
    "start_time": "2022-01-26T13:31:08.319Z"
   },
   {
    "duration": 209,
    "start_time": "2022-01-26T13:31:16.705Z"
   },
   {
    "duration": 220,
    "start_time": "2022-01-26T13:31:25.181Z"
   },
   {
    "duration": 256,
    "start_time": "2022-01-26T13:38:44.758Z"
   },
   {
    "duration": 367,
    "start_time": "2022-01-26T13:40:23.786Z"
   },
   {
    "duration": 424,
    "start_time": "2022-01-26T13:40:46.812Z"
   },
   {
    "duration": 613,
    "start_time": "2022-01-26T13:41:43.652Z"
   },
   {
    "duration": 369,
    "start_time": "2022-01-26T13:42:00.096Z"
   },
   {
    "duration": 359,
    "start_time": "2022-01-26T13:42:46.596Z"
   },
   {
    "duration": 358,
    "start_time": "2022-01-26T13:42:52.528Z"
   },
   {
    "duration": 476,
    "start_time": "2022-01-26T13:43:01.136Z"
   },
   {
    "duration": 686,
    "start_time": "2022-01-26T13:44:34.503Z"
   },
   {
    "duration": 7,
    "start_time": "2022-01-26T13:44:35.246Z"
   },
   {
    "duration": 95,
    "start_time": "2022-01-26T13:44:36.723Z"
   },
   {
    "duration": 4,
    "start_time": "2022-01-26T13:44:37.044Z"
   },
   {
    "duration": 18,
    "start_time": "2022-01-26T13:44:37.205Z"
   },
   {
    "duration": 2,
    "start_time": "2022-01-26T13:44:37.369Z"
   },
   {
    "duration": 10,
    "start_time": "2022-01-26T13:44:37.530Z"
   },
   {
    "duration": 37,
    "start_time": "2022-01-26T13:44:37.890Z"
   },
   {
    "duration": 31,
    "start_time": "2022-01-26T13:44:38.219Z"
   },
   {
    "duration": 38,
    "start_time": "2022-01-26T13:44:38.371Z"
   },
   {
    "duration": 17,
    "start_time": "2022-01-26T13:44:38.535Z"
   },
   {
    "duration": 7,
    "start_time": "2022-01-26T13:44:38.849Z"
   },
   {
    "duration": 30,
    "start_time": "2022-01-26T13:44:39.014Z"
   },
   {
    "duration": 28,
    "start_time": "2022-01-26T13:44:39.150Z"
   },
   {
    "duration": 50,
    "start_time": "2022-01-26T13:44:39.505Z"
   },
   {
    "duration": 26,
    "start_time": "2022-01-26T13:44:40.639Z"
   },
   {
    "duration": 32,
    "start_time": "2022-01-26T13:44:40.807Z"
   },
   {
    "duration": 602,
    "start_time": "2022-01-26T13:44:41.011Z"
   },
   {
    "duration": 28,
    "start_time": "2022-01-26T13:44:41.616Z"
   },
   {
    "duration": 492,
    "start_time": "2022-01-26T13:44:42.695Z"
   },
   {
    "duration": 360,
    "start_time": "2022-01-26T13:44:43.539Z"
   },
   {
    "duration": 216,
    "start_time": "2022-01-26T13:44:44.619Z"
   },
   {
    "duration": 211,
    "start_time": "2022-01-26T13:44:45.943Z"
   },
   {
    "duration": 358,
    "start_time": "2022-01-26T13:44:48.522Z"
   },
   {
    "duration": 337,
    "start_time": "2022-01-26T13:45:49.742Z"
   },
   {
    "duration": 4895,
    "start_time": "2022-01-26T13:47:02.022Z"
   },
   {
    "duration": 5006,
    "start_time": "2022-01-26T13:47:12.446Z"
   },
   {
    "duration": 517,
    "start_time": "2022-01-26T13:49:38.706Z"
   },
   {
    "duration": 1472,
    "start_time": "2022-01-26T13:49:44.993Z"
   },
   {
    "duration": 518,
    "start_time": "2022-01-26T13:49:58.198Z"
   },
   {
    "duration": 1560,
    "start_time": "2022-01-26T13:50:08.787Z"
   },
   {
    "duration": 497,
    "start_time": "2022-01-26T13:50:44.437Z"
   },
   {
    "duration": 370,
    "start_time": "2022-01-26T13:51:19.609Z"
   },
   {
    "duration": 544,
    "start_time": "2022-01-26T13:55:29.259Z"
   },
   {
    "duration": 350,
    "start_time": "2022-01-26T13:55:41.180Z"
   },
   {
    "duration": 371,
    "start_time": "2022-01-26T13:57:37.988Z"
   },
   {
    "duration": 519,
    "start_time": "2022-01-26T13:58:00.761Z"
   },
   {
    "duration": 364,
    "start_time": "2022-01-26T13:58:19.524Z"
   },
   {
    "duration": 378,
    "start_time": "2022-01-26T13:58:26.180Z"
   },
   {
    "duration": 394,
    "start_time": "2022-01-26T13:59:00.253Z"
   },
   {
    "duration": 366,
    "start_time": "2022-01-26T13:59:28.517Z"
   },
   {
    "duration": 1259,
    "start_time": "2022-01-26T13:59:53.709Z"
   },
   {
    "duration": 1062,
    "start_time": "2022-01-26T14:00:17.964Z"
   },
   {
    "duration": 1246,
    "start_time": "2022-01-26T14:00:27.458Z"
   },
   {
    "duration": 389,
    "start_time": "2022-01-26T14:00:35.762Z"
   },
   {
    "duration": 396,
    "start_time": "2022-01-26T14:00:49.017Z"
   },
   {
    "duration": 542,
    "start_time": "2022-01-26T14:00:58.967Z"
   },
   {
    "duration": 424,
    "start_time": "2022-01-26T14:13:22.987Z"
   },
   {
    "duration": 355,
    "start_time": "2022-01-26T14:16:48.396Z"
   },
   {
    "duration": 354,
    "start_time": "2022-01-26T14:18:15.664Z"
   },
   {
    "duration": 482,
    "start_time": "2022-01-26T14:19:06.089Z"
   },
   {
    "duration": 496,
    "start_time": "2022-01-26T14:19:28.245Z"
   },
   {
    "duration": 590,
    "start_time": "2022-01-26T14:20:49.010Z"
   },
   {
    "duration": 371,
    "start_time": "2022-01-26T14:21:16.900Z"
   },
   {
    "duration": 363,
    "start_time": "2022-01-26T14:23:13.769Z"
   },
   {
    "duration": 12,
    "start_time": "2022-01-26T14:23:44.878Z"
   },
   {
    "duration": 11,
    "start_time": "2022-01-26T14:23:50.581Z"
   },
   {
    "duration": 16,
    "start_time": "2022-01-26T14:24:45.941Z"
   },
   {
    "duration": 11,
    "start_time": "2022-01-26T14:24:52.714Z"
   },
   {
    "duration": 14,
    "start_time": "2022-01-26T14:24:57.605Z"
   },
   {
    "duration": 23,
    "start_time": "2022-01-26T14:25:42.782Z"
   },
   {
    "duration": 376,
    "start_time": "2022-01-26T14:25:51.981Z"
   },
   {
    "duration": 413,
    "start_time": "2022-01-26T14:27:06.137Z"
   },
   {
    "duration": 544,
    "start_time": "2022-01-26T14:27:19.976Z"
   },
   {
    "duration": 385,
    "start_time": "2022-01-26T14:27:53.419Z"
   },
   {
    "duration": 421,
    "start_time": "2022-01-26T14:28:07.414Z"
   },
   {
    "duration": 487,
    "start_time": "2022-01-26T14:28:18.713Z"
   },
   {
    "duration": 400,
    "start_time": "2022-01-26T14:28:23.007Z"
   },
   {
    "duration": 714,
    "start_time": "2022-01-26T14:28:32.612Z"
   },
   {
    "duration": 8,
    "start_time": "2022-01-26T14:28:33.661Z"
   },
   {
    "duration": 104,
    "start_time": "2022-01-26T14:28:34.830Z"
   },
   {
    "duration": 4,
    "start_time": "2022-01-26T14:28:35.371Z"
   },
   {
    "duration": 19,
    "start_time": "2022-01-26T14:28:35.424Z"
   },
   {
    "duration": 11,
    "start_time": "2022-01-26T14:28:35.530Z"
   },
   {
    "duration": 49,
    "start_time": "2022-01-26T14:28:35.737Z"
   },
   {
    "duration": 34,
    "start_time": "2022-01-26T14:28:36.059Z"
   },
   {
    "duration": 40,
    "start_time": "2022-01-26T14:28:36.235Z"
   },
   {
    "duration": 18,
    "start_time": "2022-01-26T14:28:36.409Z"
   },
   {
    "duration": 7,
    "start_time": "2022-01-26T14:28:36.742Z"
   },
   {
    "duration": 29,
    "start_time": "2022-01-26T14:28:36.887Z"
   },
   {
    "duration": 28,
    "start_time": "2022-01-26T14:28:37.051Z"
   },
   {
    "duration": 53,
    "start_time": "2022-01-26T14:28:37.369Z"
   },
   {
    "duration": 28,
    "start_time": "2022-01-26T14:28:38.043Z"
   },
   {
    "duration": 34,
    "start_time": "2022-01-26T14:28:38.219Z"
   },
   {
    "duration": 601,
    "start_time": "2022-01-26T14:28:38.393Z"
   },
   {
    "duration": 39,
    "start_time": "2022-01-26T14:28:38.998Z"
   },
   {
    "duration": 479,
    "start_time": "2022-01-26T14:28:39.273Z"
   },
   {
    "duration": 434,
    "start_time": "2022-01-26T14:28:39.754Z"
   },
   {
    "duration": 402,
    "start_time": "2022-01-26T14:28:40.190Z"
   },
   {
    "duration": 231,
    "start_time": "2022-01-26T14:28:40.597Z"
   },
   {
    "duration": 236,
    "start_time": "2022-01-26T14:28:40.830Z"
   },
   {
    "duration": 401,
    "start_time": "2022-01-26T14:31:43.066Z"
   },
   {
    "duration": 11,
    "start_time": "2022-01-26T14:31:57.074Z"
   },
   {
    "duration": 445,
    "start_time": "2022-01-26T14:32:12.798Z"
   },
   {
    "duration": 348,
    "start_time": "2022-01-26T14:32:28.553Z"
   },
   {
    "duration": 782,
    "start_time": "2022-01-26T14:32:38.531Z"
   },
   {
    "duration": 8,
    "start_time": "2022-01-26T14:32:39.495Z"
   },
   {
    "duration": 108,
    "start_time": "2022-01-26T14:32:39.840Z"
   },
   {
    "duration": 5,
    "start_time": "2022-01-26T14:32:40.173Z"
   },
   {
    "duration": 24,
    "start_time": "2022-01-26T14:32:40.321Z"
   },
   {
    "duration": 10,
    "start_time": "2022-01-26T14:32:40.498Z"
   },
   {
    "duration": 54,
    "start_time": "2022-01-26T14:32:40.887Z"
   },
   {
    "duration": 47,
    "start_time": "2022-01-26T14:32:41.215Z"
   },
   {
    "duration": 50,
    "start_time": "2022-01-26T14:32:41.381Z"
   },
   {
    "duration": 25,
    "start_time": "2022-01-26T14:32:41.522Z"
   },
   {
    "duration": 9,
    "start_time": "2022-01-26T14:32:41.845Z"
   },
   {
    "duration": 29,
    "start_time": "2022-01-26T14:32:42.023Z"
   },
   {
    "duration": 27,
    "start_time": "2022-01-26T14:32:42.206Z"
   },
   {
    "duration": 48,
    "start_time": "2022-01-26T14:32:42.540Z"
   },
   {
    "duration": 28,
    "start_time": "2022-01-26T14:32:43.234Z"
   },
   {
    "duration": 33,
    "start_time": "2022-01-26T14:32:43.406Z"
   },
   {
    "duration": 599,
    "start_time": "2022-01-26T14:32:43.561Z"
   },
   {
    "duration": 47,
    "start_time": "2022-01-26T14:32:44.162Z"
   },
   {
    "duration": 474,
    "start_time": "2022-01-26T14:32:44.577Z"
   },
   {
    "duration": 395,
    "start_time": "2022-01-26T14:32:45.361Z"
   },
   {
    "duration": 350,
    "start_time": "2022-01-26T14:32:47.322Z"
   },
   {
    "duration": 404,
    "start_time": "2022-01-26T14:32:49.851Z"
   },
   {
    "duration": 513,
    "start_time": "2022-01-26T14:34:05.574Z"
   },
   {
    "duration": 702,
    "start_time": "2022-01-26T14:34:34.167Z"
   },
   {
    "duration": 1055,
    "start_time": "2022-01-26T14:35:06.782Z"
   },
   {
    "duration": 5394,
    "start_time": "2022-01-26T14:35:13.966Z"
   },
   {
    "duration": 467,
    "start_time": "2022-01-26T14:35:26.262Z"
   },
   {
    "duration": 384,
    "start_time": "2022-01-26T14:37:44.466Z"
   },
   {
    "duration": 414,
    "start_time": "2022-01-26T14:38:32.805Z"
   },
   {
    "duration": 531,
    "start_time": "2022-01-26T14:39:02.776Z"
   },
   {
    "duration": 711,
    "start_time": "2022-01-26T14:39:10.519Z"
   },
   {
    "duration": 8,
    "start_time": "2022-01-26T14:39:11.235Z"
   },
   {
    "duration": 141,
    "start_time": "2022-01-26T14:39:11.247Z"
   },
   {
    "duration": 5,
    "start_time": "2022-01-26T14:39:11.541Z"
   },
   {
    "duration": 18,
    "start_time": "2022-01-26T14:39:11.681Z"
   },
   {
    "duration": 14,
    "start_time": "2022-01-26T14:39:11.848Z"
   },
   {
    "duration": 51,
    "start_time": "2022-01-26T14:39:12.209Z"
   },
   {
    "duration": 31,
    "start_time": "2022-01-26T14:39:12.550Z"
   },
   {
    "duration": 39,
    "start_time": "2022-01-26T14:39:12.731Z"
   },
   {
    "duration": 21,
    "start_time": "2022-01-26T14:39:12.925Z"
   },
   {
    "duration": 8,
    "start_time": "2022-01-26T14:39:13.306Z"
   },
   {
    "duration": 39,
    "start_time": "2022-01-26T14:39:13.489Z"
   },
   {
    "duration": 42,
    "start_time": "2022-01-26T14:39:13.667Z"
   },
   {
    "duration": 57,
    "start_time": "2022-01-26T14:39:14.128Z"
   },
   {
    "duration": 28,
    "start_time": "2022-01-26T14:39:14.786Z"
   },
   {
    "duration": 34,
    "start_time": "2022-01-26T14:39:15.368Z"
   },
   {
    "duration": 607,
    "start_time": "2022-01-26T14:39:15.684Z"
   },
   {
    "duration": 28,
    "start_time": "2022-01-26T14:39:16.298Z"
   },
   {
    "duration": 471,
    "start_time": "2022-01-26T14:39:18.276Z"
   },
   {
    "duration": 415,
    "start_time": "2022-01-26T14:39:18.905Z"
   },
   {
    "duration": 439,
    "start_time": "2022-01-26T14:39:19.710Z"
   },
   {
    "duration": 396,
    "start_time": "2022-01-26T14:39:21.343Z"
   },
   {
    "duration": 231,
    "start_time": "2022-01-26T14:39:23.294Z"
   },
   {
    "duration": 251,
    "start_time": "2022-01-26T14:39:57.790Z"
   },
   {
    "duration": 476,
    "start_time": "2022-01-26T14:40:15.821Z"
   },
   {
    "duration": 314,
    "start_time": "2022-01-26T14:40:19.851Z"
   },
   {
    "duration": 274,
    "start_time": "2022-01-26T14:41:57.442Z"
   },
   {
    "duration": 242,
    "start_time": "2022-01-26T14:42:23.783Z"
   },
   {
    "duration": 263,
    "start_time": "2022-01-26T14:42:40.494Z"
   },
   {
    "duration": 284,
    "start_time": "2022-01-26T14:43:19.596Z"
   },
   {
    "duration": 282,
    "start_time": "2022-01-26T14:44:39.896Z"
   },
   {
    "duration": 243,
    "start_time": "2022-01-26T14:46:23.914Z"
   },
   {
    "duration": 220,
    "start_time": "2022-01-26T14:46:44.352Z"
   },
   {
    "duration": 210,
    "start_time": "2022-01-26T14:46:59.717Z"
   },
   {
    "duration": 699,
    "start_time": "2022-01-26T14:47:41.491Z"
   },
   {
    "duration": 8,
    "start_time": "2022-01-26T14:47:42.302Z"
   },
   {
    "duration": 96,
    "start_time": "2022-01-26T14:47:42.638Z"
   },
   {
    "duration": 4,
    "start_time": "2022-01-26T14:47:43.034Z"
   },
   {
    "duration": 17,
    "start_time": "2022-01-26T14:47:43.376Z"
   },
   {
    "duration": 14,
    "start_time": "2022-01-26T14:47:43.540Z"
   },
   {
    "duration": 45,
    "start_time": "2022-01-26T14:47:43.857Z"
   },
   {
    "duration": 34,
    "start_time": "2022-01-26T14:47:44.353Z"
   },
   {
    "duration": 38,
    "start_time": "2022-01-26T14:47:44.533Z"
   },
   {
    "duration": 17,
    "start_time": "2022-01-26T14:47:44.704Z"
   },
   {
    "duration": 7,
    "start_time": "2022-01-26T14:47:45.045Z"
   },
   {
    "duration": 28,
    "start_time": "2022-01-26T14:47:45.202Z"
   },
   {
    "duration": 29,
    "start_time": "2022-01-26T14:47:45.385Z"
   },
   {
    "duration": 51,
    "start_time": "2022-01-26T14:47:45.716Z"
   },
   {
    "duration": 27,
    "start_time": "2022-01-26T14:47:46.444Z"
   },
   {
    "duration": 33,
    "start_time": "2022-01-26T14:47:46.608Z"
   },
   {
    "duration": 601,
    "start_time": "2022-01-26T14:47:47.032Z"
   },
   {
    "duration": 27,
    "start_time": "2022-01-26T14:47:47.636Z"
   },
   {
    "duration": 466,
    "start_time": "2022-01-26T14:47:47.724Z"
   },
   {
    "duration": 419,
    "start_time": "2022-01-26T14:47:48.196Z"
   },
   {
    "duration": 401,
    "start_time": "2022-01-26T14:47:48.617Z"
   },
   {
    "duration": 393,
    "start_time": "2022-01-26T14:47:53.107Z"
   },
   {
    "duration": 269,
    "start_time": "2022-01-26T14:47:53.986Z"
   },
   {
    "duration": 227,
    "start_time": "2022-01-26T14:48:18.874Z"
   },
   {
    "duration": 217,
    "start_time": "2022-01-26T14:49:13.611Z"
   },
   {
    "duration": 296,
    "start_time": "2022-01-26T14:49:25.850Z"
   },
   {
    "duration": 220,
    "start_time": "2022-01-26T14:49:31.480Z"
   },
   {
    "duration": 220,
    "start_time": "2022-01-26T14:53:09.558Z"
   },
   {
    "duration": 677,
    "start_time": "2022-01-26T14:53:18.130Z"
   },
   {
    "duration": 105,
    "start_time": "2022-01-26T14:56:04.675Z"
   },
   {
    "duration": 7,
    "start_time": "2022-01-26T14:56:05.660Z"
   },
   {
    "duration": 102,
    "start_time": "2022-01-26T14:56:06.001Z"
   },
   {
    "duration": 4,
    "start_time": "2022-01-26T14:56:06.340Z"
   },
   {
    "duration": 18,
    "start_time": "2022-01-26T14:56:08.646Z"
   },
   {
    "duration": 10,
    "start_time": "2022-01-26T14:56:08.810Z"
   },
   {
    "duration": 35,
    "start_time": "2022-01-26T14:56:09.130Z"
   },
   {
    "duration": 32,
    "start_time": "2022-01-26T14:56:09.442Z"
   },
   {
    "duration": 35,
    "start_time": "2022-01-26T14:56:09.603Z"
   },
   {
    "duration": 18,
    "start_time": "2022-01-26T14:56:09.770Z"
   },
   {
    "duration": 7,
    "start_time": "2022-01-26T14:56:10.118Z"
   },
   {
    "duration": 27,
    "start_time": "2022-01-26T14:56:10.345Z"
   },
   {
    "duration": 26,
    "start_time": "2022-01-26T14:56:10.514Z"
   },
   {
    "duration": 49,
    "start_time": "2022-01-26T14:56:10.898Z"
   },
   {
    "duration": 25,
    "start_time": "2022-01-26T14:56:12.288Z"
   },
   {
    "duration": 32,
    "start_time": "2022-01-26T14:56:12.433Z"
   },
   {
    "duration": 576,
    "start_time": "2022-01-26T14:56:12.572Z"
   },
   {
    "duration": 26,
    "start_time": "2022-01-26T14:56:13.150Z"
   },
   {
    "duration": 465,
    "start_time": "2022-01-26T14:56:14.022Z"
   },
   {
    "duration": 381,
    "start_time": "2022-01-26T14:56:14.690Z"
   },
   {
    "duration": 348,
    "start_time": "2022-01-26T14:56:18.577Z"
   },
   {
    "duration": 373,
    "start_time": "2022-01-26T14:56:19.240Z"
   },
   {
    "duration": 216,
    "start_time": "2022-01-26T14:56:21.411Z"
   },
   {
    "duration": 215,
    "start_time": "2022-01-26T14:56:22.299Z"
   },
   {
    "duration": 223,
    "start_time": "2022-01-26T14:56:25.685Z"
   },
   {
    "duration": 300,
    "start_time": "2022-01-26T14:56:36.229Z"
   },
   {
    "duration": 700,
    "start_time": "2022-01-26T14:56:51.690Z"
   },
   {
    "duration": 9,
    "start_time": "2022-01-26T14:56:52.392Z"
   },
   {
    "duration": 111,
    "start_time": "2022-01-26T14:56:52.403Z"
   },
   {
    "duration": 3,
    "start_time": "2022-01-26T14:56:52.517Z"
   },
   {
    "duration": 30,
    "start_time": "2022-01-26T14:56:52.522Z"
   },
   {
    "duration": 9,
    "start_time": "2022-01-26T14:56:52.554Z"
   },
   {
    "duration": 49,
    "start_time": "2022-01-26T14:56:52.565Z"
   },
   {
    "duration": 30,
    "start_time": "2022-01-26T14:56:52.617Z"
   },
   {
    "duration": 57,
    "start_time": "2022-01-26T14:56:52.649Z"
   },
   {
    "duration": 16,
    "start_time": "2022-01-26T14:56:52.708Z"
   },
   {
    "duration": 6,
    "start_time": "2022-01-26T14:56:52.726Z"
   },
   {
    "duration": 37,
    "start_time": "2022-01-26T14:56:52.733Z"
   },
   {
    "duration": 42,
    "start_time": "2022-01-26T14:56:52.771Z"
   },
   {
    "duration": 51,
    "start_time": "2022-01-26T14:56:52.814Z"
   },
   {
    "duration": 45,
    "start_time": "2022-01-26T14:56:52.866Z"
   },
   {
    "duration": 32,
    "start_time": "2022-01-26T14:56:52.913Z"
   },
   {
    "duration": 613,
    "start_time": "2022-01-26T14:56:52.947Z"
   },
   {
    "duration": 25,
    "start_time": "2022-01-26T14:56:53.562Z"
   },
   {
    "duration": 472,
    "start_time": "2022-01-26T14:56:53.588Z"
   },
   {
    "duration": 385,
    "start_time": "2022-01-26T14:56:54.097Z"
   },
   {
    "duration": 394,
    "start_time": "2022-01-26T14:56:54.484Z"
   },
   {
    "duration": 380,
    "start_time": "2022-01-26T14:56:54.880Z"
   },
   {
    "duration": 226,
    "start_time": "2022-01-26T14:56:55.263Z"
   },
   {
    "duration": 313,
    "start_time": "2022-01-26T14:56:55.492Z"
   },
   {
    "duration": 267,
    "start_time": "2022-01-26T14:56:55.808Z"
   },
   {
    "duration": 477,
    "start_time": "2022-01-26T14:56:56.077Z"
   },
   {
    "duration": 228,
    "start_time": "2022-01-26T14:57:52.583Z"
   },
   {
    "duration": 705,
    "start_time": "2022-01-26T14:57:58.293Z"
   },
   {
    "duration": 7,
    "start_time": "2022-01-26T14:57:59.000Z"
   },
   {
    "duration": 118,
    "start_time": "2022-01-26T14:57:59.010Z"
   },
   {
    "duration": 4,
    "start_time": "2022-01-26T14:57:59.131Z"
   },
   {
    "duration": 21,
    "start_time": "2022-01-26T14:57:59.137Z"
   },
   {
    "duration": 10,
    "start_time": "2022-01-26T14:57:59.160Z"
   },
   {
    "duration": 36,
    "start_time": "2022-01-26T14:57:59.197Z"
   },
   {
    "duration": 35,
    "start_time": "2022-01-26T14:57:59.236Z"
   },
   {
    "duration": 60,
    "start_time": "2022-01-26T14:57:59.274Z"
   },
   {
    "duration": 19,
    "start_time": "2022-01-26T14:57:59.337Z"
   },
   {
    "duration": 39,
    "start_time": "2022-01-26T14:57:59.358Z"
   },
   {
    "duration": 29,
    "start_time": "2022-01-26T14:57:59.399Z"
   },
   {
    "duration": 26,
    "start_time": "2022-01-26T14:57:59.430Z"
   },
   {
    "duration": 74,
    "start_time": "2022-01-26T14:57:59.458Z"
   },
   {
    "duration": 27,
    "start_time": "2022-01-26T14:57:59.534Z"
   },
   {
    "duration": 47,
    "start_time": "2022-01-26T14:57:59.563Z"
   },
   {
    "duration": 564,
    "start_time": "2022-01-26T14:57:59.612Z"
   },
   {
    "duration": 29,
    "start_time": "2022-01-26T14:58:00.178Z"
   },
   {
    "duration": 488,
    "start_time": "2022-01-26T14:58:00.209Z"
   },
   {
    "duration": 409,
    "start_time": "2022-01-26T14:58:00.699Z"
   },
   {
    "duration": 372,
    "start_time": "2022-01-26T14:58:01.110Z"
   },
   {
    "duration": 396,
    "start_time": "2022-01-26T14:58:01.484Z"
   },
   {
    "duration": 250,
    "start_time": "2022-01-26T14:58:01.884Z"
   },
   {
    "duration": 223,
    "start_time": "2022-01-26T14:58:02.136Z"
   },
   {
    "duration": 242,
    "start_time": "2022-01-26T14:58:02.361Z"
   },
   {
    "duration": 495,
    "start_time": "2022-01-26T14:58:02.604Z"
   },
   {
    "duration": 230,
    "start_time": "2022-01-26T14:58:15.436Z"
   },
   {
    "duration": 249,
    "start_time": "2022-01-26T14:58:44.159Z"
   },
   {
    "duration": 370,
    "start_time": "2022-01-26T14:59:34.718Z"
   },
   {
    "duration": 717,
    "start_time": "2022-01-26T15:00:28.670Z"
   },
   {
    "duration": 10,
    "start_time": "2022-01-26T15:00:29.389Z"
   },
   {
    "duration": 104,
    "start_time": "2022-01-26T15:00:29.401Z"
   },
   {
    "duration": 3,
    "start_time": "2022-01-26T15:00:29.507Z"
   },
   {
    "duration": 23,
    "start_time": "2022-01-26T15:00:29.512Z"
   },
   {
    "duration": 9,
    "start_time": "2022-01-26T15:00:29.537Z"
   },
   {
    "duration": 51,
    "start_time": "2022-01-26T15:00:29.547Z"
   },
   {
    "duration": 31,
    "start_time": "2022-01-26T15:00:29.601Z"
   },
   {
    "duration": 36,
    "start_time": "2022-01-26T15:00:29.634Z"
   },
   {
    "duration": 18,
    "start_time": "2022-01-26T15:00:29.696Z"
   },
   {
    "duration": 6,
    "start_time": "2022-01-26T15:00:29.715Z"
   },
   {
    "duration": 31,
    "start_time": "2022-01-26T15:00:29.723Z"
   },
   {
    "duration": 55,
    "start_time": "2022-01-26T15:00:29.756Z"
   },
   {
    "duration": 49,
    "start_time": "2022-01-26T15:00:29.813Z"
   },
   {
    "duration": 42,
    "start_time": "2022-01-26T15:00:29.864Z"
   },
   {
    "duration": 31,
    "start_time": "2022-01-26T15:00:29.908Z"
   },
   {
    "duration": 596,
    "start_time": "2022-01-26T15:00:29.942Z"
   },
   {
    "duration": 27,
    "start_time": "2022-01-26T15:00:30.540Z"
   },
   {
    "duration": 486,
    "start_time": "2022-01-26T15:00:30.569Z"
   },
   {
    "duration": 409,
    "start_time": "2022-01-26T15:00:31.057Z"
   },
   {
    "duration": 370,
    "start_time": "2022-01-26T15:00:31.469Z"
   },
   {
    "duration": 392,
    "start_time": "2022-01-26T15:00:31.841Z"
   },
   {
    "duration": 247,
    "start_time": "2022-01-26T15:00:32.236Z"
   },
   {
    "duration": 235,
    "start_time": "2022-01-26T15:00:32.485Z"
   },
   {
    "duration": 252,
    "start_time": "2022-01-26T15:00:32.722Z"
   },
   {
    "duration": 452,
    "start_time": "2022-01-26T15:00:32.976Z"
   },
   {
    "duration": 18,
    "start_time": "2022-01-26T15:00:33.430Z"
   },
   {
    "duration": 362,
    "start_time": "2022-01-26T15:01:59.038Z"
   },
   {
    "duration": 376,
    "start_time": "2022-01-26T15:02:35.171Z"
   },
   {
    "duration": 376,
    "start_time": "2022-01-26T15:02:44.435Z"
   },
   {
    "duration": 381,
    "start_time": "2022-01-26T15:03:00.118Z"
   },
   {
    "duration": 484,
    "start_time": "2022-01-26T15:03:04.915Z"
   },
   {
    "duration": 542,
    "start_time": "2022-01-26T15:04:35.472Z"
   },
   {
    "duration": 385,
    "start_time": "2022-01-26T15:04:47.926Z"
   },
   {
    "duration": 368,
    "start_time": "2022-01-26T15:04:55.375Z"
   },
   {
    "duration": 380,
    "start_time": "2022-01-26T15:05:03.020Z"
   },
   {
    "duration": 527,
    "start_time": "2022-01-26T15:05:12.759Z"
   },
   {
    "duration": 10,
    "start_time": "2022-01-26T15:05:50.026Z"
   },
   {
    "duration": 371,
    "start_time": "2022-01-26T15:06:05.651Z"
   },
   {
    "duration": 464,
    "start_time": "2022-01-26T15:06:20.528Z"
   },
   {
    "duration": 8,
    "start_time": "2022-01-26T15:13:48.652Z"
   },
   {
    "duration": 484,
    "start_time": "2022-01-26T15:15:04.323Z"
   },
   {
    "duration": 683,
    "start_time": "2022-01-26T15:15:22.214Z"
   },
   {
    "duration": 8,
    "start_time": "2022-01-26T15:15:22.899Z"
   },
   {
    "duration": 116,
    "start_time": "2022-01-26T15:15:22.909Z"
   },
   {
    "duration": 4,
    "start_time": "2022-01-26T15:15:23.027Z"
   },
   {
    "duration": 21,
    "start_time": "2022-01-26T15:15:23.033Z"
   },
   {
    "duration": 9,
    "start_time": "2022-01-26T15:15:23.056Z"
   },
   {
    "duration": 61,
    "start_time": "2022-01-26T15:15:23.067Z"
   },
   {
    "duration": 31,
    "start_time": "2022-01-26T15:15:23.131Z"
   },
   {
    "duration": 59,
    "start_time": "2022-01-26T15:15:23.164Z"
   },
   {
    "duration": 18,
    "start_time": "2022-01-26T15:15:23.226Z"
   },
   {
    "duration": 16,
    "start_time": "2022-01-26T15:15:23.246Z"
   },
   {
    "duration": 41,
    "start_time": "2022-01-26T15:15:23.263Z"
   },
   {
    "duration": 26,
    "start_time": "2022-01-26T15:15:23.305Z"
   },
   {
    "duration": 69,
    "start_time": "2022-01-26T15:15:23.332Z"
   },
   {
    "duration": 27,
    "start_time": "2022-01-26T15:15:23.403Z"
   },
   {
    "duration": 32,
    "start_time": "2022-01-26T15:15:23.431Z"
   },
   {
    "duration": 614,
    "start_time": "2022-01-26T15:15:23.464Z"
   },
   {
    "duration": 34,
    "start_time": "2022-01-26T15:15:24.080Z"
   },
   {
    "duration": 454,
    "start_time": "2022-01-26T15:15:24.116Z"
   },
   {
    "duration": 411,
    "start_time": "2022-01-26T15:15:24.571Z"
   },
   {
    "duration": 377,
    "start_time": "2022-01-26T15:15:24.984Z"
   },
   {
    "duration": 388,
    "start_time": "2022-01-26T15:15:25.363Z"
   },
   {
    "duration": 235,
    "start_time": "2022-01-26T15:15:25.754Z"
   },
   {
    "duration": 228,
    "start_time": "2022-01-26T15:15:25.990Z"
   },
   {
    "duration": 277,
    "start_time": "2022-01-26T15:15:26.219Z"
   },
   {
    "duration": 461,
    "start_time": "2022-01-26T15:15:26.497Z"
   },
   {
    "duration": 460,
    "start_time": "2022-01-26T15:15:26.960Z"
   },
   {
    "duration": 6,
    "start_time": "2022-01-26T15:15:27.422Z"
   },
   {
    "duration": 364,
    "start_time": "2022-01-26T15:15:48.081Z"
   },
   {
    "duration": 357,
    "start_time": "2022-01-26T15:15:53.960Z"
   },
   {
    "duration": 359,
    "start_time": "2022-01-26T15:16:10.665Z"
   },
   {
    "duration": 566,
    "start_time": "2022-01-26T15:16:22.285Z"
   },
   {
    "duration": 548,
    "start_time": "2022-01-26T15:16:56.344Z"
   },
   {
    "duration": 517,
    "start_time": "2022-01-26T15:17:02.344Z"
   },
   {
    "duration": 519,
    "start_time": "2022-01-26T15:18:35.936Z"
   },
   {
    "duration": 587,
    "start_time": "2022-01-26T15:18:49.704Z"
   },
   {
    "duration": 57,
    "start_time": "2022-01-26T15:21:59.648Z"
   },
   {
    "duration": 696,
    "start_time": "2022-01-26T15:22:24.335Z"
   },
   {
    "duration": 16,
    "start_time": "2022-01-26T15:23:07.324Z"
   },
   {
    "duration": 607,
    "start_time": "2022-01-26T15:23:14.573Z"
   },
   {
    "duration": 586,
    "start_time": "2022-01-26T15:24:13.711Z"
   },
   {
    "duration": 404,
    "start_time": "2022-01-26T15:25:42.067Z"
   },
   {
    "duration": 154,
    "start_time": "2022-01-26T15:26:04.156Z"
   },
   {
    "duration": 675,
    "start_time": "2022-01-29T11:53:24.767Z"
   },
   {
    "duration": 6,
    "start_time": "2022-01-29T11:53:25.444Z"
   },
   {
    "duration": 96,
    "start_time": "2022-01-29T11:53:25.459Z"
   },
   {
    "duration": 5,
    "start_time": "2022-01-29T11:53:25.557Z"
   },
   {
    "duration": 42,
    "start_time": "2022-01-29T11:53:25.563Z"
   },
   {
    "duration": 11,
    "start_time": "2022-01-29T11:53:25.606Z"
   },
   {
    "duration": 49,
    "start_time": "2022-01-29T11:53:25.619Z"
   },
   {
    "duration": 26,
    "start_time": "2022-01-29T11:53:25.671Z"
   },
   {
    "duration": 33,
    "start_time": "2022-01-29T11:53:25.699Z"
   },
   {
    "duration": 35,
    "start_time": "2022-01-29T11:53:25.733Z"
   },
   {
    "duration": 34,
    "start_time": "2022-01-29T11:53:25.770Z"
   },
   {
    "duration": 39,
    "start_time": "2022-01-29T11:53:25.805Z"
   },
   {
    "duration": 38,
    "start_time": "2022-01-29T11:53:25.845Z"
   },
   {
    "duration": 45,
    "start_time": "2022-01-29T11:53:25.884Z"
   },
   {
    "duration": 34,
    "start_time": "2022-01-29T11:53:25.930Z"
   },
   {
    "duration": 28,
    "start_time": "2022-01-29T11:53:25.966Z"
   },
   {
    "duration": 582,
    "start_time": "2022-01-29T11:53:25.996Z"
   },
   {
    "duration": 27,
    "start_time": "2022-01-29T11:53:26.580Z"
   },
   {
    "duration": 616,
    "start_time": "2022-01-29T11:53:26.609Z"
   },
   {
    "duration": 356,
    "start_time": "2022-01-29T11:53:27.227Z"
   },
   {
    "duration": 314,
    "start_time": "2022-01-29T11:53:27.584Z"
   },
   {
    "duration": 334,
    "start_time": "2022-01-29T11:53:27.899Z"
   },
   {
    "duration": 206,
    "start_time": "2022-01-29T11:53:28.236Z"
   },
   {
    "duration": 194,
    "start_time": "2022-01-29T11:53:28.444Z"
   },
   {
    "duration": 213,
    "start_time": "2022-01-29T11:53:28.639Z"
   },
   {
    "duration": 376,
    "start_time": "2022-01-29T11:53:28.854Z"
   },
   {
    "duration": 515,
    "start_time": "2022-01-29T11:53:29.231Z"
   },
   {
    "duration": 553,
    "start_time": "2022-01-29T11:53:29.748Z"
   },
   {
    "duration": 150,
    "start_time": "2022-01-29T11:53:30.303Z"
   },
   {
    "duration": 22,
    "start_time": "2022-01-29T12:03:31.441Z"
   },
   {
    "duration": 13,
    "start_time": "2022-01-29T12:08:56.669Z"
   },
   {
    "duration": 15,
    "start_time": "2022-01-29T12:09:05.400Z"
   },
   {
    "duration": 15,
    "start_time": "2022-01-29T12:12:19.921Z"
   },
   {
    "duration": 690,
    "start_time": "2022-01-29T12:18:10.112Z"
   },
   {
    "duration": 7,
    "start_time": "2022-01-29T12:18:10.803Z"
   },
   {
    "duration": 107,
    "start_time": "2022-01-29T12:18:10.812Z"
   },
   {
    "duration": 4,
    "start_time": "2022-01-29T12:18:10.921Z"
   },
   {
    "duration": 21,
    "start_time": "2022-01-29T12:18:10.926Z"
   },
   {
    "duration": 10,
    "start_time": "2022-01-29T12:18:10.960Z"
   },
   {
    "duration": 35,
    "start_time": "2022-01-29T12:18:10.972Z"
   },
   {
    "duration": 57,
    "start_time": "2022-01-29T12:18:11.011Z"
   },
   {
    "duration": 36,
    "start_time": "2022-01-29T12:18:11.071Z"
   },
   {
    "duration": 19,
    "start_time": "2022-01-29T12:18:11.109Z"
   },
   {
    "duration": 30,
    "start_time": "2022-01-29T12:18:11.130Z"
   },
   {
    "duration": 30,
    "start_time": "2022-01-29T12:18:11.162Z"
   },
   {
    "duration": 25,
    "start_time": "2022-01-29T12:18:11.194Z"
   },
   {
    "duration": 75,
    "start_time": "2022-01-29T12:18:11.221Z"
   },
   {
    "duration": 24,
    "start_time": "2022-01-29T12:18:11.298Z"
   },
   {
    "duration": 47,
    "start_time": "2022-01-29T12:18:11.324Z"
   },
   {
    "duration": 599,
    "start_time": "2022-01-29T12:18:11.373Z"
   },
   {
    "duration": 23,
    "start_time": "2022-01-29T12:18:11.973Z"
   },
   {
    "duration": 423,
    "start_time": "2022-01-29T12:18:11.998Z"
   },
   {
    "duration": 340,
    "start_time": "2022-01-29T12:18:12.422Z"
   },
   {
    "duration": 317,
    "start_time": "2022-01-29T12:18:12.764Z"
   },
   {
    "duration": 417,
    "start_time": "2022-01-29T12:18:13.083Z"
   },
   {
    "duration": 210,
    "start_time": "2022-01-29T12:18:13.504Z"
   },
   {
    "duration": 192,
    "start_time": "2022-01-29T12:18:13.717Z"
   },
   {
    "duration": 220,
    "start_time": "2022-01-29T12:18:13.911Z"
   },
   {
    "duration": 390,
    "start_time": "2022-01-29T12:18:14.133Z"
   },
   {
    "duration": 524,
    "start_time": "2022-01-29T12:18:14.525Z"
   },
   {
    "duration": 544,
    "start_time": "2022-01-29T12:18:15.052Z"
   },
   {
    "duration": 142,
    "start_time": "2022-01-29T12:18:15.598Z"
   },
   {
    "duration": 25,
    "start_time": "2022-01-29T12:18:15.741Z"
   },
   {
    "duration": 1413,
    "start_time": "2022-01-29T12:21:55.209Z"
   },
   {
    "duration": 25541,
    "start_time": "2022-01-29T12:22:03.459Z"
   },
   {
    "duration": 280,
    "start_time": "2022-01-29T12:23:42.072Z"
   },
   {
    "duration": 284,
    "start_time": "2022-01-29T12:35:40.335Z"
   },
   {
    "duration": 395,
    "start_time": "2022-01-29T12:35:45.372Z"
   },
   {
    "duration": 777,
    "start_time": "2022-01-31T11:12:09.371Z"
   },
   {
    "duration": 6,
    "start_time": "2022-01-31T11:12:10.150Z"
   },
   {
    "duration": 94,
    "start_time": "2022-01-31T11:12:10.157Z"
   },
   {
    "duration": 2,
    "start_time": "2022-01-31T11:12:10.253Z"
   },
   {
    "duration": 17,
    "start_time": "2022-01-31T11:12:10.257Z"
   },
   {
    "duration": 7,
    "start_time": "2022-01-31T11:12:10.276Z"
   },
   {
    "duration": 44,
    "start_time": "2022-01-31T11:12:10.284Z"
   },
   {
    "duration": 24,
    "start_time": "2022-01-31T11:12:10.330Z"
   },
   {
    "duration": 29,
    "start_time": "2022-01-31T11:12:10.356Z"
   },
   {
    "duration": 13,
    "start_time": "2022-01-31T11:12:10.387Z"
   },
   {
    "duration": 28,
    "start_time": "2022-01-31T11:12:10.402Z"
   },
   {
    "duration": 24,
    "start_time": "2022-01-31T11:12:10.431Z"
   },
   {
    "duration": 25,
    "start_time": "2022-01-31T11:12:10.456Z"
   },
   {
    "duration": 58,
    "start_time": "2022-01-31T11:12:10.482Z"
   },
   {
    "duration": 21,
    "start_time": "2022-01-31T11:12:10.541Z"
   },
   {
    "duration": 26,
    "start_time": "2022-01-31T11:12:10.564Z"
   },
   {
    "duration": 542,
    "start_time": "2022-01-31T11:12:10.591Z"
   },
   {
    "duration": 21,
    "start_time": "2022-01-31T11:12:11.134Z"
   },
   {
    "duration": 371,
    "start_time": "2022-01-31T11:12:11.156Z"
   },
   {
    "duration": 305,
    "start_time": "2022-01-31T11:12:11.528Z"
   },
   {
    "duration": 284,
    "start_time": "2022-01-31T11:12:11.835Z"
   },
   {
    "duration": 306,
    "start_time": "2022-01-31T11:12:12.121Z"
   },
   {
    "duration": 189,
    "start_time": "2022-01-31T11:12:12.429Z"
   },
   {
    "duration": 176,
    "start_time": "2022-01-31T11:12:12.620Z"
   },
   {
    "duration": 181,
    "start_time": "2022-01-31T11:12:12.798Z"
   },
   {
    "duration": 355,
    "start_time": "2022-01-31T11:12:12.980Z"
   },
   {
    "duration": 476,
    "start_time": "2022-01-31T11:12:13.337Z"
   },
   {
    "duration": 496,
    "start_time": "2022-01-31T11:12:13.815Z"
   },
   {
    "duration": 130,
    "start_time": "2022-01-31T11:12:14.312Z"
   },
   {
    "duration": 846,
    "start_time": "2022-01-31T11:12:14.443Z"
   },
   {
    "duration": 338,
    "start_time": "2022-01-31T11:17:50.159Z"
   },
   {
    "duration": 364,
    "start_time": "2022-01-31T11:20:08.963Z"
   },
   {
    "duration": 434,
    "start_time": "2022-01-31T11:20:43.303Z"
   },
   {
    "duration": 389,
    "start_time": "2022-01-31T11:21:24.814Z"
   },
   {
    "duration": 406,
    "start_time": "2022-01-31T11:24:14.937Z"
   },
   {
    "duration": 384,
    "start_time": "2022-01-31T11:24:24.393Z"
   },
   {
    "duration": 256,
    "start_time": "2022-01-31T11:24:36.653Z"
   },
   {
    "duration": 252,
    "start_time": "2022-01-31T11:24:43.337Z"
   },
   {
    "duration": 245,
    "start_time": "2022-01-31T11:24:47.469Z"
   },
   {
    "duration": 253,
    "start_time": "2022-01-31T11:24:51.540Z"
   },
   {
    "duration": 332,
    "start_time": "2022-01-31T11:25:18.657Z"
   },
   {
    "duration": 333,
    "start_time": "2022-01-31T11:25:43.252Z"
   },
   {
    "duration": 34,
    "start_time": "2022-01-31T11:26:12.916Z"
   },
   {
    "duration": 1262,
    "start_time": "2022-01-31T11:26:55.219Z"
   },
   {
    "duration": 10,
    "start_time": "2022-01-31T11:27:22.151Z"
   },
   {
    "duration": 345,
    "start_time": "2022-01-31T11:28:10.560Z"
   },
   {
    "duration": 1221,
    "start_time": "2022-01-31T11:28:36.863Z"
   },
   {
    "duration": 116,
    "start_time": "2022-01-31T11:30:29.381Z"
   },
   {
    "duration": 1292,
    "start_time": "2022-01-31T11:30:37.208Z"
   },
   {
    "duration": 1259,
    "start_time": "2022-01-31T11:31:12.591Z"
   },
   {
    "duration": 13566,
    "start_time": "2022-01-31T11:31:29.502Z"
   },
   {
    "duration": 402,
    "start_time": "2022-01-31T11:32:19.801Z"
   },
   {
    "duration": 1238,
    "start_time": "2022-01-31T11:32:37.633Z"
   },
   {
    "duration": 358,
    "start_time": "2022-01-31T11:32:43.633Z"
   },
   {
    "duration": 367,
    "start_time": "2022-01-31T11:32:53.226Z"
   },
   {
    "duration": 348,
    "start_time": "2022-01-31T11:35:34.329Z"
   },
   {
    "duration": 1566,
    "start_time": "2022-01-31T11:37:42.937Z"
   },
   {
    "duration": 380,
    "start_time": "2022-01-31T11:39:42.247Z"
   },
   {
    "duration": 355,
    "start_time": "2022-01-31T11:39:59.674Z"
   },
   {
    "duration": 2837,
    "start_time": "2022-01-31T11:40:29.006Z"
   },
   {
    "duration": 3203,
    "start_time": "2022-01-31T11:40:32.446Z"
   },
   {
    "duration": 45769,
    "start_time": "2022-01-31T11:41:53.412Z"
   },
   {
    "duration": 1146,
    "start_time": "2022-01-31T11:44:02.402Z"
   },
   {
    "duration": 537,
    "start_time": "2022-01-31T11:44:11.331Z"
   },
   {
    "duration": 396,
    "start_time": "2022-01-31T11:44:42.720Z"
   },
   {
    "duration": 23320,
    "start_time": "2022-01-31T11:44:51.947Z"
   },
   {
    "duration": 1097,
    "start_time": "2022-01-31T11:46:06.904Z"
   },
   {
    "duration": 413,
    "start_time": "2022-01-31T11:46:39.196Z"
   },
   {
    "duration": 356,
    "start_time": "2022-01-31T11:46:43.674Z"
   },
   {
    "duration": 318,
    "start_time": "2022-01-31T11:47:11.477Z"
   },
   {
    "duration": 124,
    "start_time": "2022-01-31T11:47:24.045Z"
   },
   {
    "duration": 475,
    "start_time": "2022-01-31T11:47:27.091Z"
   },
   {
    "duration": 363,
    "start_time": "2022-01-31T11:47:31.474Z"
   },
   {
    "duration": 361,
    "start_time": "2022-01-31T11:48:04.477Z"
   },
   {
    "duration": 2086,
    "start_time": "2022-01-31T11:49:20.709Z"
   },
   {
    "duration": 409,
    "start_time": "2022-01-31T11:49:56.611Z"
   },
   {
    "duration": 8,
    "start_time": "2022-01-31T11:53:45.289Z"
   },
   {
    "duration": 12,
    "start_time": "2022-01-31T11:54:56.451Z"
   },
   {
    "duration": 160,
    "start_time": "2022-01-31T11:55:32.356Z"
   },
   {
    "duration": 168,
    "start_time": "2022-01-31T12:01:36.998Z"
   },
   {
    "duration": 169,
    "start_time": "2022-01-31T12:02:06.830Z"
   },
   {
    "duration": 337,
    "start_time": "2022-01-31T12:02:48.842Z"
   },
   {
    "duration": 9084,
    "start_time": "2022-01-31T12:03:07.324Z"
   },
   {
    "duration": 353,
    "start_time": "2022-01-31T12:03:20.928Z"
   },
   {
    "duration": 335,
    "start_time": "2022-01-31T12:04:36.045Z"
   },
   {
    "duration": 370,
    "start_time": "2022-01-31T12:04:50.720Z"
   },
   {
    "duration": 406,
    "start_time": "2022-01-31T12:05:03.776Z"
   },
   {
    "duration": 349,
    "start_time": "2022-01-31T12:05:52.255Z"
   },
   {
    "duration": 1536,
    "start_time": "2022-01-31T12:06:21.195Z"
   },
   {
    "duration": 640,
    "start_time": "2022-01-31T12:07:37.459Z"
   },
   {
    "duration": 558,
    "start_time": "2022-01-31T12:07:48.205Z"
   },
   {
    "duration": 568,
    "start_time": "2022-01-31T12:07:56.150Z"
   },
   {
    "duration": 577,
    "start_time": "2022-01-31T12:07:59.644Z"
   },
   {
    "duration": 703,
    "start_time": "2022-01-31T12:08:08.023Z"
   },
   {
    "duration": 7260,
    "start_time": "2022-01-31T12:14:01.803Z"
   },
   {
    "duration": 363,
    "start_time": "2022-01-31T12:14:58.627Z"
   },
   {
    "duration": 59,
    "start_time": "2022-01-31T12:24:26.459Z"
   },
   {
    "duration": 90,
    "start_time": "2022-01-31T12:25:01.546Z"
   },
   {
    "duration": 8762,
    "start_time": "2022-01-31T12:29:28.976Z"
   },
   {
    "duration": 13698,
    "start_time": "2022-01-31T12:40:48.373Z"
   },
   {
    "duration": 701,
    "start_time": "2022-01-31T12:42:05.134Z"
   },
   {
    "duration": 5,
    "start_time": "2022-01-31T12:42:05.836Z"
   },
   {
    "duration": 95,
    "start_time": "2022-01-31T12:42:05.843Z"
   },
   {
    "duration": 3,
    "start_time": "2022-01-31T12:42:05.939Z"
   },
   {
    "duration": 16,
    "start_time": "2022-01-31T12:42:05.944Z"
   },
   {
    "duration": 7,
    "start_time": "2022-01-31T12:42:05.962Z"
   },
   {
    "duration": 28,
    "start_time": "2022-01-31T12:42:05.971Z"
   },
   {
    "duration": 48,
    "start_time": "2022-01-31T12:42:06.002Z"
   },
   {
    "duration": 30,
    "start_time": "2022-01-31T12:42:06.052Z"
   },
   {
    "duration": 13,
    "start_time": "2022-01-31T12:42:06.084Z"
   },
   {
    "duration": 28,
    "start_time": "2022-01-31T12:42:06.098Z"
   },
   {
    "duration": 25,
    "start_time": "2022-01-31T12:42:06.128Z"
   },
   {
    "duration": 24,
    "start_time": "2022-01-31T12:42:06.154Z"
   },
   {
    "duration": 56,
    "start_time": "2022-01-31T12:42:06.180Z"
   },
   {
    "duration": 23,
    "start_time": "2022-01-31T12:42:06.237Z"
   },
   {
    "duration": 27,
    "start_time": "2022-01-31T12:42:06.261Z"
   },
   {
    "duration": 533,
    "start_time": "2022-01-31T12:42:06.289Z"
   },
   {
    "duration": 22,
    "start_time": "2022-01-31T12:42:06.824Z"
   },
   {
    "duration": 375,
    "start_time": "2022-01-31T12:42:06.847Z"
   },
   {
    "duration": 311,
    "start_time": "2022-01-31T12:42:07.226Z"
   },
   {
    "duration": 289,
    "start_time": "2022-01-31T12:42:07.538Z"
   },
   {
    "duration": 306,
    "start_time": "2022-01-31T12:42:07.828Z"
   },
   {
    "duration": 192,
    "start_time": "2022-01-31T12:42:08.137Z"
   },
   {
    "duration": 183,
    "start_time": "2022-01-31T12:42:08.331Z"
   },
   {
    "duration": 190,
    "start_time": "2022-01-31T12:42:08.515Z"
   },
   {
    "duration": 349,
    "start_time": "2022-01-31T12:42:08.706Z"
   },
   {
    "duration": 475,
    "start_time": "2022-01-31T12:42:09.057Z"
   },
   {
    "duration": 486,
    "start_time": "2022-01-31T12:42:09.534Z"
   },
   {
    "duration": 125,
    "start_time": "2022-01-31T12:42:10.026Z"
   },
   {
    "duration": 365,
    "start_time": "2022-01-31T12:42:10.153Z"
   },
   {
    "duration": 362,
    "start_time": "2022-01-31T12:42:10.520Z"
   },
   {
    "duration": 459,
    "start_time": "2022-01-31T12:42:10.884Z"
   },
   {
    "duration": 846,
    "start_time": "2022-01-31T12:58:24.609Z"
   },
   {
    "duration": 805,
    "start_time": "2022-01-31T13:01:07.010Z"
   },
   {
    "duration": 458,
    "start_time": "2022-01-31T13:02:29.164Z"
   },
   {
    "duration": 682,
    "start_time": "2022-01-31T13:02:37.513Z"
   },
   {
    "duration": 5,
    "start_time": "2022-01-31T13:02:38.197Z"
   },
   {
    "duration": 93,
    "start_time": "2022-01-31T13:02:38.206Z"
   },
   {
    "duration": 3,
    "start_time": "2022-01-31T13:02:38.301Z"
   },
   {
    "duration": 27,
    "start_time": "2022-01-31T13:02:38.305Z"
   },
   {
    "duration": 7,
    "start_time": "2022-01-31T13:02:38.333Z"
   },
   {
    "duration": 29,
    "start_time": "2022-01-31T13:02:38.342Z"
   },
   {
    "duration": 23,
    "start_time": "2022-01-31T13:02:38.373Z"
   },
   {
    "duration": 55,
    "start_time": "2022-01-31T13:02:38.397Z"
   },
   {
    "duration": 13,
    "start_time": "2022-01-31T13:02:38.453Z"
   },
   {
    "duration": 10,
    "start_time": "2022-01-31T13:02:38.468Z"
   },
   {
    "duration": 38,
    "start_time": "2022-01-31T13:02:38.480Z"
   },
   {
    "duration": 24,
    "start_time": "2022-01-31T13:02:38.520Z"
   },
   {
    "duration": 43,
    "start_time": "2022-01-31T13:02:38.545Z"
   },
   {
    "duration": 22,
    "start_time": "2022-01-31T13:02:38.589Z"
   },
   {
    "duration": 26,
    "start_time": "2022-01-31T13:02:38.627Z"
   },
   {
    "duration": 538,
    "start_time": "2022-01-31T13:02:38.654Z"
   },
   {
    "duration": 21,
    "start_time": "2022-01-31T13:02:39.194Z"
   },
   {
    "duration": 373,
    "start_time": "2022-01-31T13:02:39.217Z"
   },
   {
    "duration": 314,
    "start_time": "2022-01-31T13:02:39.591Z"
   },
   {
    "duration": 286,
    "start_time": "2022-01-31T13:02:39.906Z"
   },
   {
    "duration": 304,
    "start_time": "2022-01-31T13:02:40.196Z"
   },
   {
    "duration": 183,
    "start_time": "2022-01-31T13:02:40.502Z"
   },
   {
    "duration": 171,
    "start_time": "2022-01-31T13:02:40.687Z"
   },
   {
    "duration": 186,
    "start_time": "2022-01-31T13:02:40.859Z"
   },
   {
    "duration": 374,
    "start_time": "2022-01-31T13:02:41.047Z"
   },
   {
    "duration": 483,
    "start_time": "2022-01-31T13:02:41.423Z"
   },
   {
    "duration": 485,
    "start_time": "2022-01-31T13:02:41.907Z"
   },
   {
    "duration": 141,
    "start_time": "2022-01-31T13:02:42.394Z"
   },
   {
    "duration": 392,
    "start_time": "2022-01-31T13:02:42.536Z"
   },
   {
    "duration": 381,
    "start_time": "2022-01-31T13:02:42.929Z"
   },
   {
    "duration": 498,
    "start_time": "2022-01-31T13:02:43.312Z"
   },
   {
    "duration": 323,
    "start_time": "2022-01-31T13:03:19.558Z"
   },
   {
    "duration": 657,
    "start_time": "2022-01-31T13:03:58.553Z"
   },
   {
    "duration": 15,
    "start_time": "2022-01-31T13:03:59.212Z"
   },
   {
    "duration": 82,
    "start_time": "2022-01-31T13:03:59.229Z"
   },
   {
    "duration": 3,
    "start_time": "2022-01-31T13:03:59.313Z"
   },
   {
    "duration": 15,
    "start_time": "2022-01-31T13:03:59.327Z"
   },
   {
    "duration": 8,
    "start_time": "2022-01-31T13:03:59.343Z"
   },
   {
    "duration": 28,
    "start_time": "2022-01-31T13:03:59.353Z"
   },
   {
    "duration": 55,
    "start_time": "2022-01-31T13:03:59.384Z"
   },
   {
    "duration": 32,
    "start_time": "2022-01-31T13:03:59.441Z"
   },
   {
    "duration": 16,
    "start_time": "2022-01-31T13:03:59.474Z"
   },
   {
    "duration": 7,
    "start_time": "2022-01-31T13:03:59.491Z"
   },
   {
    "duration": 24,
    "start_time": "2022-01-31T13:03:59.527Z"
   },
   {
    "duration": 22,
    "start_time": "2022-01-31T13:03:59.553Z"
   },
   {
    "duration": 58,
    "start_time": "2022-01-31T13:03:59.577Z"
   },
   {
    "duration": 21,
    "start_time": "2022-01-31T13:03:59.637Z"
   },
   {
    "duration": 26,
    "start_time": "2022-01-31T13:03:59.659Z"
   },
   {
    "duration": 549,
    "start_time": "2022-01-31T13:03:59.687Z"
   },
   {
    "duration": 20,
    "start_time": "2022-01-31T13:04:00.238Z"
   },
   {
    "duration": 374,
    "start_time": "2022-01-31T13:04:00.260Z"
   },
   {
    "duration": 321,
    "start_time": "2022-01-31T13:04:00.635Z"
   },
   {
    "duration": 287,
    "start_time": "2022-01-31T13:04:00.957Z"
   },
   {
    "duration": 305,
    "start_time": "2022-01-31T13:04:01.246Z"
   },
   {
    "duration": 199,
    "start_time": "2022-01-31T13:04:01.554Z"
   },
   {
    "duration": 186,
    "start_time": "2022-01-31T13:04:01.755Z"
   },
   {
    "duration": 195,
    "start_time": "2022-01-31T13:04:01.942Z"
   },
   {
    "duration": 357,
    "start_time": "2022-01-31T13:04:02.138Z"
   },
   {
    "duration": 515,
    "start_time": "2022-01-31T13:04:02.497Z"
   },
   {
    "duration": 486,
    "start_time": "2022-01-31T13:04:03.013Z"
   },
   {
    "duration": 127,
    "start_time": "2022-01-31T13:04:03.500Z"
   },
   {
    "duration": 445,
    "start_time": "2022-01-31T13:04:03.629Z"
   },
   {
    "duration": 402,
    "start_time": "2022-01-31T13:04:04.075Z"
   },
   {
    "duration": 558,
    "start_time": "2022-01-31T13:04:04.479Z"
   },
   {
    "duration": 872,
    "start_time": "2022-01-31T13:04:59.871Z"
   },
   {
    "duration": 7,
    "start_time": "2022-01-31T13:05:00.745Z"
   },
   {
    "duration": 104,
    "start_time": "2022-01-31T13:05:00.754Z"
   },
   {
    "duration": 3,
    "start_time": "2022-01-31T13:05:00.860Z"
   },
   {
    "duration": 22,
    "start_time": "2022-01-31T13:05:00.865Z"
   },
   {
    "duration": 11,
    "start_time": "2022-01-31T13:05:00.888Z"
   },
   {
    "duration": 48,
    "start_time": "2022-01-31T13:05:00.900Z"
   },
   {
    "duration": 24,
    "start_time": "2022-01-31T13:05:00.951Z"
   },
   {
    "duration": 30,
    "start_time": "2022-01-31T13:05:00.977Z"
   },
   {
    "duration": 30,
    "start_time": "2022-01-31T13:05:01.009Z"
   },
   {
    "duration": 5,
    "start_time": "2022-01-31T13:05:01.041Z"
   },
   {
    "duration": 26,
    "start_time": "2022-01-31T13:05:01.047Z"
   },
   {
    "duration": 25,
    "start_time": "2022-01-31T13:05:01.075Z"
   },
   {
    "duration": 68,
    "start_time": "2022-01-31T13:05:01.102Z"
   },
   {
    "duration": 21,
    "start_time": "2022-01-31T13:05:01.171Z"
   },
   {
    "duration": 44,
    "start_time": "2022-01-31T13:05:01.194Z"
   },
   {
    "duration": 522,
    "start_time": "2022-01-31T13:05:01.239Z"
   },
   {
    "duration": 23,
    "start_time": "2022-01-31T13:05:01.763Z"
   },
   {
    "duration": 396,
    "start_time": "2022-01-31T13:05:01.788Z"
   },
   {
    "duration": 316,
    "start_time": "2022-01-31T13:05:02.186Z"
   },
   {
    "duration": 281,
    "start_time": "2022-01-31T13:05:02.504Z"
   },
   {
    "duration": 312,
    "start_time": "2022-01-31T13:05:02.786Z"
   },
   {
    "duration": 185,
    "start_time": "2022-01-31T13:05:03.102Z"
   },
   {
    "duration": 179,
    "start_time": "2022-01-31T13:05:03.289Z"
   },
   {
    "duration": 186,
    "start_time": "2022-01-31T13:05:03.469Z"
   },
   {
    "duration": 348,
    "start_time": "2022-01-31T13:05:03.656Z"
   },
   {
    "duration": 147,
    "start_time": "2022-01-31T13:05:04.006Z"
   },
   {
    "duration": 475,
    "start_time": "2022-01-31T13:05:04.155Z"
   },
   {
    "duration": 500,
    "start_time": "2022-01-31T13:05:04.632Z"
   },
   {
    "duration": 126,
    "start_time": "2022-01-31T13:05:05.133Z"
   },
   {
    "duration": 370,
    "start_time": "2022-01-31T13:05:05.261Z"
   },
   {
    "duration": 438,
    "start_time": "2022-01-31T13:05:05.632Z"
   },
   {
    "duration": 400,
    "start_time": "2022-01-31T13:05:06.072Z"
   },
   {
    "duration": 125,
    "start_time": "2022-01-31T13:05:36.946Z"
   },
   {
    "duration": 460,
    "start_time": "2022-01-31T13:05:47.249Z"
   },
   {
    "duration": 665,
    "start_time": "2022-01-31T13:05:58.441Z"
   },
   {
    "duration": 5,
    "start_time": "2022-01-31T13:05:59.108Z"
   },
   {
    "duration": 94,
    "start_time": "2022-01-31T13:05:59.116Z"
   },
   {
    "duration": 16,
    "start_time": "2022-01-31T13:05:59.212Z"
   },
   {
    "duration": 18,
    "start_time": "2022-01-31T13:05:59.229Z"
   },
   {
    "duration": 7,
    "start_time": "2022-01-31T13:05:59.249Z"
   },
   {
    "duration": 29,
    "start_time": "2022-01-31T13:05:59.258Z"
   },
   {
    "duration": 51,
    "start_time": "2022-01-31T13:05:59.289Z"
   },
   {
    "duration": 31,
    "start_time": "2022-01-31T13:05:59.342Z"
   },
   {
    "duration": 14,
    "start_time": "2022-01-31T13:05:59.375Z"
   },
   {
    "duration": 5,
    "start_time": "2022-01-31T13:05:59.391Z"
   },
   {
    "duration": 51,
    "start_time": "2022-01-31T13:05:59.398Z"
   },
   {
    "duration": 23,
    "start_time": "2022-01-31T13:05:59.451Z"
   },
   {
    "duration": 64,
    "start_time": "2022-01-31T13:05:59.476Z"
   },
   {
    "duration": 24,
    "start_time": "2022-01-31T13:05:59.542Z"
   },
   {
    "duration": 28,
    "start_time": "2022-01-31T13:05:59.567Z"
   },
   {
    "duration": 558,
    "start_time": "2022-01-31T13:05:59.596Z"
   },
   {
    "duration": 23,
    "start_time": "2022-01-31T13:06:00.156Z"
   },
   {
    "duration": 392,
    "start_time": "2022-01-31T13:06:00.181Z"
   },
   {
    "duration": 333,
    "start_time": "2022-01-31T13:06:00.575Z"
   },
   {
    "duration": 288,
    "start_time": "2022-01-31T13:06:00.910Z"
   },
   {
    "duration": 312,
    "start_time": "2022-01-31T13:06:01.200Z"
   },
   {
    "duration": 190,
    "start_time": "2022-01-31T13:06:01.515Z"
   },
   {
    "duration": 192,
    "start_time": "2022-01-31T13:06:01.707Z"
   },
   {
    "duration": 205,
    "start_time": "2022-01-31T13:06:01.901Z"
   },
   {
    "duration": 368,
    "start_time": "2022-01-31T13:06:02.108Z"
   },
   {
    "duration": 151,
    "start_time": "2022-01-31T13:06:02.478Z"
   },
   {
    "duration": 485,
    "start_time": "2022-01-31T13:06:02.630Z"
   },
   {
    "duration": 598,
    "start_time": "2022-01-31T13:06:03.117Z"
   },
   {
    "duration": 116,
    "start_time": "2022-01-31T13:06:03.717Z"
   },
   {
    "duration": 444,
    "start_time": "2022-01-31T13:06:03.834Z"
   },
   {
    "duration": 428,
    "start_time": "2022-01-31T13:06:04.279Z"
   },
   {
    "duration": 405,
    "start_time": "2022-01-31T13:06:04.709Z"
   },
   {
    "duration": 665,
    "start_time": "2022-01-31T13:06:59.433Z"
   },
   {
    "duration": 7,
    "start_time": "2022-01-31T13:07:00.099Z"
   },
   {
    "duration": 87,
    "start_time": "2022-01-31T13:07:00.107Z"
   },
   {
    "duration": 3,
    "start_time": "2022-01-31T13:07:00.196Z"
   },
   {
    "duration": 28,
    "start_time": "2022-01-31T13:07:00.200Z"
   },
   {
    "duration": 7,
    "start_time": "2022-01-31T13:07:00.230Z"
   },
   {
    "duration": 30,
    "start_time": "2022-01-31T13:07:00.238Z"
   },
   {
    "duration": 24,
    "start_time": "2022-01-31T13:07:00.270Z"
   },
   {
    "duration": 56,
    "start_time": "2022-01-31T13:07:00.296Z"
   },
   {
    "duration": 15,
    "start_time": "2022-01-31T13:07:00.353Z"
   },
   {
    "duration": 6,
    "start_time": "2022-01-31T13:07:00.369Z"
   },
   {
    "duration": 40,
    "start_time": "2022-01-31T13:07:00.376Z"
   },
   {
    "duration": 30,
    "start_time": "2022-01-31T13:07:00.418Z"
   },
   {
    "duration": 44,
    "start_time": "2022-01-31T13:07:00.449Z"
   },
   {
    "duration": 32,
    "start_time": "2022-01-31T13:07:00.495Z"
   },
   {
    "duration": 28,
    "start_time": "2022-01-31T13:07:00.529Z"
   },
   {
    "duration": 636,
    "start_time": "2022-01-31T13:07:00.559Z"
   },
   {
    "duration": 22,
    "start_time": "2022-01-31T13:07:01.197Z"
   },
   {
    "duration": 383,
    "start_time": "2022-01-31T13:07:01.221Z"
   },
   {
    "duration": 333,
    "start_time": "2022-01-31T13:07:01.606Z"
   },
   {
    "duration": 286,
    "start_time": "2022-01-31T13:07:01.941Z"
   },
   {
    "duration": 302,
    "start_time": "2022-01-31T13:07:02.228Z"
   },
   {
    "duration": 182,
    "start_time": "2022-01-31T13:07:02.533Z"
   },
   {
    "duration": 180,
    "start_time": "2022-01-31T13:07:02.717Z"
   },
   {
    "duration": 196,
    "start_time": "2022-01-31T13:07:02.899Z"
   },
   {
    "duration": 350,
    "start_time": "2022-01-31T13:07:03.097Z"
   },
   {
    "duration": 144,
    "start_time": "2022-01-31T13:07:03.448Z"
   },
   {
    "duration": 494,
    "start_time": "2022-01-31T13:07:03.594Z"
   },
   {
    "duration": 494,
    "start_time": "2022-01-31T13:07:04.090Z"
   },
   {
    "duration": 133,
    "start_time": "2022-01-31T13:07:04.586Z"
   },
   {
    "duration": 386,
    "start_time": "2022-01-31T13:07:04.721Z"
   },
   {
    "duration": 459,
    "start_time": "2022-01-31T13:07:05.108Z"
   },
   {
    "duration": 382,
    "start_time": "2022-01-31T13:07:05.568Z"
   },
   {
    "duration": 698,
    "start_time": "2022-01-31T13:08:19.014Z"
   },
   {
    "duration": 13,
    "start_time": "2022-01-31T13:08:19.714Z"
   },
   {
    "duration": 107,
    "start_time": "2022-01-31T13:08:19.729Z"
   },
   {
    "duration": 4,
    "start_time": "2022-01-31T13:08:19.839Z"
   },
   {
    "duration": 16,
    "start_time": "2022-01-31T13:08:19.844Z"
   },
   {
    "duration": 7,
    "start_time": "2022-01-31T13:08:19.862Z"
   },
   {
    "duration": 29,
    "start_time": "2022-01-31T13:08:19.871Z"
   },
   {
    "duration": 26,
    "start_time": "2022-01-31T13:08:19.927Z"
   },
   {
    "duration": 31,
    "start_time": "2022-01-31T13:08:19.956Z"
   },
   {
    "duration": 40,
    "start_time": "2022-01-31T13:08:19.988Z"
   },
   {
    "duration": 5,
    "start_time": "2022-01-31T13:08:20.029Z"
   },
   {
    "duration": 30,
    "start_time": "2022-01-31T13:08:20.036Z"
   },
   {
    "duration": 36,
    "start_time": "2022-01-31T13:08:20.067Z"
   },
   {
    "duration": 56,
    "start_time": "2022-01-31T13:08:20.105Z"
   },
   {
    "duration": 21,
    "start_time": "2022-01-31T13:08:20.163Z"
   },
   {
    "duration": 26,
    "start_time": "2022-01-31T13:08:20.186Z"
   },
   {
    "duration": 560,
    "start_time": "2022-01-31T13:08:20.227Z"
   },
   {
    "duration": 20,
    "start_time": "2022-01-31T13:08:20.788Z"
   },
   {
    "duration": 483,
    "start_time": "2022-01-31T13:08:20.809Z"
   },
   {
    "duration": 306,
    "start_time": "2022-01-31T13:08:21.294Z"
   },
   {
    "duration": 285,
    "start_time": "2022-01-31T13:08:21.601Z"
   },
   {
    "duration": 307,
    "start_time": "2022-01-31T13:08:21.888Z"
   },
   {
    "duration": 185,
    "start_time": "2022-01-31T13:08:22.198Z"
   },
   {
    "duration": 179,
    "start_time": "2022-01-31T13:08:22.385Z"
   },
   {
    "duration": 191,
    "start_time": "2022-01-31T13:08:22.566Z"
   },
   {
    "duration": 347,
    "start_time": "2022-01-31T13:08:22.758Z"
   },
   {
    "duration": 142,
    "start_time": "2022-01-31T13:08:23.106Z"
   },
   {
    "duration": 463,
    "start_time": "2022-01-31T13:08:23.250Z"
   },
   {
    "duration": 492,
    "start_time": "2022-01-31T13:08:23.715Z"
   },
   {
    "duration": 133,
    "start_time": "2022-01-31T13:08:24.209Z"
   },
   {
    "duration": 383,
    "start_time": "2022-01-31T13:08:24.344Z"
   },
   {
    "duration": 496,
    "start_time": "2022-01-31T13:08:24.728Z"
   },
   {
    "duration": 395,
    "start_time": "2022-01-31T13:08:25.225Z"
   },
   {
    "duration": 463,
    "start_time": "2022-01-31T13:09:07.737Z"
   },
   {
    "duration": 477,
    "start_time": "2022-01-31T13:09:50.462Z"
   },
   {
    "duration": 130,
    "start_time": "2022-01-31T13:13:55.981Z"
   },
   {
    "duration": 105,
    "start_time": "2022-01-31T13:14:32.036Z"
   },
   {
    "duration": 134,
    "start_time": "2022-01-31T13:14:39.245Z"
   },
   {
    "duration": 695,
    "start_time": "2022-01-31T13:14:47.123Z"
   },
   {
    "duration": 5,
    "start_time": "2022-01-31T13:14:47.819Z"
   },
   {
    "duration": 81,
    "start_time": "2022-01-31T13:14:47.826Z"
   },
   {
    "duration": 3,
    "start_time": "2022-01-31T13:14:47.909Z"
   },
   {
    "duration": 26,
    "start_time": "2022-01-31T13:14:47.913Z"
   },
   {
    "duration": 7,
    "start_time": "2022-01-31T13:14:47.940Z"
   },
   {
    "duration": 28,
    "start_time": "2022-01-31T13:14:47.949Z"
   },
   {
    "duration": 23,
    "start_time": "2022-01-31T13:14:47.979Z"
   },
   {
    "duration": 51,
    "start_time": "2022-01-31T13:14:48.004Z"
   },
   {
    "duration": 14,
    "start_time": "2022-01-31T13:14:48.056Z"
   },
   {
    "duration": 5,
    "start_time": "2022-01-31T13:14:48.071Z"
   },
   {
    "duration": 24,
    "start_time": "2022-01-31T13:14:48.077Z"
   },
   {
    "duration": 44,
    "start_time": "2022-01-31T13:14:48.103Z"
   },
   {
    "duration": 42,
    "start_time": "2022-01-31T13:14:48.149Z"
   },
   {
    "duration": 35,
    "start_time": "2022-01-31T13:14:48.193Z"
   },
   {
    "duration": 27,
    "start_time": "2022-01-31T13:14:48.229Z"
   },
   {
    "duration": 536,
    "start_time": "2022-01-31T13:14:48.258Z"
   },
   {
    "duration": 33,
    "start_time": "2022-01-31T13:14:48.795Z"
   },
   {
    "duration": 365,
    "start_time": "2022-01-31T13:14:48.829Z"
   },
   {
    "duration": 316,
    "start_time": "2022-01-31T13:14:49.196Z"
   },
   {
    "duration": 293,
    "start_time": "2022-01-31T13:14:49.514Z"
   },
   {
    "duration": 309,
    "start_time": "2022-01-31T13:14:49.808Z"
   },
   {
    "duration": 184,
    "start_time": "2022-01-31T13:14:50.120Z"
   },
   {
    "duration": 176,
    "start_time": "2022-01-31T13:14:50.306Z"
   },
   {
    "duration": 188,
    "start_time": "2022-01-31T13:14:50.484Z"
   },
   {
    "duration": 344,
    "start_time": "2022-01-31T13:14:50.673Z"
   },
   {
    "duration": 148,
    "start_time": "2022-01-31T13:14:51.019Z"
   },
   {
    "duration": 491,
    "start_time": "2022-01-31T13:14:51.168Z"
   },
   {
    "duration": 503,
    "start_time": "2022-01-31T13:14:51.662Z"
   },
   {
    "duration": 134,
    "start_time": "2022-01-31T13:14:52.167Z"
   },
   {
    "duration": 387,
    "start_time": "2022-01-31T13:14:52.303Z"
   },
   {
    "duration": 448,
    "start_time": "2022-01-31T13:14:52.691Z"
   },
   {
    "duration": 371,
    "start_time": "2022-01-31T13:14:53.141Z"
   },
   {
    "duration": 378,
    "start_time": "2022-01-31T13:29:04.071Z"
   },
   {
    "duration": 269,
    "start_time": "2022-01-31T13:29:52.358Z"
   },
   {
    "duration": 1063,
    "start_time": "2022-01-31T13:30:11.563Z"
   },
   {
    "duration": 996,
    "start_time": "2022-01-31T13:31:10.148Z"
   },
   {
    "duration": 290,
    "start_time": "2022-01-31T13:31:21.227Z"
   },
   {
    "duration": 168,
    "start_time": "2022-01-31T13:31:41.117Z"
   },
   {
    "duration": 167,
    "start_time": "2022-01-31T13:31:45.387Z"
   },
   {
    "duration": 299,
    "start_time": "2022-01-31T13:31:58.596Z"
   },
   {
    "duration": 348,
    "start_time": "2022-01-31T13:32:51.119Z"
   },
   {
    "duration": 261,
    "start_time": "2022-01-31T13:32:59.745Z"
   },
   {
    "duration": 1365,
    "start_time": "2022-01-31T13:33:33.518Z"
   },
   {
    "duration": 8716,
    "start_time": "2022-01-31T13:34:46.602Z"
   },
   {
    "duration": 263,
    "start_time": "2022-01-31T13:35:07.475Z"
   },
   {
    "duration": 364,
    "start_time": "2022-01-31T13:36:53.614Z"
   },
   {
    "duration": 155,
    "start_time": "2022-01-31T13:37:13.633Z"
   },
   {
    "duration": 241,
    "start_time": "2022-01-31T13:37:56.749Z"
   },
   {
    "duration": 130,
    "start_time": "2022-01-31T13:38:04.412Z"
   },
   {
    "duration": 149,
    "start_time": "2022-01-31T13:39:20.893Z"
   },
   {
    "duration": 26,
    "start_time": "2022-01-31T13:39:30.085Z"
   },
   {
    "duration": 175,
    "start_time": "2022-01-31T13:39:35.824Z"
   },
   {
    "duration": 173,
    "start_time": "2022-01-31T13:39:49.959Z"
   },
   {
    "duration": 444,
    "start_time": "2022-01-31T13:40:16.829Z"
   },
   {
    "duration": 442,
    "start_time": "2022-01-31T13:40:27.823Z"
   },
   {
    "duration": 327,
    "start_time": "2022-01-31T13:42:05.612Z"
   },
   {
    "duration": 283,
    "start_time": "2022-01-31T13:43:34.275Z"
   },
   {
    "duration": 585,
    "start_time": "2022-01-31T13:43:48.449Z"
   },
   {
    "duration": 329,
    "start_time": "2022-01-31T13:44:19.634Z"
   },
   {
    "duration": 303,
    "start_time": "2022-01-31T13:45:22.106Z"
   },
   {
    "duration": 472,
    "start_time": "2022-01-31T13:45:39.077Z"
   },
   {
    "duration": 707,
    "start_time": "2022-01-31T13:47:28.694Z"
   },
   {
    "duration": 5,
    "start_time": "2022-01-31T13:47:29.402Z"
   },
   {
    "duration": 88,
    "start_time": "2022-01-31T13:47:29.410Z"
   },
   {
    "duration": 2,
    "start_time": "2022-01-31T13:47:29.500Z"
   },
   {
    "duration": 28,
    "start_time": "2022-01-31T13:47:29.504Z"
   },
   {
    "duration": 7,
    "start_time": "2022-01-31T13:47:29.533Z"
   },
   {
    "duration": 26,
    "start_time": "2022-01-31T13:47:29.543Z"
   },
   {
    "duration": 23,
    "start_time": "2022-01-31T13:47:29.572Z"
   },
   {
    "duration": 53,
    "start_time": "2022-01-31T13:47:29.597Z"
   },
   {
    "duration": 15,
    "start_time": "2022-01-31T13:47:29.651Z"
   },
   {
    "duration": 6,
    "start_time": "2022-01-31T13:47:29.668Z"
   },
   {
    "duration": 25,
    "start_time": "2022-01-31T13:47:29.675Z"
   },
   {
    "duration": 49,
    "start_time": "2022-01-31T13:47:29.701Z"
   },
   {
    "duration": 43,
    "start_time": "2022-01-31T13:47:29.752Z"
   },
   {
    "duration": 39,
    "start_time": "2022-01-31T13:47:29.796Z"
   },
   {
    "duration": 31,
    "start_time": "2022-01-31T13:47:29.837Z"
   },
   {
    "duration": 635,
    "start_time": "2022-01-31T13:47:29.869Z"
   },
   {
    "duration": 26,
    "start_time": "2022-01-31T13:47:30.506Z"
   },
   {
    "duration": 379,
    "start_time": "2022-01-31T13:47:30.534Z"
   },
   {
    "duration": 313,
    "start_time": "2022-01-31T13:47:30.914Z"
   },
   {
    "duration": 281,
    "start_time": "2022-01-31T13:47:31.228Z"
   },
   {
    "duration": 320,
    "start_time": "2022-01-31T13:47:31.512Z"
   },
   {
    "duration": 185,
    "start_time": "2022-01-31T13:47:31.834Z"
   },
   {
    "duration": 187,
    "start_time": "2022-01-31T13:47:32.021Z"
   },
   {
    "duration": 191,
    "start_time": "2022-01-31T13:47:32.209Z"
   },
   {
    "duration": 347,
    "start_time": "2022-01-31T13:47:32.401Z"
   },
   {
    "duration": 150,
    "start_time": "2022-01-31T13:47:32.749Z"
   },
   {
    "duration": 481,
    "start_time": "2022-01-31T13:47:32.900Z"
   },
   {
    "duration": 477,
    "start_time": "2022-01-31T13:47:33.382Z"
   },
   {
    "duration": 129,
    "start_time": "2022-01-31T13:47:33.860Z"
   },
   {
    "duration": 445,
    "start_time": "2022-01-31T13:47:33.990Z"
   },
   {
    "duration": 439,
    "start_time": "2022-01-31T13:47:34.436Z"
   },
   {
    "duration": 536,
    "start_time": "2022-01-31T13:47:34.877Z"
   },
   {
    "duration": 485,
    "start_time": "2022-01-31T13:53:20.333Z"
   },
   {
    "duration": 524,
    "start_time": "2022-01-31T13:53:46.625Z"
   },
   {
    "duration": 165,
    "start_time": "2022-01-31T13:54:34.722Z"
   },
   {
    "duration": 150,
    "start_time": "2022-01-31T13:55:01.011Z"
   },
   {
    "duration": 163,
    "start_time": "2022-01-31T13:55:18.543Z"
   },
   {
    "duration": 171,
    "start_time": "2022-01-31T13:55:42.356Z"
   },
   {
    "duration": 142,
    "start_time": "2022-01-31T13:55:47.665Z"
   },
   {
    "duration": 266,
    "start_time": "2022-01-31T13:56:07.535Z"
   },
   {
    "duration": 517,
    "start_time": "2022-01-31T13:56:33.551Z"
   },
   {
    "duration": 492,
    "start_time": "2022-01-31T13:56:54.817Z"
   },
   {
    "duration": 591,
    "start_time": "2022-01-31T13:57:22.728Z"
   },
   {
    "duration": 387,
    "start_time": "2022-01-31T13:57:50.386Z"
   },
   {
    "duration": 534,
    "start_time": "2022-01-31T13:58:13.451Z"
   },
   {
    "duration": 513,
    "start_time": "2022-01-31T13:58:19.509Z"
   },
   {
    "duration": 1384,
    "start_time": "2022-01-31T14:01:58.484Z"
   },
   {
    "duration": 9897,
    "start_time": "2022-01-31T14:02:16.789Z"
   },
   {
    "duration": 458,
    "start_time": "2022-01-31T14:02:59.506Z"
   },
   {
    "duration": 313,
    "start_time": "2022-01-31T14:07:15.243Z"
   },
   {
    "duration": 2138,
    "start_time": "2022-01-31T14:08:38.676Z"
   },
   {
    "duration": 403,
    "start_time": "2022-01-31T14:08:54.315Z"
   },
   {
    "duration": 270,
    "start_time": "2022-01-31T14:11:45.215Z"
   },
   {
    "duration": 23,
    "start_time": "2022-01-31T14:11:46.599Z"
   },
   {
    "duration": 279,
    "start_time": "2022-01-31T14:11:47.433Z"
   },
   {
    "duration": 399,
    "start_time": "2022-01-31T14:11:47.714Z"
   },
   {
    "duration": 305,
    "start_time": "2022-01-31T14:11:48.115Z"
   },
   {
    "duration": 298,
    "start_time": "2022-01-31T14:11:48.426Z"
   },
   {
    "duration": 177,
    "start_time": "2022-01-31T14:11:48.727Z"
   },
   {
    "duration": 189,
    "start_time": "2022-01-31T14:11:48.905Z"
   },
   {
    "duration": 198,
    "start_time": "2022-01-31T14:11:49.096Z"
   },
   {
    "duration": 592,
    "start_time": "2022-01-31T14:11:49.435Z"
   },
   {
    "duration": 146,
    "start_time": "2022-01-31T14:11:50.029Z"
   },
   {
    "duration": 611,
    "start_time": "2022-01-31T14:11:50.177Z"
   },
   {
    "duration": 480,
    "start_time": "2022-01-31T14:11:50.790Z"
   },
   {
    "duration": 131,
    "start_time": "2022-01-31T14:11:51.272Z"
   },
   {
    "duration": 395,
    "start_time": "2022-01-31T14:11:52.075Z"
   },
   {
    "duration": 384,
    "start_time": "2022-01-31T14:11:52.483Z"
   },
   {
    "duration": 570,
    "start_time": "2022-01-31T14:11:52.893Z"
   },
   {
    "duration": 535,
    "start_time": "2022-01-31T14:11:56.470Z"
   },
   {
    "duration": 474,
    "start_time": "2022-01-31T14:12:20.667Z"
   },
   {
    "duration": 688,
    "start_time": "2022-01-31T14:12:25.808Z"
   },
   {
    "duration": 7,
    "start_time": "2022-01-31T14:12:26.499Z"
   },
   {
    "duration": 124,
    "start_time": "2022-01-31T14:12:26.508Z"
   },
   {
    "duration": 4,
    "start_time": "2022-01-31T14:12:26.634Z"
   },
   {
    "duration": 22,
    "start_time": "2022-01-31T14:12:26.639Z"
   },
   {
    "duration": 11,
    "start_time": "2022-01-31T14:12:26.662Z"
   },
   {
    "duration": 69,
    "start_time": "2022-01-31T14:12:26.675Z"
   },
   {
    "duration": 37,
    "start_time": "2022-01-31T14:12:26.747Z"
   },
   {
    "duration": 61,
    "start_time": "2022-01-31T14:12:26.786Z"
   },
   {
    "duration": 14,
    "start_time": "2022-01-31T14:12:26.848Z"
   },
   {
    "duration": 5,
    "start_time": "2022-01-31T14:12:26.864Z"
   },
   {
    "duration": 25,
    "start_time": "2022-01-31T14:12:26.870Z"
   },
   {
    "duration": 49,
    "start_time": "2022-01-31T14:12:26.896Z"
   },
   {
    "duration": 42,
    "start_time": "2022-01-31T14:12:26.946Z"
   },
   {
    "duration": 23,
    "start_time": "2022-01-31T14:12:26.989Z"
   },
   {
    "duration": 39,
    "start_time": "2022-01-31T14:12:27.013Z"
   },
   {
    "duration": 525,
    "start_time": "2022-01-31T14:12:27.053Z"
   },
   {
    "duration": 23,
    "start_time": "2022-01-31T14:12:27.580Z"
   },
   {
    "duration": 378,
    "start_time": "2022-01-31T14:12:27.604Z"
   },
   {
    "duration": 412,
    "start_time": "2022-01-31T14:12:27.984Z"
   },
   {
    "duration": 287,
    "start_time": "2022-01-31T14:12:28.397Z"
   },
   {
    "duration": 437,
    "start_time": "2022-01-31T14:12:28.686Z"
   },
   {
    "duration": 188,
    "start_time": "2022-01-31T14:12:29.128Z"
   },
   {
    "duration": 176,
    "start_time": "2022-01-31T14:12:29.317Z"
   },
   {
    "duration": 190,
    "start_time": "2022-01-31T14:12:29.494Z"
   },
   {
    "duration": 372,
    "start_time": "2022-01-31T14:12:29.686Z"
   },
   {
    "duration": 159,
    "start_time": "2022-01-31T14:12:30.059Z"
   },
   {
    "duration": 588,
    "start_time": "2022-01-31T14:12:30.220Z"
   },
   {
    "duration": 512,
    "start_time": "2022-01-31T14:12:30.809Z"
   },
   {
    "duration": 130,
    "start_time": "2022-01-31T14:12:31.326Z"
   },
   {
    "duration": 495,
    "start_time": "2022-01-31T14:12:31.458Z"
   },
   {
    "duration": 460,
    "start_time": "2022-01-31T14:12:31.955Z"
   },
   {
    "duration": 487,
    "start_time": "2022-01-31T14:12:32.417Z"
   },
   {
    "duration": 384,
    "start_time": "2022-01-31T14:12:32.906Z"
   },
   {
    "duration": 12,
    "start_time": "2022-01-31T14:14:47.649Z"
   },
   {
    "duration": 142,
    "start_time": "2022-01-31T14:15:02.948Z"
   },
   {
    "duration": 342,
    "start_time": "2022-01-31T14:15:26.593Z"
   },
   {
    "duration": 12,
    "start_time": "2022-01-31T14:15:28.726Z"
   },
   {
    "duration": 206,
    "start_time": "2022-01-31T14:16:10.849Z"
   },
   {
    "duration": 671,
    "start_time": "2022-01-31T14:16:15.886Z"
   },
   {
    "duration": 6,
    "start_time": "2022-01-31T14:16:16.558Z"
   },
   {
    "duration": 95,
    "start_time": "2022-01-31T14:16:16.566Z"
   },
   {
    "duration": 3,
    "start_time": "2022-01-31T14:16:16.663Z"
   },
   {
    "duration": 20,
    "start_time": "2022-01-31T14:16:16.667Z"
   },
   {
    "duration": 7,
    "start_time": "2022-01-31T14:16:16.688Z"
   },
   {
    "duration": 45,
    "start_time": "2022-01-31T14:16:16.697Z"
   },
   {
    "duration": 25,
    "start_time": "2022-01-31T14:16:16.744Z"
   },
   {
    "duration": 32,
    "start_time": "2022-01-31T14:16:16.771Z"
   },
   {
    "duration": 31,
    "start_time": "2022-01-31T14:16:16.805Z"
   },
   {
    "duration": 5,
    "start_time": "2022-01-31T14:16:16.838Z"
   },
   {
    "duration": 26,
    "start_time": "2022-01-31T14:16:16.845Z"
   },
   {
    "duration": 24,
    "start_time": "2022-01-31T14:16:16.873Z"
   },
   {
    "duration": 68,
    "start_time": "2022-01-31T14:16:16.899Z"
   },
   {
    "duration": 22,
    "start_time": "2022-01-31T14:16:16.968Z"
   },
   {
    "duration": 44,
    "start_time": "2022-01-31T14:16:16.991Z"
   },
   {
    "duration": 534,
    "start_time": "2022-01-31T14:16:17.036Z"
   },
   {
    "duration": 22,
    "start_time": "2022-01-31T14:16:17.571Z"
   },
   {
    "duration": 408,
    "start_time": "2022-01-31T14:16:17.595Z"
   },
   {
    "duration": 327,
    "start_time": "2022-01-31T14:16:18.004Z"
   },
   {
    "duration": 297,
    "start_time": "2022-01-31T14:16:18.334Z"
   },
   {
    "duration": 307,
    "start_time": "2022-01-31T14:16:18.632Z"
   },
   {
    "duration": 228,
    "start_time": "2022-01-31T14:16:18.942Z"
   },
   {
    "duration": 245,
    "start_time": "2022-01-31T14:16:19.172Z"
   },
   {
    "duration": 194,
    "start_time": "2022-01-31T14:16:19.419Z"
   },
   {
    "duration": 372,
    "start_time": "2022-01-31T14:16:19.615Z"
   },
   {
    "duration": 168,
    "start_time": "2022-01-31T14:16:19.989Z"
   },
   {
    "duration": 495,
    "start_time": "2022-01-31T14:16:20.159Z"
   },
   {
    "duration": 586,
    "start_time": "2022-01-31T14:16:20.655Z"
   },
   {
    "duration": 125,
    "start_time": "2022-01-31T14:16:21.243Z"
   },
   {
    "duration": 442,
    "start_time": "2022-01-31T14:16:21.370Z"
   },
   {
    "duration": 456,
    "start_time": "2022-01-31T14:16:21.813Z"
   },
   {
    "duration": 512,
    "start_time": "2022-01-31T14:16:22.271Z"
   },
   {
    "duration": 12,
    "start_time": "2022-01-31T14:16:22.785Z"
   },
   {
    "duration": 14,
    "start_time": "2022-01-31T14:20:35.661Z"
   },
   {
    "duration": 250,
    "start_time": "2022-01-31T14:21:08.994Z"
   },
   {
    "duration": 1174,
    "start_time": "2022-01-31T14:21:20.903Z"
   },
   {
    "duration": 231,
    "start_time": "2022-01-31T14:21:31.418Z"
   },
   {
    "duration": 551,
    "start_time": "2022-01-31T14:21:50.287Z"
   },
   {
    "duration": 259,
    "start_time": "2022-01-31T14:21:56.941Z"
   },
   {
    "duration": 529,
    "start_time": "2022-01-31T14:22:20.412Z"
   },
   {
    "duration": 138,
    "start_time": "2022-01-31T14:22:59.713Z"
   },
   {
    "duration": 9759,
    "start_time": "2022-01-31T14:24:34.708Z"
   },
   {
    "duration": 165,
    "start_time": "2022-01-31T14:24:58.077Z"
   },
   {
    "duration": 5544,
    "start_time": "2022-01-31T14:26:10.304Z"
   },
   {
    "duration": 5593,
    "start_time": "2022-01-31T14:27:59.434Z"
   },
   {
    "duration": 6390,
    "start_time": "2022-01-31T14:28:23.034Z"
   },
   {
    "duration": 4662,
    "start_time": "2022-01-31T14:29:19.655Z"
   },
   {
    "duration": 632,
    "start_time": "2022-01-31T18:09:22.616Z"
   },
   {
    "duration": 5,
    "start_time": "2022-01-31T18:09:23.250Z"
   },
   {
    "duration": 103,
    "start_time": "2022-01-31T18:09:23.261Z"
   },
   {
    "duration": 3,
    "start_time": "2022-01-31T18:09:23.365Z"
   },
   {
    "duration": 17,
    "start_time": "2022-01-31T18:09:23.370Z"
   },
   {
    "duration": 8,
    "start_time": "2022-01-31T18:09:23.389Z"
   },
   {
    "duration": 32,
    "start_time": "2022-01-31T18:09:23.399Z"
   },
   {
    "duration": 52,
    "start_time": "2022-01-31T18:09:23.433Z"
   },
   {
    "duration": 33,
    "start_time": "2022-01-31T18:09:23.487Z"
   },
   {
    "duration": 16,
    "start_time": "2022-01-31T18:09:23.521Z"
   },
   {
    "duration": 6,
    "start_time": "2022-01-31T18:09:23.559Z"
   },
   {
    "duration": 27,
    "start_time": "2022-01-31T18:09:23.567Z"
   },
   {
    "duration": 24,
    "start_time": "2022-01-31T18:09:23.595Z"
   },
   {
    "duration": 70,
    "start_time": "2022-01-31T18:09:23.621Z"
   },
   {
    "duration": 24,
    "start_time": "2022-01-31T18:09:23.693Z"
   },
   {
    "duration": 46,
    "start_time": "2022-01-31T18:09:23.719Z"
   },
   {
    "duration": 565,
    "start_time": "2022-01-31T18:09:23.766Z"
   },
   {
    "duration": 27,
    "start_time": "2022-01-31T18:09:24.333Z"
   },
   {
    "duration": 481,
    "start_time": "2022-01-31T18:09:24.362Z"
   },
   {
    "duration": 404,
    "start_time": "2022-01-31T18:09:24.845Z"
   },
   {
    "duration": 371,
    "start_time": "2022-01-31T18:09:25.251Z"
   },
   {
    "duration": 357,
    "start_time": "2022-01-31T18:09:25.625Z"
   },
   {
    "duration": 225,
    "start_time": "2022-01-31T18:09:25.984Z"
   },
   {
    "duration": 212,
    "start_time": "2022-01-31T18:09:26.211Z"
   },
   {
    "duration": 220,
    "start_time": "2022-01-31T18:09:26.424Z"
   },
   {
    "duration": 438,
    "start_time": "2022-01-31T18:09:26.646Z"
   },
   {
    "duration": 178,
    "start_time": "2022-01-31T18:09:27.086Z"
   },
   {
    "duration": 558,
    "start_time": "2022-01-31T18:09:27.266Z"
   },
   {
    "duration": 551,
    "start_time": "2022-01-31T18:09:27.826Z"
   },
   {
    "duration": 140,
    "start_time": "2022-01-31T18:09:28.378Z"
   },
   {
    "duration": 439,
    "start_time": "2022-01-31T18:09:28.521Z"
   },
   {
    "duration": 475,
    "start_time": "2022-01-31T18:09:28.962Z"
   },
   {
    "duration": 544,
    "start_time": "2022-01-31T18:09:29.439Z"
   },
   {
    "duration": 184,
    "start_time": "2022-01-31T18:09:29.985Z"
   },
   {
    "duration": 6014,
    "start_time": "2022-01-31T18:09:30.171Z"
   },
   {
    "duration": 9,
    "start_time": "2022-01-31T18:17:16.507Z"
   },
   {
    "duration": 9,
    "start_time": "2022-01-31T18:17:39.139Z"
   },
   {
    "duration": 10,
    "start_time": "2022-01-31T18:17:50.966Z"
   },
   {
    "duration": 10,
    "start_time": "2022-01-31T18:17:56.870Z"
   },
   {
    "duration": 9,
    "start_time": "2022-01-31T18:22:00.865Z"
   },
   {
    "duration": 76,
    "start_time": "2022-01-31T18:25:51.678Z"
   },
   {
    "duration": 91,
    "start_time": "2022-01-31T18:27:57.008Z"
   },
   {
    "duration": 79,
    "start_time": "2022-01-31T18:30:23.700Z"
   },
   {
    "duration": 77,
    "start_time": "2022-01-31T18:30:49.827Z"
   },
   {
    "duration": 71,
    "start_time": "2022-01-31T18:32:08.337Z"
   },
   {
    "duration": 321,
    "start_time": "2022-01-31T18:34:45.625Z"
   },
   {
    "duration": 234,
    "start_time": "2022-01-31T18:35:12.869Z"
   },
   {
    "duration": 512,
    "start_time": "2022-01-31T18:35:19.501Z"
   },
   {
    "duration": 237,
    "start_time": "2022-01-31T18:35:35.330Z"
   },
   {
    "duration": 72,
    "start_time": "2022-01-31T18:35:56.334Z"
   },
   {
    "duration": 76,
    "start_time": "2022-01-31T18:36:23.367Z"
   },
   {
    "duration": 79,
    "start_time": "2022-01-31T18:36:52.221Z"
   },
   {
    "duration": 71,
    "start_time": "2022-01-31T18:37:04.825Z"
   },
   {
    "duration": 9,
    "start_time": "2022-01-31T18:37:10.087Z"
   },
   {
    "duration": 72,
    "start_time": "2022-01-31T18:37:24.272Z"
   },
   {
    "duration": 238,
    "start_time": "2022-01-31T18:37:58.996Z"
   },
   {
    "duration": 63,
    "start_time": "2022-01-31T18:39:19.318Z"
   },
   {
    "duration": 441,
    "start_time": "2022-01-31T18:40:09.576Z"
   },
   {
    "duration": 181,
    "start_time": "2022-01-31T18:40:17.632Z"
   },
   {
    "duration": 73,
    "start_time": "2022-01-31T18:40:36.111Z"
   },
   {
    "duration": 73,
    "start_time": "2022-01-31T18:40:43.110Z"
   },
   {
    "duration": 621,
    "start_time": "2022-02-01T08:38:09.016Z"
   },
   {
    "duration": 7,
    "start_time": "2022-02-01T08:38:09.639Z"
   },
   {
    "duration": 98,
    "start_time": "2022-02-01T08:38:09.648Z"
   },
   {
    "duration": 12,
    "start_time": "2022-02-01T08:38:09.748Z"
   },
   {
    "duration": 17,
    "start_time": "2022-02-01T08:38:09.762Z"
   },
   {
    "duration": 8,
    "start_time": "2022-02-01T08:38:09.781Z"
   },
   {
    "duration": 35,
    "start_time": "2022-02-01T08:38:09.791Z"
   },
   {
    "duration": 57,
    "start_time": "2022-02-01T08:38:09.829Z"
   },
   {
    "duration": 32,
    "start_time": "2022-02-01T08:38:09.888Z"
   },
   {
    "duration": 37,
    "start_time": "2022-02-01T08:38:09.922Z"
   },
   {
    "duration": 6,
    "start_time": "2022-02-01T08:38:09.961Z"
   },
   {
    "duration": 29,
    "start_time": "2022-02-01T08:38:09.968Z"
   },
   {
    "duration": 27,
    "start_time": "2022-02-01T08:38:09.998Z"
   },
   {
    "duration": 70,
    "start_time": "2022-02-01T08:38:10.027Z"
   },
   {
    "duration": 25,
    "start_time": "2022-02-01T08:38:10.098Z"
   },
   {
    "duration": 51,
    "start_time": "2022-02-01T08:38:10.125Z"
   },
   {
    "duration": 558,
    "start_time": "2022-02-01T08:38:10.177Z"
   },
   {
    "duration": 32,
    "start_time": "2022-02-01T08:38:10.737Z"
   },
   {
    "duration": 436,
    "start_time": "2022-02-01T08:38:10.771Z"
   },
   {
    "duration": 375,
    "start_time": "2022-02-01T08:38:11.208Z"
   },
   {
    "duration": 335,
    "start_time": "2022-02-01T08:38:11.585Z"
   },
   {
    "duration": 388,
    "start_time": "2022-02-01T08:38:11.923Z"
   },
   {
    "duration": 231,
    "start_time": "2022-02-01T08:38:12.314Z"
   },
   {
    "duration": 230,
    "start_time": "2022-02-01T08:38:12.547Z"
   },
   {
    "duration": 228,
    "start_time": "2022-02-01T08:38:12.778Z"
   },
   {
    "duration": 407,
    "start_time": "2022-02-01T08:38:13.007Z"
   },
   {
    "duration": 186,
    "start_time": "2022-02-01T08:38:13.416Z"
   },
   {
    "duration": 574,
    "start_time": "2022-02-01T08:38:13.604Z"
   },
   {
    "duration": 567,
    "start_time": "2022-02-01T08:38:14.180Z"
   },
   {
    "duration": 161,
    "start_time": "2022-02-01T08:38:14.749Z"
   },
   {
    "duration": 443,
    "start_time": "2022-02-01T08:38:14.911Z"
   },
   {
    "duration": 492,
    "start_time": "2022-02-01T08:38:15.355Z"
   },
   {
    "duration": 568,
    "start_time": "2022-02-01T08:38:15.848Z"
   },
   {
    "duration": 170,
    "start_time": "2022-02-01T08:38:16.417Z"
   },
   {
    "duration": 5840,
    "start_time": "2022-02-01T08:38:16.589Z"
   },
   {
    "duration": 79,
    "start_time": "2022-02-01T08:38:22.431Z"
   },
   {
    "duration": 275,
    "start_time": "2022-02-01T08:38:22.512Z"
   },
   {
    "duration": -54,
    "start_time": "2022-02-01T08:38:22.843Z"
   },
   {
    "duration": 76,
    "start_time": "2022-02-01T08:47:49.224Z"
   },
   {
    "duration": 11,
    "start_time": "2022-02-01T08:48:16.091Z"
   },
   {
    "duration": 12,
    "start_time": "2022-02-01T08:49:29.986Z"
   },
   {
    "duration": 12,
    "start_time": "2022-02-01T08:50:04.204Z"
   },
   {
    "duration": 77,
    "start_time": "2022-02-01T08:50:53.748Z"
   },
   {
    "duration": 81,
    "start_time": "2022-02-01T08:50:59.235Z"
   },
   {
    "duration": 15,
    "start_time": "2022-02-01T08:51:03.170Z"
   },
   {
    "duration": 13,
    "start_time": "2022-02-01T08:51:11.387Z"
   },
   {
    "duration": 12,
    "start_time": "2022-02-01T08:51:18.928Z"
   },
   {
    "duration": 105,
    "start_time": "2022-02-01T08:54:07.123Z"
   },
   {
    "duration": 202,
    "start_time": "2022-02-01T08:54:16.757Z"
   },
   {
    "duration": 198,
    "start_time": "2022-02-01T08:54:46.081Z"
   },
   {
    "duration": 638,
    "start_time": "2022-02-01T08:54:58.196Z"
   },
   {
    "duration": 6,
    "start_time": "2022-02-01T08:54:58.836Z"
   },
   {
    "duration": 106,
    "start_time": "2022-02-01T08:54:58.844Z"
   },
   {
    "duration": 8,
    "start_time": "2022-02-01T08:54:58.952Z"
   },
   {
    "duration": 17,
    "start_time": "2022-02-01T08:54:58.962Z"
   },
   {
    "duration": 10,
    "start_time": "2022-02-01T08:54:58.981Z"
   },
   {
    "duration": 35,
    "start_time": "2022-02-01T08:54:58.993Z"
   },
   {
    "duration": 30,
    "start_time": "2022-02-01T08:54:59.061Z"
   },
   {
    "duration": 34,
    "start_time": "2022-02-01T08:54:59.093Z"
   },
   {
    "duration": 40,
    "start_time": "2022-02-01T08:54:59.128Z"
   },
   {
    "duration": 6,
    "start_time": "2022-02-01T08:54:59.170Z"
   },
   {
    "duration": 27,
    "start_time": "2022-02-01T08:54:59.179Z"
   },
   {
    "duration": 53,
    "start_time": "2022-02-01T08:54:59.208Z"
   },
   {
    "duration": 46,
    "start_time": "2022-02-01T08:54:59.264Z"
   },
   {
    "duration": 46,
    "start_time": "2022-02-01T08:54:59.312Z"
   },
   {
    "duration": 32,
    "start_time": "2022-02-01T08:54:59.360Z"
   },
   {
    "duration": 573,
    "start_time": "2022-02-01T08:54:59.394Z"
   },
   {
    "duration": 26,
    "start_time": "2022-02-01T08:54:59.969Z"
   },
   {
    "duration": 480,
    "start_time": "2022-02-01T08:54:59.997Z"
   },
   {
    "duration": 383,
    "start_time": "2022-02-01T08:55:00.480Z"
   },
   {
    "duration": 353,
    "start_time": "2022-02-01T08:55:00.865Z"
   },
   {
    "duration": 369,
    "start_time": "2022-02-01T08:55:01.219Z"
   },
   {
    "duration": 245,
    "start_time": "2022-02-01T08:55:01.592Z"
   },
   {
    "duration": 224,
    "start_time": "2022-02-01T08:55:01.840Z"
   },
   {
    "duration": 236,
    "start_time": "2022-02-01T08:55:02.066Z"
   },
   {
    "duration": 415,
    "start_time": "2022-02-01T08:55:02.304Z"
   },
   {
    "duration": 182,
    "start_time": "2022-02-01T08:55:02.720Z"
   },
   {
    "duration": 575,
    "start_time": "2022-02-01T08:55:02.903Z"
   },
   {
    "duration": 565,
    "start_time": "2022-02-01T08:55:03.480Z"
   },
   {
    "duration": 153,
    "start_time": "2022-02-01T08:55:04.047Z"
   },
   {
    "duration": 449,
    "start_time": "2022-02-01T08:55:04.202Z"
   },
   {
    "duration": 498,
    "start_time": "2022-02-01T08:55:04.653Z"
   },
   {
    "duration": 593,
    "start_time": "2022-02-01T08:55:05.153Z"
   },
   {
    "duration": 173,
    "start_time": "2022-02-01T08:55:05.748Z"
   },
   {
    "duration": 5946,
    "start_time": "2022-02-01T08:55:05.922Z"
   },
   {
    "duration": 102,
    "start_time": "2022-02-01T08:55:11.870Z"
   },
   {
    "duration": 17,
    "start_time": "2022-02-01T08:55:11.974Z"
   },
   {
    "duration": 20,
    "start_time": "2022-02-01T08:55:11.993Z"
   },
   {
    "duration": 306,
    "start_time": "2022-02-01T08:55:12.014Z"
   },
   {
    "duration": 65,
    "start_time": "2022-02-01T08:56:20.657Z"
   },
   {
    "duration": 8,
    "start_time": "2022-02-01T08:56:26.296Z"
   },
   {
    "duration": 176,
    "start_time": "2022-02-01T08:56:51.580Z"
   },
   {
    "duration": 27,
    "start_time": "2022-02-01T08:56:56.145Z"
   },
   {
    "duration": 5,
    "start_time": "2022-02-01T08:57:13.412Z"
   },
   {
    "duration": 32,
    "start_time": "2022-02-01T08:57:29.380Z"
   },
   {
    "duration": 6,
    "start_time": "2022-02-01T08:58:29.151Z"
   },
   {
    "duration": 12,
    "start_time": "2022-02-01T09:00:02.449Z"
   },
   {
    "duration": 45,
    "start_time": "2022-02-01T09:00:21.824Z"
   },
   {
    "duration": 43,
    "start_time": "2022-02-01T09:00:46.727Z"
   },
   {
    "duration": 15,
    "start_time": "2022-02-01T09:03:00.742Z"
   },
   {
    "duration": 16,
    "start_time": "2022-02-01T09:03:12.136Z"
   },
   {
    "duration": 25,
    "start_time": "2022-02-01T09:05:34.637Z"
   },
   {
    "duration": 32,
    "start_time": "2022-02-01T09:05:44.617Z"
   },
   {
    "duration": 31,
    "start_time": "2022-02-01T09:07:09.818Z"
   },
   {
    "duration": 218,
    "start_time": "2022-02-01T09:08:01.888Z"
   },
   {
    "duration": 4527,
    "start_time": "2022-02-01T09:08:56.195Z"
   },
   {
    "duration": 4812,
    "start_time": "2022-02-01T09:09:31.336Z"
   },
   {
    "duration": 5028,
    "start_time": "2022-02-01T09:09:59.867Z"
   },
   {
    "duration": 26,
    "start_time": "2022-02-01T09:12:18.369Z"
   },
   {
    "duration": 29,
    "start_time": "2022-02-01T09:12:24.540Z"
   },
   {
    "duration": 4524,
    "start_time": "2022-02-01T09:13:34.130Z"
   },
   {
    "duration": 23,
    "start_time": "2022-02-01T09:13:46.112Z"
   },
   {
    "duration": 29,
    "start_time": "2022-02-01T09:13:53.889Z"
   },
   {
    "duration": 4537,
    "start_time": "2022-02-01T09:14:44.812Z"
   },
   {
    "duration": 364,
    "start_time": "2022-02-01T09:15:22.324Z"
   },
   {
    "duration": 4887,
    "start_time": "2022-02-01T09:15:50.997Z"
   },
   {
    "duration": 15,
    "start_time": "2022-02-01T09:18:24.794Z"
   },
   {
    "duration": 21,
    "start_time": "2022-02-01T09:18:34.306Z"
   },
   {
    "duration": 198,
    "start_time": "2022-02-01T09:19:03.301Z"
   },
   {
    "duration": 61,
    "start_time": "2022-02-01T09:20:06.708Z"
   },
   {
    "duration": 18,
    "start_time": "2022-02-01T09:20:35.797Z"
   },
   {
    "duration": 200,
    "start_time": "2022-02-01T09:21:28.676Z"
   },
   {
    "duration": 183,
    "start_time": "2022-02-01T09:21:46.905Z"
   },
   {
    "duration": 14,
    "start_time": "2022-02-01T09:22:18.068Z"
   },
   {
    "duration": 194,
    "start_time": "2022-02-01T09:22:20.361Z"
   },
   {
    "duration": 727,
    "start_time": "2022-02-01T09:23:27.332Z"
   },
   {
    "duration": 569,
    "start_time": "2022-02-01T09:24:03.655Z"
   },
   {
    "duration": 139,
    "start_time": "2022-02-01T09:24:26.274Z"
   },
   {
    "duration": 4,
    "start_time": "2022-02-01T09:24:58.908Z"
   },
   {
    "duration": 246,
    "start_time": "2022-02-01T09:26:11.828Z"
   },
   {
    "duration": 215,
    "start_time": "2022-02-01T09:26:46.096Z"
   },
   {
    "duration": 1476,
    "start_time": "2022-02-01T09:27:00.094Z"
   },
   {
    "duration": 174,
    "start_time": "2022-02-01T09:27:07.415Z"
   },
   {
    "duration": 145,
    "start_time": "2022-02-01T09:28:25.867Z"
   },
   {
    "duration": 886,
    "start_time": "2022-02-01T09:28:53.479Z"
   },
   {
    "duration": 194,
    "start_time": "2022-02-01T09:29:55.750Z"
   },
   {
    "duration": 197,
    "start_time": "2022-02-01T09:30:18.740Z"
   },
   {
    "duration": 175,
    "start_time": "2022-02-01T09:30:28.225Z"
   },
   {
    "duration": 190,
    "start_time": "2022-02-01T09:30:59.790Z"
   },
   {
    "duration": 200,
    "start_time": "2022-02-01T09:33:46.233Z"
   },
   {
    "duration": 205,
    "start_time": "2022-02-01T09:34:03.411Z"
   },
   {
    "duration": 192,
    "start_time": "2022-02-01T09:34:10.782Z"
   },
   {
    "duration": 14,
    "start_time": "2022-02-01T09:34:49.247Z"
   },
   {
    "duration": 69,
    "start_time": "2022-02-01T09:35:43.526Z"
   },
   {
    "duration": 15,
    "start_time": "2022-02-01T09:39:10.162Z"
   },
   {
    "duration": 12,
    "start_time": "2022-02-01T09:39:29.505Z"
   },
   {
    "duration": 177,
    "start_time": "2022-02-01T09:39:31.747Z"
   },
   {
    "duration": 64,
    "start_time": "2022-02-01T09:40:21.606Z"
   },
   {
    "duration": 3566,
    "start_time": "2022-02-01T09:40:25.658Z"
   },
   {
    "duration": 4404,
    "start_time": "2022-02-01T09:40:44.678Z"
   },
   {
    "duration": 186,
    "start_time": "2022-02-01T09:41:00.495Z"
   },
   {
    "duration": 178,
    "start_time": "2022-02-01T09:41:28.436Z"
   },
   {
    "duration": 375,
    "start_time": "2022-02-01T09:41:30.446Z"
   },
   {
    "duration": 180,
    "start_time": "2022-02-01T09:41:55.944Z"
   },
   {
    "duration": 360,
    "start_time": "2022-02-01T09:42:20.316Z"
   },
   {
    "duration": 186,
    "start_time": "2022-02-01T09:42:40.098Z"
   },
   {
    "duration": 369,
    "start_time": "2022-02-01T09:42:48.076Z"
   },
   {
    "duration": 380,
    "start_time": "2022-02-01T09:43:13.951Z"
   },
   {
    "duration": 173,
    "start_time": "2022-02-01T09:43:55.715Z"
   },
   {
    "duration": 186,
    "start_time": "2022-02-01T09:44:31.064Z"
   },
   {
    "duration": 177,
    "start_time": "2022-02-01T09:45:57.721Z"
   },
   {
    "duration": 200,
    "start_time": "2022-02-01T09:46:30.459Z"
   },
   {
    "duration": 372,
    "start_time": "2022-02-01T09:46:53.254Z"
   },
   {
    "duration": 64,
    "start_time": "2022-02-01T09:47:01.036Z"
   },
   {
    "duration": 210,
    "start_time": "2022-02-01T09:47:04.696Z"
   },
   {
    "duration": 123,
    "start_time": "2022-02-01T09:55:59.320Z"
   },
   {
    "duration": 16,
    "start_time": "2022-02-01T09:56:07.760Z"
   },
   {
    "duration": 92,
    "start_time": "2022-02-01T09:58:24.933Z"
   },
   {
    "duration": 18,
    "start_time": "2022-02-01T09:58:36.696Z"
   },
   {
    "duration": 16,
    "start_time": "2022-02-01T10:41:25.364Z"
   },
   {
    "duration": 624,
    "start_time": "2022-02-01T10:41:39.709Z"
   },
   {
    "duration": 6,
    "start_time": "2022-02-01T10:41:40.336Z"
   },
   {
    "duration": 99,
    "start_time": "2022-02-01T10:41:40.343Z"
   },
   {
    "duration": 15,
    "start_time": "2022-02-01T10:41:40.444Z"
   },
   {
    "duration": 18,
    "start_time": "2022-02-01T10:41:40.461Z"
   },
   {
    "duration": 8,
    "start_time": "2022-02-01T10:41:40.480Z"
   },
   {
    "duration": 34,
    "start_time": "2022-02-01T10:41:40.490Z"
   },
   {
    "duration": 55,
    "start_time": "2022-02-01T10:41:40.527Z"
   },
   {
    "duration": 35,
    "start_time": "2022-02-01T10:41:40.584Z"
   },
   {
    "duration": 15,
    "start_time": "2022-02-01T10:41:40.621Z"
   },
   {
    "duration": 24,
    "start_time": "2022-02-01T10:41:40.638Z"
   },
   {
    "duration": 30,
    "start_time": "2022-02-01T10:41:40.664Z"
   },
   {
    "duration": 24,
    "start_time": "2022-02-01T10:41:40.696Z"
   },
   {
    "duration": 69,
    "start_time": "2022-02-01T10:41:40.721Z"
   },
   {
    "duration": 23,
    "start_time": "2022-02-01T10:41:40.792Z"
   },
   {
    "duration": 44,
    "start_time": "2022-02-01T10:41:40.817Z"
   },
   {
    "duration": 578,
    "start_time": "2022-02-01T10:41:40.863Z"
   },
   {
    "duration": 28,
    "start_time": "2022-02-01T10:41:41.442Z"
   },
   {
    "duration": 446,
    "start_time": "2022-02-01T10:41:41.471Z"
   },
   {
    "duration": 389,
    "start_time": "2022-02-01T10:41:41.920Z"
   },
   {
    "duration": 339,
    "start_time": "2022-02-01T10:41:42.311Z"
   },
   {
    "duration": 358,
    "start_time": "2022-02-01T10:41:42.653Z"
   },
   {
    "duration": 217,
    "start_time": "2022-02-01T10:41:43.013Z"
   },
   {
    "duration": 203,
    "start_time": "2022-02-01T10:41:43.232Z"
   },
   {
    "duration": 231,
    "start_time": "2022-02-01T10:41:43.437Z"
   },
   {
    "duration": 441,
    "start_time": "2022-02-01T10:41:43.670Z"
   },
   {
    "duration": 182,
    "start_time": "2022-02-01T10:41:44.113Z"
   },
   {
    "duration": 633,
    "start_time": "2022-02-01T10:41:44.298Z"
   },
   {
    "duration": 647,
    "start_time": "2022-02-01T10:41:44.933Z"
   },
   {
    "duration": 152,
    "start_time": "2022-02-01T10:41:45.582Z"
   },
   {
    "duration": 812,
    "start_time": "2022-02-01T10:41:45.736Z"
   },
   {
    "duration": 424,
    "start_time": "2022-02-01T10:41:46.550Z"
   },
   {
    "duration": 381,
    "start_time": "2022-02-01T10:41:46.975Z"
   },
   {
    "duration": 577,
    "start_time": "2022-02-01T10:41:47.359Z"
   },
   {
    "duration": 177,
    "start_time": "2022-02-01T10:41:47.938Z"
   },
   {
    "duration": 6183,
    "start_time": "2022-02-01T10:41:48.117Z"
   },
   {
    "duration": 85,
    "start_time": "2022-02-01T10:41:54.302Z"
   },
   {
    "duration": 11,
    "start_time": "2022-02-01T10:41:54.389Z"
   },
   {
    "duration": 13,
    "start_time": "2022-02-01T10:41:54.402Z"
   },
   {
    "duration": 5803,
    "start_time": "2022-02-01T10:41:54.417Z"
   },
   {
    "duration": -21,
    "start_time": "2022-02-01T10:42:00.243Z"
   },
   {
    "duration": 108,
    "start_time": "2022-02-01T10:42:22.041Z"
   },
   {
    "duration": 138,
    "start_time": "2022-02-01T10:42:39.159Z"
   },
   {
    "duration": 139,
    "start_time": "2022-02-01T10:42:41.898Z"
   },
   {
    "duration": 176,
    "start_time": "2022-02-01T10:43:06.526Z"
   },
   {
    "duration": 267,
    "start_time": "2022-02-01T10:45:16.895Z"
   },
   {
    "duration": 170,
    "start_time": "2022-02-01T10:45:23.518Z"
   },
   {
    "duration": 36,
    "start_time": "2022-02-01T10:51:56.805Z"
   },
   {
    "duration": 177,
    "start_time": "2022-02-01T10:57:37.601Z"
   },
   {
    "duration": 557,
    "start_time": "2022-02-01T11:02:36.304Z"
   },
   {
    "duration": 722,
    "start_time": "2022-02-01T11:03:36.355Z"
   },
   {
    "duration": 545,
    "start_time": "2022-02-01T11:03:43.961Z"
   },
   {
    "duration": 985,
    "start_time": "2022-02-01T11:04:12.920Z"
   },
   {
    "duration": 6320,
    "start_time": "2022-02-01T11:05:31.872Z"
   },
   {
    "duration": 2212,
    "start_time": "2022-02-01T11:05:50.610Z"
   },
   {
    "duration": 1382,
    "start_time": "2022-02-01T11:06:16.897Z"
   },
   {
    "duration": 2167,
    "start_time": "2022-02-01T11:06:36.442Z"
   },
   {
    "duration": 1553,
    "start_time": "2022-02-01T11:11:05.901Z"
   },
   {
    "duration": 1346,
    "start_time": "2022-02-01T11:15:47.438Z"
   },
   {
    "duration": 1516,
    "start_time": "2022-02-01T11:15:57.692Z"
   },
   {
    "duration": 1620,
    "start_time": "2022-02-01T11:16:32.811Z"
   },
   {
    "duration": 631,
    "start_time": "2022-02-01T11:24:50.221Z"
   },
   {
    "duration": 9,
    "start_time": "2022-02-01T11:24:50.854Z"
   },
   {
    "duration": 110,
    "start_time": "2022-02-01T11:24:50.865Z"
   },
   {
    "duration": 3,
    "start_time": "2022-02-01T11:24:50.977Z"
   },
   {
    "duration": 20,
    "start_time": "2022-02-01T11:24:50.982Z"
   },
   {
    "duration": 9,
    "start_time": "2022-02-01T11:24:51.004Z"
   },
   {
    "duration": 59,
    "start_time": "2022-02-01T11:24:51.014Z"
   },
   {
    "duration": 30,
    "start_time": "2022-02-01T11:24:51.075Z"
   },
   {
    "duration": 53,
    "start_time": "2022-02-01T11:24:51.107Z"
   },
   {
    "duration": 16,
    "start_time": "2022-02-01T11:24:51.161Z"
   },
   {
    "duration": 5,
    "start_time": "2022-02-01T11:24:51.179Z"
   },
   {
    "duration": 30,
    "start_time": "2022-02-01T11:24:51.186Z"
   },
   {
    "duration": 48,
    "start_time": "2022-02-01T11:24:51.218Z"
   },
   {
    "duration": 47,
    "start_time": "2022-02-01T11:24:51.268Z"
   },
   {
    "duration": 43,
    "start_time": "2022-02-01T11:24:51.317Z"
   },
   {
    "duration": 32,
    "start_time": "2022-02-01T11:24:51.361Z"
   },
   {
    "duration": 559,
    "start_time": "2022-02-01T11:24:51.394Z"
   },
   {
    "duration": 27,
    "start_time": "2022-02-01T11:24:51.958Z"
   },
   {
    "duration": 466,
    "start_time": "2022-02-01T11:24:51.987Z"
   },
   {
    "duration": 374,
    "start_time": "2022-02-01T11:24:52.454Z"
   },
   {
    "duration": 350,
    "start_time": "2022-02-01T11:24:52.830Z"
   },
   {
    "duration": 368,
    "start_time": "2022-02-01T11:24:53.182Z"
   },
   {
    "duration": 234,
    "start_time": "2022-02-01T11:24:53.553Z"
   },
   {
    "duration": 219,
    "start_time": "2022-02-01T11:24:53.789Z"
   },
   {
    "duration": 241,
    "start_time": "2022-02-01T11:24:54.010Z"
   },
   {
    "duration": 441,
    "start_time": "2022-02-01T11:24:54.253Z"
   },
   {
    "duration": 176,
    "start_time": "2022-02-01T11:24:54.697Z"
   },
   {
    "duration": 572,
    "start_time": "2022-02-01T11:24:54.874Z"
   },
   {
    "duration": 576,
    "start_time": "2022-02-01T11:24:55.448Z"
   },
   {
    "duration": 146,
    "start_time": "2022-02-01T11:24:56.026Z"
   },
   {
    "duration": 805,
    "start_time": "2022-02-01T11:24:56.174Z"
   },
   {
    "duration": 479,
    "start_time": "2022-02-01T11:24:56.982Z"
   },
   {
    "duration": 401,
    "start_time": "2022-02-01T11:24:57.462Z"
   },
   {
    "duration": 94,
    "start_time": "2022-02-01T11:24:57.865Z"
   },
   {
    "duration": 13,
    "start_time": "2022-02-01T11:24:57.947Z"
   },
   {
    "duration": 8,
    "start_time": "2022-02-01T11:24:57.953Z"
   },
   {
    "duration": 3,
    "start_time": "2022-02-01T11:24:57.959Z"
   },
   {
    "duration": -3,
    "start_time": "2022-02-01T11:24:57.966Z"
   },
   {
    "duration": -6,
    "start_time": "2022-02-01T11:24:57.970Z"
   },
   {
    "duration": -9,
    "start_time": "2022-02-01T11:24:57.974Z"
   },
   {
    "duration": -12,
    "start_time": "2022-02-01T11:24:57.978Z"
   },
   {
    "duration": -15,
    "start_time": "2022-02-01T11:24:57.982Z"
   },
   {
    "duration": -18,
    "start_time": "2022-02-01T11:24:57.986Z"
   },
   {
    "duration": 571,
    "start_time": "2022-02-01T11:25:22.588Z"
   },
   {
    "duration": 170,
    "start_time": "2022-02-01T11:25:24.887Z"
   },
   {
    "duration": 6082,
    "start_time": "2022-02-01T11:25:25.296Z"
   },
   {
    "duration": 352,
    "start_time": "2022-02-01T11:25:31.380Z"
   },
   {
    "duration": 80,
    "start_time": "2022-02-01T11:25:41.839Z"
   },
   {
    "duration": 12,
    "start_time": "2022-02-01T11:25:42.802Z"
   },
   {
    "duration": 11,
    "start_time": "2022-02-01T11:25:43.465Z"
   },
   {
    "duration": 168,
    "start_time": "2022-02-01T11:25:44.699Z"
   },
   {
    "duration": 17,
    "start_time": "2022-02-01T11:25:46.788Z"
   },
   {
    "duration": 210,
    "start_time": "2022-02-01T11:25:47.956Z"
   },
   {
    "duration": 8716,
    "start_time": "2022-02-01T11:26:35.633Z"
   },
   {
    "duration": 9544,
    "start_time": "2022-02-01T11:27:54.616Z"
   },
   {
    "duration": 213,
    "start_time": "2022-02-01T11:32:51.563Z"
   },
   {
    "duration": 195,
    "start_time": "2022-02-01T11:33:00.902Z"
   },
   {
    "duration": 4753,
    "start_time": "2022-02-01T11:33:11.191Z"
   },
   {
    "duration": 184,
    "start_time": "2022-02-01T11:33:28.692Z"
   },
   {
    "duration": 853,
    "start_time": "2022-02-01T11:39:44.574Z"
   },
   {
    "duration": 447,
    "start_time": "2022-02-01T11:39:56.788Z"
   },
   {
    "duration": 8353,
    "start_time": "2022-02-01T11:40:37.552Z"
   },
   {
    "duration": 8668,
    "start_time": "2022-02-01T11:40:49.059Z"
   },
   {
    "duration": 608,
    "start_time": "2022-02-01T11:41:15.867Z"
   },
   {
    "duration": 8782,
    "start_time": "2022-02-01T11:41:47.249Z"
   },
   {
    "duration": 9568,
    "start_time": "2022-02-01T11:42:08.409Z"
   },
   {
    "duration": 8729,
    "start_time": "2022-02-01T11:42:25.241Z"
   },
   {
    "duration": 684,
    "start_time": "2022-02-01T11:42:46.169Z"
   },
   {
    "duration": 6,
    "start_time": "2022-02-01T11:42:46.855Z"
   },
   {
    "duration": 107,
    "start_time": "2022-02-01T11:42:46.863Z"
   },
   {
    "duration": 4,
    "start_time": "2022-02-01T11:42:46.972Z"
   },
   {
    "duration": 22,
    "start_time": "2022-02-01T11:42:46.977Z"
   },
   {
    "duration": 8,
    "start_time": "2022-02-01T11:42:47.001Z"
   },
   {
    "duration": 55,
    "start_time": "2022-02-01T11:42:47.011Z"
   },
   {
    "duration": 30,
    "start_time": "2022-02-01T11:42:47.068Z"
   },
   {
    "duration": 34,
    "start_time": "2022-02-01T11:42:47.100Z"
   },
   {
    "duration": 37,
    "start_time": "2022-02-01T11:42:47.136Z"
   },
   {
    "duration": 6,
    "start_time": "2022-02-01T11:42:47.174Z"
   },
   {
    "duration": 29,
    "start_time": "2022-02-01T11:42:47.182Z"
   },
   {
    "duration": 50,
    "start_time": "2022-02-01T11:42:47.213Z"
   },
   {
    "duration": 50,
    "start_time": "2022-02-01T11:42:47.265Z"
   },
   {
    "duration": 43,
    "start_time": "2022-02-01T11:42:47.317Z"
   },
   {
    "duration": 32,
    "start_time": "2022-02-01T11:42:47.362Z"
   },
   {
    "duration": 578,
    "start_time": "2022-02-01T11:42:47.395Z"
   },
   {
    "duration": 24,
    "start_time": "2022-02-01T11:42:47.975Z"
   },
   {
    "duration": 458,
    "start_time": "2022-02-01T11:42:48.001Z"
   },
   {
    "duration": 370,
    "start_time": "2022-02-01T11:42:48.460Z"
   },
   {
    "duration": 348,
    "start_time": "2022-02-01T11:42:48.831Z"
   },
   {
    "duration": 370,
    "start_time": "2022-02-01T11:42:49.181Z"
   },
   {
    "duration": 218,
    "start_time": "2022-02-01T11:42:49.558Z"
   },
   {
    "duration": 217,
    "start_time": "2022-02-01T11:42:49.778Z"
   },
   {
    "duration": 226,
    "start_time": "2022-02-01T11:42:49.997Z"
   },
   {
    "duration": 429,
    "start_time": "2022-02-01T11:42:50.225Z"
   },
   {
    "duration": 177,
    "start_time": "2022-02-01T11:42:50.656Z"
   },
   {
    "duration": 578,
    "start_time": "2022-02-01T11:42:50.835Z"
   },
   {
    "duration": 561,
    "start_time": "2022-02-01T11:42:51.415Z"
   },
   {
    "duration": 163,
    "start_time": "2022-02-01T11:42:51.978Z"
   },
   {
    "duration": 833,
    "start_time": "2022-02-01T11:42:52.144Z"
   },
   {
    "duration": 425,
    "start_time": "2022-02-01T11:42:52.979Z"
   },
   {
    "duration": 440,
    "start_time": "2022-02-01T11:42:53.406Z"
   },
   {
    "duration": 594,
    "start_time": "2022-02-01T11:42:53.848Z"
   },
   {
    "duration": 182,
    "start_time": "2022-02-01T11:42:54.444Z"
   },
   {
    "duration": 6202,
    "start_time": "2022-02-01T11:42:54.628Z"
   },
   {
    "duration": 88,
    "start_time": "2022-02-01T11:43:00.832Z"
   },
   {
    "duration": 12,
    "start_time": "2022-02-01T11:43:00.921Z"
   },
   {
    "duration": 32,
    "start_time": "2022-02-01T11:43:00.935Z"
   },
   {
    "duration": 184,
    "start_time": "2022-02-01T11:43:00.969Z"
   },
   {
    "duration": 20,
    "start_time": "2022-02-01T11:43:01.155Z"
   },
   {
    "duration": 9008,
    "start_time": "2022-02-01T11:43:01.177Z"
   },
   {
    "duration": 1635,
    "start_time": "2022-02-01T11:43:10.187Z"
   },
   {
    "duration": 813,
    "start_time": "2022-02-01T11:44:42.884Z"
   },
   {
    "duration": 1323,
    "start_time": "2022-02-01T11:45:45.342Z"
   },
   {
    "duration": 439,
    "start_time": "2022-02-01T12:15:43.270Z"
   },
   {
    "duration": 1005,
    "start_time": "2022-02-01T12:15:55.993Z"
   },
   {
    "duration": 62,
    "start_time": "2022-02-01T12:20:45.123Z"
   },
   {
    "duration": 2065,
    "start_time": "2022-02-01T12:20:47.948Z"
   },
   {
    "duration": 364,
    "start_time": "2022-02-01T12:21:41.966Z"
   },
   {
    "duration": 391,
    "start_time": "2022-02-01T12:22:34.853Z"
   },
   {
    "duration": 185,
    "start_time": "2022-02-01T12:23:24.837Z"
   },
   {
    "duration": 203,
    "start_time": "2022-02-01T12:23:31.505Z"
   },
   {
    "duration": 543,
    "start_time": "2022-02-01T12:23:49.427Z"
   },
   {
    "duration": 400,
    "start_time": "2022-02-01T12:24:23.695Z"
   },
   {
    "duration": 884,
    "start_time": "2022-02-01T12:27:18.175Z"
   },
   {
    "duration": 807,
    "start_time": "2022-02-01T12:27:40.214Z"
   },
   {
    "duration": 519,
    "start_time": "2022-02-01T12:27:58.501Z"
   },
   {
    "duration": 58,
    "start_time": "2022-02-01T12:28:03.527Z"
   },
   {
    "duration": 573,
    "start_time": "2022-02-01T12:28:07.686Z"
   },
   {
    "duration": 178,
    "start_time": "2022-02-01T12:29:07.780Z"
   },
   {
    "duration": 185,
    "start_time": "2022-02-01T12:29:38.518Z"
   },
   {
    "duration": 179,
    "start_time": "2022-02-01T12:29:46.849Z"
   },
   {
    "duration": 160,
    "start_time": "2022-02-01T12:30:01.699Z"
   },
   {
    "duration": 188,
    "start_time": "2022-02-01T12:30:16.119Z"
   },
   {
    "duration": 411,
    "start_time": "2022-02-01T12:30:19.266Z"
   },
   {
    "duration": 181,
    "start_time": "2022-02-01T12:30:30.433Z"
   },
   {
    "duration": 180,
    "start_time": "2022-02-01T12:30:41.589Z"
   },
   {
    "duration": 176,
    "start_time": "2022-02-01T13:25:17.535Z"
   },
   {
    "duration": 177,
    "start_time": "2022-02-01T13:25:50.964Z"
   },
   {
    "duration": 335,
    "start_time": "2022-02-01T13:27:33.812Z"
   },
   {
    "duration": 4693,
    "start_time": "2022-02-01T13:27:40.368Z"
   },
   {
    "duration": 194,
    "start_time": "2022-02-01T13:27:59.968Z"
   },
   {
    "duration": 451,
    "start_time": "2022-02-01T13:28:53.639Z"
   },
   {
    "duration": 854,
    "start_time": "2022-02-01T13:29:20.725Z"
   },
   {
    "duration": 770,
    "start_time": "2022-02-01T13:29:53.084Z"
   },
   {
    "duration": 146,
    "start_time": "2022-02-01T13:33:21.269Z"
   },
   {
    "duration": 1034,
    "start_time": "2022-02-01T13:33:59.304Z"
   },
   {
    "duration": 650,
    "start_time": "2022-02-01T13:34:15.420Z"
   },
   {
    "duration": 8,
    "start_time": "2022-02-01T13:34:16.072Z"
   },
   {
    "duration": 109,
    "start_time": "2022-02-01T13:34:16.082Z"
   },
   {
    "duration": 3,
    "start_time": "2022-02-01T13:34:16.193Z"
   },
   {
    "duration": 20,
    "start_time": "2022-02-01T13:34:16.198Z"
   },
   {
    "duration": 17,
    "start_time": "2022-02-01T13:34:16.220Z"
   },
   {
    "duration": 50,
    "start_time": "2022-02-01T13:34:16.239Z"
   },
   {
    "duration": 28,
    "start_time": "2022-02-01T13:34:16.292Z"
   },
   {
    "duration": 56,
    "start_time": "2022-02-01T13:34:16.322Z"
   },
   {
    "duration": 17,
    "start_time": "2022-02-01T13:34:16.379Z"
   },
   {
    "duration": 7,
    "start_time": "2022-02-01T13:34:16.398Z"
   },
   {
    "duration": 29,
    "start_time": "2022-02-01T13:34:16.407Z"
   },
   {
    "duration": 44,
    "start_time": "2022-02-01T13:34:16.438Z"
   },
   {
    "duration": 47,
    "start_time": "2022-02-01T13:34:16.484Z"
   },
   {
    "duration": 44,
    "start_time": "2022-02-01T13:34:16.532Z"
   },
   {
    "duration": 32,
    "start_time": "2022-02-01T13:34:16.577Z"
   },
   {
    "duration": 565,
    "start_time": "2022-02-01T13:34:16.611Z"
   },
   {
    "duration": 24,
    "start_time": "2022-02-01T13:34:17.178Z"
   },
   {
    "duration": 437,
    "start_time": "2022-02-01T13:34:17.204Z"
   },
   {
    "duration": 372,
    "start_time": "2022-02-01T13:34:17.643Z"
   },
   {
    "duration": 329,
    "start_time": "2022-02-01T13:34:18.017Z"
   },
   {
    "duration": 355,
    "start_time": "2022-02-01T13:34:18.348Z"
   },
   {
    "duration": 219,
    "start_time": "2022-02-01T13:34:18.706Z"
   },
   {
    "duration": 209,
    "start_time": "2022-02-01T13:34:18.927Z"
   },
   {
    "duration": 226,
    "start_time": "2022-02-01T13:34:19.138Z"
   },
   {
    "duration": 436,
    "start_time": "2022-02-01T13:34:19.366Z"
   },
   {
    "duration": 180,
    "start_time": "2022-02-01T13:34:19.804Z"
   },
   {
    "duration": 567,
    "start_time": "2022-02-01T13:34:19.986Z"
   },
   {
    "duration": 573,
    "start_time": "2022-02-01T13:34:20.555Z"
   },
   {
    "duration": 148,
    "start_time": "2022-02-01T13:34:21.130Z"
   },
   {
    "duration": 386,
    "start_time": "2022-02-01T13:34:21.280Z"
   },
   {
    "duration": 286,
    "start_time": "2022-02-01T13:34:21.668Z"
   },
   {
    "duration": 804,
    "start_time": "2022-02-01T13:34:21.955Z"
   },
   {
    "duration": 5006,
    "start_time": "2022-02-01T13:34:22.760Z"
   },
   {
    "duration": 92,
    "start_time": "2022-02-01T13:34:27.675Z"
   },
   {
    "duration": 85,
    "start_time": "2022-02-01T13:34:27.683Z"
   },
   {
    "duration": 81,
    "start_time": "2022-02-01T13:34:27.688Z"
   },
   {
    "duration": 78,
    "start_time": "2022-02-01T13:34:27.692Z"
   },
   {
    "duration": 75,
    "start_time": "2022-02-01T13:34:27.696Z"
   },
   {
    "duration": 71,
    "start_time": "2022-02-01T13:34:27.701Z"
   },
   {
    "duration": 69,
    "start_time": "2022-02-01T13:34:27.704Z"
   },
   {
    "duration": 65,
    "start_time": "2022-02-01T13:34:27.709Z"
   },
   {
    "duration": 164,
    "start_time": "2022-02-01T13:35:50.871Z"
   },
   {
    "duration": 5445,
    "start_time": "2022-02-01T13:36:21.293Z"
   },
   {
    "duration": 42,
    "start_time": "2022-02-01T13:36:52.256Z"
   },
   {
    "duration": 181,
    "start_time": "2022-02-01T13:38:10.079Z"
   },
   {
    "duration": 12,
    "start_time": "2022-02-01T13:38:10.912Z"
   },
   {
    "duration": 40,
    "start_time": "2022-02-01T13:38:15.415Z"
   },
   {
    "duration": 12,
    "start_time": "2022-02-01T13:38:20.199Z"
   },
   {
    "duration": 12,
    "start_time": "2022-02-01T13:38:21.244Z"
   },
   {
    "duration": 864,
    "start_time": "2022-02-01T13:39:26.305Z"
   },
   {
    "duration": 41,
    "start_time": "2022-02-01T13:39:37.798Z"
   },
   {
    "duration": 699,
    "start_time": "2022-02-01T13:39:42.569Z"
   },
   {
    "duration": 7,
    "start_time": "2022-02-01T13:39:43.270Z"
   },
   {
    "duration": 109,
    "start_time": "2022-02-01T13:39:43.279Z"
   },
   {
    "duration": 4,
    "start_time": "2022-02-01T13:39:43.390Z"
   },
   {
    "duration": 18,
    "start_time": "2022-02-01T13:39:43.395Z"
   },
   {
    "duration": 8,
    "start_time": "2022-02-01T13:39:43.414Z"
   },
   {
    "duration": 48,
    "start_time": "2022-02-01T13:39:43.424Z"
   },
   {
    "duration": 27,
    "start_time": "2022-02-01T13:39:43.475Z"
   },
   {
    "duration": 55,
    "start_time": "2022-02-01T13:39:43.504Z"
   },
   {
    "duration": 16,
    "start_time": "2022-02-01T13:39:43.560Z"
   },
   {
    "duration": 5,
    "start_time": "2022-02-01T13:39:43.578Z"
   },
   {
    "duration": 29,
    "start_time": "2022-02-01T13:39:43.584Z"
   },
   {
    "duration": 52,
    "start_time": "2022-02-01T13:39:43.615Z"
   },
   {
    "duration": 48,
    "start_time": "2022-02-01T13:39:43.669Z"
   },
   {
    "duration": 41,
    "start_time": "2022-02-01T13:39:43.719Z"
   },
   {
    "duration": 31,
    "start_time": "2022-02-01T13:39:43.762Z"
   },
   {
    "duration": 586,
    "start_time": "2022-02-01T13:39:43.795Z"
   },
   {
    "duration": 26,
    "start_time": "2022-02-01T13:39:44.383Z"
   },
   {
    "duration": 489,
    "start_time": "2022-02-01T13:39:44.411Z"
   },
   {
    "duration": 401,
    "start_time": "2022-02-01T13:39:44.901Z"
   },
   {
    "duration": 346,
    "start_time": "2022-02-01T13:39:45.304Z"
   },
   {
    "duration": 363,
    "start_time": "2022-02-01T13:39:45.652Z"
   },
   {
    "duration": 237,
    "start_time": "2022-02-01T13:39:46.019Z"
   },
   {
    "duration": 210,
    "start_time": "2022-02-01T13:39:46.260Z"
   },
   {
    "duration": 229,
    "start_time": "2022-02-01T13:39:46.472Z"
   },
   {
    "duration": 438,
    "start_time": "2022-02-01T13:39:46.703Z"
   },
   {
    "duration": 177,
    "start_time": "2022-02-01T13:39:47.142Z"
   },
   {
    "duration": 584,
    "start_time": "2022-02-01T13:39:47.320Z"
   },
   {
    "duration": 559,
    "start_time": "2022-02-01T13:39:47.906Z"
   },
   {
    "duration": 146,
    "start_time": "2022-02-01T13:39:48.467Z"
   },
   {
    "duration": 430,
    "start_time": "2022-02-01T13:39:48.615Z"
   },
   {
    "duration": 275,
    "start_time": "2022-02-01T13:39:49.047Z"
   },
   {
    "duration": 827,
    "start_time": "2022-02-01T13:39:49.324Z"
   },
   {
    "duration": 164,
    "start_time": "2022-02-01T13:39:50.153Z"
   },
   {
    "duration": 6156,
    "start_time": "2022-02-01T13:39:50.318Z"
   },
   {
    "duration": 84,
    "start_time": "2022-02-01T13:39:56.476Z"
   },
   {
    "duration": 12,
    "start_time": "2022-02-01T13:39:56.561Z"
   },
   {
    "duration": 19,
    "start_time": "2022-02-01T13:39:56.574Z"
   },
   {
    "duration": 294,
    "start_time": "2022-02-01T13:39:56.595Z"
   },
   {
    "duration": 73,
    "start_time": "2022-02-01T13:39:56.819Z"
   },
   {
    "duration": 69,
    "start_time": "2022-02-01T13:39:56.824Z"
   },
   {
    "duration": 66,
    "start_time": "2022-02-01T13:39:56.828Z"
   },
   {
    "duration": 11,
    "start_time": "2022-02-01T13:40:28.542Z"
   },
   {
    "duration": 12,
    "start_time": "2022-02-01T13:40:31.309Z"
   },
   {
    "duration": 194,
    "start_time": "2022-02-01T13:41:12.990Z"
   },
   {
    "duration": 167,
    "start_time": "2022-02-01T13:41:32.471Z"
   },
   {
    "duration": 16,
    "start_time": "2022-02-01T13:41:51.721Z"
   },
   {
    "duration": 1315,
    "start_time": "2022-02-01T13:41:59.380Z"
   },
   {
    "duration": 995,
    "start_time": "2022-02-01T13:42:43.867Z"
   },
   {
    "duration": 1109,
    "start_time": "2022-02-01T13:48:26.751Z"
   },
   {
    "duration": 512,
    "start_time": "2022-02-01T13:49:11.754Z"
   },
   {
    "duration": 996,
    "start_time": "2022-02-01T13:49:23.246Z"
   },
   {
    "duration": 1463,
    "start_time": "2022-02-01T13:51:23.772Z"
   },
   {
    "duration": 1338,
    "start_time": "2022-02-01T13:52:24.686Z"
   },
   {
    "duration": 1511,
    "start_time": "2022-02-01T13:53:38.511Z"
   },
   {
    "duration": 1485,
    "start_time": "2022-02-01T13:54:24.290Z"
   },
   {
    "duration": 535,
    "start_time": "2022-02-01T14:07:20.436Z"
   },
   {
    "duration": 4938,
    "start_time": "2022-02-01T14:09:44.583Z"
   },
   {
    "duration": 4742,
    "start_time": "2022-02-01T14:10:25.664Z"
   },
   {
    "duration": 4472,
    "start_time": "2022-02-01T14:11:30.488Z"
   },
   {
    "duration": 7320,
    "start_time": "2022-02-01T14:11:44.721Z"
   },
   {
    "duration": 676,
    "start_time": "2022-02-01T14:11:57.465Z"
   },
   {
    "duration": 6,
    "start_time": "2022-02-01T14:11:58.143Z"
   },
   {
    "duration": 104,
    "start_time": "2022-02-01T14:11:58.159Z"
   },
   {
    "duration": 4,
    "start_time": "2022-02-01T14:11:58.265Z"
   },
   {
    "duration": 19,
    "start_time": "2022-02-01T14:11:58.270Z"
   },
   {
    "duration": 8,
    "start_time": "2022-02-01T14:11:58.291Z"
   },
   {
    "duration": 58,
    "start_time": "2022-02-01T14:11:58.301Z"
   },
   {
    "duration": 28,
    "start_time": "2022-02-01T14:11:58.362Z"
   },
   {
    "duration": 35,
    "start_time": "2022-02-01T14:11:58.392Z"
   },
   {
    "duration": 40,
    "start_time": "2022-02-01T14:11:58.429Z"
   },
   {
    "duration": 5,
    "start_time": "2022-02-01T14:11:58.471Z"
   },
   {
    "duration": 29,
    "start_time": "2022-02-01T14:11:58.478Z"
   },
   {
    "duration": 24,
    "start_time": "2022-02-01T14:11:58.508Z"
   },
   {
    "duration": 70,
    "start_time": "2022-02-01T14:11:58.534Z"
   },
   {
    "duration": 24,
    "start_time": "2022-02-01T14:11:58.606Z"
   },
   {
    "duration": 52,
    "start_time": "2022-02-01T14:11:58.631Z"
   },
   {
    "duration": 548,
    "start_time": "2022-02-01T14:11:58.685Z"
   },
   {
    "duration": 32,
    "start_time": "2022-02-01T14:11:59.234Z"
   },
   {
    "duration": 421,
    "start_time": "2022-02-01T14:11:59.268Z"
   },
   {
    "duration": 362,
    "start_time": "2022-02-01T14:11:59.690Z"
   },
   {
    "duration": 338,
    "start_time": "2022-02-01T14:12:00.054Z"
   },
   {
    "duration": 367,
    "start_time": "2022-02-01T14:12:00.394Z"
   },
   {
    "duration": 233,
    "start_time": "2022-02-01T14:12:00.766Z"
   },
   {
    "duration": 230,
    "start_time": "2022-02-01T14:12:01.002Z"
   },
   {
    "duration": 239,
    "start_time": "2022-02-01T14:12:01.234Z"
   },
   {
    "duration": 450,
    "start_time": "2022-02-01T14:12:01.475Z"
   },
   {
    "duration": 188,
    "start_time": "2022-02-01T14:12:01.928Z"
   },
   {
    "duration": 558,
    "start_time": "2022-02-01T14:12:02.118Z"
   },
   {
    "duration": 593,
    "start_time": "2022-02-01T14:12:02.678Z"
   },
   {
    "duration": 153,
    "start_time": "2022-02-01T14:12:03.273Z"
   },
   {
    "duration": 430,
    "start_time": "2022-02-01T14:12:03.428Z"
   },
   {
    "duration": 287,
    "start_time": "2022-02-01T14:12:03.860Z"
   },
   {
    "duration": 795,
    "start_time": "2022-02-01T14:12:04.149Z"
   },
   {
    "duration": 169,
    "start_time": "2022-02-01T14:12:04.945Z"
   },
   {
    "duration": 5826,
    "start_time": "2022-02-01T14:12:05.116Z"
   },
   {
    "duration": 80,
    "start_time": "2022-02-01T14:12:10.944Z"
   },
   {
    "duration": 11,
    "start_time": "2022-02-01T14:12:11.025Z"
   },
   {
    "duration": 30,
    "start_time": "2022-02-01T14:12:11.038Z"
   },
   {
    "duration": 168,
    "start_time": "2022-02-01T14:12:11.070Z"
   },
   {
    "duration": 23,
    "start_time": "2022-02-01T14:12:11.240Z"
   },
   {
    "duration": 1245,
    "start_time": "2022-02-01T14:12:11.264Z"
   },
   {
    "duration": 5612,
    "start_time": "2022-02-01T14:12:12.511Z"
   },
   {
    "duration": 4986,
    "start_time": "2022-02-01T14:12:50.979Z"
   },
   {
    "duration": 1327,
    "start_time": "2022-02-01T14:13:51.118Z"
   },
   {
    "duration": 1556,
    "start_time": "2022-02-01T14:14:53.126Z"
   },
   {
    "duration": 1531,
    "start_time": "2022-02-01T14:15:42.809Z"
   },
   {
    "duration": 1520,
    "start_time": "2022-02-01T14:15:48.133Z"
   },
   {
    "duration": 293,
    "start_time": "2022-02-01T14:44:22.834Z"
   },
   {
    "duration": 158,
    "start_time": "2022-02-01T14:44:41.064Z"
   },
   {
    "duration": 710,
    "start_time": "2022-02-01T15:03:29.454Z"
   },
   {
    "duration": 6,
    "start_time": "2022-02-01T15:03:30.169Z"
   },
   {
    "duration": 110,
    "start_time": "2022-02-01T15:03:30.176Z"
   },
   {
    "duration": 3,
    "start_time": "2022-02-01T15:03:30.288Z"
   },
   {
    "duration": 24,
    "start_time": "2022-02-01T15:03:30.293Z"
   },
   {
    "duration": 11,
    "start_time": "2022-02-01T15:03:30.318Z"
   },
   {
    "duration": 54,
    "start_time": "2022-02-01T15:03:30.332Z"
   },
   {
    "duration": 28,
    "start_time": "2022-02-01T15:03:30.388Z"
   },
   {
    "duration": 62,
    "start_time": "2022-02-01T15:03:30.417Z"
   },
   {
    "duration": 15,
    "start_time": "2022-02-01T15:03:30.481Z"
   },
   {
    "duration": 6,
    "start_time": "2022-02-01T15:03:30.498Z"
   },
   {
    "duration": 35,
    "start_time": "2022-02-01T15:03:30.506Z"
   },
   {
    "duration": 39,
    "start_time": "2022-02-01T15:03:30.542Z"
   },
   {
    "duration": 47,
    "start_time": "2022-02-01T15:03:30.583Z"
   },
   {
    "duration": 45,
    "start_time": "2022-02-01T15:03:30.632Z"
   },
   {
    "duration": 32,
    "start_time": "2022-02-01T15:03:30.678Z"
   },
   {
    "duration": 576,
    "start_time": "2022-02-01T15:03:30.712Z"
   },
   {
    "duration": 27,
    "start_time": "2022-02-01T15:03:31.290Z"
   },
   {
    "duration": 473,
    "start_time": "2022-02-01T15:03:31.320Z"
   },
   {
    "duration": 389,
    "start_time": "2022-02-01T15:03:31.795Z"
   },
   {
    "duration": 352,
    "start_time": "2022-02-01T15:03:32.186Z"
   },
   {
    "duration": 382,
    "start_time": "2022-02-01T15:03:32.542Z"
   },
   {
    "duration": 222,
    "start_time": "2022-02-01T15:03:32.925Z"
   },
   {
    "duration": 215,
    "start_time": "2022-02-01T15:03:33.149Z"
   },
   {
    "duration": 228,
    "start_time": "2022-02-01T15:03:33.366Z"
   },
   {
    "duration": 428,
    "start_time": "2022-02-01T15:03:33.595Z"
   },
   {
    "duration": 190,
    "start_time": "2022-02-01T15:03:34.025Z"
   },
   {
    "duration": 568,
    "start_time": "2022-02-01T15:03:34.217Z"
   },
   {
    "duration": 597,
    "start_time": "2022-02-01T15:03:34.787Z"
   },
   {
    "duration": 158,
    "start_time": "2022-02-01T15:03:35.386Z"
   },
   {
    "duration": 415,
    "start_time": "2022-02-01T15:03:35.546Z"
   },
   {
    "duration": 306,
    "start_time": "2022-02-01T15:03:35.963Z"
   },
   {
    "duration": 803,
    "start_time": "2022-02-01T15:03:36.271Z"
   },
   {
    "duration": 171,
    "start_time": "2022-02-01T15:03:37.076Z"
   },
   {
    "duration": 6018,
    "start_time": "2022-02-01T15:03:37.249Z"
   },
   {
    "duration": 76,
    "start_time": "2022-02-01T15:03:43.269Z"
   },
   {
    "duration": 12,
    "start_time": "2022-02-01T15:03:43.359Z"
   },
   {
    "duration": 13,
    "start_time": "2022-02-01T15:03:43.372Z"
   },
   {
    "duration": 190,
    "start_time": "2022-02-01T15:03:43.387Z"
   },
   {
    "duration": 15,
    "start_time": "2022-02-01T15:03:43.579Z"
   },
   {
    "duration": 1317,
    "start_time": "2022-02-01T15:03:43.596Z"
   },
   {
    "duration": 1520,
    "start_time": "2022-02-01T15:03:44.915Z"
   },
   {
    "duration": 1026,
    "start_time": "2022-02-01T15:07:17.870Z"
   },
   {
    "duration": 645,
    "start_time": "2022-02-01T15:08:02.906Z"
   },
   {
    "duration": 7,
    "start_time": "2022-02-01T15:08:03.555Z"
   },
   {
    "duration": 108,
    "start_time": "2022-02-01T15:08:03.563Z"
   },
   {
    "duration": 4,
    "start_time": "2022-02-01T15:08:03.672Z"
   },
   {
    "duration": 21,
    "start_time": "2022-02-01T15:08:03.677Z"
   },
   {
    "duration": 8,
    "start_time": "2022-02-01T15:08:03.699Z"
   },
   {
    "duration": 55,
    "start_time": "2022-02-01T15:08:03.709Z"
   },
   {
    "duration": 31,
    "start_time": "2022-02-01T15:08:03.768Z"
   },
   {
    "duration": 35,
    "start_time": "2022-02-01T15:08:03.801Z"
   },
   {
    "duration": 35,
    "start_time": "2022-02-01T15:08:03.838Z"
   },
   {
    "duration": 6,
    "start_time": "2022-02-01T15:08:03.875Z"
   },
   {
    "duration": 31,
    "start_time": "2022-02-01T15:08:03.882Z"
   },
   {
    "duration": 47,
    "start_time": "2022-02-01T15:08:03.914Z"
   },
   {
    "duration": 49,
    "start_time": "2022-02-01T15:08:03.963Z"
   },
   {
    "duration": 24,
    "start_time": "2022-02-01T15:08:04.013Z"
   },
   {
    "duration": 32,
    "start_time": "2022-02-01T15:08:04.059Z"
   },
   {
    "duration": 568,
    "start_time": "2022-02-01T15:08:04.093Z"
   },
   {
    "duration": 23,
    "start_time": "2022-02-01T15:08:04.663Z"
   },
   {
    "duration": 452,
    "start_time": "2022-02-01T15:08:04.687Z"
   },
   {
    "duration": 405,
    "start_time": "2022-02-01T15:08:05.141Z"
   },
   {
    "duration": 329,
    "start_time": "2022-02-01T15:08:05.548Z"
   },
   {
    "duration": 355,
    "start_time": "2022-02-01T15:08:05.880Z"
   },
   {
    "duration": 233,
    "start_time": "2022-02-01T15:08:06.236Z"
   },
   {
    "duration": 205,
    "start_time": "2022-02-01T15:08:06.471Z"
   },
   {
    "duration": 216,
    "start_time": "2022-02-01T15:08:06.678Z"
   },
   {
    "duration": 420,
    "start_time": "2022-02-01T15:08:06.898Z"
   },
   {
    "duration": 177,
    "start_time": "2022-02-01T15:08:07.321Z"
   },
   {
    "duration": 541,
    "start_time": "2022-02-01T15:08:07.500Z"
   },
   {
    "duration": 562,
    "start_time": "2022-02-01T15:08:08.043Z"
   },
   {
    "duration": 143,
    "start_time": "2022-02-01T15:08:08.607Z"
   },
   {
    "duration": 397,
    "start_time": "2022-02-01T15:08:08.752Z"
   },
   {
    "duration": 291,
    "start_time": "2022-02-01T15:08:09.151Z"
   },
   {
    "duration": 820,
    "start_time": "2022-02-01T15:08:09.444Z"
   },
   {
    "duration": 173,
    "start_time": "2022-02-01T15:08:10.266Z"
   },
   {
    "duration": 5944,
    "start_time": "2022-02-01T15:08:10.440Z"
   },
   {
    "duration": 82,
    "start_time": "2022-02-01T15:08:16.386Z"
   },
   {
    "duration": 12,
    "start_time": "2022-02-01T15:08:16.470Z"
   },
   {
    "duration": 15,
    "start_time": "2022-02-01T15:08:16.483Z"
   },
   {
    "duration": 190,
    "start_time": "2022-02-01T15:08:16.499Z"
   },
   {
    "duration": 14,
    "start_time": "2022-02-01T15:08:16.691Z"
   },
   {
    "duration": 1223,
    "start_time": "2022-02-01T15:08:16.706Z"
   },
   {
    "duration": 1342,
    "start_time": "2022-02-01T15:08:17.931Z"
   },
   {
    "duration": 650,
    "start_time": "2022-02-01T15:08:26.717Z"
   },
   {
    "duration": 6,
    "start_time": "2022-02-01T15:08:27.370Z"
   },
   {
    "duration": 110,
    "start_time": "2022-02-01T15:08:27.379Z"
   },
   {
    "duration": 2,
    "start_time": "2022-02-01T15:08:27.491Z"
   },
   {
    "duration": 19,
    "start_time": "2022-02-01T15:08:27.495Z"
   },
   {
    "duration": 8,
    "start_time": "2022-02-01T15:08:27.516Z"
   },
   {
    "duration": 51,
    "start_time": "2022-02-01T15:08:27.525Z"
   },
   {
    "duration": 29,
    "start_time": "2022-02-01T15:08:27.579Z"
   },
   {
    "duration": 53,
    "start_time": "2022-02-01T15:08:27.610Z"
   },
   {
    "duration": 15,
    "start_time": "2022-02-01T15:08:27.665Z"
   },
   {
    "duration": 6,
    "start_time": "2022-02-01T15:08:27.682Z"
   },
   {
    "duration": 36,
    "start_time": "2022-02-01T15:08:27.689Z"
   },
   {
    "duration": 43,
    "start_time": "2022-02-01T15:08:27.726Z"
   },
   {
    "duration": 46,
    "start_time": "2022-02-01T15:08:27.770Z"
   },
   {
    "duration": 41,
    "start_time": "2022-02-01T15:08:27.818Z"
   },
   {
    "duration": 29,
    "start_time": "2022-02-01T15:08:27.861Z"
   },
   {
    "duration": 563,
    "start_time": "2022-02-01T15:08:27.891Z"
   },
   {
    "duration": 25,
    "start_time": "2022-02-01T15:08:28.459Z"
   },
   {
    "duration": 431,
    "start_time": "2022-02-01T15:08:28.486Z"
   },
   {
    "duration": 355,
    "start_time": "2022-02-01T15:08:28.918Z"
   },
   {
    "duration": 331,
    "start_time": "2022-02-01T15:08:29.275Z"
   },
   {
    "duration": 360,
    "start_time": "2022-02-01T15:08:29.608Z"
   },
   {
    "duration": 225,
    "start_time": "2022-02-01T15:08:29.971Z"
   },
   {
    "duration": 208,
    "start_time": "2022-02-01T15:08:30.198Z"
   },
   {
    "duration": 238,
    "start_time": "2022-02-01T15:08:30.408Z"
   },
   {
    "duration": 444,
    "start_time": "2022-02-01T15:08:30.648Z"
   },
   {
    "duration": 196,
    "start_time": "2022-02-01T15:08:31.094Z"
   },
   {
    "duration": 574,
    "start_time": "2022-02-01T15:08:31.291Z"
   },
   {
    "duration": 551,
    "start_time": "2022-02-01T15:08:31.867Z"
   },
   {
    "duration": 146,
    "start_time": "2022-02-01T15:08:32.420Z"
   },
   {
    "duration": 389,
    "start_time": "2022-02-01T15:08:32.568Z"
   },
   {
    "duration": 280,
    "start_time": "2022-02-01T15:08:32.959Z"
   },
   {
    "duration": 816,
    "start_time": "2022-02-01T15:08:33.241Z"
   },
   {
    "duration": 167,
    "start_time": "2022-02-01T15:08:34.058Z"
   },
   {
    "duration": 5969,
    "start_time": "2022-02-01T15:08:34.227Z"
   },
   {
    "duration": 86,
    "start_time": "2022-02-01T15:08:40.198Z"
   },
   {
    "duration": 11,
    "start_time": "2022-02-01T15:08:40.286Z"
   },
   {
    "duration": 15,
    "start_time": "2022-02-01T15:08:40.298Z"
   },
   {
    "duration": 191,
    "start_time": "2022-02-01T15:08:40.315Z"
   },
   {
    "duration": 26,
    "start_time": "2022-02-01T15:08:40.508Z"
   },
   {
    "duration": 1350,
    "start_time": "2022-02-01T15:08:40.536Z"
   },
   {
    "duration": 1490,
    "start_time": "2022-02-01T15:08:41.888Z"
   },
   {
    "duration": 634,
    "start_time": "2022-02-10T19:35:24.996Z"
   },
   {
    "duration": 1399,
    "start_time": "2022-02-10T19:35:35.512Z"
   },
   {
    "duration": 8,
    "start_time": "2022-02-10T19:35:36.914Z"
   },
   {
    "duration": 143,
    "start_time": "2022-02-10T19:35:36.926Z"
   },
   {
    "duration": 4,
    "start_time": "2022-02-10T19:35:37.071Z"
   },
   {
    "duration": 28,
    "start_time": "2022-02-10T19:35:37.078Z"
   },
   {
    "duration": 12,
    "start_time": "2022-02-10T19:35:37.108Z"
   },
   {
    "duration": 61,
    "start_time": "2022-02-10T19:35:37.122Z"
   },
   {
    "duration": 49,
    "start_time": "2022-02-10T19:35:37.185Z"
   },
   {
    "duration": 56,
    "start_time": "2022-02-10T19:35:37.237Z"
   },
   {
    "duration": 22,
    "start_time": "2022-02-10T19:35:37.295Z"
   },
   {
    "duration": 15,
    "start_time": "2022-02-10T19:35:37.319Z"
   },
   {
    "duration": 77,
    "start_time": "2022-02-10T19:35:37.336Z"
   },
   {
    "duration": 59,
    "start_time": "2022-02-10T19:35:37.416Z"
   },
   {
    "duration": 112,
    "start_time": "2022-02-10T19:35:37.478Z"
   },
   {
    "duration": 58,
    "start_time": "2022-02-10T19:35:37.593Z"
   },
   {
    "duration": 80,
    "start_time": "2022-02-10T19:35:37.654Z"
   },
   {
    "duration": 1157,
    "start_time": "2022-02-10T19:35:37.737Z"
   },
   {
    "duration": 51,
    "start_time": "2022-02-10T19:35:38.896Z"
   },
   {
    "duration": 676,
    "start_time": "2022-02-10T19:35:38.949Z"
   },
   {
    "duration": 589,
    "start_time": "2022-02-10T19:35:39.628Z"
   },
   {
    "duration": 550,
    "start_time": "2022-02-10T19:35:40.220Z"
   },
   {
    "duration": 689,
    "start_time": "2022-02-10T19:35:40.772Z"
   },
   {
    "duration": 355,
    "start_time": "2022-02-10T19:35:41.463Z"
   },
   {
    "duration": 366,
    "start_time": "2022-02-10T19:35:41.821Z"
   },
   {
    "duration": 372,
    "start_time": "2022-02-10T19:35:42.190Z"
   },
   {
    "duration": 719,
    "start_time": "2022-02-10T19:35:42.564Z"
   },
   {
    "duration": 266,
    "start_time": "2022-02-10T19:35:43.287Z"
   },
   {
    "duration": 937,
    "start_time": "2022-02-10T19:35:43.556Z"
   },
   {
    "duration": 932,
    "start_time": "2022-02-10T19:35:44.495Z"
   },
   {
    "duration": 226,
    "start_time": "2022-02-10T19:35:45.432Z"
   },
   {
    "duration": 743,
    "start_time": "2022-02-10T19:35:45.660Z"
   },
   {
    "duration": 499,
    "start_time": "2022-02-10T19:35:46.405Z"
   },
   {
    "duration": 1867,
    "start_time": "2022-02-10T19:35:46.907Z"
   },
   {
    "duration": 384,
    "start_time": "2022-02-10T19:35:48.777Z"
   },
   {
    "duration": 9600,
    "start_time": "2022-02-10T19:35:49.163Z"
   },
   {
    "duration": 149,
    "start_time": "2022-02-10T19:35:58.765Z"
   },
   {
    "duration": 27,
    "start_time": "2022-02-10T19:35:58.916Z"
   },
   {
    "duration": 17,
    "start_time": "2022-02-10T19:35:58.945Z"
   },
   {
    "duration": 390,
    "start_time": "2022-02-10T19:35:58.964Z"
   },
   {
    "duration": 23,
    "start_time": "2022-02-10T19:35:59.356Z"
   },
   {
    "duration": 1933,
    "start_time": "2022-02-10T19:35:59.381Z"
   },
   {
    "duration": 2249,
    "start_time": "2022-02-10T19:36:01.316Z"
   },
   {
    "duration": 27,
    "start_time": "2022-02-10T19:39:14.485Z"
   },
   {
    "duration": 204,
    "start_time": "2022-02-10T19:42:25.574Z"
   },
   {
    "duration": 40,
    "start_time": "2022-02-10T19:42:31.446Z"
   },
   {
    "duration": 14,
    "start_time": "2022-02-10T19:42:35.991Z"
   },
   {
    "duration": 138,
    "start_time": "2022-02-10T19:43:32.844Z"
   },
   {
    "duration": 8,
    "start_time": "2022-02-10T19:43:32.984Z"
   },
   {
    "duration": 161,
    "start_time": "2022-02-10T19:43:32.995Z"
   },
   {
    "duration": 5,
    "start_time": "2022-02-10T19:43:33.160Z"
   },
   {
    "duration": 31,
    "start_time": "2022-02-10T19:43:33.168Z"
   },
   {
    "duration": 33,
    "start_time": "2022-02-10T19:43:33.202Z"
   },
   {
    "duration": 53,
    "start_time": "2022-02-10T19:43:33.238Z"
   },
   {
    "duration": 72,
    "start_time": "2022-02-10T19:43:33.294Z"
   },
   {
    "duration": 63,
    "start_time": "2022-02-10T19:43:33.369Z"
   },
   {
    "duration": 22,
    "start_time": "2022-02-10T19:43:33.434Z"
   },
   {
    "duration": 8,
    "start_time": "2022-02-10T19:43:33.458Z"
   },
   {
    "duration": 73,
    "start_time": "2022-02-10T19:43:33.468Z"
   },
   {
    "duration": 38,
    "start_time": "2022-02-10T19:43:33.543Z"
   },
   {
    "duration": 89,
    "start_time": "2022-02-10T19:43:33.583Z"
   },
   {
    "duration": 37,
    "start_time": "2022-02-10T19:43:33.675Z"
   },
   {
    "duration": 66,
    "start_time": "2022-02-10T19:43:33.714Z"
   },
   {
    "duration": 996,
    "start_time": "2022-02-10T19:43:33.782Z"
   },
   {
    "duration": 52,
    "start_time": "2022-02-10T19:43:34.781Z"
   },
   {
    "duration": 545,
    "start_time": "2022-02-10T19:43:34.836Z"
   },
   {
    "duration": 588,
    "start_time": "2022-02-10T19:43:35.383Z"
   },
   {
    "duration": 542,
    "start_time": "2022-02-10T19:43:35.974Z"
   },
   {
    "duration": 590,
    "start_time": "2022-02-10T19:43:36.518Z"
   },
   {
    "duration": 483,
    "start_time": "2022-02-10T19:43:37.112Z"
   },
   {
    "duration": 342,
    "start_time": "2022-02-10T19:43:37.597Z"
   },
   {
    "duration": 14,
    "start_time": "2022-02-10T19:43:38.826Z"
   },
   {
    "duration": 343,
    "start_time": "2022-02-10T19:43:43.642Z"
   },
   {
    "duration": 14,
    "start_time": "2022-02-10T19:43:45.758Z"
   },
   {
    "duration": 33,
    "start_time": "2022-02-10T19:45:32.961Z"
   },
   {
    "duration": 150,
    "start_time": "2022-02-10T19:45:35.034Z"
   },
   {
    "duration": 8,
    "start_time": "2022-02-10T19:45:35.187Z"
   },
   {
    "duration": 148,
    "start_time": "2022-02-10T19:45:35.198Z"
   },
   {
    "duration": 5,
    "start_time": "2022-02-10T19:45:35.348Z"
   },
   {
    "duration": 24,
    "start_time": "2022-02-10T19:45:35.355Z"
   },
   {
    "duration": 11,
    "start_time": "2022-02-10T19:45:35.382Z"
   },
   {
    "duration": 83,
    "start_time": "2022-02-10T19:45:35.395Z"
   },
   {
    "duration": 58,
    "start_time": "2022-02-10T19:45:35.482Z"
   },
   {
    "duration": 49,
    "start_time": "2022-02-10T19:45:35.543Z"
   },
   {
    "duration": 43,
    "start_time": "2022-02-10T19:45:35.594Z"
   },
   {
    "duration": 7,
    "start_time": "2022-02-10T19:45:35.640Z"
   },
   {
    "duration": 42,
    "start_time": "2022-02-10T19:45:35.649Z"
   },
   {
    "duration": 65,
    "start_time": "2022-02-10T19:45:35.693Z"
   },
   {
    "duration": 81,
    "start_time": "2022-02-10T19:45:35.760Z"
   },
   {
    "duration": 91,
    "start_time": "2022-02-10T19:45:35.843Z"
   },
   {
    "duration": 112,
    "start_time": "2022-02-10T19:45:35.937Z"
   },
   {
    "duration": 1300,
    "start_time": "2022-02-10T19:45:36.052Z"
   },
   {
    "duration": 40,
    "start_time": "2022-02-10T19:45:37.355Z"
   },
   {
    "duration": 547,
    "start_time": "2022-02-10T19:45:37.398Z"
   },
   {
    "duration": 585,
    "start_time": "2022-02-10T19:45:37.947Z"
   },
   {
    "duration": 791,
    "start_time": "2022-02-10T19:45:38.535Z"
   },
   {
    "duration": 585,
    "start_time": "2022-02-10T19:45:39.333Z"
   },
   {
    "duration": 344,
    "start_time": "2022-02-10T19:45:39.931Z"
   },
   {
    "duration": 332,
    "start_time": "2022-02-10T19:45:40.278Z"
   },
   {
    "duration": 348,
    "start_time": "2022-02-10T19:45:40.613Z"
   },
   {
    "duration": 592,
    "start_time": "2022-02-10T19:45:40.965Z"
   },
   {
    "duration": 292,
    "start_time": "2022-02-10T19:45:41.559Z"
   },
   {
    "duration": 1048,
    "start_time": "2022-02-10T19:45:41.854Z"
   },
   {
    "duration": 1427,
    "start_time": "2022-02-10T19:45:42.905Z"
   },
   {
    "duration": 234,
    "start_time": "2022-02-10T19:45:44.334Z"
   },
   {
    "duration": 33,
    "start_time": "2022-02-10T19:45:44.571Z"
   },
   {
    "duration": 570,
    "start_time": "2022-02-10T19:45:44.606Z"
   },
   {
    "duration": 318,
    "start_time": "2022-02-10T19:45:45.179Z"
   },
   {
    "duration": 1249,
    "start_time": "2022-02-10T19:45:45.500Z"
   },
   {
    "duration": 282,
    "start_time": "2022-02-10T19:45:46.752Z"
   },
   {
    "duration": 8995,
    "start_time": "2022-02-10T19:45:47.037Z"
   },
   {
    "duration": 162,
    "start_time": "2022-02-10T19:45:56.034Z"
   },
   {
    "duration": 17,
    "start_time": "2022-02-10T19:45:56.199Z"
   },
   {
    "duration": 16,
    "start_time": "2022-02-10T19:45:56.233Z"
   },
   {
    "duration": 293,
    "start_time": "2022-02-10T19:45:56.251Z"
   },
   {
    "duration": 21,
    "start_time": "2022-02-10T19:45:56.547Z"
   },
   {
    "duration": 2337,
    "start_time": "2022-02-10T19:45:56.571Z"
   },
   {
    "duration": 2250,
    "start_time": "2022-02-10T19:45:58.910Z"
   },
   {
    "duration": 573,
    "start_time": "2022-02-10T19:47:14.047Z"
   },
   {
    "duration": 21,
    "start_time": "2022-02-10T19:50:04.964Z"
   },
   {
    "duration": 235,
    "start_time": "2022-02-16T10:23:39.703Z"
   },
   {
    "duration": 642,
    "start_time": "2022-02-16T10:23:45.272Z"
   },
   {
    "duration": 7,
    "start_time": "2022-02-16T10:23:45.916Z"
   },
   {
    "duration": 101,
    "start_time": "2022-02-16T10:23:45.930Z"
   },
   {
    "duration": 3,
    "start_time": "2022-02-16T10:23:46.033Z"
   },
   {
    "duration": 22,
    "start_time": "2022-02-16T10:23:46.038Z"
   },
   {
    "duration": 8,
    "start_time": "2022-02-16T10:23:46.062Z"
   },
   {
    "duration": 34,
    "start_time": "2022-02-16T10:23:46.071Z"
   },
   {
    "duration": 46,
    "start_time": "2022-02-16T10:23:46.107Z"
   },
   {
    "duration": 33,
    "start_time": "2022-02-16T10:23:46.155Z"
   },
   {
    "duration": 15,
    "start_time": "2022-02-16T10:23:46.190Z"
   },
   {
    "duration": 26,
    "start_time": "2022-02-16T10:23:46.206Z"
   },
   {
    "duration": 30,
    "start_time": "2022-02-16T10:23:46.234Z"
   },
   {
    "duration": 26,
    "start_time": "2022-02-16T10:23:46.265Z"
   },
   {
    "duration": 71,
    "start_time": "2022-02-16T10:23:46.292Z"
   },
   {
    "duration": 23,
    "start_time": "2022-02-16T10:23:46.365Z"
   },
   {
    "duration": 44,
    "start_time": "2022-02-16T10:23:46.390Z"
   },
   {
    "duration": 575,
    "start_time": "2022-02-16T10:23:46.436Z"
   },
   {
    "duration": 33,
    "start_time": "2022-02-16T10:23:47.012Z"
   },
   {
    "duration": 648,
    "start_time": "2022-02-16T10:23:47.047Z"
   },
   {
    "duration": 1198,
    "start_time": "2022-02-16T10:23:46.500Z"
   },
   {
    "duration": 1181,
    "start_time": "2022-02-16T10:23:46.518Z"
   },
   {
    "duration": 1176,
    "start_time": "2022-02-16T10:23:46.525Z"
   },
   {
    "duration": 1172,
    "start_time": "2022-02-16T10:23:46.530Z"
   },
   {
    "duration": 1163,
    "start_time": "2022-02-16T10:23:46.541Z"
   },
   {
    "duration": 1159,
    "start_time": "2022-02-16T10:23:46.546Z"
   },
   {
    "duration": 1154,
    "start_time": "2022-02-16T10:23:46.552Z"
   },
   {
    "duration": 1150,
    "start_time": "2022-02-16T10:23:46.558Z"
   },
   {
    "duration": 1154,
    "start_time": "2022-02-16T10:23:46.576Z"
   },
   {
    "duration": 1138,
    "start_time": "2022-02-16T10:23:46.593Z"
   },
   {
    "duration": 1121,
    "start_time": "2022-02-16T10:23:46.612Z"
   },
   {
    "duration": 1091,
    "start_time": "2022-02-16T10:23:46.643Z"
   },
   {
    "duration": 1076,
    "start_time": "2022-02-16T10:23:46.659Z"
   },
   {
    "duration": 1060,
    "start_time": "2022-02-16T10:23:46.676Z"
   },
   {
    "duration": 1026,
    "start_time": "2022-02-16T10:23:46.711Z"
   },
   {
    "duration": 1011,
    "start_time": "2022-02-16T10:23:46.727Z"
   },
   {
    "duration": 994,
    "start_time": "2022-02-16T10:23:46.745Z"
   },
   {
    "duration": 962,
    "start_time": "2022-02-16T10:23:46.778Z"
   },
   {
    "duration": 956,
    "start_time": "2022-02-16T10:23:46.785Z"
   },
   {
    "duration": 951,
    "start_time": "2022-02-16T10:23:46.791Z"
   },
   {
    "duration": 946,
    "start_time": "2022-02-16T10:23:46.797Z"
   },
   {
    "duration": 942,
    "start_time": "2022-02-16T10:23:46.802Z"
   },
   {
    "duration": 937,
    "start_time": "2022-02-16T10:23:46.808Z"
   },
   {
    "duration": 930,
    "start_time": "2022-02-16T10:23:46.816Z"
   },
   {
    "duration": 924,
    "start_time": "2022-02-16T10:23:46.822Z"
   },
   {
    "duration": 305,
    "start_time": "2022-02-16T10:26:56.584Z"
   },
   {
    "duration": 476,
    "start_time": "2022-02-16T10:30:36.091Z"
   },
   {
    "duration": 484,
    "start_time": "2022-02-16T10:30:46.162Z"
   },
   {
    "duration": 544,
    "start_time": "2022-02-16T10:31:18.529Z"
   },
   {
    "duration": 399,
    "start_time": "2022-02-16T10:31:26.417Z"
   },
   {
    "duration": 477,
    "start_time": "2022-02-16T10:33:56.271Z"
   },
   {
    "duration": 311,
    "start_time": "2022-02-16T10:35:46.835Z"
   },
   {
    "duration": 174,
    "start_time": "2022-02-16T10:36:02.694Z"
   },
   {
    "duration": 311,
    "start_time": "2022-02-16T10:36:09.414Z"
   },
   {
    "duration": 359,
    "start_time": "2022-02-16T10:39:10.766Z"
   },
   {
    "duration": 312,
    "start_time": "2022-02-16T10:39:24.036Z"
   },
   {
    "duration": 432,
    "start_time": "2022-02-16T10:39:52.500Z"
   },
   {
    "duration": 330,
    "start_time": "2022-02-16T10:40:11.960Z"
   },
   {
    "duration": 326,
    "start_time": "2022-02-16T10:40:27.647Z"
   },
   {
    "duration": 197,
    "start_time": "2022-02-16T10:40:44.561Z"
   },
   {
    "duration": 192,
    "start_time": "2022-02-16T10:40:56.738Z"
   },
   {
    "duration": 210,
    "start_time": "2022-02-16T10:41:13.381Z"
   },
   {
    "duration": 212,
    "start_time": "2022-02-16T10:41:48.570Z"
   },
   {
    "duration": 193,
    "start_time": "2022-02-16T10:45:15.771Z"
   },
   {
    "duration": 227,
    "start_time": "2022-02-16T10:48:05.617Z"
   },
   {
    "duration": 11,
    "start_time": "2022-02-16T10:49:08.440Z"
   },
   {
    "duration": 186,
    "start_time": "2022-02-16T10:50:23.848Z"
   },
   {
    "duration": 350,
    "start_time": "2022-02-16T10:50:32.087Z"
   },
   {
    "duration": 6,
    "start_time": "2022-02-16T10:52:29.846Z"
   },
   {
    "duration": 201,
    "start_time": "2022-02-16T10:55:03.309Z"
   },
   {
    "duration": 679,
    "start_time": "2022-02-16T10:55:43.113Z"
   },
   {
    "duration": 9,
    "start_time": "2022-02-16T10:55:43.794Z"
   },
   {
    "duration": 103,
    "start_time": "2022-02-16T10:55:43.805Z"
   },
   {
    "duration": 4,
    "start_time": "2022-02-16T10:55:43.910Z"
   },
   {
    "duration": 23,
    "start_time": "2022-02-16T10:55:43.915Z"
   },
   {
    "duration": 18,
    "start_time": "2022-02-16T10:55:43.940Z"
   },
   {
    "duration": 10,
    "start_time": "2022-02-16T10:55:43.960Z"
   },
   {
    "duration": 61,
    "start_time": "2022-02-16T10:55:43.973Z"
   },
   {
    "duration": 27,
    "start_time": "2022-02-16T10:55:44.037Z"
   },
   {
    "duration": 36,
    "start_time": "2022-02-16T10:55:44.066Z"
   },
   {
    "duration": 41,
    "start_time": "2022-02-16T10:55:44.104Z"
   },
   {
    "duration": 7,
    "start_time": "2022-02-16T10:55:44.147Z"
   },
   {
    "duration": 32,
    "start_time": "2022-02-16T10:55:44.155Z"
   },
   {
    "duration": 46,
    "start_time": "2022-02-16T10:55:44.189Z"
   },
   {
    "duration": 45,
    "start_time": "2022-02-16T10:55:44.237Z"
   },
   {
    "duration": 23,
    "start_time": "2022-02-16T10:55:44.284Z"
   },
   {
    "duration": 46,
    "start_time": "2022-02-16T10:55:44.309Z"
   },
   {
    "duration": 586,
    "start_time": "2022-02-16T10:55:44.357Z"
   },
   {
    "duration": 24,
    "start_time": "2022-02-16T10:55:44.945Z"
   },
   {
    "duration": 429,
    "start_time": "2022-02-16T10:55:44.971Z"
   },
   {
    "duration": 340,
    "start_time": "2022-02-16T10:55:45.402Z"
   },
   {
    "duration": 334,
    "start_time": "2022-02-16T10:55:45.744Z"
   },
   {
    "duration": 341,
    "start_time": "2022-02-16T10:55:46.081Z"
   },
   {
    "duration": 209,
    "start_time": "2022-02-16T10:55:46.424Z"
   },
   {
    "duration": 339,
    "start_time": "2022-02-16T10:55:46.634Z"
   },
   {
    "duration": 316,
    "start_time": "2022-02-16T10:55:46.975Z"
   },
   {
    "duration": 395,
    "start_time": "2022-02-16T10:55:47.293Z"
   },
   {
    "duration": 167,
    "start_time": "2022-02-16T10:55:47.689Z"
   },
   {
    "duration": 548,
    "start_time": "2022-02-16T10:55:47.858Z"
   },
   {
    "duration": 525,
    "start_time": "2022-02-16T10:55:48.407Z"
   },
   {
    "duration": 143,
    "start_time": "2022-02-16T10:55:48.934Z"
   },
   {
    "duration": 22,
    "start_time": "2022-02-16T10:55:49.079Z"
   },
   {
    "duration": 429,
    "start_time": "2022-02-16T10:55:49.103Z"
   },
   {
    "duration": 497,
    "start_time": "2022-02-16T10:55:49.534Z"
   },
   {
    "duration": 181,
    "start_time": "2022-02-16T10:55:50.033Z"
   },
   {
    "duration": 798,
    "start_time": "2022-02-16T10:55:50.216Z"
   },
   {
    "duration": 162,
    "start_time": "2022-02-16T10:55:51.016Z"
   },
   {
    "duration": 5818,
    "start_time": "2022-02-16T10:55:51.180Z"
   },
   {
    "duration": 83,
    "start_time": "2022-02-16T10:55:57.000Z"
   },
   {
    "duration": 12,
    "start_time": "2022-02-16T10:55:57.084Z"
   },
   {
    "duration": 13,
    "start_time": "2022-02-16T10:55:57.097Z"
   },
   {
    "duration": 298,
    "start_time": "2022-02-16T10:55:57.111Z"
   },
   {
    "duration": 21,
    "start_time": "2022-02-16T10:55:57.411Z"
   },
   {
    "duration": 1041,
    "start_time": "2022-02-16T10:55:57.433Z"
   },
   {
    "duration": 1429,
    "start_time": "2022-02-16T10:55:58.476Z"
   },
   {
    "duration": 278,
    "start_time": "2022-02-16T10:56:34.001Z"
   },
   {
    "duration": 654,
    "start_time": "2022-02-16T10:57:02.754Z"
   },
   {
    "duration": 21,
    "start_time": "2022-02-16T10:57:03.409Z"
   },
   {
    "duration": 86,
    "start_time": "2022-02-16T10:57:03.432Z"
   },
   {
    "duration": 12,
    "start_time": "2022-02-16T10:57:03.520Z"
   },
   {
    "duration": 12,
    "start_time": "2022-02-16T10:57:03.533Z"
   },
   {
    "duration": 22,
    "start_time": "2022-02-16T10:57:03.546Z"
   },
   {
    "duration": 10,
    "start_time": "2022-02-16T10:57:03.570Z"
   },
   {
    "duration": 57,
    "start_time": "2022-02-16T10:57:03.583Z"
   },
   {
    "duration": 28,
    "start_time": "2022-02-16T10:57:03.642Z"
   },
   {
    "duration": 33,
    "start_time": "2022-02-16T10:57:03.671Z"
   },
   {
    "duration": 39,
    "start_time": "2022-02-16T10:57:03.706Z"
   },
   {
    "duration": 6,
    "start_time": "2022-02-16T10:57:03.747Z"
   },
   {
    "duration": 29,
    "start_time": "2022-02-16T10:57:03.754Z"
   },
   {
    "duration": 46,
    "start_time": "2022-02-16T10:57:03.785Z"
   },
   {
    "duration": 47,
    "start_time": "2022-02-16T10:57:03.833Z"
   },
   {
    "duration": 24,
    "start_time": "2022-02-16T10:57:03.882Z"
   },
   {
    "duration": 51,
    "start_time": "2022-02-16T10:57:03.907Z"
   },
   {
    "duration": 579,
    "start_time": "2022-02-16T10:57:03.960Z"
   },
   {
    "duration": 24,
    "start_time": "2022-02-16T10:57:04.540Z"
   },
   {
    "duration": 445,
    "start_time": "2022-02-16T10:57:04.565Z"
   },
   {
    "duration": 359,
    "start_time": "2022-02-16T10:57:05.012Z"
   },
   {
    "duration": 329,
    "start_time": "2022-02-16T10:57:05.373Z"
   },
   {
    "duration": 630,
    "start_time": "2022-02-16T10:57:05.705Z"
   },
   {
    "duration": 223,
    "start_time": "2022-02-16T10:57:06.337Z"
   },
   {
    "duration": 186,
    "start_time": "2022-02-16T10:57:06.561Z"
   },
   {
    "duration": 242,
    "start_time": "2022-02-16T10:57:06.748Z"
   },
   {
    "duration": 394,
    "start_time": "2022-02-16T10:57:06.992Z"
   },
   {
    "duration": 190,
    "start_time": "2022-02-16T10:57:07.388Z"
   },
   {
    "duration": 628,
    "start_time": "2022-02-16T10:57:07.581Z"
   },
   {
    "duration": 566,
    "start_time": "2022-02-16T10:57:08.211Z"
   },
   {
    "duration": 152,
    "start_time": "2022-02-16T10:57:08.779Z"
   },
   {
    "duration": 22,
    "start_time": "2022-02-16T10:57:08.932Z"
   },
   {
    "duration": 489,
    "start_time": "2022-02-16T10:57:08.955Z"
   },
   {
    "duration": 534,
    "start_time": "2022-02-16T10:57:09.446Z"
   },
   {
    "duration": 198,
    "start_time": "2022-02-16T10:57:09.982Z"
   },
   {
    "duration": 846,
    "start_time": "2022-02-16T10:57:10.181Z"
   },
   {
    "duration": 168,
    "start_time": "2022-02-16T10:57:11.030Z"
   },
   {
    "duration": 6905,
    "start_time": "2022-02-16T10:57:11.200Z"
   },
   {
    "duration": 90,
    "start_time": "2022-02-16T10:57:18.107Z"
   },
   {
    "duration": 11,
    "start_time": "2022-02-16T10:57:18.199Z"
   },
   {
    "duration": 26,
    "start_time": "2022-02-16T10:57:18.211Z"
   },
   {
    "duration": 178,
    "start_time": "2022-02-16T10:57:18.238Z"
   },
   {
    "duration": 22,
    "start_time": "2022-02-16T10:57:18.418Z"
   },
   {
    "duration": 1176,
    "start_time": "2022-02-16T10:57:18.442Z"
   },
   {
    "duration": 1727,
    "start_time": "2022-02-16T10:57:19.620Z"
   },
   {
    "duration": 358,
    "start_time": "2022-02-16T11:02:18.135Z"
   },
   {
    "duration": 194,
    "start_time": "2022-02-16T11:02:45.381Z"
   },
   {
    "duration": 201,
    "start_time": "2022-02-16T11:03:07.349Z"
   },
   {
    "duration": 209,
    "start_time": "2022-02-16T11:03:16.574Z"
   },
   {
    "duration": 342,
    "start_time": "2022-02-16T11:03:35.324Z"
   },
   {
    "duration": 533,
    "start_time": "2022-02-16T11:06:03.122Z"
   },
   {
    "duration": 511,
    "start_time": "2022-02-16T11:09:37.505Z"
   },
   {
    "duration": 11,
    "start_time": "2022-02-16T11:09:51.327Z"
   },
   {
    "duration": 653,
    "start_time": "2022-02-16T11:10:07.055Z"
   },
   {
    "duration": 7,
    "start_time": "2022-02-16T11:10:09.035Z"
   },
   {
    "duration": 131,
    "start_time": "2022-02-16T11:10:09.351Z"
   },
   {
    "duration": 8,
    "start_time": "2022-02-16T11:10:09.827Z"
   },
   {
    "duration": 83,
    "start_time": "2022-02-16T11:10:10.448Z"
   },
   {
    "duration": 4,
    "start_time": "2022-02-16T11:10:11.233Z"
   },
   {
    "duration": 7,
    "start_time": "2022-02-16T11:10:11.419Z"
   },
   {
    "duration": 21,
    "start_time": "2022-02-16T11:10:11.580Z"
   },
   {
    "duration": 11,
    "start_time": "2022-02-16T11:10:11.965Z"
   },
   {
    "duration": 32,
    "start_time": "2022-02-16T11:10:12.498Z"
   },
   {
    "duration": 26,
    "start_time": "2022-02-16T11:10:12.848Z"
   },
   {
    "duration": 33,
    "start_time": "2022-02-16T11:10:13.011Z"
   },
   {
    "duration": 16,
    "start_time": "2022-02-16T11:10:13.194Z"
   },
   {
    "duration": 7,
    "start_time": "2022-02-16T11:10:13.715Z"
   },
   {
    "duration": 27,
    "start_time": "2022-02-16T11:10:13.906Z"
   },
   {
    "duration": 25,
    "start_time": "2022-02-16T11:10:14.076Z"
   },
   {
    "duration": 48,
    "start_time": "2022-02-16T11:10:14.431Z"
   },
   {
    "duration": 26,
    "start_time": "2022-02-16T11:10:15.131Z"
   },
   {
    "duration": 30,
    "start_time": "2022-02-16T11:10:15.310Z"
   },
   {
    "duration": 569,
    "start_time": "2022-02-16T11:10:15.504Z"
   },
   {
    "duration": 24,
    "start_time": "2022-02-16T11:10:16.075Z"
   },
   {
    "duration": 408,
    "start_time": "2022-02-16T11:10:16.459Z"
   },
   {
    "duration": 340,
    "start_time": "2022-02-16T11:10:25.619Z"
   },
   {
    "duration": 328,
    "start_time": "2022-02-16T11:10:36.220Z"
   },
   {
    "duration": 11,
    "start_time": "2022-02-16T11:10:37.408Z"
   },
   {
    "duration": 16,
    "start_time": "2022-02-16T11:10:59.104Z"
   },
   {
    "duration": 9,
    "start_time": "2022-02-16T11:11:08.390Z"
   },
   {
    "duration": 21,
    "start_time": "2022-02-16T11:12:07.610Z"
   },
   {
    "duration": 30,
    "start_time": "2022-02-16T11:12:34.696Z"
   },
   {
    "duration": 28,
    "start_time": "2022-02-16T11:13:08.806Z"
   },
   {
    "duration": 16,
    "start_time": "2022-02-16T11:13:35.895Z"
   },
   {
    "duration": 17,
    "start_time": "2022-02-16T11:13:50.292Z"
   },
   {
    "duration": 32,
    "start_time": "2022-02-16T11:13:54.943Z"
   },
   {
    "duration": 42,
    "start_time": "2022-02-16T11:14:02.268Z"
   },
   {
    "duration": 347,
    "start_time": "2022-02-16T11:14:24.393Z"
   },
   {
    "duration": 351,
    "start_time": "2022-02-16T11:14:34.556Z"
   },
   {
    "duration": 433,
    "start_time": "2022-02-16T11:14:41.386Z"
   },
   {
    "duration": 26,
    "start_time": "2022-02-16T11:14:47.063Z"
   },
   {
    "duration": 673,
    "start_time": "2022-02-16T11:14:56.923Z"
   },
   {
    "duration": 8,
    "start_time": "2022-02-16T11:14:58.584Z"
   },
   {
    "duration": 91,
    "start_time": "2022-02-16T11:14:58.911Z"
   },
   {
    "duration": 4,
    "start_time": "2022-02-16T11:14:59.746Z"
   },
   {
    "duration": 7,
    "start_time": "2022-02-16T11:15:00.086Z"
   },
   {
    "duration": 23,
    "start_time": "2022-02-16T11:15:00.259Z"
   },
   {
    "duration": 8,
    "start_time": "2022-02-16T11:15:00.576Z"
   },
   {
    "duration": 36,
    "start_time": "2022-02-16T11:15:01.097Z"
   },
   {
    "duration": 29,
    "start_time": "2022-02-16T11:15:01.397Z"
   },
   {
    "duration": 33,
    "start_time": "2022-02-16T11:15:01.558Z"
   },
   {
    "duration": 17,
    "start_time": "2022-02-16T11:15:01.831Z"
   },
   {
    "duration": 6,
    "start_time": "2022-02-16T11:15:02.341Z"
   },
   {
    "duration": 29,
    "start_time": "2022-02-16T11:15:02.527Z"
   },
   {
    "duration": 26,
    "start_time": "2022-02-16T11:15:02.686Z"
   },
   {
    "duration": 46,
    "start_time": "2022-02-16T11:15:03.027Z"
   },
   {
    "duration": 26,
    "start_time": "2022-02-16T11:15:03.726Z"
   },
   {
    "duration": 31,
    "start_time": "2022-02-16T11:15:03.899Z"
   },
   {
    "duration": 553,
    "start_time": "2022-02-16T11:15:04.064Z"
   },
   {
    "duration": 28,
    "start_time": "2022-02-16T11:15:04.619Z"
   },
   {
    "duration": 416,
    "start_time": "2022-02-16T11:15:04.957Z"
   },
   {
    "duration": 346,
    "start_time": "2022-02-16T11:15:09.284Z"
   },
   {
    "duration": 323,
    "start_time": "2022-02-16T11:15:13.878Z"
   },
   {
    "duration": 36,
    "start_time": "2022-02-16T11:15:15.380Z"
   },
   {
    "duration": 339,
    "start_time": "2022-02-16T11:15:19.374Z"
   },
   {
    "duration": 361,
    "start_time": "2022-02-16T11:15:27.991Z"
   },
   {
    "duration": 215,
    "start_time": "2022-02-16T11:15:33.515Z"
   },
   {
    "duration": 250,
    "start_time": "2022-02-16T11:15:35.301Z"
   },
   {
    "duration": 240,
    "start_time": "2022-02-16T11:15:36.290Z"
   },
   {
    "duration": 374,
    "start_time": "2022-02-16T11:15:43.247Z"
   },
   {
    "duration": 181,
    "start_time": "2022-02-16T11:15:45.893Z"
   },
   {
    "duration": 544,
    "start_time": "2022-02-16T11:15:49.931Z"
   },
   {
    "duration": 553,
    "start_time": "2022-02-16T11:15:55.359Z"
   },
   {
    "duration": 227,
    "start_time": "2022-02-16T11:15:56.808Z"
   },
   {
    "duration": 22,
    "start_time": "2022-02-16T11:16:03.736Z"
   },
   {
    "duration": 37,
    "start_time": "2022-02-16T11:16:27.347Z"
   },
   {
    "duration": 4414,
    "start_time": "2022-02-16T11:16:52.279Z"
   },
   {
    "duration": 9,
    "start_time": "2022-02-16T11:17:05.168Z"
   },
   {
    "duration": 239,
    "start_time": "2022-02-16T11:18:06.970Z"
   },
   {
    "duration": 186,
    "start_time": "2022-02-16T11:18:15.262Z"
   },
   {
    "duration": 196,
    "start_time": "2022-02-16T11:18:31.922Z"
   },
   {
    "duration": 40,
    "start_time": "2022-02-16T11:19:36.069Z"
   },
   {
    "duration": 12,
    "start_time": "2022-02-16T11:19:54.566Z"
   },
   {
    "duration": 6,
    "start_time": "2022-02-16T11:20:00.170Z"
   },
   {
    "duration": 19,
    "start_time": "2022-02-16T11:20:01.331Z"
   },
   {
    "duration": 277,
    "start_time": "2022-02-16T11:20:11.716Z"
   },
   {
    "duration": 18,
    "start_time": "2022-02-16T11:20:29.318Z"
   },
   {
    "duration": 721,
    "start_time": "2022-02-16T11:20:34.380Z"
   },
   {
    "duration": 6,
    "start_time": "2022-02-16T11:20:35.103Z"
   },
   {
    "duration": 118,
    "start_time": "2022-02-16T11:20:35.114Z"
   },
   {
    "duration": 3,
    "start_time": "2022-02-16T11:20:35.234Z"
   },
   {
    "duration": 12,
    "start_time": "2022-02-16T11:20:35.239Z"
   },
   {
    "duration": 22,
    "start_time": "2022-02-16T11:20:35.253Z"
   },
   {
    "duration": 10,
    "start_time": "2022-02-16T11:20:35.278Z"
   },
   {
    "duration": 61,
    "start_time": "2022-02-16T11:20:35.290Z"
   },
   {
    "duration": 29,
    "start_time": "2022-02-16T11:20:35.353Z"
   },
   {
    "duration": 55,
    "start_time": "2022-02-16T11:20:35.383Z"
   },
   {
    "duration": 23,
    "start_time": "2022-02-16T11:20:35.440Z"
   },
   {
    "duration": 20,
    "start_time": "2022-02-16T11:20:35.465Z"
   },
   {
    "duration": 31,
    "start_time": "2022-02-16T11:20:35.487Z"
   },
   {
    "duration": 27,
    "start_time": "2022-02-16T11:20:35.520Z"
   },
   {
    "duration": 49,
    "start_time": "2022-02-16T11:20:35.549Z"
   },
   {
    "duration": 37,
    "start_time": "2022-02-16T11:20:35.600Z"
   },
   {
    "duration": 32,
    "start_time": "2022-02-16T11:20:35.638Z"
   },
   {
    "duration": 591,
    "start_time": "2022-02-16T11:20:35.671Z"
   },
   {
    "duration": 24,
    "start_time": "2022-02-16T11:20:36.263Z"
   },
   {
    "duration": 449,
    "start_time": "2022-02-16T11:20:36.289Z"
   },
   {
    "duration": 364,
    "start_time": "2022-02-16T11:20:36.740Z"
   },
   {
    "duration": 350,
    "start_time": "2022-02-16T11:20:37.108Z"
   },
   {
    "duration": 37,
    "start_time": "2022-02-16T11:20:37.461Z"
   },
   {
    "duration": 458,
    "start_time": "2022-02-16T11:20:37.500Z"
   },
   {
    "duration": 240,
    "start_time": "2022-02-16T11:20:37.959Z"
   },
   {
    "duration": 204,
    "start_time": "2022-02-16T11:20:38.201Z"
   },
   {
    "duration": 245,
    "start_time": "2022-02-16T11:20:38.407Z"
   },
   {
    "duration": 407,
    "start_time": "2022-02-16T11:20:38.653Z"
   },
   {
    "duration": 189,
    "start_time": "2022-02-16T11:20:39.062Z"
   },
   {
    "duration": 566,
    "start_time": "2022-02-16T11:20:39.253Z"
   },
   {
    "duration": 572,
    "start_time": "2022-02-16T11:20:39.821Z"
   },
   {
    "duration": 149,
    "start_time": "2022-02-16T11:20:40.394Z"
   },
   {
    "duration": 15,
    "start_time": "2022-02-16T11:20:40.545Z"
   },
   {
    "duration": 24,
    "start_time": "2022-02-16T11:20:40.562Z"
   },
   {
    "duration": 475,
    "start_time": "2022-02-16T11:20:40.588Z"
   },
   {
    "duration": 558,
    "start_time": "2022-02-16T11:20:41.065Z"
   },
   {
    "duration": 206,
    "start_time": "2022-02-16T11:20:41.626Z"
   },
   {
    "duration": 857,
    "start_time": "2022-02-16T11:20:41.834Z"
   },
   {
    "duration": 174,
    "start_time": "2022-02-16T11:20:42.693Z"
   },
   {
    "duration": 7332,
    "start_time": "2022-02-16T11:20:42.869Z"
   },
   {
    "duration": 92,
    "start_time": "2022-02-16T11:20:50.203Z"
   },
   {
    "duration": 11,
    "start_time": "2022-02-16T11:20:50.296Z"
   },
   {
    "duration": 27,
    "start_time": "2022-02-16T11:20:50.309Z"
   },
   {
    "duration": 178,
    "start_time": "2022-02-16T11:20:50.338Z"
   },
   {
    "duration": 24,
    "start_time": "2022-02-16T11:20:50.517Z"
   },
   {
    "duration": 1407,
    "start_time": "2022-02-16T11:20:50.543Z"
   },
   {
    "duration": 1346,
    "start_time": "2022-02-16T11:20:51.952Z"
   },
   {
    "duration": 175,
    "start_time": "2022-02-16T11:21:11.867Z"
   },
   {
    "duration": 45,
    "start_time": "2022-02-16T11:21:22.734Z"
   },
   {
    "duration": 45,
    "start_time": "2022-02-16T11:22:26.093Z"
   },
   {
    "duration": 68,
    "start_time": "2022-02-16T11:22:37.345Z"
   },
   {
    "duration": 20,
    "start_time": "2022-02-16T11:22:46.682Z"
   },
   {
    "duration": 20,
    "start_time": "2022-02-16T11:23:03.217Z"
   },
   {
    "duration": 706,
    "start_time": "2022-02-16T11:23:07.739Z"
   },
   {
    "duration": 6,
    "start_time": "2022-02-16T11:23:08.446Z"
   },
   {
    "duration": 109,
    "start_time": "2022-02-16T11:23:08.456Z"
   },
   {
    "duration": 3,
    "start_time": "2022-02-16T11:23:08.567Z"
   },
   {
    "duration": 8,
    "start_time": "2022-02-16T11:23:08.572Z"
   },
   {
    "duration": 23,
    "start_time": "2022-02-16T11:23:08.582Z"
   },
   {
    "duration": 30,
    "start_time": "2022-02-16T11:23:08.608Z"
   },
   {
    "duration": 43,
    "start_time": "2022-02-16T11:23:08.640Z"
   },
   {
    "duration": 50,
    "start_time": "2022-02-16T11:23:08.685Z"
   },
   {
    "duration": 36,
    "start_time": "2022-02-16T11:23:08.736Z"
   },
   {
    "duration": 17,
    "start_time": "2022-02-16T11:23:08.774Z"
   },
   {
    "duration": 6,
    "start_time": "2022-02-16T11:23:08.792Z"
   },
   {
    "duration": 53,
    "start_time": "2022-02-16T11:23:08.800Z"
   },
   {
    "duration": 26,
    "start_time": "2022-02-16T11:23:08.855Z"
   },
   {
    "duration": 68,
    "start_time": "2022-02-16T11:23:08.883Z"
   },
   {
    "duration": 27,
    "start_time": "2022-02-16T11:23:08.953Z"
   },
   {
    "duration": 50,
    "start_time": "2022-02-16T11:23:08.981Z"
   },
   {
    "duration": 602,
    "start_time": "2022-02-16T11:23:09.033Z"
   },
   {
    "duration": 25,
    "start_time": "2022-02-16T11:23:09.637Z"
   },
   {
    "duration": 441,
    "start_time": "2022-02-16T11:23:09.664Z"
   },
   {
    "duration": 354,
    "start_time": "2022-02-16T11:23:10.107Z"
   },
   {
    "duration": 337,
    "start_time": "2022-02-16T11:23:10.466Z"
   },
   {
    "duration": 47,
    "start_time": "2022-02-16T11:23:10.806Z"
   },
   {
    "duration": 365,
    "start_time": "2022-02-16T11:23:10.855Z"
   },
   {
    "duration": 223,
    "start_time": "2022-02-16T11:23:11.221Z"
   },
   {
    "duration": 195,
    "start_time": "2022-02-16T11:23:11.446Z"
   },
   {
    "duration": 331,
    "start_time": "2022-02-16T11:23:11.642Z"
   },
   {
    "duration": 556,
    "start_time": "2022-02-16T11:23:11.974Z"
   },
   {
    "duration": 185,
    "start_time": "2022-02-16T11:23:12.532Z"
   },
   {
    "duration": 545,
    "start_time": "2022-02-16T11:23:12.719Z"
   },
   {
    "duration": 552,
    "start_time": "2022-02-16T11:23:13.265Z"
   },
   {
    "duration": 152,
    "start_time": "2022-02-16T11:23:13.819Z"
   },
   {
    "duration": 26,
    "start_time": "2022-02-16T11:23:13.973Z"
   },
   {
    "duration": 481,
    "start_time": "2022-02-16T11:23:14.001Z"
   },
   {
    "duration": 595,
    "start_time": "2022-02-16T11:23:14.484Z"
   },
   {
    "duration": 194,
    "start_time": "2022-02-16T11:23:15.081Z"
   },
   {
    "duration": 841,
    "start_time": "2022-02-16T11:23:15.277Z"
   },
   {
    "duration": 161,
    "start_time": "2022-02-16T11:23:16.120Z"
   },
   {
    "duration": 6758,
    "start_time": "2022-02-16T11:23:16.283Z"
   },
   {
    "duration": 92,
    "start_time": "2022-02-16T11:23:23.043Z"
   },
   {
    "duration": 12,
    "start_time": "2022-02-16T11:23:23.137Z"
   },
   {
    "duration": 16,
    "start_time": "2022-02-16T11:23:23.151Z"
   },
   {
    "duration": 193,
    "start_time": "2022-02-16T11:23:23.169Z"
   },
   {
    "duration": 17,
    "start_time": "2022-02-16T11:23:23.364Z"
   },
   {
    "duration": 1191,
    "start_time": "2022-02-16T11:23:23.382Z"
   },
   {
    "duration": 1330,
    "start_time": "2022-02-16T11:23:24.575Z"
   },
   {
    "duration": 758,
    "start_time": "2022-02-16T11:53:47.988Z"
   },
   {
    "duration": 7,
    "start_time": "2022-02-16T11:53:48.747Z"
   },
   {
    "duration": 188,
    "start_time": "2022-02-16T11:53:48.756Z"
   },
   {
    "duration": 4,
    "start_time": "2022-02-16T11:53:48.945Z"
   },
   {
    "duration": 15,
    "start_time": "2022-02-16T11:53:48.950Z"
   },
   {
    "duration": 75,
    "start_time": "2022-02-16T11:53:48.966Z"
   },
   {
    "duration": 8,
    "start_time": "2022-02-16T11:53:49.043Z"
   },
   {
    "duration": 78,
    "start_time": "2022-02-16T11:53:49.053Z"
   },
   {
    "duration": 29,
    "start_time": "2022-02-16T11:53:49.134Z"
   },
   {
    "duration": 33,
    "start_time": "2022-02-16T11:53:49.165Z"
   },
   {
    "duration": 37,
    "start_time": "2022-02-16T11:53:49.199Z"
   },
   {
    "duration": 5,
    "start_time": "2022-02-16T11:53:49.238Z"
   },
   {
    "duration": 27,
    "start_time": "2022-02-16T11:53:49.245Z"
   },
   {
    "duration": 27,
    "start_time": "2022-02-16T11:53:49.274Z"
   },
   {
    "duration": 71,
    "start_time": "2022-02-16T11:53:49.302Z"
   },
   {
    "duration": 25,
    "start_time": "2022-02-16T11:53:49.375Z"
   },
   {
    "duration": 51,
    "start_time": "2022-02-16T11:53:49.401Z"
   },
   {
    "duration": 583,
    "start_time": "2022-02-16T11:53:49.453Z"
   },
   {
    "duration": 26,
    "start_time": "2022-02-16T11:53:50.038Z"
   },
   {
    "duration": 444,
    "start_time": "2022-02-16T11:53:50.065Z"
   },
   {
    "duration": 353,
    "start_time": "2022-02-16T11:53:50.510Z"
   },
   {
    "duration": 335,
    "start_time": "2022-02-16T11:53:50.865Z"
   },
   {
    "duration": 44,
    "start_time": "2022-02-16T11:53:51.204Z"
   },
   {
    "duration": 380,
    "start_time": "2022-02-16T11:53:51.250Z"
   },
   {
    "duration": 227,
    "start_time": "2022-02-16T11:53:51.632Z"
   },
   {
    "duration": 204,
    "start_time": "2022-02-16T11:53:51.861Z"
   },
   {
    "duration": 466,
    "start_time": "2022-02-16T11:53:52.067Z"
   },
   {
    "duration": 462,
    "start_time": "2022-02-16T11:53:52.535Z"
   },
   {
    "duration": 184,
    "start_time": "2022-02-16T11:53:52.999Z"
   },
   {
    "duration": 539,
    "start_time": "2022-02-16T11:53:53.184Z"
   },
   {
    "duration": 561,
    "start_time": "2022-02-16T11:53:53.725Z"
   },
   {
    "duration": 148,
    "start_time": "2022-02-16T11:53:54.288Z"
   },
   {
    "duration": 6,
    "start_time": "2022-02-16T11:53:54.438Z"
   },
   {
    "duration": 28,
    "start_time": "2022-02-16T11:53:54.446Z"
   },
   {
    "duration": 493,
    "start_time": "2022-02-16T11:53:54.476Z"
   },
   {
    "duration": 578,
    "start_time": "2022-02-16T11:53:54.971Z"
   },
   {
    "duration": 184,
    "start_time": "2022-02-16T11:53:55.551Z"
   },
   {
    "duration": 820,
    "start_time": "2022-02-16T11:53:55.737Z"
   },
   {
    "duration": 167,
    "start_time": "2022-02-16T11:53:56.559Z"
   },
   {
    "duration": 6634,
    "start_time": "2022-02-16T11:53:56.730Z"
   },
   {
    "duration": 95,
    "start_time": "2022-02-16T11:54:03.365Z"
   },
   {
    "duration": 10,
    "start_time": "2022-02-16T11:54:03.462Z"
   },
   {
    "duration": 18,
    "start_time": "2022-02-16T11:54:03.474Z"
   },
   {
    "duration": 185,
    "start_time": "2022-02-16T11:54:03.493Z"
   },
   {
    "duration": 16,
    "start_time": "2022-02-16T11:54:03.679Z"
   },
   {
    "duration": 1157,
    "start_time": "2022-02-16T11:54:03.697Z"
   },
   {
    "duration": 1356,
    "start_time": "2022-02-16T11:54:04.856Z"
   },
   {
    "duration": 8,
    "start_time": "2022-02-16T11:55:37.587Z"
   },
   {
    "duration": 331,
    "start_time": "2022-02-16T11:55:45.441Z"
   },
   {
    "duration": 330,
    "start_time": "2022-02-16T11:58:50.028Z"
   },
   {
    "duration": 209,
    "start_time": "2022-02-16T11:58:55.540Z"
   },
   {
    "duration": 187,
    "start_time": "2022-02-16T11:59:35.179Z"
   },
   {
    "duration": 6,
    "start_time": "2022-02-16T11:59:39.928Z"
   },
   {
    "duration": 179,
    "start_time": "2022-02-16T12:02:26.037Z"
   },
   {
    "duration": 183,
    "start_time": "2022-02-16T12:02:42.718Z"
   },
   {
    "duration": 179,
    "start_time": "2022-02-16T12:07:00.664Z"
   },
   {
    "duration": 178,
    "start_time": "2022-02-16T12:07:20.812Z"
   },
   {
    "duration": -41,
    "start_time": "2022-02-16T12:19:05.064Z"
   },
   {
    "duration": 8080,
    "start_time": "2022-02-16T12:19:11.688Z"
   },
   {
    "duration": 292,
    "start_time": "2022-02-16T12:19:25.930Z"
   },
   {
    "duration": 304,
    "start_time": "2022-02-16T12:19:51.329Z"
   },
   {
    "duration": 63,
    "start_time": "2022-02-16T12:19:58.431Z"
   },
   {
    "duration": 332,
    "start_time": "2022-02-16T12:20:01.997Z"
   },
   {
    "duration": 168,
    "start_time": "2022-02-16T12:20:12.472Z"
   },
   {
    "duration": 163,
    "start_time": "2022-02-16T12:20:59.446Z"
   },
   {
    "duration": 172,
    "start_time": "2022-02-16T12:21:11.837Z"
   },
   {
    "duration": 167,
    "start_time": "2022-02-16T12:21:15.963Z"
   },
   {
    "duration": 174,
    "start_time": "2022-02-16T12:21:25.869Z"
   },
   {
    "duration": 175,
    "start_time": "2022-02-16T12:22:02.226Z"
   },
   {
    "duration": 374,
    "start_time": "2022-02-16T12:22:46.928Z"
   },
   {
    "duration": 169,
    "start_time": "2022-02-16T12:22:57.570Z"
   },
   {
    "duration": 172,
    "start_time": "2022-02-16T12:23:25.897Z"
   },
   {
    "duration": 327,
    "start_time": "2022-02-16T12:23:45.179Z"
   },
   {
    "duration": 346,
    "start_time": "2022-02-16T12:25:27.559Z"
   },
   {
    "duration": 511,
    "start_time": "2022-02-16T12:25:34.961Z"
   },
   {
    "duration": 87,
    "start_time": "2022-02-16T12:43:48.317Z"
   },
   {
    "duration": 77,
    "start_time": "2022-02-16T12:44:15.274Z"
   },
   {
    "duration": 79,
    "start_time": "2022-02-16T12:44:46.286Z"
   },
   {
    "duration": 83,
    "start_time": "2022-02-16T12:44:49.483Z"
   },
   {
    "duration": 102,
    "start_time": "2022-02-16T12:45:13.434Z"
   },
   {
    "duration": 18,
    "start_time": "2022-02-16T12:52:45.422Z"
   },
   {
    "duration": 1072,
    "start_time": "2022-02-16T12:54:08.377Z"
   },
   {
    "duration": 18,
    "start_time": "2022-02-16T12:54:16.833Z"
   },
   {
    "duration": 1186,
    "start_time": "2022-02-16T12:54:17.583Z"
   },
   {
    "duration": 1168,
    "start_time": "2022-02-16T12:54:46.678Z"
   },
   {
    "duration": 1160,
    "start_time": "2022-02-16T12:54:53.668Z"
   },
   {
    "duration": 1062,
    "start_time": "2022-02-16T12:55:00.262Z"
   },
   {
    "duration": 17,
    "start_time": "2022-02-16T12:57:40.551Z"
   },
   {
    "duration": 1264,
    "start_time": "2022-02-16T12:57:42.030Z"
   },
   {
    "duration": 339,
    "start_time": "2022-02-16T13:07:31.723Z"
   },
   {
    "duration": 339,
    "start_time": "2022-02-16T13:07:41.964Z"
   },
   {
    "duration": 196,
    "start_time": "2022-02-16T13:08:56.965Z"
   },
   {
    "duration": 241,
    "start_time": "2022-02-16T13:09:03.132Z"
   },
   {
    "duration": 217,
    "start_time": "2022-02-16T13:09:19.827Z"
   },
   {
    "duration": 199,
    "start_time": "2022-02-16T13:09:37.189Z"
   },
   {
    "duration": 62,
    "start_time": "2022-02-16T13:09:59.144Z"
   },
   {
    "duration": 6,
    "start_time": "2022-02-16T13:10:13.263Z"
   },
   {
    "duration": 202,
    "start_time": "2022-02-16T13:10:17.377Z"
   },
   {
    "duration": 213,
    "start_time": "2022-02-16T13:10:22.209Z"
   },
   {
    "duration": 345,
    "start_time": "2022-02-16T13:10:34.988Z"
   },
   {
    "duration": 1553,
    "start_time": "2022-02-16T13:16:35.313Z"
   },
   {
    "duration": 349,
    "start_time": "2022-02-17T08:46:54.015Z"
   },
   {
    "duration": 755,
    "start_time": "2022-02-17T08:46:56.288Z"
   },
   {
    "duration": 8,
    "start_time": "2022-02-17T08:46:57.045Z"
   },
   {
    "duration": 120,
    "start_time": "2022-02-17T08:46:57.055Z"
   },
   {
    "duration": 4,
    "start_time": "2022-02-17T08:46:57.177Z"
   },
   {
    "duration": 9,
    "start_time": "2022-02-17T08:46:57.182Z"
   },
   {
    "duration": 25,
    "start_time": "2022-02-17T08:46:57.193Z"
   },
   {
    "duration": 9,
    "start_time": "2022-02-17T08:46:57.220Z"
   },
   {
    "duration": 67,
    "start_time": "2022-02-17T08:46:57.232Z"
   },
   {
    "duration": 35,
    "start_time": "2022-02-17T08:46:57.301Z"
   },
   {
    "duration": 64,
    "start_time": "2022-02-17T08:46:57.338Z"
   },
   {
    "duration": 17,
    "start_time": "2022-02-17T08:46:57.404Z"
   },
   {
    "duration": 6,
    "start_time": "2022-02-17T08:46:57.423Z"
   },
   {
    "duration": 50,
    "start_time": "2022-02-17T08:46:57.431Z"
   },
   {
    "duration": 29,
    "start_time": "2022-02-17T08:46:57.483Z"
   },
   {
    "duration": 74,
    "start_time": "2022-02-17T08:46:57.514Z"
   },
   {
    "duration": 29,
    "start_time": "2022-02-17T08:46:57.589Z"
   },
   {
    "duration": 53,
    "start_time": "2022-02-17T08:46:57.619Z"
   },
   {
    "duration": 653,
    "start_time": "2022-02-17T08:46:57.674Z"
   },
   {
    "duration": 28,
    "start_time": "2022-02-17T08:46:58.328Z"
   },
   {
    "duration": 534,
    "start_time": "2022-02-17T08:46:58.358Z"
   },
   {
    "duration": 456,
    "start_time": "2022-02-17T08:46:58.893Z"
   },
   {
    "duration": 455,
    "start_time": "2022-02-17T08:46:59.350Z"
   },
   {
    "duration": 42,
    "start_time": "2022-02-17T08:46:59.808Z"
   },
   {
    "duration": 454,
    "start_time": "2022-02-17T08:46:59.869Z"
   },
   {
    "duration": 287,
    "start_time": "2022-02-17T08:47:00.325Z"
   },
   {
    "duration": 7,
    "start_time": "2022-02-17T08:47:00.614Z"
   },
   {
    "duration": 241,
    "start_time": "2022-02-17T08:47:00.623Z"
   },
   {
    "duration": 11,
    "start_time": "2022-02-17T08:47:04.338Z"
   }
  ],
  "kernelspec": {
   "display_name": "Python 3 (ipykernel)",
   "language": "python",
   "name": "python3"
  },
  "language_info": {
   "codemirror_mode": {
    "name": "ipython",
    "version": 3
   },
   "file_extension": ".py",
   "mimetype": "text/x-python",
   "name": "python",
   "nbconvert_exporter": "python",
   "pygments_lexer": "ipython3",
   "version": "3.9.7"
  },
  "toc": {
   "base_numbering": 1,
   "nav_menu": {},
   "number_sections": true,
   "sideBar": true,
   "skip_h1_title": true,
   "title_cell": "Содержание",
   "title_sidebar": "Contents",
   "toc_cell": true,
   "toc_position": {
    "height": "calc(100% - 180px)",
    "left": "10px",
    "top": "150px",
    "width": "258px"
   },
   "toc_section_display": true,
   "toc_window_display": true
  }
 },
 "nbformat": 4,
 "nbformat_minor": 2
}
