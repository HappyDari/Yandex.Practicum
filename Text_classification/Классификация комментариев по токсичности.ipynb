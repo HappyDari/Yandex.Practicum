{
 "cells": [
  {
   "cell_type": "markdown",
   "id": "f7e53b91",
   "metadata": {
    "id": "f7e53b91"
   },
   "source": [
    "# Классификация комментариев по токсичности"
   ]
  },
  {
   "cell_type": "markdown",
   "id": "975df9c6",
   "metadata": {
    "id": "975df9c6"
   },
   "source": [
    "**Описание проекта**\n",
    "\n",
    "Интернет-магазин запускает новый сервис. Теперь пользователи могут редактировать и дополнять описания товаров, как в вики-сообществах. То есть клиенты предлагают свои правки и комментируют изменения других. Магазину нужен инструмент, который будет искать токсичные комментарии и отправлять их на модерацию. \n",
    "\n",
    "**Задача**\n",
    "\n",
    "Обучить модель классифицировать комментарии на позитивные и негативные. Построить модель со значением метрики качества *F1* не меньше 0.75. \n",
    "\n",
    "**План выполнения проекта:**\n",
    "\n",
    "1. Загрузить и подготовить данные.\n",
    "2. Обучить разные модели. \n",
    "3. Сделать выводы."
   ]
  },
  {
   "cell_type": "markdown",
   "id": "173ae4bb",
   "metadata": {
    "id": "173ae4bb"
   },
   "source": [
    "<h1>Содержание<span class=\"tocSkip\"></span></h1>\n",
    "<div class=\"toc\"><ul class=\"toc-item\"><li><span><a href=\"#Подготовка\" data-toc-modified-id=\"Подготовка-1\"><span class=\"toc-item-num\">1&nbsp;&nbsp;</span>Подготовка</a></span></li><li><span><a href=\"#Обучение\" data-toc-modified-id=\"Обучение-2\"><span class=\"toc-item-num\">2&nbsp;&nbsp;</span>Обучение</a></span></li><li><span><a href=\"#Выводы\" data-toc-modified-id=\"Выводы-3\"><span class=\"toc-item-num\">3&nbsp;&nbsp;</span>Выводы</a>"
   ]
  },
  {
   "cell_type": "markdown",
   "id": "6f09cfa5",
   "metadata": {
    "id": "6f09cfa5"
   },
   "source": [
    "## Подготовка"
   ]
  },
  {
   "cell_type": "markdown",
   "id": "5b89c74e",
   "metadata": {
    "id": "5b89c74e"
   },
   "source": [
    "### Обзор данных"
   ]
  },
  {
   "cell_type": "code",
   "execution_count": 1,
   "id": "93b2aea7",
   "metadata": {
    "colab": {
     "base_uri": "https://localhost:8080/"
    },
    "id": "93b2aea7",
    "outputId": "ecfdb0f7-efe1-4d52-fd5f-08dbc3aadcbd",
    "scrolled": true
   },
   "outputs": [
    {
     "name": "stdout",
     "output_type": "stream",
     "text": [
      "Requirement already satisfied: transformers in c:\\users\\user\\documents\\anaconda\\lib\\site-packages (4.22.1)\n",
      "Requirement already satisfied: tqdm>=4.27 in c:\\users\\user\\documents\\anaconda\\lib\\site-packages (from transformers) (4.62.3)\n",
      "Requirement already satisfied: packaging>=20.0 in c:\\users\\user\\documents\\anaconda\\lib\\site-packages (from transformers) (21.0)\n",
      "Requirement already satisfied: filelock in c:\\users\\user\\documents\\anaconda\\lib\\site-packages (from transformers) (3.3.1)\n",
      "Requirement already satisfied: tokenizers!=0.11.3,<0.13,>=0.11.1 in c:\\users\\user\\documents\\anaconda\\lib\\site-packages (from transformers) (0.12.1)\n",
      "Requirement already satisfied: numpy>=1.17 in c:\\users\\user\\documents\\anaconda\\lib\\site-packages (from transformers) (1.20.3)\n",
      "Requirement already satisfied: pyyaml>=5.1 in c:\\users\\user\\documents\\anaconda\\lib\\site-packages (from transformers) (6.0)\n",
      "Requirement already satisfied: regex!=2019.12.17 in c:\\users\\user\\documents\\anaconda\\lib\\site-packages (from transformers) (2021.8.3)\n",
      "Requirement already satisfied: requests in c:\\users\\user\\documents\\anaconda\\lib\\site-packages (from transformers) (2.26.0)\n",
      "Requirement already satisfied: huggingface-hub<1.0,>=0.9.0 in c:\\users\\user\\documents\\anaconda\\lib\\site-packages (from transformers) (0.9.1)\n",
      "Requirement already satisfied: typing-extensions>=3.7.4.3 in c:\\users\\user\\documents\\anaconda\\lib\\site-packages (from huggingface-hub<1.0,>=0.9.0->transformers) (3.10.0.2)\n",
      "Requirement already satisfied: pyparsing>=2.0.2 in c:\\users\\user\\documents\\anaconda\\lib\\site-packages (from packaging>=20.0->transformers) (3.0.4)\n",
      "Requirement already satisfied: colorama in c:\\users\\user\\documents\\anaconda\\lib\\site-packages (from tqdm>=4.27->transformers) (0.4.4)\n",
      "Requirement already satisfied: urllib3<1.27,>=1.21.1 in c:\\users\\user\\documents\\anaconda\\lib\\site-packages (from requests->transformers) (1.26.7)\n",
      "Requirement already satisfied: charset-normalizer~=2.0.0 in c:\\users\\user\\documents\\anaconda\\lib\\site-packages (from requests->transformers) (2.0.4)\n",
      "Requirement already satisfied: idna<4,>=2.5 in c:\\users\\user\\documents\\anaconda\\lib\\site-packages (from requests->transformers) (3.2)\n",
      "Requirement already satisfied: certifi>=2017.4.17 in c:\\users\\user\\documents\\anaconda\\lib\\site-packages (from requests->transformers) (2021.10.8)\n"
     ]
    },
    {
     "name": "stderr",
     "output_type": "stream",
     "text": [
      "[nltk_data] Downloading package averaged_perceptron_tagger to\n",
      "[nltk_data]     C:\\Users\\User\\AppData\\Roaming\\nltk_data...\n",
      "[nltk_data]   Package averaged_perceptron_tagger is already up-to-\n",
      "[nltk_data]       date!\n",
      "[nltk_data] Downloading package punkt to\n",
      "[nltk_data]     C:\\Users\\User\\AppData\\Roaming\\nltk_data...\n",
      "[nltk_data]   Package punkt is already up-to-date!\n",
      "[nltk_data] Downloading package wordnet to\n",
      "[nltk_data]     C:\\Users\\User\\AppData\\Roaming\\nltk_data...\n",
      "[nltk_data]   Package wordnet is already up-to-date!\n",
      "[nltk_data] Downloading package omw-1.4 to\n",
      "[nltk_data]     C:\\Users\\User\\AppData\\Roaming\\nltk_data...\n",
      "[nltk_data]   Package omw-1.4 is already up-to-date!\n"
     ]
    }
   ],
   "source": [
    "# импортируем все необходимые библиотеки\n",
    "import pandas as pd\n",
    "import numpy as np\n",
    "import warnings\n",
    "!pip install transformers\n",
    "import transformers as ppb\n",
    "import torch\n",
    "import re\n",
    "\n",
    "import nltk\n",
    "from nltk.corpus import stopwords, wordnet\n",
    "from nltk.stem import WordNetLemmatizer\n",
    "nltk.download('averaged_perceptron_tagger')\n",
    "nltk.download('punkt')\n",
    "nltk.download('wordnet')\n",
    "nltk.download('omw-1.4')\n",
    "\n",
    "\n",
    "from sklearn.utils import shuffle\n",
    "from sklearn.feature_extraction.text import TfidfVectorizer, CountVectorizer\n",
    "from sklearn.model_selection import train_test_split, cross_val_score, GridSearchCV\n",
    "from sklearn.metrics import f1_score\n",
    "from sklearn.pipeline import Pipeline\n",
    "\n",
    "from sklearn.linear_model import LogisticRegression\n",
    "from sklearn.ensemble import RandomForestClassifier\n",
    "from sklearn.dummy import DummyClassifier\n"
   ]
  },
  {
   "cell_type": "code",
   "execution_count": 2,
   "id": "660e3e28",
   "metadata": {
    "id": "660e3e28"
   },
   "outputs": [],
   "source": [
    "# загрузим датасет и посмотрим на данные\n",
    "data = pd.read_csv('toxic_comments.csv')"
   ]
  },
  {
   "cell_type": "code",
   "execution_count": 3,
   "id": "a2e4ec4f",
   "metadata": {
    "colab": {
     "base_uri": "https://localhost:8080/"
    },
    "id": "a2e4ec4f",
    "outputId": "82de2d1f-d470-43ff-c8d2-7274fa601ce8"
   },
   "outputs": [
    {
     "data": {
      "text/plain": [
       "(   Unnamed: 0                                               text  toxic\n",
       " 0           0  Explanation\\nWhy the edits made under my usern...      0\n",
       " 1           1  D'aww! He matches this background colour I'm s...      0\n",
       " 2           2  Hey man, I'm really not trying to edit war. It...      0\n",
       " 3           3  \"\\nMore\\nI can't make any real suggestions on ...      0\n",
       " 4           4  You, sir, are my hero. Any chance you remember...      0,\n",
       " (159292, 3))"
      ]
     },
     "execution_count": 3,
     "metadata": {},
     "output_type": "execute_result"
    }
   ],
   "source": [
    "data.head(), data.shape"
   ]
  },
  {
   "cell_type": "markdown",
   "id": "YHyGrNH4-Qut",
   "metadata": {
    "id": "YHyGrNH4-Qut"
   },
   "source": [
    "В нашем распоряжении набор данных с разметкой о токсичности правок. Столбец *text* в нём содержит текст комментария, а *toxic* — целевой признак, лишний столбец unnamed нужно удалить. Комментарии необходимо обработать, очистить от знаков, лемматизировать и токенизировать."
   ]
  },
  {
   "cell_type": "code",
   "execution_count": 4,
   "id": "da99c8dd",
   "metadata": {
    "id": "da99c8dd"
   },
   "outputs": [],
   "source": [
    "#удалим ненужный признак\n",
    "data = data.drop('Unnamed: 0', axis=1)"
   ]
  },
  {
   "cell_type": "markdown",
   "id": "tIR4OOiU-1Pp",
   "metadata": {
    "id": "tIR4OOiU-1Pp"
   },
   "source": [
    "Так как в датасете почти 160000 значений, чтобы провести обработку данных уменьшим датасет и возьмем выборку в 30000 строк."
   ]
  },
  {
   "cell_type": "code",
   "execution_count": 5,
   "id": "9e175e8b",
   "metadata": {
    "id": "9e175e8b"
   },
   "outputs": [],
   "source": [
    "data = data.sample(n=30000, random_state=1).reset_index(drop=True)"
   ]
  },
  {
   "cell_type": "markdown",
   "id": "cff08b18",
   "metadata": {
    "id": "cff08b18"
   },
   "source": [
    "### Лемматизация и очистка текста"
   ]
  },
  {
   "cell_type": "markdown",
   "id": "ziY0ewKd_vcb",
   "metadata": {
    "id": "ziY0ewKd_vcb"
   },
   "source": [
    "**Очистка**"
   ]
  },
  {
   "cell_type": "markdown",
   "id": "cba96fdb",
   "metadata": {},
   "source": [
    "C помощью регулярных выражений из библиотеки RE – это инструмент для поиска слова или числа по шаблону оставим только английский алфавит, удалив разные символы, цифры и т д, которые не несут никакой информации и приведем к нижнему регистру."
   ]
  },
  {
   "cell_type": "code",
   "execution_count": 6,
   "id": "aff6bd93",
   "metadata": {
    "id": "aff6bd93"
   },
   "outputs": [],
   "source": [
    "# Функция для чистки текста\n",
    "def clear_text(text):\n",
    "    t = re.sub(r'[^a-zA-Z ]', ' ', text) \n",
    "    t = \" \".join(t.split())\n",
    "    return t"
   ]
  },
  {
   "cell_type": "code",
   "execution_count": 7,
   "id": "6163c1c5",
   "metadata": {
    "id": "6163c1c5"
   },
   "outputs": [],
   "source": [
    "# очистим текст\n",
    "data['text'] = data['text'].apply(clear_text)"
   ]
  },
  {
   "cell_type": "code",
   "execution_count": 8,
   "id": "12271a40",
   "metadata": {
    "id": "12271a40"
   },
   "outputs": [],
   "source": [
    "# приведем к нижнему регистру\n",
    "data['text'] = data['text'].str.lower()"
   ]
  },
  {
   "cell_type": "markdown",
   "id": "SZl4NnxZ_tJp",
   "metadata": {
    "id": "SZl4NnxZ_tJp"
   },
   "source": [
    "**Лемматизация**"
   ]
  },
  {
   "cell_type": "markdown",
   "id": "dc09dbf0",
   "metadata": {},
   "source": [
    "Приведение слова к начальной форме. Для англоязычного текста используем библиотеку **NLTK** и ее функцию для определения **POS-тегов** – частеречной разметки (part-of-speech tagging) — этап автоматической обработки текста, задачей которого является определение части речи и грамматических характеристик слов в тексте с приписыванием им соответствующих тегов."
   ]
  },
  {
   "cell_type": "code",
   "execution_count": 9,
   "id": "3e3be3a5",
   "metadata": {
    "colab": {
     "base_uri": "https://localhost:8080/"
    },
    "id": "3e3be3a5",
    "outputId": "3a8ef80a-7a05-4163-ce94-e953382aad83"
   },
   "outputs": [
    {
     "name": "stdout",
     "output_type": "stream",
     "text": [
      "['The', 'strip', 'bat', 'be', 'hang', 'on', 'their', 'foot', 'for', 'best']\n"
     ]
    }
   ],
   "source": [
    "# функция для определения POS-тегов для слов\n",
    "def get_wordnet_pos(word):\n",
    "    tag = nltk.pos_tag([word])[0][1][0].upper()\n",
    "    tag_dict = {\"J\": wordnet.ADJ,\n",
    "                \"N\": wordnet.NOUN,\n",
    "                \"V\": wordnet.VERB,\n",
    "                \"R\": wordnet.ADV}\n",
    "    return tag_dict.get(tag, wordnet.NOUN)\n",
    "\n",
    "lemmatizer = WordNetLemmatizer()\n",
    "\n",
    "# проверим работу функции\n",
    "sentence = \"The striped bats are hanging on their feet for best\"\n",
    "print([lemmatizer.lemmatize(w, get_wordnet_pos(w)) \n",
    "       for w in nltk.word_tokenize(sentence)])\n"
   ]
  },
  {
   "cell_type": "code",
   "execution_count": 10,
   "id": "b89d861a",
   "metadata": {
    "id": "b89d861a"
   },
   "outputs": [],
   "source": [
    "# функция для лемматизации\n",
    "def lemmatize(text):\n",
    "    text = list(text.split())\n",
    "    lemmatizer = WordNetLemmatizer()\n",
    "    lemm_list = [lemmatizer.lemmatize(word, get_wordnet_pos(word)) for word in text]\n",
    "    \n",
    "    return ' '.join(lemm_list)"
   ]
  },
  {
   "cell_type": "code",
   "execution_count": 11,
   "id": "6bcb74ad",
   "metadata": {
    "id": "6bcb74ad",
    "scrolled": true
   },
   "outputs": [
    {
     "ename": "KeyboardInterrupt",
     "evalue": "",
     "output_type": "error",
     "traceback": [
      "\u001b[1;31m---------------------------------------------------------------------------\u001b[0m",
      "\u001b[1;31mKeyboardInterrupt\u001b[0m                         Traceback (most recent call last)",
      "\u001b[1;32m~\\AppData\\Local\\Temp/ipykernel_5092/4174199060.py\u001b[0m in \u001b[0;36m<module>\u001b[1;34m\u001b[0m\n\u001b[0;32m      1\u001b[0m \u001b[1;31m# лемматизируем\u001b[0m\u001b[1;33m\u001b[0m\u001b[1;33m\u001b[0m\u001b[0m\n\u001b[1;32m----> 2\u001b[1;33m \u001b[0mdata\u001b[0m\u001b[1;33m[\u001b[0m\u001b[1;34m'text'\u001b[0m\u001b[1;33m]\u001b[0m \u001b[1;33m=\u001b[0m \u001b[0mdata\u001b[0m\u001b[1;33m[\u001b[0m\u001b[1;34m'text'\u001b[0m\u001b[1;33m]\u001b[0m\u001b[1;33m.\u001b[0m\u001b[0mapply\u001b[0m\u001b[1;33m(\u001b[0m\u001b[0mlemmatize\u001b[0m\u001b[1;33m)\u001b[0m\u001b[1;33m\u001b[0m\u001b[1;33m\u001b[0m\u001b[0m\n\u001b[0m",
      "\u001b[1;32m~\\Documents\\Anaconda\\lib\\site-packages\\pandas\\core\\series.py\u001b[0m in \u001b[0;36mapply\u001b[1;34m(self, func, convert_dtype, args, **kwargs)\u001b[0m\n\u001b[0;32m   4355\u001b[0m         \u001b[0mdtype\u001b[0m\u001b[1;33m:\u001b[0m \u001b[0mfloat64\u001b[0m\u001b[1;33m\u001b[0m\u001b[1;33m\u001b[0m\u001b[0m\n\u001b[0;32m   4356\u001b[0m         \"\"\"\n\u001b[1;32m-> 4357\u001b[1;33m         \u001b[1;32mreturn\u001b[0m \u001b[0mSeriesApply\u001b[0m\u001b[1;33m(\u001b[0m\u001b[0mself\u001b[0m\u001b[1;33m,\u001b[0m \u001b[0mfunc\u001b[0m\u001b[1;33m,\u001b[0m \u001b[0mconvert_dtype\u001b[0m\u001b[1;33m,\u001b[0m \u001b[0margs\u001b[0m\u001b[1;33m,\u001b[0m \u001b[0mkwargs\u001b[0m\u001b[1;33m)\u001b[0m\u001b[1;33m.\u001b[0m\u001b[0mapply\u001b[0m\u001b[1;33m(\u001b[0m\u001b[1;33m)\u001b[0m\u001b[1;33m\u001b[0m\u001b[1;33m\u001b[0m\u001b[0m\n\u001b[0m\u001b[0;32m   4358\u001b[0m \u001b[1;33m\u001b[0m\u001b[0m\n\u001b[0;32m   4359\u001b[0m     def _reduce(\n",
      "\u001b[1;32m~\\Documents\\Anaconda\\lib\\site-packages\\pandas\\core\\apply.py\u001b[0m in \u001b[0;36mapply\u001b[1;34m(self)\u001b[0m\n\u001b[0;32m   1041\u001b[0m             \u001b[1;32mreturn\u001b[0m \u001b[0mself\u001b[0m\u001b[1;33m.\u001b[0m\u001b[0mapply_str\u001b[0m\u001b[1;33m(\u001b[0m\u001b[1;33m)\u001b[0m\u001b[1;33m\u001b[0m\u001b[1;33m\u001b[0m\u001b[0m\n\u001b[0;32m   1042\u001b[0m \u001b[1;33m\u001b[0m\u001b[0m\n\u001b[1;32m-> 1043\u001b[1;33m         \u001b[1;32mreturn\u001b[0m \u001b[0mself\u001b[0m\u001b[1;33m.\u001b[0m\u001b[0mapply_standard\u001b[0m\u001b[1;33m(\u001b[0m\u001b[1;33m)\u001b[0m\u001b[1;33m\u001b[0m\u001b[1;33m\u001b[0m\u001b[0m\n\u001b[0m\u001b[0;32m   1044\u001b[0m \u001b[1;33m\u001b[0m\u001b[0m\n\u001b[0;32m   1045\u001b[0m     \u001b[1;32mdef\u001b[0m \u001b[0magg\u001b[0m\u001b[1;33m(\u001b[0m\u001b[0mself\u001b[0m\u001b[1;33m)\u001b[0m\u001b[1;33m:\u001b[0m\u001b[1;33m\u001b[0m\u001b[1;33m\u001b[0m\u001b[0m\n",
      "\u001b[1;32m~\\Documents\\Anaconda\\lib\\site-packages\\pandas\\core\\apply.py\u001b[0m in \u001b[0;36mapply_standard\u001b[1;34m(self)\u001b[0m\n\u001b[0;32m   1096\u001b[0m                 \u001b[1;31m# List[Union[Callable[..., Any], str]]]]]\"; expected\u001b[0m\u001b[1;33m\u001b[0m\u001b[1;33m\u001b[0m\u001b[0m\n\u001b[0;32m   1097\u001b[0m                 \u001b[1;31m# \"Callable[[Any], Any]\"\u001b[0m\u001b[1;33m\u001b[0m\u001b[1;33m\u001b[0m\u001b[0m\n\u001b[1;32m-> 1098\u001b[1;33m                 mapped = lib.map_infer(\n\u001b[0m\u001b[0;32m   1099\u001b[0m                     \u001b[0mvalues\u001b[0m\u001b[1;33m,\u001b[0m\u001b[1;33m\u001b[0m\u001b[1;33m\u001b[0m\u001b[0m\n\u001b[0;32m   1100\u001b[0m                     \u001b[0mf\u001b[0m\u001b[1;33m,\u001b[0m  \u001b[1;31m# type: ignore[arg-type]\u001b[0m\u001b[1;33m\u001b[0m\u001b[1;33m\u001b[0m\u001b[0m\n",
      "\u001b[1;32m~\\Documents\\Anaconda\\lib\\site-packages\\pandas\\_libs\\lib.pyx\u001b[0m in \u001b[0;36mpandas._libs.lib.map_infer\u001b[1;34m()\u001b[0m\n",
      "\u001b[1;32m~\\AppData\\Local\\Temp/ipykernel_5092/2538355751.py\u001b[0m in \u001b[0;36mlemmatize\u001b[1;34m(text)\u001b[0m\n\u001b[0;32m      3\u001b[0m     \u001b[0mtext\u001b[0m \u001b[1;33m=\u001b[0m \u001b[0mlist\u001b[0m\u001b[1;33m(\u001b[0m\u001b[0mtext\u001b[0m\u001b[1;33m.\u001b[0m\u001b[0msplit\u001b[0m\u001b[1;33m(\u001b[0m\u001b[1;33m)\u001b[0m\u001b[1;33m)\u001b[0m\u001b[1;33m\u001b[0m\u001b[1;33m\u001b[0m\u001b[0m\n\u001b[0;32m      4\u001b[0m     \u001b[0mlemmatizer\u001b[0m \u001b[1;33m=\u001b[0m \u001b[0mWordNetLemmatizer\u001b[0m\u001b[1;33m(\u001b[0m\u001b[1;33m)\u001b[0m\u001b[1;33m\u001b[0m\u001b[1;33m\u001b[0m\u001b[0m\n\u001b[1;32m----> 5\u001b[1;33m     \u001b[0mlemm_list\u001b[0m \u001b[1;33m=\u001b[0m \u001b[1;33m[\u001b[0m\u001b[0mlemmatizer\u001b[0m\u001b[1;33m.\u001b[0m\u001b[0mlemmatize\u001b[0m\u001b[1;33m(\u001b[0m\u001b[0mword\u001b[0m\u001b[1;33m,\u001b[0m \u001b[0mget_wordnet_pos\u001b[0m\u001b[1;33m(\u001b[0m\u001b[0mword\u001b[0m\u001b[1;33m)\u001b[0m\u001b[1;33m)\u001b[0m \u001b[1;32mfor\u001b[0m \u001b[0mword\u001b[0m \u001b[1;32min\u001b[0m \u001b[0mtext\u001b[0m\u001b[1;33m]\u001b[0m\u001b[1;33m\u001b[0m\u001b[1;33m\u001b[0m\u001b[0m\n\u001b[0m\u001b[0;32m      6\u001b[0m \u001b[1;33m\u001b[0m\u001b[0m\n\u001b[0;32m      7\u001b[0m     \u001b[1;32mreturn\u001b[0m \u001b[1;34m' '\u001b[0m\u001b[1;33m.\u001b[0m\u001b[0mjoin\u001b[0m\u001b[1;33m(\u001b[0m\u001b[0mlemm_list\u001b[0m\u001b[1;33m)\u001b[0m\u001b[1;33m\u001b[0m\u001b[1;33m\u001b[0m\u001b[0m\n",
      "\u001b[1;32m~\\AppData\\Local\\Temp/ipykernel_5092/2538355751.py\u001b[0m in \u001b[0;36m<listcomp>\u001b[1;34m(.0)\u001b[0m\n\u001b[0;32m      3\u001b[0m     \u001b[0mtext\u001b[0m \u001b[1;33m=\u001b[0m \u001b[0mlist\u001b[0m\u001b[1;33m(\u001b[0m\u001b[0mtext\u001b[0m\u001b[1;33m.\u001b[0m\u001b[0msplit\u001b[0m\u001b[1;33m(\u001b[0m\u001b[1;33m)\u001b[0m\u001b[1;33m)\u001b[0m\u001b[1;33m\u001b[0m\u001b[1;33m\u001b[0m\u001b[0m\n\u001b[0;32m      4\u001b[0m     \u001b[0mlemmatizer\u001b[0m \u001b[1;33m=\u001b[0m \u001b[0mWordNetLemmatizer\u001b[0m\u001b[1;33m(\u001b[0m\u001b[1;33m)\u001b[0m\u001b[1;33m\u001b[0m\u001b[1;33m\u001b[0m\u001b[0m\n\u001b[1;32m----> 5\u001b[1;33m     \u001b[0mlemm_list\u001b[0m \u001b[1;33m=\u001b[0m \u001b[1;33m[\u001b[0m\u001b[0mlemmatizer\u001b[0m\u001b[1;33m.\u001b[0m\u001b[0mlemmatize\u001b[0m\u001b[1;33m(\u001b[0m\u001b[0mword\u001b[0m\u001b[1;33m,\u001b[0m \u001b[0mget_wordnet_pos\u001b[0m\u001b[1;33m(\u001b[0m\u001b[0mword\u001b[0m\u001b[1;33m)\u001b[0m\u001b[1;33m)\u001b[0m \u001b[1;32mfor\u001b[0m \u001b[0mword\u001b[0m \u001b[1;32min\u001b[0m \u001b[0mtext\u001b[0m\u001b[1;33m]\u001b[0m\u001b[1;33m\u001b[0m\u001b[1;33m\u001b[0m\u001b[0m\n\u001b[0m\u001b[0;32m      6\u001b[0m \u001b[1;33m\u001b[0m\u001b[0m\n\u001b[0;32m      7\u001b[0m     \u001b[1;32mreturn\u001b[0m \u001b[1;34m' '\u001b[0m\u001b[1;33m.\u001b[0m\u001b[0mjoin\u001b[0m\u001b[1;33m(\u001b[0m\u001b[0mlemm_list\u001b[0m\u001b[1;33m)\u001b[0m\u001b[1;33m\u001b[0m\u001b[1;33m\u001b[0m\u001b[0m\n",
      "\u001b[1;32m~\\AppData\\Local\\Temp/ipykernel_5092/1694975551.py\u001b[0m in \u001b[0;36mget_wordnet_pos\u001b[1;34m(word)\u001b[0m\n\u001b[0;32m      1\u001b[0m \u001b[1;31m# функция для определения POS-тегов для слов\u001b[0m\u001b[1;33m\u001b[0m\u001b[1;33m\u001b[0m\u001b[0m\n\u001b[0;32m      2\u001b[0m \u001b[1;32mdef\u001b[0m \u001b[0mget_wordnet_pos\u001b[0m\u001b[1;33m(\u001b[0m\u001b[0mword\u001b[0m\u001b[1;33m)\u001b[0m\u001b[1;33m:\u001b[0m\u001b[1;33m\u001b[0m\u001b[1;33m\u001b[0m\u001b[0m\n\u001b[1;32m----> 3\u001b[1;33m     \u001b[0mtag\u001b[0m \u001b[1;33m=\u001b[0m \u001b[0mnltk\u001b[0m\u001b[1;33m.\u001b[0m\u001b[0mpos_tag\u001b[0m\u001b[1;33m(\u001b[0m\u001b[1;33m[\u001b[0m\u001b[0mword\u001b[0m\u001b[1;33m]\u001b[0m\u001b[1;33m)\u001b[0m\u001b[1;33m[\u001b[0m\u001b[1;36m0\u001b[0m\u001b[1;33m]\u001b[0m\u001b[1;33m[\u001b[0m\u001b[1;36m1\u001b[0m\u001b[1;33m]\u001b[0m\u001b[1;33m[\u001b[0m\u001b[1;36m0\u001b[0m\u001b[1;33m]\u001b[0m\u001b[1;33m.\u001b[0m\u001b[0mupper\u001b[0m\u001b[1;33m(\u001b[0m\u001b[1;33m)\u001b[0m\u001b[1;33m\u001b[0m\u001b[1;33m\u001b[0m\u001b[0m\n\u001b[0m\u001b[0;32m      4\u001b[0m     tag_dict = {\"J\": wordnet.ADJ,\n\u001b[0;32m      5\u001b[0m                 \u001b[1;34m\"N\"\u001b[0m\u001b[1;33m:\u001b[0m \u001b[0mwordnet\u001b[0m\u001b[1;33m.\u001b[0m\u001b[0mNOUN\u001b[0m\u001b[1;33m,\u001b[0m\u001b[1;33m\u001b[0m\u001b[1;33m\u001b[0m\u001b[0m\n",
      "\u001b[1;32m~\\Documents\\Anaconda\\lib\\site-packages\\nltk\\tag\\__init__.py\u001b[0m in \u001b[0;36mpos_tag\u001b[1;34m(tokens, tagset, lang)\u001b[0m\n\u001b[0;32m    163\u001b[0m     \u001b[1;33m:\u001b[0m\u001b[0mrtype\u001b[0m\u001b[1;33m:\u001b[0m \u001b[0mlist\u001b[0m\u001b[1;33m(\u001b[0m\u001b[0mtuple\u001b[0m\u001b[1;33m(\u001b[0m\u001b[0mstr\u001b[0m\u001b[1;33m,\u001b[0m \u001b[0mstr\u001b[0m\u001b[1;33m)\u001b[0m\u001b[1;33m)\u001b[0m\u001b[1;33m\u001b[0m\u001b[1;33m\u001b[0m\u001b[0m\n\u001b[0;32m    164\u001b[0m     \"\"\"\n\u001b[1;32m--> 165\u001b[1;33m     \u001b[0mtagger\u001b[0m \u001b[1;33m=\u001b[0m \u001b[0m_get_tagger\u001b[0m\u001b[1;33m(\u001b[0m\u001b[0mlang\u001b[0m\u001b[1;33m)\u001b[0m\u001b[1;33m\u001b[0m\u001b[1;33m\u001b[0m\u001b[0m\n\u001b[0m\u001b[0;32m    166\u001b[0m     \u001b[1;32mreturn\u001b[0m \u001b[0m_pos_tag\u001b[0m\u001b[1;33m(\u001b[0m\u001b[0mtokens\u001b[0m\u001b[1;33m,\u001b[0m \u001b[0mtagset\u001b[0m\u001b[1;33m,\u001b[0m \u001b[0mtagger\u001b[0m\u001b[1;33m,\u001b[0m \u001b[0mlang\u001b[0m\u001b[1;33m)\u001b[0m\u001b[1;33m\u001b[0m\u001b[1;33m\u001b[0m\u001b[0m\n\u001b[0;32m    167\u001b[0m \u001b[1;33m\u001b[0m\u001b[0m\n",
      "\u001b[1;32m~\\Documents\\Anaconda\\lib\\site-packages\\nltk\\tag\\__init__.py\u001b[0m in \u001b[0;36m_get_tagger\u001b[1;34m(lang)\u001b[0m\n\u001b[0;32m    105\u001b[0m         \u001b[0mtagger\u001b[0m\u001b[1;33m.\u001b[0m\u001b[0mload\u001b[0m\u001b[1;33m(\u001b[0m\u001b[0map_russian_model_loc\u001b[0m\u001b[1;33m)\u001b[0m\u001b[1;33m\u001b[0m\u001b[1;33m\u001b[0m\u001b[0m\n\u001b[0;32m    106\u001b[0m     \u001b[1;32melse\u001b[0m\u001b[1;33m:\u001b[0m\u001b[1;33m\u001b[0m\u001b[1;33m\u001b[0m\u001b[0m\n\u001b[1;32m--> 107\u001b[1;33m         \u001b[0mtagger\u001b[0m \u001b[1;33m=\u001b[0m \u001b[0mPerceptronTagger\u001b[0m\u001b[1;33m(\u001b[0m\u001b[1;33m)\u001b[0m\u001b[1;33m\u001b[0m\u001b[1;33m\u001b[0m\u001b[0m\n\u001b[0m\u001b[0;32m    108\u001b[0m     \u001b[1;32mreturn\u001b[0m \u001b[0mtagger\u001b[0m\u001b[1;33m\u001b[0m\u001b[1;33m\u001b[0m\u001b[0m\n\u001b[0;32m    109\u001b[0m \u001b[1;33m\u001b[0m\u001b[0m\n",
      "\u001b[1;32m~\\Documents\\Anaconda\\lib\\site-packages\\nltk\\tag\\perceptron.py\u001b[0m in \u001b[0;36m__init__\u001b[1;34m(self, load)\u001b[0m\n\u001b[0;32m    165\u001b[0m         \u001b[1;32mif\u001b[0m \u001b[0mload\u001b[0m\u001b[1;33m:\u001b[0m\u001b[1;33m\u001b[0m\u001b[1;33m\u001b[0m\u001b[0m\n\u001b[0;32m    166\u001b[0m             AP_MODEL_LOC = \"file:\" + str(\n\u001b[1;32m--> 167\u001b[1;33m                 \u001b[0mfind\u001b[0m\u001b[1;33m(\u001b[0m\u001b[1;34m\"taggers/averaged_perceptron_tagger/\"\u001b[0m \u001b[1;33m+\u001b[0m \u001b[0mPICKLE\u001b[0m\u001b[1;33m)\u001b[0m\u001b[1;33m\u001b[0m\u001b[1;33m\u001b[0m\u001b[0m\n\u001b[0m\u001b[0;32m    168\u001b[0m             )\n\u001b[0;32m    169\u001b[0m             \u001b[0mself\u001b[0m\u001b[1;33m.\u001b[0m\u001b[0mload\u001b[0m\u001b[1;33m(\u001b[0m\u001b[0mAP_MODEL_LOC\u001b[0m\u001b[1;33m)\u001b[0m\u001b[1;33m\u001b[0m\u001b[1;33m\u001b[0m\u001b[0m\n",
      "\u001b[1;32m~\\Documents\\Anaconda\\lib\\site-packages\\nltk\\data.py\u001b[0m in \u001b[0;36mfind\u001b[1;34m(resource_name, paths)\u001b[0m\n\u001b[0;32m    535\u001b[0m                         \u001b[1;32mreturn\u001b[0m \u001b[0mGzipFileSystemPathPointer\u001b[0m\u001b[1;33m(\u001b[0m\u001b[0mp\u001b[0m\u001b[1;33m)\u001b[0m\u001b[1;33m\u001b[0m\u001b[1;33m\u001b[0m\u001b[0m\n\u001b[0;32m    536\u001b[0m                     \u001b[1;32melse\u001b[0m\u001b[1;33m:\u001b[0m\u001b[1;33m\u001b[0m\u001b[1;33m\u001b[0m\u001b[0m\n\u001b[1;32m--> 537\u001b[1;33m                         \u001b[1;32mreturn\u001b[0m \u001b[0mFileSystemPathPointer\u001b[0m\u001b[1;33m(\u001b[0m\u001b[0mp\u001b[0m\u001b[1;33m)\u001b[0m\u001b[1;33m\u001b[0m\u001b[1;33m\u001b[0m\u001b[0m\n\u001b[0m\u001b[0;32m    538\u001b[0m             \u001b[1;32melse\u001b[0m\u001b[1;33m:\u001b[0m\u001b[1;33m\u001b[0m\u001b[1;33m\u001b[0m\u001b[0m\n\u001b[0;32m    539\u001b[0m                 \u001b[0mp\u001b[0m \u001b[1;33m=\u001b[0m \u001b[0mos\u001b[0m\u001b[1;33m.\u001b[0m\u001b[0mpath\u001b[0m\u001b[1;33m.\u001b[0m\u001b[0mjoin\u001b[0m\u001b[1;33m(\u001b[0m\u001b[0mpath_\u001b[0m\u001b[1;33m,\u001b[0m \u001b[0murl2pathname\u001b[0m\u001b[1;33m(\u001b[0m\u001b[0mzipfile\u001b[0m\u001b[1;33m)\u001b[0m\u001b[1;33m)\u001b[0m\u001b[1;33m\u001b[0m\u001b[1;33m\u001b[0m\u001b[0m\n",
      "\u001b[1;32m~\\Documents\\Anaconda\\lib\\site-packages\\nltk\\compat.py\u001b[0m in \u001b[0;36m_decorator\u001b[1;34m(*args, **kwargs)\u001b[0m\n\u001b[0;32m     39\u001b[0m     \u001b[1;32mdef\u001b[0m \u001b[0m_decorator\u001b[0m\u001b[1;33m(\u001b[0m\u001b[1;33m*\u001b[0m\u001b[0margs\u001b[0m\u001b[1;33m,\u001b[0m \u001b[1;33m**\u001b[0m\u001b[0mkwargs\u001b[0m\u001b[1;33m)\u001b[0m\u001b[1;33m:\u001b[0m\u001b[1;33m\u001b[0m\u001b[1;33m\u001b[0m\u001b[0m\n\u001b[0;32m     40\u001b[0m         \u001b[0margs\u001b[0m \u001b[1;33m=\u001b[0m \u001b[1;33m(\u001b[0m\u001b[0margs\u001b[0m\u001b[1;33m[\u001b[0m\u001b[1;36m0\u001b[0m\u001b[1;33m]\u001b[0m\u001b[1;33m,\u001b[0m \u001b[0madd_py3_data\u001b[0m\u001b[1;33m(\u001b[0m\u001b[0margs\u001b[0m\u001b[1;33m[\u001b[0m\u001b[1;36m1\u001b[0m\u001b[1;33m]\u001b[0m\u001b[1;33m)\u001b[0m\u001b[1;33m)\u001b[0m \u001b[1;33m+\u001b[0m \u001b[0margs\u001b[0m\u001b[1;33m[\u001b[0m\u001b[1;36m2\u001b[0m\u001b[1;33m:\u001b[0m\u001b[1;33m]\u001b[0m\u001b[1;33m\u001b[0m\u001b[1;33m\u001b[0m\u001b[0m\n\u001b[1;32m---> 41\u001b[1;33m         \u001b[1;32mreturn\u001b[0m \u001b[0minit_func\u001b[0m\u001b[1;33m(\u001b[0m\u001b[1;33m*\u001b[0m\u001b[0margs\u001b[0m\u001b[1;33m,\u001b[0m \u001b[1;33m**\u001b[0m\u001b[0mkwargs\u001b[0m\u001b[1;33m)\u001b[0m\u001b[1;33m\u001b[0m\u001b[1;33m\u001b[0m\u001b[0m\n\u001b[0m\u001b[0;32m     42\u001b[0m \u001b[1;33m\u001b[0m\u001b[0m\n\u001b[0;32m     43\u001b[0m     \u001b[1;32mreturn\u001b[0m \u001b[0mwraps\u001b[0m\u001b[1;33m(\u001b[0m\u001b[0minit_func\u001b[0m\u001b[1;33m)\u001b[0m\u001b[1;33m(\u001b[0m\u001b[0m_decorator\u001b[0m\u001b[1;33m)\u001b[0m\u001b[1;33m\u001b[0m\u001b[1;33m\u001b[0m\u001b[0m\n",
      "\u001b[1;32m~\\Documents\\Anaconda\\lib\\site-packages\\nltk\\data.py\u001b[0m in \u001b[0;36m__init__\u001b[1;34m(self, _path)\u001b[0m\n\u001b[0;32m    309\u001b[0m \u001b[1;33m\u001b[0m\u001b[0m\n\u001b[0;32m    310\u001b[0m         \u001b[0m_path\u001b[0m \u001b[1;33m=\u001b[0m \u001b[0mos\u001b[0m\u001b[1;33m.\u001b[0m\u001b[0mpath\u001b[0m\u001b[1;33m.\u001b[0m\u001b[0mabspath\u001b[0m\u001b[1;33m(\u001b[0m\u001b[0m_path\u001b[0m\u001b[1;33m)\u001b[0m\u001b[1;33m\u001b[0m\u001b[1;33m\u001b[0m\u001b[0m\n\u001b[1;32m--> 311\u001b[1;33m         \u001b[1;32mif\u001b[0m \u001b[1;32mnot\u001b[0m \u001b[0mos\u001b[0m\u001b[1;33m.\u001b[0m\u001b[0mpath\u001b[0m\u001b[1;33m.\u001b[0m\u001b[0mexists\u001b[0m\u001b[1;33m(\u001b[0m\u001b[0m_path\u001b[0m\u001b[1;33m)\u001b[0m\u001b[1;33m:\u001b[0m\u001b[1;33m\u001b[0m\u001b[1;33m\u001b[0m\u001b[0m\n\u001b[0m\u001b[0;32m    312\u001b[0m             \u001b[1;32mraise\u001b[0m \u001b[0mOSError\u001b[0m\u001b[1;33m(\u001b[0m\u001b[1;34m\"No such file or directory: %r\"\u001b[0m \u001b[1;33m%\u001b[0m \u001b[0m_path\u001b[0m\u001b[1;33m)\u001b[0m\u001b[1;33m\u001b[0m\u001b[1;33m\u001b[0m\u001b[0m\n\u001b[0;32m    313\u001b[0m         \u001b[0mself\u001b[0m\u001b[1;33m.\u001b[0m\u001b[0m_path\u001b[0m \u001b[1;33m=\u001b[0m \u001b[0m_path\u001b[0m\u001b[1;33m\u001b[0m\u001b[1;33m\u001b[0m\u001b[0m\n",
      "\u001b[1;32m~\\Documents\\Anaconda\\lib\\genericpath.py\u001b[0m in \u001b[0;36mexists\u001b[1;34m(path)\u001b[0m\n\u001b[0;32m     17\u001b[0m     \u001b[1;34m\"\"\"Test whether a path exists.  Returns False for broken symbolic links\"\"\"\u001b[0m\u001b[1;33m\u001b[0m\u001b[1;33m\u001b[0m\u001b[0m\n\u001b[0;32m     18\u001b[0m     \u001b[1;32mtry\u001b[0m\u001b[1;33m:\u001b[0m\u001b[1;33m\u001b[0m\u001b[1;33m\u001b[0m\u001b[0m\n\u001b[1;32m---> 19\u001b[1;33m         \u001b[0mos\u001b[0m\u001b[1;33m.\u001b[0m\u001b[0mstat\u001b[0m\u001b[1;33m(\u001b[0m\u001b[0mpath\u001b[0m\u001b[1;33m)\u001b[0m\u001b[1;33m\u001b[0m\u001b[1;33m\u001b[0m\u001b[0m\n\u001b[0m\u001b[0;32m     20\u001b[0m     \u001b[1;32mexcept\u001b[0m \u001b[1;33m(\u001b[0m\u001b[0mOSError\u001b[0m\u001b[1;33m,\u001b[0m \u001b[0mValueError\u001b[0m\u001b[1;33m)\u001b[0m\u001b[1;33m:\u001b[0m\u001b[1;33m\u001b[0m\u001b[1;33m\u001b[0m\u001b[0m\n\u001b[0;32m     21\u001b[0m         \u001b[1;32mreturn\u001b[0m \u001b[1;32mFalse\u001b[0m\u001b[1;33m\u001b[0m\u001b[1;33m\u001b[0m\u001b[0m\n",
      "\u001b[1;31mKeyboardInterrupt\u001b[0m: "
     ]
    }
   ],
   "source": [
    "# лемматизируем\n",
    "data['text'] = data['text'].apply(lemmatize)"
   ]
  },
  {
   "cell_type": "code",
   "execution_count": 12,
   "id": "3FlZ-g46_56L",
   "metadata": {
    "colab": {
     "base_uri": "https://localhost:8080/",
     "height": 206
    },
    "id": "3FlZ-g46_56L",
    "outputId": "b5e92770-e71a-4ef7-bc60-86f85174d682"
   },
   "outputs": [
    {
     "data": {
      "text/html": [
       "<div>\n",
       "<style scoped>\n",
       "    .dataframe tbody tr th:only-of-type {\n",
       "        vertical-align: middle;\n",
       "    }\n",
       "\n",
       "    .dataframe tbody tr th {\n",
       "        vertical-align: top;\n",
       "    }\n",
       "\n",
       "    .dataframe thead th {\n",
       "        text-align: right;\n",
       "    }\n",
       "</style>\n",
       "<table border=\"1\" class=\"dataframe\">\n",
       "  <thead>\n",
       "    <tr style=\"text-align: right;\">\n",
       "      <th></th>\n",
       "      <th>text</th>\n",
       "      <th>toxic</th>\n",
       "    </tr>\n",
       "  </thead>\n",
       "  <tbody>\n",
       "    <tr>\n",
       "      <th>0</th>\n",
       "      <td>bite me that is all cunt</td>\n",
       "      <td>1</td>\n",
       "    </tr>\n",
       "    <tr>\n",
       "      <th>1</th>\n",
       "      <td>actually im certain this will be the last brea...</td>\n",
       "      <td>0</td>\n",
       "    </tr>\n",
       "    <tr>\n",
       "      <th>2</th>\n",
       "      <td>i protest not for the sake of arguing but for ...</td>\n",
       "      <td>0</td>\n",
       "    </tr>\n",
       "    <tr>\n",
       "      <th>3</th>\n",
       "      <td>it also just now occurs to me i didn t mention...</td>\n",
       "      <td>0</td>\n",
       "    </tr>\n",
       "    <tr>\n",
       "      <th>4</th>\n",
       "      <td>keep there s an entire category for us weekday...</td>\n",
       "      <td>0</td>\n",
       "    </tr>\n",
       "  </tbody>\n",
       "</table>\n",
       "</div>"
      ],
      "text/plain": [
       "                                                text  toxic\n",
       "0                           bite me that is all cunt      1\n",
       "1  actually im certain this will be the last brea...      0\n",
       "2  i protest not for the sake of arguing but for ...      0\n",
       "3  it also just now occurs to me i didn t mention...      0\n",
       "4  keep there s an entire category for us weekday...      0"
      ]
     },
     "execution_count": 12,
     "metadata": {},
     "output_type": "execute_result"
    }
   ],
   "source": [
    "# проверим результат предобработки\n",
    "data.head()"
   ]
  },
  {
   "cell_type": "markdown",
   "id": "5669dd4f",
   "metadata": {
    "id": "5669dd4f"
   },
   "source": [
    "### Разделение на выборки"
   ]
  },
  {
   "cell_type": "markdown",
   "id": "aeb6605a",
   "metadata": {},
   "source": [
    "Разделим выборку на тренировочную и тестовую 80% и 20%."
   ]
  },
  {
   "cell_type": "code",
   "execution_count": 13,
   "id": "07cdb334",
   "metadata": {
    "id": "07cdb334"
   },
   "outputs": [],
   "source": [
    "features = data.drop('toxic', axis=1)\n",
    "target = data['toxic']\n",
    "\n",
    "features_train, features_test, target_train, target_test = train_test_split(features, target, \n",
    "                                                                            test_size=0.2, random_state=12345)"
   ]
  },
  {
   "cell_type": "markdown",
   "id": "af782945",
   "metadata": {
    "id": "af782945"
   },
   "source": [
    "## Обучение"
   ]
  },
  {
   "cell_type": "markdown",
   "id": "a8272333",
   "metadata": {
    "id": "a8272333"
   },
   "source": [
    "### Дисбаланс классов"
   ]
  },
  {
   "cell_type": "markdown",
   "id": "8ffdbcf7",
   "metadata": {
    "id": "8ffdbcf7"
   },
   "source": [
    "Исследуем баланс классов"
   ]
  },
  {
   "cell_type": "code",
   "execution_count": 14,
   "id": "5a165386",
   "metadata": {
    "colab": {
     "base_uri": "https://localhost:8080/"
    },
    "id": "5a165386",
    "outputId": "d5770503-62ea-41ee-8bdb-6e3c1d09d546"
   },
   "outputs": [
    {
     "data": {
      "text/plain": [
       "(0    21536\n",
       " 1     2464\n",
       " Name: toxic, dtype: int64,\n",
       " 0    5367\n",
       " 1     633\n",
       " Name: toxic, dtype: int64)"
      ]
     },
     "execution_count": 14,
     "metadata": {},
     "output_type": "execute_result"
    }
   ],
   "source": [
    "target_train.value_counts(), target_test.value_counts()"
   ]
  },
  {
   "cell_type": "markdown",
   "id": "57931f89",
   "metadata": {
    "id": "57931f89"
   },
   "source": [
    "Положительных ответов в выборке гораздо меньше, чем отрицательных, исследуем вариант уменьшения и увеличения выборки."
   ]
  },
  {
   "cell_type": "code",
   "execution_count": 15,
   "id": "0295d336",
   "metadata": {
    "id": "0295d336"
   },
   "outputs": [],
   "source": [
    "# уменьшим отрицательные ответы, чтобы сбалансировать выборки\n",
    "\n",
    "def downsample(features, target, fraction):\n",
    "    features_zeros = features[target == 0]\n",
    "    features_ones = features[target == 1]\n",
    "    target_zeros = target[target == 0]\n",
    "    target_ones = target[target == 1]\n",
    "    \n",
    "    features_downsampled = pd.concat(\n",
    "        [features_zeros.sample(frac=fraction, random_state=12345)] + [features_ones])\n",
    "    \n",
    "    target_downsampled = pd.concat(\n",
    "        [target_zeros.sample(frac=fraction, random_state=12345)] + [target_ones])\n",
    "    \n",
    "    features_downsampled, target_downsampled = shuffle(\n",
    "        features_downsampled, target_downsampled, random_state=12345)\n",
    "    \n",
    "    return features_downsampled, target_downsampled\n",
    "\n",
    "features_downsampled, target_downsampled = downsample(features_train, target_train, 0.25)"
   ]
  },
  {
   "cell_type": "code",
   "execution_count": 16,
   "id": "8991a879",
   "metadata": {
    "id": "8991a879"
   },
   "outputs": [],
   "source": [
    "# увеличим положительные ответы, чтобы сбалансировать выборки\n",
    "def upsample(features, target, repeat):\n",
    "    features_1 = features[target == 1]\n",
    "    features_0 = features[target == 0]\n",
    "    target_1 = target[target == 1]\n",
    "    target_0 = target[target == 0]\n",
    "    \n",
    "    features = pd.concat([features_0] + [features_1] * repeat)\n",
    "    target = pd.concat([target_0] + [target_1] * repeat)\n",
    "    \n",
    "    features_upsampled, target_upsampled = shuffle(features, target, random_state=12345)\n",
    "    \n",
    "    return features_upsampled, target_upsampled\n",
    "\n",
    "features_upsampled, target_upsampled = upsample(features_train, target_train, 4)"
   ]
  },
  {
   "cell_type": "markdown",
   "id": "b6de1afe",
   "metadata": {
    "id": "b6de1afe"
   },
   "source": [
    "### Классификация TFIDF"
   ]
  },
  {
   "cell_type": "markdown",
   "id": "9b8bc41b",
   "metadata": {
    "id": "9b8bc41b"
   },
   "source": [
    "#### Логистическая регрессия"
   ]
  },
  {
   "cell_type": "markdown",
   "id": "7c5e5286",
   "metadata": {},
   "source": [
    "TF-IDF = TF * IDF\n",
    "\n",
    "TF = t/n \n",
    "\n",
    "t — количество употребления слова, n — общее число слов в тексте\n",
    "\n",
    "IDF = lg(D/d)\n",
    "\n",
    "D - общее число текстов в корпусе, d - количество текстов, в которых это слово встречается "
   ]
  },
  {
   "cell_type": "code",
   "execution_count": 17,
   "id": "b3f428dd",
   "metadata": {
    "colab": {
     "base_uri": "https://localhost:8080/"
    },
    "id": "b3f428dd",
    "outputId": "ef1300b3-39b7-473e-d3fb-9e0f12d2847b",
    "scrolled": true
   },
   "outputs": [
    {
     "name": "stdout",
     "output_type": "stream",
     "text": [
      "Размер обучающей выборки:  (24000, 38524)\n"
     ]
    }
   ],
   "source": [
    "# преобразуем выборки в объект TF-IDF\n",
    "vectorizer = TfidfVectorizer(stop_words='english', min_df=0.0001, ngram_range=(1, 2)) \n",
    "\n",
    "tf_idf_train = vectorizer.fit_transform(features_train['text'])\n",
    "\n",
    "print ('Размер обучающей выборки: ', tf_idf_train.shape)"
   ]
  },
  {
   "cell_type": "code",
   "execution_count": 18,
   "id": "bb263be4",
   "metadata": {
    "id": "bb263be4"
   },
   "outputs": [],
   "source": [
    "# через Пайплайн векторизируем текст и обучим логистическую регрессию\n",
    "pipeline = Pipeline([(\"tfidf\", TfidfVectorizer()), ('LG', LogisticRegression())])"
   ]
  },
  {
   "cell_type": "code",
   "execution_count": 19,
   "id": "db60f7ec",
   "metadata": {
    "id": "db60f7ec"
   },
   "outputs": [],
   "source": [
    "# добавим параметры моделей\n",
    "parameters = {'tfidf__stop_words' : (['english']), 'tfidf__min_df' : (0.0001, 0.0002), 'tfidf__norm': ('l1', 'l2'),\n",
    "             'LG__random_state' : ([12345])}\n",
    "\n",
    "grid_search = GridSearchCV(pipeline, parameters, cv=3, scoring = 'f1')"
   ]
  },
  {
   "cell_type": "code",
   "execution_count": 20,
   "id": "5011c8b7",
   "metadata": {
    "colab": {
     "base_uri": "https://localhost:8080/"
    },
    "id": "5011c8b7",
    "outputId": "ebc2204c-8a70-4a2f-b969-b32c6acec0db"
   },
   "outputs": [
    {
     "name": "stdout",
     "output_type": "stream",
     "text": [
      "Значение F1:  0.5636999569818696\n"
     ]
    }
   ],
   "source": [
    "# обучим модель\n",
    "grid_search.fit(features_train['text'], target_train)\n",
    "\n",
    "# выведем значение F1\n",
    "print('Значение F1: ', grid_search.best_score_)"
   ]
  },
  {
   "cell_type": "markdown",
   "id": "c1f76d9f",
   "metadata": {
    "id": "c1f76d9f"
   },
   "source": [
    "**Метрика F1 показывает довольно низкое качество предсказаний, исследуем качество модели, обученной на сбалансированных выборках**"
   ]
  },
  {
   "cell_type": "markdown",
   "id": "39e6a3e8",
   "metadata": {},
   "source": [
    "F1 = 2 * (precision * recall) / (precision + recall)"
   ]
  },
  {
   "cell_type": "code",
   "execution_count": 21,
   "id": "8b519bf0",
   "metadata": {
    "colab": {
     "base_uri": "https://localhost:8080/"
    },
    "id": "8b519bf0",
    "outputId": "dd755625-6574-4a9b-cc48-e3a23e766a8c"
   },
   "outputs": [
    {
     "name": "stdout",
     "output_type": "stream",
     "text": [
      "Значение F1:  0.7313263103381976\n"
     ]
    }
   ],
   "source": [
    "# обучим модель на уменьшенной выборке\n",
    "grid_search.fit(features_downsampled['text'], target_downsampled)\n",
    "\n",
    "# оценим значение метрики F1\n",
    "print('Значение F1: ', grid_search.best_score_)"
   ]
  },
  {
   "cell_type": "code",
   "execution_count": 22,
   "id": "00cda4ef",
   "metadata": {
    "colab": {
     "base_uri": "https://localhost:8080/"
    },
    "id": "00cda4ef",
    "outputId": "08a967ce-99fb-4a49-d8b6-987929a7e63d"
   },
   "outputs": [
    {
     "name": "stdout",
     "output_type": "stream",
     "text": [
      "Значение F1:  0.8766504817930239\n"
     ]
    }
   ],
   "source": [
    "# обучим модель на увеличенной выборке\n",
    "grid_search.fit(features_upsampled['text'], target_upsampled)\n",
    "\n",
    "# оценим значение метрики F1\n",
    "print('Значение F1: ', grid_search.best_score_)"
   ]
  },
  {
   "cell_type": "code",
   "execution_count": 23,
   "id": "009d5eaa",
   "metadata": {
    "colab": {
     "base_uri": "https://localhost:8080/"
    },
    "id": "009d5eaa",
    "outputId": "01162eb9-7cdf-45aa-f081-4b79f9a50730"
   },
   "outputs": [
    {
     "name": "stdout",
     "output_type": "stream",
     "text": [
      "Размер уменьшенной выборки:  (7848, 202475)\n",
      "Размер увеличенной выборки:  (31392, 68197)\n"
     ]
    }
   ],
   "source": [
    "#  преобразуем сбалансированные выборки в объект TF-IDF\n",
    "vectorizer = TfidfVectorizer(stop_words='english', min_df=0.0001, ngram_range=(1, 2)) \n",
    "\n",
    "\n",
    "tf_idf_train_down = vectorizer.fit_transform(features_downsampled['text'])\n",
    "tf_idf_train_up = vectorizer.fit_transform(features_upsampled['text'])\n",
    "\n",
    "\n",
    "print ('Размер уменьшенной выборки: ', tf_idf_train_down.shape)\n",
    "print ('Размер увеличенной выборки: ', tf_idf_train_up.shape)"
   ]
  },
  {
   "cell_type": "markdown",
   "id": "8ac0298f",
   "metadata": {
    "id": "8ac0298f"
   },
   "source": [
    "Увеличение выборки значительно улучшило качество предсказаний модели. Обучим другие модели."
   ]
  },
  {
   "cell_type": "markdown",
   "id": "7b38cc95",
   "metadata": {
    "id": "7b38cc95"
   },
   "source": [
    "**Случайный лес**"
   ]
  },
  {
   "cell_type": "code",
   "execution_count": 24,
   "id": "4483f529",
   "metadata": {
    "colab": {
     "base_uri": "https://localhost:8080/"
    },
    "id": "4483f529",
    "outputId": "f0356b84-337f-40cf-fc31-94376f965374",
    "scrolled": true
   },
   "outputs": [
    {
     "name": "stdout",
     "output_type": "stream",
     "text": [
      "[0.0024321  0.00405022 0.01530407 0.01290323]\n",
      "[0.0024321  0.00566572 0.02167804 0.0288    ]\n",
      "[0.00969305 0.01370415 0.03273453 0.04827859]\n",
      "Лучший результат случайного леса:  0.026102581754147473\n",
      "Лучшая модель случайного леса RandomForestClassifier(max_depth=9, n_estimators=20, random_state=12345)\n"
     ]
    }
   ],
   "source": [
    "# обучим случайный лес на небольшой выборке, чтобы подобрать гиперпараметры\n",
    "\n",
    "best_model = 0\n",
    "best_score = -1000\n",
    "    \n",
    "for depth in range(7, 10):\n",
    "    model = RandomForestClassifier(random_state=12345, max_depth=depth, n_estimators=20)\n",
    "\n",
    "    scores = cross_val_score(model, tf_idf_train_up, target_upsampled, cv=4,scoring = 'f1')\n",
    "    \n",
    "    print (scores)           \n",
    "    score = pd.Series(scores).mean()\n",
    "    \n",
    "    if score > best_score:\n",
    "        best_score = score\n",
    "        best_model = model\n",
    "            \n",
    "print ('Лучший результат случайного леса: ', best_score)\n",
    "print ('Лучшая модель случайного леса', best_model)"
   ]
  },
  {
   "cell_type": "markdown",
   "id": "eab2df3a",
   "metadata": {
    "id": "eab2df3a"
   },
   "source": [
    "Случайный лес совсем не подходит для решения данной задачи."
   ]
  },
  {
   "cell_type": "markdown",
   "id": "430a09fc",
   "metadata": {
    "id": "430a09fc"
   },
   "source": [
    "#### BERT"
   ]
  },
  {
   "cell_type": "markdown",
   "id": "6a1ad3b2",
   "metadata": {
    "id": "6a1ad3b2"
   },
   "source": [
    "Исследуем модель берт на небольшой выборке в 1000 комментариев."
   ]
  },
  {
   "cell_type": "code",
   "execution_count": 25,
   "id": "2524ade1",
   "metadata": {
    "id": "2524ade1"
   },
   "outputs": [],
   "source": [
    "sample_data = data.sample(n=1000, random_state=1).reset_index(drop=True)"
   ]
  },
  {
   "cell_type": "code",
   "execution_count": 26,
   "id": "f55b7ec0",
   "metadata": {
    "colab": {
     "base_uri": "https://localhost:8080/"
    },
    "id": "f55b7ec0",
    "outputId": "9c4433d2-82e7-4997-e567-8fdec69de041"
   },
   "outputs": [
    {
     "name": "stderr",
     "output_type": "stream",
     "text": [
      "Some weights of the model checkpoint at bert-base-uncased were not used when initializing BertModel: ['cls.predictions.transform.LayerNorm.bias', 'cls.predictions.transform.LayerNorm.weight', 'cls.predictions.transform.dense.weight', 'cls.predictions.decoder.weight', 'cls.predictions.transform.dense.bias', 'cls.seq_relationship.bias', 'cls.seq_relationship.weight', 'cls.predictions.bias']\n",
      "- This IS expected if you are initializing BertModel from the checkpoint of a model trained on another task or with another architecture (e.g. initializing a BertForSequenceClassification model from a BertForPreTraining model).\n",
      "- This IS NOT expected if you are initializing BertModel from the checkpoint of a model that you expect to be exactly identical (initializing a BertForSequenceClassification model from a BertForSequenceClassification model).\n"
     ]
    }
   ],
   "source": [
    "# инициализируем токенизатор\n",
    "model_class, tokenizer_class, pretrained_weights = (ppb.BertModel, ppb.BertTokenizer, 'bert-base-uncased')\n",
    "\n",
    "tokenizer = tokenizer_class.from_pretrained(pretrained_weights)\n",
    "bert_model = model_class.from_pretrained(pretrained_weights)\n",
    "\n",
    "warnings.filterwarnings('ignore')"
   ]
  },
  {
   "cell_type": "code",
   "execution_count": 27,
   "id": "ebce1948",
   "metadata": {
    "id": "ebce1948"
   },
   "outputs": [],
   "source": [
    "# токенизируем текст\n",
    "tokenized = sample_data['text'].apply((lambda x: tokenizer.encode(x, add_special_tokens=True, truncation=True, max_length=512)))"
   ]
  },
  {
   "cell_type": "code",
   "execution_count": 28,
   "id": "f1229824",
   "metadata": {
    "colab": {
     "base_uri": "https://localhost:8080/"
    },
    "id": "f1229824",
    "outputId": "5bd7ec1a-eb42-4940-82ec-e28cc576198d"
   },
   "outputs": [
    {
     "data": {
      "text/plain": [
       "(1000, 512)"
      ]
     },
     "execution_count": 28,
     "metadata": {},
     "output_type": "execute_result"
    }
   ],
   "source": [
    "# найдем максимальную длину векторов\n",
    "max_len = 0\n",
    "for i in tokenized.values:\n",
    "    if len(i) > max_len:\n",
    "        max_len = len(i)\n",
    "\n",
    "# добавим паддинги к векторам\n",
    "padded = np.array([i + [0]*(max_len-len(i)) for i in tokenized.values])\n",
    "padded.shape"
   ]
  },
  {
   "cell_type": "code",
   "execution_count": 29,
   "id": "f0c61370",
   "metadata": {
    "colab": {
     "base_uri": "https://localhost:8080/"
    },
    "id": "f0c61370",
    "outputId": "263574b0-3c8a-4001-97f1-6a40d4141f9e"
   },
   "outputs": [
    {
     "data": {
      "text/plain": [
       "(1000, 512)"
      ]
     },
     "execution_count": 29,
     "metadata": {},
     "output_type": "execute_result"
    }
   ],
   "source": [
    "# создадим маску для важных токенов\n",
    "attention_mask = np.where(padded != 0, 1, 0)\n",
    "attention_mask.shape"
   ]
  },
  {
   "cell_type": "code",
   "execution_count": 32,
   "id": "af529913",
   "metadata": {
    "colab": {
     "base_uri": "https://localhost:8080/"
    },
    "id": "af529913",
    "outputId": "9b29a3cb-9d07-4d1d-fb44-9b0864e8794a"
   },
   "outputs": [
    {
     "data": {
      "text/plain": [
       "torch.Size([1000, 512])"
      ]
     },
     "execution_count": 32,
     "metadata": {},
     "output_type": "execute_result"
    }
   ],
   "source": [
    "# преобразуем данные в формат тензоров\n",
    "input_ids = torch.tensor(padded)  \n",
    "attention_mask = torch.tensor(attention_mask)\n",
    "input_ids.shape\n",
    "attention_mask.shape"
   ]
  },
  {
   "cell_type": "code",
   "execution_count": 38,
   "id": "a411d4a7",
   "metadata": {
    "colab": {
     "base_uri": "https://localhost:8080/",
     "height": 85,
     "referenced_widgets": [
      "5d059af8420f453d93251bb3a02a7c89",
      "d5db8113f722486baf494e72526ee17b",
      "be842df4ab304f40b2a3df556a858002",
      "ba557235bfcd494c993411b1e811780e",
      "8cb940225aa041939ce79368286f461d",
      "ffbbc107bee24343b43320f9ba44bab1",
      "f01e3ac4e09b4e64a51d5acb6681ce78",
      "084d54b59a1c491c8f3abe0bf814c7dd",
      "85223c4d43464a1a8fcea416f31e35d5",
      "eaf1e57e1eaa438aa07362dba73d7d90",
      "89e451f6cf604e8a8246da76b41a116e"
     ]
    },
    "id": "Y1hXEeAVB850",
    "outputId": "2d5d2697-c7c0-42a9-cadf-00f221bbff1c"
   },
   "outputs": [
    {
     "data": {
      "application/vnd.jupyter.widget-view+json": {
       "model_id": "b1a8be6b728443ad97286109aaeea008",
       "version_major": 2,
       "version_minor": 0
      },
      "text/plain": [
       "  0%|          | 0/500 [00:00<?, ?it/s]"
      ]
     },
     "metadata": {},
     "output_type": "display_data"
    },
    {
     "name": "stdout",
     "output_type": "stream",
     "text": [
      "Wall time: 1h 52min 40s\n"
     ]
    }
   ],
   "source": [
    "%%time\n",
    "\n",
    "# обучим модель BERT по батчам из двух строк\n",
    "from tqdm import notebook\n",
    "batch_size = 2\n",
    "embeddings = [] \n",
    "for i in notebook.tqdm(range(input_ids.shape[0] // batch_size)):\n",
    "        batch = input_ids[batch_size*i:batch_size*(i+1)]\n",
    "        attention_mask_batch = attention_mask[batch_size*i:batch_size*(i+1)]\n",
    "        \n",
    "        with torch.no_grad():\n",
    "            batch_embeddings = bert_model(batch, attention_mask=attention_mask_batch)\n",
    "        \n",
    "        embeddings.append(batch_embeddings[0][:,0,:].numpy())\n",
    "        del batch\n",
    "        del attention_mask_batch\n",
    "        del batch_embeddings\n",
    "\n",
    "# сохраним признаки      \n",
    "features = np.concatenate(embeddings) "
   ]
  },
  {
   "cell_type": "code",
   "execution_count": 39,
   "id": "d64c0e6d",
   "metadata": {
    "id": "d64c0e6d"
   },
   "outputs": [],
   "source": [
    "# сохраним таргет\n",
    "target = sample_data['toxic']\n",
    "\n",
    "# разделим на выборки\n",
    "train_features, test_features, train_target, test_target = train_test_split(features, target, test_size=0.2)"
   ]
  },
  {
   "cell_type": "code",
   "execution_count": 40,
   "id": "ea9110a4",
   "metadata": {
    "colab": {
     "base_uri": "https://localhost:8080/"
    },
    "id": "ea9110a4",
    "outputId": "8c2d9d3c-0580-4a47-db8e-d6fe9460a90c"
   },
   "outputs": [
    {
     "name": "stdout",
     "output_type": "stream",
     "text": [
      "Лучшие параметры:  {'C': 10.526405263157894, 'max_iter': 10000, 'penalty': 'l2', 'random_state': 12345, 'solver': 'saga'}\n",
      "Лучшее качество:  0.47380563675630083\n"
     ]
    }
   ],
   "source": [
    "# обучим модель и проведем кросс-валидацию с помощью GridSearch\n",
    "parameters = {'C': np.linspace(0.0001, 100, 20),'random_state' : ([12345]),\n",
    "              'max_iter' : ([10000]),\n",
    "              'solver' : (['saga']), 'penalty' : (['l2'])}\n",
    "\n",
    "grid_search_bert = GridSearchCV(LogisticRegression(), parameters, scoring='f1', cv=4)\n",
    "grid_search_bert.fit(train_features, train_target)\n",
    "\n",
    "# оценим ее качество\n",
    "print('Лучшие параметры: ', grid_search_bert.best_params_)\n",
    "print('Лучшее качество: ', grid_search_bert.best_score_)"
   ]
  },
  {
   "cell_type": "markdown",
   "id": "35172b40",
   "metadata": {
    "id": "35172b40"
   },
   "source": [
    "Так как выборка для модели BERT у нас небольшая, наилучий результат показала модель Логистической регрессии обученная на увеличенной выборке. Протестируем модели."
   ]
  },
  {
   "cell_type": "markdown",
   "id": "b9d02be8",
   "metadata": {
    "id": "b9d02be8"
   },
   "source": [
    "### Тестирование"
   ]
  },
  {
   "cell_type": "markdown",
   "id": "eaf81bf9",
   "metadata": {
    "id": "eaf81bf9"
   },
   "source": [
    "Проверим модель на тестовой выборке."
   ]
  },
  {
   "cell_type": "code",
   "execution_count": 76,
   "id": "2b052680",
   "metadata": {
    "colab": {
     "base_uri": "https://localhost:8080/"
    },
    "id": "2b052680",
    "outputId": "8a505167-d0dc-435e-8ae3-d35ea28ed29e"
   },
   "outputs": [
    {
     "name": "stdout",
     "output_type": "stream",
     "text": [
      "F1-мера модели BERT:  0.42424242424242425\n"
     ]
    }
   ],
   "source": [
    "# предсказания модели BERT\n",
    "prediction = grid_search_bert.predict(test_features)\n",
    "\n",
    "print ('F1-мера модели BERT: ', f1_score(test_target, prediction))"
   ]
  },
  {
   "cell_type": "code",
   "execution_count": 77,
   "id": "40d998ec",
   "metadata": {
    "id": "40d998ec",
    "scrolled": true
   },
   "outputs": [],
   "source": [
    "# сделаем предсказания логистической регрессии с помощью Пайплайн\n",
    "pipeline = Pipeline([(\"tfidf\", TfidfVectorizer()), ('LG', LogisticRegression())])\n",
    "\n",
    "parameters = {'tfidf__stop_words' : (['english']), 'tfidf__min_df' : ([0.0001]),\n",
    "             'LG__random_state' : ([12345]),\n",
    "              'LG__C' : ([2]), 'LG__max_iter' : ([10000]),\n",
    "             'LG__solver' : (['saga']), 'LG__penalty' : (['l2'])}\n",
    "\n",
    "grid_search = GridSearchCV(pipeline, parameters, cv=3, scoring = 'f1')"
   ]
  },
  {
   "cell_type": "code",
   "execution_count": 78,
   "id": "65d251f9",
   "metadata": {
    "colab": {
     "base_uri": "https://localhost:8080/"
    },
    "id": "65d251f9",
    "outputId": "a6aa83f2-ea02-4fbb-c581-7b7f61986dfb"
   },
   "outputs": [
    {
     "data": {
      "text/plain": [
       "GridSearchCV(cv=3,\n",
       "             estimator=Pipeline(steps=[('tfidf', TfidfVectorizer()),\n",
       "                                       ('LG', LogisticRegression())]),\n",
       "             param_grid={'LG__C': [2], 'LG__max_iter': [10000],\n",
       "                         'LG__penalty': ['l2'], 'LG__random_state': [12345],\n",
       "                         'LG__solver': ['saga'], 'tfidf__min_df': [0.0001],\n",
       "                         'tfidf__stop_words': ['english']},\n",
       "             scoring='f1')"
      ]
     },
     "execution_count": 78,
     "metadata": {},
     "output_type": "execute_result"
    }
   ],
   "source": [
    "# обучим на увеличенной выборке\n",
    "grid_search.fit(features_upsampled['text'], target_upsampled)"
   ]
  },
  {
   "cell_type": "code",
   "execution_count": 79,
   "id": "6a6df94d",
   "metadata": {
    "colab": {
     "base_uri": "https://localhost:8080/"
    },
    "id": "6a6df94d",
    "outputId": "8b5dff52-84d2-4be3-ec1c-6c3cc9fd171a"
   },
   "outputs": [
    {
     "name": "stdout",
     "output_type": "stream",
     "text": [
      "0.9122249280989156\n",
      "{'LG__C': 2, 'LG__max_iter': 10000, 'LG__penalty': 'l2', 'LG__random_state': 12345, 'LG__solver': 'saga', 'tfidf__min_df': 0.0001, 'tfidf__stop_words': 'english'}\n"
     ]
    }
   ],
   "source": [
    "print (grid_search.best_score_)\n",
    "print (grid_search.best_params_)"
   ]
  },
  {
   "cell_type": "code",
   "execution_count": 80,
   "id": "1bf0069f",
   "metadata": {
    "colab": {
     "base_uri": "https://localhost:8080/"
    },
    "id": "1bf0069f",
    "outputId": "c891f73f-03f4-4992-dc61-339ce822ce20"
   },
   "outputs": [
    {
     "name": "stdout",
     "output_type": "stream",
     "text": [
      "F1-мера модели TFIDF:  0.7508417508417509\n"
     ]
    }
   ],
   "source": [
    "# также проверим качество предсказания модели\n",
    "prediction = grid_search.predict(features_test['text'])\n",
    "print ('F1-мера модели TFIDF: ', f1_score(prediction, target_test))\n"
   ]
  },
  {
   "cell_type": "markdown",
   "id": "9e474a2f",
   "metadata": {
    "id": "9e474a2f"
   },
   "source": [
    "Мы достигли цели, довели метрику до 0.75. На тестовой выборке лучший результат показала модель BERT не смотря на то, что она обучалась на небольшой выборке."
   ]
  },
  {
   "cell_type": "markdown",
   "id": "d6c11bde",
   "metadata": {
    "id": "d6c11bde"
   },
   "source": [
    "## Выводы"
   ]
  },
  {
   "cell_type": "markdown",
   "id": "5af9e53c",
   "metadata": {
    "id": "5af9e53c"
   },
   "source": [
    "Задача проекта - обучить модель со значением метрики качества F1 не меньше 0.75, которая классифицирует комментарии на позитивные и негативные выполнена.\n",
    "\n",
    "**Нам удалось добиться значения метрики качества F1 на тестовой выборке - 0.42 с помощью BERT и 0.75 с помощью балансировки данных и логистической регрессии**\n",
    "\n",
    "В исследовании были выполнены следующие шаги:\n",
    "\n",
    "Подготовлены данные:\n",
    "* Изучен датасет\n",
    "* Лемматизация и очистка текста\n",
    "* Данные разделены на выборки\n",
    "\n",
    "Обучение модели:\n",
    "* Обучена логистическая регрессия, выявлен дисбаланс классов\n",
    "* Проведена балансировка - выявлен лучший метод - Увеличение выборки\n",
    "* Оценено качество разных методов\n",
    "* Исследована модель BERT\n",
    "* Протестированы лучшие модели, получено высокое качество предсказания\n",
    "\n",
    "Выводы сделаны"
   ]
  },
  {
   "cell_type": "code",
   "execution_count": null,
   "id": "a59d0d9b",
   "metadata": {},
   "outputs": [],
   "source": []
  }
 ],
 "metadata": {
  "ExecuteTimeLog": [
   {
    "duration": 2589,
    "start_time": "2022-09-27T14:37:27.073Z"
   },
   {
    "duration": 140,
    "start_time": "2022-09-27T14:37:43.731Z"
   },
   {
    "duration": 65,
    "start_time": "2022-09-27T14:37:47.668Z"
   },
   {
    "duration": 2259,
    "start_time": "2022-09-27T14:37:59.880Z"
   },
   {
    "duration": 12,
    "start_time": "2022-09-27T14:38:05.661Z"
   },
   {
    "duration": 12,
    "start_time": "2022-09-27T14:38:06.207Z"
   },
   {
    "duration": 3,
    "start_time": "2022-09-27T14:38:11.502Z"
   },
   {
    "duration": 1962,
    "start_time": "2022-09-27T14:38:12.868Z"
   },
   {
    "duration": 155,
    "start_time": "2022-09-27T14:38:14.834Z"
   },
   {
    "duration": 5,
    "start_time": "2022-09-27T14:38:17.635Z"
   },
   {
    "duration": 3,
    "start_time": "2022-09-27T14:38:18.289Z"
   },
   {
    "duration": 29959,
    "start_time": "2022-09-27T14:38:44.766Z"
   },
   {
    "duration": 4,
    "start_time": "2022-09-27T14:39:14.727Z"
   },
   {
    "duration": 25,
    "start_time": "2022-09-27T14:42:17.346Z"
   },
   {
    "duration": 4,
    "start_time": "2022-09-27T14:42:53.986Z"
   },
   {
    "duration": 4,
    "start_time": "2022-09-27T14:43:03.855Z"
   },
   {
    "duration": 18,
    "start_time": "2022-09-27T14:43:08.538Z"
   },
   {
    "duration": 5,
    "start_time": "2022-09-27T14:43:27.365Z"
   },
   {
    "duration": 18,
    "start_time": "2022-09-27T14:43:31.508Z"
   },
   {
    "duration": 560,
    "start_time": "2022-09-27T14:44:51.175Z"
   },
   {
    "duration": 100,
    "start_time": "2022-09-27T14:45:23.166Z"
   },
   {
    "duration": 7,
    "start_time": "2022-09-27T14:47:01.906Z"
   },
   {
    "duration": 3,
    "start_time": "2022-09-27T14:47:40.440Z"
   },
   {
    "duration": 4,
    "start_time": "2022-09-27T14:48:10.935Z"
   },
   {
    "duration": 1008147,
    "start_time": "2022-09-27T14:48:13.080Z"
   },
   {
    "duration": 14,
    "start_time": "2022-09-27T15:05:01.230Z"
   },
   {
    "duration": 4,
    "start_time": "2022-09-27T15:23:27.167Z"
   },
   {
    "duration": 7701,
    "start_time": "2022-09-27T15:24:10.545Z"
   },
   {
    "duration": 16,
    "start_time": "2022-09-27T15:24:58.086Z"
   },
   {
    "duration": 4,
    "start_time": "2022-09-27T15:25:04.077Z"
   },
   {
    "duration": 8,
    "start_time": "2022-09-27T15:25:30.870Z"
   },
   {
    "duration": 2,
    "start_time": "2022-09-27T15:25:35.048Z"
   },
   {
    "duration": 4,
    "start_time": "2022-09-27T15:25:35.979Z"
   },
   {
    "duration": 4,
    "start_time": "2022-09-27T15:25:51.049Z"
   },
   {
    "duration": 31,
    "start_time": "2022-09-27T15:29:42.223Z"
   },
   {
    "duration": 7,
    "start_time": "2022-09-27T15:29:44.068Z"
   },
   {
    "duration": 39,
    "start_time": "2022-09-27T15:29:45.278Z"
   },
   {
    "duration": 58,
    "start_time": "2022-09-27T15:29:45.927Z"
   },
   {
    "duration": 11137,
    "start_time": "2022-09-27T15:29:49.016Z"
   },
   {
    "duration": 10,
    "start_time": "2022-09-27T15:30:28.725Z"
   },
   {
    "duration": 10,
    "start_time": "2022-09-27T15:30:34.644Z"
   },
   {
    "duration": 6,
    "start_time": "2022-09-27T15:30:53.254Z"
   },
   {
    "duration": 11,
    "start_time": "2022-09-27T15:31:00.801Z"
   },
   {
    "duration": 5,
    "start_time": "2022-09-27T15:31:12.879Z"
   },
   {
    "duration": 11,
    "start_time": "2022-09-27T15:31:28.060Z"
   },
   {
    "duration": 3,
    "start_time": "2022-09-27T15:31:42.951Z"
   },
   {
    "duration": 3,
    "start_time": "2022-09-27T15:33:24.523Z"
   },
   {
    "duration": 3,
    "start_time": "2022-09-27T15:35:20.363Z"
   },
   {
    "duration": 3,
    "start_time": "2022-09-27T15:35:23.762Z"
   },
   {
    "duration": 12,
    "start_time": "2022-09-27T15:36:36.131Z"
   },
   {
    "duration": 188581,
    "start_time": "2022-09-27T15:36:48.517Z"
   },
   {
    "duration": 3,
    "start_time": "2022-09-27T15:41:05.748Z"
   },
   {
    "duration": 318459,
    "start_time": "2022-09-27T15:41:11.922Z"
   },
   {
    "duration": 0,
    "start_time": "2022-09-27T15:46:30.383Z"
   },
   {
    "duration": 9,
    "start_time": "2022-09-27T15:46:32.307Z"
   },
   {
    "duration": 16,
    "start_time": "2022-09-27T15:46:52.445Z"
   },
   {
    "duration": 7,
    "start_time": "2022-09-27T15:47:01.500Z"
   },
   {
    "duration": 11,
    "start_time": "2022-09-27T15:47:02.300Z"
   },
   {
    "duration": 6,
    "start_time": "2022-09-27T15:47:05.052Z"
   },
   {
    "duration": 13,
    "start_time": "2022-09-27T15:47:08.175Z"
   },
   {
    "duration": 16,
    "start_time": "2022-09-27T15:47:08.689Z"
   },
   {
    "duration": 3,
    "start_time": "2022-09-27T15:47:21.288Z"
   },
   {
    "duration": 3,
    "start_time": "2022-09-27T15:47:22.173Z"
   },
   {
    "duration": 44378,
    "start_time": "2022-09-27T15:47:24.321Z"
   },
   {
    "duration": 16,
    "start_time": "2022-09-27T15:52:00.881Z"
   },
   {
    "duration": 4,
    "start_time": "2022-09-27T15:52:21.389Z"
   },
   {
    "duration": 15772,
    "start_time": "2022-09-27T15:52:35.318Z"
   },
   {
    "duration": 4654,
    "start_time": "2022-09-28T08:48:48.092Z"
   },
   {
    "duration": 2275,
    "start_time": "2022-09-28T08:48:55.095Z"
   },
   {
    "duration": 13,
    "start_time": "2022-09-28T08:48:57.372Z"
   },
   {
    "duration": 16,
    "start_time": "2022-09-28T08:48:57.892Z"
   },
   {
    "duration": 3,
    "start_time": "2022-09-28T08:49:01.416Z"
   },
   {
    "duration": 2244,
    "start_time": "2022-09-28T08:49:02.250Z"
   },
   {
    "duration": 192,
    "start_time": "2022-09-28T08:49:04.495Z"
   },
   {
    "duration": 4,
    "start_time": "2022-09-28T08:49:12.264Z"
   },
   {
    "duration": 1401,
    "start_time": "2022-09-28T08:49:13.673Z"
   },
   {
    "duration": 4,
    "start_time": "2022-09-28T08:49:15.075Z"
   },
   {
    "duration": 10,
    "start_time": "2022-09-28T08:49:15.960Z"
   },
   {
    "duration": 2,
    "start_time": "2022-09-28T08:49:22.997Z"
   },
   {
    "duration": 9,
    "start_time": "2022-09-28T08:49:26.906Z"
   },
   {
    "duration": 8,
    "start_time": "2022-09-28T08:49:27.455Z"
   },
   {
    "duration": 6,
    "start_time": "2022-09-28T08:49:30.859Z"
   },
   {
    "duration": 15,
    "start_time": "2022-09-28T08:49:33.318Z"
   },
   {
    "duration": 12,
    "start_time": "2022-09-28T08:49:34.424Z"
   },
   {
    "duration": 1171,
    "start_time": "2022-09-28T08:49:37.170Z"
   },
   {
    "duration": 3,
    "start_time": "2022-09-28T08:49:48.810Z"
   },
   {
    "duration": 4,
    "start_time": "2022-09-28T08:49:49.313Z"
   },
   {
    "duration": 21554,
    "start_time": "2022-09-28T08:49:49.775Z"
   },
   {
    "duration": 3,
    "start_time": "2022-09-28T08:50:11.421Z"
   },
   {
    "duration": 5,
    "start_time": "2022-09-28T08:50:11.425Z"
   },
   {
    "duration": 1397,
    "start_time": "2022-09-28T08:50:11.432Z"
   },
   {
    "duration": 77196,
    "start_time": "2022-09-28T08:50:12.831Z"
   },
   {
    "duration": 5,
    "start_time": "2022-09-28T08:54:29.763Z"
   },
   {
    "duration": 228,
    "start_time": "2022-09-28T08:54:34.804Z"
   },
   {
    "duration": 72,
    "start_time": "2022-09-28T08:55:29.307Z"
   },
   {
    "duration": 21958,
    "start_time": "2022-09-28T08:55:54.964Z"
   },
   {
    "duration": 41259,
    "start_time": "2022-09-28T08:56:21.762Z"
   },
   {
    "duration": 2026,
    "start_time": "2022-09-28T08:58:27.554Z"
   },
   {
    "duration": 6,
    "start_time": "2022-09-28T08:58:42.865Z"
   },
   {
    "duration": 6,
    "start_time": "2022-09-28T08:59:14.849Z"
   },
   {
    "duration": 52,
    "start_time": "2022-09-28T08:59:44.048Z"
   },
   {
    "duration": 7,
    "start_time": "2022-09-28T08:59:50.619Z"
   },
   {
    "duration": 17826,
    "start_time": "2022-09-28T09:00:06.214Z"
   },
   {
    "duration": 128,
    "start_time": "2022-09-28T09:00:42.921Z"
   },
   {
    "duration": 12,
    "start_time": "2022-09-28T09:00:44.497Z"
   },
   {
    "duration": 187,
    "start_time": "2022-09-28T09:02:01.805Z"
   },
   {
    "duration": 5,
    "start_time": "2022-09-28T09:02:06.206Z"
   },
   {
    "duration": 3,
    "start_time": "2022-09-28T09:02:11.212Z"
   },
   {
    "duration": 153,
    "start_time": "2022-09-28T09:02:37.860Z"
   },
   {
    "duration": 102,
    "start_time": "2022-09-28T09:02:58.835Z"
   },
   {
    "duration": 5,
    "start_time": "2022-09-28T09:03:44.440Z"
   },
   {
    "duration": 6,
    "start_time": "2022-09-28T09:03:45.059Z"
   },
   {
    "duration": 6473,
    "start_time": "2022-09-28T09:03:47.641Z"
   },
   {
    "duration": 127,
    "start_time": "2022-09-28T09:03:54.115Z"
   },
   {
    "duration": 10,
    "start_time": "2022-09-28T09:03:56.656Z"
   },
   {
    "duration": 4,
    "start_time": "2022-09-28T09:03:57.650Z"
   },
   {
    "duration": 3,
    "start_time": "2022-09-28T09:03:58.410Z"
   },
   {
    "duration": 27,
    "start_time": "2022-09-28T09:04:03.375Z"
   },
   {
    "duration": 5,
    "start_time": "2022-09-28T09:05:22.646Z"
   },
   {
    "duration": 6,
    "start_time": "2022-09-28T09:05:23.134Z"
   },
   {
    "duration": 6641,
    "start_time": "2022-09-28T09:05:24.606Z"
   },
   {
    "duration": 144,
    "start_time": "2022-09-28T09:05:31.250Z"
   },
   {
    "duration": 12,
    "start_time": "2022-09-28T09:05:31.396Z"
   },
   {
    "duration": 16,
    "start_time": "2022-09-28T09:05:31.420Z"
   },
   {
    "duration": 3,
    "start_time": "2022-09-28T09:05:31.524Z"
   },
   {
    "duration": 27,
    "start_time": "2022-09-28T09:05:32.806Z"
   },
   {
    "duration": 122,
    "start_time": "2022-09-28T09:06:03.238Z"
   },
   {
    "duration": 11,
    "start_time": "2022-09-28T09:06:04.234Z"
   },
   {
    "duration": 4,
    "start_time": "2022-09-28T09:06:04.642Z"
   },
   {
    "duration": 3,
    "start_time": "2022-09-28T09:06:05.912Z"
   },
   {
    "duration": 28,
    "start_time": "2022-09-28T09:06:06.393Z"
   },
   {
    "duration": 18,
    "start_time": "2022-09-28T09:07:09.315Z"
   },
   {
    "duration": 5,
    "start_time": "2022-09-28T09:07:12.612Z"
   },
   {
    "duration": 5,
    "start_time": "2022-09-28T09:07:20.606Z"
   },
   {
    "duration": 5,
    "start_time": "2022-09-28T09:07:25.776Z"
   },
   {
    "duration": 26,
    "start_time": "2022-09-28T09:07:31.218Z"
   },
   {
    "duration": 12,
    "start_time": "2022-09-28T09:14:00.639Z"
   },
   {
    "duration": 4,
    "start_time": "2022-09-28T09:14:06.305Z"
   },
   {
    "duration": 6661,
    "start_time": "2022-09-28T09:14:11.456Z"
   },
   {
    "duration": 124,
    "start_time": "2022-09-28T09:14:20.899Z"
   },
   {
    "duration": 10,
    "start_time": "2022-09-28T09:14:22.177Z"
   },
   {
    "duration": 4,
    "start_time": "2022-09-28T09:14:23.197Z"
   },
   {
    "duration": 5,
    "start_time": "2022-09-28T09:14:23.921Z"
   },
   {
    "duration": 25,
    "start_time": "2022-09-28T09:14:24.534Z"
   },
   {
    "duration": 131,
    "start_time": "2022-09-28T09:26:35.549Z"
   },
   {
    "duration": 142,
    "start_time": "2022-09-28T09:26:44.611Z"
   },
   {
    "duration": 139,
    "start_time": "2022-09-28T09:26:53.904Z"
   },
   {
    "duration": 139,
    "start_time": "2022-09-28T09:27:03.578Z"
   },
   {
    "duration": 200,
    "start_time": "2022-09-28T09:27:12.037Z"
   },
   {
    "duration": 127,
    "start_time": "2022-09-28T09:27:15.650Z"
   },
   {
    "duration": 125,
    "start_time": "2022-09-28T09:27:26.735Z"
   },
   {
    "duration": 13,
    "start_time": "2022-09-28T09:27:30.822Z"
   },
   {
    "duration": 6,
    "start_time": "2022-09-28T09:27:31.960Z"
   },
   {
    "duration": 6,
    "start_time": "2022-09-28T09:27:32.395Z"
   },
   {
    "duration": 34,
    "start_time": "2022-09-28T09:27:32.902Z"
   },
   {
    "duration": 6862,
    "start_time": "2022-09-28T09:38:30.930Z"
   },
   {
    "duration": 188,
    "start_time": "2022-09-28T09:38:37.795Z"
   },
   {
    "duration": 2933,
    "start_time": "2022-09-28T19:48:41.341Z"
   },
   {
    "duration": 2307,
    "start_time": "2022-09-28T19:48:46.675Z"
   },
   {
    "duration": 11,
    "start_time": "2022-09-28T19:48:48.985Z"
   },
   {
    "duration": 20,
    "start_time": "2022-09-28T19:48:48.997Z"
   },
   {
    "duration": 2,
    "start_time": "2022-09-28T19:48:51.852Z"
   },
   {
    "duration": 2096,
    "start_time": "2022-09-28T19:48:53.497Z"
   },
   {
    "duration": 129,
    "start_time": "2022-09-28T19:48:55.595Z"
   },
   {
    "duration": 4,
    "start_time": "2022-09-28T19:48:58.480Z"
   },
   {
    "duration": 1302,
    "start_time": "2022-09-28T19:48:58.920Z"
   },
   {
    "duration": 4,
    "start_time": "2022-09-28T19:49:00.224Z"
   },
   {
    "duration": 16,
    "start_time": "2022-09-28T19:49:00.230Z"
   },
   {
    "duration": 2,
    "start_time": "2022-09-28T19:49:01.665Z"
   },
   {
    "duration": 8,
    "start_time": "2022-09-28T19:49:03.456Z"
   },
   {
    "duration": 8,
    "start_time": "2022-09-28T19:49:03.784Z"
   },
   {
    "duration": 6,
    "start_time": "2022-09-28T19:49:05.411Z"
   },
   {
    "duration": 15,
    "start_time": "2022-09-28T19:49:06.553Z"
   },
   {
    "duration": 11,
    "start_time": "2022-09-28T19:49:07.350Z"
   },
   {
    "duration": 1010,
    "start_time": "2022-09-28T19:49:10.843Z"
   },
   {
    "duration": 3,
    "start_time": "2022-09-28T19:49:14.970Z"
   },
   {
    "duration": 3,
    "start_time": "2022-09-28T19:49:17.052Z"
   },
   {
    "duration": 17609,
    "start_time": "2022-09-28T19:49:17.501Z"
   },
   {
    "duration": 3,
    "start_time": "2022-09-28T19:49:35.112Z"
   },
   {
    "duration": 97,
    "start_time": "2022-09-28T19:49:35.117Z"
   },
   {
    "duration": 18292,
    "start_time": "2022-09-28T19:49:35.217Z"
   },
   {
    "duration": 32410,
    "start_time": "2022-09-28T19:49:53.512Z"
   },
   {
    "duration": 85,
    "start_time": "2022-09-28T19:50:25.924Z"
   },
   {
    "duration": 90,
    "start_time": "2022-09-28T19:50:26.020Z"
   },
   {
    "duration": 205,
    "start_time": "2022-09-28T19:50:26.112Z"
   },
   {
    "duration": 0,
    "start_time": "2022-09-28T19:50:26.318Z"
   },
   {
    "duration": 0,
    "start_time": "2022-09-28T19:50:26.319Z"
   },
   {
    "duration": 0,
    "start_time": "2022-09-28T19:50:26.320Z"
   },
   {
    "duration": 1138,
    "start_time": "2022-09-28T19:53:17.298Z"
   },
   {
    "duration": 3,
    "start_time": "2022-09-28T19:53:19.908Z"
   },
   {
    "duration": 1743,
    "start_time": "2022-09-28T19:53:22.532Z"
   },
   {
    "duration": 5,
    "start_time": "2022-09-28T19:53:27.835Z"
   },
   {
    "duration": 6,
    "start_time": "2022-09-28T19:53:29.713Z"
   },
   {
    "duration": 12764,
    "start_time": "2022-09-28T19:53:33.244Z"
   },
   {
    "duration": 121,
    "start_time": "2022-09-28T19:53:48.793Z"
   },
   {
    "duration": 10,
    "start_time": "2022-09-28T19:53:52.792Z"
   },
   {
    "duration": 6,
    "start_time": "2022-09-28T19:53:54.126Z"
   },
   {
    "duration": 5,
    "start_time": "2022-09-28T19:53:57.588Z"
   },
   {
    "duration": 70,
    "start_time": "2022-09-28T20:14:50.461Z"
   },
   {
    "duration": 6,
    "start_time": "2022-09-28T20:15:27.143Z"
   },
   {
    "duration": 2739,
    "start_time": "2022-09-28T20:15:36.023Z"
   },
   {
    "duration": 2605,
    "start_time": "2022-09-28T20:15:38.764Z"
   },
   {
    "duration": 10,
    "start_time": "2022-09-28T20:15:41.371Z"
   },
   {
    "duration": 17,
    "start_time": "2022-09-28T20:15:41.382Z"
   },
   {
    "duration": 14,
    "start_time": "2022-09-28T20:15:41.401Z"
   },
   {
    "duration": 2241,
    "start_time": "2022-09-28T20:15:41.416Z"
   },
   {
    "duration": 164,
    "start_time": "2022-09-28T20:15:43.659Z"
   },
   {
    "duration": 4,
    "start_time": "2022-09-28T20:15:43.825Z"
   },
   {
    "duration": 1391,
    "start_time": "2022-09-28T20:15:43.830Z"
   },
   {
    "duration": 4,
    "start_time": "2022-09-28T20:15:45.223Z"
   },
   {
    "duration": 13,
    "start_time": "2022-09-28T20:15:45.229Z"
   },
   {
    "duration": 3,
    "start_time": "2022-09-28T20:15:45.243Z"
   },
   {
    "duration": 15,
    "start_time": "2022-09-28T20:15:45.247Z"
   },
   {
    "duration": 7,
    "start_time": "2022-09-28T20:15:45.267Z"
   },
   {
    "duration": 8,
    "start_time": "2022-09-28T20:15:45.276Z"
   },
   {
    "duration": 37,
    "start_time": "2022-09-28T20:15:45.286Z"
   },
   {
    "duration": 13,
    "start_time": "2022-09-28T20:15:45.325Z"
   },
   {
    "duration": 1043,
    "start_time": "2022-09-28T20:15:45.340Z"
   },
   {
    "duration": 3,
    "start_time": "2022-09-28T20:15:46.385Z"
   },
   {
    "duration": 6,
    "start_time": "2022-09-28T20:15:46.389Z"
   },
   {
    "duration": 44733,
    "start_time": "2022-09-28T20:15:46.397Z"
   },
   {
    "duration": 10,
    "start_time": "2022-09-28T20:16:31.209Z"
   },
   {
    "duration": 109,
    "start_time": "2022-09-28T20:16:31.220Z"
   },
   {
    "duration": 53785,
    "start_time": "2022-09-28T20:16:31.331Z"
   },
   {
    "duration": 87606,
    "start_time": "2022-09-28T20:17:25.128Z"
   },
   {
    "duration": 1187,
    "start_time": "2022-09-28T20:18:52.814Z"
   },
   {
    "duration": 17,
    "start_time": "2022-09-28T20:18:54.002Z"
   },
   {
    "duration": 1855,
    "start_time": "2022-09-28T20:18:54.021Z"
   },
   {
    "duration": 4,
    "start_time": "2022-09-28T20:18:55.878Z"
   },
   {
    "duration": 10,
    "start_time": "2022-09-28T20:18:55.883Z"
   },
   {
    "duration": 13100,
    "start_time": "2022-09-28T20:18:55.895Z"
   },
   {
    "duration": 132,
    "start_time": "2022-09-28T20:19:08.997Z"
   },
   {
    "duration": 9,
    "start_time": "2022-09-28T20:19:09.131Z"
   },
   {
    "duration": 10,
    "start_time": "2022-09-28T20:19:09.142Z"
   },
   {
    "duration": 9,
    "start_time": "2022-09-28T20:19:09.153Z"
   },
   {
    "duration": 58,
    "start_time": "2022-09-28T20:19:36.112Z"
   },
   {
    "duration": 6,
    "start_time": "2022-09-28T20:20:21.974Z"
   },
   {
    "duration": 7,
    "start_time": "2022-09-28T20:21:58.770Z"
   },
   {
    "duration": 2501,
    "start_time": "2022-09-28T20:23:06.470Z"
   },
   {
    "duration": 133,
    "start_time": "2022-09-28T20:24:00.528Z"
   },
   {
    "duration": 14,
    "start_time": "2022-09-28T20:25:19.273Z"
   },
   {
    "duration": 5,
    "start_time": "2022-09-28T20:25:25.547Z"
   },
   {
    "duration": 2281,
    "start_time": "2022-09-28T20:25:26.214Z"
   },
   {
    "duration": 11,
    "start_time": "2022-09-28T20:25:28.497Z"
   },
   {
    "duration": 15,
    "start_time": "2022-09-28T20:25:28.509Z"
   },
   {
    "duration": 5,
    "start_time": "2022-09-28T20:25:28.526Z"
   },
   {
    "duration": 2075,
    "start_time": "2022-09-28T20:25:28.532Z"
   },
   {
    "duration": 140,
    "start_time": "2022-09-28T20:25:30.609Z"
   },
   {
    "duration": 3,
    "start_time": "2022-09-28T20:25:30.751Z"
   },
   {
    "duration": 1329,
    "start_time": "2022-09-28T20:25:30.757Z"
   },
   {
    "duration": 3,
    "start_time": "2022-09-28T20:25:33.435Z"
   },
   {
    "duration": 10,
    "start_time": "2022-09-28T20:25:34.240Z"
   },
   {
    "duration": 2,
    "start_time": "2022-09-28T20:25:34.604Z"
   },
   {
    "duration": 9,
    "start_time": "2022-09-28T20:25:38.827Z"
   },
   {
    "duration": 7,
    "start_time": "2022-09-28T20:25:39.954Z"
   },
   {
    "duration": 6,
    "start_time": "2022-09-28T20:25:41.723Z"
   },
   {
    "duration": 12,
    "start_time": "2022-09-28T20:25:43.018Z"
   },
   {
    "duration": 11,
    "start_time": "2022-09-28T20:25:43.743Z"
   },
   {
    "duration": 1002,
    "start_time": "2022-09-28T20:25:47.188Z"
   },
   {
    "duration": 3,
    "start_time": "2022-09-28T20:25:50.415Z"
   },
   {
    "duration": 3,
    "start_time": "2022-09-28T20:25:50.934Z"
   },
   {
    "duration": 19219,
    "start_time": "2022-09-28T20:25:52.191Z"
   },
   {
    "duration": 2,
    "start_time": "2022-09-28T20:26:12.426Z"
   },
   {
    "duration": 3,
    "start_time": "2022-09-28T20:26:12.759Z"
   },
   {
    "duration": 20715,
    "start_time": "2022-09-28T20:26:13.394Z"
   },
   {
    "duration": 37000,
    "start_time": "2022-09-28T20:26:34.112Z"
   },
   {
    "duration": 1170,
    "start_time": "2022-09-28T20:27:11.117Z"
   },
   {
    "duration": 3,
    "start_time": "2022-09-28T20:27:12.288Z"
   },
   {
    "duration": 1700,
    "start_time": "2022-09-28T20:27:12.294Z"
   },
   {
    "duration": 5,
    "start_time": "2022-09-28T20:27:13.996Z"
   },
   {
    "duration": 7,
    "start_time": "2022-09-28T20:27:14.009Z"
   },
   {
    "duration": 12749,
    "start_time": "2022-09-28T20:27:14.017Z"
   },
   {
    "duration": 117,
    "start_time": "2022-09-28T20:27:26.767Z"
   },
   {
    "duration": 9,
    "start_time": "2022-09-28T20:27:26.885Z"
   },
   {
    "duration": 13,
    "start_time": "2022-09-28T20:27:26.896Z"
   },
   {
    "duration": 5,
    "start_time": "2022-09-28T20:27:26.911Z"
   },
   {
    "duration": 215,
    "start_time": "2022-09-28T20:27:26.917Z"
   },
   {
    "duration": 38884,
    "start_time": "2022-09-28T20:28:20.837Z"
   },
   {
    "duration": 36651,
    "start_time": "2022-09-28T20:29:24.060Z"
   },
   {
    "duration": 41368,
    "start_time": "2022-09-28T20:30:28.845Z"
   },
   {
    "duration": 23722,
    "start_time": "2022-09-28T20:31:36.089Z"
   },
   {
    "duration": 31,
    "start_time": "2022-09-28T20:32:03.584Z"
   },
   {
    "duration": 7,
    "start_time": "2022-09-28T20:32:40.095Z"
   },
   {
    "duration": 8,
    "start_time": "2022-09-28T20:33:13.108Z"
   },
   {
    "duration": 12,
    "start_time": "2022-09-28T20:33:19.282Z"
   },
   {
    "duration": 4,
    "start_time": "2022-09-28T20:35:35.336Z"
   },
   {
    "duration": 5,
    "start_time": "2022-09-28T20:35:38.946Z"
   },
   {
    "duration": 11,
    "start_time": "2022-09-28T20:39:52.392Z"
   },
   {
    "duration": 9,
    "start_time": "2022-09-28T20:39:58.976Z"
   },
   {
    "duration": 10,
    "start_time": "2022-09-28T20:40:00.423Z"
   },
   {
    "duration": 12,
    "start_time": "2022-09-28T20:40:01.411Z"
   },
   {
    "duration": 1033,
    "start_time": "2022-09-28T20:40:06.087Z"
   },
   {
    "duration": 3,
    "start_time": "2022-09-28T20:40:33.224Z"
   },
   {
    "duration": 4,
    "start_time": "2022-09-28T20:40:33.676Z"
   },
   {
    "duration": 18976,
    "start_time": "2022-09-28T20:40:38.945Z"
   },
   {
    "duration": 19,
    "start_time": "2022-09-28T20:42:31.612Z"
   },
   {
    "duration": 2961,
    "start_time": "2022-09-29T08:19:18.042Z"
   },
   {
    "duration": 3020,
    "start_time": "2022-09-29T08:19:21.006Z"
   },
   {
    "duration": 14,
    "start_time": "2022-09-29T08:19:24.027Z"
   },
   {
    "duration": 33,
    "start_time": "2022-09-29T08:19:24.043Z"
   },
   {
    "duration": 3,
    "start_time": "2022-09-29T08:19:25.783Z"
   },
   {
    "duration": 1836,
    "start_time": "2022-09-29T08:19:25.958Z"
   },
   {
    "duration": 156,
    "start_time": "2022-09-29T08:19:27.796Z"
   },
   {
    "duration": 4,
    "start_time": "2022-09-29T08:19:27.953Z"
   },
   {
    "duration": 1122,
    "start_time": "2022-09-29T08:19:27.958Z"
   },
   {
    "duration": 3,
    "start_time": "2022-09-29T08:19:29.082Z"
   },
   {
    "duration": 41,
    "start_time": "2022-09-29T08:19:29.086Z"
   },
   {
    "duration": 3,
    "start_time": "2022-09-29T08:19:29.231Z"
   },
   {
    "duration": 10,
    "start_time": "2022-09-29T08:19:31.381Z"
   },
   {
    "duration": 7,
    "start_time": "2022-09-29T08:19:31.789Z"
   },
   {
    "duration": 5,
    "start_time": "2022-09-29T08:19:33.764Z"
   },
   {
    "duration": 13,
    "start_time": "2022-09-29T08:19:35.259Z"
   },
   {
    "duration": 10,
    "start_time": "2022-09-29T08:19:35.673Z"
   },
   {
    "duration": 925,
    "start_time": "2022-09-29T08:19:38.108Z"
   },
   {
    "duration": 3,
    "start_time": "2022-09-29T08:19:44.325Z"
   },
   {
    "duration": 2,
    "start_time": "2022-09-29T08:19:45.028Z"
   },
   {
    "duration": 21412,
    "start_time": "2022-09-29T08:19:46.614Z"
   },
   {
    "duration": 2,
    "start_time": "2022-09-29T08:20:10.150Z"
   },
   {
    "duration": 2,
    "start_time": "2022-09-29T08:20:10.540Z"
   },
   {
    "duration": 17543,
    "start_time": "2022-09-29T08:20:18.286Z"
   },
   {
    "duration": 40595,
    "start_time": "2022-09-29T08:20:35.831Z"
   },
   {
    "duration": 226,
    "start_time": "2022-09-29T08:21:16.430Z"
   },
   {
    "duration": 73,
    "start_time": "2022-09-29T08:21:19.537Z"
   },
   {
    "duration": 83,
    "start_time": "2022-09-29T08:21:27.728Z"
   },
   {
    "duration": 1017,
    "start_time": "2022-09-29T08:21:28.179Z"
   },
   {
    "duration": 3,
    "start_time": "2022-09-29T08:21:30.368Z"
   },
   {
    "duration": 1474,
    "start_time": "2022-09-29T08:21:32.929Z"
   },
   {
    "duration": 4,
    "start_time": "2022-09-29T08:21:35.206Z"
   },
   {
    "duration": 6,
    "start_time": "2022-09-29T08:21:35.616Z"
   },
   {
    "duration": 15356,
    "start_time": "2022-09-29T08:21:40.840Z"
   },
   {
    "duration": 107,
    "start_time": "2022-09-29T08:22:10.553Z"
   },
   {
    "duration": 8,
    "start_time": "2022-09-29T08:22:11.328Z"
   },
   {
    "duration": 4,
    "start_time": "2022-09-29T08:22:18.614Z"
   },
   {
    "duration": 4,
    "start_time": "2022-09-29T08:22:19.106Z"
   },
   {
    "duration": 4,
    "start_time": "2022-09-29T08:22:30.856Z"
   },
   {
    "duration": 6,
    "start_time": "2022-09-29T08:22:31.302Z"
   },
   {
    "duration": 7228,
    "start_time": "2022-09-29T08:22:33.757Z"
   },
   {
    "duration": 18,
    "start_time": "2022-09-29T08:22:40.987Z"
   },
   {
    "duration": 5,
    "start_time": "2022-09-29T08:22:42.780Z"
   },
   {
    "duration": 4,
    "start_time": "2022-09-29T08:22:44.083Z"
   },
   {
    "duration": 4,
    "start_time": "2022-09-29T08:22:44.676Z"
   },
   {
    "duration": 17754,
    "start_time": "2022-09-29T08:22:48.988Z"
   },
   {
    "duration": 4,
    "start_time": "2022-09-29T08:23:09.454Z"
   },
   {
    "duration": 629,
    "start_time": "2022-09-29T08:23:10.005Z"
   },
   {
    "duration": 265,
    "start_time": "2022-09-29T08:23:33.392Z"
   },
   {
    "duration": 692,
    "start_time": "2022-09-29T08:23:41.994Z"
   },
   {
    "duration": 4,
    "start_time": "2022-09-29T08:24:00.193Z"
   },
   {
    "duration": 23,
    "start_time": "2022-09-29T08:25:49.192Z"
   },
   {
    "duration": 34,
    "start_time": "2022-09-29T08:27:06.559Z"
   },
   {
    "duration": 15,
    "start_time": "2022-09-29T08:27:10.454Z"
   },
   {
    "duration": 33,
    "start_time": "2022-09-29T08:27:11.123Z"
   },
   {
    "duration": 5,
    "start_time": "2022-09-29T08:27:24.657Z"
   },
   {
    "duration": 4,
    "start_time": "2022-09-29T08:27:30.253Z"
   },
   {
    "duration": 4,
    "start_time": "2022-09-29T08:27:36.779Z"
   },
   {
    "duration": 4,
    "start_time": "2022-09-29T08:27:48.157Z"
   },
   {
    "duration": 3,
    "start_time": "2022-09-29T08:28:04.203Z"
   },
   {
    "duration": 9,
    "start_time": "2022-09-29T08:29:52.948Z"
   },
   {
    "duration": 633,
    "start_time": "2022-09-29T08:29:53.900Z"
   },
   {
    "duration": 11,
    "start_time": "2022-09-29T08:29:54.535Z"
   },
   {
    "duration": 7,
    "start_time": "2022-09-29T08:29:54.941Z"
   },
   {
    "duration": 3,
    "start_time": "2022-09-29T08:29:56.436Z"
   },
   {
    "duration": 1748,
    "start_time": "2022-09-29T08:29:56.659Z"
   },
   {
    "duration": 141,
    "start_time": "2022-09-29T08:29:58.409Z"
   },
   {
    "duration": 4,
    "start_time": "2022-09-29T08:29:59.083Z"
   },
   {
    "duration": 6,
    "start_time": "2022-09-29T08:29:59.326Z"
   },
   {
    "duration": 3,
    "start_time": "2022-09-29T08:29:59.557Z"
   },
   {
    "duration": 9,
    "start_time": "2022-09-29T08:30:00.003Z"
   },
   {
    "duration": 2,
    "start_time": "2022-09-29T08:30:00.309Z"
   },
   {
    "duration": 8,
    "start_time": "2022-09-29T08:30:02.091Z"
   },
   {
    "duration": 7,
    "start_time": "2022-09-29T08:30:02.443Z"
   },
   {
    "duration": 6,
    "start_time": "2022-09-29T08:30:04.771Z"
   },
   {
    "duration": 13,
    "start_time": "2022-09-29T08:30:06.019Z"
   },
   {
    "duration": 10,
    "start_time": "2022-09-29T08:30:06.485Z"
   },
   {
    "duration": 981,
    "start_time": "2022-09-29T08:30:08.124Z"
   },
   {
    "duration": 3,
    "start_time": "2022-09-29T08:30:10.787Z"
   },
   {
    "duration": 6,
    "start_time": "2022-09-29T08:30:12.868Z"
   },
   {
    "duration": 17094,
    "start_time": "2022-09-29T08:30:13.235Z"
   },
   {
    "duration": 93,
    "start_time": "2022-09-29T08:30:30.332Z"
   },
   {
    "duration": 111,
    "start_time": "2022-09-29T08:30:30.430Z"
   },
   {
    "duration": 16781,
    "start_time": "2022-09-29T08:30:30.543Z"
   },
   {
    "duration": 37697,
    "start_time": "2022-09-29T08:30:47.329Z"
   },
   {
    "duration": 164,
    "start_time": "2022-09-29T08:31:25.030Z"
   },
   {
    "duration": 1174,
    "start_time": "2022-09-29T08:31:25.196Z"
   },
   {
    "duration": 3,
    "start_time": "2022-09-29T08:31:26.372Z"
   },
   {
    "duration": 1560,
    "start_time": "2022-09-29T08:31:26.377Z"
   },
   {
    "duration": 4,
    "start_time": "2022-09-29T08:31:27.939Z"
   },
   {
    "duration": 11,
    "start_time": "2022-09-29T08:31:27.945Z"
   },
   {
    "duration": 6548,
    "start_time": "2022-09-29T08:31:27.957Z"
   },
   {
    "duration": 20,
    "start_time": "2022-09-29T08:31:34.507Z"
   },
   {
    "duration": 4,
    "start_time": "2022-09-29T08:32:01.941Z"
   },
   {
    "duration": 4,
    "start_time": "2022-09-29T08:32:02.586Z"
   },
   {
    "duration": 4,
    "start_time": "2022-09-29T08:32:03.501Z"
   },
   {
    "duration": 17308,
    "start_time": "2022-09-29T08:32:14.119Z"
   },
   {
    "duration": 4,
    "start_time": "2022-09-29T08:32:35.293Z"
   },
   {
    "duration": 4,
    "start_time": "2022-09-29T08:32:36.821Z"
   },
   {
    "duration": 92,
    "start_time": "2022-09-29T08:32:47.144Z"
   },
   {
    "duration": 4,
    "start_time": "2022-09-29T08:33:19.553Z"
   },
   {
    "duration": 6,
    "start_time": "2022-09-29T08:33:19.939Z"
   },
   {
    "duration": 72,
    "start_time": "2022-09-29T08:33:24.009Z"
   },
   {
    "duration": 10,
    "start_time": "2022-09-29T08:33:24.630Z"
   },
   {
    "duration": 5,
    "start_time": "2022-09-29T08:33:25.475Z"
   },
   {
    "duration": 5,
    "start_time": "2022-09-29T08:33:26.083Z"
   },
   {
    "duration": 106551,
    "start_time": "2022-09-29T08:33:26.589Z"
   },
   {
    "duration": 4,
    "start_time": "2022-09-29T08:35:21.103Z"
   },
   {
    "duration": 4,
    "start_time": "2022-09-29T08:35:25.519Z"
   },
   {
    "duration": 19890,
    "start_time": "2022-09-29T08:35:29.135Z"
   },
   {
    "duration": 43681,
    "start_time": "2022-09-29T08:38:06.849Z"
   },
   {
    "duration": 6,
    "start_time": "2022-09-29T08:38:58.028Z"
   },
   {
    "duration": 31212,
    "start_time": "2022-09-29T08:39:02.111Z"
   },
   {
    "duration": 6,
    "start_time": "2022-09-29T08:39:33.325Z"
   },
   {
    "duration": 25,
    "start_time": "2022-09-29T08:39:35.585Z"
   },
   {
    "duration": 4,
    "start_time": "2022-09-29T08:39:43.536Z"
   },
   {
    "duration": 5,
    "start_time": "2022-09-29T08:41:53.415Z"
   },
   {
    "duration": 33473,
    "start_time": "2022-09-29T08:41:53.751Z"
   },
   {
    "duration": 53,
    "start_time": "2022-09-29T21:37:26.049Z"
   },
   {
    "duration": 3216,
    "start_time": "2022-09-29T21:37:32.476Z"
   },
   {
    "duration": 2200,
    "start_time": "2022-09-29T21:37:35.694Z"
   },
   {
    "duration": 9,
    "start_time": "2022-09-29T21:37:37.895Z"
   },
   {
    "duration": 31,
    "start_time": "2022-09-29T21:37:37.906Z"
   },
   {
    "duration": 2,
    "start_time": "2022-09-29T21:37:40.164Z"
   },
   {
    "duration": 2346,
    "start_time": "2022-09-29T21:37:40.451Z"
   },
   {
    "duration": 133,
    "start_time": "2022-09-29T21:37:42.799Z"
   },
   {
    "duration": 3,
    "start_time": "2022-09-29T21:37:42.934Z"
   },
   {
    "duration": 1373,
    "start_time": "2022-09-29T21:37:44.211Z"
   },
   {
    "duration": 3,
    "start_time": "2022-09-29T21:37:45.586Z"
   },
   {
    "duration": 18,
    "start_time": "2022-09-29T21:37:45.591Z"
   },
   {
    "duration": 2,
    "start_time": "2022-09-29T21:37:45.611Z"
   },
   {
    "duration": 10,
    "start_time": "2022-09-29T21:37:48.406Z"
   },
   {
    "duration": 8,
    "start_time": "2022-09-29T21:37:48.996Z"
   },
   {
    "duration": 6,
    "start_time": "2022-09-29T21:37:51.067Z"
   },
   {
    "duration": 15,
    "start_time": "2022-09-29T21:37:52.568Z"
   },
   {
    "duration": 10,
    "start_time": "2022-09-29T21:37:53.093Z"
   },
   {
    "duration": 1015,
    "start_time": "2022-09-29T21:37:54.620Z"
   },
   {
    "duration": 3,
    "start_time": "2022-09-29T21:37:57.297Z"
   },
   {
    "duration": 3,
    "start_time": "2022-09-29T21:37:57.844Z"
   },
   {
    "duration": 20216,
    "start_time": "2022-09-29T21:37:58.500Z"
   },
   {
    "duration": 3,
    "start_time": "2022-09-29T21:38:19.952Z"
   },
   {
    "duration": 2,
    "start_time": "2022-09-29T21:38:20.288Z"
   },
   {
    "duration": 23343,
    "start_time": "2022-09-29T21:38:20.967Z"
   },
   {
    "duration": 38397,
    "start_time": "2022-09-29T21:38:44.314Z"
   },
   {
    "duration": 210,
    "start_time": "2022-09-29T21:39:22.713Z"
   },
   {
    "duration": 1095,
    "start_time": "2022-09-29T21:39:26.045Z"
   },
   {
    "duration": 2,
    "start_time": "2022-09-29T21:39:27.143Z"
   },
   {
    "duration": 1805,
    "start_time": "2022-09-29T21:39:27.862Z"
   },
   {
    "duration": 3,
    "start_time": "2022-09-29T21:39:31.772Z"
   },
   {
    "duration": 41679,
    "start_time": "2022-09-29T21:39:37.431Z"
   },
   {
    "duration": 79,
    "start_time": "2022-09-29T21:40:21.846Z"
   },
   {
    "duration": 2872,
    "start_time": "2022-10-01T18:08:03.234Z"
   },
   {
    "duration": 2224,
    "start_time": "2022-10-01T18:08:09.453Z"
   },
   {
    "duration": 12,
    "start_time": "2022-10-01T18:08:11.679Z"
   },
   {
    "duration": 15,
    "start_time": "2022-10-01T18:08:11.693Z"
   },
   {
    "duration": 3,
    "start_time": "2022-10-01T18:08:23.324Z"
   },
   {
    "duration": 1910,
    "start_time": "2022-10-01T18:08:24.052Z"
   },
   {
    "duration": 168,
    "start_time": "2022-10-01T18:08:34.568Z"
   },
   {
    "duration": 3,
    "start_time": "2022-10-01T18:08:35.532Z"
   },
   {
    "duration": 1273,
    "start_time": "2022-10-01T18:08:50.591Z"
   },
   {
    "duration": 3,
    "start_time": "2022-10-01T18:08:56.893Z"
   },
   {
    "duration": 9,
    "start_time": "2022-10-01T18:08:57.319Z"
   },
   {
    "duration": 2,
    "start_time": "2022-10-01T18:08:57.757Z"
   },
   {
    "duration": 9,
    "start_time": "2022-10-01T18:09:00.484Z"
   },
   {
    "duration": 7,
    "start_time": "2022-10-01T18:09:01.024Z"
   },
   {
    "duration": 6,
    "start_time": "2022-10-01T18:09:03.556Z"
   },
   {
    "duration": 12,
    "start_time": "2022-10-01T18:09:04.804Z"
   },
   {
    "duration": 11,
    "start_time": "2022-10-01T18:09:05.320Z"
   },
   {
    "duration": 1035,
    "start_time": "2022-10-01T18:09:07.203Z"
   },
   {
    "duration": 2,
    "start_time": "2022-10-01T18:09:17.189Z"
   },
   {
    "duration": 3,
    "start_time": "2022-10-01T18:09:17.835Z"
   },
   {
    "duration": 21054,
    "start_time": "2022-10-01T18:09:20.281Z"
   },
   {
    "duration": 92,
    "start_time": "2022-10-01T18:09:41.342Z"
   },
   {
    "duration": 8,
    "start_time": "2022-10-01T18:09:41.436Z"
   },
   {
    "duration": 23193,
    "start_time": "2022-10-01T18:09:41.446Z"
   },
   {
    "duration": 52491,
    "start_time": "2022-10-01T18:10:04.643Z"
   },
   {
    "duration": 163,
    "start_time": "2022-10-01T18:10:57.143Z"
   },
   {
    "duration": 1121,
    "start_time": "2022-10-01T18:10:57.308Z"
   },
   {
    "duration": 3,
    "start_time": "2022-10-01T18:10:58.431Z"
   },
   {
    "duration": 1606,
    "start_time": "2022-10-01T18:10:58.436Z"
   },
   {
    "duration": 46095,
    "start_time": "2022-10-01T18:11:00.043Z"
   },
   {
    "duration": 56,
    "start_time": "2022-10-01T18:21:27.216Z"
   },
   {
    "duration": 5,
    "start_time": "2022-10-01T18:21:38.905Z"
   },
   {
    "duration": 0,
    "start_time": "2022-10-01T18:22:42.533Z"
   },
   {
    "duration": 2868858,
    "start_time": "2022-10-01T18:52:35.242Z"
   },
   {
    "duration": 2919,
    "start_time": "2022-10-02T08:54:24.329Z"
   },
   {
    "duration": 2263,
    "start_time": "2022-10-02T08:54:27.457Z"
   },
   {
    "duration": 15,
    "start_time": "2022-10-02T08:54:29.723Z"
   },
   {
    "duration": 14,
    "start_time": "2022-10-02T08:54:32.217Z"
   },
   {
    "duration": 3,
    "start_time": "2022-10-02T08:54:33.982Z"
   },
   {
    "duration": 2048,
    "start_time": "2022-10-02T08:54:34.178Z"
   },
   {
    "duration": 158,
    "start_time": "2022-10-02T08:54:36.228Z"
   },
   {
    "duration": 4,
    "start_time": "2022-10-02T08:54:38.590Z"
   },
   {
    "duration": 1257,
    "start_time": "2022-10-02T08:54:39.016Z"
   },
   {
    "duration": 3,
    "start_time": "2022-10-02T08:54:40.276Z"
   },
   {
    "duration": 17,
    "start_time": "2022-10-02T08:54:40.281Z"
   },
   {
    "duration": 2,
    "start_time": "2022-10-02T08:54:40.959Z"
   },
   {
    "duration": 9,
    "start_time": "2022-10-02T08:54:44.512Z"
   },
   {
    "duration": 7,
    "start_time": "2022-10-02T08:54:45.026Z"
   },
   {
    "duration": 7,
    "start_time": "2022-10-02T08:54:47.390Z"
   },
   {
    "duration": 14,
    "start_time": "2022-10-02T08:54:48.704Z"
   },
   {
    "duration": 11,
    "start_time": "2022-10-02T08:54:49.135Z"
   },
   {
    "duration": 1028,
    "start_time": "2022-10-02T08:54:50.752Z"
   },
   {
    "duration": 3,
    "start_time": "2022-10-02T08:54:53.615Z"
   },
   {
    "duration": 3,
    "start_time": "2022-10-02T08:54:54.207Z"
   },
   {
    "duration": 21530,
    "start_time": "2022-10-02T08:54:54.751Z"
   },
   {
    "duration": 91,
    "start_time": "2022-10-02T08:55:16.287Z"
   },
   {
    "duration": 17,
    "start_time": "2022-10-02T08:55:16.380Z"
   },
   {
    "duration": 24987,
    "start_time": "2022-10-02T08:55:16.399Z"
   },
   {
    "duration": 34402,
    "start_time": "2022-10-02T08:55:41.477Z"
   },
   {
    "duration": 231,
    "start_time": "2022-10-02T08:56:15.883Z"
   },
   {
    "duration": 1175,
    "start_time": "2022-10-02T08:56:16.115Z"
   },
   {
    "duration": 3,
    "start_time": "2022-10-02T08:56:17.292Z"
   },
   {
    "duration": 1778,
    "start_time": "2022-10-02T08:56:17.297Z"
   },
   {
    "duration": 4,
    "start_time": "2022-10-02T08:56:19.077Z"
   },
   {
    "duration": 8,
    "start_time": "2022-10-02T08:56:19.082Z"
   },
   {
    "duration": 0,
    "start_time": "2022-10-02T09:02:45.562Z"
   },
   {
    "duration": 82353,
    "start_time": "2022-10-02T09:02:47.825Z"
   },
   {
    "duration": 0,
    "start_time": "2022-10-02T09:06:52.287Z"
   },
   {
    "duration": 2640,
    "start_time": "2022-10-02T09:08:26.521Z"
   },
   {
    "duration": 746,
    "start_time": "2022-10-02T09:08:29.164Z"
   },
   {
    "duration": 11,
    "start_time": "2022-10-02T09:08:29.911Z"
   },
   {
    "duration": 15,
    "start_time": "2022-10-02T09:08:29.924Z"
   },
   {
    "duration": 3,
    "start_time": "2022-10-02T09:08:31.740Z"
   },
   {
    "duration": 2027,
    "start_time": "2022-10-02T09:08:32.049Z"
   },
   {
    "duration": 182,
    "start_time": "2022-10-02T09:08:34.078Z"
   },
   {
    "duration": 4,
    "start_time": "2022-10-02T09:08:34.262Z"
   },
   {
    "duration": 1362,
    "start_time": "2022-10-02T09:08:34.268Z"
   },
   {
    "duration": 4,
    "start_time": "2022-10-02T09:08:35.632Z"
   },
   {
    "duration": 12,
    "start_time": "2022-10-02T09:08:35.638Z"
   },
   {
    "duration": 4,
    "start_time": "2022-10-02T09:08:35.652Z"
   },
   {
    "duration": 22,
    "start_time": "2022-10-02T09:08:35.658Z"
   },
   {
    "duration": 15,
    "start_time": "2022-10-02T09:08:35.681Z"
   },
   {
    "duration": 7,
    "start_time": "2022-10-02T09:08:35.816Z"
   },
   {
    "duration": 13,
    "start_time": "2022-10-02T09:08:36.306Z"
   },
   {
    "duration": 11,
    "start_time": "2022-10-02T09:08:36.489Z"
   },
   {
    "duration": 1093,
    "start_time": "2022-10-02T09:08:37.201Z"
   },
   {
    "duration": 3,
    "start_time": "2022-10-02T09:08:38.296Z"
   },
   {
    "duration": 3,
    "start_time": "2022-10-02T09:08:38.361Z"
   },
   {
    "duration": 17720,
    "start_time": "2022-10-02T09:08:38.857Z"
   },
   {
    "duration": 3,
    "start_time": "2022-10-02T09:08:56.580Z"
   },
   {
    "duration": 104,
    "start_time": "2022-10-02T09:08:56.585Z"
   },
   {
    "duration": 18492,
    "start_time": "2022-10-02T09:08:56.692Z"
   },
   {
    "duration": 43305,
    "start_time": "2022-10-02T09:09:15.282Z"
   },
   {
    "duration": 167,
    "start_time": "2022-10-02T09:09:58.682Z"
   },
   {
    "duration": 1190,
    "start_time": "2022-10-02T09:09:58.851Z"
   },
   {
    "duration": 3,
    "start_time": "2022-10-02T09:10:00.043Z"
   },
   {
    "duration": 1827,
    "start_time": "2022-10-02T09:10:00.047Z"
   },
   {
    "duration": 157,
    "start_time": "2022-10-02T09:10:01.877Z"
   },
   {
    "duration": 0,
    "start_time": "2022-10-02T09:10:02.036Z"
   },
   {
    "duration": 45214,
    "start_time": "2022-10-02T09:10:11.741Z"
   },
   {
    "duration": 75129,
    "start_time": "2022-10-02T09:10:58.877Z"
   },
   {
    "duration": 6,
    "start_time": "2022-10-02T09:12:17.710Z"
   },
   {
    "duration": 89796,
    "start_time": "2022-10-02T09:15:01.487Z"
   },
   {
    "duration": 80,
    "start_time": "2022-10-02T09:18:12.260Z"
   },
   {
    "duration": 4,
    "start_time": "2022-10-02T09:19:30.593Z"
   },
   {
    "duration": 69250,
    "start_time": "2022-10-02T09:19:34.929Z"
   },
   {
    "duration": 98,
    "start_time": "2022-10-02T09:20:44.181Z"
   },
   {
    "duration": 5,
    "start_time": "2022-10-02T09:22:28.788Z"
   },
   {
    "duration": 97876,
    "start_time": "2022-10-02T09:22:29.604Z"
   },
   {
    "duration": 4,
    "start_time": "2022-10-02T09:47:58.020Z"
   },
   {
    "duration": 53300,
    "start_time": "2022-10-02T09:48:02.878Z"
   },
   {
    "duration": 87,
    "start_time": "2022-10-02T09:48:59.569Z"
   },
   {
    "duration": 4,
    "start_time": "2022-10-02T09:50:04.741Z"
   },
   {
    "duration": 3,
    "start_time": "2022-10-02T09:51:09.495Z"
   },
   {
    "duration": 59,
    "start_time": "2022-10-02T09:52:03.174Z"
   },
   {
    "duration": 5,
    "start_time": "2022-10-02T09:52:09.749Z"
   },
   {
    "duration": 2028,
    "start_time": "2022-10-02T09:52:28.217Z"
   },
   {
    "duration": 15,
    "start_time": "2022-10-02T09:52:50.342Z"
   },
   {
    "duration": 4,
    "start_time": "2022-10-02T09:53:08.669Z"
   },
   {
    "duration": 1355,
    "start_time": "2022-10-02T09:53:11.087Z"
   },
   {
    "duration": 3,
    "start_time": "2022-10-02T09:53:14.629Z"
   },
   {
    "duration": 86,
    "start_time": "2022-10-02T09:53:28.508Z"
   },
   {
    "duration": 4784,
    "start_time": "2022-10-02T09:53:33.048Z"
   },
   {
    "duration": 3,
    "start_time": "2022-10-02T09:53:41.398Z"
   },
   {
    "duration": 88,
    "start_time": "2022-10-02T09:53:47.614Z"
   },
   {
    "duration": 80,
    "start_time": "2022-10-02T09:53:51.425Z"
   },
   {
    "duration": 4,
    "start_time": "2022-10-02T09:54:22.765Z"
   },
   {
    "duration": 12253,
    "start_time": "2022-10-02T09:54:23.457Z"
   },
   {
    "duration": 4,
    "start_time": "2022-10-02T09:54:45.739Z"
   },
   {
    "duration": 85,
    "start_time": "2022-10-02T09:54:50.003Z"
   },
   {
    "duration": 6,
    "start_time": "2022-10-02T09:55:25.336Z"
   },
   {
    "duration": 3418,
    "start_time": "2022-10-02T09:55:25.842Z"
   },
   {
    "duration": 3,
    "start_time": "2022-10-02T09:55:30.911Z"
   },
   {
    "duration": 85,
    "start_time": "2022-10-02T09:55:32.355Z"
   },
   {
    "duration": 14,
    "start_time": "2022-10-02T09:55:38.376Z"
   },
   {
    "duration": 4,
    "start_time": "2022-10-02T09:55:43.266Z"
   },
   {
    "duration": 1842,
    "start_time": "2022-10-02T09:55:43.885Z"
   },
   {
    "duration": 4,
    "start_time": "2022-10-02T09:55:47.660Z"
   },
   {
    "duration": 79,
    "start_time": "2022-10-02T09:55:49.265Z"
   },
   {
    "duration": 4,
    "start_time": "2022-10-02T09:55:54.124Z"
   },
   {
    "duration": 2194,
    "start_time": "2022-10-02T09:55:54.636Z"
   },
   {
    "duration": 4,
    "start_time": "2022-10-02T09:55:58.168Z"
   },
   {
    "duration": 85,
    "start_time": "2022-10-02T09:55:58.826Z"
   },
   {
    "duration": 4,
    "start_time": "2022-10-02T09:56:04.187Z"
   },
   {
    "duration": 2043,
    "start_time": "2022-10-02T09:56:04.997Z"
   },
   {
    "duration": 3,
    "start_time": "2022-10-02T09:56:09.074Z"
   },
   {
    "duration": 81,
    "start_time": "2022-10-02T09:56:10.333Z"
   },
   {
    "duration": 4,
    "start_time": "2022-10-02T09:56:17.252Z"
   },
   {
    "duration": 2322,
    "start_time": "2022-10-02T09:56:18.828Z"
   },
   {
    "duration": 3,
    "start_time": "2022-10-02T09:56:22.731Z"
   },
   {
    "duration": 81,
    "start_time": "2022-10-02T09:56:23.935Z"
   },
   {
    "duration": 4,
    "start_time": "2022-10-02T09:56:35.521Z"
   },
   {
    "duration": 110945,
    "start_time": "2022-10-02T09:56:36.031Z"
   },
   {
    "duration": 4,
    "start_time": "2022-10-02T09:58:33.143Z"
   },
   {
    "duration": 1418,
    "start_time": "2022-10-02T09:58:34.911Z"
   },
   {
    "duration": 57,
    "start_time": "2022-10-02T10:00:00.421Z"
   },
   {
    "duration": 4,
    "start_time": "2022-10-02T10:00:04.865Z"
   },
   {
    "duration": 90057,
    "start_time": "2022-10-02T10:00:19.403Z"
   },
   {
    "duration": 4,
    "start_time": "2022-10-02T10:01:53.153Z"
   },
   {
    "duration": 92,
    "start_time": "2022-10-02T10:01:54.530Z"
   },
   {
    "duration": 4,
    "start_time": "2022-10-02T10:02:48.047Z"
   },
   {
    "duration": 2325,
    "start_time": "2022-10-02T10:02:48.900Z"
   },
   {
    "duration": 3,
    "start_time": "2022-10-02T10:02:53.610Z"
   },
   {
    "duration": 87,
    "start_time": "2022-10-02T10:02:54.605Z"
   },
   {
    "duration": 743,
    "start_time": "2022-10-02T10:03:20.829Z"
   },
   {
    "duration": 14,
    "start_time": "2022-10-02T10:03:21.667Z"
   },
   {
    "duration": 7,
    "start_time": "2022-10-02T10:03:22.057Z"
   },
   {
    "duration": 3,
    "start_time": "2022-10-02T10:03:24.781Z"
   },
   {
    "duration": 2140,
    "start_time": "2022-10-02T10:03:25.158Z"
   },
   {
    "duration": 181,
    "start_time": "2022-10-02T10:03:27.301Z"
   },
   {
    "duration": 5,
    "start_time": "2022-10-02T10:03:27.484Z"
   },
   {
    "duration": 8,
    "start_time": "2022-10-02T10:03:28.941Z"
   },
   {
    "duration": 3,
    "start_time": "2022-10-02T10:03:29.965Z"
   },
   {
    "duration": 10,
    "start_time": "2022-10-02T10:03:30.402Z"
   },
   {
    "duration": 705,
    "start_time": "2022-10-02T10:03:43.040Z"
   },
   {
    "duration": 9,
    "start_time": "2022-10-02T10:03:43.747Z"
   },
   {
    "duration": 9,
    "start_time": "2022-10-02T10:03:43.757Z"
   },
   {
    "duration": 13,
    "start_time": "2022-10-02T10:03:44.351Z"
   },
   {
    "duration": 8,
    "start_time": "2022-10-02T10:03:47.282Z"
   },
   {
    "duration": 3,
    "start_time": "2022-10-02T10:03:50.544Z"
   },
   {
    "duration": 423,
    "start_time": "2022-10-02T10:03:50.765Z"
   },
   {
    "duration": 31,
    "start_time": "2022-10-02T10:03:51.190Z"
   },
   {
    "duration": 4,
    "start_time": "2022-10-02T10:03:51.645Z"
   },
   {
    "duration": 7,
    "start_time": "2022-10-02T10:03:52.365Z"
   },
   {
    "duration": 4,
    "start_time": "2022-10-02T10:03:53.577Z"
   },
   {
    "duration": 5,
    "start_time": "2022-10-02T10:03:53.945Z"
   },
   {
    "duration": 113836,
    "start_time": "2022-10-02T10:03:57.014Z"
   },
   {
    "duration": 725,
    "start_time": "2022-10-02T10:05:57.875Z"
   },
   {
    "duration": 10,
    "start_time": "2022-10-02T10:05:58.602Z"
   },
   {
    "duration": 20,
    "start_time": "2022-10-02T10:05:59.480Z"
   },
   {
    "duration": 7,
    "start_time": "2022-10-02T10:06:00.020Z"
   },
   {
    "duration": 3,
    "start_time": "2022-10-02T10:06:02.611Z"
   },
   {
    "duration": 129,
    "start_time": "2022-10-02T10:06:02.683Z"
   },
   {
    "duration": 14,
    "start_time": "2022-10-02T10:06:02.894Z"
   },
   {
    "duration": 4,
    "start_time": "2022-10-02T10:06:03.868Z"
   },
   {
    "duration": 6,
    "start_time": "2022-10-02T10:06:04.280Z"
   },
   {
    "duration": 4,
    "start_time": "2022-10-02T10:06:04.942Z"
   },
   {
    "duration": 7,
    "start_time": "2022-10-02T10:06:05.604Z"
   },
   {
    "duration": 67305,
    "start_time": "2022-10-02T10:06:06.439Z"
   },
   {
    "duration": 8,
    "start_time": "2022-10-02T10:09:05.141Z"
   },
   {
    "duration": 6,
    "start_time": "2022-10-02T10:09:13.594Z"
   },
   {
    "duration": 12,
    "start_time": "2022-10-02T10:09:24.672Z"
   },
   {
    "duration": 11,
    "start_time": "2022-10-02T10:09:25.603Z"
   },
   {
    "duration": 1016,
    "start_time": "2022-10-02T10:09:27.732Z"
   },
   {
    "duration": 5,
    "start_time": "2022-10-02T10:10:06.787Z"
   },
   {
    "duration": 2196,
    "start_time": "2022-10-02T10:10:08.392Z"
   },
   {
    "duration": 3,
    "start_time": "2022-10-02T10:10:13.414Z"
   },
   {
    "duration": 82,
    "start_time": "2022-10-02T10:10:16.025Z"
   },
   {
    "duration": 691,
    "start_time": "2022-10-02T10:10:37.999Z"
   },
   {
    "duration": 13,
    "start_time": "2022-10-02T10:10:38.692Z"
   },
   {
    "duration": 31,
    "start_time": "2022-10-02T10:10:38.707Z"
   },
   {
    "duration": 8,
    "start_time": "2022-10-02T10:10:39.144Z"
   },
   {
    "duration": 4,
    "start_time": "2022-10-02T10:10:43.245Z"
   },
   {
    "duration": 426,
    "start_time": "2022-10-02T10:10:43.620Z"
   },
   {
    "duration": 35,
    "start_time": "2022-10-02T10:10:44.048Z"
   },
   {
    "duration": 4,
    "start_time": "2022-10-02T10:10:46.179Z"
   },
   {
    "duration": 7,
    "start_time": "2022-10-02T10:10:47.403Z"
   },
   {
    "duration": 4,
    "start_time": "2022-10-02T10:10:48.224Z"
   },
   {
    "duration": 6,
    "start_time": "2022-10-02T10:10:48.880Z"
   },
   {
    "duration": 208636,
    "start_time": "2022-10-02T10:10:49.433Z"
   },
   {
    "duration": 11,
    "start_time": "2022-10-02T10:14:18.072Z"
   },
   {
    "duration": 20,
    "start_time": "2022-10-02T10:14:18.085Z"
   },
   {
    "duration": 27,
    "start_time": "2022-10-02T10:14:18.108Z"
   },
   {
    "duration": 24,
    "start_time": "2022-10-02T10:14:18.137Z"
   },
   {
    "duration": 2235,
    "start_time": "2022-10-02T10:14:18.162Z"
   },
   {
    "duration": 4,
    "start_time": "2022-10-02T10:14:20.399Z"
   },
   {
    "duration": 6723,
    "start_time": "2022-10-02T10:14:20.405Z"
   },
   {
    "duration": 3,
    "start_time": "2022-10-02T10:14:27.130Z"
   },
   {
    "duration": 252,
    "start_time": "2022-10-02T10:14:27.135Z"
   },
   {
    "duration": 5,
    "start_time": "2022-10-02T10:15:45.596Z"
   },
   {
    "duration": 12957,
    "start_time": "2022-10-02T10:15:46.065Z"
   },
   {
    "duration": 3,
    "start_time": "2022-10-02T10:15:59.024Z"
   },
   {
    "duration": 255,
    "start_time": "2022-10-02T10:15:59.029Z"
   },
   {
    "duration": 5,
    "start_time": "2022-10-02T10:17:45.533Z"
   },
   {
    "duration": 5317,
    "start_time": "2022-10-02T10:17:46.000Z"
   },
   {
    "duration": 4,
    "start_time": "2022-10-02T10:17:51.319Z"
   },
   {
    "duration": 253,
    "start_time": "2022-10-02T10:17:51.324Z"
   },
   {
    "duration": 5,
    "start_time": "2022-10-02T10:21:17.045Z"
   },
   {
    "duration": 5252,
    "start_time": "2022-10-02T10:21:17.629Z"
   },
   {
    "duration": 4,
    "start_time": "2022-10-02T10:21:22.883Z"
   },
   {
    "duration": 249,
    "start_time": "2022-10-02T10:21:22.889Z"
   },
   {
    "duration": 4,
    "start_time": "2022-10-02T10:21:38.262Z"
   },
   {
    "duration": 5275,
    "start_time": "2022-10-02T10:21:38.668Z"
   },
   {
    "duration": 4,
    "start_time": "2022-10-02T10:21:43.945Z"
   },
   {
    "duration": 250,
    "start_time": "2022-10-02T10:21:43.951Z"
   }
  ],
  "colab": {
   "collapsed_sections": [],
   "provenance": []
  },
  "kernelspec": {
   "display_name": "Python 3 (ipykernel)",
   "language": "python",
   "name": "python3"
  },
  "language_info": {
   "codemirror_mode": {
    "name": "ipython",
    "version": 3
   },
   "file_extension": ".py",
   "mimetype": "text/x-python",
   "name": "python",
   "nbconvert_exporter": "python",
   "pygments_lexer": "ipython3",
   "version": "3.9.7"
  },
  "toc": {
   "base_numbering": 1,
   "nav_menu": {},
   "number_sections": true,
   "sideBar": true,
   "skip_h1_title": true,
   "title_cell": "Table of Contents",
   "title_sidebar": "Contents",
   "toc_cell": false,
   "toc_position": {},
   "toc_section_display": true,
   "toc_window_display": false
  },
  "widgets": {
   "application/vnd.jupyter.widget-state+json": {
    "084d54b59a1c491c8f3abe0bf814c7dd": {
     "model_module": "@jupyter-widgets/base",
     "model_module_version": "1.2.0",
     "model_name": "LayoutModel",
     "state": {
      "_model_module": "@jupyter-widgets/base",
      "_model_module_version": "1.2.0",
      "_model_name": "LayoutModel",
      "_view_count": null,
      "_view_module": "@jupyter-widgets/base",
      "_view_module_version": "1.2.0",
      "_view_name": "LayoutView",
      "align_content": null,
      "align_items": null,
      "align_self": null,
      "border": null,
      "bottom": null,
      "display": null,
      "flex": null,
      "flex_flow": null,
      "grid_area": null,
      "grid_auto_columns": null,
      "grid_auto_flow": null,
      "grid_auto_rows": null,
      "grid_column": null,
      "grid_gap": null,
      "grid_row": null,
      "grid_template_areas": null,
      "grid_template_columns": null,
      "grid_template_rows": null,
      "height": null,
      "justify_content": null,
      "justify_items": null,
      "left": null,
      "margin": null,
      "max_height": null,
      "max_width": null,
      "min_height": null,
      "min_width": null,
      "object_fit": null,
      "object_position": null,
      "order": null,
      "overflow": null,
      "overflow_x": null,
      "overflow_y": null,
      "padding": null,
      "right": null,
      "top": null,
      "visibility": null,
      "width": null
     }
    },
    "5d059af8420f453d93251bb3a02a7c89": {
     "model_module": "@jupyter-widgets/controls",
     "model_module_version": "1.5.0",
     "model_name": "HBoxModel",
     "state": {
      "_dom_classes": [],
      "_model_module": "@jupyter-widgets/controls",
      "_model_module_version": "1.5.0",
      "_model_name": "HBoxModel",
      "_view_count": null,
      "_view_module": "@jupyter-widgets/controls",
      "_view_module_version": "1.5.0",
      "_view_name": "HBoxView",
      "box_style": "",
      "children": [
       "IPY_MODEL_d5db8113f722486baf494e72526ee17b",
       "IPY_MODEL_be842df4ab304f40b2a3df556a858002",
       "IPY_MODEL_ba557235bfcd494c993411b1e811780e"
      ],
      "layout": "IPY_MODEL_8cb940225aa041939ce79368286f461d"
     }
    },
    "85223c4d43464a1a8fcea416f31e35d5": {
     "model_module": "@jupyter-widgets/controls",
     "model_module_version": "1.5.0",
     "model_name": "ProgressStyleModel",
     "state": {
      "_model_module": "@jupyter-widgets/controls",
      "_model_module_version": "1.5.0",
      "_model_name": "ProgressStyleModel",
      "_view_count": null,
      "_view_module": "@jupyter-widgets/base",
      "_view_module_version": "1.2.0",
      "_view_name": "StyleView",
      "bar_color": null,
      "description_width": ""
     }
    },
    "89e451f6cf604e8a8246da76b41a116e": {
     "model_module": "@jupyter-widgets/controls",
     "model_module_version": "1.5.0",
     "model_name": "DescriptionStyleModel",
     "state": {
      "_model_module": "@jupyter-widgets/controls",
      "_model_module_version": "1.5.0",
      "_model_name": "DescriptionStyleModel",
      "_view_count": null,
      "_view_module": "@jupyter-widgets/base",
      "_view_module_version": "1.2.0",
      "_view_name": "StyleView",
      "description_width": ""
     }
    },
    "8cb940225aa041939ce79368286f461d": {
     "model_module": "@jupyter-widgets/base",
     "model_module_version": "1.2.0",
     "model_name": "LayoutModel",
     "state": {
      "_model_module": "@jupyter-widgets/base",
      "_model_module_version": "1.2.0",
      "_model_name": "LayoutModel",
      "_view_count": null,
      "_view_module": "@jupyter-widgets/base",
      "_view_module_version": "1.2.0",
      "_view_name": "LayoutView",
      "align_content": null,
      "align_items": null,
      "align_self": null,
      "border": null,
      "bottom": null,
      "display": null,
      "flex": null,
      "flex_flow": null,
      "grid_area": null,
      "grid_auto_columns": null,
      "grid_auto_flow": null,
      "grid_auto_rows": null,
      "grid_column": null,
      "grid_gap": null,
      "grid_row": null,
      "grid_template_areas": null,
      "grid_template_columns": null,
      "grid_template_rows": null,
      "height": null,
      "justify_content": null,
      "justify_items": null,
      "left": null,
      "margin": null,
      "max_height": null,
      "max_width": null,
      "min_height": null,
      "min_width": null,
      "object_fit": null,
      "object_position": null,
      "order": null,
      "overflow": null,
      "overflow_x": null,
      "overflow_y": null,
      "padding": null,
      "right": null,
      "top": null,
      "visibility": null,
      "width": null
     }
    },
    "ba557235bfcd494c993411b1e811780e": {
     "model_module": "@jupyter-widgets/controls",
     "model_module_version": "1.5.0",
     "model_name": "HTMLModel",
     "state": {
      "_dom_classes": [],
      "_model_module": "@jupyter-widgets/controls",
      "_model_module_version": "1.5.0",
      "_model_name": "HTMLModel",
      "_view_count": null,
      "_view_module": "@jupyter-widgets/controls",
      "_view_module_version": "1.5.0",
      "_view_name": "HTMLView",
      "description": "",
      "description_tooltip": null,
      "layout": "IPY_MODEL_eaf1e57e1eaa438aa07362dba73d7d90",
      "placeholder": "​",
      "style": "IPY_MODEL_89e451f6cf604e8a8246da76b41a116e",
      "value": " 500/500 [32:32&lt;00:00,  3.84s/it]"
     }
    },
    "be842df4ab304f40b2a3df556a858002": {
     "model_module": "@jupyter-widgets/controls",
     "model_module_version": "1.5.0",
     "model_name": "FloatProgressModel",
     "state": {
      "_dom_classes": [],
      "_model_module": "@jupyter-widgets/controls",
      "_model_module_version": "1.5.0",
      "_model_name": "FloatProgressModel",
      "_view_count": null,
      "_view_module": "@jupyter-widgets/controls",
      "_view_module_version": "1.5.0",
      "_view_name": "ProgressView",
      "bar_style": "success",
      "description": "",
      "description_tooltip": null,
      "layout": "IPY_MODEL_084d54b59a1c491c8f3abe0bf814c7dd",
      "max": 500,
      "min": 0,
      "orientation": "horizontal",
      "style": "IPY_MODEL_85223c4d43464a1a8fcea416f31e35d5",
      "value": 500
     }
    },
    "d5db8113f722486baf494e72526ee17b": {
     "model_module": "@jupyter-widgets/controls",
     "model_module_version": "1.5.0",
     "model_name": "HTMLModel",
     "state": {
      "_dom_classes": [],
      "_model_module": "@jupyter-widgets/controls",
      "_model_module_version": "1.5.0",
      "_model_name": "HTMLModel",
      "_view_count": null,
      "_view_module": "@jupyter-widgets/controls",
      "_view_module_version": "1.5.0",
      "_view_name": "HTMLView",
      "description": "",
      "description_tooltip": null,
      "layout": "IPY_MODEL_ffbbc107bee24343b43320f9ba44bab1",
      "placeholder": "​",
      "style": "IPY_MODEL_f01e3ac4e09b4e64a51d5acb6681ce78",
      "value": "100%"
     }
    },
    "eaf1e57e1eaa438aa07362dba73d7d90": {
     "model_module": "@jupyter-widgets/base",
     "model_module_version": "1.2.0",
     "model_name": "LayoutModel",
     "state": {
      "_model_module": "@jupyter-widgets/base",
      "_model_module_version": "1.2.0",
      "_model_name": "LayoutModel",
      "_view_count": null,
      "_view_module": "@jupyter-widgets/base",
      "_view_module_version": "1.2.0",
      "_view_name": "LayoutView",
      "align_content": null,
      "align_items": null,
      "align_self": null,
      "border": null,
      "bottom": null,
      "display": null,
      "flex": null,
      "flex_flow": null,
      "grid_area": null,
      "grid_auto_columns": null,
      "grid_auto_flow": null,
      "grid_auto_rows": null,
      "grid_column": null,
      "grid_gap": null,
      "grid_row": null,
      "grid_template_areas": null,
      "grid_template_columns": null,
      "grid_template_rows": null,
      "height": null,
      "justify_content": null,
      "justify_items": null,
      "left": null,
      "margin": null,
      "max_height": null,
      "max_width": null,
      "min_height": null,
      "min_width": null,
      "object_fit": null,
      "object_position": null,
      "order": null,
      "overflow": null,
      "overflow_x": null,
      "overflow_y": null,
      "padding": null,
      "right": null,
      "top": null,
      "visibility": null,
      "width": null
     }
    },
    "f01e3ac4e09b4e64a51d5acb6681ce78": {
     "model_module": "@jupyter-widgets/controls",
     "model_module_version": "1.5.0",
     "model_name": "DescriptionStyleModel",
     "state": {
      "_model_module": "@jupyter-widgets/controls",
      "_model_module_version": "1.5.0",
      "_model_name": "DescriptionStyleModel",
      "_view_count": null,
      "_view_module": "@jupyter-widgets/base",
      "_view_module_version": "1.2.0",
      "_view_name": "StyleView",
      "description_width": ""
     }
    },
    "ffbbc107bee24343b43320f9ba44bab1": {
     "model_module": "@jupyter-widgets/base",
     "model_module_version": "1.2.0",
     "model_name": "LayoutModel",
     "state": {
      "_model_module": "@jupyter-widgets/base",
      "_model_module_version": "1.2.0",
      "_model_name": "LayoutModel",
      "_view_count": null,
      "_view_module": "@jupyter-widgets/base",
      "_view_module_version": "1.2.0",
      "_view_name": "LayoutView",
      "align_content": null,
      "align_items": null,
      "align_self": null,
      "border": null,
      "bottom": null,
      "display": null,
      "flex": null,
      "flex_flow": null,
      "grid_area": null,
      "grid_auto_columns": null,
      "grid_auto_flow": null,
      "grid_auto_rows": null,
      "grid_column": null,
      "grid_gap": null,
      "grid_row": null,
      "grid_template_areas": null,
      "grid_template_columns": null,
      "grid_template_rows": null,
      "height": null,
      "justify_content": null,
      "justify_items": null,
      "left": null,
      "margin": null,
      "max_height": null,
      "max_width": null,
      "min_height": null,
      "min_width": null,
      "object_fit": null,
      "object_position": null,
      "order": null,
      "overflow": null,
      "overflow_x": null,
      "overflow_y": null,
      "padding": null,
      "right": null,
      "top": null,
      "visibility": null,
      "width": null
     }
    }
   }
  }
 },
 "nbformat": 4,
 "nbformat_minor": 5
}
