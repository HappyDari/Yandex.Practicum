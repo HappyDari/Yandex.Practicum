{
 "cells": [
  {
   "cell_type": "markdown",
   "metadata": {},
   "source": [
    "# Определение перспективного тарифа для телеком-компании"
   ]
  },
  {
   "cell_type": "markdown",
   "metadata": {},
   "source": [
    "Клиентам предлагают два тарифных плана: «Смарт» и «Ультра». Чтобы скорректировать рекламный бюджет, коммерческий департамент хочет понять, какой тариф приносит больше денег.\n",
    "Необходимо сделать предварительный анализ тарифов на небольшой выборке клиентов. В нашем распоряжении данные 500 пользователей «Мегалайна»: кто они, откуда, каким тарифом пользуются, сколько звонков и сообщений каждый отправил за 2018 год. Нужно проанализировать поведение клиентов и сделать вывод — какой тариф лучше."
   ]
  },
  {
   "cell_type": "markdown",
   "metadata": {},
   "source": [
    "### Описание тарифов\n",
    "\n",
    "**Тариф «Смарт»**\n",
    "\n",
    "* Ежемесячная плата: 550 рублей\n",
    "* Включено 500 минут разговора, 50 сообщений и 15 Гб интернет-трафика\n",
    "* Стоимость услуг сверх тарифного пакета:\n",
    "  * минута разговора: 3 рубля\n",
    "  * сообщение: 3 рубля\n",
    "  * 1 Гб интернет-трафика: 200 рублей\n",
    "  \n",
    "  \n",
    "\n",
    "**Тариф «Ультра»**\n",
    "* Ежемесячная плата: 1950 рублей\n",
    "* Включено 3000 минут разговора, 1000 сообщений и 30 Гб интернет-трафика\n",
    "* Стоимость услуг сверх тарифного пакета:\n",
    "  * минута разговора: 1 рубль\n",
    "  * сообщение: 1 рубль\n",
    "  * 1 Гб интернет-трафика: 150 рублей"
   ]
  },
  {
   "cell_type": "markdown",
   "metadata": {},
   "source": [
    "**Примечание**\n",
    "\n",
    "«Мегалайн» всегда округляет секунды до минут, а мегабайты — до гигабайт. Каждый звонок округляется отдельно: даже если он длился всего 1 секунду, будет засчитан как 1 минута.\n",
    "Для веб-трафика отдельные сессии не считаются. Вместо этого общая сумма за месяц округляется в бо́льшую сторону. Если абонент использует 1025 мегабайт в этом месяце, с него возьмут плату за 2 гигабайта. Неиспользованные за предыдущий месяц звонки, смс, интернет на следующий месяц не переносятся.\n"
   ]
  },
  {
   "cell_type": "markdown",
   "metadata": {},
   "source": [
    "## Открытие файла"
   ]
  },
  {
   "cell_type": "markdown",
   "metadata": {},
   "source": [
    "Импортируем необходимые библиотеки"
   ]
  },
  {
   "cell_type": "code",
   "execution_count": 1,
   "metadata": {},
   "outputs": [],
   "source": [
    "import pandas as pd\n",
    "import plotly.express as ex\n",
    "import matplotlib.pyplot as plt\n",
    "import plotly as pl\n",
    "import numpy as np\n",
    "import plotly.graph_objs as go"
   ]
  },
  {
   "cell_type": "markdown",
   "metadata": {},
   "source": [
    "Выведем общую информацию и все таблицы на экран для ознакомления."
   ]
  },
  {
   "cell_type": "code",
   "execution_count": 2,
   "metadata": {
    "scrolled": false
   },
   "outputs": [
    {
     "data": {
      "text/html": [
       "<div>\n",
       "<style scoped>\n",
       "    .dataframe tbody tr th:only-of-type {\n",
       "        vertical-align: middle;\n",
       "    }\n",
       "\n",
       "    .dataframe tbody tr th {\n",
       "        vertical-align: top;\n",
       "    }\n",
       "\n",
       "    .dataframe thead th {\n",
       "        text-align: right;\n",
       "    }\n",
       "</style>\n",
       "<table border=\"1\" class=\"dataframe\">\n",
       "  <thead>\n",
       "    <tr style=\"text-align: right;\">\n",
       "      <th></th>\n",
       "      <th>id</th>\n",
       "      <th>call_date</th>\n",
       "      <th>duration</th>\n",
       "      <th>user_id</th>\n",
       "    </tr>\n",
       "  </thead>\n",
       "  <tbody>\n",
       "    <tr>\n",
       "      <th>0</th>\n",
       "      <td>1000_0</td>\n",
       "      <td>2018-07-25</td>\n",
       "      <td>0.00</td>\n",
       "      <td>1000</td>\n",
       "    </tr>\n",
       "    <tr>\n",
       "      <th>1</th>\n",
       "      <td>1000_1</td>\n",
       "      <td>2018-08-17</td>\n",
       "      <td>0.00</td>\n",
       "      <td>1000</td>\n",
       "    </tr>\n",
       "    <tr>\n",
       "      <th>2</th>\n",
       "      <td>1000_2</td>\n",
       "      <td>2018-06-11</td>\n",
       "      <td>2.85</td>\n",
       "      <td>1000</td>\n",
       "    </tr>\n",
       "    <tr>\n",
       "      <th>3</th>\n",
       "      <td>1000_3</td>\n",
       "      <td>2018-09-21</td>\n",
       "      <td>13.80</td>\n",
       "      <td>1000</td>\n",
       "    </tr>\n",
       "    <tr>\n",
       "      <th>4</th>\n",
       "      <td>1000_4</td>\n",
       "      <td>2018-12-15</td>\n",
       "      <td>5.18</td>\n",
       "      <td>1000</td>\n",
       "    </tr>\n",
       "    <tr>\n",
       "      <th>...</th>\n",
       "      <td>...</td>\n",
       "      <td>...</td>\n",
       "      <td>...</td>\n",
       "      <td>...</td>\n",
       "    </tr>\n",
       "    <tr>\n",
       "      <th>202602</th>\n",
       "      <td>1499_215</td>\n",
       "      <td>2018-12-26</td>\n",
       "      <td>0.76</td>\n",
       "      <td>1499</td>\n",
       "    </tr>\n",
       "    <tr>\n",
       "      <th>202603</th>\n",
       "      <td>1499_216</td>\n",
       "      <td>2018-10-18</td>\n",
       "      <td>18.83</td>\n",
       "      <td>1499</td>\n",
       "    </tr>\n",
       "    <tr>\n",
       "      <th>202604</th>\n",
       "      <td>1499_217</td>\n",
       "      <td>2018-11-10</td>\n",
       "      <td>10.81</td>\n",
       "      <td>1499</td>\n",
       "    </tr>\n",
       "    <tr>\n",
       "      <th>202605</th>\n",
       "      <td>1499_218</td>\n",
       "      <td>2018-10-06</td>\n",
       "      <td>4.27</td>\n",
       "      <td>1499</td>\n",
       "    </tr>\n",
       "    <tr>\n",
       "      <th>202606</th>\n",
       "      <td>1499_219</td>\n",
       "      <td>2018-12-14</td>\n",
       "      <td>19.62</td>\n",
       "      <td>1499</td>\n",
       "    </tr>\n",
       "  </tbody>\n",
       "</table>\n",
       "<p>202607 rows × 4 columns</p>\n",
       "</div>"
      ],
      "text/plain": [
       "              id   call_date  duration  user_id\n",
       "0         1000_0  2018-07-25      0.00     1000\n",
       "1         1000_1  2018-08-17      0.00     1000\n",
       "2         1000_2  2018-06-11      2.85     1000\n",
       "3         1000_3  2018-09-21     13.80     1000\n",
       "4         1000_4  2018-12-15      5.18     1000\n",
       "...          ...         ...       ...      ...\n",
       "202602  1499_215  2018-12-26      0.76     1499\n",
       "202603  1499_216  2018-10-18     18.83     1499\n",
       "202604  1499_217  2018-11-10     10.81     1499\n",
       "202605  1499_218  2018-10-06      4.27     1499\n",
       "202606  1499_219  2018-12-14     19.62     1499\n",
       "\n",
       "[202607 rows x 4 columns]"
      ]
     },
     "metadata": {},
     "output_type": "display_data"
    },
    {
     "name": "stdout",
     "output_type": "stream",
     "text": [
      "<class 'pandas.core.frame.DataFrame'>\n",
      "RangeIndex: 123036 entries, 0 to 123035\n",
      "Data columns (total 3 columns):\n",
      " #   Column        Non-Null Count   Dtype \n",
      "---  ------        --------------   ----- \n",
      " 0   id            123036 non-null  object\n",
      " 1   message_date  123036 non-null  object\n",
      " 2   user_id       123036 non-null  int64 \n",
      "dtypes: int64(1), object(2)\n",
      "memory usage: 2.8+ MB\n"
     ]
    }
   ],
   "source": [
    "calls = pd.read_csv('calls.csv')\n",
    "internet = pd.read_csv('internet.csv', index_col=0)\n",
    "messages = pd.read_csv('messages.csv')\n",
    "tariffs = pd.read_csv('tariffs.csv')\n",
    "users = pd.read_csv('users.csv')\n",
    "\n",
    "display (calls)\n",
    "#display (calls, internet, messages, tariffs, users)\n",
    "#calls.info()\n",
    "#internet.info()\n",
    "messages.info()"
   ]
  },
  {
   "cell_type": "markdown",
   "metadata": {},
   "source": [
    "У нас есть 5 таблиц, 3 из которых содержат данные о звонках, сообщениях и интернет трафике, который потратили пользователи. Эти 3 таблицы объединяет столбец с идентификатором пользователя, который так же объединяет их с таблицей о самих пользователях `users`. Таблица с тарифами содержит тарифный план и объединяется с таблице `users` через наименование тарифа в столбце `tariff`."
   ]
  },
  {
   "cell_type": "markdown",
   "metadata": {},
   "source": [
    "Объединим таблицы внешним типом слияния, чтобы сохранить все записи"
   ]
  },
  {
   "cell_type": "code",
   "execution_count": 3,
   "metadata": {
    "scrolled": true
   },
   "outputs": [
    {
     "data": {
      "text/html": [
       "<div>\n",
       "<style scoped>\n",
       "    .dataframe tbody tr th:only-of-type {\n",
       "        vertical-align: middle;\n",
       "    }\n",
       "\n",
       "    .dataframe tbody tr th {\n",
       "        vertical-align: top;\n",
       "    }\n",
       "\n",
       "    .dataframe thead th {\n",
       "        text-align: right;\n",
       "    }\n",
       "</style>\n",
       "<table border=\"1\" class=\"dataframe\">\n",
       "  <thead>\n",
       "    <tr style=\"text-align: right;\">\n",
       "      <th></th>\n",
       "      <th>id</th>\n",
       "      <th>call_date</th>\n",
       "      <th>duration</th>\n",
       "      <th>user_id</th>\n",
       "      <th>mb_used</th>\n",
       "      <th>session_date</th>\n",
       "      <th>message_date</th>\n",
       "      <th>age</th>\n",
       "      <th>churn_date</th>\n",
       "      <th>city</th>\n",
       "      <th>first_name</th>\n",
       "      <th>last_name</th>\n",
       "      <th>reg_date</th>\n",
       "      <th>tariff</th>\n",
       "    </tr>\n",
       "  </thead>\n",
       "  <tbody>\n",
       "    <tr>\n",
       "      <th>0</th>\n",
       "      <td>1000_0</td>\n",
       "      <td>2018-07-25</td>\n",
       "      <td>0.00</td>\n",
       "      <td>1000</td>\n",
       "      <td>112.95</td>\n",
       "      <td>2018-11-25</td>\n",
       "      <td>2018-06-27</td>\n",
       "      <td>52</td>\n",
       "      <td>NaN</td>\n",
       "      <td>Краснодар</td>\n",
       "      <td>Рафаил</td>\n",
       "      <td>Верещагин</td>\n",
       "      <td>2018-05-25</td>\n",
       "      <td>ultra</td>\n",
       "    </tr>\n",
       "    <tr>\n",
       "      <th>1</th>\n",
       "      <td>1000_1</td>\n",
       "      <td>2018-08-17</td>\n",
       "      <td>0.00</td>\n",
       "      <td>1000</td>\n",
       "      <td>1052.81</td>\n",
       "      <td>2018-09-07</td>\n",
       "      <td>2018-10-08</td>\n",
       "      <td>52</td>\n",
       "      <td>NaN</td>\n",
       "      <td>Краснодар</td>\n",
       "      <td>Рафаил</td>\n",
       "      <td>Верещагин</td>\n",
       "      <td>2018-05-25</td>\n",
       "      <td>ultra</td>\n",
       "    </tr>\n",
       "    <tr>\n",
       "      <th>2</th>\n",
       "      <td>1000_2</td>\n",
       "      <td>2018-06-11</td>\n",
       "      <td>2.85</td>\n",
       "      <td>1000</td>\n",
       "      <td>1197.26</td>\n",
       "      <td>2018-06-25</td>\n",
       "      <td>2018-08-04</td>\n",
       "      <td>52</td>\n",
       "      <td>NaN</td>\n",
       "      <td>Краснодар</td>\n",
       "      <td>Рафаил</td>\n",
       "      <td>Верещагин</td>\n",
       "      <td>2018-05-25</td>\n",
       "      <td>ultra</td>\n",
       "    </tr>\n",
       "    <tr>\n",
       "      <th>3</th>\n",
       "      <td>1000_3</td>\n",
       "      <td>2018-09-21</td>\n",
       "      <td>13.80</td>\n",
       "      <td>1000</td>\n",
       "      <td>550.27</td>\n",
       "      <td>2018-08-22</td>\n",
       "      <td>2018-06-16</td>\n",
       "      <td>52</td>\n",
       "      <td>NaN</td>\n",
       "      <td>Краснодар</td>\n",
       "      <td>Рафаил</td>\n",
       "      <td>Верещагин</td>\n",
       "      <td>2018-05-25</td>\n",
       "      <td>ultra</td>\n",
       "    </tr>\n",
       "    <tr>\n",
       "      <th>4</th>\n",
       "      <td>1000_4</td>\n",
       "      <td>2018-12-15</td>\n",
       "      <td>5.18</td>\n",
       "      <td>1000</td>\n",
       "      <td>302.56</td>\n",
       "      <td>2018-09-24</td>\n",
       "      <td>2018-12-05</td>\n",
       "      <td>52</td>\n",
       "      <td>NaN</td>\n",
       "      <td>Краснодар</td>\n",
       "      <td>Рафаил</td>\n",
       "      <td>Верещагин</td>\n",
       "      <td>2018-05-25</td>\n",
       "      <td>ultra</td>\n",
       "    </tr>\n",
       "    <tr>\n",
       "      <th>5</th>\n",
       "      <td>1000_5</td>\n",
       "      <td>2018-11-02</td>\n",
       "      <td>0.00</td>\n",
       "      <td>1000</td>\n",
       "      <td>399.97</td>\n",
       "      <td>2018-10-02</td>\n",
       "      <td>2018-06-20</td>\n",
       "      <td>52</td>\n",
       "      <td>NaN</td>\n",
       "      <td>Краснодар</td>\n",
       "      <td>Рафаил</td>\n",
       "      <td>Верещагин</td>\n",
       "      <td>2018-05-25</td>\n",
       "      <td>ultra</td>\n",
       "    </tr>\n",
       "    <tr>\n",
       "      <th>6</th>\n",
       "      <td>1000_6</td>\n",
       "      <td>2018-10-18</td>\n",
       "      <td>0.00</td>\n",
       "      <td>1000</td>\n",
       "      <td>540.08</td>\n",
       "      <td>2018-09-07</td>\n",
       "      <td>2018-11-19</td>\n",
       "      <td>52</td>\n",
       "      <td>NaN</td>\n",
       "      <td>Краснодар</td>\n",
       "      <td>Рафаил</td>\n",
       "      <td>Верещагин</td>\n",
       "      <td>2018-05-25</td>\n",
       "      <td>ultra</td>\n",
       "    </tr>\n",
       "    <tr>\n",
       "      <th>7</th>\n",
       "      <td>1000_7</td>\n",
       "      <td>2018-08-22</td>\n",
       "      <td>18.31</td>\n",
       "      <td>1000</td>\n",
       "      <td>415.70</td>\n",
       "      <td>2018-07-11</td>\n",
       "      <td>2018-10-29</td>\n",
       "      <td>52</td>\n",
       "      <td>NaN</td>\n",
       "      <td>Краснодар</td>\n",
       "      <td>Рафаил</td>\n",
       "      <td>Верещагин</td>\n",
       "      <td>2018-05-25</td>\n",
       "      <td>ultra</td>\n",
       "    </tr>\n",
       "    <tr>\n",
       "      <th>8</th>\n",
       "      <td>1000_8</td>\n",
       "      <td>2018-09-15</td>\n",
       "      <td>18.44</td>\n",
       "      <td>1000</td>\n",
       "      <td>505.40</td>\n",
       "      <td>2018-10-08</td>\n",
       "      <td>2018-06-25</td>\n",
       "      <td>52</td>\n",
       "      <td>NaN</td>\n",
       "      <td>Краснодар</td>\n",
       "      <td>Рафаил</td>\n",
       "      <td>Верещагин</td>\n",
       "      <td>2018-05-25</td>\n",
       "      <td>ultra</td>\n",
       "    </tr>\n",
       "    <tr>\n",
       "      <th>9</th>\n",
       "      <td>1000_9</td>\n",
       "      <td>2018-08-15</td>\n",
       "      <td>0.00</td>\n",
       "      <td>1000</td>\n",
       "      <td>345.54</td>\n",
       "      <td>2018-09-03</td>\n",
       "      <td>2018-12-18</td>\n",
       "      <td>52</td>\n",
       "      <td>NaN</td>\n",
       "      <td>Краснодар</td>\n",
       "      <td>Рафаил</td>\n",
       "      <td>Верещагин</td>\n",
       "      <td>2018-05-25</td>\n",
       "      <td>ultra</td>\n",
       "    </tr>\n",
       "  </tbody>\n",
       "</table>\n",
       "</div>"
      ],
      "text/plain": [
       "       id   call_date  duration  user_id  mb_used session_date message_date  \\\n",
       "0  1000_0  2018-07-25      0.00     1000   112.95   2018-11-25   2018-06-27   \n",
       "1  1000_1  2018-08-17      0.00     1000  1052.81   2018-09-07   2018-10-08   \n",
       "2  1000_2  2018-06-11      2.85     1000  1197.26   2018-06-25   2018-08-04   \n",
       "3  1000_3  2018-09-21     13.80     1000   550.27   2018-08-22   2018-06-16   \n",
       "4  1000_4  2018-12-15      5.18     1000   302.56   2018-09-24   2018-12-05   \n",
       "5  1000_5  2018-11-02      0.00     1000   399.97   2018-10-02   2018-06-20   \n",
       "6  1000_6  2018-10-18      0.00     1000   540.08   2018-09-07   2018-11-19   \n",
       "7  1000_7  2018-08-22     18.31     1000   415.70   2018-07-11   2018-10-29   \n",
       "8  1000_8  2018-09-15     18.44     1000   505.40   2018-10-08   2018-06-25   \n",
       "9  1000_9  2018-08-15      0.00     1000   345.54   2018-09-03   2018-12-18   \n",
       "\n",
       "   age churn_date       city first_name  last_name    reg_date tariff  \n",
       "0   52        NaN  Краснодар     Рафаил  Верещагин  2018-05-25  ultra  \n",
       "1   52        NaN  Краснодар     Рафаил  Верещагин  2018-05-25  ultra  \n",
       "2   52        NaN  Краснодар     Рафаил  Верещагин  2018-05-25  ultra  \n",
       "3   52        NaN  Краснодар     Рафаил  Верещагин  2018-05-25  ultra  \n",
       "4   52        NaN  Краснодар     Рафаил  Верещагин  2018-05-25  ultra  \n",
       "5   52        NaN  Краснодар     Рафаил  Верещагин  2018-05-25  ultra  \n",
       "6   52        NaN  Краснодар     Рафаил  Верещагин  2018-05-25  ultra  \n",
       "7   52        NaN  Краснодар     Рафаил  Верещагин  2018-05-25  ultra  \n",
       "8   52        NaN  Краснодар     Рафаил  Верещагин  2018-05-25  ultra  \n",
       "9   52        NaN  Краснодар     Рафаил  Верещагин  2018-05-25  ultra  "
      ]
     },
     "execution_count": 3,
     "metadata": {},
     "output_type": "execute_result"
    }
   ],
   "source": [
    "df = calls.merge(internet, how='outer')\n",
    "df = df.merge(messages, how='outer')\n",
    "df = df.merge(users, how='outer')\n",
    "df.head(10)"
   ]
  },
  {
   "cell_type": "markdown",
   "metadata": {},
   "source": [
    "Удалим столбцы, которые нам не пригодятся для проведения анализа и объединим имя и фамилию клиента"
   ]
  },
  {
   "cell_type": "code",
   "execution_count": 4,
   "metadata": {},
   "outputs": [],
   "source": [
    "df['name'] = df['first_name'] + [' '] + df['last_name']\n",
    "df.drop(labels=['id', 'first_name', 'last_name' ], axis=1, inplace=True,)"
   ]
  },
  {
   "cell_type": "markdown",
   "metadata": {},
   "source": [
    "## Подготовка данных"
   ]
  },
  {
   "cell_type": "markdown",
   "metadata": {},
   "source": [
    "### Замена типа данных"
   ]
  },
  {
   "cell_type": "markdown",
   "metadata": {},
   "source": [
    "Чтобы заменить столбцы с датами на соответсвующий тип данных создадим функцию для преобразования столбцов."
   ]
  },
  {
   "cell_type": "code",
   "execution_count": 5,
   "metadata": {},
   "outputs": [
    {
     "data": {
      "text/html": [
       "<div>\n",
       "<style scoped>\n",
       "    .dataframe tbody tr th:only-of-type {\n",
       "        vertical-align: middle;\n",
       "    }\n",
       "\n",
       "    .dataframe tbody tr th {\n",
       "        vertical-align: top;\n",
       "    }\n",
       "\n",
       "    .dataframe thead th {\n",
       "        text-align: right;\n",
       "    }\n",
       "</style>\n",
       "<table border=\"1\" class=\"dataframe\">\n",
       "  <thead>\n",
       "    <tr style=\"text-align: right;\">\n",
       "      <th></th>\n",
       "      <th>call_date</th>\n",
       "      <th>duration</th>\n",
       "      <th>user_id</th>\n",
       "      <th>mb_used</th>\n",
       "      <th>session_date</th>\n",
       "      <th>message_date</th>\n",
       "      <th>age</th>\n",
       "      <th>churn_date</th>\n",
       "      <th>city</th>\n",
       "      <th>reg_date</th>\n",
       "      <th>tariff</th>\n",
       "      <th>name</th>\n",
       "    </tr>\n",
       "  </thead>\n",
       "  <tbody>\n",
       "    <tr>\n",
       "      <th>0</th>\n",
       "      <td>2018-07-25</td>\n",
       "      <td>0.00</td>\n",
       "      <td>1000</td>\n",
       "      <td>112.95</td>\n",
       "      <td>2018-11-25</td>\n",
       "      <td>2018-06-27</td>\n",
       "      <td>52</td>\n",
       "      <td>NaN</td>\n",
       "      <td>Краснодар</td>\n",
       "      <td>2018-05-25</td>\n",
       "      <td>ultra</td>\n",
       "      <td>Рафаил Верещагин</td>\n",
       "    </tr>\n",
       "    <tr>\n",
       "      <th>1</th>\n",
       "      <td>2018-08-17</td>\n",
       "      <td>0.00</td>\n",
       "      <td>1000</td>\n",
       "      <td>1052.81</td>\n",
       "      <td>2018-09-07</td>\n",
       "      <td>2018-10-08</td>\n",
       "      <td>52</td>\n",
       "      <td>NaN</td>\n",
       "      <td>Краснодар</td>\n",
       "      <td>2018-05-25</td>\n",
       "      <td>ultra</td>\n",
       "      <td>Рафаил Верещагин</td>\n",
       "    </tr>\n",
       "    <tr>\n",
       "      <th>2</th>\n",
       "      <td>2018-06-11</td>\n",
       "      <td>2.85</td>\n",
       "      <td>1000</td>\n",
       "      <td>1197.26</td>\n",
       "      <td>2018-06-25</td>\n",
       "      <td>2018-08-04</td>\n",
       "      <td>52</td>\n",
       "      <td>NaN</td>\n",
       "      <td>Краснодар</td>\n",
       "      <td>2018-05-25</td>\n",
       "      <td>ultra</td>\n",
       "      <td>Рафаил Верещагин</td>\n",
       "    </tr>\n",
       "    <tr>\n",
       "      <th>3</th>\n",
       "      <td>2018-09-21</td>\n",
       "      <td>13.80</td>\n",
       "      <td>1000</td>\n",
       "      <td>550.27</td>\n",
       "      <td>2018-08-22</td>\n",
       "      <td>2018-06-16</td>\n",
       "      <td>52</td>\n",
       "      <td>NaN</td>\n",
       "      <td>Краснодар</td>\n",
       "      <td>2018-05-25</td>\n",
       "      <td>ultra</td>\n",
       "      <td>Рафаил Верещагин</td>\n",
       "    </tr>\n",
       "    <tr>\n",
       "      <th>4</th>\n",
       "      <td>2018-12-15</td>\n",
       "      <td>5.18</td>\n",
       "      <td>1000</td>\n",
       "      <td>302.56</td>\n",
       "      <td>2018-09-24</td>\n",
       "      <td>2018-12-05</td>\n",
       "      <td>52</td>\n",
       "      <td>NaN</td>\n",
       "      <td>Краснодар</td>\n",
       "      <td>2018-05-25</td>\n",
       "      <td>ultra</td>\n",
       "      <td>Рафаил Верещагин</td>\n",
       "    </tr>\n",
       "  </tbody>\n",
       "</table>\n",
       "</div>"
      ],
      "text/plain": [
       "    call_date  duration  user_id  mb_used session_date message_date  age  \\\n",
       "0  2018-07-25      0.00     1000   112.95   2018-11-25   2018-06-27   52   \n",
       "1  2018-08-17      0.00     1000  1052.81   2018-09-07   2018-10-08   52   \n",
       "2  2018-06-11      2.85     1000  1197.26   2018-06-25   2018-08-04   52   \n",
       "3  2018-09-21     13.80     1000   550.27   2018-08-22   2018-06-16   52   \n",
       "4  2018-12-15      5.18     1000   302.56   2018-09-24   2018-12-05   52   \n",
       "\n",
       "  churn_date       city    reg_date tariff              name  \n",
       "0        NaN  Краснодар  2018-05-25  ultra  Рафаил Верещагин  \n",
       "1        NaN  Краснодар  2018-05-25  ultra  Рафаил Верещагин  \n",
       "2        NaN  Краснодар  2018-05-25  ultra  Рафаил Верещагин  \n",
       "3        NaN  Краснодар  2018-05-25  ultra  Рафаил Верещагин  \n",
       "4        NaN  Краснодар  2018-05-25  ultra  Рафаил Верещагин  "
      ]
     },
     "execution_count": 5,
     "metadata": {},
     "output_type": "execute_result"
    }
   ],
   "source": [
    "df.head()"
   ]
  },
  {
   "cell_type": "code",
   "execution_count": 6,
   "metadata": {
    "scrolled": false
   },
   "outputs": [
    {
     "name": "stdout",
     "output_type": "stream",
     "text": [
      "<class 'pandas.core.frame.DataFrame'>\n",
      "Int64Index: 237281 entries, 0 to 237280\n",
      "Data columns (total 12 columns):\n",
      " #   Column        Non-Null Count   Dtype         \n",
      "---  ------        --------------   -----         \n",
      " 0   call_date     202607 non-null  datetime64[ns]\n",
      " 1   duration      202607 non-null  float64       \n",
      " 2   user_id       237281 non-null  int64         \n",
      " 3   mb_used       149396 non-null  float64       \n",
      " 4   session_date  149396 non-null  datetime64[ns]\n",
      " 5   message_date  123036 non-null  datetime64[ns]\n",
      " 6   age           237281 non-null  int64         \n",
      " 7   churn_date    11187 non-null   datetime64[ns]\n",
      " 8   city          237281 non-null  object        \n",
      " 9   reg_date      237281 non-null  datetime64[ns]\n",
      " 10  tariff        237281 non-null  object        \n",
      " 11  name          237281 non-null  object        \n",
      "dtypes: datetime64[ns](5), float64(2), int64(2), object(3)\n",
      "memory usage: 23.5+ MB\n"
     ]
    }
   ],
   "source": [
    "time_columns = ['call_date', 'session_date', 'message_date', 'churn_date', 'reg_date']\n",
    "for column in time_columns:\n",
    "    df[column] = pd.to_datetime(df[column], format = '%Y-%m-%d')\n",
    "df.info()"
   ]
  },
  {
   "cell_type": "markdown",
   "metadata": {},
   "source": [
    "### Подсчет данных для каждого пользователя"
   ]
  },
  {
   "cell_type": "markdown",
   "metadata": {},
   "source": [
    "Чтобы посчитать ежемесячную выручку по каждому пользователю, сначала сгруппируем данные по пользователям и месяцам, добавим информацию о тарифах и посчитаем необходимые величины."
   ]
  },
  {
   "cell_type": "code",
   "execution_count": 7,
   "metadata": {},
   "outputs": [],
   "source": [
    "# добавление столбцов с звонками, сообщениями и интернет-сессиями по месяцам \n",
    "df['call_month'] = df['call_date'].astype('datetime64[M]')\n",
    "df['message_month'] = df['message_date'].astype('datetime64[M]')\n",
    "df['session_month'] = df['session_date'].astype('datetime64[M]')\n",
    "# df['session_month'] = pd.DatetimeIndex(df['session_date']).month.astype('Int64')"
   ]
  },
  {
   "cell_type": "code",
   "execution_count": 8,
   "metadata": {},
   "outputs": [],
   "source": [
    "# сводная таблица количество сделанных звонков и израсходованных минут разговора по месяцам\n",
    "calls = df.pivot_table(index=['user_id', 'call_month'], values='duration', aggfunc=('count', 'sum')).reset_index()\n",
    "calls.columns=['user_id', 'month', 'call_count', 'total_duration']\n",
    "\n",
    "# сводная таблица количество отправленных сообщений по месяцам\n",
    "messages = df.pivot_table(index=['user_id', 'message_month'], values='message_date', aggfunc='count').reset_index()\n",
    "messages.columns=['user_id', 'month', 'message_count']\n",
    "\n",
    "# сводная таблица объем израсходованного интернет-трафика по месяцам\n",
    "sessions = df.pivot_table(index=['user_id', 'session_month'], values='mb_used', aggfunc='sum').reset_index()\n",
    "sessions.columns=['user_id', 'month', 'mb_used_total']"
   ]
  },
  {
   "cell_type": "code",
   "execution_count": 9,
   "metadata": {
    "scrolled": false
   },
   "outputs": [
    {
     "data": {
      "text/html": [
       "<div>\n",
       "<style scoped>\n",
       "    .dataframe tbody tr th:only-of-type {\n",
       "        vertical-align: middle;\n",
       "    }\n",
       "\n",
       "    .dataframe tbody tr th {\n",
       "        vertical-align: top;\n",
       "    }\n",
       "\n",
       "    .dataframe thead th {\n",
       "        text-align: right;\n",
       "    }\n",
       "</style>\n",
       "<table border=\"1\" class=\"dataframe\">\n",
       "  <thead>\n",
       "    <tr style=\"text-align: right;\">\n",
       "      <th></th>\n",
       "      <th>user_id</th>\n",
       "      <th>month</th>\n",
       "      <th>call_count</th>\n",
       "      <th>total_duration</th>\n",
       "      <th>message_count</th>\n",
       "      <th>mb_used_total</th>\n",
       "    </tr>\n",
       "  </thead>\n",
       "  <tbody>\n",
       "    <tr>\n",
       "      <th>0</th>\n",
       "      <td>1000</td>\n",
       "      <td>2018-05-01</td>\n",
       "      <td>22.0</td>\n",
       "      <td>150.06</td>\n",
       "      <td>22.0</td>\n",
       "      <td>2253.49</td>\n",
       "    </tr>\n",
       "    <tr>\n",
       "      <th>1</th>\n",
       "      <td>1000</td>\n",
       "      <td>2018-06-01</td>\n",
       "      <td>43.0</td>\n",
       "      <td>158.90</td>\n",
       "      <td>60.0</td>\n",
       "      <td>23233.77</td>\n",
       "    </tr>\n",
       "    <tr>\n",
       "      <th>2</th>\n",
       "      <td>1000</td>\n",
       "      <td>2018-07-01</td>\n",
       "      <td>47.0</td>\n",
       "      <td>318.80</td>\n",
       "      <td>75.0</td>\n",
       "      <td>14003.64</td>\n",
       "    </tr>\n",
       "    <tr>\n",
       "      <th>3</th>\n",
       "      <td>1000</td>\n",
       "      <td>2018-08-01</td>\n",
       "      <td>52.0</td>\n",
       "      <td>389.87</td>\n",
       "      <td>81.0</td>\n",
       "      <td>14055.93</td>\n",
       "    </tr>\n",
       "    <tr>\n",
       "      <th>4</th>\n",
       "      <td>1000</td>\n",
       "      <td>2018-09-01</td>\n",
       "      <td>58.0</td>\n",
       "      <td>440.14</td>\n",
       "      <td>57.0</td>\n",
       "      <td>14568.91</td>\n",
       "    </tr>\n",
       "  </tbody>\n",
       "</table>\n",
       "</div>"
      ],
      "text/plain": [
       "   user_id      month  call_count  total_duration  message_count  \\\n",
       "0     1000 2018-05-01        22.0          150.06           22.0   \n",
       "1     1000 2018-06-01        43.0          158.90           60.0   \n",
       "2     1000 2018-07-01        47.0          318.80           75.0   \n",
       "3     1000 2018-08-01        52.0          389.87           81.0   \n",
       "4     1000 2018-09-01        58.0          440.14           57.0   \n",
       "\n",
       "   mb_used_total  \n",
       "0        2253.49  \n",
       "1       23233.77  \n",
       "2       14003.64  \n",
       "3       14055.93  \n",
       "4       14568.91  "
      ]
     },
     "execution_count": 9,
     "metadata": {},
     "output_type": "execute_result"
    }
   ],
   "source": [
    "# объединение таблиц\n",
    "df_users = calls.merge(messages,  on=['user_id', 'month'], how='outer')\n",
    "df_users = df_users.merge(sessions,  on=['user_id', 'month'], how='outer')\n",
    "df_users.head()"
   ]
  },
  {
   "cell_type": "markdown",
   "metadata": {},
   "source": [
    "«Мегалайн» всегда округляет секунды до минут, а мегабайты — до гигабайт. Каждый звонок округляется отдельно: даже если он длился всего 1 секунду, будет засчитан как 1 минута."
   ]
  },
  {
   "cell_type": "code",
   "execution_count": 10,
   "metadata": {},
   "outputs": [
    {
     "data": {
      "text/html": [
       "<div>\n",
       "<style scoped>\n",
       "    .dataframe tbody tr th:only-of-type {\n",
       "        vertical-align: middle;\n",
       "    }\n",
       "\n",
       "    .dataframe tbody tr th {\n",
       "        vertical-align: top;\n",
       "    }\n",
       "\n",
       "    .dataframe thead th {\n",
       "        text-align: right;\n",
       "    }\n",
       "</style>\n",
       "<table border=\"1\" class=\"dataframe\">\n",
       "  <thead>\n",
       "    <tr style=\"text-align: right;\">\n",
       "      <th></th>\n",
       "      <th>user_id</th>\n",
       "      <th>month</th>\n",
       "      <th>call_count</th>\n",
       "      <th>total_duration</th>\n",
       "      <th>message_count</th>\n",
       "      <th>mb_used_total</th>\n",
       "    </tr>\n",
       "  </thead>\n",
       "  <tbody>\n",
       "    <tr>\n",
       "      <th>0</th>\n",
       "      <td>1000</td>\n",
       "      <td>2018-05-01</td>\n",
       "      <td>22.0</td>\n",
       "      <td>151.0</td>\n",
       "      <td>22.0</td>\n",
       "      <td>2253.49</td>\n",
       "    </tr>\n",
       "    <tr>\n",
       "      <th>1</th>\n",
       "      <td>1000</td>\n",
       "      <td>2018-06-01</td>\n",
       "      <td>43.0</td>\n",
       "      <td>159.0</td>\n",
       "      <td>60.0</td>\n",
       "      <td>23233.77</td>\n",
       "    </tr>\n",
       "    <tr>\n",
       "      <th>2</th>\n",
       "      <td>1000</td>\n",
       "      <td>2018-07-01</td>\n",
       "      <td>47.0</td>\n",
       "      <td>319.0</td>\n",
       "      <td>75.0</td>\n",
       "      <td>14003.64</td>\n",
       "    </tr>\n",
       "    <tr>\n",
       "      <th>3</th>\n",
       "      <td>1000</td>\n",
       "      <td>2018-08-01</td>\n",
       "      <td>52.0</td>\n",
       "      <td>390.0</td>\n",
       "      <td>81.0</td>\n",
       "      <td>14055.93</td>\n",
       "    </tr>\n",
       "    <tr>\n",
       "      <th>4</th>\n",
       "      <td>1000</td>\n",
       "      <td>2018-09-01</td>\n",
       "      <td>58.0</td>\n",
       "      <td>441.0</td>\n",
       "      <td>57.0</td>\n",
       "      <td>14568.91</td>\n",
       "    </tr>\n",
       "  </tbody>\n",
       "</table>\n",
       "</div>"
      ],
      "text/plain": [
       "   user_id      month  call_count  total_duration  message_count  \\\n",
       "0     1000 2018-05-01        22.0           151.0           22.0   \n",
       "1     1000 2018-06-01        43.0           159.0           60.0   \n",
       "2     1000 2018-07-01        47.0           319.0           75.0   \n",
       "3     1000 2018-08-01        52.0           390.0           81.0   \n",
       "4     1000 2018-09-01        58.0           441.0           57.0   \n",
       "\n",
       "   mb_used_total  \n",
       "0        2253.49  \n",
       "1       23233.77  \n",
       "2       14003.64  \n",
       "3       14055.93  \n",
       "4       14568.91  "
      ]
     },
     "execution_count": 10,
     "metadata": {},
     "output_type": "execute_result"
    }
   ],
   "source": [
    "# округление секунд до минут\n",
    "df_users['total_duration'] = np.ceil(df_users['total_duration'])\n",
    "df_users.head()"
   ]
  },
  {
   "cell_type": "markdown",
   "metadata": {},
   "source": [
    "Также добавим в таблицу названия тарифов, которыми пользуются клиенты."
   ]
  },
  {
   "cell_type": "code",
   "execution_count": 11,
   "metadata": {},
   "outputs": [
    {
     "data": {
      "text/html": [
       "<div>\n",
       "<style scoped>\n",
       "    .dataframe tbody tr th:only-of-type {\n",
       "        vertical-align: middle;\n",
       "    }\n",
       "\n",
       "    .dataframe tbody tr th {\n",
       "        vertical-align: top;\n",
       "    }\n",
       "\n",
       "    .dataframe thead th {\n",
       "        text-align: right;\n",
       "    }\n",
       "</style>\n",
       "<table border=\"1\" class=\"dataframe\">\n",
       "  <thead>\n",
       "    <tr style=\"text-align: right;\">\n",
       "      <th></th>\n",
       "      <th>user_id</th>\n",
       "      <th>month</th>\n",
       "      <th>call_count</th>\n",
       "      <th>total_duration</th>\n",
       "      <th>message_count</th>\n",
       "      <th>mb_used_total</th>\n",
       "      <th>tariff</th>\n",
       "      <th>messages_included</th>\n",
       "      <th>mb_per_month_included</th>\n",
       "      <th>minutes_included</th>\n",
       "      <th>rub_monthly_fee</th>\n",
       "      <th>rub_per_gb</th>\n",
       "      <th>rub_per_message</th>\n",
       "      <th>rub_per_minute</th>\n",
       "    </tr>\n",
       "  </thead>\n",
       "  <tbody>\n",
       "    <tr>\n",
       "      <th>0</th>\n",
       "      <td>1000</td>\n",
       "      <td>2018-05-01</td>\n",
       "      <td>22.0</td>\n",
       "      <td>151.0</td>\n",
       "      <td>22.0</td>\n",
       "      <td>2253.49</td>\n",
       "      <td>ultra</td>\n",
       "      <td>1000</td>\n",
       "      <td>30720</td>\n",
       "      <td>3000</td>\n",
       "      <td>1950</td>\n",
       "      <td>150</td>\n",
       "      <td>1</td>\n",
       "      <td>1</td>\n",
       "    </tr>\n",
       "    <tr>\n",
       "      <th>1</th>\n",
       "      <td>1000</td>\n",
       "      <td>2018-06-01</td>\n",
       "      <td>43.0</td>\n",
       "      <td>159.0</td>\n",
       "      <td>60.0</td>\n",
       "      <td>23233.77</td>\n",
       "      <td>ultra</td>\n",
       "      <td>1000</td>\n",
       "      <td>30720</td>\n",
       "      <td>3000</td>\n",
       "      <td>1950</td>\n",
       "      <td>150</td>\n",
       "      <td>1</td>\n",
       "      <td>1</td>\n",
       "    </tr>\n",
       "    <tr>\n",
       "      <th>2</th>\n",
       "      <td>1000</td>\n",
       "      <td>2018-07-01</td>\n",
       "      <td>47.0</td>\n",
       "      <td>319.0</td>\n",
       "      <td>75.0</td>\n",
       "      <td>14003.64</td>\n",
       "      <td>ultra</td>\n",
       "      <td>1000</td>\n",
       "      <td>30720</td>\n",
       "      <td>3000</td>\n",
       "      <td>1950</td>\n",
       "      <td>150</td>\n",
       "      <td>1</td>\n",
       "      <td>1</td>\n",
       "    </tr>\n",
       "    <tr>\n",
       "      <th>3</th>\n",
       "      <td>1000</td>\n",
       "      <td>2018-08-01</td>\n",
       "      <td>52.0</td>\n",
       "      <td>390.0</td>\n",
       "      <td>81.0</td>\n",
       "      <td>14055.93</td>\n",
       "      <td>ultra</td>\n",
       "      <td>1000</td>\n",
       "      <td>30720</td>\n",
       "      <td>3000</td>\n",
       "      <td>1950</td>\n",
       "      <td>150</td>\n",
       "      <td>1</td>\n",
       "      <td>1</td>\n",
       "    </tr>\n",
       "    <tr>\n",
       "      <th>4</th>\n",
       "      <td>1000</td>\n",
       "      <td>2018-09-01</td>\n",
       "      <td>58.0</td>\n",
       "      <td>441.0</td>\n",
       "      <td>57.0</td>\n",
       "      <td>14568.91</td>\n",
       "      <td>ultra</td>\n",
       "      <td>1000</td>\n",
       "      <td>30720</td>\n",
       "      <td>3000</td>\n",
       "      <td>1950</td>\n",
       "      <td>150</td>\n",
       "      <td>1</td>\n",
       "      <td>1</td>\n",
       "    </tr>\n",
       "  </tbody>\n",
       "</table>\n",
       "</div>"
      ],
      "text/plain": [
       "   user_id      month  call_count  total_duration  message_count  \\\n",
       "0     1000 2018-05-01        22.0           151.0           22.0   \n",
       "1     1000 2018-06-01        43.0           159.0           60.0   \n",
       "2     1000 2018-07-01        47.0           319.0           75.0   \n",
       "3     1000 2018-08-01        52.0           390.0           81.0   \n",
       "4     1000 2018-09-01        58.0           441.0           57.0   \n",
       "\n",
       "   mb_used_total tariff  messages_included  mb_per_month_included  \\\n",
       "0        2253.49  ultra               1000                  30720   \n",
       "1       23233.77  ultra               1000                  30720   \n",
       "2       14003.64  ultra               1000                  30720   \n",
       "3       14055.93  ultra               1000                  30720   \n",
       "4       14568.91  ultra               1000                  30720   \n",
       "\n",
       "   minutes_included  rub_monthly_fee  rub_per_gb  rub_per_message  \\\n",
       "0              3000             1950         150                1   \n",
       "1              3000             1950         150                1   \n",
       "2              3000             1950         150                1   \n",
       "3              3000             1950         150                1   \n",
       "4              3000             1950         150                1   \n",
       "\n",
       "   rub_per_minute  \n",
       "0               1  \n",
       "1               1  \n",
       "2               1  \n",
       "3               1  \n",
       "4               1  "
      ]
     },
     "execution_count": 11,
     "metadata": {},
     "output_type": "execute_result"
    }
   ],
   "source": [
    "# добавление столбцов с названием тарифа\n",
    "users_tariff = users[['user_id', 'tariff']]\n",
    "df_users = df_users.merge(users_tariff, on='user_id', how = 'left')\n",
    "\n",
    "# переимуем название колонки tariffs\n",
    "tariffs.rename(columns={'tariff_name':'tariff'}, inplace=True)\n",
    "\n",
    "# объединение с таблицей по тарифам\n",
    "df_users = df_users.merge(tariffs, on='tariff')\n",
    "df_users.head()"
   ]
  },
  {
   "cell_type": "markdown",
   "metadata": {},
   "source": [
    "Добавим в таблицу столбец с количеством использованных гигобайт с округлением в большую сторону и количество гигобайт, включенных в тариф."
   ]
  },
  {
   "cell_type": "code",
   "execution_count": 12,
   "metadata": {},
   "outputs": [
    {
     "data": {
      "text/html": [
       "<div>\n",
       "<style scoped>\n",
       "    .dataframe tbody tr th:only-of-type {\n",
       "        vertical-align: middle;\n",
       "    }\n",
       "\n",
       "    .dataframe tbody tr th {\n",
       "        vertical-align: top;\n",
       "    }\n",
       "\n",
       "    .dataframe thead th {\n",
       "        text-align: right;\n",
       "    }\n",
       "</style>\n",
       "<table border=\"1\" class=\"dataframe\">\n",
       "  <thead>\n",
       "    <tr style=\"text-align: right;\">\n",
       "      <th></th>\n",
       "      <th>user_id</th>\n",
       "      <th>month</th>\n",
       "      <th>call_count</th>\n",
       "      <th>total_duration</th>\n",
       "      <th>message_count</th>\n",
       "      <th>mb_used_total</th>\n",
       "      <th>tariff</th>\n",
       "      <th>messages_included</th>\n",
       "      <th>mb_per_month_included</th>\n",
       "      <th>minutes_included</th>\n",
       "      <th>rub_monthly_fee</th>\n",
       "      <th>rub_per_gb</th>\n",
       "      <th>rub_per_message</th>\n",
       "      <th>rub_per_minute</th>\n",
       "      <th>gb_used_total</th>\n",
       "      <th>gb_per_month_included</th>\n",
       "    </tr>\n",
       "  </thead>\n",
       "  <tbody>\n",
       "    <tr>\n",
       "      <th>0</th>\n",
       "      <td>1000</td>\n",
       "      <td>2018-05-01</td>\n",
       "      <td>22.0</td>\n",
       "      <td>151.0</td>\n",
       "      <td>22.0</td>\n",
       "      <td>2253.49</td>\n",
       "      <td>ultra</td>\n",
       "      <td>1000</td>\n",
       "      <td>30720</td>\n",
       "      <td>3000</td>\n",
       "      <td>1950</td>\n",
       "      <td>150</td>\n",
       "      <td>1</td>\n",
       "      <td>1</td>\n",
       "      <td>3.0</td>\n",
       "      <td>30.0</td>\n",
       "    </tr>\n",
       "    <tr>\n",
       "      <th>1</th>\n",
       "      <td>1000</td>\n",
       "      <td>2018-06-01</td>\n",
       "      <td>43.0</td>\n",
       "      <td>159.0</td>\n",
       "      <td>60.0</td>\n",
       "      <td>23233.77</td>\n",
       "      <td>ultra</td>\n",
       "      <td>1000</td>\n",
       "      <td>30720</td>\n",
       "      <td>3000</td>\n",
       "      <td>1950</td>\n",
       "      <td>150</td>\n",
       "      <td>1</td>\n",
       "      <td>1</td>\n",
       "      <td>23.0</td>\n",
       "      <td>30.0</td>\n",
       "    </tr>\n",
       "    <tr>\n",
       "      <th>2</th>\n",
       "      <td>1000</td>\n",
       "      <td>2018-07-01</td>\n",
       "      <td>47.0</td>\n",
       "      <td>319.0</td>\n",
       "      <td>75.0</td>\n",
       "      <td>14003.64</td>\n",
       "      <td>ultra</td>\n",
       "      <td>1000</td>\n",
       "      <td>30720</td>\n",
       "      <td>3000</td>\n",
       "      <td>1950</td>\n",
       "      <td>150</td>\n",
       "      <td>1</td>\n",
       "      <td>1</td>\n",
       "      <td>14.0</td>\n",
       "      <td>30.0</td>\n",
       "    </tr>\n",
       "    <tr>\n",
       "      <th>3</th>\n",
       "      <td>1000</td>\n",
       "      <td>2018-08-01</td>\n",
       "      <td>52.0</td>\n",
       "      <td>390.0</td>\n",
       "      <td>81.0</td>\n",
       "      <td>14055.93</td>\n",
       "      <td>ultra</td>\n",
       "      <td>1000</td>\n",
       "      <td>30720</td>\n",
       "      <td>3000</td>\n",
       "      <td>1950</td>\n",
       "      <td>150</td>\n",
       "      <td>1</td>\n",
       "      <td>1</td>\n",
       "      <td>14.0</td>\n",
       "      <td>30.0</td>\n",
       "    </tr>\n",
       "    <tr>\n",
       "      <th>4</th>\n",
       "      <td>1000</td>\n",
       "      <td>2018-09-01</td>\n",
       "      <td>58.0</td>\n",
       "      <td>441.0</td>\n",
       "      <td>57.0</td>\n",
       "      <td>14568.91</td>\n",
       "      <td>ultra</td>\n",
       "      <td>1000</td>\n",
       "      <td>30720</td>\n",
       "      <td>3000</td>\n",
       "      <td>1950</td>\n",
       "      <td>150</td>\n",
       "      <td>1</td>\n",
       "      <td>1</td>\n",
       "      <td>15.0</td>\n",
       "      <td>30.0</td>\n",
       "    </tr>\n",
       "  </tbody>\n",
       "</table>\n",
       "</div>"
      ],
      "text/plain": [
       "   user_id      month  call_count  total_duration  message_count  \\\n",
       "0     1000 2018-05-01        22.0           151.0           22.0   \n",
       "1     1000 2018-06-01        43.0           159.0           60.0   \n",
       "2     1000 2018-07-01        47.0           319.0           75.0   \n",
       "3     1000 2018-08-01        52.0           390.0           81.0   \n",
       "4     1000 2018-09-01        58.0           441.0           57.0   \n",
       "\n",
       "   mb_used_total tariff  messages_included  mb_per_month_included  \\\n",
       "0        2253.49  ultra               1000                  30720   \n",
       "1       23233.77  ultra               1000                  30720   \n",
       "2       14003.64  ultra               1000                  30720   \n",
       "3       14055.93  ultra               1000                  30720   \n",
       "4       14568.91  ultra               1000                  30720   \n",
       "\n",
       "   minutes_included  rub_monthly_fee  rub_per_gb  rub_per_message  \\\n",
       "0              3000             1950         150                1   \n",
       "1              3000             1950         150                1   \n",
       "2              3000             1950         150                1   \n",
       "3              3000             1950         150                1   \n",
       "4              3000             1950         150                1   \n",
       "\n",
       "   rub_per_minute  gb_used_total  gb_per_month_included  \n",
       "0               1            3.0                   30.0  \n",
       "1               1           23.0                   30.0  \n",
       "2               1           14.0                   30.0  \n",
       "3               1           14.0                   30.0  \n",
       "4               1           15.0                   30.0  "
      ]
     },
     "execution_count": 12,
     "metadata": {},
     "output_type": "execute_result"
    }
   ],
   "source": [
    "df_users['gb_used_total'] = (df_users['mb_used_total'] / 1024)\n",
    "df_users['gb_used_total'] = np.ceil(df_users['gb_used_total'])\n",
    "df_users['gb_per_month_included'] = (df_users['mb_per_month_included'] / 1024)\n",
    "df_users['gb_per_month_included'] = np.ceil(df_users['gb_per_month_included'])\n",
    "df_users.reset_index()\n",
    "df_users.head()"
   ]
  },
  {
   "cell_type": "markdown",
   "metadata": {},
   "source": [
    "Теперь необходимо посчитать помесячную выручку с каждого пользователя, для этого вычтем бесплатный лимит из суммарного количества звонков, сообщений и интернет-трафика; остаток умножим на значение из тарифного плана; прибавим абонентскую плату, соответствующую тарифному плану"
   ]
  },
  {
   "cell_type": "code",
   "execution_count": 13,
   "metadata": {},
   "outputs": [
    {
     "data": {
      "text/html": [
       "<div>\n",
       "<style scoped>\n",
       "    .dataframe tbody tr th:only-of-type {\n",
       "        vertical-align: middle;\n",
       "    }\n",
       "\n",
       "    .dataframe tbody tr th {\n",
       "        vertical-align: top;\n",
       "    }\n",
       "\n",
       "    .dataframe thead th {\n",
       "        text-align: right;\n",
       "    }\n",
       "</style>\n",
       "<table border=\"1\" class=\"dataframe\">\n",
       "  <thead>\n",
       "    <tr style=\"text-align: right;\">\n",
       "      <th></th>\n",
       "      <th>user_id</th>\n",
       "      <th>month</th>\n",
       "      <th>call_count</th>\n",
       "      <th>total_duration</th>\n",
       "      <th>message_count</th>\n",
       "      <th>mb_used_total</th>\n",
       "      <th>tariff</th>\n",
       "      <th>messages_included</th>\n",
       "      <th>mb_per_month_included</th>\n",
       "      <th>minutes_included</th>\n",
       "      <th>rub_monthly_fee</th>\n",
       "      <th>rub_per_gb</th>\n",
       "      <th>rub_per_message</th>\n",
       "      <th>rub_per_minute</th>\n",
       "      <th>gb_used_total</th>\n",
       "      <th>gb_per_month_included</th>\n",
       "      <th>revenue</th>\n",
       "    </tr>\n",
       "  </thead>\n",
       "  <tbody>\n",
       "    <tr>\n",
       "      <th>0</th>\n",
       "      <td>1000</td>\n",
       "      <td>2018-05-01</td>\n",
       "      <td>22.0</td>\n",
       "      <td>151.0</td>\n",
       "      <td>22.0</td>\n",
       "      <td>2253.49</td>\n",
       "      <td>ultra</td>\n",
       "      <td>1000</td>\n",
       "      <td>30720</td>\n",
       "      <td>3000</td>\n",
       "      <td>1950</td>\n",
       "      <td>150</td>\n",
       "      <td>1</td>\n",
       "      <td>1</td>\n",
       "      <td>3.0</td>\n",
       "      <td>30.0</td>\n",
       "      <td>1950.0</td>\n",
       "    </tr>\n",
       "    <tr>\n",
       "      <th>1</th>\n",
       "      <td>1000</td>\n",
       "      <td>2018-06-01</td>\n",
       "      <td>43.0</td>\n",
       "      <td>159.0</td>\n",
       "      <td>60.0</td>\n",
       "      <td>23233.77</td>\n",
       "      <td>ultra</td>\n",
       "      <td>1000</td>\n",
       "      <td>30720</td>\n",
       "      <td>3000</td>\n",
       "      <td>1950</td>\n",
       "      <td>150</td>\n",
       "      <td>1</td>\n",
       "      <td>1</td>\n",
       "      <td>23.0</td>\n",
       "      <td>30.0</td>\n",
       "      <td>1950.0</td>\n",
       "    </tr>\n",
       "    <tr>\n",
       "      <th>2</th>\n",
       "      <td>1000</td>\n",
       "      <td>2018-07-01</td>\n",
       "      <td>47.0</td>\n",
       "      <td>319.0</td>\n",
       "      <td>75.0</td>\n",
       "      <td>14003.64</td>\n",
       "      <td>ultra</td>\n",
       "      <td>1000</td>\n",
       "      <td>30720</td>\n",
       "      <td>3000</td>\n",
       "      <td>1950</td>\n",
       "      <td>150</td>\n",
       "      <td>1</td>\n",
       "      <td>1</td>\n",
       "      <td>14.0</td>\n",
       "      <td>30.0</td>\n",
       "      <td>1950.0</td>\n",
       "    </tr>\n",
       "    <tr>\n",
       "      <th>3</th>\n",
       "      <td>1000</td>\n",
       "      <td>2018-08-01</td>\n",
       "      <td>52.0</td>\n",
       "      <td>390.0</td>\n",
       "      <td>81.0</td>\n",
       "      <td>14055.93</td>\n",
       "      <td>ultra</td>\n",
       "      <td>1000</td>\n",
       "      <td>30720</td>\n",
       "      <td>3000</td>\n",
       "      <td>1950</td>\n",
       "      <td>150</td>\n",
       "      <td>1</td>\n",
       "      <td>1</td>\n",
       "      <td>14.0</td>\n",
       "      <td>30.0</td>\n",
       "      <td>1950.0</td>\n",
       "    </tr>\n",
       "    <tr>\n",
       "      <th>4</th>\n",
       "      <td>1000</td>\n",
       "      <td>2018-09-01</td>\n",
       "      <td>58.0</td>\n",
       "      <td>441.0</td>\n",
       "      <td>57.0</td>\n",
       "      <td>14568.91</td>\n",
       "      <td>ultra</td>\n",
       "      <td>1000</td>\n",
       "      <td>30720</td>\n",
       "      <td>3000</td>\n",
       "      <td>1950</td>\n",
       "      <td>150</td>\n",
       "      <td>1</td>\n",
       "      <td>1</td>\n",
       "      <td>15.0</td>\n",
       "      <td>30.0</td>\n",
       "      <td>1950.0</td>\n",
       "    </tr>\n",
       "  </tbody>\n",
       "</table>\n",
       "</div>"
      ],
      "text/plain": [
       "   user_id      month  call_count  total_duration  message_count  \\\n",
       "0     1000 2018-05-01        22.0           151.0           22.0   \n",
       "1     1000 2018-06-01        43.0           159.0           60.0   \n",
       "2     1000 2018-07-01        47.0           319.0           75.0   \n",
       "3     1000 2018-08-01        52.0           390.0           81.0   \n",
       "4     1000 2018-09-01        58.0           441.0           57.0   \n",
       "\n",
       "   mb_used_total tariff  messages_included  mb_per_month_included  \\\n",
       "0        2253.49  ultra               1000                  30720   \n",
       "1       23233.77  ultra               1000                  30720   \n",
       "2       14003.64  ultra               1000                  30720   \n",
       "3       14055.93  ultra               1000                  30720   \n",
       "4       14568.91  ultra               1000                  30720   \n",
       "\n",
       "   minutes_included  rub_monthly_fee  rub_per_gb  rub_per_message  \\\n",
       "0              3000             1950         150                1   \n",
       "1              3000             1950         150                1   \n",
       "2              3000             1950         150                1   \n",
       "3              3000             1950         150                1   \n",
       "4              3000             1950         150                1   \n",
       "\n",
       "   rub_per_minute  gb_used_total  gb_per_month_included  revenue  \n",
       "0               1            3.0                   30.0   1950.0  \n",
       "1               1           23.0                   30.0   1950.0  \n",
       "2               1           14.0                   30.0   1950.0  \n",
       "3               1           14.0                   30.0   1950.0  \n",
       "4               1           15.0                   30.0   1950.0  "
      ]
     },
     "execution_count": 13,
     "metadata": {},
     "output_type": "execute_result"
    }
   ],
   "source": [
    "# посчитаем выручку с каждого пользователя за минуты, смс и интернет\n",
    "mins = (df_users['total_duration'] - df_users['minutes_included']) * df_users['rub_per_minute']\n",
    "sms = (df_users['message_count'] - df_users['messages_included']) * df_users['rub_per_message']\n",
    "gb = (df_users['gb_used_total'] - df_users['gb_per_month_included']) * df_users['rub_per_gb']\n",
    "\n",
    "# если пользователь укладывался в тариф, доплаты у него не происходили\n",
    "mins = np.clip(mins, 0, None)\n",
    "sms.loc[sms < 0] = 0\n",
    "gb.loc[gb < 0] = 0\n",
    "\n",
    "# сложим выручку и прибавим абонентскую плату\n",
    "df_users['revenue'] = mins + sms + gb + df_users['rub_monthly_fee']\n",
    "df_users.head()"
   ]
  },
  {
   "cell_type": "markdown",
   "metadata": {},
   "source": [
    "## Анализ данных"
   ]
  },
  {
   "cell_type": "markdown",
   "metadata": {},
   "source": [
    "Необходимо описать поведение клиентов оператора, исходя из выборки. Сколько минут разговора, сколько сообщений и какой объём интернет-трафика требуется пользователям каждого тарифа в месяц? Посчитать среднее количество, дисперсию и стандартное отклонение. Построить гистограммы. Описать распределения."
   ]
  },
  {
   "cell_type": "code",
   "execution_count": 14,
   "metadata": {
    "scrolled": false
   },
   "outputs": [
    {
     "name": "stdout",
     "output_type": "stream",
     "text": [
      "Звонки в месяц\n"
     ]
    },
    {
     "data": {
      "text/html": [
       "<div>\n",
       "<style scoped>\n",
       "    .dataframe tbody tr th:only-of-type {\n",
       "        vertical-align: middle;\n",
       "    }\n",
       "\n",
       "    .dataframe tbody tr th {\n",
       "        vertical-align: top;\n",
       "    }\n",
       "\n",
       "    .dataframe thead tr th {\n",
       "        text-align: left;\n",
       "    }\n",
       "\n",
       "    .dataframe thead tr:last-of-type th {\n",
       "        text-align: right;\n",
       "    }\n",
       "</style>\n",
       "<table border=\"1\" class=\"dataframe\">\n",
       "  <thead>\n",
       "    <tr>\n",
       "      <th></th>\n",
       "      <th>mean</th>\n",
       "      <th>var</th>\n",
       "      <th>std</th>\n",
       "      <th>median</th>\n",
       "    </tr>\n",
       "    <tr>\n",
       "      <th></th>\n",
       "      <th>total_duration</th>\n",
       "      <th>total_duration</th>\n",
       "      <th>total_duration</th>\n",
       "      <th>total_duration</th>\n",
       "    </tr>\n",
       "    <tr>\n",
       "      <th>tariff</th>\n",
       "      <th></th>\n",
       "      <th></th>\n",
       "      <th></th>\n",
       "      <th></th>\n",
       "    </tr>\n",
       "  </thead>\n",
       "  <tbody>\n",
       "    <tr>\n",
       "      <th>smart</th>\n",
       "      <td>395.985155</td>\n",
       "      <td>32058.431373</td>\n",
       "      <td>179.048684</td>\n",
       "      <td>399.0</td>\n",
       "    </tr>\n",
       "    <tr>\n",
       "      <th>ultra</th>\n",
       "      <td>515.331230</td>\n",
       "      <td>84000.788066</td>\n",
       "      <td>289.828894</td>\n",
       "      <td>498.0</td>\n",
       "    </tr>\n",
       "  </tbody>\n",
       "</table>\n",
       "</div>"
      ],
      "text/plain": [
       "                 mean            var            std         median\n",
       "       total_duration total_duration total_duration total_duration\n",
       "tariff                                                            \n",
       "smart      395.985155   32058.431373     179.048684          399.0\n",
       "ultra      515.331230   84000.788066     289.828894          498.0"
      ]
     },
     "metadata": {},
     "output_type": "display_data"
    },
    {
     "data": {
      "image/png": "[encoded data removed]",
      "text/plain": [
       "<Figure size 432x288 with 1 Axes>"
      ]
     },
     "metadata": {
      "needs_background": "light"
     },
     "output_type": "display_data"
    },
    {
     "name": "stdout",
     "output_type": "stream",
     "text": [
      "СМС в месяц\n"
     ]
    },
    {
     "data": {
      "text/html": [
       "<div>\n",
       "<style scoped>\n",
       "    .dataframe tbody tr th:only-of-type {\n",
       "        vertical-align: middle;\n",
       "    }\n",
       "\n",
       "    .dataframe tbody tr th {\n",
       "        vertical-align: top;\n",
       "    }\n",
       "\n",
       "    .dataframe thead tr th {\n",
       "        text-align: left;\n",
       "    }\n",
       "\n",
       "    .dataframe thead tr:last-of-type th {\n",
       "        text-align: right;\n",
       "    }\n",
       "</style>\n",
       "<table border=\"1\" class=\"dataframe\">\n",
       "  <thead>\n",
       "    <tr>\n",
       "      <th></th>\n",
       "      <th>mean</th>\n",
       "      <th>var</th>\n",
       "      <th>std</th>\n",
       "      <th>median</th>\n",
       "    </tr>\n",
       "    <tr>\n",
       "      <th></th>\n",
       "      <th>message_count</th>\n",
       "      <th>message_count</th>\n",
       "      <th>message_count</th>\n",
       "      <th>message_count</th>\n",
       "    </tr>\n",
       "    <tr>\n",
       "      <th>tariff</th>\n",
       "      <th></th>\n",
       "      <th></th>\n",
       "      <th></th>\n",
       "      <th></th>\n",
       "    </tr>\n",
       "  </thead>\n",
       "  <tbody>\n",
       "    <tr>\n",
       "      <th>smart</th>\n",
       "      <td>38.716441</td>\n",
       "      <td>717.594201</td>\n",
       "      <td>26.787949</td>\n",
       "      <td>34.0</td>\n",
       "    </tr>\n",
       "    <tr>\n",
       "      <th>ultra</th>\n",
       "      <td>61.161006</td>\n",
       "      <td>2109.659183</td>\n",
       "      <td>45.931026</td>\n",
       "      <td>51.0</td>\n",
       "    </tr>\n",
       "  </tbody>\n",
       "</table>\n",
       "</div>"
      ],
      "text/plain": [
       "                mean           var           std        median\n",
       "       message_count message_count message_count message_count\n",
       "tariff                                                        \n",
       "smart      38.716441    717.594201     26.787949          34.0\n",
       "ultra      61.161006   2109.659183     45.931026          51.0"
      ]
     },
     "metadata": {},
     "output_type": "display_data"
    },
    {
     "data": {
      "image/png": "[encoded data removed]",
      "text/plain": [
       "<Figure size 432x288 with 1 Axes>"
      ]
     },
     "metadata": {
      "needs_background": "light"
     },
     "output_type": "display_data"
    },
    {
     "name": "stdout",
     "output_type": "stream",
     "text": [
      "Интернет-трафик в месяц\n"
     ]
    },
    {
     "data": {
      "text/html": [
       "<div>\n",
       "<style scoped>\n",
       "    .dataframe tbody tr th:only-of-type {\n",
       "        vertical-align: middle;\n",
       "    }\n",
       "\n",
       "    .dataframe tbody tr th {\n",
       "        vertical-align: top;\n",
       "    }\n",
       "\n",
       "    .dataframe thead tr th {\n",
       "        text-align: left;\n",
       "    }\n",
       "\n",
       "    .dataframe thead tr:last-of-type th {\n",
       "        text-align: right;\n",
       "    }\n",
       "</style>\n",
       "<table border=\"1\" class=\"dataframe\">\n",
       "  <thead>\n",
       "    <tr>\n",
       "      <th></th>\n",
       "      <th>mean</th>\n",
       "      <th>var</th>\n",
       "      <th>std</th>\n",
       "      <th>median</th>\n",
       "    </tr>\n",
       "    <tr>\n",
       "      <th></th>\n",
       "      <th>gb_used_total</th>\n",
       "      <th>gb_used_total</th>\n",
       "      <th>gb_used_total</th>\n",
       "      <th>gb_used_total</th>\n",
       "    </tr>\n",
       "    <tr>\n",
       "      <th>tariff</th>\n",
       "      <th></th>\n",
       "      <th></th>\n",
       "      <th></th>\n",
       "      <th></th>\n",
       "    </tr>\n",
       "  </thead>\n",
       "  <tbody>\n",
       "    <tr>\n",
       "      <th>smart</th>\n",
       "      <td>16.336176</td>\n",
       "      <td>32.923756</td>\n",
       "      <td>5.737923</td>\n",
       "      <td>17.0</td>\n",
       "    </tr>\n",
       "    <tr>\n",
       "      <th>ultra</th>\n",
       "      <td>19.694359</td>\n",
       "      <td>94.146734</td>\n",
       "      <td>9.702924</td>\n",
       "      <td>19.0</td>\n",
       "    </tr>\n",
       "  </tbody>\n",
       "</table>\n",
       "</div>"
      ],
      "text/plain": [
       "                mean           var           std        median\n",
       "       gb_used_total gb_used_total gb_used_total gb_used_total\n",
       "tariff                                                        \n",
       "smart      16.336176     32.923756      5.737923          17.0\n",
       "ultra      19.694359     94.146734      9.702924          19.0"
      ]
     },
     "metadata": {},
     "output_type": "display_data"
    },
    {
     "data": {
      "image/png": "[encoded data removed]",
      "text/plain": [
       "<Figure size 432x288 with 1 Axes>"
      ]
     },
     "metadata": {
      "needs_background": "light"
     },
     "output_type": "display_data"
    }
   ],
   "source": [
    "columns = ['total_duration', 'message_count', 'gb_used_total']\n",
    "names = ['Звонки в месяц', 'СМС в месяц', 'Интернет-трафик в месяц']\n",
    "xlabel = ['Всего минут', 'Количество СМС', 'Использованных ГБ']\n",
    "\n",
    "for column in range(len(columns)):\n",
    "    \n",
    "    # создадим переменные для двух тарифов\n",
    "    ultra = df_users[df_users['tariff'] == 'ultra']\n",
    "    smart = df_users[df_users['tariff'] == 'smart']\n",
    "    \n",
    "    # создадим гистограмму для двух тарифов в месяц\n",
    "    plt.hist(ultra[columns[column]], bins=50, alpha=0.5, label='Ultra')\n",
    "    plt.hist(smart[columns[column]], bins=50, alpha=0.5, label='Smart')\n",
    "    \n",
    "    # посчитаем среднее, дисперсию и стандартное отклонение\n",
    "    print (names[column])\n",
    "    \n",
    "    df_pivot = df_users.pivot_table(index= 'tariff', values= columns[column],  aggfunc= ['mean', 'var','std', 'median'])\n",
    "    display (df_pivot)\n",
    "    \n",
    "    # выведем на экран\n",
    "    plt.title(names[column])\n",
    "    plt.xlabel(xlabel[column])\n",
    "    plt.legend()\n",
    "    plt.show()\n"
   ]
  },
  {
   "cell_type": "markdown",
   "metadata": {},
   "source": [
    "**Тариф «Смарт»**\n",
    "* Ежемесячная плата: 550 рублей\n",
    "* Включено 500 минут разговора, 50 сообщений и 15 Гб интернет-трафика\n",
    "* Стоимость услуг сверх тарифного пакета: минута разговора: 3 рубля, сообщение: 3 рубля\n",
    "* 1 Гб интернет-трафика: 200 рублей\n",
    "\n",
    "**Тариф «Ультра»**\n",
    "* Ежемесячная плата: 1950 рублей\n",
    "* Включено 3000 минут разговора, 1000 сообщений и 30 Гб интернет-трафика\n",
    "* Стоимость услуг сверх тарифного пакета: минута разговора: 1 рубль, сообщение: 1 рубль\n",
    "* 1 Гб интернет-трафика: 150 рублей"
   ]
  },
  {
   "cell_type": "markdown",
   "metadata": {},
   "source": [
    "Звонки:\n",
    "* Несмотря на 3000 минут включенных в тариф Ultra, среднее количество минут в месяц у всех пользователей не превышает 1600.\n",
    "* В среднем пользователи Smart тратят около 400 минут в месяц, а пользователи Ultra - около 500 минут.\n",
    "* Пользователям тарифа Ultra не требуется 3000 включенных в абонентскую плату минут, такое количество просто не используется, его можно снизить до 1000 минут\n",
    "\n",
    "СМС:\n",
    "* В среднем пользователи Smart отправляют около 40 сообщений в месяц, а пользователи Ultra - около 60 сообщений.\n",
    "* Включенные в абонентскую плату 1000 сообщений не используются совсем, так как в месяц пользователи отправляют не более 250 сообщений в среднем в обоих тарифах.\n",
    "\n",
    "Трафик:\n",
    "* В тарифе Smart среднее количество использованных ГБ в месяц - 16.3, а в тариф включено всего 15 гб, соответственно переплата за тариф у пользователей составляет минимум 200 рублей.\n",
    "* Пользователи тарифа Ultra используют до 50 гб в месяц.\n",
    "\n",
    "Несмотря на то, что в тарифе Ultra включено 3000 минут разговора и 1000 сообщений - такое количество не используется, пользователям достаточно до 1000 минут и до 200 сообщений в месяц. С интернет-трафиком - наоборот: пользователи переплачивают за гб, которых в тарифе недостаточно, из-за чего тариф Smart получается минимум на 200 р дороже.\n"
   ]
  },
  {
   "cell_type": "markdown",
   "metadata": {},
   "source": [
    "## Проверка гипотез"
   ]
  },
  {
   "cell_type": "markdown",
   "metadata": {},
   "source": [
    "* Нулевая гипотеза: Средняя выручка пользователей тарифов «Ультра» и «Смарт» одинаковая\n",
    "* Альтернативная гипотеза: Средняя выручка пользователей тарифов «Ультра» и «Смарт» разная"
   ]
  },
  {
   "cell_type": "code",
   "execution_count": 15,
   "metadata": {},
   "outputs": [
    {
     "name": "stdout",
     "output_type": "stream",
     "text": [
      "Дисперсия Ultra 110817.77488171868 Дисперсия Smart 648186.9392231536\n",
      "Средняя выручка Ultra 2048.936170212766 Средняя выручка Smart 1257.9472584856396\n",
      "p-значение: 2.4562350563259974e-230\n",
      "Отвергаем нулевую гипотезу\n"
     ]
    }
   ],
   "source": [
    "from scipy import stats as st\n",
    "\n",
    "ultra = df_users[df_users['tariff'] == 'ultra']['revenue'].dropna()\n",
    "smart = df_users[df_users['tariff'] == 'smart']['revenue'].dropna()\n",
    "print ('Дисперсия Ultra', ultra.var(), 'Дисперсия Smart', smart.var())\n",
    "print ('Средняя выручка Ultra', ultra.mean(), 'Средняя выручка Smart', smart.mean())\n",
    "\n",
    "alpha = 0.05\n",
    "\n",
    "results = st.ttest_ind(ultra, smart, equal_var=False)\n",
    "\n",
    "print('p-значение:', results.pvalue) # ваш код: выведите на экран получившееся p-значение)\n",
    "\n",
    "if results.pvalue < alpha: # ваш код: сравните получившееся p-значение с заданным уровнем статистической значимости :\n",
    "    print(\"Отвергаем нулевую гипотезу\")\n",
    "else:\n",
    "    print(\"Не получилось отвергнуть нулевую гипотезу\")"
   ]
  },
  {
   "cell_type": "markdown",
   "metadata": {},
   "source": [
    "**Гипотеза о том, что средняя выручка пользователей тарифов «Ультра» и «Смарт» различна подтвердилась.**"
   ]
  },
  {
   "cell_type": "markdown",
   "metadata": {},
   "source": [
    "* Нулевая гипотеза: Средняя выручка пользователей из Москвы и выручка пользователей из других регионов одинаковая\n",
    "* Альтернативная гипотеза: Средняя выручка пользователей из Москвы отличается от выручки пользователей из других регионов"
   ]
  },
  {
   "cell_type": "code",
   "execution_count": 16,
   "metadata": {},
   "outputs": [
    {
     "name": "stdout",
     "output_type": "stream",
     "text": [
      "Дисперсия пользователей из Москвы 584439.0360364106 Дисперсия пользователей из других регионов 648186.9392231536\n",
      "p-значение: 0.08244090114571569\n",
      "Не получилось отвергнуть нулевую гипотезу\n"
     ]
    }
   ],
   "source": [
    "df_users = df_users.merge(users)\n",
    "\n",
    "moscow = df_users[df_users['city'] == 'Москва']['revenue'].dropna()\n",
    "other = df_users[df_users['city'] != 'Москва']['revenue'].dropna()\n",
    "print ('Дисперсия пользователей из Москвы', moscow.var(), 'Дисперсия пользователей из других регионов', smart.var())\n",
    "\n",
    "alpha = 0.05\n",
    "\n",
    "results = st.ttest_ind(moscow, other)\n",
    "\n",
    "print('p-значение:', results.pvalue) # ваш код: выведите на экран получившееся p-значение)\n",
    "\n",
    "if results.pvalue < alpha: # ваш код: сравните получившееся p-значение с заданным уровнем статистической значимости :\n",
    "    print(\"Отвергаем нулевую гипотезу\")\n",
    "else:\n",
    "    print(\"Не получилось отвергнуть нулевую гипотезу\")"
   ]
  },
  {
   "cell_type": "markdown",
   "metadata": {},
   "source": [
    "**Гипотеза о том, что средняя выручка пользователей из Москвы отличается от выручки пользователей из других регионов не подтвердилась.**"
   ]
  },
  {
   "cell_type": "markdown",
   "metadata": {},
   "source": [
    "## Вывод"
   ]
  },
  {
   "cell_type": "markdown",
   "metadata": {},
   "source": [
    "1. Несмотря на то, что в тарифе Ultra включено 3000 минут разговора и 1000 сообщений - такое количество не используется, пользователям достаточно до 1000 минут и до 200 сообщений в месяц. С интернет-трафиком - наоборот: пользователи переплачивают за гб, которых в тарифе недостаточно, из-за чего тариф Smart получается минимум на 200 р дороже.\n",
    "\n",
    "2. Средняя выручка пользователей тарифа Ultra выше, чем выручка с тарифа Smart.\n",
    "\n",
    "3. Средняя выручка пользователей из Москвы и выручка пользователей из других регионов примерно одинаковая."
   ]
  },
  {
   "cell_type": "markdown",
   "metadata": {},
   "source": [
    "Портрет пользователя тарифа Ultra:\n",
    "* Несмотря на 3000 минут включенных в тариф Ultra, среднее количество минут в месяц у пользователя не превышает 1600.\n",
    "* В среднем пользователь Ultra тратит около 500 минут в месяц.\n",
    "* Пользователь Ultra отправляет около 60 сообщений.\n",
    "* Пользователь тарифа Ultra используют до 50 гб в месяц.\n",
    " \n",
    " Пользователям тарифа Ultra не требуется 3000 включенных в абонентскую плату минут, такое количество просто не используется, его можно снизить до 1000 минут. Включенные в абонентскую плату 1000 сообщений не используются совсем, так как в месяц пользователи отправляют не более 250 сообщений.\n",
    " \n",
    "Портрет пользователя тарифа Smart:\n",
    "* Пользователь Smart тратит около 400 минут в месяц.\n",
    "* В среднем пользователь Smart отправляет около 40 сообщений в месяц.\n",
    "* В тарифе Smart среднее количество использованных ГБ в месяц - 16.3.\n",
    "\n",
    "В тариф включено всего 15 гб, соответственно переплата за тариф у пользователей составляет минимум 200 рублей.\n",
    "\n",
    "Исходя из результатов исследования можно сделать вывод, что пользователи в основном используют интернет, а не звонки и СМС, но довольно много переплачивают за неиспользованные минуты и смс, в обоих тарифах количество минут можно снизить до 1000 в тарифе Ultra и до 500 в тарифе Smart. Также количество СМС можно снизить до 100 в обоих тарифах. А вот за гигобайты пользователи готовы доплачивать, поэтому их количество можно повышать."
   ]
  }
 ],
 "metadata": {
  "ExecuteTimeLog": [
   {
    "duration": 751,
    "start_time": "2022-02-21T14:06:24.787Z"
   },
   {
    "duration": 598,
    "start_time": "2022-02-21T14:07:14.599Z"
   },
   {
    "duration": 468,
    "start_time": "2022-02-21T14:08:00.084Z"
   },
   {
    "duration": 1990,
    "start_time": "2022-02-21T14:08:09.719Z"
   },
   {
    "duration": 194,
    "start_time": "2022-02-21T14:08:35.903Z"
   },
   {
    "duration": 217,
    "start_time": "2022-02-21T14:08:42.173Z"
   },
   {
    "duration": 826,
    "start_time": "2022-02-21T14:11:07.780Z"
   },
   {
    "duration": 480,
    "start_time": "2022-02-21T14:11:14.201Z"
   },
   {
    "duration": 544,
    "start_time": "2022-02-21T14:20:29.369Z"
   },
   {
    "duration": 331,
    "start_time": "2022-02-21T14:28:29.902Z"
   },
   {
    "duration": 733,
    "start_time": "2022-02-21T14:28:47.934Z"
   },
   {
    "duration": 348,
    "start_time": "2022-02-21T14:29:09.415Z"
   },
   {
    "duration": 597,
    "start_time": "2022-02-21T14:30:04.795Z"
   },
   {
    "duration": 281,
    "start_time": "2022-02-21T14:30:46.572Z"
   },
   {
    "duration": 321,
    "start_time": "2022-02-21T14:30:54.303Z"
   },
   {
    "duration": 250,
    "start_time": "2022-02-21T14:32:28.376Z"
   },
   {
    "duration": 284,
    "start_time": "2022-02-21T14:32:36.734Z"
   },
   {
    "duration": 279,
    "start_time": "2022-02-21T14:32:43.913Z"
   },
   {
    "duration": 272,
    "start_time": "2022-02-21T14:32:58.783Z"
   },
   {
    "duration": 280,
    "start_time": "2022-02-21T14:33:14.499Z"
   },
   {
    "duration": 261,
    "start_time": "2022-02-21T14:36:44.288Z"
   },
   {
    "duration": 721,
    "start_time": "2022-02-21T14:36:51.219Z"
   },
   {
    "duration": 684,
    "start_time": "2022-02-21T14:36:54.436Z"
   },
   {
    "duration": 408,
    "start_time": "2022-02-21T14:36:58.741Z"
   },
   {
    "duration": 539,
    "start_time": "2022-02-21T14:37:19.564Z"
   },
   {
    "duration": 257,
    "start_time": "2022-02-21T14:37:27.764Z"
   },
   {
    "duration": 798,
    "start_time": "2022-02-21T14:38:08.551Z"
   },
   {
    "duration": 772,
    "start_time": "2022-02-21T14:38:28.311Z"
   },
   {
    "duration": 113,
    "start_time": "2022-02-21T14:39:51.203Z"
   },
   {
    "duration": 391,
    "start_time": "2022-02-21T14:39:54.971Z"
   },
   {
    "duration": 720,
    "start_time": "2022-02-21T14:40:02.712Z"
   },
   {
    "duration": 320,
    "start_time": "2022-02-21T14:40:15.534Z"
   },
   {
    "duration": 329,
    "start_time": "2022-02-21T14:42:03.706Z"
   },
   {
    "duration": 245,
    "start_time": "2022-02-21T14:42:11.227Z"
   },
   {
    "duration": 304,
    "start_time": "2022-02-21T14:42:15.741Z"
   },
   {
    "duration": 323,
    "start_time": "2022-02-21T14:43:52.986Z"
   },
   {
    "duration": 347,
    "start_time": "2022-02-21T14:44:03.103Z"
   },
   {
    "duration": 320,
    "start_time": "2022-02-21T14:44:25.648Z"
   },
   {
    "duration": 350,
    "start_time": "2022-02-21T14:46:53.616Z"
   },
   {
    "duration": 6857,
    "start_time": "2022-02-21T14:47:17.793Z"
   },
   {
    "duration": 1172,
    "start_time": "2022-02-21T14:47:24.653Z"
   },
   {
    "duration": 324,
    "start_time": "2022-02-21T14:47:45.335Z"
   },
   {
    "duration": 280,
    "start_time": "2022-02-21T15:02:09.653Z"
   },
   {
    "duration": 5977,
    "start_time": "2022-02-21T15:02:13.847Z"
   },
   {
    "duration": 4,
    "start_time": "2022-02-21T15:02:21.400Z"
   },
   {
    "duration": 1210,
    "start_time": "2022-02-21T15:02:21.852Z"
   },
   {
    "duration": 424,
    "start_time": "2022-02-21T15:02:25.136Z"
   },
   {
    "duration": 281,
    "start_time": "2022-02-21T15:03:30.566Z"
   },
   {
    "duration": 351,
    "start_time": "2022-02-21T15:03:53.911Z"
   },
   {
    "duration": 325,
    "start_time": "2022-02-21T15:05:28.440Z"
   },
   {
    "duration": 114,
    "start_time": "2022-02-21T15:06:25.540Z"
   },
   {
    "duration": 584,
    "start_time": "2022-02-21T15:06:29.092Z"
   },
   {
    "duration": 572,
    "start_time": "2022-02-21T15:06:34.289Z"
   },
   {
    "duration": 730,
    "start_time": "2022-02-21T15:10:01.611Z"
   },
   {
    "duration": 668,
    "start_time": "2022-02-21T15:10:05.912Z"
   },
   {
    "duration": 844,
    "start_time": "2022-02-21T15:10:24.852Z"
   },
   {
    "duration": 301,
    "start_time": "2022-02-21T15:13:30.415Z"
   },
   {
    "duration": 989,
    "start_time": "2022-02-21T15:13:43.336Z"
   },
   {
    "duration": 892,
    "start_time": "2022-02-21T15:14:21.160Z"
   },
   {
    "duration": 458,
    "start_time": "2022-02-21T15:14:47.929Z"
   },
   {
    "duration": 524,
    "start_time": "2022-02-21T15:15:07.230Z"
   },
   {
    "duration": 894,
    "start_time": "2022-02-21T15:15:41.215Z"
   },
   {
    "duration": 4,
    "start_time": "2022-02-21T15:16:22.915Z"
   },
   {
    "duration": 37,
    "start_time": "2022-02-21T15:16:28.386Z"
   },
   {
    "duration": 6,
    "start_time": "2022-02-21T15:16:35.078Z"
   },
   {
    "duration": 5,
    "start_time": "2022-02-21T15:16:39.295Z"
   },
   {
    "duration": 589,
    "start_time": "2022-02-21T15:18:04.604Z"
   },
   {
    "duration": 854,
    "start_time": "2022-02-21T15:18:07.700Z"
   },
   {
    "duration": 594,
    "start_time": "2022-02-21T15:18:34.528Z"
   },
   {
    "duration": 972,
    "start_time": "2022-02-21T15:19:25.683Z"
   },
   {
    "duration": 902,
    "start_time": "2022-02-21T15:20:10.199Z"
   },
   {
    "duration": 8,
    "start_time": "2022-02-21T15:27:35.195Z"
   },
   {
    "duration": 25,
    "start_time": "2022-02-21T15:27:47.380Z"
   },
   {
    "duration": 58,
    "start_time": "2022-02-21T15:31:36.450Z"
   },
   {
    "duration": 107,
    "start_time": "2022-02-21T15:31:47.289Z"
   },
   {
    "duration": 811,
    "start_time": "2022-02-21T15:32:58.064Z"
   },
   {
    "duration": 848,
    "start_time": "2022-02-21T15:33:15.998Z"
   },
   {
    "duration": 295,
    "start_time": "2022-02-21T15:34:15.307Z"
   },
   {
    "duration": 8389,
    "start_time": "2022-02-21T15:34:30.155Z"
   },
   {
    "duration": 346,
    "start_time": "2022-02-21T15:34:50.094Z"
   },
   {
    "duration": 125,
    "start_time": "2022-02-21T15:35:03.889Z"
   },
   {
    "duration": 68,
    "start_time": "2022-02-21T15:36:12.535Z"
   },
   {
    "duration": 309,
    "start_time": "2022-02-21T15:36:56.982Z"
   },
   {
    "duration": 19,
    "start_time": "2022-02-21T15:37:02.872Z"
   },
   {
    "duration": 23,
    "start_time": "2022-02-21T15:37:21.161Z"
   },
   {
    "duration": 36,
    "start_time": "2022-02-21T15:37:26.255Z"
   },
   {
    "duration": 327,
    "start_time": "2022-02-22T10:48:55.292Z"
   },
   {
    "duration": 1052,
    "start_time": "2022-02-22T10:48:59.601Z"
   },
   {
    "duration": 550,
    "start_time": "2022-02-22T10:49:00.656Z"
   },
   {
    "duration": 611,
    "start_time": "2022-02-22T10:49:01.737Z"
   },
   {
    "duration": 435,
    "start_time": "2022-02-22T10:49:04.078Z"
   },
   {
    "duration": 142,
    "start_time": "2022-02-22T10:49:13.144Z"
   },
   {
    "duration": 7730,
    "start_time": "2022-02-22T10:49:19.884Z"
   },
   {
    "duration": 1157,
    "start_time": "2022-02-22T10:49:57.292Z"
   },
   {
    "duration": 505,
    "start_time": "2022-02-22T10:49:58.450Z"
   },
   {
    "duration": 583,
    "start_time": "2022-02-22T10:49:58.957Z"
   },
   {
    "duration": 139,
    "start_time": "2022-02-22T10:49:59.541Z"
   },
   {
    "duration": 220,
    "start_time": "2022-02-22T10:49:59.682Z"
   },
   {
    "duration": 42,
    "start_time": "2022-02-22T10:49:59.903Z"
   },
   {
    "duration": 9477,
    "start_time": "2022-02-22T10:49:59.946Z"
   },
   {
    "duration": 7819,
    "start_time": "2022-02-22T10:50:17.773Z"
   },
   {
    "duration": 1013,
    "start_time": "2022-02-22T10:50:29.894Z"
   },
   {
    "duration": 489,
    "start_time": "2022-02-22T10:50:30.908Z"
   },
   {
    "duration": 619,
    "start_time": "2022-02-22T10:50:31.399Z"
   },
   {
    "duration": 65,
    "start_time": "2022-02-22T10:50:32.019Z"
   },
   {
    "duration": 279,
    "start_time": "2022-02-22T10:50:32.086Z"
   },
   {
    "duration": 54,
    "start_time": "2022-02-22T10:50:32.367Z"
   },
   {
    "duration": 20,
    "start_time": "2022-02-22T10:50:32.431Z"
   },
   {
    "duration": 71,
    "start_time": "2022-02-22T10:50:47.406Z"
   },
   {
    "duration": 98,
    "start_time": "2022-02-22T10:50:53.511Z"
   },
   {
    "duration": 116,
    "start_time": "2022-02-22T10:51:02.796Z"
   },
   {
    "duration": 7703,
    "start_time": "2022-02-22T10:51:24.170Z"
   },
   {
    "duration": 946,
    "start_time": "2022-02-22T10:51:48.084Z"
   },
   {
    "duration": 481,
    "start_time": "2022-02-22T10:51:49.031Z"
   },
   {
    "duration": 644,
    "start_time": "2022-02-22T10:51:49.516Z"
   },
   {
    "duration": 191,
    "start_time": "2022-02-22T10:51:50.162Z"
   },
   {
    "duration": 206,
    "start_time": "2022-02-22T10:51:50.354Z"
   },
   {
    "duration": 34,
    "start_time": "2022-02-22T10:51:50.561Z"
   },
   {
    "duration": 7481,
    "start_time": "2022-02-22T10:51:50.597Z"
   },
   {
    "duration": 36,
    "start_time": "2022-02-22T10:53:45.484Z"
   },
   {
    "duration": 45,
    "start_time": "2022-02-22T10:55:51.866Z"
   },
   {
    "duration": 15,
    "start_time": "2022-02-22T10:59:35.857Z"
   },
   {
    "duration": 21,
    "start_time": "2022-02-22T10:59:42.235Z"
   },
   {
    "duration": 3,
    "start_time": "2022-02-22T11:00:30.855Z"
   },
   {
    "duration": 4,
    "start_time": "2022-02-22T11:00:36.216Z"
   },
   {
    "duration": 5,
    "start_time": "2022-02-22T11:00:49.229Z"
   },
   {
    "duration": 23,
    "start_time": "2022-02-22T11:00:58.879Z"
   },
   {
    "duration": 27,
    "start_time": "2022-02-22T11:03:31.405Z"
   },
   {
    "duration": 12,
    "start_time": "2022-02-22T11:03:37.192Z"
   },
   {
    "duration": 9,
    "start_time": "2022-02-22T11:04:00.065Z"
   },
   {
    "duration": 12,
    "start_time": "2022-02-22T11:04:28.704Z"
   },
   {
    "duration": 14,
    "start_time": "2022-02-22T11:04:33.208Z"
   },
   {
    "duration": 409,
    "start_time": "2022-02-22T11:11:56.858Z"
   },
   {
    "duration": 1098,
    "start_time": "2022-02-22T11:12:03.633Z"
   },
   {
    "duration": 5934,
    "start_time": "2022-02-22T11:12:05.324Z"
   },
   {
    "duration": 790,
    "start_time": "2022-02-22T11:12:15.097Z"
   },
   {
    "duration": 790,
    "start_time": "2022-02-22T11:13:12.627Z"
   },
   {
    "duration": 236,
    "start_time": "2022-02-22T11:18:31.562Z"
   },
   {
    "duration": 2733,
    "start_time": "2022-02-22T11:18:46.777Z"
   },
   {
    "duration": 496,
    "start_time": "2022-02-22T11:18:50.221Z"
   },
   {
    "duration": 2648,
    "start_time": "2022-02-22T11:18:53.583Z"
   },
   {
    "duration": 534,
    "start_time": "2022-02-22T11:19:03.499Z"
   },
   {
    "duration": 163,
    "start_time": "2022-02-22T11:19:05.841Z"
   },
   {
    "duration": 247,
    "start_time": "2022-02-22T11:19:08.396Z"
   },
   {
    "duration": 1078,
    "start_time": "2022-02-22T11:23:11.638Z"
   },
   {
    "duration": 5726,
    "start_time": "2022-02-22T11:23:12.718Z"
   },
   {
    "duration": 560,
    "start_time": "2022-02-22T11:23:19.993Z"
   },
   {
    "duration": 140,
    "start_time": "2022-02-22T11:23:20.948Z"
   },
   {
    "duration": 211,
    "start_time": "2022-02-22T11:23:22.893Z"
   },
   {
    "duration": 376,
    "start_time": "2022-02-22T11:25:34.972Z"
   },
   {
    "duration": 1223,
    "start_time": "2022-02-22T11:25:45.103Z"
   },
   {
    "duration": 5103,
    "start_time": "2022-02-22T11:25:46.327Z"
   },
   {
    "duration": 594,
    "start_time": "2022-02-22T11:25:51.431Z"
   },
   {
    "duration": 156,
    "start_time": "2022-02-22T11:25:52.026Z"
   },
   {
    "duration": 235,
    "start_time": "2022-02-22T11:25:52.184Z"
   },
   {
    "duration": 378,
    "start_time": "2022-02-22T11:25:54.075Z"
   },
   {
    "duration": 385,
    "start_time": "2022-02-22T11:28:15.423Z"
   },
   {
    "duration": 21,
    "start_time": "2022-02-22T11:31:03.248Z"
   },
   {
    "duration": 50,
    "start_time": "2022-02-22T11:32:04.397Z"
   },
   {
    "duration": 439,
    "start_time": "2022-02-22T11:33:28.419Z"
   },
   {
    "duration": 305,
    "start_time": "2022-02-22T11:33:42.486Z"
   },
   {
    "duration": 43,
    "start_time": "2022-02-22T11:33:59.740Z"
   },
   {
    "duration": 33,
    "start_time": "2022-02-22T11:34:06.094Z"
   },
   {
    "duration": 1327,
    "start_time": "2022-02-22T11:35:18.989Z"
   },
   {
    "duration": 54,
    "start_time": "2022-02-22T11:35:46.732Z"
   },
   {
    "duration": 57,
    "start_time": "2022-02-22T11:35:50.271Z"
   },
   {
    "duration": 64,
    "start_time": "2022-02-22T11:45:47.342Z"
   },
   {
    "duration": 70,
    "start_time": "2022-02-22T11:45:57.107Z"
   },
   {
    "duration": 63,
    "start_time": "2022-02-22T11:53:33.573Z"
   },
   {
    "duration": 97,
    "start_time": "2022-02-22T11:53:34.013Z"
   },
   {
    "duration": 107,
    "start_time": "2022-02-22T11:55:19.105Z"
   },
   {
    "duration": 119,
    "start_time": "2022-02-22T11:55:30.923Z"
   },
   {
    "duration": 180,
    "start_time": "2022-02-22T11:56:33.588Z"
   },
   {
    "duration": 136,
    "start_time": "2022-02-22T11:56:39.124Z"
   },
   {
    "duration": 407,
    "start_time": "2022-02-22T11:58:29.989Z"
   },
   {
    "duration": 107,
    "start_time": "2022-02-22T11:58:49.670Z"
   },
   {
    "duration": 441,
    "start_time": "2022-02-22T12:00:09.137Z"
   },
   {
    "duration": 407,
    "start_time": "2022-02-22T12:00:25.627Z"
   },
   {
    "duration": 87,
    "start_time": "2022-02-22T12:05:30.899Z"
   },
   {
    "duration": 109,
    "start_time": "2022-02-22T12:09:28.386Z"
   },
   {
    "duration": 109,
    "start_time": "2022-02-22T12:11:00.010Z"
   },
   {
    "duration": 117,
    "start_time": "2022-02-22T12:11:55.324Z"
   },
   {
    "duration": 114,
    "start_time": "2022-02-22T12:13:49.265Z"
   },
   {
    "duration": 1312,
    "start_time": "2022-02-22T12:15:34.584Z"
   },
   {
    "duration": 112,
    "start_time": "2022-02-22T12:16:16.323Z"
   },
   {
    "duration": 114,
    "start_time": "2022-02-22T12:16:31.241Z"
   },
   {
    "duration": 69,
    "start_time": "2022-02-22T12:17:53.762Z"
   },
   {
    "duration": 170,
    "start_time": "2022-02-22T12:20:18.570Z"
   },
   {
    "duration": 457,
    "start_time": "2022-02-22T12:20:58.661Z"
   },
   {
    "duration": 172,
    "start_time": "2022-02-22T12:21:27.894Z"
   },
   {
    "duration": 167,
    "start_time": "2022-02-22T12:22:36.314Z"
   },
   {
    "duration": 178,
    "start_time": "2022-02-22T12:23:02.075Z"
   },
   {
    "duration": 155,
    "start_time": "2022-02-22T12:30:57.950Z"
   },
   {
    "duration": 7,
    "start_time": "2022-02-22T12:35:09.140Z"
   },
   {
    "duration": 104,
    "start_time": "2022-02-22T12:43:08.261Z"
   },
   {
    "duration": 450,
    "start_time": "2022-02-22T12:43:17.675Z"
   },
   {
    "duration": 146,
    "start_time": "2022-02-22T12:43:47.126Z"
   },
   {
    "duration": 154,
    "start_time": "2022-02-22T12:43:59.732Z"
   },
   {
    "duration": 488,
    "start_time": "2022-02-22T12:50:22.887Z"
   },
   {
    "duration": 488,
    "start_time": "2022-02-22T12:50:55.325Z"
   },
   {
    "duration": 7984,
    "start_time": "2022-02-22T12:52:45.496Z"
   },
   {
    "duration": 7678,
    "start_time": "2022-02-22T12:53:36.873Z"
   },
   {
    "duration": 460,
    "start_time": "2022-02-22T12:54:36.519Z"
   },
   {
    "duration": 997,
    "start_time": "2022-02-22T12:55:25.487Z"
   },
   {
    "duration": 509,
    "start_time": "2022-02-22T12:55:26.486Z"
   },
   {
    "duration": 598,
    "start_time": "2022-02-22T12:55:26.999Z"
   },
   {
    "duration": 151,
    "start_time": "2022-02-22T12:55:27.598Z"
   },
   {
    "duration": 244,
    "start_time": "2022-02-22T12:55:27.751Z"
   },
   {
    "duration": 626,
    "start_time": "2022-02-22T12:55:27.997Z"
   },
   {
    "duration": 504,
    "start_time": "2022-02-22T12:55:28.121Z"
   },
   {
    "duration": 177,
    "start_time": "2022-02-22T12:56:00.743Z"
   },
   {
    "duration": 159,
    "start_time": "2022-02-22T12:57:12.705Z"
   },
   {
    "duration": 19,
    "start_time": "2022-02-22T12:57:14.292Z"
   },
   {
    "duration": 103,
    "start_time": "2022-02-22T13:00:00.468Z"
   },
   {
    "duration": 303,
    "start_time": "2022-02-22T13:00:11.347Z"
   },
   {
    "duration": 102,
    "start_time": "2022-02-22T13:00:28.415Z"
   },
   {
    "duration": 14,
    "start_time": "2022-02-22T13:00:40.527Z"
   },
   {
    "duration": 373,
    "start_time": "2022-02-22T13:00:47.752Z"
   },
   {
    "duration": 38,
    "start_time": "2022-02-22T13:01:26.934Z"
   },
   {
    "duration": 317,
    "start_time": "2022-02-22T13:03:25.943Z"
   },
   {
    "duration": 35,
    "start_time": "2022-02-22T13:03:31.583Z"
   },
   {
    "duration": 328,
    "start_time": "2022-02-22T13:04:19.657Z"
   },
   {
    "duration": 34,
    "start_time": "2022-02-22T13:04:35.600Z"
   },
   {
    "duration": 1053,
    "start_time": "2022-02-22T13:04:40.943Z"
   },
   {
    "duration": 487,
    "start_time": "2022-02-22T13:04:42.000Z"
   },
   {
    "duration": 597,
    "start_time": "2022-02-22T13:04:42.489Z"
   },
   {
    "duration": 150,
    "start_time": "2022-02-22T13:04:43.088Z"
   },
   {
    "duration": 216,
    "start_time": "2022-02-22T13:04:43.239Z"
   },
   {
    "duration": 208,
    "start_time": "2022-02-22T13:04:43.457Z"
   },
   {
    "duration": 16,
    "start_time": "2022-02-22T13:04:43.667Z"
   },
   {
    "duration": 7,
    "start_time": "2022-02-22T13:04:43.685Z"
   },
   {
    "duration": 25,
    "start_time": "2022-02-22T13:05:20.911Z"
   },
   {
    "duration": 42,
    "start_time": "2022-02-22T13:05:53.669Z"
   },
   {
    "duration": 437,
    "start_time": "2022-02-22T13:08:00.025Z"
   },
   {
    "duration": 1326,
    "start_time": "2022-02-22T13:08:05.285Z"
   },
   {
    "duration": 510,
    "start_time": "2022-02-22T13:08:06.613Z"
   },
   {
    "duration": 622,
    "start_time": "2022-02-22T13:08:07.124Z"
   },
   {
    "duration": 158,
    "start_time": "2022-02-22T13:08:07.748Z"
   },
   {
    "duration": 232,
    "start_time": "2022-02-22T13:08:07.908Z"
   },
   {
    "duration": 230,
    "start_time": "2022-02-22T13:08:08.142Z"
   },
   {
    "duration": 39,
    "start_time": "2022-02-22T13:08:08.373Z"
   },
   {
    "duration": 20,
    "start_time": "2022-02-22T13:08:08.414Z"
   },
   {
    "duration": 1000,
    "start_time": "2022-02-22T13:08:56.619Z"
   },
   {
    "duration": 471,
    "start_time": "2022-02-22T13:08:57.621Z"
   },
   {
    "duration": 571,
    "start_time": "2022-02-22T13:08:58.094Z"
   },
   {
    "duration": 139,
    "start_time": "2022-02-22T13:08:58.667Z"
   },
   {
    "duration": 209,
    "start_time": "2022-02-22T13:08:58.807Z"
   },
   {
    "duration": 197,
    "start_time": "2022-02-22T13:08:59.018Z"
   },
   {
    "duration": 27,
    "start_time": "2022-02-22T13:08:59.216Z"
   },
   {
    "duration": 6,
    "start_time": "2022-02-22T13:08:59.245Z"
   },
   {
    "duration": 665,
    "start_time": "2022-02-22T13:17:42.268Z"
   },
   {
    "duration": 99,
    "start_time": "2022-02-22T13:30:02.508Z"
   },
   {
    "duration": 459,
    "start_time": "2022-02-22T13:33:20.538Z"
   },
   {
    "duration": 22,
    "start_time": "2022-02-22T13:34:04.064Z"
   },
   {
    "duration": 23,
    "start_time": "2022-02-22T13:44:11.200Z"
   },
   {
    "duration": 2,
    "start_time": "2022-02-22T13:46:35.375Z"
   },
   {
    "duration": 425,
    "start_time": "2022-02-22T13:46:36.601Z"
   },
   {
    "duration": 427,
    "start_time": "2022-02-22T13:46:37.240Z"
   },
   {
    "duration": 136,
    "start_time": "2022-02-22T13:46:37.669Z"
   },
   {
    "duration": 912,
    "start_time": "2022-02-22T13:46:41.773Z"
   },
   {
    "duration": 471,
    "start_time": "2022-02-22T13:46:42.687Z"
   },
   {
    "duration": 438,
    "start_time": "2022-02-22T13:46:43.161Z"
   },
   {
    "duration": 190,
    "start_time": "2022-02-22T13:46:43.601Z"
   },
   {
    "duration": 211,
    "start_time": "2022-02-22T13:46:43.793Z"
   },
   {
    "duration": 197,
    "start_time": "2022-02-22T13:46:44.006Z"
   },
   {
    "duration": 32,
    "start_time": "2022-02-22T13:46:44.205Z"
   },
   {
    "duration": 22,
    "start_time": "2022-02-22T13:46:44.239Z"
   },
   {
    "duration": 7,
    "start_time": "2022-02-22T13:46:44.262Z"
   },
   {
    "duration": 11682,
    "start_time": "2022-02-22T13:53:44.165Z"
   },
   {
    "duration": 12652,
    "start_time": "2022-02-22T13:57:01.025Z"
   },
   {
    "duration": 12078,
    "start_time": "2022-02-22T13:58:06.947Z"
   },
   {
    "duration": 988,
    "start_time": "2022-02-22T14:02:06.818Z"
   },
   {
    "duration": 483,
    "start_time": "2022-02-22T14:02:07.807Z"
   },
   {
    "duration": 477,
    "start_time": "2022-02-22T14:02:08.292Z"
   },
   {
    "duration": 180,
    "start_time": "2022-02-22T14:02:08.771Z"
   },
   {
    "duration": 220,
    "start_time": "2022-02-22T14:02:08.953Z"
   },
   {
    "duration": 231,
    "start_time": "2022-02-22T14:02:09.175Z"
   },
   {
    "duration": 37,
    "start_time": "2022-02-22T14:02:09.408Z"
   },
   {
    "duration": 12898,
    "start_time": "2022-02-22T14:02:09.448Z"
   },
   {
    "duration": 541,
    "start_time": "2022-02-22T14:02:21.808Z"
   },
   {
    "duration": 12476,
    "start_time": "2022-02-22T14:02:42.727Z"
   },
   {
    "duration": 360,
    "start_time": "2022-02-22T14:03:37.753Z"
   },
   {
    "duration": 33,
    "start_time": "2022-02-22T14:03:45.167Z"
   },
   {
    "duration": 903,
    "start_time": "2022-02-22T14:04:06.279Z"
   },
   {
    "duration": 478,
    "start_time": "2022-02-22T14:04:07.184Z"
   },
   {
    "duration": 449,
    "start_time": "2022-02-22T14:04:07.664Z"
   },
   {
    "duration": 190,
    "start_time": "2022-02-22T14:04:08.116Z"
   },
   {
    "duration": 233,
    "start_time": "2022-02-22T14:04:08.308Z"
   },
   {
    "duration": 214,
    "start_time": "2022-02-22T14:04:08.542Z"
   },
   {
    "duration": 14,
    "start_time": "2022-02-22T14:04:08.758Z"
   },
   {
    "duration": 12401,
    "start_time": "2022-02-22T14:04:08.774Z"
   },
   {
    "duration": 531,
    "start_time": "2022-02-22T14:04:20.646Z"
   },
   {
    "duration": 16,
    "start_time": "2022-02-22T14:04:35.315Z"
   },
   {
    "duration": 12469,
    "start_time": "2022-02-22T14:04:55.952Z"
   },
   {
    "duration": 18,
    "start_time": "2022-02-22T14:06:02.471Z"
   },
   {
    "duration": 12016,
    "start_time": "2022-02-22T14:06:13.134Z"
   },
   {
    "duration": 316,
    "start_time": "2022-02-22T14:07:49.285Z"
   },
   {
    "duration": 11608,
    "start_time": "2022-02-22T14:08:00.459Z"
   },
   {
    "duration": 956,
    "start_time": "2022-02-22T14:14:48.189Z"
   },
   {
    "duration": 7,
    "start_time": "2022-02-22T14:15:00.771Z"
   },
   {
    "duration": 21,
    "start_time": "2022-02-22T14:15:08.604Z"
   },
   {
    "duration": 315,
    "start_time": "2022-02-22T14:16:08.872Z"
   },
   {
    "duration": 22,
    "start_time": "2022-02-22T14:16:23.222Z"
   },
   {
    "duration": 28,
    "start_time": "2022-02-22T14:18:15.164Z"
   },
   {
    "duration": 361,
    "start_time": "2022-02-22T14:19:03.543Z"
   },
   {
    "duration": 30,
    "start_time": "2022-02-22T14:20:17.578Z"
   },
   {
    "duration": 32,
    "start_time": "2022-02-22T14:21:05.886Z"
   },
   {
    "duration": 30,
    "start_time": "2022-02-22T14:21:20.453Z"
   },
   {
    "duration": 31,
    "start_time": "2022-02-22T14:21:59.860Z"
   },
   {
    "duration": 965,
    "start_time": "2022-02-22T14:25:26.545Z"
   },
   {
    "duration": 501,
    "start_time": "2022-02-22T14:25:27.512Z"
   },
   {
    "duration": 463,
    "start_time": "2022-02-22T14:25:28.016Z"
   },
   {
    "duration": 180,
    "start_time": "2022-02-22T14:25:28.480Z"
   },
   {
    "duration": 221,
    "start_time": "2022-02-22T14:25:28.662Z"
   },
   {
    "duration": 205,
    "start_time": "2022-02-22T14:25:28.884Z"
   },
   {
    "duration": 22,
    "start_time": "2022-02-22T14:25:29.090Z"
   },
   {
    "duration": 28,
    "start_time": "2022-02-22T14:25:29.114Z"
   },
   {
    "duration": 28,
    "start_time": "2022-02-22T14:25:29.144Z"
   },
   {
    "duration": 7,
    "start_time": "2022-02-22T14:25:29.173Z"
   },
   {
    "duration": 23,
    "start_time": "2022-02-22T14:26:03.467Z"
   },
   {
    "duration": 23,
    "start_time": "2022-02-22T14:26:11.894Z"
   },
   {
    "duration": 24,
    "start_time": "2022-02-22T14:38:29.275Z"
   },
   {
    "duration": 8,
    "start_time": "2022-02-22T14:39:23.401Z"
   },
   {
    "duration": 2,
    "start_time": "2022-02-22T14:40:35.874Z"
   },
   {
    "duration": 218,
    "start_time": "2022-02-24T11:42:39.623Z"
   },
   {
    "duration": 1832,
    "start_time": "2022-02-24T11:42:44.842Z"
   },
   {
    "duration": 512,
    "start_time": "2022-02-24T11:42:46.676Z"
   },
   {
    "duration": 594,
    "start_time": "2022-02-24T11:42:47.191Z"
   },
   {
    "duration": 202,
    "start_time": "2022-02-24T11:42:47.787Z"
   },
   {
    "duration": 252,
    "start_time": "2022-02-24T11:42:47.990Z"
   },
   {
    "duration": 239,
    "start_time": "2022-02-24T11:42:48.244Z"
   },
   {
    "duration": 26,
    "start_time": "2022-02-24T11:42:48.485Z"
   },
   {
    "duration": 17,
    "start_time": "2022-02-24T11:42:48.513Z"
   },
   {
    "duration": 53,
    "start_time": "2022-02-24T11:42:48.531Z"
   },
   {
    "duration": 24,
    "start_time": "2022-02-24T11:42:50.387Z"
   },
   {
    "duration": 33,
    "start_time": "2022-02-24T11:58:31.633Z"
   },
   {
    "duration": 21,
    "start_time": "2022-02-24T11:58:38.847Z"
   },
   {
    "duration": 1394,
    "start_time": "2022-02-25T11:33:22.496Z"
   },
   {
    "duration": 1125,
    "start_time": "2022-02-25T11:33:23.892Z"
   },
   {
    "duration": 710,
    "start_time": "2022-02-25T11:33:25.020Z"
   },
   {
    "duration": 269,
    "start_time": "2022-02-25T11:33:25.733Z"
   },
   {
    "duration": 344,
    "start_time": "2022-02-25T11:33:26.004Z"
   },
   {
    "duration": 363,
    "start_time": "2022-02-25T11:33:26.350Z"
   },
   {
    "duration": 53,
    "start_time": "2022-02-25T11:33:26.715Z"
   },
   {
    "duration": 30,
    "start_time": "2022-02-25T11:33:26.771Z"
   },
   {
    "duration": 62,
    "start_time": "2022-02-25T11:33:26.804Z"
   },
   {
    "duration": 31,
    "start_time": "2022-02-25T11:33:26.869Z"
   },
   {
    "duration": 4,
    "start_time": "2022-02-25T11:38:56.948Z"
   },
   {
    "duration": 1358,
    "start_time": "2022-02-25T11:39:02.719Z"
   },
   {
    "duration": 916,
    "start_time": "2022-02-25T11:39:04.080Z"
   },
   {
    "duration": 711,
    "start_time": "2022-02-25T11:39:04.999Z"
   },
   {
    "duration": 241,
    "start_time": "2022-02-25T11:39:05.712Z"
   },
   {
    "duration": 337,
    "start_time": "2022-02-25T11:39:05.956Z"
   },
   {
    "duration": 351,
    "start_time": "2022-02-25T11:39:06.295Z"
   },
   {
    "duration": 50,
    "start_time": "2022-02-25T11:39:06.648Z"
   },
   {
    "duration": 27,
    "start_time": "2022-02-25T11:39:06.701Z"
   },
   {
    "duration": 59,
    "start_time": "2022-02-25T11:39:06.731Z"
   },
   {
    "duration": 32,
    "start_time": "2022-02-25T11:39:06.793Z"
   },
   {
    "duration": 1460,
    "start_time": "2022-02-25T11:46:47.322Z"
   },
   {
    "duration": 640,
    "start_time": "2022-02-25T11:47:29.243Z"
   },
   {
    "duration": 645,
    "start_time": "2022-02-25T11:50:51.363Z"
   },
   {
    "duration": 303,
    "start_time": "2022-02-25T11:53:26.889Z"
   },
   {
    "duration": 514,
    "start_time": "2022-02-25T11:53:43.933Z"
   },
   {
    "duration": 7210,
    "start_time": "2022-02-25T11:54:41.443Z"
   },
   {
    "duration": 30,
    "start_time": "2022-02-25T11:55:02.049Z"
   },
   {
    "duration": 316,
    "start_time": "2022-02-25T11:57:57.430Z"
   },
   {
    "duration": 4,
    "start_time": "2022-02-25T12:08:00.436Z"
   },
   {
    "duration": 625,
    "start_time": "2022-02-25T12:08:01.085Z"
   },
   {
    "duration": 697,
    "start_time": "2022-02-25T12:08:01.712Z"
   },
   {
    "duration": 260,
    "start_time": "2022-02-25T12:08:02.412Z"
   },
   {
    "duration": 361,
    "start_time": "2022-02-25T12:08:02.924Z"
   },
   {
    "duration": 351,
    "start_time": "2022-02-25T12:08:03.562Z"
   },
   {
    "duration": 57,
    "start_time": "2022-02-25T12:08:03.916Z"
   },
   {
    "duration": 30,
    "start_time": "2022-02-25T12:08:04.002Z"
   },
   {
    "duration": 33,
    "start_time": "2022-02-25T12:08:04.415Z"
   },
   {
    "duration": 32,
    "start_time": "2022-02-25T12:08:05.051Z"
   },
   {
    "duration": 94,
    "start_time": "2022-02-25T12:08:05.273Z"
   },
   {
    "duration": 530,
    "start_time": "2022-02-25T12:10:35.234Z"
   },
   {
    "duration": 872,
    "start_time": "2022-02-25T12:12:20.705Z"
   },
   {
    "duration": 1585,
    "start_time": "2022-02-25T12:12:41.298Z"
   },
   {
    "duration": 626,
    "start_time": "2022-02-25T12:12:42.885Z"
   },
   {
    "duration": 735,
    "start_time": "2022-02-25T12:12:43.514Z"
   },
   {
    "duration": 255,
    "start_time": "2022-02-25T12:12:44.251Z"
   },
   {
    "duration": 396,
    "start_time": "2022-02-25T12:12:44.508Z"
   },
   {
    "duration": 360,
    "start_time": "2022-02-25T12:12:44.907Z"
   },
   {
    "duration": 43,
    "start_time": "2022-02-25T12:12:45.269Z"
   },
   {
    "duration": 54,
    "start_time": "2022-02-25T12:12:45.316Z"
   },
   {
    "duration": 47,
    "start_time": "2022-02-25T12:12:45.374Z"
   },
   {
    "duration": 56,
    "start_time": "2022-02-25T12:12:45.423Z"
   },
   {
    "duration": 822,
    "start_time": "2022-02-25T12:12:45.481Z"
   },
   {
    "duration": 642,
    "start_time": "2022-02-25T12:13:15.746Z"
   },
   {
    "duration": 601,
    "start_time": "2022-02-25T12:13:32.871Z"
   },
   {
    "duration": 655,
    "start_time": "2022-02-25T12:14:14.539Z"
   },
   {
    "duration": 605,
    "start_time": "2022-02-25T12:17:10.223Z"
   },
   {
    "duration": 889,
    "start_time": "2022-02-25T12:19:08.832Z"
   },
   {
    "duration": 705,
    "start_time": "2022-02-25T12:19:18.185Z"
   },
   {
    "duration": 666,
    "start_time": "2022-02-25T12:19:46.405Z"
   },
   {
    "duration": 22,
    "start_time": "2022-02-25T12:23:54.620Z"
   },
   {
    "duration": 893,
    "start_time": "2022-02-25T12:25:01.675Z"
   },
   {
    "duration": 748,
    "start_time": "2022-02-25T12:25:12.130Z"
   },
   {
    "duration": 676,
    "start_time": "2022-02-25T12:26:49.090Z"
   },
   {
    "duration": 2237,
    "start_time": "2022-02-25T12:28:24.278Z"
   },
   {
    "duration": 9675,
    "start_time": "2022-02-25T12:29:00.015Z"
   },
   {
    "duration": 2002,
    "start_time": "2022-02-25T12:29:20.147Z"
   },
   {
    "duration": 2140,
    "start_time": "2022-02-25T12:30:47.442Z"
   },
   {
    "duration": 1962,
    "start_time": "2022-02-25T12:31:01.250Z"
   },
   {
    "duration": 2099,
    "start_time": "2022-02-25T12:33:53.604Z"
   },
   {
    "duration": 108,
    "start_time": "2022-02-25T12:48:45.778Z"
   },
   {
    "duration": 273,
    "start_time": "2022-02-26T13:00:31.745Z"
   },
   {
    "duration": 192,
    "start_time": "2022-02-26T13:01:14.417Z"
   },
   {
    "duration": 1034,
    "start_time": "2022-02-26T13:03:07.147Z"
   },
   {
    "duration": 822,
    "start_time": "2022-02-26T13:03:08.183Z"
   },
   {
    "duration": 480,
    "start_time": "2022-02-26T13:03:09.006Z"
   },
   {
    "duration": 212,
    "start_time": "2022-02-26T13:03:09.488Z"
   },
   {
    "duration": 221,
    "start_time": "2022-02-26T13:03:09.702Z"
   },
   {
    "duration": 234,
    "start_time": "2022-02-26T13:03:09.925Z"
   },
   {
    "duration": 27,
    "start_time": "2022-02-26T13:03:10.161Z"
   },
   {
    "duration": 25,
    "start_time": "2022-02-26T13:03:10.191Z"
   },
   {
    "duration": 42,
    "start_time": "2022-02-26T13:03:10.218Z"
   },
   {
    "duration": 1291,
    "start_time": "2022-02-26T13:03:10.261Z"
   },
   {
    "duration": 357,
    "start_time": "2022-02-26T13:03:11.553Z"
   },
   {
    "duration": 18,
    "start_time": "2022-02-26T13:03:11.912Z"
   },
   {
    "duration": 1128,
    "start_time": "2022-03-06T13:05:30.038Z"
   },
   {
    "duration": 460,
    "start_time": "2022-03-06T13:05:31.168Z"
   },
   {
    "duration": 496,
    "start_time": "2022-03-06T13:05:31.631Z"
   },
   {
    "duration": 186,
    "start_time": "2022-03-06T13:05:32.129Z"
   },
   {
    "duration": 243,
    "start_time": "2022-03-06T13:05:32.317Z"
   },
   {
    "duration": 231,
    "start_time": "2022-03-06T13:05:32.562Z"
   },
   {
    "duration": 25,
    "start_time": "2022-03-06T13:05:32.795Z"
   },
   {
    "duration": 38,
    "start_time": "2022-03-06T13:05:32.822Z"
   },
   {
    "duration": 23,
    "start_time": "2022-03-06T13:05:32.862Z"
   },
   {
    "duration": 1316,
    "start_time": "2022-03-06T13:05:32.886Z"
   },
   {
    "duration": 381,
    "start_time": "2022-03-06T13:05:34.204Z"
   },
   {
    "duration": 15,
    "start_time": "2022-03-06T13:05:34.587Z"
   },
   {
    "duration": 25,
    "start_time": "2022-03-06T13:08:16.352Z"
   },
   {
    "duration": 202,
    "start_time": "2022-03-15T14:03:51.496Z"
   },
   {
    "duration": 1232,
    "start_time": "2022-03-15T14:04:08.767Z"
   },
   {
    "duration": 620,
    "start_time": "2022-03-15T14:04:10.002Z"
   },
   {
    "duration": 649,
    "start_time": "2022-03-15T14:04:13.794Z"
   },
   {
    "duration": 309,
    "start_time": "2022-03-15T14:04:17.127Z"
   },
   {
    "duration": 322,
    "start_time": "2022-03-15T14:04:21.190Z"
   },
   {
    "duration": 323,
    "start_time": "2022-03-15T14:04:23.017Z"
   },
   {
    "duration": 5,
    "start_time": "2022-03-15T14:04:23.797Z"
   },
   {
    "duration": 27,
    "start_time": "2022-03-15T14:04:29.993Z"
   },
   {
    "duration": 3958,
    "start_time": "2022-03-15T14:08:30.471Z"
   },
   {
    "duration": 3649,
    "start_time": "2022-03-15T14:08:54.383Z"
   },
   {
    "duration": 206,
    "start_time": "2022-03-15T14:09:06.576Z"
   },
   {
    "duration": 1290,
    "start_time": "2022-03-15T14:09:54.154Z"
   },
   {
    "duration": 877,
    "start_time": "2022-03-15T14:09:55.447Z"
   },
   {
    "duration": 937,
    "start_time": "2022-03-15T14:09:56.327Z"
   },
   {
    "duration": 313,
    "start_time": "2022-03-15T14:09:57.267Z"
   },
   {
    "duration": 490,
    "start_time": "2022-03-15T14:09:57.584Z"
   },
   {
    "duration": 363,
    "start_time": "2022-03-15T14:09:58.078Z"
   },
   {
    "duration": 32,
    "start_time": "2022-03-15T14:09:58.444Z"
   },
   {
    "duration": 40,
    "start_time": "2022-03-15T14:09:58.481Z"
   },
   {
    "duration": 69,
    "start_time": "2022-03-15T14:09:58.523Z"
   },
   {
    "duration": 59,
    "start_time": "2022-03-15T14:09:58.594Z"
   },
   {
    "duration": 2177,
    "start_time": "2022-03-15T14:09:58.656Z"
   },
   {
    "duration": 474,
    "start_time": "2022-03-15T14:10:00.836Z"
   },
   {
    "duration": 40,
    "start_time": "2022-03-15T14:10:01.313Z"
   },
   {
    "duration": 141,
    "start_time": "2022-03-15T14:11:09.891Z"
   },
   {
    "duration": 368,
    "start_time": "2022-03-15T14:11:46.868Z"
   },
   {
    "duration": 1231,
    "start_time": "2022-03-15T14:12:07.707Z"
   },
   {
    "duration": 652,
    "start_time": "2022-03-15T14:12:08.941Z"
   },
   {
    "duration": 764,
    "start_time": "2022-03-15T14:12:09.596Z"
   },
   {
    "duration": 256,
    "start_time": "2022-03-15T14:12:10.367Z"
   },
   {
    "duration": 343,
    "start_time": "2022-03-15T14:12:10.625Z"
   },
   {
    "duration": 322,
    "start_time": "2022-03-15T14:12:10.970Z"
   },
   {
    "duration": -21,
    "start_time": "2022-03-15T14:12:11.316Z"
   },
   {
    "duration": -38,
    "start_time": "2022-03-15T14:12:11.334Z"
   },
   {
    "duration": -42,
    "start_time": "2022-03-15T14:12:11.340Z"
   },
   {
    "duration": -49,
    "start_time": "2022-03-15T14:12:11.348Z"
   },
   {
    "duration": -51,
    "start_time": "2022-03-15T14:12:11.351Z"
   },
   {
    "duration": -52,
    "start_time": "2022-03-15T14:12:11.354Z"
   },
   {
    "duration": -64,
    "start_time": "2022-03-15T14:12:11.367Z"
   },
   {
    "duration": 1273,
    "start_time": "2022-03-15T14:12:34.015Z"
   },
   {
    "duration": 653,
    "start_time": "2022-03-15T14:12:35.636Z"
   },
   {
    "duration": 684,
    "start_time": "2022-03-15T14:12:38.044Z"
   },
   {
    "duration": 249,
    "start_time": "2022-03-15T14:12:39.865Z"
   },
   {
    "duration": 352,
    "start_time": "2022-03-15T14:12:42.417Z"
   },
   {
    "duration": 311,
    "start_time": "2022-03-15T14:12:44.508Z"
   },
   {
    "duration": 1354,
    "start_time": "2022-03-15T14:13:59.934Z"
   },
   {
    "duration": 707,
    "start_time": "2022-03-15T14:14:01.291Z"
   },
   {
    "duration": 784,
    "start_time": "2022-03-15T14:14:02.001Z"
   },
   {
    "duration": 273,
    "start_time": "2022-03-15T14:14:02.788Z"
   },
   {
    "duration": 3,
    "start_time": "2022-03-15T14:14:03.064Z"
   },
   {
    "duration": 425,
    "start_time": "2022-03-15T14:14:03.074Z"
   },
   {
    "duration": 4210,
    "start_time": "2022-03-15T14:14:24.899Z"
   },
   {
    "duration": 613,
    "start_time": "2022-03-15T14:15:19.231Z"
   },
   {
    "duration": 423,
    "start_time": "2022-03-15T14:16:19.051Z"
   },
   {
    "duration": 34,
    "start_time": "2022-03-15T14:16:35.973Z"
   },
   {
    "duration": 46,
    "start_time": "2022-03-15T14:18:08.820Z"
   },
   {
    "duration": 40,
    "start_time": "2022-03-15T14:19:51.039Z"
   },
   {
    "duration": 28,
    "start_time": "2022-03-15T14:20:10.405Z"
   },
   {
    "duration": 37,
    "start_time": "2022-03-15T14:23:11.287Z"
   },
   {
    "duration": 259,
    "start_time": "2022-03-15T14:29:22.343Z"
   },
   {
    "duration": 35,
    "start_time": "2022-03-15T14:29:47.922Z"
   },
   {
    "duration": 735,
    "start_time": "2022-03-15T14:33:44.091Z"
   },
   {
    "duration": 886,
    "start_time": "2022-03-15T14:33:53.461Z"
   },
   {
    "duration": 2414,
    "start_time": "2022-03-15T14:34:31.857Z"
   },
   {
    "duration": 3400,
    "start_time": "2022-03-15T14:34:49.113Z"
   },
   {
    "duration": 2611,
    "start_time": "2022-03-15T14:38:19.348Z"
   },
   {
    "duration": 2270,
    "start_time": "2022-03-15T14:41:19.449Z"
   },
   {
    "duration": 1253,
    "start_time": "2022-03-15T14:58:25.687Z"
   },
   {
    "duration": 641,
    "start_time": "2022-03-15T14:58:26.943Z"
   },
   {
    "duration": 725,
    "start_time": "2022-03-15T14:58:27.587Z"
   },
   {
    "duration": 277,
    "start_time": "2022-03-15T14:58:28.315Z"
   },
   {
    "duration": 3,
    "start_time": "2022-03-15T14:58:28.595Z"
   },
   {
    "duration": 390,
    "start_time": "2022-03-15T14:58:28.601Z"
   },
   {
    "duration": 21,
    "start_time": "2022-03-15T14:58:28.994Z"
   },
   {
    "duration": 69,
    "start_time": "2022-03-15T14:58:29.020Z"
   },
   {
    "duration": 31,
    "start_time": "2022-03-15T14:58:29.092Z"
   },
   {
    "duration": 40,
    "start_time": "2022-03-15T14:58:29.150Z"
   },
   {
    "duration": 2342,
    "start_time": "2022-03-15T14:58:29.193Z"
   },
   {
    "duration": 449,
    "start_time": "2022-03-15T14:58:31.538Z"
   },
   {
    "duration": 25,
    "start_time": "2022-03-15T14:58:31.989Z"
   },
   {
    "duration": 205,
    "start_time": "2022-03-16T14:34:09.493Z"
   },
   {
    "duration": 995,
    "start_time": "2022-03-16T14:34:23.972Z"
   },
   {
    "duration": 498,
    "start_time": "2022-03-16T14:34:24.969Z"
   },
   {
    "duration": 545,
    "start_time": "2022-03-16T14:34:25.470Z"
   },
   {
    "duration": 186,
    "start_time": "2022-03-16T14:34:26.017Z"
   },
   {
    "duration": 3,
    "start_time": "2022-03-16T14:34:26.246Z"
   },
   {
    "duration": 275,
    "start_time": "2022-03-16T14:34:26.746Z"
   },
   {
    "duration": 23,
    "start_time": "2022-03-16T14:34:27.090Z"
   },
   {
    "duration": 47,
    "start_time": "2022-03-16T14:34:28.282Z"
   },
   {
    "duration": 23,
    "start_time": "2022-03-16T14:34:28.643Z"
   },
   {
    "duration": 30,
    "start_time": "2022-03-16T14:34:29.728Z"
   },
   {
    "duration": 614,
    "start_time": "2022-03-16T14:34:32.267Z"
   },
   {
    "duration": 36,
    "start_time": "2022-03-16T14:35:22.348Z"
   },
   {
    "duration": 602,
    "start_time": "2022-03-16T14:35:31.185Z"
   },
   {
    "duration": 40,
    "start_time": "2022-03-16T14:35:59.842Z"
   },
   {
    "duration": 540,
    "start_time": "2022-03-16T14:36:04.297Z"
   },
   {
    "duration": 1432,
    "start_time": "2022-03-16T14:36:18.643Z"
   },
   {
    "duration": 50,
    "start_time": "2022-03-16T14:36:30.560Z"
   },
   {
    "duration": 1482,
    "start_time": "2022-03-16T14:36:40.393Z"
   },
   {
    "duration": 1440,
    "start_time": "2022-03-16T14:36:52.126Z"
   },
   {
    "duration": 49,
    "start_time": "2022-03-16T14:37:03.777Z"
   },
   {
    "duration": 662,
    "start_time": "2022-03-16T14:37:06.167Z"
   },
   {
    "duration": 57,
    "start_time": "2022-03-16T14:37:29.604Z"
   },
   {
    "duration": 554,
    "start_time": "2022-03-16T14:37:33.750Z"
   },
   {
    "duration": 36,
    "start_time": "2022-03-16T14:38:30.513Z"
   },
   {
    "duration": 44,
    "start_time": "2022-03-16T14:38:34.208Z"
   },
   {
    "duration": 483,
    "start_time": "2022-03-16T14:38:40.084Z"
   }
  ],
  "kernelspec": {
   "display_name": "Python 3 (ipykernel)",
   "language": "python",
   "name": "python3"
  },
  "language_info": {
   "codemirror_mode": {
    "name": "ipython",
    "version": 3
   },
   "file_extension": ".py",
   "mimetype": "text/x-python",
   "name": "python",
   "nbconvert_exporter": "python",
   "pygments_lexer": "ipython3",
   "version": "3.9.7"
  },
  "toc": {
   "base_numbering": 1,
   "nav_menu": {},
   "number_sections": true,
   "sideBar": true,
   "skip_h1_title": true,
   "title_cell": "Table of Contents",
   "title_sidebar": "Contents",
   "toc_cell": false,
   "toc_position": {},
   "toc_section_display": true,
   "toc_window_display": false
  }
 },
 "nbformat": 4,
 "nbformat_minor": 2
}
