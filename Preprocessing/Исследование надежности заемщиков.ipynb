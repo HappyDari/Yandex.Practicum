{
 "cells": [
  {
   "cell_type": "markdown",
   "metadata": {},
   "source": [
    "# Исследование надёжности заёмщиков\n",
    "\n",
    "Заказчик — кредитный отдел банка. Нужно разобраться, влияет ли семейное положение и количество детей клиента на факт погашения кредита в срок. Входные данные от банка — статистика о платёжеспособности клиентов.\n",
    "\n",
    "Результаты исследования будут учтены при построении модели **кредитного скоринга** — специальной системы, которая оценивает способность потенциального заёмщика вернуть кредит банку."
   ]
  },
  {
   "cell_type": "markdown",
   "metadata": {},
   "source": [
    "## Шаг 1. Обзор данных"
   ]
  },
  {
   "cell_type": "code",
   "execution_count": 85,
   "metadata": {
    "scrolled": false
   },
   "outputs": [
    {
     "name": "stdout",
     "output_type": "stream",
     "text": [
      "<class 'pandas.core.frame.DataFrame'>\n",
      "RangeIndex: 21525 entries, 0 to 21524\n",
      "Data columns (total 12 columns):\n",
      " #   Column            Non-Null Count  Dtype  \n",
      "---  ------            --------------  -----  \n",
      " 0   children          21525 non-null  int64  \n",
      " 1   days_employed     19351 non-null  float64\n",
      " 2   dob_years         21525 non-null  int64  \n",
      " 3   education         21525 non-null  object \n",
      " 4   education_id      21525 non-null  int64  \n",
      " 5   family_status     21525 non-null  object \n",
      " 6   family_status_id  21525 non-null  int64  \n",
      " 7   gender            21525 non-null  object \n",
      " 8   income_type       21525 non-null  object \n",
      " 9   debt              21525 non-null  int64  \n",
      " 10  total_income      19351 non-null  float64\n",
      " 11  purpose           21525 non-null  object \n",
      "dtypes: float64(2), int64(5), object(5)\n",
      "memory usage: 2.0+ MB\n"
     ]
    },
    {
     "data": {
      "text/html": [
       "<div>\n",
       "<style scoped>\n",
       "    .dataframe tbody tr th:only-of-type {\n",
       "        vertical-align: middle;\n",
       "    }\n",
       "\n",
       "    .dataframe tbody tr th {\n",
       "        vertical-align: top;\n",
       "    }\n",
       "\n",
       "    .dataframe thead th {\n",
       "        text-align: right;\n",
       "    }\n",
       "</style>\n",
       "<table border=\"1\" class=\"dataframe\">\n",
       "  <thead>\n",
       "    <tr style=\"text-align: right;\">\n",
       "      <th></th>\n",
       "      <th>children</th>\n",
       "      <th>days_employed</th>\n",
       "      <th>dob_years</th>\n",
       "      <th>education</th>\n",
       "      <th>education_id</th>\n",
       "      <th>family_status</th>\n",
       "      <th>family_status_id</th>\n",
       "      <th>gender</th>\n",
       "      <th>income_type</th>\n",
       "      <th>debt</th>\n",
       "      <th>total_income</th>\n",
       "      <th>purpose</th>\n",
       "    </tr>\n",
       "  </thead>\n",
       "  <tbody>\n",
       "    <tr>\n",
       "      <th>0</th>\n",
       "      <td>1</td>\n",
       "      <td>-8437.673028</td>\n",
       "      <td>42</td>\n",
       "      <td>высшее</td>\n",
       "      <td>0</td>\n",
       "      <td>женат / замужем</td>\n",
       "      <td>0</td>\n",
       "      <td>F</td>\n",
       "      <td>сотрудник</td>\n",
       "      <td>0</td>\n",
       "      <td>253875.639453</td>\n",
       "      <td>покупка жилья</td>\n",
       "    </tr>\n",
       "    <tr>\n",
       "      <th>1</th>\n",
       "      <td>1</td>\n",
       "      <td>-4024.803754</td>\n",
       "      <td>36</td>\n",
       "      <td>среднее</td>\n",
       "      <td>1</td>\n",
       "      <td>женат / замужем</td>\n",
       "      <td>0</td>\n",
       "      <td>F</td>\n",
       "      <td>сотрудник</td>\n",
       "      <td>0</td>\n",
       "      <td>112080.014102</td>\n",
       "      <td>приобретение автомобиля</td>\n",
       "    </tr>\n",
       "    <tr>\n",
       "      <th>2</th>\n",
       "      <td>0</td>\n",
       "      <td>-5623.422610</td>\n",
       "      <td>33</td>\n",
       "      <td>Среднее</td>\n",
       "      <td>1</td>\n",
       "      <td>женат / замужем</td>\n",
       "      <td>0</td>\n",
       "      <td>M</td>\n",
       "      <td>сотрудник</td>\n",
       "      <td>0</td>\n",
       "      <td>145885.952297</td>\n",
       "      <td>покупка жилья</td>\n",
       "    </tr>\n",
       "    <tr>\n",
       "      <th>3</th>\n",
       "      <td>3</td>\n",
       "      <td>-4124.747207</td>\n",
       "      <td>32</td>\n",
       "      <td>среднее</td>\n",
       "      <td>1</td>\n",
       "      <td>женат / замужем</td>\n",
       "      <td>0</td>\n",
       "      <td>M</td>\n",
       "      <td>сотрудник</td>\n",
       "      <td>0</td>\n",
       "      <td>267628.550329</td>\n",
       "      <td>дополнительное образование</td>\n",
       "    </tr>\n",
       "    <tr>\n",
       "      <th>4</th>\n",
       "      <td>0</td>\n",
       "      <td>340266.072047</td>\n",
       "      <td>53</td>\n",
       "      <td>среднее</td>\n",
       "      <td>1</td>\n",
       "      <td>гражданский брак</td>\n",
       "      <td>1</td>\n",
       "      <td>F</td>\n",
       "      <td>пенсионер</td>\n",
       "      <td>0</td>\n",
       "      <td>158616.077870</td>\n",
       "      <td>сыграть свадьбу</td>\n",
       "    </tr>\n",
       "  </tbody>\n",
       "</table>\n",
       "</div>"
      ],
      "text/plain": [
       "   children  days_employed  dob_years education  education_id  \\\n",
       "0         1   -8437.673028         42    высшее             0   \n",
       "1         1   -4024.803754         36   среднее             1   \n",
       "2         0   -5623.422610         33   Среднее             1   \n",
       "3         3   -4124.747207         32   среднее             1   \n",
       "4         0  340266.072047         53   среднее             1   \n",
       "\n",
       "      family_status  family_status_id gender income_type  debt   total_income  \\\n",
       "0   женат / замужем                 0      F   сотрудник     0  253875.639453   \n",
       "1   женат / замужем                 0      F   сотрудник     0  112080.014102   \n",
       "2   женат / замужем                 0      M   сотрудник     0  145885.952297   \n",
       "3   женат / замужем                 0      M   сотрудник     0  267628.550329   \n",
       "4  гражданский брак                 1      F   пенсионер     0  158616.077870   \n",
       "\n",
       "                      purpose  \n",
       "0               покупка жилья  \n",
       "1     приобретение автомобиля  \n",
       "2               покупка жилья  \n",
       "3  дополнительное образование  \n",
       "4             сыграть свадьбу  "
      ]
     },
     "execution_count": 85,
     "metadata": {},
     "output_type": "execute_result"
    }
   ],
   "source": [
    "import pandas as pd\n",
    "data = pd.read_csv('data.csv')\n",
    "data.info()\n",
    "data.head()"
   ]
  },
  {
   "cell_type": "markdown",
   "metadata": {},
   "source": [
    "**Вывод**"
   ]
  },
  {
   "cell_type": "markdown",
   "metadata": {},
   "source": [
    "В таблице 12 столбцов разных типов данных.\n",
    "Согласно документации к данным:\n",
    "\n",
    "* `children` — количество детей в семье\n",
    "* `days_employed` — общий трудовой стаж в днях\n",
    "* `dob_years` — возраст клиента в годах\n",
    "* `education` — уровень образования клиента\n",
    "* `education_id` — идентификатор уровня образования\n",
    "* `family_status` — семейное положение\n",
    "* `family_status_id` — идентификатор семейного положения\n",
    "* `gender` — пол клиента\n",
    "* `income_type` — тип занятости\n",
    "* `debt` — имел ли задолженность по возврату кредитов\n",
    "* `total_income` — ежемесячный доход\n",
    "* `purpose` — цель получения кредита\n",
    "\n",
    "В каждой строке таблицы - данные о клиентах банка. Колонки описывают характеристики клиента.\n",
    "\n",
    "В данных встречаются:\n",
    "* пропуски\n",
    "* отрицательные значения\n",
    "* дубликаты\n",
    "* разный формат значений"
   ]
  },
  {
   "cell_type": "markdown",
   "metadata": {},
   "source": [
    "## Шаг 2. Предобработка данных"
   ]
  },
  {
   "cell_type": "markdown",
   "metadata": {},
   "source": [
    "### Обработка пропусков"
   ]
  },
  {
   "cell_type": "code",
   "execution_count": 86,
   "metadata": {
    "scrolled": false
   },
   "outputs": [
    {
     "data": {
      "text/plain": [
       "children               0\n",
       "days_employed       2174\n",
       "dob_years              0\n",
       "education              0\n",
       "education_id           0\n",
       "family_status          0\n",
       "family_status_id       0\n",
       "gender                 0\n",
       "income_type            0\n",
       "debt                   0\n",
       "total_income        2174\n",
       "purpose                0\n",
       "dtype: int64"
      ]
     },
     "execution_count": 86,
     "metadata": {},
     "output_type": "execute_result"
    }
   ],
   "source": [
    "# посчитаем пропуски в столбцах\n",
    "data.isna().sum()"
   ]
  },
  {
   "cell_type": "markdown",
   "metadata": {},
   "source": [
    "Пропуски встречаются в столбцах об общем трудовом стаже клиента и ежемесячном доходе. Такие пропуски возможно были допущены, так как не у всех клиентов есть официальная статистика зарплаты, не все могут разглашать уровень своего дохода, а так же  в данных есть пенсионеры, не получающие зарплату."
   ]
  },
  {
   "cell_type": "code",
   "execution_count": 87,
   "metadata": {},
   "outputs": [],
   "source": [
    "# Пропуски в столбце `days_employed` для нас по условиям задачи не важны, их можно заменить на нулевые значения.\n",
    "data['days_employed'] = data['days_employed'].fillna(0)"
   ]
  },
  {
   "cell_type": "markdown",
   "metadata": {},
   "source": [
    "Создадим фильтр для пропущенных значений."
   ]
  },
  {
   "cell_type": "code",
   "execution_count": 88,
   "metadata": {
    "scrolled": false
   },
   "outputs": [],
   "source": [
    "data_filtered = data[data['total_income'].isna() == True]"
   ]
  },
  {
   "cell_type": "markdown",
   "metadata": {},
   "source": [
    "Значения пропущены в столбце с ежемесячным уровнем дохода. \n",
    "Сгруппируем строки с пропущенными значениями в столбце `total_income` по типу занятости и подсчитаем количество клиентов для каждого типа."
   ]
  },
  {
   "cell_type": "code",
   "execution_count": 89,
   "metadata": {},
   "outputs": [
    {
     "data": {
      "text/plain": [
       "income_type\n",
       "сотрудник          1105\n",
       "компаньон           508\n",
       "пенсионер           413\n",
       "госслужащий         147\n",
       "предприниматель       1\n",
       "Name: income_type, dtype: int64"
      ]
     },
     "execution_count": 89,
     "metadata": {},
     "output_type": "execute_result"
    }
   ],
   "source": [
    "data_filtered.groupby('income_type')['income_type'].count().sort_values(ascending=False)"
   ]
  },
  {
   "cell_type": "markdown",
   "metadata": {},
   "source": [
    "Больше всего пропусков у сотрудников банка, далее у компаньонов, пенсионеров, госслужащих и предпринимателя. Найдем среднее значение ежемесячного дохода в каждой группе."
   ]
  },
  {
   "cell_type": "code",
   "execution_count": 90,
   "metadata": {},
   "outputs": [
    {
     "data": {
      "text/plain": [
       "children            0\n",
       "days_employed       0\n",
       "dob_years           0\n",
       "education           0\n",
       "education_id        0\n",
       "family_status       0\n",
       "family_status_id    0\n",
       "gender              0\n",
       "income_type         0\n",
       "debt                0\n",
       "total_income        0\n",
       "purpose             0\n",
       "dtype: int64"
      ]
     },
     "execution_count": 90,
     "metadata": {},
     "output_type": "execute_result"
    }
   ],
   "source": [
    "# сохраняем тип занятости в отдельный список\n",
    "income_type = ['сотрудник', 'компаньон', 'пенсионер', 'госслужащий', 'предприниматель']\n",
    "\n",
    "# создадим цикл, который сохраняет среднее значение по типу занятости в переменную и заполняет пропуски на это значение\n",
    "for index in income_type:\n",
    "    mean_total_income = data[data['income_type'] == index]['total_income'].mean()\n",
    "    data.loc[(data['income_type'] == index)&(data['total_income'].isna() == True), 'total_income'] = mean_total_income\n",
    "        \n",
    "# проверим результат\n",
    "data.isna().sum()"
   ]
  },
  {
   "cell_type": "markdown",
   "metadata": {},
   "source": [
    "### Замена типа данных"
   ]
  },
  {
   "cell_type": "code",
   "execution_count": 91,
   "metadata": {},
   "outputs": [
    {
     "name": "stdout",
     "output_type": "stream",
     "text": [
      "<class 'pandas.core.frame.DataFrame'>\n",
      "RangeIndex: 21525 entries, 0 to 21524\n",
      "Data columns (total 12 columns):\n",
      " #   Column            Non-Null Count  Dtype  \n",
      "---  ------            --------------  -----  \n",
      " 0   children          21525 non-null  int64  \n",
      " 1   days_employed     21525 non-null  float64\n",
      " 2   dob_years         21525 non-null  int64  \n",
      " 3   education         21525 non-null  object \n",
      " 4   education_id      21525 non-null  int64  \n",
      " 5   family_status     21525 non-null  object \n",
      " 6   family_status_id  21525 non-null  int64  \n",
      " 7   gender            21525 non-null  object \n",
      " 8   income_type       21525 non-null  object \n",
      " 9   debt              21525 non-null  int64  \n",
      " 10  total_income      21525 non-null  float64\n",
      " 11  purpose           21525 non-null  object \n",
      "dtypes: float64(2), int64(5), object(5)\n",
      "memory usage: 2.0+ MB\n"
     ]
    }
   ],
   "source": [
    "# еще раз проверим тип данных в таблице\n",
    "data.info()"
   ]
  },
  {
   "cell_type": "markdown",
   "metadata": {},
   "source": [
    "**Заменим вещественный тип данных на целочисленный**"
   ]
  },
  {
   "cell_type": "markdown",
   "metadata": {},
   "source": [
    "В столбце `children` количество детей исправим с типа object на целочисленное значение int.\n",
    "Приведем данные в столбцах `days_employed` и `total_income` к целочисленному значению с помощью метода `astype()`."
   ]
  },
  {
   "cell_type": "code",
   "execution_count": 92,
   "metadata": {},
   "outputs": [
    {
     "name": "stdout",
     "output_type": "stream",
     "text": [
      "<class 'pandas.core.frame.DataFrame'>\n",
      "RangeIndex: 21525 entries, 0 to 21524\n",
      "Data columns (total 12 columns):\n",
      " #   Column            Non-Null Count  Dtype \n",
      "---  ------            --------------  ----- \n",
      " 0   children          21525 non-null  int32 \n",
      " 1   days_employed     21525 non-null  int32 \n",
      " 2   dob_years         21525 non-null  int64 \n",
      " 3   education         21525 non-null  object\n",
      " 4   education_id      21525 non-null  int64 \n",
      " 5   family_status     21525 non-null  object\n",
      " 6   family_status_id  21525 non-null  int64 \n",
      " 7   gender            21525 non-null  object\n",
      " 8   income_type       21525 non-null  object\n",
      " 9   debt              21525 non-null  int64 \n",
      " 10  total_income      21525 non-null  int32 \n",
      " 11  purpose           21525 non-null  object\n",
      "dtypes: int32(3), int64(4), object(5)\n",
      "memory usage: 1.7+ MB\n"
     ]
    }
   ],
   "source": [
    "data['days_employed'] = data['days_employed'].astype('int')\n",
    "data['total_income'] = data['total_income'].astype('int')\n",
    "data['children'] = data['children'].astype('int')\n",
    "data.info()"
   ]
  },
  {
   "cell_type": "markdown",
   "metadata": {},
   "source": [
    "### Чистка таблицы"
   ]
  },
  {
   "cell_type": "markdown",
   "metadata": {},
   "source": [
    "**Проверим столбцы на их необходимость для исследования.**"
   ]
  },
  {
   "cell_type": "code",
   "execution_count": 93,
   "metadata": {},
   "outputs": [
    {
     "data": {
      "text/html": [
       "<div>\n",
       "<style scoped>\n",
       "    .dataframe tbody tr th:only-of-type {\n",
       "        vertical-align: middle;\n",
       "    }\n",
       "\n",
       "    .dataframe tbody tr th {\n",
       "        vertical-align: top;\n",
       "    }\n",
       "\n",
       "    .dataframe thead th {\n",
       "        text-align: right;\n",
       "    }\n",
       "</style>\n",
       "<table border=\"1\" class=\"dataframe\">\n",
       "  <thead>\n",
       "    <tr style=\"text-align: right;\">\n",
       "      <th></th>\n",
       "      <th>children</th>\n",
       "      <th>days_employed</th>\n",
       "      <th>dob_years</th>\n",
       "      <th>education</th>\n",
       "      <th>education_id</th>\n",
       "      <th>family_status</th>\n",
       "      <th>family_status_id</th>\n",
       "      <th>gender</th>\n",
       "      <th>income_type</th>\n",
       "      <th>debt</th>\n",
       "      <th>total_income</th>\n",
       "      <th>purpose</th>\n",
       "    </tr>\n",
       "  </thead>\n",
       "  <tbody>\n",
       "    <tr>\n",
       "      <th>0</th>\n",
       "      <td>1</td>\n",
       "      <td>-8437</td>\n",
       "      <td>42</td>\n",
       "      <td>высшее</td>\n",
       "      <td>0</td>\n",
       "      <td>женат / замужем</td>\n",
       "      <td>0</td>\n",
       "      <td>F</td>\n",
       "      <td>сотрудник</td>\n",
       "      <td>0</td>\n",
       "      <td>253875</td>\n",
       "      <td>покупка жилья</td>\n",
       "    </tr>\n",
       "    <tr>\n",
       "      <th>1</th>\n",
       "      <td>1</td>\n",
       "      <td>-4024</td>\n",
       "      <td>36</td>\n",
       "      <td>среднее</td>\n",
       "      <td>1</td>\n",
       "      <td>женат / замужем</td>\n",
       "      <td>0</td>\n",
       "      <td>F</td>\n",
       "      <td>сотрудник</td>\n",
       "      <td>0</td>\n",
       "      <td>112080</td>\n",
       "      <td>приобретение автомобиля</td>\n",
       "    </tr>\n",
       "    <tr>\n",
       "      <th>2</th>\n",
       "      <td>0</td>\n",
       "      <td>-5623</td>\n",
       "      <td>33</td>\n",
       "      <td>Среднее</td>\n",
       "      <td>1</td>\n",
       "      <td>женат / замужем</td>\n",
       "      <td>0</td>\n",
       "      <td>M</td>\n",
       "      <td>сотрудник</td>\n",
       "      <td>0</td>\n",
       "      <td>145885</td>\n",
       "      <td>покупка жилья</td>\n",
       "    </tr>\n",
       "  </tbody>\n",
       "</table>\n",
       "</div>"
      ],
      "text/plain": [
       "   children  days_employed  dob_years education  education_id  \\\n",
       "0         1          -8437         42    высшее             0   \n",
       "1         1          -4024         36   среднее             1   \n",
       "2         0          -5623         33   Среднее             1   \n",
       "\n",
       "     family_status  family_status_id gender income_type  debt  total_income  \\\n",
       "0  женат / замужем                 0      F   сотрудник     0        253875   \n",
       "1  женат / замужем                 0      F   сотрудник     0        112080   \n",
       "2  женат / замужем                 0      M   сотрудник     0        145885   \n",
       "\n",
       "                   purpose  \n",
       "0            покупка жилья  \n",
       "1  приобретение автомобиля  \n",
       "2            покупка жилья  "
      ]
     },
     "metadata": {},
     "output_type": "display_data"
    },
    {
     "name": "stdout",
     "output_type": "stream",
     "text": [
      "высшее    4718\n",
      "ВЫСШЕЕ     274\n",
      "Высшее     268\n",
      "Name: education, dtype: int64\n",
      "гражданский брак    4177\n",
      "Name: family_status, dtype: int64\n"
     ]
    }
   ],
   "source": [
    "display (data.head(3))\n",
    "print (data[data['education_id'] == 0]['education'].value_counts())\n",
    "print (data[data['family_status_id'] == 1]['family_status'].value_counts())"
   ]
  },
  {
   "cell_type": "markdown",
   "metadata": {},
   "source": [
    "Колонки `education_id` и `family_status_id` содержат численное обозначение типа образования и семейного статуса, данные колонки нам не пригодятся, в ином случае, мы можем их восстановить, заменив тип численным значением."
   ]
  },
  {
   "cell_type": "code",
   "execution_count": 94,
   "metadata": {},
   "outputs": [
    {
     "data": {
      "text/html": [
       "<div>\n",
       "<style scoped>\n",
       "    .dataframe tbody tr th:only-of-type {\n",
       "        vertical-align: middle;\n",
       "    }\n",
       "\n",
       "    .dataframe tbody tr th {\n",
       "        vertical-align: top;\n",
       "    }\n",
       "\n",
       "    .dataframe thead th {\n",
       "        text-align: right;\n",
       "    }\n",
       "</style>\n",
       "<table border=\"1\" class=\"dataframe\">\n",
       "  <thead>\n",
       "    <tr style=\"text-align: right;\">\n",
       "      <th></th>\n",
       "      <th>children</th>\n",
       "      <th>days_employed</th>\n",
       "      <th>dob_years</th>\n",
       "      <th>education</th>\n",
       "      <th>family_status</th>\n",
       "      <th>gender</th>\n",
       "      <th>income_type</th>\n",
       "      <th>debt</th>\n",
       "      <th>total_income</th>\n",
       "      <th>purpose</th>\n",
       "    </tr>\n",
       "  </thead>\n",
       "  <tbody>\n",
       "    <tr>\n",
       "      <th>0</th>\n",
       "      <td>1</td>\n",
       "      <td>-8437</td>\n",
       "      <td>42</td>\n",
       "      <td>высшее</td>\n",
       "      <td>женат / замужем</td>\n",
       "      <td>F</td>\n",
       "      <td>сотрудник</td>\n",
       "      <td>0</td>\n",
       "      <td>253875</td>\n",
       "      <td>покупка жилья</td>\n",
       "    </tr>\n",
       "    <tr>\n",
       "      <th>1</th>\n",
       "      <td>1</td>\n",
       "      <td>-4024</td>\n",
       "      <td>36</td>\n",
       "      <td>среднее</td>\n",
       "      <td>женат / замужем</td>\n",
       "      <td>F</td>\n",
       "      <td>сотрудник</td>\n",
       "      <td>0</td>\n",
       "      <td>112080</td>\n",
       "      <td>приобретение автомобиля</td>\n",
       "    </tr>\n",
       "    <tr>\n",
       "      <th>2</th>\n",
       "      <td>0</td>\n",
       "      <td>-5623</td>\n",
       "      <td>33</td>\n",
       "      <td>Среднее</td>\n",
       "      <td>женат / замужем</td>\n",
       "      <td>M</td>\n",
       "      <td>сотрудник</td>\n",
       "      <td>0</td>\n",
       "      <td>145885</td>\n",
       "      <td>покупка жилья</td>\n",
       "    </tr>\n",
       "    <tr>\n",
       "      <th>3</th>\n",
       "      <td>3</td>\n",
       "      <td>-4124</td>\n",
       "      <td>32</td>\n",
       "      <td>среднее</td>\n",
       "      <td>женат / замужем</td>\n",
       "      <td>M</td>\n",
       "      <td>сотрудник</td>\n",
       "      <td>0</td>\n",
       "      <td>267628</td>\n",
       "      <td>дополнительное образование</td>\n",
       "    </tr>\n",
       "    <tr>\n",
       "      <th>4</th>\n",
       "      <td>0</td>\n",
       "      <td>340266</td>\n",
       "      <td>53</td>\n",
       "      <td>среднее</td>\n",
       "      <td>гражданский брак</td>\n",
       "      <td>F</td>\n",
       "      <td>пенсионер</td>\n",
       "      <td>0</td>\n",
       "      <td>158616</td>\n",
       "      <td>сыграть свадьбу</td>\n",
       "    </tr>\n",
       "  </tbody>\n",
       "</table>\n",
       "</div>"
      ],
      "text/plain": [
       "   children  days_employed  dob_years education     family_status gender  \\\n",
       "0         1          -8437         42    высшее   женат / замужем      F   \n",
       "1         1          -4024         36   среднее   женат / замужем      F   \n",
       "2         0          -5623         33   Среднее   женат / замужем      M   \n",
       "3         3          -4124         32   среднее   женат / замужем      M   \n",
       "4         0         340266         53   среднее  гражданский брак      F   \n",
       "\n",
       "  income_type  debt  total_income                     purpose  \n",
       "0   сотрудник     0        253875               покупка жилья  \n",
       "1   сотрудник     0        112080     приобретение автомобиля  \n",
       "2   сотрудник     0        145885               покупка жилья  \n",
       "3   сотрудник     0        267628  дополнительное образование  \n",
       "4   пенсионер     0        158616             сыграть свадьбу  "
      ]
     },
     "execution_count": 94,
     "metadata": {},
     "output_type": "execute_result"
    }
   ],
   "source": [
    "data = data.drop('education_id', axis=1)\n",
    "data = data.drop('family_status_id', axis=1)\n",
    "data.head(5)"
   ]
  },
  {
   "cell_type": "markdown",
   "metadata": {},
   "source": [
    "**Проверим аномальные значения.**"
   ]
  },
  {
   "cell_type": "code",
   "execution_count": 95,
   "metadata": {
    "scrolled": true
   },
   "outputs": [
    {
     "name": "stdout",
     "output_type": "stream",
     "text": [
      " 0     14149\n",
      " 1      4818\n",
      " 2      2055\n",
      " 3       330\n",
      " 20       76\n",
      "-1        47\n",
      " 4        41\n",
      " 5         9\n",
      "Name: children, dtype: int64\n",
      "F      14236\n",
      "M       7288\n",
      "XNA        1\n",
      "Name: gender, dtype: int64\n",
      "0    19784\n",
      "1     1741\n",
      "Name: debt, dtype: int64\n"
     ]
    }
   ],
   "source": [
    "print (data['children'].value_counts())\n",
    "print (data['gender'].value_counts())\n",
    "print (data['debt'].value_counts())"
   ]
  },
  {
   "cell_type": "markdown",
   "metadata": {},
   "source": [
    "Предположительно: в столбце количества детей в строках со значениями 20 и -1 клиент ошибочно указал количество детей и значение соответственно равно 2 и 1. \n",
    "\n",
    "В столбце пола указано 1 аномальное значение, можем его рандомно заменить на м/ж."
   ]
  },
  {
   "cell_type": "code",
   "execution_count": 96,
   "metadata": {},
   "outputs": [
    {
     "data": {
      "text/plain": [
       "0    14149\n",
       "1     4865\n",
       "2     2131\n",
       "3      330\n",
       "4       41\n",
       "5        9\n",
       "Name: children, dtype: int64"
      ]
     },
     "execution_count": 96,
     "metadata": {},
     "output_type": "execute_result"
    }
   ],
   "source": [
    "# исправим аномальные значения\n",
    "data.loc[(data['children'] == 20), 'children'] = 2\n",
    "data.loc[(data['children'] == -1), 'children'] = 1\n",
    "\n",
    "# проверим результат\n",
    "data['children'].value_counts()"
   ]
  },
  {
   "cell_type": "code",
   "execution_count": 97,
   "metadata": {},
   "outputs": [
    {
     "name": "stdout",
     "output_type": "stream",
     "text": [
      "F    14236\n",
      "M     7289\n",
      "Name: gender, dtype: int64\n"
     ]
    }
   ],
   "source": [
    "data.loc[(data['gender'] == 'XNA'), 'gender'] = 'M'\n",
    "print (data['gender'].value_counts())"
   ]
  },
  {
   "cell_type": "markdown",
   "metadata": {},
   "source": [
    "### Обработка дубликатов"
   ]
  },
  {
   "cell_type": "markdown",
   "metadata": {},
   "source": [
    "**Избавимся от неявных дубликатов.**"
   ]
  },
  {
   "cell_type": "code",
   "execution_count": 98,
   "metadata": {},
   "outputs": [
    {
     "data": {
      "text/plain": [
       "array(['высшее', 'среднее', 'Среднее', 'СРЕДНЕЕ', 'ВЫСШЕЕ',\n",
       "       'неоконченное высшее', 'начальное', 'Высшее',\n",
       "       'НЕОКОНЧЕННОЕ ВЫСШЕЕ', 'Неоконченное высшее', 'НАЧАЛЬНОЕ',\n",
       "       'Начальное', 'Ученая степень', 'УЧЕНАЯ СТЕПЕНЬ', 'ученая степень'],\n",
       "      dtype=object)"
      ]
     },
     "execution_count": 98,
     "metadata": {},
     "output_type": "execute_result"
    }
   ],
   "source": [
    "# посчитаем количество уникальных значений в столбце `education`\n",
    "data['education'].unique()"
   ]
  },
  {
   "cell_type": "markdown",
   "metadata": {},
   "source": [
    "Так как значения в столбце отличаются только верхним регистром, приведем все значения к нижнему регистру методом `str.lower()`."
   ]
  },
  {
   "cell_type": "code",
   "execution_count": 99,
   "metadata": {},
   "outputs": [
    {
     "data": {
      "text/plain": [
       "array(['высшее', 'среднее', 'неоконченное высшее', 'начальное',\n",
       "       'ученая степень'], dtype=object)"
      ]
     },
     "execution_count": 99,
     "metadata": {},
     "output_type": "execute_result"
    }
   ],
   "source": [
    "data['education'] = data['education'].str.lower()\n",
    "# проверим\n",
    "data['education'].unique()"
   ]
  },
  {
   "cell_type": "markdown",
   "metadata": {},
   "source": [
    "**Посчитаем количество явных дубликатов.**"
   ]
  },
  {
   "cell_type": "code",
   "execution_count": 100,
   "metadata": {},
   "outputs": [
    {
     "data": {
      "text/plain": [
       "71"
      ]
     },
     "execution_count": 100,
     "metadata": {},
     "output_type": "execute_result"
    }
   ],
   "source": [
    "data.duplicated().sum()"
   ]
  },
  {
   "cell_type": "code",
   "execution_count": 101,
   "metadata": {
    "scrolled": true
   },
   "outputs": [
    {
     "data": {
      "text/plain": [
       "0"
      ]
     },
     "metadata": {},
     "output_type": "display_data"
    }
   ],
   "source": [
    "# удаляем явные дубликаты\n",
    "data = data.drop_duplicates().reset_index(drop=True)\n",
    "display(data.duplicated().sum())"
   ]
  },
  {
   "cell_type": "markdown",
   "metadata": {},
   "source": [
    "Мы избавились от явных и неявных дубликатов в данных.\n",
    "Привели столбец образования к единому стилю.\n"
   ]
  },
  {
   "cell_type": "markdown",
   "metadata": {},
   "source": [
    "### Лемматизация"
   ]
  },
  {
   "cell_type": "markdown",
   "metadata": {},
   "source": [
    "Выведем на экран список уникальных названий целей получения кредита, отсортированный в алфавитном порядке."
   ]
  },
  {
   "cell_type": "code",
   "execution_count": 102,
   "metadata": {},
   "outputs": [
    {
     "data": {
      "text/plain": [
       "array(['покупка жилья', 'приобретение автомобиля',\n",
       "       'дополнительное образование', 'сыграть свадьбу',\n",
       "       'операции с жильем', 'образование', 'на проведение свадьбы',\n",
       "       'покупка жилья для семьи', 'покупка недвижимости',\n",
       "       'покупка коммерческой недвижимости', 'покупка жилой недвижимости',\n",
       "       'строительство собственной недвижимости', 'недвижимость',\n",
       "       'строительство недвижимости', 'на покупку подержанного автомобиля',\n",
       "       'на покупку своего автомобиля',\n",
       "       'операции с коммерческой недвижимостью',\n",
       "       'строительство жилой недвижимости', 'жилье',\n",
       "       'операции со своей недвижимостью', 'автомобили',\n",
       "       'заняться образованием', 'сделка с подержанным автомобилем',\n",
       "       'получение образования', 'автомобиль', 'свадьба',\n",
       "       'получение дополнительного образования', 'покупка своего жилья',\n",
       "       'операции с недвижимостью', 'получение высшего образования',\n",
       "       'свой автомобиль', 'сделка с автомобилем',\n",
       "       'профильное образование', 'высшее образование',\n",
       "       'покупка жилья для сдачи', 'на покупку автомобиля', 'ремонт жилью',\n",
       "       'заняться высшим образованием'], dtype=object)"
      ]
     },
     "execution_count": 102,
     "metadata": {},
     "output_type": "execute_result"
    }
   ],
   "source": [
    "data['purpose'].unique()"
   ]
  },
  {
   "cell_type": "code",
   "execution_count": 119,
   "metadata": {},
   "outputs": [],
   "source": [
    "from nltk.stem.snowball import SnowballStemmer\n",
    "stemmer = SnowballStemmer(\"russian\") "
   ]
  },
  {
   "cell_type": "code",
   "execution_count": 120,
   "metadata": {},
   "outputs": [],
   "source": [
    "# создадим функцию для замены на лемматизированные значения в столбце purpose\n",
    "\n",
    "def create_category_purpose(row):\n",
    "    \n",
    "    l = stemmer.stem(row['purpose'])\n",
    "    \n",
    "    if ('автомобиль' in l) or ('автомоб' in l ) or ('автомобил' in l ) :\n",
    "        return 'покупка автомобиля'\n",
    "    \n",
    "    if ('образование' in l) or ('образован' in l ) :\n",
    "        return 'получение образования'\n",
    "    \n",
    "    if (('жилье' in l) or ('недвижимость' in l ) or ('недвижим' in l ) or ('жилья ' in l )\n",
    "        or ('жил ' in l ) or ('жильем ' in l ) or ('недвижимости ' in l )):\n",
    "        return 'покупка недвижимости'\n",
    "    \n",
    "    if ('свадьба' in l) or ('свадьб' in l ) or ('свадьбу' in l ):\n",
    "        return 'на свадьбу'\n",
    "    \n",
    "    else:\n",
    "        return row['purpose']"
   ]
  },
  {
   "cell_type": "code",
   "execution_count": 121,
   "metadata": {},
   "outputs": [],
   "source": [
    "\n",
    "data['purpose'] = data.apply(create_category_purpose, axis=1)\n"
   ]
  },
  {
   "cell_type": "code",
   "execution_count": 122,
   "metadata": {},
   "outputs": [
    {
     "data": {
      "text/plain": [
       "array(['покупка жилья', 'покупка автомобиля', 'получение образования',\n",
       "       'на свадьбу', 'операции с жильем', 'покупка недвижимости', 'жилье',\n",
       "       'покупка своего жилья', 'ремонт жилью'], dtype=object)"
      ]
     },
     "metadata": {},
     "output_type": "display_data"
    },
    {
     "data": {
      "text/html": [
       "<div>\n",
       "<style scoped>\n",
       "    .dataframe tbody tr th:only-of-type {\n",
       "        vertical-align: middle;\n",
       "    }\n",
       "\n",
       "    .dataframe tbody tr th {\n",
       "        vertical-align: top;\n",
       "    }\n",
       "\n",
       "    .dataframe thead th {\n",
       "        text-align: right;\n",
       "    }\n",
       "</style>\n",
       "<table border=\"1\" class=\"dataframe\">\n",
       "  <thead>\n",
       "    <tr style=\"text-align: right;\">\n",
       "      <th></th>\n",
       "      <th>children</th>\n",
       "      <th>days_employed</th>\n",
       "      <th>dob_years</th>\n",
       "      <th>education</th>\n",
       "      <th>family_status</th>\n",
       "      <th>gender</th>\n",
       "      <th>income_type</th>\n",
       "      <th>debt</th>\n",
       "      <th>total_income</th>\n",
       "      <th>purpose</th>\n",
       "    </tr>\n",
       "  </thead>\n",
       "  <tbody>\n",
       "    <tr>\n",
       "      <th>0</th>\n",
       "      <td>1</td>\n",
       "      <td>-8437</td>\n",
       "      <td>42</td>\n",
       "      <td>высшее</td>\n",
       "      <td>женат / замужем</td>\n",
       "      <td>F</td>\n",
       "      <td>сотрудник</td>\n",
       "      <td>0</td>\n",
       "      <td>253875</td>\n",
       "      <td>покупка жилья</td>\n",
       "    </tr>\n",
       "    <tr>\n",
       "      <th>1</th>\n",
       "      <td>1</td>\n",
       "      <td>-4024</td>\n",
       "      <td>36</td>\n",
       "      <td>среднее</td>\n",
       "      <td>женат / замужем</td>\n",
       "      <td>F</td>\n",
       "      <td>сотрудник</td>\n",
       "      <td>0</td>\n",
       "      <td>112080</td>\n",
       "      <td>покупка автомобиля</td>\n",
       "    </tr>\n",
       "    <tr>\n",
       "      <th>2</th>\n",
       "      <td>0</td>\n",
       "      <td>-5623</td>\n",
       "      <td>33</td>\n",
       "      <td>среднее</td>\n",
       "      <td>женат / замужем</td>\n",
       "      <td>M</td>\n",
       "      <td>сотрудник</td>\n",
       "      <td>0</td>\n",
       "      <td>145885</td>\n",
       "      <td>покупка жилья</td>\n",
       "    </tr>\n",
       "    <tr>\n",
       "      <th>3</th>\n",
       "      <td>3</td>\n",
       "      <td>-4124</td>\n",
       "      <td>32</td>\n",
       "      <td>среднее</td>\n",
       "      <td>женат / замужем</td>\n",
       "      <td>M</td>\n",
       "      <td>сотрудник</td>\n",
       "      <td>0</td>\n",
       "      <td>267628</td>\n",
       "      <td>получение образования</td>\n",
       "    </tr>\n",
       "    <tr>\n",
       "      <th>4</th>\n",
       "      <td>0</td>\n",
       "      <td>340266</td>\n",
       "      <td>53</td>\n",
       "      <td>среднее</td>\n",
       "      <td>гражданский брак</td>\n",
       "      <td>F</td>\n",
       "      <td>пенсионер</td>\n",
       "      <td>0</td>\n",
       "      <td>158616</td>\n",
       "      <td>на свадьбу</td>\n",
       "    </tr>\n",
       "  </tbody>\n",
       "</table>\n",
       "</div>"
      ],
      "text/plain": [
       "   children  days_employed  dob_years education     family_status gender  \\\n",
       "0         1          -8437         42    высшее   женат / замужем      F   \n",
       "1         1          -4024         36   среднее   женат / замужем      F   \n",
       "2         0          -5623         33   среднее   женат / замужем      M   \n",
       "3         3          -4124         32   среднее   женат / замужем      M   \n",
       "4         0         340266         53   среднее  гражданский брак      F   \n",
       "\n",
       "  income_type  debt  total_income                purpose  \n",
       "0   сотрудник     0        253875          покупка жилья  \n",
       "1   сотрудник     0        112080     покупка автомобиля  \n",
       "2   сотрудник     0        145885          покупка жилья  \n",
       "3   сотрудник     0        267628  получение образования  \n",
       "4   пенсионер     0        158616             на свадьбу  "
      ]
     },
     "execution_count": 122,
     "metadata": {},
     "output_type": "execute_result"
    }
   ],
   "source": [
    "# проверим выведя список уникальных значений в столбце\n",
    "display (data['purpose'].unique())\n",
    "data.head()"
   ]
  },
  {
   "cell_type": "markdown",
   "metadata": {},
   "source": [
    "Теперь значения в столбце `purpose` имеют 4 категории и готовы к следующему шагу исследования."
   ]
  },
  {
   "cell_type": "markdown",
   "metadata": {},
   "source": [
    "### Категоризация данных"
   ]
  },
  {
   "cell_type": "code",
   "execution_count": 123,
   "metadata": {
    "scrolled": false
   },
   "outputs": [
    {
     "data": {
      "text/plain": [
       "0    14091\n",
       "1     4855\n",
       "2     2128\n",
       "3      330\n",
       "4       41\n",
       "5        9\n",
       "Name: children, dtype: int64"
      ]
     },
     "execution_count": 123,
     "metadata": {},
     "output_type": "execute_result"
    }
   ],
   "source": [
    "# проверим уникальные значение в столбце children\n",
    "data['children'].value_counts()"
   ]
  },
  {
   "cell_type": "markdown",
   "metadata": {},
   "source": [
    "Для распределения клиентов на категории по количеству детей создадим функцию."
   ]
  },
  {
   "cell_type": "code",
   "execution_count": 124,
   "metadata": {},
   "outputs": [
    {
     "data": {
      "text/html": [
       "<div>\n",
       "<style scoped>\n",
       "    .dataframe tbody tr th:only-of-type {\n",
       "        vertical-align: middle;\n",
       "    }\n",
       "\n",
       "    .dataframe tbody tr th {\n",
       "        vertical-align: top;\n",
       "    }\n",
       "\n",
       "    .dataframe thead th {\n",
       "        text-align: right;\n",
       "    }\n",
       "</style>\n",
       "<table border=\"1\" class=\"dataframe\">\n",
       "  <thead>\n",
       "    <tr style=\"text-align: right;\">\n",
       "      <th></th>\n",
       "      <th>children</th>\n",
       "      <th>days_employed</th>\n",
       "      <th>dob_years</th>\n",
       "      <th>education</th>\n",
       "      <th>family_status</th>\n",
       "      <th>gender</th>\n",
       "      <th>income_type</th>\n",
       "      <th>debt</th>\n",
       "      <th>total_income</th>\n",
       "      <th>purpose</th>\n",
       "    </tr>\n",
       "  </thead>\n",
       "  <tbody>\n",
       "    <tr>\n",
       "      <th>0</th>\n",
       "      <td>дети есть</td>\n",
       "      <td>-8437</td>\n",
       "      <td>42</td>\n",
       "      <td>высшее</td>\n",
       "      <td>женат / замужем</td>\n",
       "      <td>F</td>\n",
       "      <td>сотрудник</td>\n",
       "      <td>0</td>\n",
       "      <td>253875</td>\n",
       "      <td>покупка жилья</td>\n",
       "    </tr>\n",
       "    <tr>\n",
       "      <th>1</th>\n",
       "      <td>дети есть</td>\n",
       "      <td>-4024</td>\n",
       "      <td>36</td>\n",
       "      <td>среднее</td>\n",
       "      <td>женат / замужем</td>\n",
       "      <td>F</td>\n",
       "      <td>сотрудник</td>\n",
       "      <td>0</td>\n",
       "      <td>112080</td>\n",
       "      <td>покупка автомобиля</td>\n",
       "    </tr>\n",
       "    <tr>\n",
       "      <th>2</th>\n",
       "      <td>детей нет</td>\n",
       "      <td>-5623</td>\n",
       "      <td>33</td>\n",
       "      <td>среднее</td>\n",
       "      <td>женат / замужем</td>\n",
       "      <td>M</td>\n",
       "      <td>сотрудник</td>\n",
       "      <td>0</td>\n",
       "      <td>145885</td>\n",
       "      <td>покупка жилья</td>\n",
       "    </tr>\n",
       "  </tbody>\n",
       "</table>\n",
       "</div>"
      ],
      "text/plain": [
       "    children  days_employed  dob_years education    family_status gender  \\\n",
       "0  дети есть          -8437         42    высшее  женат / замужем      F   \n",
       "1  дети есть          -4024         36   среднее  женат / замужем      F   \n",
       "2  детей нет          -5623         33   среднее  женат / замужем      M   \n",
       "\n",
       "  income_type  debt  total_income             purpose  \n",
       "0   сотрудник     0        253875       покупка жилья  \n",
       "1   сотрудник     0        112080  покупка автомобиля  \n",
       "2   сотрудник     0        145885       покупка жилья  "
      ]
     },
     "execution_count": 124,
     "metadata": {},
     "output_type": "execute_result"
    }
   ],
   "source": [
    "def children_category (row):\n",
    "    \n",
    "    if row['children'] == 0:\n",
    "        return 'детей нет'\n",
    "    if row['children'] >= 3:\n",
    "        return 'многодетные семьи'\n",
    "    else:\n",
    "        return 'дети есть'\n",
    "    \n",
    "# для проведения анализа нам достаточно данных о наличии или отсутствии детей, \n",
    "# поэтому разделим столбец `children` на 2 категории\n",
    "\n",
    "data['children'] = data.apply(children_category, axis=1)\n",
    "data.head(3)"
   ]
  },
  {
   "cell_type": "markdown",
   "metadata": {},
   "source": [
    "Для определения категорий клиентов по уровеню ежемесячного дохода,\n",
    "находим минимальное, максимальное и медианное значение заработной платы."
   ]
  },
  {
   "cell_type": "code",
   "execution_count": 125,
   "metadata": {},
   "outputs": [
    {
     "data": {
      "text/plain": [
       "2265604"
      ]
     },
     "metadata": {},
     "output_type": "display_data"
    },
    {
     "data": {
      "text/plain": [
       "20667"
      ]
     },
     "metadata": {},
     "output_type": "display_data"
    },
    {
     "data": {
      "text/plain": [
       "151887.0"
      ]
     },
     "metadata": {},
     "output_type": "display_data"
    },
    {
     "data": {
      "text/plain": [
       "167431.58371399273"
      ]
     },
     "metadata": {},
     "output_type": "display_data"
    }
   ],
   "source": [
    "display (data['total_income'].max())\n",
    "display (data['total_income'].min())\n",
    "display (data['total_income'].median())\n",
    "display (data['total_income'].mean())"
   ]
  },
  {
   "cell_type": "markdown",
   "metadata": {},
   "source": [
    "Медианная и средняя зарплата примерно одинаковы, 150000 - средний доход клиентов."
   ]
  },
  {
   "cell_type": "code",
   "execution_count": 126,
   "metadata": {},
   "outputs": [
    {
     "data": {
      "text/plain": [
       "106784.0"
      ]
     },
     "execution_count": 126,
     "metadata": {},
     "output_type": "execute_result"
    }
   ],
   "source": [
    "# находим верхнюю границу нижнего уровня доходов\n",
    "below_average = data[data['total_income'] < 150000]\n",
    "below_average['total_income'].median() "
   ]
  },
  {
   "cell_type": "code",
   "execution_count": 127,
   "metadata": {},
   "outputs": [
    {
     "data": {
      "text/plain": [
       "201815.0"
      ]
     },
     "execution_count": 127,
     "metadata": {},
     "output_type": "execute_result"
    }
   ],
   "source": [
    "# находим нижнюю границу высокого уровня доходов\n",
    "below_average = data[data['total_income'] > 150000]\n",
    "below_average['total_income'].median()"
   ]
  },
  {
   "cell_type": "markdown",
   "metadata": {},
   "source": [
    "Таким образом, получается:\n",
    "\n",
    "* `<` `100000` - низкий уровень дохода\n",
    "* `<` `150000` - доходы ниже среднего\n",
    "* `>` `150000` - доходы выше среднего\n",
    "* `>` `200000` - высокий доход"
   ]
  },
  {
   "cell_type": "markdown",
   "metadata": {},
   "source": [
    "Для разделения клиентов на категории создадим функцию."
   ]
  },
  {
   "cell_type": "code",
   "execution_count": 128,
   "metadata": {
    "scrolled": false
   },
   "outputs": [
    {
     "data": {
      "text/html": [
       "<div>\n",
       "<style scoped>\n",
       "    .dataframe tbody tr th:only-of-type {\n",
       "        vertical-align: middle;\n",
       "    }\n",
       "\n",
       "    .dataframe tbody tr th {\n",
       "        vertical-align: top;\n",
       "    }\n",
       "\n",
       "    .dataframe thead th {\n",
       "        text-align: right;\n",
       "    }\n",
       "</style>\n",
       "<table border=\"1\" class=\"dataframe\">\n",
       "  <thead>\n",
       "    <tr style=\"text-align: right;\">\n",
       "      <th></th>\n",
       "      <th>children</th>\n",
       "      <th>days_employed</th>\n",
       "      <th>dob_years</th>\n",
       "      <th>education</th>\n",
       "      <th>family_status</th>\n",
       "      <th>gender</th>\n",
       "      <th>income_type</th>\n",
       "      <th>debt</th>\n",
       "      <th>total_income</th>\n",
       "      <th>purpose</th>\n",
       "      <th>total_income_category</th>\n",
       "    </tr>\n",
       "  </thead>\n",
       "  <tbody>\n",
       "    <tr>\n",
       "      <th>0</th>\n",
       "      <td>дети есть</td>\n",
       "      <td>-8437</td>\n",
       "      <td>42</td>\n",
       "      <td>высшее</td>\n",
       "      <td>женат / замужем</td>\n",
       "      <td>F</td>\n",
       "      <td>сотрудник</td>\n",
       "      <td>0</td>\n",
       "      <td>253875</td>\n",
       "      <td>покупка жилья</td>\n",
       "      <td>высокий уровень дохода</td>\n",
       "    </tr>\n",
       "    <tr>\n",
       "      <th>1</th>\n",
       "      <td>дети есть</td>\n",
       "      <td>-4024</td>\n",
       "      <td>36</td>\n",
       "      <td>среднее</td>\n",
       "      <td>женат / замужем</td>\n",
       "      <td>F</td>\n",
       "      <td>сотрудник</td>\n",
       "      <td>0</td>\n",
       "      <td>112080</td>\n",
       "      <td>покупка автомобиля</td>\n",
       "      <td>доход ниже среднего</td>\n",
       "    </tr>\n",
       "    <tr>\n",
       "      <th>2</th>\n",
       "      <td>детей нет</td>\n",
       "      <td>-5623</td>\n",
       "      <td>33</td>\n",
       "      <td>среднее</td>\n",
       "      <td>женат / замужем</td>\n",
       "      <td>M</td>\n",
       "      <td>сотрудник</td>\n",
       "      <td>0</td>\n",
       "      <td>145885</td>\n",
       "      <td>покупка жилья</td>\n",
       "      <td>доход ниже среднего</td>\n",
       "    </tr>\n",
       "    <tr>\n",
       "      <th>3</th>\n",
       "      <td>многодетные семьи</td>\n",
       "      <td>-4124</td>\n",
       "      <td>32</td>\n",
       "      <td>среднее</td>\n",
       "      <td>женат / замужем</td>\n",
       "      <td>M</td>\n",
       "      <td>сотрудник</td>\n",
       "      <td>0</td>\n",
       "      <td>267628</td>\n",
       "      <td>получение образования</td>\n",
       "      <td>высокий уровень дохода</td>\n",
       "    </tr>\n",
       "    <tr>\n",
       "      <th>4</th>\n",
       "      <td>детей нет</td>\n",
       "      <td>340266</td>\n",
       "      <td>53</td>\n",
       "      <td>среднее</td>\n",
       "      <td>гражданский брак</td>\n",
       "      <td>F</td>\n",
       "      <td>пенсионер</td>\n",
       "      <td>0</td>\n",
       "      <td>158616</td>\n",
       "      <td>на свадьбу</td>\n",
       "      <td>доход выше среднего</td>\n",
       "    </tr>\n",
       "  </tbody>\n",
       "</table>\n",
       "</div>"
      ],
      "text/plain": [
       "            children  days_employed  dob_years education     family_status  \\\n",
       "0          дети есть          -8437         42    высшее   женат / замужем   \n",
       "1          дети есть          -4024         36   среднее   женат / замужем   \n",
       "2          детей нет          -5623         33   среднее   женат / замужем   \n",
       "3  многодетные семьи          -4124         32   среднее   женат / замужем   \n",
       "4          детей нет         340266         53   среднее  гражданский брак   \n",
       "\n",
       "  gender income_type  debt  total_income                purpose  \\\n",
       "0      F   сотрудник     0        253875          покупка жилья   \n",
       "1      F   сотрудник     0        112080     покупка автомобиля   \n",
       "2      M   сотрудник     0        145885          покупка жилья   \n",
       "3      M   сотрудник     0        267628  получение образования   \n",
       "4      F   пенсионер     0        158616             на свадьбу   \n",
       "\n",
       "    total_income_category  \n",
       "0  высокий уровень дохода  \n",
       "1     доход ниже среднего  \n",
       "2     доход ниже среднего  \n",
       "3  высокий уровень дохода  \n",
       "4     доход выше среднего  "
      ]
     },
     "execution_count": 128,
     "metadata": {},
     "output_type": "execute_result"
    }
   ],
   "source": [
    "def total_income_category (row):\n",
    "    \n",
    "    if row['total_income'] <= 100000:\n",
    "        return 'низкий уровень дохода'\n",
    "    if row['total_income'] < 150000 and row['total_income'] > 100000:\n",
    "        return 'доход ниже среднего'\n",
    "    if row['total_income'] >= 150000 and row['total_income'] < 200000:\n",
    "        return 'доход выше среднего'\n",
    "    if row['total_income'] >= 200000:\n",
    "        return 'высокий уровень дохода'\n",
    "\n",
    "# создадим новый столбец с категориями ежемесячного дохода\n",
    "data['total_income_category'] = data.apply(total_income_category, axis=1)\n",
    "data.head(5)"
   ]
  },
  {
   "cell_type": "markdown",
   "metadata": {},
   "source": [
    "**Вывод**\n",
    "\n",
    "Мы обработали данные для исследования:\n",
    "* обработали пропуски в признаках трудового стажа и дохода\n",
    "* заменили вещественный тип данных на численный в столбцах трудового стажа, дохода и количества детей\n",
    "* очистили таблицу от ненужных признаков\n",
    "* обработали аномальные значения в столбцах количества детей и пола\n",
    "* обработали дубликаты в столбце образования\n",
    "* заменили значения в столбце цели для получения кредита\n",
    "* категоризировали столбец с количеством детей, и поделили на 2 категории, так как по условиям задачи необходимо ответить на вопрос: \"Есть ли зависимость между наличием детей и возвратом кредита в срок?\"\n",
    "* поделили столбец с уровнем дохода на 4 категории по медианному значению"
   ]
  },
  {
   "cell_type": "markdown",
   "metadata": {},
   "source": [
    "## Шаг 3. Проверка гипотез"
   ]
  },
  {
   "cell_type": "markdown",
   "metadata": {},
   "source": [
    "**Есть ли зависимость между наличием детей и возвратом кредита в срок?**"
   ]
  },
  {
   "cell_type": "code",
   "execution_count": 129,
   "metadata": {},
   "outputs": [],
   "source": [
    "# создадим функцию для проверки гипотезы\n",
    "def debt_status (row):\n",
    "    \n",
    "    if row['debt'] == 0:\n",
    "        return 'нет задолженности'\n",
    "    else:\n",
    "        return 'есть задолженность'\n",
    "\n",
    "data['debt_status'] = data.apply(debt_status, axis=1)"
   ]
  },
  {
   "cell_type": "code",
   "execution_count": 130,
   "metadata": {},
   "outputs": [
    {
     "data": {
      "text/html": [
       "<div>\n",
       "<style scoped>\n",
       "    .dataframe tbody tr th:only-of-type {\n",
       "        vertical-align: middle;\n",
       "    }\n",
       "\n",
       "    .dataframe tbody tr th {\n",
       "        vertical-align: top;\n",
       "    }\n",
       "\n",
       "    .dataframe thead th {\n",
       "        text-align: right;\n",
       "    }\n",
       "</style>\n",
       "<table border=\"1\" class=\"dataframe\">\n",
       "  <thead>\n",
       "    <tr style=\"text-align: right;\">\n",
       "      <th>children</th>\n",
       "      <th>детей нет</th>\n",
       "      <th>дети есть</th>\n",
       "      <th>многодетные семьи</th>\n",
       "    </tr>\n",
       "    <tr>\n",
       "      <th>debt_status</th>\n",
       "      <th></th>\n",
       "      <th></th>\n",
       "      <th></th>\n",
       "    </tr>\n",
       "  </thead>\n",
       "  <tbody>\n",
       "    <tr>\n",
       "      <th>есть задолженность</th>\n",
       "      <td>1063</td>\n",
       "      <td>647</td>\n",
       "      <td>31</td>\n",
       "    </tr>\n",
       "    <tr>\n",
       "      <th>нет задолженности</th>\n",
       "      <td>13028</td>\n",
       "      <td>6336</td>\n",
       "      <td>349</td>\n",
       "    </tr>\n",
       "    <tr>\n",
       "      <th>доля задолженности</th>\n",
       "      <td>8%</td>\n",
       "      <td>10%</td>\n",
       "      <td>9%</td>\n",
       "    </tr>\n",
       "  </tbody>\n",
       "</table>\n",
       "</div>"
      ],
      "text/plain": [
       "children           детей нет дети есть многодетные семьи\n",
       "debt_status                                             \n",
       "есть задолженность      1063       647                31\n",
       "нет задолженности      13028      6336               349\n",
       "доля задолженности        8%       10%                9%"
      ]
     },
     "execution_count": 130,
     "metadata": {},
     "output_type": "execute_result"
    }
   ],
   "source": [
    "children_table = data.pivot_table(index = 'debt_status', columns = 'children', values = 'debt', aggfunc = 'count')\n",
    "children_table.loc['доля задолженности'] = (children_table.iloc[0] / children_table.iloc[1]).map('{:.0%}'.format)\n",
    "children_table"
   ]
  },
  {
   "cell_type": "markdown",
   "metadata": {},
   "source": [
    "**Вывод**"
   ]
  },
  {
   "cell_type": "markdown",
   "metadata": {},
   "source": [
    "Отсутствие детей положительно влияет на вероятность возврата кредита в срок, так как доля задолженности у клиентов с 1, 2 детьми выше, чем у клиентов без детей."
   ]
  },
  {
   "cell_type": "markdown",
   "metadata": {},
   "source": [
    "**Есть ли зависимость между семейным положением и возвратом кредита в срок?**"
   ]
  },
  {
   "cell_type": "code",
   "execution_count": 131,
   "metadata": {},
   "outputs": [
    {
     "data": {
      "text/html": [
       "<div>\n",
       "<style scoped>\n",
       "    .dataframe tbody tr th:only-of-type {\n",
       "        vertical-align: middle;\n",
       "    }\n",
       "\n",
       "    .dataframe tbody tr th {\n",
       "        vertical-align: top;\n",
       "    }\n",
       "\n",
       "    .dataframe thead th {\n",
       "        text-align: right;\n",
       "    }\n",
       "</style>\n",
       "<table border=\"1\" class=\"dataframe\">\n",
       "  <thead>\n",
       "    <tr style=\"text-align: right;\">\n",
       "      <th>family_status</th>\n",
       "      <th>Не женат / не замужем</th>\n",
       "      <th>в разводе</th>\n",
       "      <th>вдовец / вдова</th>\n",
       "      <th>гражданский брак</th>\n",
       "      <th>женат / замужем</th>\n",
       "    </tr>\n",
       "    <tr>\n",
       "      <th>debt_status</th>\n",
       "      <th></th>\n",
       "      <th></th>\n",
       "      <th></th>\n",
       "      <th></th>\n",
       "      <th></th>\n",
       "    </tr>\n",
       "  </thead>\n",
       "  <tbody>\n",
       "    <tr>\n",
       "      <th>есть задолженность</th>\n",
       "      <td>274</td>\n",
       "      <td>85</td>\n",
       "      <td>63</td>\n",
       "      <td>388</td>\n",
       "      <td>931</td>\n",
       "    </tr>\n",
       "    <tr>\n",
       "      <th>нет задолженности</th>\n",
       "      <td>2536</td>\n",
       "      <td>1110</td>\n",
       "      <td>896</td>\n",
       "      <td>3763</td>\n",
       "      <td>11408</td>\n",
       "    </tr>\n",
       "    <tr>\n",
       "      <th>доля задолженности</th>\n",
       "      <td>11%</td>\n",
       "      <td>8%</td>\n",
       "      <td>7%</td>\n",
       "      <td>10%</td>\n",
       "      <td>8%</td>\n",
       "    </tr>\n",
       "  </tbody>\n",
       "</table>\n",
       "</div>"
      ],
      "text/plain": [
       "family_status      Не женат / не замужем в разводе вдовец / вдова  \\\n",
       "debt_status                                                         \n",
       "есть задолженность                   274        85             63   \n",
       "нет задолженности                   2536      1110            896   \n",
       "доля задолженности                   11%        8%             7%   \n",
       "\n",
       "family_status      гражданский брак женат / замужем  \n",
       "debt_status                                          \n",
       "есть задолженность              388             931  \n",
       "нет задолженности              3763           11408  \n",
       "доля задолженности              10%              8%  "
      ]
     },
     "execution_count": 131,
     "metadata": {},
     "output_type": "execute_result"
    }
   ],
   "source": [
    "family_table = data.pivot_table(index = 'debt_status', columns = 'family_status', values = 'debt', aggfunc = 'count')\n",
    "family_table.loc['доля задолженности'] = (family_table.iloc[0] / family_table.iloc[1]).map('{:.0%}'.format)\n",
    "family_table"
   ]
  },
  {
   "cell_type": "markdown",
   "metadata": {},
   "source": [
    "**Вывод**"
   ]
  },
  {
   "cell_type": "markdown",
   "metadata": {},
   "source": [
    "Брак положительно влияет на вероятность возврата кредита в срок. Так же статус \"в разводе\" и \"вдовец/вдова\" имеют меньшую долю должников, чем у людей со статусом \"не женат/не замужем\" или проживающих в гражданском браке."
   ]
  },
  {
   "cell_type": "markdown",
   "metadata": {},
   "source": [
    "**Есть ли зависимость между уровнем дохода и возвратом кредита в срок?**"
   ]
  },
  {
   "cell_type": "code",
   "execution_count": 132,
   "metadata": {},
   "outputs": [
    {
     "data": {
      "text/html": [
       "<div>\n",
       "<style scoped>\n",
       "    .dataframe tbody tr th:only-of-type {\n",
       "        vertical-align: middle;\n",
       "    }\n",
       "\n",
       "    .dataframe tbody tr th {\n",
       "        vertical-align: top;\n",
       "    }\n",
       "\n",
       "    .dataframe thead th {\n",
       "        text-align: right;\n",
       "    }\n",
       "</style>\n",
       "<table border=\"1\" class=\"dataframe\">\n",
       "  <thead>\n",
       "    <tr style=\"text-align: right;\">\n",
       "      <th>total_income_category</th>\n",
       "      <th>высокий уровень дохода</th>\n",
       "      <th>доход выше среднего</th>\n",
       "      <th>доход ниже среднего</th>\n",
       "      <th>низкий уровень дохода</th>\n",
       "    </tr>\n",
       "    <tr>\n",
       "      <th>debt_status</th>\n",
       "      <th></th>\n",
       "      <th></th>\n",
       "      <th></th>\n",
       "      <th></th>\n",
       "    </tr>\n",
       "  </thead>\n",
       "  <tbody>\n",
       "    <tr>\n",
       "      <th>есть задолженность</th>\n",
       "      <td>388</td>\n",
       "      <td>473</td>\n",
       "      <td>526</td>\n",
       "      <td>354</td>\n",
       "    </tr>\n",
       "    <tr>\n",
       "      <th>нет задолженности</th>\n",
       "      <td>5180</td>\n",
       "      <td>4860</td>\n",
       "      <td>5564</td>\n",
       "      <td>4109</td>\n",
       "    </tr>\n",
       "    <tr>\n",
       "      <th>доля задолженности</th>\n",
       "      <td>7%</td>\n",
       "      <td>10%</td>\n",
       "      <td>9%</td>\n",
       "      <td>9%</td>\n",
       "    </tr>\n",
       "  </tbody>\n",
       "</table>\n",
       "</div>"
      ],
      "text/plain": [
       "total_income_category высокий уровень дохода доход выше среднего  \\\n",
       "debt_status                                                        \n",
       "есть задолженность                       388                 473   \n",
       "нет задолженности                       5180                4860   \n",
       "доля задолженности                        7%                 10%   \n",
       "\n",
       "total_income_category доход ниже среднего низкий уровень дохода  \n",
       "debt_status                                                      \n",
       "есть задолженность                    526                   354  \n",
       "нет задолженности                    5564                  4109  \n",
       "доля задолженности                     9%                    9%  "
      ]
     },
     "execution_count": 132,
     "metadata": {},
     "output_type": "execute_result"
    }
   ],
   "source": [
    "finance_table = data.pivot_table(index = 'debt_status', columns = 'total_income_category', values = 'debt', aggfunc = 'count')\n",
    "finance_table.loc['доля задолженности'] = (finance_table.iloc[0] / finance_table.iloc[1]).map('{:.0%}'.format)\n",
    "finance_table"
   ]
  },
  {
   "cell_type": "markdown",
   "metadata": {},
   "source": [
    "**Вывод**"
   ]
  },
  {
   "cell_type": "markdown",
   "metadata": {},
   "source": [
    "* Клиенты с высоким уровнем дохода (>200000) наиболее надежны, и с большей вероятностью вернут кредит в срок. \n",
    "* Клиенты с низким доходом и доходом ниже среднего имеют чуть больший процент задолженности и менее надежны. \n",
    "* Клиенты с доходом выше среднего с меньшей вероятностью вернут кредит в срок."
   ]
  },
  {
   "cell_type": "markdown",
   "metadata": {},
   "source": [
    "**Как разные цели кредита влияют на его возврат в срок?**"
   ]
  },
  {
   "cell_type": "code",
   "execution_count": 133,
   "metadata": {},
   "outputs": [
    {
     "data": {
      "text/html": [
       "<div>\n",
       "<style scoped>\n",
       "    .dataframe tbody tr th:only-of-type {\n",
       "        vertical-align: middle;\n",
       "    }\n",
       "\n",
       "    .dataframe tbody tr th {\n",
       "        vertical-align: top;\n",
       "    }\n",
       "\n",
       "    .dataframe thead th {\n",
       "        text-align: right;\n",
       "    }\n",
       "</style>\n",
       "<table border=\"1\" class=\"dataframe\">\n",
       "  <thead>\n",
       "    <tr style=\"text-align: right;\">\n",
       "      <th>purpose</th>\n",
       "      <th>жилье</th>\n",
       "      <th>на свадьбу</th>\n",
       "      <th>операции с жильем</th>\n",
       "      <th>покупка автомобиля</th>\n",
       "      <th>покупка жилья</th>\n",
       "      <th>покупка недвижимости</th>\n",
       "      <th>покупка своего жилья</th>\n",
       "      <th>получение образования</th>\n",
       "      <th>ремонт жилью</th>\n",
       "    </tr>\n",
       "    <tr>\n",
       "      <th>debt_status</th>\n",
       "      <th></th>\n",
       "      <th></th>\n",
       "      <th></th>\n",
       "      <th></th>\n",
       "      <th></th>\n",
       "      <th></th>\n",
       "      <th></th>\n",
       "      <th></th>\n",
       "      <th></th>\n",
       "    </tr>\n",
       "  </thead>\n",
       "  <tbody>\n",
       "    <tr>\n",
       "      <th>есть задолженность</th>\n",
       "      <td>46</td>\n",
       "      <td>186</td>\n",
       "      <td>48</td>\n",
       "      <td>403</td>\n",
       "      <td>48</td>\n",
       "      <td>571</td>\n",
       "      <td>34</td>\n",
       "      <td>370</td>\n",
       "      <td>35</td>\n",
       "    </tr>\n",
       "    <tr>\n",
       "      <th>нет задолженности</th>\n",
       "      <td>600</td>\n",
       "      <td>2138</td>\n",
       "      <td>604</td>\n",
       "      <td>3903</td>\n",
       "      <td>598</td>\n",
       "      <td>7069</td>\n",
       "      <td>586</td>\n",
       "      <td>3643</td>\n",
       "      <td>572</td>\n",
       "    </tr>\n",
       "    <tr>\n",
       "      <th>доля задолженности</th>\n",
       "      <td>8%</td>\n",
       "      <td>9%</td>\n",
       "      <td>8%</td>\n",
       "      <td>10%</td>\n",
       "      <td>8%</td>\n",
       "      <td>8%</td>\n",
       "      <td>6%</td>\n",
       "      <td>10%</td>\n",
       "      <td>6%</td>\n",
       "    </tr>\n",
       "  </tbody>\n",
       "</table>\n",
       "</div>"
      ],
      "text/plain": [
       "purpose            жилье на свадьбу операции с жильем покупка автомобиля  \\\n",
       "debt_status                                                                \n",
       "есть задолженность    46        186                48                403   \n",
       "нет задолженности    600       2138               604               3903   \n",
       "доля задолженности    8%         9%                8%                10%   \n",
       "\n",
       "purpose            покупка жилья покупка недвижимости покупка своего жилья  \\\n",
       "debt_status                                                                  \n",
       "есть задолженность            48                  571                   34   \n",
       "нет задолженности            598                 7069                  586   \n",
       "доля задолженности            8%                   8%                   6%   \n",
       "\n",
       "purpose            получение образования ремонт жилью  \n",
       "debt_status                                            \n",
       "есть задолженность                   370           35  \n",
       "нет задолженности                   3643          572  \n",
       "доля задолженности                   10%           6%  "
      ]
     },
     "execution_count": 133,
     "metadata": {},
     "output_type": "execute_result"
    }
   ],
   "source": [
    "purpose_table = data.pivot_table(index = 'debt_status', columns = 'purpose', values = 'debt', aggfunc = 'count')\n",
    "purpose_table.loc['доля задолженности'] = (purpose_table.iloc[0] / purpose_table.iloc[1]).map('{:.0%}'.format)\n",
    "purpose_table"
   ]
  },
  {
   "cell_type": "markdown",
   "metadata": {},
   "source": [
    "**Вывод**"
   ]
  },
  {
   "cell_type": "markdown",
   "metadata": {},
   "source": [
    "* Кредит на покупку автомобиля или получение образования с меньшей вероятностью будет возвращен в срок\n",
    "* Клиент, который оформляет кредит на покупку недвижимости с большей вероятностью вернет его в срок."
   ]
  },
  {
   "cell_type": "markdown",
   "metadata": {},
   "source": [
    "## Шаг 4. Общий вывод"
   ]
  },
  {
   "cell_type": "markdown",
   "metadata": {},
   "source": [
    "* На возврат кредита в срок влияют все 4 критерия: наличие детей, семейный статус, уровень дохода и цель получения кредита.\n",
    "* В большей степени на возврат кредита в срок влияет семейное положение, так как разница между наименьшей (7%) и наибольшей (11%) долями - 4%.\n",
    "* Наиболее надежный клиент банка - вдовец/вдова, без детей, с высоким уровнем дохода, который берет кредит на недвижимость.\n",
    "* Наименее надежный клиент банка - не женат/не замужем, с детьми, с доходом выше среднего, который берет кредит на покупку автомобиля или получение образования."
   ]
  },
  {
   "cell_type": "code",
   "execution_count": null,
   "metadata": {},
   "outputs": [],
   "source": []
  }
 ],
 "metadata": {
  "ExecuteTimeLog": [
   {
    "duration": 822,
    "start_time": "2022-01-09T15:40:22.629Z"
   },
   {
    "duration": 80,
    "start_time": "2022-01-09T15:42:45.799Z"
   },
   {
    "duration": 80,
    "start_time": "2022-01-09T15:43:14.191Z"
   },
   {
    "duration": 77,
    "start_time": "2022-01-09T15:43:18.779Z"
   },
   {
    "duration": 71,
    "start_time": "2022-01-09T15:46:14.998Z"
   },
   {
    "duration": 94,
    "start_time": "2022-01-09T15:46:54.341Z"
   },
   {
    "duration": 86,
    "start_time": "2022-01-09T15:47:34.393Z"
   },
   {
    "duration": 87,
    "start_time": "2022-01-09T15:48:07.860Z"
   },
   {
    "duration": 86,
    "start_time": "2022-01-09T15:49:05.244Z"
   },
   {
    "duration": 601,
    "start_time": "2022-01-09T16:04:31.265Z"
   },
   {
    "duration": 15,
    "start_time": "2022-01-09T16:04:41.383Z"
   },
   {
    "duration": 300,
    "start_time": "2022-01-09T16:18:49.986Z"
   },
   {
    "duration": 8,
    "start_time": "2022-01-09T16:18:56.886Z"
   },
   {
    "duration": 90,
    "start_time": "2022-01-09T16:20:47.910Z"
   },
   {
    "duration": 13,
    "start_time": "2022-01-09T16:49:11.201Z"
   },
   {
    "duration": 487,
    "start_time": "2022-01-10T12:45:44.895Z"
   },
   {
    "duration": 616,
    "start_time": "2022-01-10T12:45:49.718Z"
   },
   {
    "duration": 9,
    "start_time": "2022-01-10T12:45:53.097Z"
   },
   {
    "duration": 4,
    "start_time": "2022-01-10T12:45:55.776Z"
   },
   {
    "duration": 10,
    "start_time": "2022-01-10T12:46:23.285Z"
   },
   {
    "duration": 6,
    "start_time": "2022-01-10T12:58:43.110Z"
   },
   {
    "duration": 14,
    "start_time": "2022-01-10T12:59:24.887Z"
   },
   {
    "duration": 14,
    "start_time": "2022-01-10T13:00:37.571Z"
   },
   {
    "duration": 573,
    "start_time": "2022-01-10T13:07:00.448Z"
   },
   {
    "duration": 7,
    "start_time": "2022-01-10T13:07:11.175Z"
   },
   {
    "duration": 6,
    "start_time": "2022-01-10T13:07:39.286Z"
   },
   {
    "duration": 8,
    "start_time": "2022-01-10T13:08:01.223Z"
   },
   {
    "duration": 64,
    "start_time": "2022-01-10T13:09:42.179Z"
   },
   {
    "duration": 4,
    "start_time": "2022-01-10T13:10:29.556Z"
   },
   {
    "duration": 13,
    "start_time": "2022-01-10T13:19:45.510Z"
   },
   {
    "duration": 12,
    "start_time": "2022-01-10T13:19:48.768Z"
   },
   {
    "duration": 18,
    "start_time": "2022-01-10T13:20:13.628Z"
   },
   {
    "duration": 13,
    "start_time": "2022-01-10T13:27:02.396Z"
   },
   {
    "duration": 15,
    "start_time": "2022-01-10T13:27:16.584Z"
   },
   {
    "duration": 324,
    "start_time": "2022-01-10T13:28:05.354Z"
   },
   {
    "duration": 862,
    "start_time": "2022-01-10T13:29:29.978Z"
   },
   {
    "duration": 330,
    "start_time": "2022-01-10T13:30:57.843Z"
   },
   {
    "duration": 310,
    "start_time": "2022-01-10T13:32:51.994Z"
   },
   {
    "duration": 350,
    "start_time": "2022-01-10T13:34:19.388Z"
   },
   {
    "duration": 7,
    "start_time": "2022-01-10T13:49:51.047Z"
   },
   {
    "duration": 8,
    "start_time": "2022-01-10T13:50:08.791Z"
   },
   {
    "duration": 217,
    "start_time": "2022-01-10T13:56:57.923Z"
   },
   {
    "duration": 190,
    "start_time": "2022-01-10T13:57:58.272Z"
   },
   {
    "duration": 279,
    "start_time": "2022-01-10T14:01:49.427Z"
   },
   {
    "duration": 33,
    "start_time": "2022-01-10T14:02:04.807Z"
   },
   {
    "duration": 40,
    "start_time": "2022-01-10T14:03:24.961Z"
   },
   {
    "duration": 44,
    "start_time": "2022-01-10T14:05:42.199Z"
   },
   {
    "duration": 42,
    "start_time": "2022-01-10T14:06:14.143Z"
   },
   {
    "duration": 104,
    "start_time": "2022-01-10T14:14:13.352Z"
   },
   {
    "duration": 7,
    "start_time": "2022-01-10T14:17:28.079Z"
   },
   {
    "duration": 13,
    "start_time": "2022-01-10T14:18:16.968Z"
   },
   {
    "duration": 12,
    "start_time": "2022-01-10T14:19:02.243Z"
   },
   {
    "duration": 14,
    "start_time": "2022-01-10T14:19:31.596Z"
   },
   {
    "duration": 18,
    "start_time": "2022-01-10T14:28:01.673Z"
   },
   {
    "duration": 16,
    "start_time": "2022-01-10T14:28:08.290Z"
   },
   {
    "duration": 31,
    "start_time": "2022-01-10T14:29:51.560Z"
   },
   {
    "duration": 183,
    "start_time": "2022-01-10T14:31:56.642Z"
   },
   {
    "duration": 16,
    "start_time": "2022-01-10T14:32:08.480Z"
   },
   {
    "duration": 42,
    "start_time": "2022-01-10T14:33:01.181Z"
   },
   {
    "duration": 33,
    "start_time": "2022-01-10T14:35:57.906Z"
   },
   {
    "duration": 189,
    "start_time": "2022-01-10T14:36:27.779Z"
   },
   {
    "duration": 28,
    "start_time": "2022-01-10T14:36:36.610Z"
   },
   {
    "duration": 30,
    "start_time": "2022-01-10T14:36:43.843Z"
   },
   {
    "duration": 15,
    "start_time": "2022-01-10T14:38:55.143Z"
   },
   {
    "duration": 34,
    "start_time": "2022-01-10T14:38:58.054Z"
   },
   {
    "duration": 16,
    "start_time": "2022-01-10T14:39:00.590Z"
   },
   {
    "duration": 34,
    "start_time": "2022-01-10T14:39:50.497Z"
   },
   {
    "duration": 32,
    "start_time": "2022-01-10T14:41:22.865Z"
   },
   {
    "duration": 31,
    "start_time": "2022-01-10T14:41:38.763Z"
   },
   {
    "duration": 33,
    "start_time": "2022-01-10T14:41:56.915Z"
   },
   {
    "duration": 15,
    "start_time": "2022-01-10T14:42:45.470Z"
   },
   {
    "duration": 32,
    "start_time": "2022-01-10T14:42:48.970Z"
   },
   {
    "duration": 17,
    "start_time": "2022-01-10T14:42:59.272Z"
   },
   {
    "duration": 29,
    "start_time": "2022-01-10T14:43:21.414Z"
   },
   {
    "duration": 16,
    "start_time": "2022-01-10T14:43:23.578Z"
   },
   {
    "duration": 30,
    "start_time": "2022-01-10T14:43:36.258Z"
   },
   {
    "duration": 15,
    "start_time": "2022-01-10T14:43:54.210Z"
   },
   {
    "duration": 14,
    "start_time": "2022-01-10T14:43:55.934Z"
   },
   {
    "duration": 61,
    "start_time": "2022-01-10T14:48:48.720Z"
   },
   {
    "duration": 6,
    "start_time": "2022-01-10T14:50:00.937Z"
   },
   {
    "duration": 9,
    "start_time": "2022-01-10T14:50:36.068Z"
   },
   {
    "duration": 6,
    "start_time": "2022-01-10T14:52:04.561Z"
   },
   {
    "duration": 5,
    "start_time": "2022-01-10T14:52:34.264Z"
   },
   {
    "duration": 10,
    "start_time": "2022-01-10T14:54:57.680Z"
   },
   {
    "duration": 1114,
    "start_time": "2022-01-10T14:55:13.832Z"
   },
   {
    "duration": 2852,
    "start_time": "2022-01-10T14:55:43.125Z"
   },
   {
    "duration": 206,
    "start_time": "2022-01-10T14:56:15.401Z"
   },
   {
    "duration": 11,
    "start_time": "2022-01-10T14:56:18.186Z"
   },
   {
    "duration": 5,
    "start_time": "2022-01-10T14:56:18.824Z"
   },
   {
    "duration": 23,
    "start_time": "2022-01-10T14:56:19.298Z"
   },
   {
    "duration": 7,
    "start_time": "2022-01-10T14:56:19.635Z"
   },
   {
    "duration": 45,
    "start_time": "2022-01-10T14:56:20.409Z"
   },
   {
    "duration": 13,
    "start_time": "2022-01-10T14:56:21.117Z"
   },
   {
    "duration": 17,
    "start_time": "2022-01-10T14:56:22.558Z"
   },
   {
    "duration": 31,
    "start_time": "2022-01-10T14:56:22.997Z"
   },
   {
    "duration": 7,
    "start_time": "2022-01-10T14:56:24.243Z"
   },
   {
    "duration": 20,
    "start_time": "2022-01-10T14:56:26.505Z"
   },
   {
    "duration": 8,
    "start_time": "2022-01-10T14:58:20.768Z"
   },
   {
    "duration": 2356,
    "start_time": "2022-01-10T14:58:43.408Z"
   },
   {
    "duration": 67,
    "start_time": "2022-01-10T15:51:04.601Z"
   },
   {
    "duration": 10,
    "start_time": "2022-01-10T15:51:05.873Z"
   },
   {
    "duration": 4,
    "start_time": "2022-01-10T15:51:07.298Z"
   },
   {
    "duration": 18,
    "start_time": "2022-01-10T15:51:08.169Z"
   },
   {
    "duration": 7,
    "start_time": "2022-01-10T15:51:09.349Z"
   },
   {
    "duration": 45,
    "start_time": "2022-01-10T15:51:12.020Z"
   },
   {
    "duration": 12,
    "start_time": "2022-01-10T15:51:15.208Z"
   },
   {
    "duration": 15,
    "start_time": "2022-01-10T15:51:18.572Z"
   },
   {
    "duration": 32,
    "start_time": "2022-01-10T15:51:19.361Z"
   },
   {
    "duration": 5,
    "start_time": "2022-01-10T15:51:24.789Z"
   },
   {
    "duration": 15,
    "start_time": "2022-01-10T15:51:27.223Z"
   },
   {
    "duration": 3250,
    "start_time": "2022-01-10T15:51:45.313Z"
   },
   {
    "duration": 9,
    "start_time": "2022-01-10T15:57:27.789Z"
   },
   {
    "duration": 6,
    "start_time": "2022-01-10T15:57:38.302Z"
   },
   {
    "duration": 1180,
    "start_time": "2022-01-10T15:57:57.716Z"
   },
   {
    "duration": 2265,
    "start_time": "2022-01-10T15:58:06.603Z"
   },
   {
    "duration": 2261,
    "start_time": "2022-01-10T15:58:14.627Z"
   },
   {
    "duration": 82,
    "start_time": "2022-01-10T15:58:22.228Z"
   },
   {
    "duration": 10,
    "start_time": "2022-01-10T15:58:29.826Z"
   },
   {
    "duration": 4,
    "start_time": "2022-01-10T15:58:31.103Z"
   },
   {
    "duration": 13,
    "start_time": "2022-01-10T15:58:32.095Z"
   },
   {
    "duration": 7,
    "start_time": "2022-01-10T15:58:34.144Z"
   },
   {
    "duration": 41,
    "start_time": "2022-01-10T15:58:35.855Z"
   },
   {
    "duration": 12,
    "start_time": "2022-01-10T15:58:41.121Z"
   },
   {
    "duration": 25,
    "start_time": "2022-01-10T15:59:23.233Z"
   },
   {
    "duration": 38,
    "start_time": "2022-01-10T15:59:48.009Z"
   },
   {
    "duration": 21,
    "start_time": "2022-01-10T16:00:13.165Z"
   },
   {
    "duration": 37,
    "start_time": "2022-01-10T16:00:40.997Z"
   },
   {
    "duration": 38,
    "start_time": "2022-01-10T16:00:49.479Z"
   },
   {
    "duration": 5,
    "start_time": "2022-01-10T16:00:59.239Z"
   },
   {
    "duration": 23,
    "start_time": "2022-01-10T16:01:02.392Z"
   },
   {
    "duration": 33,
    "start_time": "2022-01-10T16:01:10.484Z"
   },
   {
    "duration": 6,
    "start_time": "2022-01-10T16:01:19.798Z"
   },
   {
    "duration": 349,
    "start_time": "2022-01-10T19:07:25.655Z"
   },
   {
    "duration": 961,
    "start_time": "2022-01-10T19:07:32.613Z"
   },
   {
    "duration": 20,
    "start_time": "2022-01-10T19:07:40.487Z"
   },
   {
    "duration": 6,
    "start_time": "2022-01-10T19:07:41.372Z"
   },
   {
    "duration": 32,
    "start_time": "2022-01-10T19:07:41.999Z"
   },
   {
    "duration": 14,
    "start_time": "2022-01-10T19:07:42.668Z"
   },
   {
    "duration": 102,
    "start_time": "2022-01-10T19:07:43.631Z"
   },
   {
    "duration": 20,
    "start_time": "2022-01-10T19:07:44.772Z"
   },
   {
    "duration": 27,
    "start_time": "2022-01-10T19:07:47.581Z"
   },
   {
    "duration": 49,
    "start_time": "2022-01-10T19:07:48.058Z"
   },
   {
    "duration": 8,
    "start_time": "2022-01-10T19:07:49.162Z"
   },
   {
    "duration": 23,
    "start_time": "2022-01-10T19:07:51.159Z"
   },
   {
    "duration": 8,
    "start_time": "2022-01-10T19:16:32.758Z"
   },
   {
    "duration": 814,
    "start_time": "2022-01-10T19:23:57.210Z"
   },
   {
    "duration": 7799,
    "start_time": "2022-01-10T19:24:47.524Z"
   },
   {
    "duration": 6451,
    "start_time": "2022-01-10T19:25:21.114Z"
   },
   {
    "duration": 6390,
    "start_time": "2022-01-10T19:25:47.611Z"
   },
   {
    "duration": 402,
    "start_time": "2022-01-10T19:28:50.546Z"
   },
   {
    "duration": 314,
    "start_time": "2022-01-10T19:29:56.718Z"
   },
   {
    "duration": 5912,
    "start_time": "2022-01-10T19:29:58.214Z"
   },
   {
    "duration": 320,
    "start_time": "2022-01-10T19:30:57.041Z"
   },
   {
    "duration": 298,
    "start_time": "2022-01-10T19:32:11.788Z"
   },
   {
    "duration": 9,
    "start_time": "2022-01-10T19:32:21.088Z"
   },
   {
    "duration": 27,
    "start_time": "2022-01-10T19:32:59.254Z"
   },
   {
    "duration": 27,
    "start_time": "2022-01-10T19:35:28.844Z"
   },
   {
    "duration": 7307,
    "start_time": "2022-01-10T19:35:29.825Z"
   },
   {
    "duration": 6796,
    "start_time": "2022-01-10T19:37:07.760Z"
   },
   {
    "duration": 6162,
    "start_time": "2022-01-10T19:37:28.845Z"
   },
   {
    "duration": 6353,
    "start_time": "2022-01-10T19:38:24.746Z"
   },
   {
    "duration": 5059,
    "start_time": "2022-01-10T19:39:20.607Z"
   },
   {
    "duration": 10,
    "start_time": "2022-01-10T19:47:42.440Z"
   },
   {
    "duration": 34,
    "start_time": "2022-01-10T19:48:22.886Z"
   },
   {
    "duration": 10,
    "start_time": "2022-01-10T19:51:53.576Z"
   },
   {
    "duration": 99,
    "start_time": "2022-01-10T19:52:49.728Z"
   },
   {
    "duration": 12,
    "start_time": "2022-01-10T19:55:25.487Z"
   },
   {
    "duration": 6,
    "start_time": "2022-01-10T20:01:43.182Z"
   },
   {
    "duration": 332,
    "start_time": "2022-01-10T20:06:48.026Z"
   },
   {
    "duration": 13,
    "start_time": "2022-01-10T20:06:54.662Z"
   },
   {
    "duration": 17,
    "start_time": "2022-01-10T20:07:48.831Z"
   },
   {
    "duration": 1478,
    "start_time": "2022-01-10T20:31:00.683Z"
   },
   {
    "duration": 130,
    "start_time": "2022-01-10T20:31:51.006Z"
   },
   {
    "duration": 556,
    "start_time": "2022-01-10T20:31:56.864Z"
   },
   {
    "duration": 420,
    "start_time": "2022-01-10T20:33:24.301Z"
   },
   {
    "duration": 13,
    "start_time": "2022-01-10T20:36:21.013Z"
   },
   {
    "duration": 10,
    "start_time": "2022-01-10T20:36:35.613Z"
   },
   {
    "duration": 12,
    "start_time": "2022-01-10T20:36:58.920Z"
   },
   {
    "duration": 12,
    "start_time": "2022-01-10T20:37:34.131Z"
   },
   {
    "duration": 13,
    "start_time": "2022-01-10T20:37:41.682Z"
   },
   {
    "duration": 13,
    "start_time": "2022-01-10T20:39:03.906Z"
   },
   {
    "duration": 13,
    "start_time": "2022-01-10T20:40:45.060Z"
   },
   {
    "duration": 11,
    "start_time": "2022-01-10T20:41:41.668Z"
   },
   {
    "duration": 11,
    "start_time": "2022-01-10T20:41:50.543Z"
   },
   {
    "duration": 14,
    "start_time": "2022-01-10T20:46:55.933Z"
   },
   {
    "duration": 11,
    "start_time": "2022-01-10T20:47:21.824Z"
   },
   {
    "duration": 24,
    "start_time": "2022-01-10T20:47:47.240Z"
   },
   {
    "duration": 33,
    "start_time": "2022-01-10T20:48:16.234Z"
   },
   {
    "duration": 320,
    "start_time": "2022-01-10T20:49:56.564Z"
   },
   {
    "duration": 56,
    "start_time": "2022-01-10T20:50:04.158Z"
   },
   {
    "duration": 828,
    "start_time": "2022-01-11T12:19:56.619Z"
   },
   {
    "duration": 13,
    "start_time": "2022-01-11T12:20:01.752Z"
   },
   {
    "duration": 5,
    "start_time": "2022-01-11T12:20:02.963Z"
   },
   {
    "duration": 22,
    "start_time": "2022-01-11T12:20:03.550Z"
   },
   {
    "duration": 10,
    "start_time": "2022-01-11T12:20:04.387Z"
   },
   {
    "duration": 59,
    "start_time": "2022-01-11T12:20:05.494Z"
   },
   {
    "duration": 18,
    "start_time": "2022-01-11T12:20:06.636Z"
   },
   {
    "duration": 23,
    "start_time": "2022-01-11T12:20:08.143Z"
   },
   {
    "duration": 44,
    "start_time": "2022-01-11T12:20:08.509Z"
   },
   {
    "duration": 7,
    "start_time": "2022-01-11T12:20:09.317Z"
   },
   {
    "duration": 22,
    "start_time": "2022-01-11T12:20:10.128Z"
   },
   {
    "duration": 25,
    "start_time": "2022-01-11T12:20:11.988Z"
   },
   {
    "duration": 5750,
    "start_time": "2022-01-11T12:20:12.531Z"
   },
   {
    "duration": 518,
    "start_time": "2022-01-11T12:20:18.284Z"
   },
   {
    "duration": 20,
    "start_time": "2022-01-11T12:20:18.805Z"
   },
   {
    "duration": 82,
    "start_time": "2022-01-11T12:20:24.101Z"
   },
   {
    "duration": 12,
    "start_time": "2022-01-11T12:20:25.085Z"
   },
   {
    "duration": 10,
    "start_time": "2022-01-11T12:20:33.543Z"
   },
   {
    "duration": 10,
    "start_time": "2022-01-11T12:20:35.532Z"
   },
   {
    "duration": 655,
    "start_time": "2022-01-11T12:20:38.157Z"
   },
   {
    "duration": 862,
    "start_time": "2022-01-11T12:22:55.029Z"
   },
   {
    "duration": 9,
    "start_time": "2022-01-11T12:23:51.218Z"
   },
   {
    "duration": 29,
    "start_time": "2022-01-11T12:32:43.597Z"
   },
   {
    "duration": 30,
    "start_time": "2022-01-11T12:32:52.564Z"
   },
   {
    "duration": 18,
    "start_time": "2022-01-11T12:45:10.412Z"
   },
   {
    "duration": 7596,
    "start_time": "2022-01-11T12:46:25.015Z"
   },
   {
    "duration": 11,
    "start_time": "2022-01-11T12:46:43.105Z"
   },
   {
    "duration": 10,
    "start_time": "2022-01-11T12:47:05.601Z"
   },
   {
    "duration": 12,
    "start_time": "2022-01-11T12:47:39.711Z"
   },
   {
    "duration": 12,
    "start_time": "2022-01-11T12:47:55.699Z"
   },
   {
    "duration": 9,
    "start_time": "2022-01-11T12:49:35.238Z"
   },
   {
    "duration": 395,
    "start_time": "2022-01-11T12:58:06.166Z"
   },
   {
    "duration": 399,
    "start_time": "2022-01-11T12:58:18.557Z"
   },
   {
    "duration": 413,
    "start_time": "2022-01-11T12:58:28.439Z"
   },
   {
    "duration": 639,
    "start_time": "2022-01-11T12:58:58.777Z"
   },
   {
    "duration": 404,
    "start_time": "2022-01-11T12:59:10.604Z"
   },
   {
    "duration": 20,
    "start_time": "2022-01-11T12:59:28.893Z"
   },
   {
    "duration": 22,
    "start_time": "2022-01-11T12:59:32.469Z"
   },
   {
    "duration": 97,
    "start_time": "2022-01-11T12:59:36.220Z"
   },
   {
    "duration": 96,
    "start_time": "2022-01-11T12:59:44.926Z"
   },
   {
    "duration": 99,
    "start_time": "2022-01-11T12:59:50.758Z"
   },
   {
    "duration": 857,
    "start_time": "2022-01-11T12:59:58.170Z"
   },
   {
    "duration": 14,
    "start_time": "2022-01-11T13:00:02.222Z"
   },
   {
    "duration": 5,
    "start_time": "2022-01-11T13:00:03.219Z"
   },
   {
    "duration": 21,
    "start_time": "2022-01-11T13:00:03.676Z"
   },
   {
    "duration": 11,
    "start_time": "2022-01-11T13:00:04.122Z"
   },
   {
    "duration": 63,
    "start_time": "2022-01-11T13:00:04.717Z"
   },
   {
    "duration": 19,
    "start_time": "2022-01-11T13:00:05.412Z"
   },
   {
    "duration": 33,
    "start_time": "2022-01-11T13:00:06.471Z"
   },
   {
    "duration": 48,
    "start_time": "2022-01-11T13:00:06.653Z"
   },
   {
    "duration": 6,
    "start_time": "2022-01-11T13:00:07.140Z"
   },
   {
    "duration": 22,
    "start_time": "2022-01-11T13:00:07.629Z"
   },
   {
    "duration": 25,
    "start_time": "2022-01-11T13:00:08.740Z"
   },
   {
    "duration": 5974,
    "start_time": "2022-01-11T13:00:08.960Z"
   },
   {
    "duration": 397,
    "start_time": "2022-01-11T13:00:14.937Z"
   },
   {
    "duration": 16,
    "start_time": "2022-01-11T13:00:15.337Z"
   },
   {
    "duration": 14,
    "start_time": "2022-01-11T13:00:15.356Z"
   },
   {
    "duration": 48,
    "start_time": "2022-01-11T13:00:15.373Z"
   },
   {
    "duration": 970,
    "start_time": "2022-01-11T13:00:20.134Z"
   },
   {
    "duration": 10,
    "start_time": "2022-01-11T13:00:23.546Z"
   },
   {
    "duration": 21,
    "start_time": "2022-01-11T13:00:28.784Z"
   },
   {
    "duration": 385,
    "start_time": "2022-01-11T13:00:47.486Z"
   },
   {
    "duration": 401,
    "start_time": "2022-01-11T13:01:45.095Z"
   },
   {
    "duration": 393,
    "start_time": "2022-01-11T13:01:55.437Z"
   },
   {
    "duration": 712,
    "start_time": "2022-01-11T13:02:14.925Z"
   },
   {
    "duration": 371,
    "start_time": "2022-01-11T13:02:23.957Z"
   },
   {
    "duration": 393,
    "start_time": "2022-01-11T13:03:53.105Z"
   },
   {
    "duration": 431,
    "start_time": "2022-01-11T13:04:16.262Z"
   },
   {
    "duration": 14,
    "start_time": "2022-01-11T13:04:16.790Z"
   },
   {
    "duration": 11,
    "start_time": "2022-01-11T13:04:22.102Z"
   },
   {
    "duration": 11,
    "start_time": "2022-01-11T13:04:22.390Z"
   },
   {
    "duration": 861,
    "start_time": "2022-01-11T13:04:24.239Z"
   },
   {
    "duration": 879,
    "start_time": "2022-01-11T13:04:44.537Z"
   },
   {
    "duration": 13,
    "start_time": "2022-01-11T13:04:45.943Z"
   },
   {
    "duration": 5,
    "start_time": "2022-01-11T13:04:46.647Z"
   },
   {
    "duration": 25,
    "start_time": "2022-01-11T13:04:47.140Z"
   },
   {
    "duration": 10,
    "start_time": "2022-01-11T13:04:47.547Z"
   },
   {
    "duration": 61,
    "start_time": "2022-01-11T13:04:48.207Z"
   },
   {
    "duration": 19,
    "start_time": "2022-01-11T13:04:48.880Z"
   },
   {
    "duration": 26,
    "start_time": "2022-01-11T13:04:49.812Z"
   },
   {
    "duration": 46,
    "start_time": "2022-01-11T13:04:50.030Z"
   },
   {
    "duration": 7,
    "start_time": "2022-01-11T13:04:50.482Z"
   },
   {
    "duration": 23,
    "start_time": "2022-01-11T13:04:50.895Z"
   },
   {
    "duration": 25,
    "start_time": "2022-01-11T13:04:51.979Z"
   },
   {
    "duration": 5766,
    "start_time": "2022-01-11T13:04:52.170Z"
   },
   {
    "duration": 514,
    "start_time": "2022-01-11T13:04:57.938Z"
   },
   {
    "duration": 13,
    "start_time": "2022-01-11T13:04:58.454Z"
   },
   {
    "duration": 13,
    "start_time": "2022-01-11T13:04:58.469Z"
   },
   {
    "duration": 39,
    "start_time": "2022-01-11T13:04:58.484Z"
   },
   {
    "duration": 917,
    "start_time": "2022-01-11T13:04:58.525Z"
   },
   {
    "duration": 11,
    "start_time": "2022-01-11T13:04:59.445Z"
   },
   {
    "duration": 416,
    "start_time": "2022-01-11T13:04:59.460Z"
   },
   {
    "duration": 391,
    "start_time": "2022-01-11T13:06:59.860Z"
   },
   {
    "duration": 381,
    "start_time": "2022-01-11T13:07:07.727Z"
   },
   {
    "duration": 371,
    "start_time": "2022-01-11T13:07:27.603Z"
   },
   {
    "duration": 374,
    "start_time": "2022-01-11T13:07:34.868Z"
   },
   {
    "duration": 384,
    "start_time": "2022-01-11T13:07:38.701Z"
   },
   {
    "duration": 377,
    "start_time": "2022-01-11T13:07:57.448Z"
   },
   {
    "duration": 815,
    "start_time": "2022-01-11T13:08:11.550Z"
   },
   {
    "duration": 12,
    "start_time": "2022-01-11T13:08:17.921Z"
   },
   {
    "duration": 5,
    "start_time": "2022-01-11T13:08:18.499Z"
   },
   {
    "duration": 21,
    "start_time": "2022-01-11T13:08:18.825Z"
   },
   {
    "duration": 10,
    "start_time": "2022-01-11T13:08:19.145Z"
   },
   {
    "duration": 59,
    "start_time": "2022-01-11T13:08:19.616Z"
   },
   {
    "duration": 19,
    "start_time": "2022-01-11T13:08:20.153Z"
   },
   {
    "duration": 23,
    "start_time": "2022-01-11T13:08:20.835Z"
   },
   {
    "duration": 48,
    "start_time": "2022-01-11T13:08:21.015Z"
   },
   {
    "duration": 7,
    "start_time": "2022-01-11T13:08:21.340Z"
   },
   {
    "duration": 22,
    "start_time": "2022-01-11T13:08:21.732Z"
   },
   {
    "duration": 25,
    "start_time": "2022-01-11T13:08:22.826Z"
   },
   {
    "duration": 5769,
    "start_time": "2022-01-11T13:08:23.019Z"
   },
   {
    "duration": 420,
    "start_time": "2022-01-11T13:08:28.791Z"
   },
   {
    "duration": 14,
    "start_time": "2022-01-11T13:08:29.217Z"
   },
   {
    "duration": 21,
    "start_time": "2022-01-11T13:08:29.233Z"
   },
   {
    "duration": 12,
    "start_time": "2022-01-11T13:08:29.256Z"
   },
   {
    "duration": 936,
    "start_time": "2022-01-11T13:08:29.271Z"
   },
   {
    "duration": 416,
    "start_time": "2022-01-11T13:08:34.605Z"
   },
   {
    "duration": 401,
    "start_time": "2022-01-11T13:09:21.425Z"
   },
   {
    "duration": 415,
    "start_time": "2022-01-11T13:10:47.886Z"
   },
   {
    "duration": 27,
    "start_time": "2022-01-11T13:11:41.748Z"
   },
   {
    "duration": 30,
    "start_time": "2022-01-11T13:12:03.083Z"
   },
   {
    "duration": 92,
    "start_time": "2022-01-11T13:12:25.606Z"
   },
   {
    "duration": 831,
    "start_time": "2022-01-11T13:12:32.126Z"
   },
   {
    "duration": 13,
    "start_time": "2022-01-11T13:12:34.812Z"
   },
   {
    "duration": 5,
    "start_time": "2022-01-11T13:12:35.326Z"
   },
   {
    "duration": 19,
    "start_time": "2022-01-11T13:12:35.632Z"
   },
   {
    "duration": 9,
    "start_time": "2022-01-11T13:12:35.983Z"
   },
   {
    "duration": 63,
    "start_time": "2022-01-11T13:12:36.480Z"
   },
   {
    "duration": 20,
    "start_time": "2022-01-11T13:12:36.963Z"
   },
   {
    "duration": 34,
    "start_time": "2022-01-11T13:12:37.663Z"
   },
   {
    "duration": 65,
    "start_time": "2022-01-11T13:12:37.827Z"
   },
   {
    "duration": 7,
    "start_time": "2022-01-11T13:12:38.173Z"
   },
   {
    "duration": 21,
    "start_time": "2022-01-11T13:12:38.538Z"
   },
   {
    "duration": 25,
    "start_time": "2022-01-11T13:12:39.722Z"
   },
   {
    "duration": 5665,
    "start_time": "2022-01-11T13:12:39.929Z"
   },
   {
    "duration": 429,
    "start_time": "2022-01-11T13:12:45.597Z"
   },
   {
    "duration": 13,
    "start_time": "2022-01-11T13:12:46.028Z"
   },
   {
    "duration": 11,
    "start_time": "2022-01-11T13:12:47.623Z"
   },
   {
    "duration": 10,
    "start_time": "2022-01-11T13:12:48.132Z"
   },
   {
    "duration": 940,
    "start_time": "2022-01-11T13:12:49.480Z"
   },
   {
    "duration": 419,
    "start_time": "2022-01-11T13:12:54.205Z"
   },
   {
    "duration": 33,
    "start_time": "2022-01-11T13:12:57.367Z"
   },
   {
    "duration": 397,
    "start_time": "2022-01-11T13:16:58.143Z"
   },
   {
    "duration": 7370,
    "start_time": "2022-01-11T13:19:26.950Z"
   },
   {
    "duration": 7708,
    "start_time": "2022-01-11T13:20:05.979Z"
   },
   {
    "duration": 6196,
    "start_time": "2022-01-11T13:21:52.086Z"
   },
   {
    "duration": 6904,
    "start_time": "2022-01-11T13:22:14.455Z"
   },
   {
    "duration": 7700,
    "start_time": "2022-01-11T13:23:01.619Z"
   },
   {
    "duration": 268,
    "start_time": "2022-01-11T13:24:06.288Z"
   },
   {
    "duration": 33,
    "start_time": "2022-01-11T13:24:50.522Z"
   },
   {
    "duration": 34,
    "start_time": "2022-01-11T13:32:19.713Z"
   },
   {
    "duration": 37,
    "start_time": "2022-01-11T13:32:22.160Z"
   },
   {
    "duration": 40,
    "start_time": "2022-01-11T13:41:34.167Z"
   },
   {
    "duration": 37,
    "start_time": "2022-01-11T13:52:00.999Z"
   },
   {
    "duration": 94,
    "start_time": "2022-01-11T14:18:14.018Z"
   },
   {
    "duration": 5,
    "start_time": "2022-01-11T14:22:19.235Z"
   },
   {
    "duration": 6890,
    "start_time": "2022-01-11T14:35:49.251Z"
   },
   {
    "duration": 4811,
    "start_time": "2022-01-11T14:38:04.167Z"
   },
   {
    "duration": 419,
    "start_time": "2022-01-11T14:40:16.230Z"
   },
   {
    "duration": 88,
    "start_time": "2022-01-11T14:52:18.831Z"
   },
   {
    "duration": 14,
    "start_time": "2022-01-11T14:52:23.848Z"
   },
   {
    "duration": 5,
    "start_time": "2022-01-11T14:52:24.441Z"
   },
   {
    "duration": 20,
    "start_time": "2022-01-11T14:52:24.849Z"
   },
   {
    "duration": 10,
    "start_time": "2022-01-11T14:52:25.452Z"
   },
   {
    "duration": 61,
    "start_time": "2022-01-11T14:52:26.165Z"
   },
   {
    "duration": 19,
    "start_time": "2022-01-11T14:52:26.868Z"
   },
   {
    "duration": 26,
    "start_time": "2022-01-11T14:52:28.211Z"
   },
   {
    "duration": 601,
    "start_time": "2022-01-11T14:52:28.399Z"
   },
   {
    "duration": 521,
    "start_time": "2022-01-11T14:52:29.003Z"
   },
   {
    "duration": 588,
    "start_time": "2022-01-11T14:52:29.527Z"
   },
   {
    "duration": 593,
    "start_time": "2022-01-11T14:52:30.566Z"
   },
   {
    "duration": 7756,
    "start_time": "2022-01-11T14:52:31.161Z"
   },
   {
    "duration": 401,
    "start_time": "2022-01-11T14:52:38.920Z"
   },
   {
    "duration": 119,
    "start_time": "2022-01-11T14:52:39.324Z"
   },
   {
    "duration": 433,
    "start_time": "2022-01-11T14:52:39.446Z"
   },
   {
    "duration": 458,
    "start_time": "2022-01-11T14:52:39.881Z"
   },
   {
    "duration": 1606,
    "start_time": "2022-01-11T14:52:40.342Z"
   },
   {
    "duration": 553,
    "start_time": "2022-01-11T14:52:41.951Z"
   },
   {
    "duration": 51,
    "start_time": "2022-01-11T14:52:42.506Z"
   },
   {
    "duration": 317,
    "start_time": "2022-01-11T14:52:42.560Z"
   },
   {
    "duration": 417,
    "start_time": "2022-01-11T14:52:42.880Z"
   },
   {
    "duration": 367,
    "start_time": "2022-01-11T14:52:43.299Z"
   },
   {
    "duration": 93,
    "start_time": "2022-01-13T06:33:45.730Z"
   },
   {
    "duration": 340,
    "start_time": "2022-01-15T14:33:51.633Z"
   },
   {
    "duration": 679,
    "start_time": "2022-01-15T14:33:58.332Z"
   },
   {
    "duration": 11,
    "start_time": "2022-01-15T14:34:02.113Z"
   },
   {
    "duration": 4,
    "start_time": "2022-01-15T14:34:03.775Z"
   },
   {
    "duration": 13,
    "start_time": "2022-01-15T14:34:04.793Z"
   },
   {
    "duration": 7,
    "start_time": "2022-01-15T14:34:05.633Z"
   },
   {
    "duration": 372,
    "start_time": "2022-01-15T14:34:07.726Z"
   },
   {
    "duration": 36,
    "start_time": "2022-01-15T14:37:55.330Z"
   },
   {
    "duration": 41,
    "start_time": "2022-01-15T14:38:54.398Z"
   },
   {
    "duration": 88,
    "start_time": "2022-01-15T14:41:56.695Z"
   },
   {
    "duration": 15,
    "start_time": "2022-01-15T14:43:21.284Z"
   },
   {
    "duration": 34,
    "start_time": "2022-01-15T14:43:45.045Z"
   },
   {
    "duration": 19,
    "start_time": "2022-01-15T14:45:31.191Z"
   },
   {
    "duration": 683,
    "start_time": "2022-01-15T14:45:40.932Z"
   },
   {
    "duration": 10,
    "start_time": "2022-01-15T14:45:42.125Z"
   },
   {
    "duration": 4,
    "start_time": "2022-01-15T14:45:43.058Z"
   },
   {
    "duration": 13,
    "start_time": "2022-01-15T14:45:43.585Z"
   },
   {
    "duration": 8,
    "start_time": "2022-01-15T14:45:44.929Z"
   },
   {
    "duration": 38,
    "start_time": "2022-01-15T14:45:46.282Z"
   },
   {
    "duration": 23,
    "start_time": "2022-01-15T14:45:50.614Z"
   },
   {
    "duration": 11,
    "start_time": "2022-01-15T14:46:52.420Z"
   },
   {
    "duration": 13,
    "start_time": "2022-01-15T14:46:58.782Z"
   },
   {
    "duration": 642,
    "start_time": "2022-01-15T14:51:09.479Z"
   },
   {
    "duration": 10,
    "start_time": "2022-01-15T14:51:10.744Z"
   },
   {
    "duration": 3,
    "start_time": "2022-01-15T14:51:12.053Z"
   },
   {
    "duration": 14,
    "start_time": "2022-01-15T14:51:12.640Z"
   },
   {
    "duration": 8,
    "start_time": "2022-01-15T14:51:13.777Z"
   },
   {
    "duration": 38,
    "start_time": "2022-01-15T14:51:15.956Z"
   },
   {
    "duration": 13,
    "start_time": "2022-01-15T14:51:18.349Z"
   },
   {
    "duration": 5,
    "start_time": "2022-01-15T14:51:22.290Z"
   },
   {
    "duration": 16,
    "start_time": "2022-01-15T14:51:25.228Z"
   },
   {
    "duration": 16,
    "start_time": "2022-01-15T14:51:26.717Z"
   },
   {
    "duration": 30,
    "start_time": "2022-01-15T14:51:28.134Z"
   },
   {
    "duration": 6,
    "start_time": "2022-01-15T14:55:47.810Z"
   },
   {
    "duration": 5,
    "start_time": "2022-01-15T14:59:17.246Z"
   },
   {
    "duration": 16,
    "start_time": "2022-01-15T15:04:10.675Z"
   },
   {
    "duration": 19,
    "start_time": "2022-01-15T15:04:29.158Z"
   },
   {
    "duration": 28,
    "start_time": "2022-01-15T15:05:15.874Z"
   },
   {
    "duration": 288,
    "start_time": "2022-01-15T15:07:02.305Z"
   },
   {
    "duration": 9,
    "start_time": "2022-01-15T15:07:33.235Z"
   },
   {
    "duration": 324,
    "start_time": "2022-01-15T15:08:18.525Z"
   },
   {
    "duration": 621,
    "start_time": "2022-01-15T15:09:00.410Z"
   },
   {
    "duration": 10,
    "start_time": "2022-01-15T15:09:03.865Z"
   },
   {
    "duration": 4,
    "start_time": "2022-01-15T15:09:05.673Z"
   },
   {
    "duration": 16,
    "start_time": "2022-01-15T15:09:06.603Z"
   },
   {
    "duration": 7,
    "start_time": "2022-01-15T15:09:08.464Z"
   },
   {
    "duration": 39,
    "start_time": "2022-01-15T15:09:10.139Z"
   },
   {
    "duration": 14,
    "start_time": "2022-01-15T15:09:14.021Z"
   },
   {
    "duration": 8,
    "start_time": "2022-01-15T15:09:17.773Z"
   },
   {
    "duration": 33,
    "start_time": "2022-01-15T15:09:32.434Z"
   },
   {
    "duration": 5,
    "start_time": "2022-01-15T15:09:38.423Z"
   },
   {
    "duration": 22,
    "start_time": "2022-01-15T15:09:39.566Z"
   },
   {
    "duration": 15,
    "start_time": "2022-01-15T15:09:40.808Z"
   },
   {
    "duration": 29,
    "start_time": "2022-01-15T15:09:41.496Z"
   },
   {
    "duration": 1106,
    "start_time": "2022-01-15T15:09:59.725Z"
   },
   {
    "duration": 3058,
    "start_time": "2022-01-15T15:09:57.775Z"
   },
   {
    "duration": 350,
    "start_time": "2022-01-15T15:10:08.053Z"
   },
   {
    "duration": 254,
    "start_time": "2022-01-15T15:10:29.603Z"
   },
   {
    "duration": 1402,
    "start_time": "2022-01-15T15:10:40.391Z"
   },
   {
    "duration": 733,
    "start_time": "2022-01-15T15:10:58.866Z"
   },
   {
    "duration": 11,
    "start_time": "2022-01-15T15:11:01.723Z"
   },
   {
    "duration": 4,
    "start_time": "2022-01-15T15:11:02.863Z"
   },
   {
    "duration": 15,
    "start_time": "2022-01-15T15:11:03.459Z"
   },
   {
    "duration": 9,
    "start_time": "2022-01-15T15:11:04.050Z"
   },
   {
    "duration": 41,
    "start_time": "2022-01-15T15:11:04.896Z"
   },
   {
    "duration": 13,
    "start_time": "2022-01-15T15:11:06.450Z"
   },
   {
    "duration": 6,
    "start_time": "2022-01-15T15:11:07.198Z"
   },
   {
    "duration": 27,
    "start_time": "2022-01-15T15:11:07.930Z"
   },
   {
    "duration": 5,
    "start_time": "2022-01-15T15:11:10.319Z"
   },
   {
    "duration": 18,
    "start_time": "2022-01-15T15:11:11.645Z"
   },
   {
    "duration": 6,
    "start_time": "2022-01-15T15:12:58.871Z"
   },
   {
    "duration": 6,
    "start_time": "2022-01-15T15:13:05.673Z"
   },
   {
    "duration": 17,
    "start_time": "2022-01-15T15:13:06.876Z"
   },
   {
    "duration": 741,
    "start_time": "2022-01-15T15:13:51.440Z"
   },
   {
    "duration": 10,
    "start_time": "2022-01-15T15:13:55.729Z"
   },
   {
    "duration": 4,
    "start_time": "2022-01-15T15:13:57.060Z"
   },
   {
    "duration": 14,
    "start_time": "2022-01-15T15:13:58.216Z"
   },
   {
    "duration": 7,
    "start_time": "2022-01-15T15:13:59.677Z"
   },
   {
    "duration": 54,
    "start_time": "2022-01-15T15:14:01.579Z"
   },
   {
    "duration": 14,
    "start_time": "2022-01-15T15:14:05.679Z"
   },
   {
    "duration": 7,
    "start_time": "2022-01-15T15:14:10.351Z"
   },
   {
    "duration": 30,
    "start_time": "2022-01-15T15:14:11.743Z"
   },
   {
    "duration": 5,
    "start_time": "2022-01-15T15:14:17.586Z"
   },
   {
    "duration": 18,
    "start_time": "2022-01-15T15:14:19.443Z"
   },
   {
    "duration": 18,
    "start_time": "2022-01-15T15:14:22.769Z"
   },
   {
    "duration": 27,
    "start_time": "2022-01-15T15:14:23.703Z"
   },
   {
    "duration": 304,
    "start_time": "2022-01-15T15:14:27.659Z"
   },
   {
    "duration": 261,
    "start_time": "2022-01-15T15:14:55.346Z"
   },
   {
    "duration": 1213,
    "start_time": "2022-01-15T15:14:56.862Z"
   },
   {
    "duration": 253,
    "start_time": "2022-01-15T15:15:53.366Z"
   },
   {
    "duration": 5,
    "start_time": "2022-01-15T15:16:46.503Z"
   },
   {
    "duration": 241,
    "start_time": "2022-01-15T15:16:57.812Z"
   },
   {
    "duration": 254,
    "start_time": "2022-01-15T15:17:12.750Z"
   },
   {
    "duration": 6,
    "start_time": "2022-01-15T15:17:20.703Z"
   },
   {
    "duration": 11,
    "start_time": "2022-01-15T15:18:13.950Z"
   },
   {
    "duration": 6,
    "start_time": "2022-01-15T15:18:20.906Z"
   },
   {
    "duration": 18,
    "start_time": "2022-01-15T15:18:27.577Z"
   },
   {
    "duration": 14,
    "start_time": "2022-01-15T15:18:31.120Z"
   },
   {
    "duration": 30,
    "start_time": "2022-01-15T15:18:32.692Z"
   },
   {
    "duration": 695,
    "start_time": "2022-01-15T15:18:47.133Z"
   },
   {
    "duration": 10,
    "start_time": "2022-01-15T15:18:47.830Z"
   },
   {
    "duration": 4,
    "start_time": "2022-01-15T15:18:47.845Z"
   },
   {
    "duration": 23,
    "start_time": "2022-01-15T15:18:47.851Z"
   },
   {
    "duration": 8,
    "start_time": "2022-01-15T15:18:47.876Z"
   },
   {
    "duration": 41,
    "start_time": "2022-01-15T15:18:47.886Z"
   },
   {
    "duration": 34,
    "start_time": "2022-01-15T15:18:47.930Z"
   },
   {
    "duration": 7,
    "start_time": "2022-01-15T15:18:47.966Z"
   },
   {
    "duration": 16,
    "start_time": "2022-01-15T15:18:47.974Z"
   },
   {
    "duration": 5,
    "start_time": "2022-01-15T15:18:47.991Z"
   },
   {
    "duration": 18,
    "start_time": "2022-01-15T15:18:47.998Z"
   },
   {
    "duration": 51,
    "start_time": "2022-01-15T15:18:48.017Z"
   },
   {
    "duration": 33,
    "start_time": "2022-01-15T15:18:48.069Z"
   },
   {
    "duration": 7,
    "start_time": "2022-01-15T15:18:48.105Z"
   },
   {
    "duration": 5021,
    "start_time": "2022-01-15T15:18:48.114Z"
   },
   {
    "duration": 23,
    "start_time": "2022-01-15T15:18:53.137Z"
   },
   {
    "duration": 281,
    "start_time": "2022-01-15T15:18:53.162Z"
   },
   {
    "duration": 18,
    "start_time": "2022-01-15T15:18:53.445Z"
   },
   {
    "duration": 11,
    "start_time": "2022-01-15T15:18:53.464Z"
   },
   {
    "duration": 15,
    "start_time": "2022-01-15T15:18:53.477Z"
   },
   {
    "duration": 606,
    "start_time": "2022-01-15T15:18:53.494Z"
   },
   {
    "duration": 257,
    "start_time": "2022-01-15T15:18:54.103Z"
   },
   {
    "duration": 34,
    "start_time": "2022-01-15T15:18:54.363Z"
   },
   {
    "duration": 26,
    "start_time": "2022-01-15T15:18:54.400Z"
   },
   {
    "duration": 49,
    "start_time": "2022-01-15T15:18:54.428Z"
   },
   {
    "duration": 25,
    "start_time": "2022-01-15T15:18:54.479Z"
   },
   {
    "duration": 12,
    "start_time": "2022-01-15T15:19:54.898Z"
   },
   {
    "duration": 841,
    "start_time": "2022-01-15T15:20:10.181Z"
   },
   {
    "duration": 9,
    "start_time": "2022-01-15T15:20:11.024Z"
   },
   {
    "duration": 22,
    "start_time": "2022-01-15T15:20:11.035Z"
   },
   {
    "duration": 34,
    "start_time": "2022-01-15T15:20:11.059Z"
   },
   {
    "duration": 23,
    "start_time": "2022-01-15T15:20:11.095Z"
   },
   {
    "duration": 67,
    "start_time": "2022-01-15T15:20:11.120Z"
   },
   {
    "duration": 15,
    "start_time": "2022-01-15T15:20:11.189Z"
   },
   {
    "duration": 8,
    "start_time": "2022-01-15T15:20:11.206Z"
   },
   {
    "duration": 43,
    "start_time": "2022-01-15T15:20:11.217Z"
   },
   {
    "duration": 5,
    "start_time": "2022-01-15T15:20:11.262Z"
   },
   {
    "duration": 18,
    "start_time": "2022-01-15T15:20:11.268Z"
   },
   {
    "duration": 21,
    "start_time": "2022-01-15T15:20:11.288Z"
   },
   {
    "duration": 51,
    "start_time": "2022-01-15T15:20:11.311Z"
   },
   {
    "duration": 5,
    "start_time": "2022-01-15T15:20:11.364Z"
   },
   {
    "duration": 4123,
    "start_time": "2022-01-15T15:20:11.371Z"
   },
   {
    "duration": 7,
    "start_time": "2022-01-15T15:20:15.497Z"
   },
   {
    "duration": 296,
    "start_time": "2022-01-15T15:20:15.506Z"
   },
   {
    "duration": 11,
    "start_time": "2022-01-15T15:20:15.805Z"
   },
   {
    "duration": 9,
    "start_time": "2022-01-15T15:20:15.818Z"
   },
   {
    "duration": 38,
    "start_time": "2022-01-15T15:20:15.829Z"
   },
   {
    "duration": 524,
    "start_time": "2022-01-15T15:20:15.869Z"
   },
   {
    "duration": 253,
    "start_time": "2022-01-15T15:20:16.395Z"
   },
   {
    "duration": 32,
    "start_time": "2022-01-15T15:20:16.660Z"
   },
   {
    "duration": 23,
    "start_time": "2022-01-15T15:20:16.694Z"
   },
   {
    "duration": 46,
    "start_time": "2022-01-15T15:20:16.719Z"
   },
   {
    "duration": 25,
    "start_time": "2022-01-15T15:20:16.767Z"
   },
   {
    "duration": 301,
    "start_time": "2022-01-15T15:22:18.316Z"
   },
   {
    "duration": 11,
    "start_time": "2022-01-15T15:22:25.893Z"
   },
   {
    "duration": 273,
    "start_time": "2022-01-15T15:22:38.724Z"
   },
   {
    "duration": 241,
    "start_time": "2022-01-15T15:22:39.152Z"
   },
   {
    "duration": 241,
    "start_time": "2022-01-15T15:22:39.475Z"
   },
   {
    "duration": 652,
    "start_time": "2022-01-15T15:22:49.581Z"
   },
   {
    "duration": 11,
    "start_time": "2022-01-15T15:22:52.036Z"
   },
   {
    "duration": 4,
    "start_time": "2022-01-15T15:22:53.009Z"
   },
   {
    "duration": 14,
    "start_time": "2022-01-15T15:22:53.513Z"
   },
   {
    "duration": 8,
    "start_time": "2022-01-15T15:22:54.111Z"
   },
   {
    "duration": 39,
    "start_time": "2022-01-15T15:22:54.962Z"
   },
   {
    "duration": 13,
    "start_time": "2022-01-15T15:22:56.505Z"
   },
   {
    "duration": 7,
    "start_time": "2022-01-15T15:22:57.110Z"
   },
   {
    "duration": 10,
    "start_time": "2022-01-15T15:22:57.702Z"
   },
   {
    "duration": 5,
    "start_time": "2022-01-15T15:23:00.104Z"
   },
   {
    "duration": 17,
    "start_time": "2022-01-15T15:23:01.692Z"
   },
   {
    "duration": 18,
    "start_time": "2022-01-15T15:23:03.244Z"
   },
   {
    "duration": 33,
    "start_time": "2022-01-15T15:23:03.972Z"
   },
   {
    "duration": 6,
    "start_time": "2022-01-15T15:23:06.662Z"
   },
   {
    "duration": 4065,
    "start_time": "2022-01-15T15:23:06.973Z"
   },
   {
    "duration": 6,
    "start_time": "2022-01-15T15:23:11.040Z"
   },
   {
    "duration": 269,
    "start_time": "2022-01-15T15:23:12.114Z"
   },
   {
    "duration": 10,
    "start_time": "2022-01-15T15:23:13.223Z"
   },
   {
    "duration": 10,
    "start_time": "2022-01-15T15:23:14.017Z"
   },
   {
    "duration": 8,
    "start_time": "2022-01-15T15:23:14.472Z"
   },
   {
    "duration": 513,
    "start_time": "2022-01-15T15:23:16.282Z"
   },
   {
    "duration": 238,
    "start_time": "2022-01-15T15:23:18.326Z"
   },
   {
    "duration": 32,
    "start_time": "2022-01-15T15:23:19.256Z"
   },
   {
    "duration": 17,
    "start_time": "2022-01-15T15:24:01.401Z"
   },
   {
    "duration": 933,
    "start_time": "2022-01-15T15:24:11.217Z"
   },
   {
    "duration": 11,
    "start_time": "2022-01-15T15:24:12.579Z"
   },
   {
    "duration": 5,
    "start_time": "2022-01-15T15:24:13.270Z"
   },
   {
    "duration": 15,
    "start_time": "2022-01-15T15:24:14.136Z"
   },
   {
    "duration": 9,
    "start_time": "2022-01-15T15:24:14.995Z"
   },
   {
    "duration": 40,
    "start_time": "2022-01-15T15:24:16.428Z"
   },
   {
    "duration": 14,
    "start_time": "2022-01-15T15:24:18.845Z"
   },
   {
    "duration": 7,
    "start_time": "2022-01-15T15:24:19.953Z"
   },
   {
    "duration": 13,
    "start_time": "2022-01-15T15:24:21.667Z"
   },
   {
    "duration": 6,
    "start_time": "2022-01-15T15:24:41.545Z"
   },
   {
    "duration": 16,
    "start_time": "2022-01-15T15:24:52.134Z"
   },
   {
    "duration": 20,
    "start_time": "2022-01-15T15:24:53.733Z"
   },
   {
    "duration": 32,
    "start_time": "2022-01-15T15:24:56.061Z"
   },
   {
    "duration": 6,
    "start_time": "2022-01-15T15:25:02.023Z"
   },
   {
    "duration": 4470,
    "start_time": "2022-01-15T15:25:02.490Z"
   },
   {
    "duration": 7,
    "start_time": "2022-01-15T15:25:06.963Z"
   },
   {
    "duration": 292,
    "start_time": "2022-01-15T15:25:09.854Z"
   },
   {
    "duration": 11,
    "start_time": "2022-01-15T15:25:13.421Z"
   },
   {
    "duration": 9,
    "start_time": "2022-01-15T15:25:19.036Z"
   },
   {
    "duration": 9,
    "start_time": "2022-01-15T15:25:19.422Z"
   },
   {
    "duration": 509,
    "start_time": "2022-01-15T15:25:22.229Z"
   },
   {
    "duration": 233,
    "start_time": "2022-01-15T15:25:26.690Z"
   },
   {
    "duration": 33,
    "start_time": "2022-01-15T15:25:27.346Z"
   },
   {
    "duration": 25,
    "start_time": "2022-01-15T15:27:30.161Z"
   },
   {
    "duration": 25,
    "start_time": "2022-01-15T15:27:32.876Z"
   },
   {
    "duration": 24,
    "start_time": "2022-01-15T15:27:37.188Z"
   },
   {
    "duration": 6,
    "start_time": "2022-01-15T15:29:02.682Z"
   },
   {
    "duration": 10,
    "start_time": "2022-01-15T15:29:22.888Z"
   },
   {
    "duration": 7,
    "start_time": "2022-01-15T15:29:30.737Z"
   },
   {
    "duration": 6,
    "start_time": "2022-01-15T15:29:47.649Z"
   },
   {
    "duration": 8,
    "start_time": "2022-01-15T15:30:01.563Z"
   },
   {
    "duration": 28,
    "start_time": "2022-01-15T15:32:08.945Z"
   },
   {
    "duration": 31,
    "start_time": "2022-01-15T15:32:46.737Z"
   },
   {
    "duration": 13,
    "start_time": "2022-01-15T15:34:06.552Z"
   },
   {
    "duration": 1084,
    "start_time": "2022-01-15T15:35:22.933Z"
   },
   {
    "duration": 728,
    "start_time": "2022-01-15T15:35:38.953Z"
   },
   {
    "duration": 10,
    "start_time": "2022-01-15T15:35:41.544Z"
   },
   {
    "duration": 4,
    "start_time": "2022-01-15T15:35:42.442Z"
   },
   {
    "duration": 13,
    "start_time": "2022-01-15T15:35:43.260Z"
   },
   {
    "duration": 8,
    "start_time": "2022-01-15T15:35:44.393Z"
   },
   {
    "duration": 40,
    "start_time": "2022-01-15T15:35:45.716Z"
   },
   {
    "duration": 11,
    "start_time": "2022-01-15T15:35:48.100Z"
   },
   {
    "duration": 14,
    "start_time": "2022-01-15T15:35:51.614Z"
   },
   {
    "duration": 14,
    "start_time": "2022-01-15T15:36:05.141Z"
   },
   {
    "duration": 6,
    "start_time": "2022-01-15T15:36:17.491Z"
   },
   {
    "duration": 12,
    "start_time": "2022-01-15T15:36:20.651Z"
   },
   {
    "duration": 5,
    "start_time": "2022-01-15T15:36:29.586Z"
   },
   {
    "duration": 17,
    "start_time": "2022-01-15T15:36:31.568Z"
   },
   {
    "duration": 18,
    "start_time": "2022-01-15T15:36:32.482Z"
   },
   {
    "duration": 31,
    "start_time": "2022-01-15T15:36:32.886Z"
   },
   {
    "duration": 6,
    "start_time": "2022-01-15T15:36:35.396Z"
   },
   {
    "duration": 4472,
    "start_time": "2022-01-15T15:36:36.274Z"
   },
   {
    "duration": 7,
    "start_time": "2022-01-15T15:36:42.325Z"
   },
   {
    "duration": 275,
    "start_time": "2022-01-15T15:36:51.571Z"
   },
   {
    "duration": 13,
    "start_time": "2022-01-15T15:36:54.282Z"
   },
   {
    "duration": 11,
    "start_time": "2022-01-15T15:36:55.668Z"
   },
   {
    "duration": 8,
    "start_time": "2022-01-15T15:36:55.900Z"
   },
   {
    "duration": 639,
    "start_time": "2022-01-15T15:36:56.532Z"
   },
   {
    "duration": 239,
    "start_time": "2022-01-15T15:36:58.910Z"
   },
   {
    "duration": 33,
    "start_time": "2022-01-15T15:37:02.587Z"
   },
   {
    "duration": 25,
    "start_time": "2022-01-15T15:37:05.232Z"
   },
   {
    "duration": 24,
    "start_time": "2022-01-15T15:37:07.552Z"
   },
   {
    "duration": 24,
    "start_time": "2022-01-15T15:37:09.249Z"
   }
  ],
  "kernelspec": {
   "display_name": "Python 3 (ipykernel)",
   "language": "python",
   "name": "python3"
  },
  "language_info": {
   "codemirror_mode": {
    "name": "ipython",
    "version": 3
   },
   "file_extension": ".py",
   "mimetype": "text/x-python",
   "name": "python",
   "nbconvert_exporter": "python",
   "pygments_lexer": "ipython3",
   "version": "3.9.7"
  },
  "toc": {
   "base_numbering": 1,
   "nav_menu": {},
   "number_sections": true,
   "sideBar": true,
   "skip_h1_title": true,
   "title_cell": "Table of Contents",
   "title_sidebar": "Contents",
   "toc_cell": false,
   "toc_position": {},
   "toc_section_display": true,
   "toc_window_display": false
  }
 },
 "nbformat": 4,
 "nbformat_minor": 2
}
