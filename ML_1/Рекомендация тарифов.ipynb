{
 "cells": [
  {
   "cell_type": "markdown",
   "metadata": {},
   "source": [
    "# Рекомендация тарифов"
   ]
  },
  {
   "cell_type": "markdown",
   "metadata": {},
   "source": [
    "Оператор мобильной связи «Мегалайн» выяснил: многие клиенты пользуются архивными тарифами. Они хотят построить систему, способную проанализировать поведение клиентов и предложить пользователям новый тариф: «Смарт» или «Ультра».\n",
    "\n",
    "В нашем распоряжении данные о поведении клиентов, которые уже перешли на эти тарифы. Нужно построить модель для задачи классификации, которая выберет подходящий тариф. Предобработка данных не понадобится.\n",
    "\n",
    "**Задача**\n",
    "\n",
    "Построить модель с максимально большим значением *accuracy*, довести долю правильных ответов до 0.75. Проверить *accuracy* на тестовой выборке."
   ]
  },
  {
   "cell_type": "markdown",
   "metadata": {},
   "source": [
    "## Обзор данных"
   ]
  },
  {
   "cell_type": "code",
   "execution_count": 1,
   "metadata": {
    "scrolled": false
   },
   "outputs": [],
   "source": [
    "import pandas as pd\n",
    "from sklearn.tree import DecisionTreeClassifier\n",
    "from sklearn.ensemble import RandomForestClassifier\n",
    "from sklearn.linear_model import LogisticRegression\n",
    "from sklearn.model_selection import train_test_split\n",
    "from sklearn.metrics import accuracy_score\n",
    "from sklearn.dummy import DummyClassifier"
   ]
  },
  {
   "cell_type": "code",
   "execution_count": 3,
   "metadata": {},
   "outputs": [
    {
     "name": "stdout",
     "output_type": "stream",
     "text": [
      "<class 'pandas.core.frame.DataFrame'>\n",
      "RangeIndex: 3214 entries, 0 to 3213\n",
      "Data columns (total 5 columns):\n",
      " #   Column    Non-Null Count  Dtype  \n",
      "---  ------    --------------  -----  \n",
      " 0   calls     3214 non-null   float64\n",
      " 1   minutes   3214 non-null   float64\n",
      " 2   messages  3214 non-null   float64\n",
      " 3   mb_used   3214 non-null   float64\n",
      " 4   is_ultra  3214 non-null   int64  \n",
      "dtypes: float64(4), int64(1)\n",
      "memory usage: 125.7 KB\n"
     ]
    },
    {
     "data": {
      "text/html": [
       "<div>\n",
       "<style scoped>\n",
       "    .dataframe tbody tr th:only-of-type {\n",
       "        vertical-align: middle;\n",
       "    }\n",
       "\n",
       "    .dataframe tbody tr th {\n",
       "        vertical-align: top;\n",
       "    }\n",
       "\n",
       "    .dataframe thead th {\n",
       "        text-align: right;\n",
       "    }\n",
       "</style>\n",
       "<table border=\"1\" class=\"dataframe\">\n",
       "  <thead>\n",
       "    <tr style=\"text-align: right;\">\n",
       "      <th></th>\n",
       "      <th>calls</th>\n",
       "      <th>minutes</th>\n",
       "      <th>messages</th>\n",
       "      <th>mb_used</th>\n",
       "      <th>is_ultra</th>\n",
       "    </tr>\n",
       "  </thead>\n",
       "  <tbody>\n",
       "    <tr>\n",
       "      <th>0</th>\n",
       "      <td>40.0</td>\n",
       "      <td>311.90</td>\n",
       "      <td>83.0</td>\n",
       "      <td>19915.42</td>\n",
       "      <td>0</td>\n",
       "    </tr>\n",
       "    <tr>\n",
       "      <th>1</th>\n",
       "      <td>85.0</td>\n",
       "      <td>516.75</td>\n",
       "      <td>56.0</td>\n",
       "      <td>22696.96</td>\n",
       "      <td>0</td>\n",
       "    </tr>\n",
       "    <tr>\n",
       "      <th>2</th>\n",
       "      <td>77.0</td>\n",
       "      <td>467.66</td>\n",
       "      <td>86.0</td>\n",
       "      <td>21060.45</td>\n",
       "      <td>0</td>\n",
       "    </tr>\n",
       "    <tr>\n",
       "      <th>3</th>\n",
       "      <td>106.0</td>\n",
       "      <td>745.53</td>\n",
       "      <td>81.0</td>\n",
       "      <td>8437.39</td>\n",
       "      <td>1</td>\n",
       "    </tr>\n",
       "    <tr>\n",
       "      <th>4</th>\n",
       "      <td>66.0</td>\n",
       "      <td>418.74</td>\n",
       "      <td>1.0</td>\n",
       "      <td>14502.75</td>\n",
       "      <td>0</td>\n",
       "    </tr>\n",
       "    <tr>\n",
       "      <th>...</th>\n",
       "      <td>...</td>\n",
       "      <td>...</td>\n",
       "      <td>...</td>\n",
       "      <td>...</td>\n",
       "      <td>...</td>\n",
       "    </tr>\n",
       "    <tr>\n",
       "      <th>3209</th>\n",
       "      <td>122.0</td>\n",
       "      <td>910.98</td>\n",
       "      <td>20.0</td>\n",
       "      <td>35124.90</td>\n",
       "      <td>1</td>\n",
       "    </tr>\n",
       "    <tr>\n",
       "      <th>3210</th>\n",
       "      <td>25.0</td>\n",
       "      <td>190.36</td>\n",
       "      <td>0.0</td>\n",
       "      <td>3275.61</td>\n",
       "      <td>0</td>\n",
       "    </tr>\n",
       "    <tr>\n",
       "      <th>3211</th>\n",
       "      <td>97.0</td>\n",
       "      <td>634.44</td>\n",
       "      <td>70.0</td>\n",
       "      <td>13974.06</td>\n",
       "      <td>0</td>\n",
       "    </tr>\n",
       "    <tr>\n",
       "      <th>3212</th>\n",
       "      <td>64.0</td>\n",
       "      <td>462.32</td>\n",
       "      <td>90.0</td>\n",
       "      <td>31239.78</td>\n",
       "      <td>0</td>\n",
       "    </tr>\n",
       "    <tr>\n",
       "      <th>3213</th>\n",
       "      <td>80.0</td>\n",
       "      <td>566.09</td>\n",
       "      <td>6.0</td>\n",
       "      <td>29480.52</td>\n",
       "      <td>1</td>\n",
       "    </tr>\n",
       "  </tbody>\n",
       "</table>\n",
       "<p>3214 rows × 5 columns</p>\n",
       "</div>"
      ],
      "text/plain": [
       "      calls  minutes  messages   mb_used  is_ultra\n",
       "0      40.0   311.90      83.0  19915.42         0\n",
       "1      85.0   516.75      56.0  22696.96         0\n",
       "2      77.0   467.66      86.0  21060.45         0\n",
       "3     106.0   745.53      81.0   8437.39         1\n",
       "4      66.0   418.74       1.0  14502.75         0\n",
       "...     ...      ...       ...       ...       ...\n",
       "3209  122.0   910.98      20.0  35124.90         1\n",
       "3210   25.0   190.36       0.0   3275.61         0\n",
       "3211   97.0   634.44      70.0  13974.06         0\n",
       "3212   64.0   462.32      90.0  31239.78         0\n",
       "3213   80.0   566.09       6.0  29480.52         1\n",
       "\n",
       "[3214 rows x 5 columns]"
      ]
     },
     "execution_count": 3,
     "metadata": {},
     "output_type": "execute_result"
    }
   ],
   "source": [
    "df = pd.read_csv('users_behavior.csv')\n",
    "\n",
    "df.info()\n",
    "df"
   ]
  },
  {
   "cell_type": "markdown",
   "metadata": {},
   "source": [
    "Каждый объект в наборе данных — это информация о поведении одного пользователя за месяц. Известно:\n",
    "\n",
    "* `сalls` — количество звонков,\n",
    "* `minutes` — суммарная длительность звонков в минутах,\n",
    "* `messages` — количество sms-сообщений,\n",
    "* `mb_used` — израсходованный интернет-трафик в Мб,\n",
    "* `is_ultra` — каким тарифом пользовался в течение месяца («Ультра» — 1, «Смарт» — 0).\n",
    "\n",
    "Для обучения модели нам понадобятся все столбцы: Признаки - все столбцы, кроме `is_ultra`, цель - `is_ultra`.\n",
    "Тип данных float, пропуски в данных не найдены."
   ]
  },
  {
   "cell_type": "markdown",
   "metadata": {},
   "source": [
    "## Разделение на выборки"
   ]
  },
  {
   "cell_type": "code",
   "execution_count": 4,
   "metadata": {},
   "outputs": [
    {
     "data": {
      "text/plain": [
       "2571.2000000000003"
      ]
     },
     "metadata": {},
     "output_type": "display_data"
    }
   ],
   "source": [
    "#разделим данные на тестовую и тренировочную выборки, 20% и 80%\n",
    "display (3214 * 0.8)\n",
    "\n",
    "train_df = df.loc[:2573]\n",
    "test_df = df.loc[2573:]\n"
   ]
  },
  {
   "cell_type": "code",
   "execution_count": 5,
   "metadata": {},
   "outputs": [],
   "source": [
    "#выделим в тренировочной выборке валидационную\n",
    "\n",
    "features = train_df.drop('is_ultra', axis=1)\n",
    "target = train_df['is_ultra']\n",
    "\n",
    "\n",
    "features_train, features_valid, target_train, target_valid = train_test_split(\n",
    "    features, target, test_size=0.25, random_state=12345)\n"
   ]
  },
  {
   "cell_type": "code",
   "execution_count": 6,
   "metadata": {},
   "outputs": [],
   "source": [
    "#!pip install fast_ml\n",
    "#from fast_ml.model_development import train_valid_test_split\n",
    "\n",
    "#X_train, y_train, X_valid, y_valid, X_test, y_test = train_valid_test_split(df, target = 'is_ultra', train_size=0.6, valid_size=0.2, test_size=0.2)\n"
   ]
  },
  {
   "cell_type": "markdown",
   "metadata": {},
   "source": [
    "## Исследование модели"
   ]
  },
  {
   "cell_type": "code",
   "execution_count": 7,
   "metadata": {
    "scrolled": true
   },
   "outputs": [
    {
     "data": {
      "text/plain": [
       "'Лучший результат дерева решений:'"
      ]
     },
     "metadata": {},
     "output_type": "display_data"
    },
    {
     "data": {
      "text/plain": [
       "0.782608695652174"
      ]
     },
     "metadata": {},
     "output_type": "display_data"
    },
    {
     "data": {
      "text/plain": [
       "'Лучшая модель дерева решений:'"
      ]
     },
     "metadata": {},
     "output_type": "display_data"
    },
    {
     "data": {
      "text/plain": [
       "DecisionTreeClassifier(max_depth=6, random_state=12345)"
      ]
     },
     "metadata": {},
     "output_type": "display_data"
    }
   ],
   "source": [
    "# обучим дерево решений на тренировочной выборке и исследуем варианты глубины дерева\n",
    "\n",
    "best_decision_tree_model = None\n",
    "best_result = 0\n",
    "\n",
    "for depth in range(1, 11):\n",
    "    \n",
    "    model = DecisionTreeClassifier(random_state=12345, max_depth=depth)\n",
    "    model.fit(features_train, target_train)\n",
    "    predictions_valid = model.predict(features_valid)\n",
    "    result = accuracy_score(target_valid, predictions_valid)\n",
    "    \n",
    "    if result > best_result:\n",
    "        best_decision_tree_model = model\n",
    "        best_result = result\n",
    "\n",
    "display ('Лучший результат дерева решений:', best_result)\n",
    "display ('Лучшая модель дерева решений:', best_decision_tree_model)"
   ]
  },
  {
   "cell_type": "code",
   "execution_count": 8,
   "metadata": {},
   "outputs": [
    {
     "data": {
      "text/plain": [
       "'Лучший результат случайного леса:'"
      ]
     },
     "metadata": {},
     "output_type": "display_data"
    },
    {
     "data": {
      "text/plain": [
       "0.8012422360248447"
      ]
     },
     "metadata": {},
     "output_type": "display_data"
    },
    {
     "data": {
      "text/plain": [
       "'Лучшая модель случайного леса:'"
      ]
     },
     "metadata": {},
     "output_type": "display_data"
    },
    {
     "data": {
      "text/plain": [
       "RandomForestClassifier(max_depth=9, n_estimators=60, random_state=12345)"
      ]
     },
     "metadata": {},
     "output_type": "display_data"
    }
   ],
   "source": [
    "# обучим случайный лес на тренировочной выборке и изучим лучший результат, меняя гиперпараметры\n",
    "\n",
    "best_random_forest_model = None\n",
    "best_result = 0\n",
    "\n",
    "for depth in range(1, 11):\n",
    "    for est in range(10, 91, 10):\n",
    "        for leaf in range(1, 5):    \n",
    "            model = RandomForestClassifier(random_state=12345, max_depth=depth, n_estimators=est, min_samples_leaf=leaf)\n",
    "            model.fit(features_train, target_train)\n",
    "            predictions_valid = model.predict(features_valid)\n",
    "            result = accuracy_score(target_valid, predictions_valid)\n",
    "            \n",
    "            if result > best_result:\n",
    "                best_random_forest_model = model\n",
    "                best_result = result\n",
    "\n",
    "display ('Лучший результат случайного леса:', best_result)\n",
    "display ('Лучшая модель случайного леса:', best_random_forest_model)"
   ]
  },
  {
   "cell_type": "code",
   "execution_count": 7,
   "metadata": {},
   "outputs": [
    {
     "data": {
      "text/plain": [
       "'Результат логистической регрессии:'"
      ]
     },
     "metadata": {},
     "output_type": "display_data"
    },
    {
     "data": {
      "text/plain": [
       "0.6739130434782609"
      ]
     },
     "metadata": {},
     "output_type": "display_data"
    }
   ],
   "source": [
    "# обучим логистическую регрессию на тренировочной выборке\n",
    "\n",
    "model = LogisticRegression(random_state=12345, solver='lbfgs', max_iter=1000)\n",
    "model.fit(features_train, target_train)\n",
    "\n",
    "predictions_valid = model.predict(features_valid)\n",
    "result = accuracy_score(target_valid, predictions_valid)\n",
    "display ('Результат логистической регрессии:', result)"
   ]
  },
  {
   "cell_type": "markdown",
   "metadata": {},
   "source": [
    "**Вывод**\n",
    "\n",
    "Модель с наилучшим результатом - модель случайного леса с глубиной равной 9 и количеством деревьев равным 60. Проверим модель на тестовой выборке."
   ]
  },
  {
   "cell_type": "markdown",
   "metadata": {},
   "source": [
    "## Тестирование модели"
   ]
  },
  {
   "cell_type": "code",
   "execution_count": 9,
   "metadata": {},
   "outputs": [
    {
     "name": "stdout",
     "output_type": "stream",
     "text": [
      "Точность прогнозирования тестовой выборки: 0.8268330733229329\n"
     ]
    }
   ],
   "source": [
    "features_test = test_df.drop('is_ultra', axis=1)\n",
    "target_test = test_df['is_ultra']\n",
    "\n",
    "best_random_forest_model.fit(features_train, target_train)\n",
    "predictions_test = best_random_forest_model.predict(features_test)\n",
    "result = accuracy_score(target_test, predictions_test)\n",
    "\n",
    "print ('Точность прогнозирования тестовой выборки:', result)"
   ]
  },
  {
   "cell_type": "markdown",
   "metadata": {},
   "source": [
    "## Проверка на адекватность"
   ]
  },
  {
   "cell_type": "code",
   "execution_count": 10,
   "metadata": {},
   "outputs": [
    {
     "name": "stdout",
     "output_type": "stream",
     "text": [
      "Точность случайных предсказаний:  0.5179407176287052\n",
      "Точность предсказаний модели:  0.8268330733229329\n"
     ]
    }
   ],
   "source": [
    "# сравним точность полученной модели с точностью рандомного предсказания \n",
    "import random\n",
    "\n",
    "random_predictions = []\n",
    "for num in range(1, 642):\n",
    "    num = random.randint(0, 1)\n",
    "    random_predictions.append(num)\n",
    "    \n",
    "result_random = accuracy_score(target_test, random_predictions)\n",
    "\n",
    "print ('Точность случайных предсказаний: ', result_random)\n",
    "print ('Точность предсказаний модели: ', result)"
   ]
  },
  {
   "cell_type": "code",
   "execution_count": 11,
   "metadata": {},
   "outputs": [
    {
     "name": "stdout",
     "output_type": "stream",
     "text": [
      "Точность модели dummy:  0.6973478939157566\n",
      "Точность нашей модели:  0.8268330733229329\n"
     ]
    }
   ],
   "source": [
    "# сравним точность полученной модели с точностью модели, которая предсказывает наиболее часто встречающийся класс\n",
    "\n",
    "dummy_model =  DummyClassifier(strategy=\"most_frequent\")\n",
    "dummy_model.fit(features_train, target_train)\n",
    "dummy_predictions = dummy_model.predict(features_test)\n",
    "\n",
    "dummy_result = accuracy_score(target_test, dummy_predictions)\n",
    "print ('Точность модели dummy: ', dummy_result)\n",
    "print ('Точность нашей модели: ', result)"
   ]
  },
  {
   "cell_type": "markdown",
   "metadata": {},
   "source": [
    "### Вывод\n",
    "Наиболее удачная обученная модель - модель случайного леса с глубиной равной 9 и количеством деревьев равным 60. Данная модель прошла тестирование на рандомной выборке и также показала результат выше, чем модель, которая предсказывает наиболее часто встречающийся класс. Данная модель дает точность выше 0.8 и поможет предсказать наиболее подходящий для клиента тариф."
   ]
  }
 ],
 "metadata": {
  "ExecuteTimeLog": [
   {
    "duration": 1275,
    "start_time": "2022-06-17T10:56:01.804Z"
   },
   {
    "duration": 1175,
    "start_time": "2022-06-19T13:23:39.804Z"
   },
   {
    "duration": 5,
    "start_time": "2022-06-19T13:24:07.368Z"
   },
   {
    "duration": 9,
    "start_time": "2022-06-19T13:24:18.862Z"
   },
   {
    "duration": 6,
    "start_time": "2022-06-19T13:24:35.800Z"
   },
   {
    "duration": 80,
    "start_time": "2022-06-19T13:24:46.583Z"
   },
   {
    "duration": 43629,
    "start_time": "2022-06-19T13:25:43.223Z"
   },
   {
    "duration": 25,
    "start_time": "2022-06-19T13:26:26.854Z"
   },
   {
    "duration": 1105,
    "start_time": "2022-06-19T13:26:31.390Z"
   },
   {
    "duration": 4,
    "start_time": "2022-06-19T13:26:34.286Z"
   },
   {
    "duration": 6,
    "start_time": "2022-06-19T13:26:35.382Z"
   },
   {
    "duration": 73,
    "start_time": "2022-06-19T13:26:36.267Z"
   },
   {
    "duration": 43097,
    "start_time": "2022-06-19T13:26:41.176Z"
   },
   {
    "duration": 22,
    "start_time": "2022-06-19T13:27:46.658Z"
   },
   {
    "duration": 180,
    "start_time": "2022-06-19T13:28:28.996Z"
   },
   {
    "duration": 6,
    "start_time": "2022-06-19T13:28:31.314Z"
   },
   {
    "duration": 6,
    "start_time": "2022-06-19T13:28:33.057Z"
   },
   {
    "duration": 1069,
    "start_time": "2022-06-21T14:08:37.988Z"
   },
   {
    "duration": 4,
    "start_time": "2022-06-21T14:08:54.387Z"
   },
   {
    "duration": 6,
    "start_time": "2022-06-21T14:08:55.319Z"
   },
   {
    "duration": 3904,
    "start_time": "2022-06-21T14:09:00.640Z"
   },
   {
    "duration": 81,
    "start_time": "2022-06-21T14:09:10.009Z"
   },
   {
    "duration": 41143,
    "start_time": "2022-06-21T14:09:26.707Z"
   },
   {
    "duration": 19,
    "start_time": "2022-06-21T14:10:07.851Z"
   },
   {
    "duration": 191,
    "start_time": "2022-06-21T14:10:07.871Z"
   },
   {
    "duration": 5,
    "start_time": "2022-06-21T14:10:13.489Z"
   },
   {
    "duration": 6,
    "start_time": "2022-06-21T14:10:18.939Z"
   }
  ],
  "kernelspec": {
   "display_name": "Python 3 (ipykernel)",
   "language": "python",
   "name": "python3"
  },
  "language_info": {
   "codemirror_mode": {
    "name": "ipython",
    "version": 3
   },
   "file_extension": ".py",
   "mimetype": "text/x-python",
   "name": "python",
   "nbconvert_exporter": "python",
   "pygments_lexer": "ipython3",
   "version": "3.9.7"
  },
  "toc": {
   "base_numbering": 1,
   "nav_menu": {},
   "number_sections": true,
   "sideBar": true,
   "skip_h1_title": true,
   "title_cell": "Table of Contents",
   "title_sidebar": "Contents",
   "toc_cell": false,
   "toc_position": {},
   "toc_section_display": true,
   "toc_window_display": false
  }
 },
 "nbformat": 4,
 "nbformat_minor": 2
}
