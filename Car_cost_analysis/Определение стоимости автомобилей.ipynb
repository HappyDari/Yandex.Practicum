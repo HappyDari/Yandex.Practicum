{
 "cells": [
  {
   "cell_type": "markdown",
   "metadata": {},
   "source": [
    "# Определение стоимости автомобилей"
   ]
  },
  {
   "cell_type": "markdown",
   "metadata": {},
   "source": [
    "Сервис по продаже автомобилей с пробегом разрабатывает приложение для привлечения новых клиентов. В нём можно быстро узнать рыночную стоимость своего автомобиля. В нашем распоряжении исторические данные: технические характеристики, комплектации и цены автомобилей. \n",
    "\n",
    "**Задача:** Построить модель для определения стоимости автомобиля. \n",
    "\n",
    "Заказчику важны:\n",
    "\n",
    "- качество предсказания;\n",
    "- скорость предсказания;\n",
    "- время обучения."
   ]
  },
  {
   "cell_type": "markdown",
   "metadata": {},
   "source": [
    "## Подготовка данных"
   ]
  },
  {
   "cell_type": "markdown",
   "metadata": {},
   "source": [
    "### Загрузка данных"
   ]
  },
  {
   "cell_type": "code",
   "execution_count": 2,
   "metadata": {},
   "outputs": [
    {
     "name": "stdout",
     "output_type": "stream",
     "text": [
      "Requirement already satisfied: fast_ml in c:\\users\\user\\documents\\anaconda\\lib\\site-packages (3.68)\n",
      "Requirement already satisfied: sweetviz in c:\\users\\user\\documents\\anaconda\\lib\\site-packages (2.1.4)\n",
      "Requirement already satisfied: matplotlib>=3.1.3 in c:\\users\\user\\documents\\anaconda\\lib\\site-packages (from sweetviz) (3.4.3)\n",
      "Requirement already satisfied: tqdm>=4.43.0 in c:\\users\\user\\documents\\anaconda\\lib\\site-packages (from sweetviz) (4.62.3)\n",
      "Requirement already satisfied: importlib-resources>=1.2.0 in c:\\users\\user\\documents\\anaconda\\lib\\site-packages (from sweetviz) (5.9.0)\n",
      "Requirement already satisfied: scipy>=1.3.2 in c:\\users\\user\\documents\\anaconda\\lib\\site-packages (from sweetviz) (1.7.1)\n",
      "Requirement already satisfied: jinja2>=2.11.1 in c:\\users\\user\\documents\\anaconda\\lib\\site-packages (from sweetviz) (2.11.3)\n",
      "Requirement already satisfied: numpy>=1.16.0 in c:\\users\\user\\documents\\anaconda\\lib\\site-packages (from sweetviz) (1.20.3)\n",
      "Requirement already satisfied: pandas!=1.0.0,!=1.0.1,!=1.0.2,>=0.25.3 in c:\\users\\user\\documents\\anaconda\\lib\\site-packages (from sweetviz) (1.3.4)\n",
      "Requirement already satisfied: zipp>=3.1.0 in c:\\users\\user\\documents\\anaconda\\lib\\site-packages (from importlib-resources>=1.2.0->sweetviz) (3.6.0)\n",
      "Requirement already satisfied: MarkupSafe>=0.23 in c:\\users\\user\\documents\\anaconda\\lib\\site-packages (from jinja2>=2.11.1->sweetviz) (1.1.1)\n",
      "Requirement already satisfied: kiwisolver>=1.0.1 in c:\\users\\user\\documents\\anaconda\\lib\\site-packages (from matplotlib>=3.1.3->sweetviz) (1.3.1)\n",
      "Requirement already satisfied: pyparsing>=2.2.1 in c:\\users\\user\\documents\\anaconda\\lib\\site-packages (from matplotlib>=3.1.3->sweetviz) (3.0.4)\n",
      "Requirement already satisfied: python-dateutil>=2.7 in c:\\users\\user\\documents\\anaconda\\lib\\site-packages (from matplotlib>=3.1.3->sweetviz) (2.8.2)\n",
      "Requirement already satisfied: cycler>=0.10 in c:\\users\\user\\documents\\anaconda\\lib\\site-packages (from matplotlib>=3.1.3->sweetviz) (0.10.0)\n",
      "Requirement already satisfied: pillow>=6.2.0 in c:\\users\\user\\documents\\anaconda\\lib\\site-packages (from matplotlib>=3.1.3->sweetviz) (8.4.0)\n",
      "Requirement already satisfied: six in c:\\users\\user\\documents\\anaconda\\lib\\site-packages (from cycler>=0.10->matplotlib>=3.1.3->sweetviz) (1.16.0)\n",
      "Requirement already satisfied: pytz>=2017.3 in c:\\users\\user\\documents\\anaconda\\lib\\site-packages (from pandas!=1.0.0,!=1.0.1,!=1.0.2,>=0.25.3->sweetviz) (2021.3)\n",
      "Requirement already satisfied: colorama in c:\\users\\user\\documents\\anaconda\\lib\\site-packages (from tqdm>=4.43.0->sweetviz) (0.4.4)\n"
     ]
    }
   ],
   "source": [
    "import pandas as pd\n",
    "import matplotlib.pyplot as plt\n",
    "import numpy as np\n",
    "from sklearn.preprocessing import OrdinalEncoder\n",
    "!pip install fast_ml\n",
    "from fast_ml.model_development import train_valid_test_split\n",
    "from sklearn.preprocessing import StandardScaler \n",
    "from sklearn.ensemble import RandomForestRegressor\n",
    "from sklearn.dummy import DummyRegressor\n",
    "from sklearn.metrics import mean_squared_error, make_scorer\n",
    "import lightgbm\n",
    "from lightgbm import LGBMRegressor\n",
    "from sklearn.model_selection import cross_val_score\n",
    "!pip install sweetviz\n",
    "import sweetviz as sv"
   ]
  },
  {
   "cell_type": "code",
   "execution_count": 3,
   "metadata": {
    "scrolled": true
   },
   "outputs": [],
   "source": [
    "df = pd.read_csv('autos.csv')"
   ]
  },
  {
   "cell_type": "code",
   "execution_count": 4,
   "metadata": {
    "scrolled": false
   },
   "outputs": [
    {
     "data": {
      "text/html": [
       "<div>\n",
       "<style scoped>\n",
       "    .dataframe tbody tr th:only-of-type {\n",
       "        vertical-align: middle;\n",
       "    }\n",
       "\n",
       "    .dataframe tbody tr th {\n",
       "        vertical-align: top;\n",
       "    }\n",
       "\n",
       "    .dataframe thead th {\n",
       "        text-align: right;\n",
       "    }\n",
       "</style>\n",
       "<table border=\"1\" class=\"dataframe\">\n",
       "  <thead>\n",
       "    <tr style=\"text-align: right;\">\n",
       "      <th></th>\n",
       "      <th>DateCrawled</th>\n",
       "      <th>Price</th>\n",
       "      <th>VehicleType</th>\n",
       "      <th>RegistrationYear</th>\n",
       "      <th>Gearbox</th>\n",
       "      <th>Power</th>\n",
       "      <th>Model</th>\n",
       "      <th>Kilometer</th>\n",
       "      <th>RegistrationMonth</th>\n",
       "      <th>FuelType</th>\n",
       "      <th>Brand</th>\n",
       "      <th>NotRepaired</th>\n",
       "      <th>DateCreated</th>\n",
       "      <th>NumberOfPictures</th>\n",
       "      <th>PostalCode</th>\n",
       "      <th>LastSeen</th>\n",
       "    </tr>\n",
       "  </thead>\n",
       "  <tbody>\n",
       "    <tr>\n",
       "      <th>0</th>\n",
       "      <td>2016-03-24 11:52:17</td>\n",
       "      <td>480</td>\n",
       "      <td>NaN</td>\n",
       "      <td>1993</td>\n",
       "      <td>manual</td>\n",
       "      <td>0</td>\n",
       "      <td>golf</td>\n",
       "      <td>150000</td>\n",
       "      <td>0</td>\n",
       "      <td>petrol</td>\n",
       "      <td>volkswagen</td>\n",
       "      <td>NaN</td>\n",
       "      <td>2016-03-24 00:00:00</td>\n",
       "      <td>0</td>\n",
       "      <td>70435</td>\n",
       "      <td>2016-04-07 03:16:57</td>\n",
       "    </tr>\n",
       "    <tr>\n",
       "      <th>1</th>\n",
       "      <td>2016-03-24 10:58:45</td>\n",
       "      <td>18300</td>\n",
       "      <td>coupe</td>\n",
       "      <td>2011</td>\n",
       "      <td>manual</td>\n",
       "      <td>190</td>\n",
       "      <td>NaN</td>\n",
       "      <td>125000</td>\n",
       "      <td>5</td>\n",
       "      <td>gasoline</td>\n",
       "      <td>audi</td>\n",
       "      <td>yes</td>\n",
       "      <td>2016-03-24 00:00:00</td>\n",
       "      <td>0</td>\n",
       "      <td>66954</td>\n",
       "      <td>2016-04-07 01:46:50</td>\n",
       "    </tr>\n",
       "    <tr>\n",
       "      <th>2</th>\n",
       "      <td>2016-03-14 12:52:21</td>\n",
       "      <td>9800</td>\n",
       "      <td>suv</td>\n",
       "      <td>2004</td>\n",
       "      <td>auto</td>\n",
       "      <td>163</td>\n",
       "      <td>grand</td>\n",
       "      <td>125000</td>\n",
       "      <td>8</td>\n",
       "      <td>gasoline</td>\n",
       "      <td>jeep</td>\n",
       "      <td>NaN</td>\n",
       "      <td>2016-03-14 00:00:00</td>\n",
       "      <td>0</td>\n",
       "      <td>90480</td>\n",
       "      <td>2016-04-05 12:47:46</td>\n",
       "    </tr>\n",
       "    <tr>\n",
       "      <th>3</th>\n",
       "      <td>2016-03-17 16:54:04</td>\n",
       "      <td>1500</td>\n",
       "      <td>small</td>\n",
       "      <td>2001</td>\n",
       "      <td>manual</td>\n",
       "      <td>75</td>\n",
       "      <td>golf</td>\n",
       "      <td>150000</td>\n",
       "      <td>6</td>\n",
       "      <td>petrol</td>\n",
       "      <td>volkswagen</td>\n",
       "      <td>no</td>\n",
       "      <td>2016-03-17 00:00:00</td>\n",
       "      <td>0</td>\n",
       "      <td>91074</td>\n",
       "      <td>2016-03-17 17:40:17</td>\n",
       "    </tr>\n",
       "    <tr>\n",
       "      <th>4</th>\n",
       "      <td>2016-03-31 17:25:20</td>\n",
       "      <td>3600</td>\n",
       "      <td>small</td>\n",
       "      <td>2008</td>\n",
       "      <td>manual</td>\n",
       "      <td>69</td>\n",
       "      <td>fabia</td>\n",
       "      <td>90000</td>\n",
       "      <td>7</td>\n",
       "      <td>gasoline</td>\n",
       "      <td>skoda</td>\n",
       "      <td>no</td>\n",
       "      <td>2016-03-31 00:00:00</td>\n",
       "      <td>0</td>\n",
       "      <td>60437</td>\n",
       "      <td>2016-04-06 10:17:21</td>\n",
       "    </tr>\n",
       "  </tbody>\n",
       "</table>\n",
       "</div>"
      ],
      "text/plain": [
       "           DateCrawled  Price VehicleType  RegistrationYear Gearbox  Power  \\\n",
       "0  2016-03-24 11:52:17    480         NaN              1993  manual      0   \n",
       "1  2016-03-24 10:58:45  18300       coupe              2011  manual    190   \n",
       "2  2016-03-14 12:52:21   9800         suv              2004    auto    163   \n",
       "3  2016-03-17 16:54:04   1500       small              2001  manual     75   \n",
       "4  2016-03-31 17:25:20   3600       small              2008  manual     69   \n",
       "\n",
       "   Model  Kilometer  RegistrationMonth  FuelType       Brand NotRepaired  \\\n",
       "0   golf     150000                  0    petrol  volkswagen         NaN   \n",
       "1    NaN     125000                  5  gasoline        audi         yes   \n",
       "2  grand     125000                  8  gasoline        jeep         NaN   \n",
       "3   golf     150000                  6    petrol  volkswagen          no   \n",
       "4  fabia      90000                  7  gasoline       skoda          no   \n",
       "\n",
       "           DateCreated  NumberOfPictures  PostalCode             LastSeen  \n",
       "0  2016-03-24 00:00:00                 0       70435  2016-04-07 03:16:57  \n",
       "1  2016-03-24 00:00:00                 0       66954  2016-04-07 01:46:50  \n",
       "2  2016-03-14 00:00:00                 0       90480  2016-04-05 12:47:46  \n",
       "3  2016-03-17 00:00:00                 0       91074  2016-03-17 17:40:17  \n",
       "4  2016-03-31 00:00:00                 0       60437  2016-04-06 10:17:21  "
      ]
     },
     "metadata": {},
     "output_type": "display_data"
    },
    {
     "name": "stdout",
     "output_type": "stream",
     "text": [
      "<class 'pandas.core.frame.DataFrame'>\n",
      "RangeIndex: 354369 entries, 0 to 354368\n",
      "Data columns (total 16 columns):\n",
      " #   Column             Non-Null Count   Dtype \n",
      "---  ------             --------------   ----- \n",
      " 0   DateCrawled        354369 non-null  object\n",
      " 1   Price              354369 non-null  int64 \n",
      " 2   VehicleType        316879 non-null  object\n",
      " 3   RegistrationYear   354369 non-null  int64 \n",
      " 4   Gearbox            334536 non-null  object\n",
      " 5   Power              354369 non-null  int64 \n",
      " 6   Model              334664 non-null  object\n",
      " 7   Kilometer          354369 non-null  int64 \n",
      " 8   RegistrationMonth  354369 non-null  int64 \n",
      " 9   FuelType           321474 non-null  object\n",
      " 10  Brand              354369 non-null  object\n",
      " 11  NotRepaired        283215 non-null  object\n",
      " 12  DateCreated        354369 non-null  object\n",
      " 13  NumberOfPictures   354369 non-null  int64 \n",
      " 14  PostalCode         354369 non-null  int64 \n",
      " 15  LastSeen           354369 non-null  object\n",
      "dtypes: int64(7), object(9)\n",
      "memory usage: 43.3+ MB\n"
     ]
    }
   ],
   "source": [
    "display (df.head(5))\n",
    "df.info()"
   ]
  },
  {
   "cell_type": "markdown",
   "metadata": {},
   "source": [
    "Из документации к данным нам известно:\n",
    "\n",
    "**Признаки**\n",
    "\n",
    "* DateCrawled — дата скачивания анкеты из базы\n",
    "* VehicleType — тип автомобильного кузова\n",
    "* RegistrationYear — год регистрации автомобиля\n",
    "* Gearbox — тип коробки передач\n",
    "* Power — мощность (л. с.)\n",
    "* Model — модель автомобиля \n",
    "* Kilometer — пробег (км)\n",
    "* RegistrationMonth — месяц регистрации автомобиля\n",
    "* FuelType — тип топлива\n",
    "* Brand — марка автомобиля\n",
    "* NotRepaired — была машина в ремонте или нет\n",
    "* DateCreated — дата создания анкеты\n",
    "* NumberOfPictures — количество фотографий автомобиля\n",
    "* PostalCode — почтовый индекс владельца анкеты (пользователя)\n",
    "* LastSeen — дата последней активности пользователя\n",
    "\n",
    "**Целевой признак**\n",
    "* Price — цена (евро)"
   ]
  },
  {
   "cell_type": "markdown",
   "metadata": {},
   "source": [
    "### Предобработка данных"
   ]
  },
  {
   "cell_type": "markdown",
   "metadata": {},
   "source": [
    "Удалим неинформативные признаки `DateCrawled`, `DateCreated`, `NumberOfPictures`, `PostalCode`, `LastSeen` - не пригодятся для обучения модели."
   ]
  },
  {
   "cell_type": "code",
   "execution_count": 5,
   "metadata": {},
   "outputs": [],
   "source": [
    "df = df.drop(['DateCrawled', 'DateCreated', 'NumberOfPictures', 'PostalCode'], axis=1)"
   ]
  },
  {
   "cell_type": "markdown",
   "metadata": {},
   "source": [
    "**Заполним пропуски**"
   ]
  },
  {
   "cell_type": "code",
   "execution_count": 6,
   "metadata": {},
   "outputs": [
    {
     "data": {
      "text/plain": [
       "Price                    0\n",
       "VehicleType          37490\n",
       "RegistrationYear         0\n",
       "Gearbox              19833\n",
       "Power                    0\n",
       "Model                19705\n",
       "Kilometer                0\n",
       "RegistrationMonth        0\n",
       "FuelType             32895\n",
       "Brand                    0\n",
       "NotRepaired          71154\n",
       "LastSeen                 0\n",
       "dtype: int64"
      ]
     },
     "execution_count": 6,
     "metadata": {},
     "output_type": "execute_result"
    }
   ],
   "source": [
    "df.isna().sum()"
   ]
  },
  {
   "cell_type": "code",
   "execution_count": 7,
   "metadata": {},
   "outputs": [],
   "source": [
    "# заполним пропуски в столбце модели машины на наименование бренда авто\n",
    "df.loc[df['Model'].isna() == True, 'Model'] = df['Brand']"
   ]
  },
  {
   "cell_type": "code",
   "execution_count": 8,
   "metadata": {},
   "outputs": [],
   "source": [
    "# удалим строки, где есть пропуски в столбцах VehicleType, Gearbox, FuelType, так как они менее информативны\n",
    "df = df.drop(np.where((df['VehicleType'].isna() == True) & (df['Gearbox'].isna() == True) \n",
    "                      & (df['FuelType'].isna() == True))[0])"
   ]
  },
  {
   "cell_type": "code",
   "execution_count": 9,
   "metadata": {},
   "outputs": [
    {
     "data": {
      "text/plain": [
       "petrol      216352\n",
       "gasoline     98720\n",
       "lpg           5310\n",
       "cng            565\n",
       "hybrid         233\n",
       "other          204\n",
       "electric        90\n",
       "Name: FuelType, dtype: int64"
      ]
     },
     "metadata": {},
     "output_type": "display_data"
    },
    {
     "data": {
      "text/plain": [
       "sedan          91457\n",
       "small          79831\n",
       "wagon          65166\n",
       "bus            28775\n",
       "convertible    20203\n",
       "coupe          16163\n",
       "suv            11996\n",
       "other           3288\n",
       "Name: VehicleType, dtype: int64"
      ]
     },
     "metadata": {},
     "output_type": "display_data"
    },
    {
     "data": {
      "text/plain": [
       "manual    268251\n",
       "auto       66285\n",
       "Name: Gearbox, dtype: int64"
      ]
     },
     "metadata": {},
     "output_type": "display_data"
    }
   ],
   "source": [
    "display (df['FuelType'].value_counts())\n",
    "display (df['VehicleType'].value_counts())\n",
    "display (df['Gearbox'].value_counts())"
   ]
  },
  {
   "cell_type": "code",
   "execution_count": 10,
   "metadata": {},
   "outputs": [],
   "source": [
    "# пропуски в типе кузова вынесем в категорию \"другое\"\n",
    "df['VehicleType'].fillna('other', inplace=True)\n",
    "\n",
    "# пропуски в типе топлива заменим самым частым значением\n",
    "df['FuelType'].fillna('petrol', inplace=True)\n",
    "\n",
    "# пропуски в типе КП удалим\n",
    "df.dropna(subset = ['Gearbox'], axis=0, inplace=True)\n"
   ]
  },
  {
   "cell_type": "code",
   "execution_count": 11,
   "metadata": {
    "scrolled": true
   },
   "outputs": [
    {
     "data": {
      "text/plain": [
       "<AxesSubplot:>"
      ]
     },
     "execution_count": 11,
     "metadata": {},
     "output_type": "execute_result"
    },
    {
     "data": {
      "image/png": "[encoded data removed]",
      "text/plain": [
       "<Figure size 432x288 with 1 Axes>"
      ]
     },
     "metadata": {
      "needs_background": "light"
     },
     "output_type": "display_data"
    }
   ],
   "source": [
    "NotRepaired = df.loc[df['NotRepaired'] == 'no', 'Price']\n",
    "Repaired = df.loc[df['NotRepaired'] == 'yes', 'Price']\n",
    "\n",
    "NotRepaired.hist(bins=30, alpha=0.5, color='b')\n",
    "Repaired.hist(bins=30, alpha=0.5, color='r')"
   ]
  },
  {
   "cell_type": "markdown",
   "metadata": {},
   "source": [
    "На графике можно проследить, что если цена авто больше 5000 евро, то скорее всего машина не была в ремонте."
   ]
  },
  {
   "cell_type": "code",
   "execution_count": 12,
   "metadata": {},
   "outputs": [],
   "source": [
    "df.loc[(df['NotRepaired'].isna() == True) & (df['Price'] > 5000), 'NotRepaired'] = 'no'"
   ]
  },
  {
   "cell_type": "code",
   "execution_count": 13,
   "metadata": {},
   "outputs": [],
   "source": [
    "# остальные пропуски заменим 'none'\n",
    "df['NotRepaired'].fillna('none', inplace=True)"
   ]
  },
  {
   "cell_type": "markdown",
   "metadata": {},
   "source": [
    "**Обработка аномалий**"
   ]
  },
  {
   "cell_type": "code",
   "execution_count": 14,
   "metadata": {},
   "outputs": [],
   "source": [
    "#report = sv.analyze([df, \"autos\"])"
   ]
  },
  {
   "cell_type": "code",
   "execution_count": 15,
   "metadata": {},
   "outputs": [],
   "source": [
    "#report.show_html('common analysis.html')"
   ]
  },
  {
   "cell_type": "code",
   "execution_count": 16,
   "metadata": {
    "scrolled": false
   },
   "outputs": [
    {
     "data": {
      "text/plain": [
       "[Text(0.5, 1.0, 'Пробег(км)')]"
      ]
     },
     "execution_count": 16,
     "metadata": {},
     "output_type": "execute_result"
    },
    {
     "data": {
      "image/png": "[encoded data removed]",
      "text/plain": [
       "<Figure size 1080x1080 with 4 Axes>"
      ]
     },
     "metadata": {
      "needs_background": "light"
     },
     "output_type": "display_data"
    }
   ],
   "source": [
    "fig = plt.figure(figsize=(15, 15))\n",
    "\n",
    "ax_1 = fig.add_subplot(2, 2, 1)\n",
    "ax_2 = fig.add_subplot(2, 2, 2)\n",
    "ax_3 = fig.add_subplot(2, 2, 3)\n",
    "ax_4 = fig.add_subplot(2, 2, 4)\n",
    "\n",
    "ax_1.boxplot(df['RegistrationYear'])\n",
    "ax_2.boxplot(df['Price'])\n",
    "ax_3.boxplot(df['Power'])\n",
    "ax_4.boxplot(df['Kilometer'])\n",
    "\n",
    "ax_1.set(title='Год регистрации')\n",
    "ax_2.set(title='Цена')\n",
    "ax_3.set(title='Мощность')\n",
    "ax_4.set(title='Пробег(км)')"
   ]
  },
  {
   "cell_type": "code",
   "execution_count": 17,
   "metadata": {},
   "outputs": [
    {
     "data": {
      "text/plain": [
       "count    334536.000000\n",
       "mean       4547.697291\n",
       "std        4551.131380\n",
       "min           0.000000\n",
       "25%        1150.000000\n",
       "50%        2850.000000\n",
       "75%        6500.000000\n",
       "max       20000.000000\n",
       "Name: Price, dtype: float64"
      ]
     },
     "metadata": {},
     "output_type": "display_data"
    },
    {
     "data": {
      "text/html": [
       "<div>\n",
       "<style scoped>\n",
       "    .dataframe tbody tr th:only-of-type {\n",
       "        vertical-align: middle;\n",
       "    }\n",
       "\n",
       "    .dataframe tbody tr th {\n",
       "        vertical-align: top;\n",
       "    }\n",
       "\n",
       "    .dataframe thead th {\n",
       "        text-align: right;\n",
       "    }\n",
       "</style>\n",
       "<table border=\"1\" class=\"dataframe\">\n",
       "  <thead>\n",
       "    <tr style=\"text-align: right;\">\n",
       "      <th></th>\n",
       "      <th>Price</th>\n",
       "      <th>VehicleType</th>\n",
       "      <th>RegistrationYear</th>\n",
       "      <th>Gearbox</th>\n",
       "      <th>Power</th>\n",
       "      <th>Model</th>\n",
       "      <th>Kilometer</th>\n",
       "      <th>RegistrationMonth</th>\n",
       "      <th>FuelType</th>\n",
       "      <th>Brand</th>\n",
       "      <th>NotRepaired</th>\n",
       "      <th>LastSeen</th>\n",
       "    </tr>\n",
       "  </thead>\n",
       "  <tbody>\n",
       "    <tr>\n",
       "      <th>7</th>\n",
       "      <td>0</td>\n",
       "      <td>sedan</td>\n",
       "      <td>1980</td>\n",
       "      <td>manual</td>\n",
       "      <td>50</td>\n",
       "      <td>other</td>\n",
       "      <td>40000</td>\n",
       "      <td>7</td>\n",
       "      <td>petrol</td>\n",
       "      <td>volkswagen</td>\n",
       "      <td>no</td>\n",
       "      <td>2016-03-25 16:47:58</td>\n",
       "    </tr>\n",
       "    <tr>\n",
       "      <th>111</th>\n",
       "      <td>0</td>\n",
       "      <td>other</td>\n",
       "      <td>2017</td>\n",
       "      <td>manual</td>\n",
       "      <td>0</td>\n",
       "      <td>golf</td>\n",
       "      <td>5000</td>\n",
       "      <td>12</td>\n",
       "      <td>petrol</td>\n",
       "      <td>volkswagen</td>\n",
       "      <td>none</td>\n",
       "      <td>2016-04-01 08:47:05</td>\n",
       "    </tr>\n",
       "    <tr>\n",
       "      <th>152</th>\n",
       "      <td>0</td>\n",
       "      <td>bus</td>\n",
       "      <td>2004</td>\n",
       "      <td>manual</td>\n",
       "      <td>101</td>\n",
       "      <td>meriva</td>\n",
       "      <td>150000</td>\n",
       "      <td>10</td>\n",
       "      <td>lpg</td>\n",
       "      <td>opel</td>\n",
       "      <td>yes</td>\n",
       "      <td>2016-03-12 23:47:10</td>\n",
       "    </tr>\n",
       "    <tr>\n",
       "      <th>231</th>\n",
       "      <td>0</td>\n",
       "      <td>wagon</td>\n",
       "      <td>2001</td>\n",
       "      <td>manual</td>\n",
       "      <td>115</td>\n",
       "      <td>mondeo</td>\n",
       "      <td>150000</td>\n",
       "      <td>0</td>\n",
       "      <td>petrol</td>\n",
       "      <td>ford</td>\n",
       "      <td>none</td>\n",
       "      <td>2016-03-26 11:17:50</td>\n",
       "    </tr>\n",
       "    <tr>\n",
       "      <th>466</th>\n",
       "      <td>0</td>\n",
       "      <td>other</td>\n",
       "      <td>2016</td>\n",
       "      <td>auto</td>\n",
       "      <td>197</td>\n",
       "      <td>3er</td>\n",
       "      <td>150000</td>\n",
       "      <td>12</td>\n",
       "      <td>gasoline</td>\n",
       "      <td>bmw</td>\n",
       "      <td>no</td>\n",
       "      <td>2016-03-25 19:46:09</td>\n",
       "    </tr>\n",
       "  </tbody>\n",
       "</table>\n",
       "</div>"
      ],
      "text/plain": [
       "     Price VehicleType  RegistrationYear Gearbox  Power   Model  Kilometer  \\\n",
       "7        0       sedan              1980  manual     50   other      40000   \n",
       "111      0       other              2017  manual      0    golf       5000   \n",
       "152      0         bus              2004  manual    101  meriva     150000   \n",
       "231      0       wagon              2001  manual    115  mondeo     150000   \n",
       "466      0       other              2016    auto    197     3er     150000   \n",
       "\n",
       "     RegistrationMonth  FuelType       Brand NotRepaired             LastSeen  \n",
       "7                    7    petrol  volkswagen          no  2016-03-25 16:47:58  \n",
       "111                 12    petrol  volkswagen        none  2016-04-01 08:47:05  \n",
       "152                 10       lpg        opel         yes  2016-03-12 23:47:10  \n",
       "231                  0    petrol        ford        none  2016-03-26 11:17:50  \n",
       "466                 12  gasoline         bmw          no  2016-03-25 19:46:09  "
      ]
     },
     "execution_count": 17,
     "metadata": {},
     "output_type": "execute_result"
    }
   ],
   "source": [
    "display (df['Price'].describe())\n",
    "df[df['Price'] < 1].head()"
   ]
  },
  {
   "cell_type": "code",
   "execution_count": 18,
   "metadata": {},
   "outputs": [
    {
     "data": {
      "text/plain": [
       "'2016-04-07 14:58:51'"
      ]
     },
     "execution_count": 18,
     "metadata": {},
     "output_type": "execute_result"
    }
   ],
   "source": [
    "df['LastSeen'].max()"
   ]
  },
  {
   "cell_type": "markdown",
   "metadata": {},
   "source": [
    "В данных замечены следующие аномалии:\n",
    "* Если судить по дате выгрузки базы, или дате последней активности пользователя, то год регистрации не может быть больше 2016 года\n",
    "* Мощность автомобилей превышает 1000 л.с.\n",
    "* Цена автомобилей не указана"
   ]
  },
  {
   "cell_type": "code",
   "execution_count": 19,
   "metadata": {},
   "outputs": [],
   "source": [
    "# удалим аномалии\n",
    "df = df[(df['RegistrationYear'] > 1960) & (df['RegistrationYear'] < 2016)]\n",
    "df = df[(df['Power'] < 1000)]\n",
    "df = df[df['Price'] > 150]\n",
    "df = df.drop(['LastSeen'], axis=1)"
   ]
  },
  {
   "cell_type": "markdown",
   "metadata": {},
   "source": [
    "**Подготовка признаков**"
   ]
  },
  {
   "cell_type": "markdown",
   "metadata": {},
   "source": [
    "Подготовим отдельный датасет с численными признаками для моделей, которые не обучаются на категориальных данных."
   ]
  },
  {
   "cell_type": "code",
   "execution_count": 20,
   "metadata": {
    "scrolled": false
   },
   "outputs": [
    {
     "data": {
      "text/html": [
       "<div>\n",
       "<style scoped>\n",
       "    .dataframe tbody tr th:only-of-type {\n",
       "        vertical-align: middle;\n",
       "    }\n",
       "\n",
       "    .dataframe tbody tr th {\n",
       "        vertical-align: top;\n",
       "    }\n",
       "\n",
       "    .dataframe thead th {\n",
       "        text-align: right;\n",
       "    }\n",
       "</style>\n",
       "<table border=\"1\" class=\"dataframe\">\n",
       "  <thead>\n",
       "    <tr style=\"text-align: right;\">\n",
       "      <th></th>\n",
       "      <th>Price</th>\n",
       "      <th>VehicleType</th>\n",
       "      <th>RegistrationYear</th>\n",
       "      <th>Gearbox</th>\n",
       "      <th>Power</th>\n",
       "      <th>Model</th>\n",
       "      <th>Kilometer</th>\n",
       "      <th>RegistrationMonth</th>\n",
       "      <th>FuelType</th>\n",
       "      <th>Brand</th>\n",
       "      <th>NotRepaired</th>\n",
       "    </tr>\n",
       "  </thead>\n",
       "  <tbody>\n",
       "    <tr>\n",
       "      <th>0</th>\n",
       "      <td>480</td>\n",
       "      <td>other</td>\n",
       "      <td>1993</td>\n",
       "      <td>manual</td>\n",
       "      <td>0</td>\n",
       "      <td>golf</td>\n",
       "      <td>150000</td>\n",
       "      <td>0</td>\n",
       "      <td>petrol</td>\n",
       "      <td>volkswagen</td>\n",
       "      <td>none</td>\n",
       "    </tr>\n",
       "    <tr>\n",
       "      <th>1</th>\n",
       "      <td>18300</td>\n",
       "      <td>coupe</td>\n",
       "      <td>2011</td>\n",
       "      <td>manual</td>\n",
       "      <td>190</td>\n",
       "      <td>audi</td>\n",
       "      <td>125000</td>\n",
       "      <td>5</td>\n",
       "      <td>gasoline</td>\n",
       "      <td>audi</td>\n",
       "      <td>yes</td>\n",
       "    </tr>\n",
       "    <tr>\n",
       "      <th>2</th>\n",
       "      <td>9800</td>\n",
       "      <td>suv</td>\n",
       "      <td>2004</td>\n",
       "      <td>auto</td>\n",
       "      <td>163</td>\n",
       "      <td>grand</td>\n",
       "      <td>125000</td>\n",
       "      <td>8</td>\n",
       "      <td>gasoline</td>\n",
       "      <td>jeep</td>\n",
       "      <td>no</td>\n",
       "    </tr>\n",
       "    <tr>\n",
       "      <th>3</th>\n",
       "      <td>1500</td>\n",
       "      <td>small</td>\n",
       "      <td>2001</td>\n",
       "      <td>manual</td>\n",
       "      <td>75</td>\n",
       "      <td>golf</td>\n",
       "      <td>150000</td>\n",
       "      <td>6</td>\n",
       "      <td>petrol</td>\n",
       "      <td>volkswagen</td>\n",
       "      <td>no</td>\n",
       "    </tr>\n",
       "    <tr>\n",
       "      <th>4</th>\n",
       "      <td>3600</td>\n",
       "      <td>small</td>\n",
       "      <td>2008</td>\n",
       "      <td>manual</td>\n",
       "      <td>69</td>\n",
       "      <td>fabia</td>\n",
       "      <td>90000</td>\n",
       "      <td>7</td>\n",
       "      <td>gasoline</td>\n",
       "      <td>skoda</td>\n",
       "      <td>no</td>\n",
       "    </tr>\n",
       "  </tbody>\n",
       "</table>\n",
       "</div>"
      ],
      "text/plain": [
       "   Price VehicleType  RegistrationYear Gearbox  Power  Model  Kilometer  \\\n",
       "0    480       other              1993  manual      0   golf     150000   \n",
       "1  18300       coupe              2011  manual    190   audi     125000   \n",
       "2   9800         suv              2004    auto    163  grand     125000   \n",
       "3   1500       small              2001  manual     75   golf     150000   \n",
       "4   3600       small              2008  manual     69  fabia      90000   \n",
       "\n",
       "   RegistrationMonth  FuelType       Brand NotRepaired  \n",
       "0                  0    petrol  volkswagen        none  \n",
       "1                  5  gasoline        audi         yes  \n",
       "2                  8  gasoline        jeep          no  \n",
       "3                  6    petrol  volkswagen          no  \n",
       "4                  7  gasoline       skoda          no  "
      ]
     },
     "execution_count": 20,
     "metadata": {},
     "output_type": "execute_result"
    }
   ],
   "source": [
    "df.head()"
   ]
  },
  {
   "cell_type": "markdown",
   "metadata": {},
   "source": [
    "В датасете 6 категориальных признаков. Закодируем их в численные признаки техникой прямого и порядкового кодирования."
   ]
  },
  {
   "cell_type": "code",
   "execution_count": 21,
   "metadata": {},
   "outputs": [],
   "source": [
    "df_ohe = pd.get_dummies(df, drop_first=True)"
   ]
  },
  {
   "cell_type": "code",
   "execution_count": 22,
   "metadata": {},
   "outputs": [],
   "source": [
    "encoder = OrdinalEncoder()\n",
    "category = ['VehicleType', 'Gearbox', 'Model', 'FuelType', 'Brand', 'NotRepaired']\n",
    "\n",
    "df[category] = encoder.fit_transform(df[category])"
   ]
  },
  {
   "cell_type": "code",
   "execution_count": 23,
   "metadata": {},
   "outputs": [
    {
     "data": {
      "text/html": [
       "<div>\n",
       "<style scoped>\n",
       "    .dataframe tbody tr th:only-of-type {\n",
       "        vertical-align: middle;\n",
       "    }\n",
       "\n",
       "    .dataframe tbody tr th {\n",
       "        vertical-align: top;\n",
       "    }\n",
       "\n",
       "    .dataframe thead th {\n",
       "        text-align: right;\n",
       "    }\n",
       "</style>\n",
       "<table border=\"1\" class=\"dataframe\">\n",
       "  <thead>\n",
       "    <tr style=\"text-align: right;\">\n",
       "      <th></th>\n",
       "      <th>Price</th>\n",
       "      <th>RegistrationYear</th>\n",
       "      <th>Power</th>\n",
       "      <th>Kilometer</th>\n",
       "      <th>RegistrationMonth</th>\n",
       "      <th>VehicleType_convertible</th>\n",
       "      <th>VehicleType_coupe</th>\n",
       "      <th>VehicleType_other</th>\n",
       "      <th>VehicleType_sedan</th>\n",
       "      <th>VehicleType_small</th>\n",
       "      <th>...</th>\n",
       "      <th>Brand_smart</th>\n",
       "      <th>Brand_sonstige_autos</th>\n",
       "      <th>Brand_subaru</th>\n",
       "      <th>Brand_suzuki</th>\n",
       "      <th>Brand_toyota</th>\n",
       "      <th>Brand_trabant</th>\n",
       "      <th>Brand_volkswagen</th>\n",
       "      <th>Brand_volvo</th>\n",
       "      <th>NotRepaired_none</th>\n",
       "      <th>NotRepaired_yes</th>\n",
       "    </tr>\n",
       "  </thead>\n",
       "  <tbody>\n",
       "    <tr>\n",
       "      <th>0</th>\n",
       "      <td>480</td>\n",
       "      <td>1993</td>\n",
       "      <td>0</td>\n",
       "      <td>150000</td>\n",
       "      <td>0</td>\n",
       "      <td>0</td>\n",
       "      <td>0</td>\n",
       "      <td>1</td>\n",
       "      <td>0</td>\n",
       "      <td>0</td>\n",
       "      <td>...</td>\n",
       "      <td>0</td>\n",
       "      <td>0</td>\n",
       "      <td>0</td>\n",
       "      <td>0</td>\n",
       "      <td>0</td>\n",
       "      <td>0</td>\n",
       "      <td>1</td>\n",
       "      <td>0</td>\n",
       "      <td>1</td>\n",
       "      <td>0</td>\n",
       "    </tr>\n",
       "    <tr>\n",
       "      <th>1</th>\n",
       "      <td>18300</td>\n",
       "      <td>2011</td>\n",
       "      <td>190</td>\n",
       "      <td>125000</td>\n",
       "      <td>5</td>\n",
       "      <td>0</td>\n",
       "      <td>1</td>\n",
       "      <td>0</td>\n",
       "      <td>0</td>\n",
       "      <td>0</td>\n",
       "      <td>...</td>\n",
       "      <td>0</td>\n",
       "      <td>0</td>\n",
       "      <td>0</td>\n",
       "      <td>0</td>\n",
       "      <td>0</td>\n",
       "      <td>0</td>\n",
       "      <td>0</td>\n",
       "      <td>0</td>\n",
       "      <td>0</td>\n",
       "      <td>1</td>\n",
       "    </tr>\n",
       "    <tr>\n",
       "      <th>2</th>\n",
       "      <td>9800</td>\n",
       "      <td>2004</td>\n",
       "      <td>163</td>\n",
       "      <td>125000</td>\n",
       "      <td>8</td>\n",
       "      <td>0</td>\n",
       "      <td>0</td>\n",
       "      <td>0</td>\n",
       "      <td>0</td>\n",
       "      <td>0</td>\n",
       "      <td>...</td>\n",
       "      <td>0</td>\n",
       "      <td>0</td>\n",
       "      <td>0</td>\n",
       "      <td>0</td>\n",
       "      <td>0</td>\n",
       "      <td>0</td>\n",
       "      <td>0</td>\n",
       "      <td>0</td>\n",
       "      <td>0</td>\n",
       "      <td>0</td>\n",
       "    </tr>\n",
       "    <tr>\n",
       "      <th>3</th>\n",
       "      <td>1500</td>\n",
       "      <td>2001</td>\n",
       "      <td>75</td>\n",
       "      <td>150000</td>\n",
       "      <td>6</td>\n",
       "      <td>0</td>\n",
       "      <td>0</td>\n",
       "      <td>0</td>\n",
       "      <td>0</td>\n",
       "      <td>1</td>\n",
       "      <td>...</td>\n",
       "      <td>0</td>\n",
       "      <td>0</td>\n",
       "      <td>0</td>\n",
       "      <td>0</td>\n",
       "      <td>0</td>\n",
       "      <td>0</td>\n",
       "      <td>1</td>\n",
       "      <td>0</td>\n",
       "      <td>0</td>\n",
       "      <td>0</td>\n",
       "    </tr>\n",
       "    <tr>\n",
       "      <th>4</th>\n",
       "      <td>3600</td>\n",
       "      <td>2008</td>\n",
       "      <td>69</td>\n",
       "      <td>90000</td>\n",
       "      <td>7</td>\n",
       "      <td>0</td>\n",
       "      <td>0</td>\n",
       "      <td>0</td>\n",
       "      <td>0</td>\n",
       "      <td>1</td>\n",
       "      <td>...</td>\n",
       "      <td>0</td>\n",
       "      <td>0</td>\n",
       "      <td>0</td>\n",
       "      <td>0</td>\n",
       "      <td>0</td>\n",
       "      <td>0</td>\n",
       "      <td>0</td>\n",
       "      <td>0</td>\n",
       "      <td>0</td>\n",
       "      <td>0</td>\n",
       "    </tr>\n",
       "  </tbody>\n",
       "</table>\n",
       "<p>5 rows × 349 columns</p>\n",
       "</div>"
      ],
      "text/plain": [
       "   Price  RegistrationYear  Power  Kilometer  RegistrationMonth  \\\n",
       "0    480              1993      0     150000                  0   \n",
       "1  18300              2011    190     125000                  5   \n",
       "2   9800              2004    163     125000                  8   \n",
       "3   1500              2001     75     150000                  6   \n",
       "4   3600              2008     69      90000                  7   \n",
       "\n",
       "   VehicleType_convertible  VehicleType_coupe  VehicleType_other  \\\n",
       "0                        0                  0                  1   \n",
       "1                        0                  1                  0   \n",
       "2                        0                  0                  0   \n",
       "3                        0                  0                  0   \n",
       "4                        0                  0                  0   \n",
       "\n",
       "   VehicleType_sedan  VehicleType_small  ...  Brand_smart  \\\n",
       "0                  0                  0  ...            0   \n",
       "1                  0                  0  ...            0   \n",
       "2                  0                  0  ...            0   \n",
       "3                  0                  1  ...            0   \n",
       "4                  0                  1  ...            0   \n",
       "\n",
       "   Brand_sonstige_autos  Brand_subaru  Brand_suzuki  Brand_toyota  \\\n",
       "0                     0             0             0             0   \n",
       "1                     0             0             0             0   \n",
       "2                     0             0             0             0   \n",
       "3                     0             0             0             0   \n",
       "4                     0             0             0             0   \n",
       "\n",
       "   Brand_trabant  Brand_volkswagen  Brand_volvo  NotRepaired_none  \\\n",
       "0              0                 1            0                 1   \n",
       "1              0                 0            0                 0   \n",
       "2              0                 0            0                 0   \n",
       "3              0                 1            0                 0   \n",
       "4              0                 0            0                 0   \n",
       "\n",
       "   NotRepaired_yes  \n",
       "0                0  \n",
       "1                1  \n",
       "2                0  \n",
       "3                0  \n",
       "4                0  \n",
       "\n",
       "[5 rows x 349 columns]"
      ]
     },
     "metadata": {},
     "output_type": "display_data"
    },
    {
     "data": {
      "text/html": [
       "<div>\n",
       "<style scoped>\n",
       "    .dataframe tbody tr th:only-of-type {\n",
       "        vertical-align: middle;\n",
       "    }\n",
       "\n",
       "    .dataframe tbody tr th {\n",
       "        vertical-align: top;\n",
       "    }\n",
       "\n",
       "    .dataframe thead th {\n",
       "        text-align: right;\n",
       "    }\n",
       "</style>\n",
       "<table border=\"1\" class=\"dataframe\">\n",
       "  <thead>\n",
       "    <tr style=\"text-align: right;\">\n",
       "      <th></th>\n",
       "      <th>Price</th>\n",
       "      <th>VehicleType</th>\n",
       "      <th>RegistrationYear</th>\n",
       "      <th>Gearbox</th>\n",
       "      <th>Power</th>\n",
       "      <th>Model</th>\n",
       "      <th>Kilometer</th>\n",
       "      <th>RegistrationMonth</th>\n",
       "      <th>FuelType</th>\n",
       "      <th>Brand</th>\n",
       "      <th>NotRepaired</th>\n",
       "    </tr>\n",
       "  </thead>\n",
       "  <tbody>\n",
       "    <tr>\n",
       "      <th>0</th>\n",
       "      <td>480</td>\n",
       "      <td>3.0</td>\n",
       "      <td>1993</td>\n",
       "      <td>1.0</td>\n",
       "      <td>0</td>\n",
       "      <td>127.0</td>\n",
       "      <td>150000</td>\n",
       "      <td>0</td>\n",
       "      <td>6.0</td>\n",
       "      <td>38.0</td>\n",
       "      <td>1.0</td>\n",
       "    </tr>\n",
       "    <tr>\n",
       "      <th>1</th>\n",
       "      <td>18300</td>\n",
       "      <td>2.0</td>\n",
       "      <td>2011</td>\n",
       "      <td>1.0</td>\n",
       "      <td>190</td>\n",
       "      <td>44.0</td>\n",
       "      <td>125000</td>\n",
       "      <td>5</td>\n",
       "      <td>2.0</td>\n",
       "      <td>1.0</td>\n",
       "      <td>2.0</td>\n",
       "    </tr>\n",
       "    <tr>\n",
       "      <th>2</th>\n",
       "      <td>9800</td>\n",
       "      <td>6.0</td>\n",
       "      <td>2004</td>\n",
       "      <td>0.0</td>\n",
       "      <td>163</td>\n",
       "      <td>128.0</td>\n",
       "      <td>125000</td>\n",
       "      <td>8</td>\n",
       "      <td>2.0</td>\n",
       "      <td>14.0</td>\n",
       "      <td>0.0</td>\n",
       "    </tr>\n",
       "    <tr>\n",
       "      <th>3</th>\n",
       "      <td>1500</td>\n",
       "      <td>5.0</td>\n",
       "      <td>2001</td>\n",
       "      <td>1.0</td>\n",
       "      <td>75</td>\n",
       "      <td>127.0</td>\n",
       "      <td>150000</td>\n",
       "      <td>6</td>\n",
       "      <td>6.0</td>\n",
       "      <td>38.0</td>\n",
       "      <td>0.0</td>\n",
       "    </tr>\n",
       "    <tr>\n",
       "      <th>4</th>\n",
       "      <td>3600</td>\n",
       "      <td>5.0</td>\n",
       "      <td>2008</td>\n",
       "      <td>1.0</td>\n",
       "      <td>69</td>\n",
       "      <td>110.0</td>\n",
       "      <td>90000</td>\n",
       "      <td>7</td>\n",
       "      <td>2.0</td>\n",
       "      <td>31.0</td>\n",
       "      <td>0.0</td>\n",
       "    </tr>\n",
       "  </tbody>\n",
       "</table>\n",
       "</div>"
      ],
      "text/plain": [
       "   Price  VehicleType  RegistrationYear  Gearbox  Power  Model  Kilometer  \\\n",
       "0    480          3.0              1993      1.0      0  127.0     150000   \n",
       "1  18300          2.0              2011      1.0    190   44.0     125000   \n",
       "2   9800          6.0              2004      0.0    163  128.0     125000   \n",
       "3   1500          5.0              2001      1.0     75  127.0     150000   \n",
       "4   3600          5.0              2008      1.0     69  110.0      90000   \n",
       "\n",
       "   RegistrationMonth  FuelType  Brand  NotRepaired  \n",
       "0                  0       6.0   38.0          1.0  \n",
       "1                  5       2.0    1.0          2.0  \n",
       "2                  8       2.0   14.0          0.0  \n",
       "3                  6       6.0   38.0          0.0  \n",
       "4                  7       2.0   31.0          0.0  "
      ]
     },
     "metadata": {},
     "output_type": "display_data"
    }
   ],
   "source": [
    "display (df_ohe.head(), df.head())"
   ]
  },
  {
   "cell_type": "markdown",
   "metadata": {},
   "source": [
    "**Разделение выборки**"
   ]
  },
  {
   "cell_type": "code",
   "execution_count": 24,
   "metadata": {},
   "outputs": [
    {
     "name": "stdout",
     "output_type": "stream",
     "text": [
      "(181345, 10) (60448, 10) (60449, 10)\n",
      "(181345, 348) (60448, 348) (60449, 348)\n"
     ]
    }
   ],
   "source": [
    "#разделим данные на валидационную, тестовую и тренировочную выборки: 20%, 20% и 60% соответственно\n",
    "features = df.drop('Price', axis=1)\n",
    "target = df['Price']\n",
    "\n",
    "\n",
    "features_train, target_train, features_valid, target_valid, features_test, target_test = train_valid_test_split(\n",
    "    df, target = 'Price', train_size=0.6, valid_size=0.2, test_size=0.2)\n",
    "\n",
    "print (features_train.shape, features_valid.shape, features_test.shape)\n",
    "\n",
    "features_ohe = df_ohe.drop('Price', axis=1)\n",
    "target_ohe = df_ohe['Price']\n",
    "\n",
    "\n",
    "features_train_ohe, target_train_ohe, features_valid_ohe, target_valid_ohe, features_test_ohe, target_test_ohe = (\n",
    "    train_valid_test_split(df_ohe, target = 'Price', train_size=0.6, valid_size=0.2, test_size=0.2))\n",
    "\n",
    "print (features_train_ohe.shape, features_valid_ohe.shape, features_test_ohe.shape)"
   ]
  },
  {
   "cell_type": "markdown",
   "metadata": {},
   "source": [
    "**Масштабирование признаков**"
   ]
  },
  {
   "cell_type": "markdown",
   "metadata": {},
   "source": [
    "Стандартизируем численные признаки датасета."
   ]
  },
  {
   "cell_type": "code",
   "execution_count": 25,
   "metadata": {},
   "outputs": [],
   "source": [
    "def scaler(features_train, features_valid, features_test):\n",
    "    numeric = ['RegistrationYear', 'Power', 'Kilometer', 'RegistrationMonth']\n",
    "    \n",
    "    scaler = StandardScaler()\n",
    "    scaler.fit(features_train[numeric])\n",
    "    \n",
    "    features_train[numeric] = scaler.transform(features_train[numeric])\n",
    "    features_valid[numeric] = scaler.transform(features_valid[numeric])\n",
    "    features_test[numeric] = scaler.transform(features_test[numeric])\n",
    "    \n",
    "    return features_train, features_valid, features_test\n",
    "\n",
    "features_train, features_valid, features_test = scaler(features_train, features_valid, features_test)\n",
    "features_train_ohe, features_valid_ohe, features_test_ohe = scaler(\n",
    "    features_train_ohe, features_valid_ohe, features_test_ohe)"
   ]
  },
  {
   "cell_type": "markdown",
   "metadata": {},
   "source": [
    "**Вывод:**\n",
    "\n",
    "Данные загружены и подготовлены:\n",
    "* Удалены неинформативные признаки\n",
    "* Заполненые пропуски в столбцах: тип кузова, тип КП, модель, тип топлива, ремонт машины\n",
    "* Обработаны аномалии\n",
    "* Данные разделены на выборки и подготовлены к обучению моделей"
   ]
  },
  {
   "cell_type": "markdown",
   "metadata": {},
   "source": [
    "## Обучение моделей"
   ]
  },
  {
   "cell_type": "markdown",
   "metadata": {},
   "source": [
    "Обучим несколько моделей: случайный лес, линейную регрессию и градиентный бустинг, нам важны следующие критерии:\n",
    "* качество предсказания;\n",
    "* время обучения модели;\n",
    "* время предсказания модели."
   ]
  },
  {
   "cell_type": "markdown",
   "metadata": {},
   "source": [
    "**Модель случайного леса**"
   ]
  },
  {
   "cell_type": "code",
   "execution_count": 26,
   "metadata": {},
   "outputs": [
    {
     "name": "stdout",
     "output_type": "stream",
     "text": [
      "Лучший результат случайного леса:  1593\n",
      "Лучшая модель случайного леса:  RandomForestRegressor(max_depth=17, n_estimators=10, random_state=12345)\n",
      "Wall time: 38.7 s\n"
     ]
    }
   ],
   "source": [
    "%%time\n",
    "\n",
    "# features_train, target_train, features_valid, target_valid, features_test, target_test\n",
    "\n",
    "best_forest_model = ''\n",
    "best_forest_result = 10000\n",
    "for depth in range(1, 20, 2):\n",
    "    model = RandomForestRegressor(random_state=12345, max_depth=depth, n_estimators=10)\n",
    "    model.fit(features_train, target_train)\n",
    "    prediction = model.predict(features_valid)\n",
    "        \n",
    "    rmse = mean_squared_error(target_valid, prediction) ** 0.5\n",
    "        \n",
    "    if rmse < best_forest_result:\n",
    "        best_forest_result = rmse\n",
    "        best_forest_model = model\n",
    "            \n",
    "print ('Лучший результат случайного леса: ', round(best_forest_result))\n",
    "print ('Лучшая модель случайного леса: ', best_forest_model)"
   ]
  },
  {
   "cell_type": "markdown",
   "metadata": {},
   "source": [
    "**Линейная регрессия**"
   ]
  },
  {
   "cell_type": "code",
   "execution_count": 27,
   "metadata": {},
   "outputs": [
    {
     "name": "stdout",
     "output_type": "stream",
     "text": [
      "RMSE линейной регрессии 2581\n"
     ]
    }
   ],
   "source": [
    "from sklearn.linear_model import LinearRegression\n",
    "linear_regression = LinearRegression()\n",
    "linear_regression.fit(features_train_ohe, target_train_ohe)\n",
    "prediction = linear_regression.predict(features_valid_ohe)\n",
    "print('RMSE линейной регрессии', round(mean_squared_error(target_valid_ohe, prediction) ** 0.5))"
   ]
  },
  {
   "cell_type": "markdown",
   "metadata": {},
   "source": [
    "**Градиентный бустинг**"
   ]
  },
  {
   "cell_type": "code",
   "execution_count": 28,
   "metadata": {},
   "outputs": [
    {
     "name": "stdout",
     "output_type": "stream",
     "text": [
      "Лучший RMSE градиентного бустинга:  1487\n",
      "Лучшая модель градиентного бустинга:  LGBMRegressor(max_depth=8, n_estimators=1000, num_leaves=200)\n",
      "Wall time: 19.2 s\n"
     ]
    }
   ],
   "source": [
    "%%time\n",
    "\n",
    "trees = [1000]\n",
    "best_gbm_model = ''\n",
    "best_gbm_result = 10000\n",
    "\n",
    "for tree in trees:\n",
    "    gbm_model= LGBMRegressor(n_estimators=tree, max_depth=8, num_leaves=200)\n",
    "    gbm_model.fit(features_train, target_train)\n",
    "        \n",
    "    prediction = gbm_model.predict(features_valid)\n",
    "    rmse = mean_squared_error(target_valid, prediction) ** 0.5\n",
    "        \n",
    "    if rmse < best_gbm_result:\n",
    "        best_gbm_result = rmse\n",
    "        best_gbm_model = gbm_model\n",
    "\n",
    "print('Лучший RMSE градиентного бустинга: ', round(best_gbm_result))\n",
    "print ('Лучшая модель градиентного бустинга: ', best_gbm_model)"
   ]
  },
  {
   "cell_type": "markdown",
   "metadata": {},
   "source": [
    "## Анализ моделей"
   ]
  },
  {
   "cell_type": "markdown",
   "metadata": {},
   "source": [
    "Нам необходимо проанализировать следующие параметры:\n",
    "* Время обучения модели\n",
    "* Время предсказания модели\n",
    "* Качество предсказания"
   ]
  },
  {
   "cell_type": "markdown",
   "metadata": {},
   "source": [
    "**Проанализируем, сколько времени необходимо на обучение каждой модели.**"
   ]
  },
  {
   "cell_type": "code",
   "execution_count": 31,
   "metadata": {},
   "outputs": [
    {
     "name": "stdout",
     "output_type": "stream",
     "text": [
      "Wall time: 6.43 s\n"
     ]
    },
    {
     "data": {
      "text/plain": [
       "RandomForestRegressor(max_depth=17, n_estimators=10, random_state=12345)"
      ]
     },
     "execution_count": 31,
     "metadata": {},
     "output_type": "execute_result"
    }
   ],
   "source": [
    "%%time\n",
    "\n",
    "best_forest_model.fit(features_train, target_train)"
   ]
  },
  {
   "cell_type": "code",
   "execution_count": 32,
   "metadata": {},
   "outputs": [
    {
     "name": "stdout",
     "output_type": "stream",
     "text": [
      "Wall time: 246 ms\n"
     ]
    },
    {
     "data": {
      "text/plain": [
       "LinearRegression()"
      ]
     },
     "execution_count": 32,
     "metadata": {},
     "output_type": "execute_result"
    }
   ],
   "source": [
    "%%time\n",
    "\n",
    "linear_regression.fit(features_train, target_train)"
   ]
  },
  {
   "cell_type": "code",
   "execution_count": 33,
   "metadata": {
    "scrolled": true
   },
   "outputs": [
    {
     "name": "stdout",
     "output_type": "stream",
     "text": [
      "Wall time: 15 s\n"
     ]
    },
    {
     "data": {
      "text/plain": [
       "LGBMRegressor(max_depth=8, n_estimators=1000, num_leaves=200)"
      ]
     },
     "execution_count": 33,
     "metadata": {},
     "output_type": "execute_result"
    }
   ],
   "source": [
    "%%time\n",
    "\n",
    "best_gbm_model.fit(features_train, target_train)"
   ]
  },
  {
   "cell_type": "markdown",
   "metadata": {},
   "source": [
    "Время обучения моделей:\n",
    "* Случайный лес обучается за 28 секунд\n",
    "* Линейная регрессия - меньше, чем за 1 секунду\n",
    "* Градиентный бустинг - 24 секунды"
   ]
  },
  {
   "cell_type": "markdown",
   "metadata": {},
   "source": [
    "**Посмотрим на время, за которое модели делают предсказания.**"
   ]
  },
  {
   "cell_type": "code",
   "execution_count": 34,
   "metadata": {},
   "outputs": [
    {
     "name": "stdout",
     "output_type": "stream",
     "text": [
      "Wall time: 203 ms\n"
     ]
    }
   ],
   "source": [
    "%%time\n",
    "\n",
    "predictions_forest = best_forest_model.predict(features_valid)"
   ]
  },
  {
   "cell_type": "code",
   "execution_count": 35,
   "metadata": {},
   "outputs": [
    {
     "name": "stdout",
     "output_type": "stream",
     "text": [
      "Wall time: 13 ms\n"
     ]
    }
   ],
   "source": [
    "%%time\n",
    "\n",
    "predictions_linear = linear_regression.predict(features_valid)"
   ]
  },
  {
   "cell_type": "code",
   "execution_count": 36,
   "metadata": {},
   "outputs": [
    {
     "name": "stdout",
     "output_type": "stream",
     "text": [
      "Wall time: 7.55 s\n"
     ]
    }
   ],
   "source": [
    "%%time\n",
    "\n",
    "predictions_gbm = best_gbm_model.predict(features_valid)"
   ]
  },
  {
   "cell_type": "markdown",
   "metadata": {},
   "source": [
    "Время предсказания моделей:\n",
    "* Случайный лес - 515 ms\n",
    "* Линейная регрессия - 2 ms\n",
    "* Градиентный бустинг - почти 10 секунд"
   ]
  },
  {
   "cell_type": "markdown",
   "metadata": {},
   "source": [
    "**Качество моделей**"
   ]
  },
  {
   "cell_type": "code",
   "execution_count": 37,
   "metadata": {},
   "outputs": [
    {
     "name": "stdout",
     "output_type": "stream",
     "text": [
      "Средняя ошибка случайного леса:  1593\n",
      "Средняя ошибка линейной регрессии:  2975\n",
      "Средняя ошибка градиентного бустинга:  1487\n"
     ]
    }
   ],
   "source": [
    "rmse_forest = mean_squared_error(target_valid, predictions_forest) ** 0.5\n",
    "\n",
    "rmse_linear = mean_squared_error(target_valid, predictions_linear) ** 0.5\n",
    "\n",
    "rmse_gbm = mean_squared_error(target_valid, predictions_gbm) ** 0.5\n",
    "\n",
    "print ('Средняя ошибка случайного леса: ', round(rmse_forest))\n",
    "print ('Средняя ошибка линейной регрессии: ', round(rmse_linear))\n",
    "print ('Средняя ошибка градиентного бустинга: ', round(rmse_gbm))"
   ]
  },
  {
   "cell_type": "markdown",
   "metadata": {},
   "source": [
    "**Проанализируем признаки, которые наиболее важны при моделировании**"
   ]
  },
  {
   "cell_type": "code",
   "execution_count": 38,
   "metadata": {},
   "outputs": [
    {
     "data": {
      "image/png": "[encoded data removed]",
      "text/plain": [
       "<Figure size 432x288 with 1 Axes>"
      ]
     },
     "metadata": {
      "needs_background": "light"
     },
     "output_type": "display_data"
    }
   ],
   "source": [
    "\n",
    "feature_names = features_train.columns\n",
    "forest = RandomForestRegressor(random_state=0)\n",
    "forest.fit(features_train, target_train)\n",
    "\n",
    "importances = forest.feature_importances_\n",
    "std = np.std([tree.feature_importances_ for tree in forest.estimators_], axis=0)\n",
    "\n",
    "forest_importances = pd.Series(importances, index=feature_names)\n",
    "\n",
    "fig, ax = plt.subplots()\n",
    "forest_importances.plot.bar(yerr=std, ax=ax)\n",
    "ax.set_title(\"Значимость признаков\")\n",
    "fig.tight_layout()"
   ]
  },
  {
   "cell_type": "markdown",
   "metadata": {},
   "source": [
    "Наиболее важный признак для прогнозирования стоимости авто - дата регистрации автомобиля, возможно для разных возрастов - разное ценообразование, попробуем ввести категорию - тип возраста."
   ]
  },
  {
   "cell_type": "code",
   "execution_count": 39,
   "metadata": {},
   "outputs": [
    {
     "data": {
      "text/plain": [
       "count    302242.00000\n",
       "mean       2002.45266\n",
       "std           6.21343\n",
       "min        1961.00000\n",
       "25%        1999.00000\n",
       "50%        2003.00000\n",
       "75%        2007.00000\n",
       "max        2015.00000\n",
       "Name: RegistrationYear, dtype: float64"
      ]
     },
     "execution_count": 39,
     "metadata": {},
     "output_type": "execute_result"
    }
   ],
   "source": [
    "df['RegistrationYear'].describe()"
   ]
  },
  {
   "cell_type": "code",
   "execution_count": 40,
   "metadata": {},
   "outputs": [],
   "source": [
    "# добавим столбец с категоризацией\n",
    "def category(year):\n",
    "    if year < 1990:\n",
    "        return 'ретро'\n",
    "    if year < 2000 and year > 1990:\n",
    "        return 'старая'\n",
    "    if year < 2016 and year > 2000:\n",
    "        return 'новая'\n",
    "    \n",
    "# создадим три новых датасета\n",
    "df['age_type'] = df['RegistrationYear'].apply(category)\n",
    "new = df.loc[df['age_type'] == 'новая']\n",
    "old = df.loc[df['age_type'] == 'старая']\n",
    "retro = df.loc[df['age_type'] == 'ретро']\n",
    "\n",
    "# разделим признаки и целевой признак\n",
    "def data(data):\n",
    "    data = data.drop(['age_type'], axis=1)\n",
    "    features = data.drop(['Price'], axis=1)\n",
    "    target = data['Price']\n",
    "    \n",
    "    return features, target\n",
    "\n",
    "new_features, new_target = data(new)\n",
    "old_features, old_target = data(old)\n",
    "retro_features, retro_target = data(retro)"
   ]
  },
  {
   "cell_type": "markdown",
   "metadata": {},
   "source": [
    "Проверим значимость признаков при моделировании для новых, старых и ретро моделей машин."
   ]
  },
  {
   "cell_type": "code",
   "execution_count": 41,
   "metadata": {},
   "outputs": [],
   "source": [
    "# создадим серии с значимостью признаков\n",
    "names = new_features.columns\n",
    "\n",
    "def significance(features, target):\n",
    "    forest = RandomForestRegressor(random_state=0)\n",
    "    forest.fit(features, target)\n",
    "    \n",
    "    importances = forest.feature_importances_\n",
    "    std = np.std([tree.feature_importances_ for tree in forest.estimators_], axis=0)\n",
    "    forest_importances = pd.Series(importances, index=names)\n",
    "    \n",
    "    return forest_importances\n",
    "\n",
    "# применим к трем категориям\n",
    "forest_importances_new = significance(new_features, new_target)\n",
    "forest_importances_old = significance(old_features, old_target)\n",
    "forest_importances_retro = significance(retro_features, retro_target)"
   ]
  },
  {
   "cell_type": "code",
   "execution_count": 42,
   "metadata": {},
   "outputs": [
    {
     "data": {
      "image/png": "[encoded data removed]",
      "text/plain": [
       "<Figure size 1440x1440 with 3 Axes>"
      ]
     },
     "metadata": {
      "needs_background": "light"
     },
     "output_type": "display_data"
    }
   ],
   "source": [
    "# визуализируем\n",
    "fig = plt.figure(figsize=(20, 20))\n",
    "\n",
    "ax_1 = fig.add_subplot(3, 1, 1)\n",
    "ax_2 = fig.add_subplot(3, 1, 2)\n",
    "ax_3 = fig.add_subplot(3, 1, 3)\n",
    "\n",
    "ax_1.bar(forest_importances_new.index, forest_importances_new)\n",
    "ax_1.set_title(\"Значимость признаков для новых моделей\", fontsize=20)\n",
    "ax_1.tick_params(labelsize=20)\n",
    "\n",
    "ax_2.bar(forest_importances_old.index, forest_importances_old)\n",
    "ax_2.set_title(\"Значимость признаков для старых моделей\", fontsize=20)\n",
    "ax_2.tick_params(labelsize=20)\n",
    "\n",
    "ax_3.bar(forest_importances_retro.index, forest_importances_retro)\n",
    "ax_3.set_title(\"Значимость признаков для ретро моделей\", fontsize=20)\n",
    "ax_3.tick_params(labelsize=20)\n",
    "\n",
    "fig.tight_layout()"
   ]
  },
  {
   "cell_type": "markdown",
   "metadata": {},
   "source": [
    "Действительно для разных возрастных категорий машин наиболее значимые признаки разные. При обучении модели необходимо учитывать возраст машины. Для новых машин наиболее значимые признаки - это год регистрации авто, а также его мощность. Для старых моделей наиболее важна мощность, а для ретро авто - год регистрации, мощность и наличие ремонта."
   ]
  },
  {
   "cell_type": "markdown",
   "metadata": {},
   "source": [
    "Проверим, изменилось ли качество предсказания для категоризированных данных."
   ]
  },
  {
   "cell_type": "code",
   "execution_count": 43,
   "metadata": {},
   "outputs": [
    {
     "name": "stdout",
     "output_type": "stream",
     "text": [
      "Средняя ошибка градиентного бустинга для категории новых машин:  1269\n"
     ]
    }
   ],
   "source": [
    "# new_features, new_target, old_features, old_target, retro_features, retro_target\n",
    "\n",
    "best_gbm_model.fit(new_features, new_target)\n",
    "predictions_gbm = best_gbm_model.predict(new_features)\n",
    "\n",
    "print ('Средняя ошибка градиентного бустинга для категории новых машин: ', \n",
    "       round(mean_squared_error(new_target, predictions_gbm) ** 0.5))\n"
   ]
  },
  {
   "cell_type": "code",
   "execution_count": 44,
   "metadata": {},
   "outputs": [
    {
     "name": "stdout",
     "output_type": "stream",
     "text": [
      "Средняя ошибка градиентного бустинга для категории старых машин:  783\n"
     ]
    }
   ],
   "source": [
    "best_gbm_model.fit(old_features, old_target)\n",
    "predictions_gbm = best_gbm_model.predict(old_features)\n",
    "\n",
    "print ('Средняя ошибка градиентного бустинга для категории старых машин: ', \n",
    "       round(mean_squared_error(old_target, predictions_gbm) ** 0.5))\n"
   ]
  },
  {
   "cell_type": "code",
   "execution_count": 45,
   "metadata": {},
   "outputs": [
    {
     "name": "stdout",
     "output_type": "stream",
     "text": [
      "Средняя ошибка градиентного бустинга для категории ретро машин:  1175\n"
     ]
    }
   ],
   "source": [
    "best_gbm_model.fit(retro_features, retro_target)\n",
    "predictions_gbm = best_gbm_model.predict(retro_features)\n",
    "\n",
    "print ('Средняя ошибка градиентного бустинга для категории ретро машин: ', \n",
    "       round(mean_squared_error(retro_target, predictions_gbm) ** 0.5))"
   ]
  },
  {
   "cell_type": "markdown",
   "metadata": {},
   "source": [
    "Метрики модели улучшились - соответственно, ценообразование разное, чтобы модель лучше предсказывала стоимость авто, необходимо учитывать, что для разных возрастных категорий машин - нужны разные модели."
   ]
  },
  {
   "cell_type": "markdown",
   "metadata": {},
   "source": [
    "**Вывод:**\n",
    "\n",
    "Исходя из критериев заказчика, наиболее подходящая модель для определения стоимости автомобиля - модель градиентного бустинга. Данная модель быстрее других обучается, однако на предсказания тратит больше времени. Модель имеет наименьшую среднюю ошибку предсказаний. Для более точного прогнозирования стоимости авто, данные необходимо категоризировать по возрасту машин, для разных категорий - разное ценообразование."
   ]
  },
  {
   "cell_type": "markdown",
   "metadata": {},
   "source": [
    "**Тестирование модели**"
   ]
  },
  {
   "cell_type": "markdown",
   "metadata": {},
   "source": [
    "Проверим модель на тестовой выборке."
   ]
  },
  {
   "cell_type": "code",
   "execution_count": 46,
   "metadata": {},
   "outputs": [
    {
     "name": "stdout",
     "output_type": "stream",
     "text": [
      "Качество модели на тестовой выборке:  1485\n"
     ]
    }
   ],
   "source": [
    "best_gbm_model.fit(features_train, target_train)\n",
    "prediction = best_gbm_model.predict(features_test)\n",
    "\n",
    "print ('Качество модели на тестовой выборке: ', round(mean_squared_error(target_test, prediction) ** 0.5 ))"
   ]
  },
  {
   "cell_type": "markdown",
   "metadata": {},
   "source": [
    "Проверим модель на адекватность - сравним с константной моделью DummyRegressor."
   ]
  },
  {
   "cell_type": "code",
   "execution_count": 47,
   "metadata": {},
   "outputs": [
    {
     "name": "stdout",
     "output_type": "stream",
     "text": [
      "Качество модели на тестовой выборке:  4599\n"
     ]
    }
   ],
   "source": [
    "model = DummyRegressor(strategy = 'mean')\n",
    "model.fit(features_train, target_train)\n",
    "prediction = model.predict(features_test)\n",
    "\n",
    "print ('Качество модели на тестовой выборке: ', round(mean_squared_error(target_test, prediction) ** 0.5 ))"
   ]
  },
  {
   "cell_type": "markdown",
   "metadata": {},
   "source": [
    "Модель градиентного бустинга показала себя с лучшей стороны, в отличии от дамми-модели."
   ]
  },
  {
   "cell_type": "markdown",
   "metadata": {},
   "source": [
    "**Вывод:**\n",
    "\n",
    "Задача проекта - построить модель для определения стоимости автомобиля выполнена.\n",
    "\n",
    "Выбрана наилучшая модель - LightGBM. Модель удовлетворяет требованиям заказчика - скорость обучения, скорость предсказаний, качество предсказаний.\n",
    "\n",
    "В исследовании были выполнены следующие шаги:\n",
    "\n",
    "Подготовлены данные:\n",
    "* Очищены от неинформативных признаков\n",
    "* Обработаны пропуски и аномалии в данных\n",
    "* Подготовлены выборки\n",
    "* Признаки стандартизированы и закодированы\n",
    "\n",
    "Обучение модели:\n",
    "* Обучено несколько моделей\n",
    "* Оценено качество и скорость моделей и выбрана наиболее эффективная\n",
    "* Лучшая модель протестирована\n"
   ]
  },
  {
   "cell_type": "code",
   "execution_count": null,
   "metadata": {},
   "outputs": [],
   "source": []
  }
 ],
 "metadata": {
  "ExecuteTimeLog": [
   {
    "duration": 422,
    "start_time": "2022-08-24T12:34:16.023Z"
   },
   {
    "duration": 1549,
    "start_time": "2022-08-28T09:38:12.228Z"
   },
   {
    "duration": 10,
    "start_time": "2022-08-28T09:38:36.626Z"
   },
   {
    "duration": 6449,
    "start_time": "2022-08-28T09:39:09.995Z"
   },
   {
    "duration": 3137,
    "start_time": "2022-08-28T09:39:18.941Z"
   },
   {
    "duration": 112,
    "start_time": "2022-08-28T09:39:22.080Z"
   },
   {
    "duration": 39,
    "start_time": "2022-08-28T09:39:22.193Z"
   },
   {
    "duration": 75,
    "start_time": "2022-08-28T09:40:29.764Z"
   },
   {
    "duration": 21,
    "start_time": "2022-08-28T09:40:30.245Z"
   },
   {
    "duration": 72,
    "start_time": "2022-08-28T09:40:30.611Z"
   },
   {
    "duration": 86,
    "start_time": "2022-08-28T09:40:30.912Z"
   },
   {
    "duration": 69,
    "start_time": "2022-08-28T09:40:31.165Z"
   },
   {
    "duration": 254,
    "start_time": "2022-08-28T09:40:31.424Z"
   },
   {
    "duration": 21,
    "start_time": "2022-08-28T09:40:32.098Z"
   },
   {
    "duration": 16,
    "start_time": "2022-08-28T09:40:32.396Z"
   },
   {
    "duration": 15177,
    "start_time": "2022-08-28T09:41:01.998Z"
   },
   {
    "duration": 14114,
    "start_time": "2022-08-28T09:42:07.313Z"
   },
   {
    "duration": 13938,
    "start_time": "2022-08-28T09:42:35.961Z"
   },
   {
    "duration": 276,
    "start_time": "2022-08-28T09:43:30.960Z"
   },
   {
    "duration": 14200,
    "start_time": "2022-08-28T09:47:37.083Z"
   },
   {
    "duration": 103,
    "start_time": "2022-08-28T09:47:51.285Z"
   },
   {
    "duration": 15,
    "start_time": "2022-08-28T09:51:40.597Z"
   },
   {
    "duration": 30,
    "start_time": "2022-08-28T09:52:38.745Z"
   },
   {
    "duration": 27,
    "start_time": "2022-08-28T09:52:47.985Z"
   },
   {
    "duration": 31,
    "start_time": "2022-08-28T09:52:59.710Z"
   },
   {
    "duration": 60,
    "start_time": "2022-08-28T09:53:50.407Z"
   },
   {
    "duration": 21,
    "start_time": "2022-08-28T09:54:33.941Z"
   },
   {
    "duration": 17,
    "start_time": "2022-08-28T09:55:16.373Z"
   },
   {
    "duration": 3599,
    "start_time": "2022-08-28T09:55:20.268Z"
   },
   {
    "duration": 662,
    "start_time": "2022-08-28T09:55:23.869Z"
   },
   {
    "duration": 119,
    "start_time": "2022-08-28T09:55:24.532Z"
   },
   {
    "duration": 33,
    "start_time": "2022-08-28T09:55:24.653Z"
   },
   {
    "duration": 83,
    "start_time": "2022-08-28T09:55:24.688Z"
   },
   {
    "duration": 18,
    "start_time": "2022-08-28T09:55:24.772Z"
   },
   {
    "duration": 82,
    "start_time": "2022-08-28T09:55:24.792Z"
   },
   {
    "duration": 80,
    "start_time": "2022-08-28T09:55:24.875Z"
   },
   {
    "duration": 73,
    "start_time": "2022-08-28T09:55:24.957Z"
   },
   {
    "duration": 228,
    "start_time": "2022-08-28T09:55:25.032Z"
   },
   {
    "duration": 17,
    "start_time": "2022-08-28T09:55:25.261Z"
   },
   {
    "duration": 13,
    "start_time": "2022-08-28T09:55:25.280Z"
   },
   {
    "duration": 16646,
    "start_time": "2022-08-28T09:55:25.305Z"
   },
   {
    "duration": 130,
    "start_time": "2022-08-28T09:55:41.952Z"
   },
   {
    "duration": 568,
    "start_time": "2022-08-28T09:55:42.084Z"
   },
   {
    "duration": 26,
    "start_time": "2022-08-28T09:55:42.654Z"
   },
   {
    "duration": 24,
    "start_time": "2022-08-28T09:55:47.528Z"
   },
   {
    "duration": 78,
    "start_time": "2022-08-28T09:55:59.166Z"
   },
   {
    "duration": 17,
    "start_time": "2022-08-28T09:56:14.823Z"
   },
   {
    "duration": 96,
    "start_time": "2022-08-28T09:56:52.312Z"
   },
   {
    "duration": 16,
    "start_time": "2022-08-28T09:56:53.240Z"
   },
   {
    "duration": 24,
    "start_time": "2022-08-28T09:59:20.195Z"
   },
   {
    "duration": 779,
    "start_time": "2022-08-28T10:00:03.956Z"
   },
   {
    "duration": 85,
    "start_time": "2022-08-28T10:02:56.773Z"
   },
   {
    "duration": 212,
    "start_time": "2022-08-28T10:03:00.854Z"
   },
   {
    "duration": 19,
    "start_time": "2022-08-28T10:03:28.371Z"
   },
   {
    "duration": 4,
    "start_time": "2022-08-28T10:05:29.600Z"
   },
   {
    "duration": 316,
    "start_time": "2022-08-28T10:06:18.337Z"
   },
   {
    "duration": 15,
    "start_time": "2022-08-28T10:06:30.037Z"
   },
   {
    "duration": 161,
    "start_time": "2022-08-28T10:07:43.176Z"
   },
   {
    "duration": 24598,
    "start_time": "2022-08-28T10:09:23.451Z"
   },
   {
    "duration": 263,
    "start_time": "2022-08-28T10:10:13.979Z"
   },
   {
    "duration": 233,
    "start_time": "2022-08-28T10:10:20.234Z"
   },
   {
    "duration": 257,
    "start_time": "2022-08-28T10:11:06.405Z"
   },
   {
    "duration": 751,
    "start_time": "2022-08-28T10:14:42.380Z"
   },
   {
    "duration": 35,
    "start_time": "2022-08-28T10:14:48.106Z"
   },
   {
    "duration": 810,
    "start_time": "2022-08-28T10:15:16.200Z"
   },
   {
    "duration": 25,
    "start_time": "2022-08-28T10:15:25.956Z"
   },
   {
    "duration": 28,
    "start_time": "2022-08-28T10:16:29.564Z"
   },
   {
    "duration": 601,
    "start_time": "2022-08-28T10:16:29.970Z"
   },
   {
    "duration": 22,
    "start_time": "2022-08-28T10:16:31.771Z"
   },
   {
    "duration": 170,
    "start_time": "2022-08-28T10:17:25.078Z"
   },
   {
    "duration": 309,
    "start_time": "2022-08-28T10:17:57.130Z"
   },
   {
    "duration": 23769,
    "start_time": "2022-08-28T10:18:27.943Z"
   },
   {
    "duration": 114,
    "start_time": "2022-08-28T10:20:26.800Z"
   },
   {
    "duration": 263189,
    "start_time": "2022-08-28T10:20:39.707Z"
   },
   {
    "duration": 168348,
    "start_time": "2022-08-28T10:25:04.573Z"
   },
   {
    "duration": 61848,
    "start_time": "2022-08-28T10:27:56.359Z"
   },
   {
    "duration": 46678,
    "start_time": "2022-08-28T10:37:45.889Z"
   },
   {
    "duration": 47233,
    "start_time": "2022-08-28T10:39:14.783Z"
   },
   {
    "duration": 76,
    "start_time": "2022-08-28T10:43:14.656Z"
   },
   {
    "duration": 14,
    "start_time": "2022-08-28T10:46:13.899Z"
   },
   {
    "duration": 72,
    "start_time": "2022-08-28T10:51:46.625Z"
   },
   {
    "duration": 5,
    "start_time": "2022-08-28T10:51:53.242Z"
   },
   {
    "duration": 4,
    "start_time": "2022-08-28T10:52:05.345Z"
   },
   {
    "duration": 100,
    "start_time": "2022-08-28T10:54:16.082Z"
   },
   {
    "duration": 81,
    "start_time": "2022-08-28T10:54:19.387Z"
   },
   {
    "duration": 59,
    "start_time": "2022-08-28T10:54:26.857Z"
   },
   {
    "duration": 48049,
    "start_time": "2022-08-28T10:54:45.301Z"
   },
   {
    "duration": 32,
    "start_time": "2022-08-28T10:55:47.718Z"
   },
   {
    "duration": 208,
    "start_time": "2022-08-28T10:55:50.907Z"
   },
   {
    "duration": 32,
    "start_time": "2022-08-28T10:57:39.771Z"
   },
   {
    "duration": 77,
    "start_time": "2022-08-28T10:58:20.600Z"
   },
   {
    "duration": 46,
    "start_time": "2022-08-28T10:58:29.931Z"
   },
   {
    "duration": 5009,
    "start_time": "2022-08-28T10:59:03.878Z"
   },
   {
    "duration": 694,
    "start_time": "2022-08-28T10:59:08.889Z"
   },
   {
    "duration": 134,
    "start_time": "2022-08-28T10:59:09.585Z"
   },
   {
    "duration": 47,
    "start_time": "2022-08-28T10:59:09.722Z"
   },
   {
    "duration": 101,
    "start_time": "2022-08-28T10:59:09.771Z"
   },
   {
    "duration": 34,
    "start_time": "2022-08-28T10:59:09.874Z"
   },
   {
    "duration": 86,
    "start_time": "2022-08-28T10:59:09.909Z"
   },
   {
    "duration": 103,
    "start_time": "2022-08-28T10:59:10.006Z"
   },
   {
    "duration": 98,
    "start_time": "2022-08-28T10:59:10.111Z"
   },
   {
    "duration": 295,
    "start_time": "2022-08-28T10:59:10.212Z"
   },
   {
    "duration": 20,
    "start_time": "2022-08-28T10:59:10.509Z"
   },
   {
    "duration": 15,
    "start_time": "2022-08-28T10:59:10.531Z"
   },
   {
    "duration": 16846,
    "start_time": "2022-08-28T10:59:10.548Z"
   },
   {
    "duration": 220,
    "start_time": "2022-08-28T10:59:27.395Z"
   },
   {
    "duration": 867,
    "start_time": "2022-08-28T10:59:27.617Z"
   },
   {
    "duration": 28,
    "start_time": "2022-08-28T10:59:28.486Z"
   },
   {
    "duration": 23,
    "start_time": "2022-08-28T10:59:28.516Z"
   },
   {
    "duration": 104,
    "start_time": "2022-08-28T10:59:28.540Z"
   },
   {
    "duration": 10,
    "start_time": "2022-08-28T10:59:28.646Z"
   },
   {
    "duration": 696,
    "start_time": "2022-08-28T10:59:28.658Z"
   },
   {
    "duration": 817,
    "start_time": "2022-08-28T10:59:29.355Z"
   },
   {
    "duration": 33,
    "start_time": "2022-08-28T10:59:30.174Z"
   },
   {
    "duration": 882,
    "start_time": "2022-08-28T10:59:30.208Z"
   },
   {
    "duration": 338,
    "start_time": "2022-08-28T10:59:31.091Z"
   },
   {
    "duration": 23986,
    "start_time": "2022-08-28T10:59:31.431Z"
   },
   {
    "duration": 8249,
    "start_time": "2022-08-28T10:59:55.419Z"
   },
   {
    "duration": 4921,
    "start_time": "2022-08-28T11:03:21.125Z"
   },
   {
    "duration": 773,
    "start_time": "2022-08-28T11:03:26.049Z"
   },
   {
    "duration": 119,
    "start_time": "2022-08-28T11:03:26.824Z"
   },
   {
    "duration": 38,
    "start_time": "2022-08-28T11:03:26.945Z"
   },
   {
    "duration": 84,
    "start_time": "2022-08-28T11:03:26.985Z"
   },
   {
    "duration": 22,
    "start_time": "2022-08-28T11:03:27.070Z"
   },
   {
    "duration": 82,
    "start_time": "2022-08-28T11:03:27.094Z"
   },
   {
    "duration": 81,
    "start_time": "2022-08-28T11:03:27.177Z"
   },
   {
    "duration": 86,
    "start_time": "2022-08-28T11:03:27.260Z"
   },
   {
    "duration": 240,
    "start_time": "2022-08-28T11:03:27.348Z"
   },
   {
    "duration": 22,
    "start_time": "2022-08-28T11:03:27.589Z"
   },
   {
    "duration": 13,
    "start_time": "2022-08-28T11:03:27.613Z"
   },
   {
    "duration": 16225,
    "start_time": "2022-08-28T11:03:27.628Z"
   },
   {
    "duration": 266,
    "start_time": "2022-08-28T11:03:43.856Z"
   },
   {
    "duration": 861,
    "start_time": "2022-08-28T11:03:44.123Z"
   },
   {
    "duration": 28,
    "start_time": "2022-08-28T11:03:44.986Z"
   },
   {
    "duration": 23,
    "start_time": "2022-08-28T11:03:45.015Z"
   },
   {
    "duration": 102,
    "start_time": "2022-08-28T11:03:45.040Z"
   },
   {
    "duration": 10,
    "start_time": "2022-08-28T11:03:45.143Z"
   },
   {
    "duration": 694,
    "start_time": "2022-08-28T11:03:45.155Z"
   },
   {
    "duration": 877,
    "start_time": "2022-08-28T11:03:45.850Z"
   },
   {
    "duration": 23,
    "start_time": "2022-08-28T11:03:46.729Z"
   },
   {
    "duration": 850,
    "start_time": "2022-08-28T11:03:46.753Z"
   },
   {
    "duration": 292,
    "start_time": "2022-08-28T11:03:47.605Z"
   },
   {
    "duration": 22738,
    "start_time": "2022-08-28T11:03:47.899Z"
   },
   {
    "duration": 5055,
    "start_time": "2022-08-28T11:04:10.638Z"
   },
   {
    "duration": 113913,
    "start_time": "2022-08-28T11:04:15.695Z"
   },
   {
    "duration": 3839,
    "start_time": "2022-08-28T11:06:09.610Z"
   },
   {
    "duration": 155,
    "start_time": "2022-08-28T11:06:13.451Z"
   },
   {
    "duration": 81528,
    "start_time": "2022-08-28T11:06:13.608Z"
   },
   {
    "duration": 205,
    "start_time": "2022-08-28T11:07:35.138Z"
   },
   {
    "duration": 62,
    "start_time": "2022-08-28T11:07:35.344Z"
   },
   {
    "duration": 14707,
    "start_time": "2022-08-28T11:07:35.408Z"
   },
   {
    "duration": 8,
    "start_time": "2022-08-28T11:07:50.117Z"
   },
   {
    "duration": 47314,
    "start_time": "2022-08-28T11:07:50.127Z"
   },
   {
    "duration": 15,
    "start_time": "2022-08-28T11:08:37.442Z"
   },
   {
    "duration": 61,
    "start_time": "2022-08-28T11:08:37.458Z"
   },
   {
    "duration": 188,
    "start_time": "2022-08-28T11:08:37.520Z"
   },
   {
    "duration": 0,
    "start_time": "2022-08-28T11:08:37.709Z"
   },
   {
    "duration": 0,
    "start_time": "2022-08-28T11:08:37.711Z"
   },
   {
    "duration": 8553,
    "start_time": "2022-08-29T07:40:39.136Z"
   },
   {
    "duration": 1153,
    "start_time": "2022-08-29T07:40:47.691Z"
   },
   {
    "duration": 169,
    "start_time": "2022-08-29T07:40:48.847Z"
   },
   {
    "duration": 44,
    "start_time": "2022-08-29T07:40:49.019Z"
   },
   {
    "duration": 133,
    "start_time": "2022-08-29T07:40:49.066Z"
   },
   {
    "duration": 28,
    "start_time": "2022-08-29T07:40:49.201Z"
   },
   {
    "duration": 124,
    "start_time": "2022-08-29T07:40:49.232Z"
   },
   {
    "duration": 111,
    "start_time": "2022-08-29T07:40:49.358Z"
   },
   {
    "duration": 323,
    "start_time": "2022-08-29T07:40:49.471Z"
   },
   {
    "duration": 338,
    "start_time": "2022-08-29T07:40:49.797Z"
   },
   {
    "duration": 25,
    "start_time": "2022-08-29T07:40:50.137Z"
   },
   {
    "duration": 30,
    "start_time": "2022-08-29T07:40:50.164Z"
   },
   {
    "duration": 19626,
    "start_time": "2022-08-29T07:40:51.368Z"
   },
   {
    "duration": 230,
    "start_time": "2022-08-29T07:41:10.997Z"
   },
   {
    "duration": 977,
    "start_time": "2022-08-29T07:41:11.229Z"
   },
   {
    "duration": 33,
    "start_time": "2022-08-29T07:41:12.208Z"
   },
   {
    "duration": 36,
    "start_time": "2022-08-29T07:41:12.242Z"
   },
   {
    "duration": 147,
    "start_time": "2022-08-29T07:41:12.288Z"
   },
   {
    "duration": 18,
    "start_time": "2022-08-29T07:41:12.437Z"
   },
   {
    "duration": 751,
    "start_time": "2022-08-29T07:41:32.311Z"
   },
   {
    "duration": 940,
    "start_time": "2022-08-29T07:41:33.818Z"
   },
   {
    "duration": 30,
    "start_time": "2022-08-29T07:42:14.169Z"
   },
   {
    "duration": 28,
    "start_time": "2022-08-29T07:42:54.982Z"
   },
   {
    "duration": 908,
    "start_time": "2022-08-29T07:42:56.821Z"
   },
   {
    "duration": 421,
    "start_time": "2022-08-29T07:43:05.244Z"
   },
   {
    "duration": 26844,
    "start_time": "2022-08-29T07:43:33.790Z"
   },
   {
    "duration": 12406,
    "start_time": "2022-08-29T07:44:00.636Z"
   },
   {
    "duration": 77599,
    "start_time": "2022-08-29T07:46:56.810Z"
   },
   {
    "duration": 124810,
    "start_time": "2022-08-29T07:50:08.362Z"
   },
   {
    "duration": 30769,
    "start_time": "2022-08-29T07:52:20.120Z"
   },
   {
    "duration": 25683,
    "start_time": "2022-08-29T07:52:58.606Z"
   },
   {
    "duration": 4448,
    "start_time": "2022-08-29T07:53:30.518Z"
   },
   {
    "duration": 133,
    "start_time": "2022-08-29T07:53:34.968Z"
   },
   {
    "duration": 20820,
    "start_time": "2022-08-29T07:53:35.188Z"
   },
   {
    "duration": 165,
    "start_time": "2022-08-29T07:53:58.010Z"
   },
   {
    "duration": 15,
    "start_time": "2022-08-29T07:53:58.600Z"
   },
   {
    "duration": 22,
    "start_time": "2022-08-29T07:53:59.199Z"
   },
   {
    "duration": 7,
    "start_time": "2022-08-29T07:54:06.950Z"
   },
   {
    "duration": 54888,
    "start_time": "2022-08-29T07:54:11.013Z"
   },
   {
    "duration": 18,
    "start_time": "2022-08-29T07:55:05.903Z"
   },
   {
    "duration": 51,
    "start_time": "2022-08-29T07:55:08.764Z"
   },
   {
    "duration": 221,
    "start_time": "2022-08-29T07:55:09.606Z"
   },
   {
    "duration": 48,
    "start_time": "2022-08-29T07:55:51.815Z"
   },
   {
    "duration": 68,
    "start_time": "2022-08-29T07:56:04.385Z"
   },
   {
    "duration": 59,
    "start_time": "2022-08-29T07:56:27.409Z"
   },
   {
    "duration": 71,
    "start_time": "2022-08-29T07:56:42.911Z"
   },
   {
    "duration": 99,
    "start_time": "2022-08-29T07:58:22.139Z"
   },
   {
    "duration": 143,
    "start_time": "2022-08-29T07:59:08.486Z"
   },
   {
    "duration": 192,
    "start_time": "2022-08-29T07:59:16.867Z"
   },
   {
    "duration": 249,
    "start_time": "2022-08-29T07:59:36.258Z"
   },
   {
    "duration": 119,
    "start_time": "2022-08-29T07:59:46.926Z"
   },
   {
    "duration": 138,
    "start_time": "2022-08-29T07:59:55.896Z"
   },
   {
    "duration": 137,
    "start_time": "2022-08-29T08:00:00.539Z"
   },
   {
    "duration": 131,
    "start_time": "2022-08-29T08:00:26.840Z"
   },
   {
    "duration": 142,
    "start_time": "2022-08-29T08:00:31.480Z"
   },
   {
    "duration": 132,
    "start_time": "2022-08-29T08:01:14.214Z"
   },
   {
    "duration": 161,
    "start_time": "2022-08-29T08:06:21.807Z"
   },
   {
    "duration": 171,
    "start_time": "2022-08-29T08:06:44.999Z"
   },
   {
    "duration": 154,
    "start_time": "2022-08-29T08:06:52.656Z"
   },
   {
    "duration": 152,
    "start_time": "2022-08-29T08:07:11.274Z"
   },
   {
    "duration": 163,
    "start_time": "2022-08-29T08:07:53.263Z"
   },
   {
    "duration": 184,
    "start_time": "2022-08-29T08:08:40.990Z"
   },
   {
    "duration": 172,
    "start_time": "2022-08-29T08:08:59.305Z"
   },
   {
    "duration": 160,
    "start_time": "2022-08-29T08:09:08.804Z"
   },
   {
    "duration": 158,
    "start_time": "2022-08-29T08:09:22.145Z"
   },
   {
    "duration": 158,
    "start_time": "2022-08-29T08:09:34.770Z"
   },
   {
    "duration": 183,
    "start_time": "2022-08-29T08:09:43.409Z"
   },
   {
    "duration": 145,
    "start_time": "2022-08-29T08:09:51.913Z"
   },
   {
    "duration": 52082,
    "start_time": "2022-08-29T08:10:51.976Z"
   },
   {
    "duration": 18604,
    "start_time": "2022-08-29T08:12:25.728Z"
   },
   {
    "duration": 1993,
    "start_time": "2022-08-29T08:12:50.940Z"
   },
   {
    "duration": 157,
    "start_time": "2022-08-29T08:15:04.805Z"
   },
   {
    "duration": 53037,
    "start_time": "2022-08-29T08:19:27.105Z"
   },
   {
    "duration": 74080,
    "start_time": "2022-08-29T08:24:58.228Z"
   },
   {
    "duration": 73127,
    "start_time": "2022-08-29T08:26:39.925Z"
   },
   {
    "duration": 71216,
    "start_time": "2022-08-29T08:28:22.667Z"
   },
   {
    "duration": 5,
    "start_time": "2022-08-29T08:29:40.037Z"
   },
   {
    "duration": 262,
    "start_time": "2022-08-29T08:29:55.331Z"
   },
   {
    "duration": 284,
    "start_time": "2022-08-29T08:30:22.947Z"
   },
   {
    "duration": 305,
    "start_time": "2022-08-29T08:30:44.136Z"
   },
   {
    "duration": 275,
    "start_time": "2022-08-29T08:30:53.819Z"
   },
   {
    "duration": 280,
    "start_time": "2022-08-29T08:31:02.293Z"
   },
   {
    "duration": 327,
    "start_time": "2022-08-29T08:31:10.478Z"
   },
   {
    "duration": 284,
    "start_time": "2022-08-29T08:31:19.908Z"
   },
   {
    "duration": 278,
    "start_time": "2022-08-29T08:31:34.907Z"
   },
   {
    "duration": 10,
    "start_time": "2022-08-29T08:32:45.141Z"
   },
   {
    "duration": 4,
    "start_time": "2022-08-29T08:32:52.968Z"
   },
   {
    "duration": 354,
    "start_time": "2022-08-29T08:33:17.250Z"
   },
   {
    "duration": 272,
    "start_time": "2022-08-29T08:33:26.702Z"
   },
   {
    "duration": 318,
    "start_time": "2022-08-29T08:33:39.123Z"
   },
   {
    "duration": 308,
    "start_time": "2022-08-29T08:33:53.356Z"
   },
   {
    "duration": 517,
    "start_time": "2022-08-29T08:34:41.232Z"
   },
   {
    "duration": 576,
    "start_time": "2022-08-29T08:34:46.714Z"
   },
   {
    "duration": 732,
    "start_time": "2022-08-29T08:35:02.123Z"
   },
   {
    "duration": 620,
    "start_time": "2022-08-29T08:35:06.321Z"
   },
   {
    "duration": 656,
    "start_time": "2022-08-29T08:35:21.110Z"
   },
   {
    "duration": 256,
    "start_time": "2022-08-29T08:37:45.556Z"
   },
   {
    "duration": 422,
    "start_time": "2022-08-29T08:37:58.549Z"
   },
   {
    "duration": 716,
    "start_time": "2022-08-29T08:38:05.824Z"
   },
   {
    "duration": 860,
    "start_time": "2022-08-29T08:38:17.719Z"
   },
   {
    "duration": 865,
    "start_time": "2022-08-29T08:41:19.898Z"
   },
   {
    "duration": 857,
    "start_time": "2022-08-29T08:41:35.564Z"
   },
   {
    "duration": 539,
    "start_time": "2022-08-29T08:42:22.351Z"
   },
   {
    "duration": 859,
    "start_time": "2022-08-29T08:42:37.173Z"
   },
   {
    "duration": 514,
    "start_time": "2022-08-29T08:43:47.323Z"
   },
   {
    "duration": 813,
    "start_time": "2022-08-29T08:44:34.652Z"
   },
   {
    "duration": 863,
    "start_time": "2022-08-29T08:44:48.862Z"
   },
   {
    "duration": 906,
    "start_time": "2022-08-29T08:45:06.127Z"
   },
   {
    "duration": 1231,
    "start_time": "2022-08-29T08:46:42.437Z"
   },
   {
    "duration": 84,
    "start_time": "2022-08-29T08:52:16.275Z"
   },
   {
    "duration": 5622,
    "start_time": "2022-08-29T08:54:24.331Z"
   },
   {
    "duration": 803,
    "start_time": "2022-08-29T08:54:29.955Z"
   },
   {
    "duration": 166,
    "start_time": "2022-08-29T08:54:30.760Z"
   },
   {
    "duration": 49,
    "start_time": "2022-08-29T08:54:30.928Z"
   },
   {
    "duration": 108,
    "start_time": "2022-08-29T08:54:30.986Z"
   },
   {
    "duration": 36,
    "start_time": "2022-08-29T08:54:31.095Z"
   },
   {
    "duration": 106,
    "start_time": "2022-08-29T08:54:31.132Z"
   },
   {
    "duration": 95,
    "start_time": "2022-08-29T08:54:31.240Z"
   },
   {
    "duration": 98,
    "start_time": "2022-08-29T08:54:31.337Z"
   },
   {
    "duration": 278,
    "start_time": "2022-08-29T08:54:31.438Z"
   },
   {
    "duration": 21,
    "start_time": "2022-08-29T08:54:31.718Z"
   },
   {
    "duration": 37,
    "start_time": "2022-08-29T08:54:31.740Z"
   },
   {
    "duration": 18935,
    "start_time": "2022-08-29T08:54:31.779Z"
   },
   {
    "duration": 269,
    "start_time": "2022-08-29T08:54:50.716Z"
   },
   {
    "duration": 936,
    "start_time": "2022-08-29T08:54:50.986Z"
   },
   {
    "duration": 31,
    "start_time": "2022-08-29T08:54:51.925Z"
   },
   {
    "duration": 38,
    "start_time": "2022-08-29T08:54:51.958Z"
   },
   {
    "duration": 111,
    "start_time": "2022-08-29T08:54:52.002Z"
   },
   {
    "duration": 10,
    "start_time": "2022-08-29T08:54:52.115Z"
   },
   {
    "duration": 737,
    "start_time": "2022-08-29T08:54:52.127Z"
   },
   {
    "duration": 891,
    "start_time": "2022-08-29T08:54:52.865Z"
   },
   {
    "duration": 35,
    "start_time": "2022-08-29T08:54:53.758Z"
   },
   {
    "duration": 857,
    "start_time": "2022-08-29T08:54:53.794Z"
   },
   {
    "duration": 337,
    "start_time": "2022-08-29T08:54:54.652Z"
   },
   {
    "duration": 26332,
    "start_time": "2022-08-29T08:54:54.990Z"
   },
   {
    "duration": 18068,
    "start_time": "2022-08-29T08:55:21.324Z"
   },
   {
    "duration": 77094,
    "start_time": "2022-08-29T08:55:39.395Z"
   },
   {
    "duration": 4197,
    "start_time": "2022-08-29T08:56:56.493Z"
   },
   {
    "duration": 196,
    "start_time": "2022-08-29T08:57:00.692Z"
   },
   {
    "duration": 70998,
    "start_time": "2022-08-29T08:57:00.890Z"
   },
   {
    "duration": 173,
    "start_time": "2022-08-29T08:58:11.890Z"
   },
   {
    "duration": 73,
    "start_time": "2022-08-29T08:58:12.064Z"
   },
   {
    "duration": 14478,
    "start_time": "2022-08-29T08:58:12.138Z"
   },
   {
    "duration": 78,
    "start_time": "2022-08-29T08:58:26.618Z"
   },
   {
    "duration": 0,
    "start_time": "2022-08-29T08:58:26.697Z"
   },
   {
    "duration": 0,
    "start_time": "2022-08-29T08:58:26.699Z"
   },
   {
    "duration": 0,
    "start_time": "2022-08-29T08:58:26.700Z"
   },
   {
    "duration": 0,
    "start_time": "2022-08-29T08:58:26.702Z"
   },
   {
    "duration": 0,
    "start_time": "2022-08-29T08:58:26.703Z"
   },
   {
    "duration": 0,
    "start_time": "2022-08-29T08:58:26.704Z"
   },
   {
    "duration": 0,
    "start_time": "2022-08-29T08:58:26.705Z"
   },
   {
    "duration": 0,
    "start_time": "2022-08-29T08:58:26.706Z"
   },
   {
    "duration": 0,
    "start_time": "2022-08-29T08:58:26.707Z"
   },
   {
    "duration": 17968,
    "start_time": "2022-08-29T08:58:41.924Z"
   },
   {
    "duration": 41,
    "start_time": "2022-08-29T09:00:15.037Z"
   },
   {
    "duration": 81983,
    "start_time": "2022-08-29T09:00:15.518Z"
   },
   {
    "duration": 188,
    "start_time": "2022-08-29T09:01:37.503Z"
   },
   {
    "duration": 15,
    "start_time": "2022-08-29T09:01:37.693Z"
   },
   {
    "duration": 15336,
    "start_time": "2022-08-29T09:01:37.789Z"
   },
   {
    "duration": 60,
    "start_time": "2022-08-29T09:01:53.127Z"
   },
   {
    "duration": 52873,
    "start_time": "2022-08-29T09:01:53.189Z"
   },
   {
    "duration": 26,
    "start_time": "2022-08-29T09:02:46.065Z"
   },
   {
    "duration": 171,
    "start_time": "2022-08-29T09:02:46.093Z"
   },
   {
    "duration": 71257,
    "start_time": "2022-08-29T09:02:46.266Z"
   },
   {
    "duration": 811,
    "start_time": "2022-08-29T09:03:57.525Z"
   },
   {
    "duration": 204404,
    "start_time": "2022-08-29T09:03:58.337Z"
   },
   {
    "duration": 76979,
    "start_time": "2022-08-29T09:08:22.438Z"
   },
   {
    "duration": 0,
    "start_time": "2022-08-29T09:09:39.419Z"
   },
   {
    "duration": 46846,
    "start_time": "2022-08-29T09:09:58.560Z"
   },
   {
    "duration": 20186,
    "start_time": "2022-08-29T09:10:45.407Z"
   },
   {
    "duration": 84,
    "start_time": "2022-08-29T09:26:06.292Z"
   }
  ],
  "kernelspec": {
   "display_name": "Python 3 (ipykernel)",
   "language": "python",
   "name": "python3"
  },
  "language_info": {
   "codemirror_mode": {
    "name": "ipython",
    "version": 3
   },
   "file_extension": ".py",
   "mimetype": "text/x-python",
   "name": "python",
   "nbconvert_exporter": "python",
   "pygments_lexer": "ipython3",
   "version": "3.9.7"
  },
  "toc": {
   "base_numbering": 1,
   "nav_menu": {},
   "number_sections": true,
   "sideBar": true,
   "skip_h1_title": true,
   "title_cell": "Table of Contents",
   "title_sidebar": "Contents",
   "toc_cell": false,
   "toc_position": {},
   "toc_section_display": true,
   "toc_window_display": false
  }
 },
 "nbformat": 4,
 "nbformat_minor": 2
}
